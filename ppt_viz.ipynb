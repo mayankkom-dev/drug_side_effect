{
 "cells": [
  {
   "cell_type": "code",
   "execution_count": null,
   "metadata": {},
   "outputs": [],
   "source": [
    "import matplotlib.pyplot as plt\n",
    "\n",
    "# Data for the chart\n",
    "total_visits = 100  # Total number of ED visits\n",
    "non_drug_related = 0.75 * total_visits  # Non-drug related cases (75%)\n",
    "drug_related = 0.25 * total_visits  # Drug-related cases (25%)\n",
    "adrs = (2 / 3) * drug_related  # ADRs within drug-related cases (2/3)\n",
    "\n",
    "# Pie chart data\n",
    "labels = ['Non-Drug Related', 'Non-ADR Drug Related', 'ADRs']\n",
    "sizes = [non_drug_related, drug_related - adrs, adrs]\n",
    "colors = ['#FFDD77', '#66B2FF', '#99FF99']  # Yellow shade as the primary color\n",
    "\n",
    "# Creating the pie chart\n",
    "plt.pie(sizes, colors=colors, autopct='%1.1f%%', startangle=90)\n",
    "\n",
    "# Create legend\n",
    "plt.legend(labels, bbox_to_anchor=(0.9, 0.9))\n",
    "\n",
    "# Add a title\n",
    "plt.title('ED Visits - Distribution')\n",
    "\n",
    "# Display the chart\n",
    "plt.show()\n"
   ]
  }
 ],
 "metadata": {
  "language_info": {
   "name": "python"
  },
  "orig_nbformat": 4
 },
 "nbformat": 4,
 "nbformat_minor": 2
}
