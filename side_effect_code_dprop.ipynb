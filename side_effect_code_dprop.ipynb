{
 "cells": [
  {
   "attachments": {},
   "cell_type": "markdown",
   "metadata": {},
   "source": [
    "### Imports"
   ]
  },
  {
   "cell_type": "code",
   "execution_count": 1,
   "metadata": {},
   "outputs": [
    {
     "name": "stderr",
     "output_type": "stream",
     "text": [
      "/home/mayank/miniconda3/envs/dsn/lib/python3.7/site-packages/tqdm/auto.py:22: TqdmWarning: IProgress not found. Please update jupyter and ipywidgets. See https://ipywidgets.readthedocs.io/en/stable/user_install.html\n",
      "  from .autonotebook import tqdm as notebook_tqdm\n"
     ]
    }
   ],
   "source": [
    "import pandas as pd\n",
    "import torch\n",
    "# set max num of rows and cols to display\n",
    "pd.set_option('display.max_rows', 1000)\n",
    "pd.set_option('display.max_columns', 1000)"
   ]
  },
  {
   "attachments": {},
   "cell_type": "markdown",
   "metadata": {},
   "source": [
    "### Read the pre-proceesed data"
   ]
  },
  {
   "cell_type": "code",
   "execution_count": 2,
   "metadata": {},
   "outputs": [],
   "source": [
    "drug_prop_cols = ['mw', 'polararea', 'complexity', 'heavycnt', 'hbonddonor', 'hbondacc', 'rotbonds', 'exactmass', 'monoisotopicmass', 'charge' , 'covalentunitcnt', 'isotopeatomcnt',\n",
    "                'totalatomstereocnt', 'definedatomstereocnt', 'undefinedatomstereocnt', 'totalbondstereocnt', 'definedbondstereocnt', 'undefinedbondstereocnt']"
   ]
  },
  {
   "cell_type": "code",
   "execution_count": 4,
   "metadata": {},
   "outputs": [
    {
     "data": {
      "text/html": [
       "<div>\n",
       "<style scoped>\n",
       "    .dataframe tbody tr th:only-of-type {\n",
       "        vertical-align: middle;\n",
       "    }\n",
       "\n",
       "    .dataframe tbody tr th {\n",
       "        vertical-align: top;\n",
       "    }\n",
       "\n",
       "    .dataframe thead th {\n",
       "        text-align: right;\n",
       "    }\n",
       "</style>\n",
       "<table border=\"1\" class=\"dataframe\">\n",
       "  <thead>\n",
       "    <tr style=\"text-align: right;\">\n",
       "      <th></th>\n",
       "      <th>STITCH ID STEREO</th>\n",
       "      <th>MEDRA TERM UMLS CONCEPT ID</th>\n",
       "      <th>se_count</th>\n",
       "      <th>cid</th>\n",
       "      <th>mw</th>\n",
       "      <th>mf</th>\n",
       "      <th>polararea</th>\n",
       "      <th>complexity</th>\n",
       "      <th>xlogp</th>\n",
       "      <th>heavycnt</th>\n",
       "      <th>hbonddonor</th>\n",
       "      <th>hbondacc</th>\n",
       "      <th>rotbonds</th>\n",
       "      <th>inchi</th>\n",
       "      <th>isosmiles</th>\n",
       "      <th>canonicalsmiles</th>\n",
       "      <th>inchikey</th>\n",
       "      <th>iupacname</th>\n",
       "      <th>exactmass</th>\n",
       "      <th>monoisotopicmass</th>\n",
       "      <th>charge</th>\n",
       "      <th>covalentunitcnt</th>\n",
       "      <th>isotopeatomcnt</th>\n",
       "      <th>totalatomstereocnt</th>\n",
       "      <th>definedatomstereocnt</th>\n",
       "      <th>undefinedatomstereocnt</th>\n",
       "      <th>totalbondstereocnt</th>\n",
       "      <th>definedbondstereocnt</th>\n",
       "      <th>undefinedbondstereocnt</th>\n",
       "      <th>pclidcnt</th>\n",
       "      <th>gpidcnt</th>\n",
       "      <th>gpfamilycnt</th>\n",
       "      <th>neighbortype</th>\n",
       "      <th>meshheadings</th>\n",
       "      <th>annothits</th>\n",
       "      <th>annothitcnt</th>\n",
       "      <th>aids</th>\n",
       "      <th>cidcdate</th>\n",
       "      <th>sidsrcname</th>\n",
       "      <th>depcatg</th>\n",
       "      <th>annotation</th>\n",
       "    </tr>\n",
       "  </thead>\n",
       "  <tbody>\n",
       "    <tr>\n",
       "      <th>0</th>\n",
       "      <td>CID000000119</td>\n",
       "      <td>['C0151828', 'C0030193', 'C0042109', 'C0002994...</td>\n",
       "      <td>5</td>\n",
       "      <td>119</td>\n",
       "      <td>103.12</td>\n",
       "      <td>C4H9NO2</td>\n",
       "      <td>63.3</td>\n",
       "      <td>62.7</td>\n",
       "      <td>-3.2</td>\n",
       "      <td>7</td>\n",
       "      <td>2</td>\n",
       "      <td>3</td>\n",
       "      <td>3</td>\n",
       "      <td>InChI=1S/C4H9NO2/c5-3-1-2-4(6)7/h1-3,5H2,(H,6,7)</td>\n",
       "      <td>C(CC(=O)O)CN</td>\n",
       "      <td>C(CC(=O)O)CN</td>\n",
       "      <td>BTCSSZJGUNDROE-UHFFFAOYSA-N</td>\n",
       "      <td>4-aminobutanoic acid</td>\n",
       "      <td>103.0630</td>\n",
       "      <td>103.0630</td>\n",
       "      <td>0</td>\n",
       "      <td>1</td>\n",
       "      <td>0</td>\n",
       "      <td>0</td>\n",
       "      <td>0</td>\n",
       "      <td>0</td>\n",
       "      <td>0</td>\n",
       "      <td>0</td>\n",
       "      <td>0</td>\n",
       "      <td>82230</td>\n",
       "      <td>34891</td>\n",
       "      <td>13769</td>\n",
       "      <td>2D+3D</td>\n",
       "      <td>gamma-Aminobutyric Acid</td>\n",
       "      <td>Biological Test Results|Chemical and Physical ...</td>\n",
       "      <td>15</td>\n",
       "      <td>155|157|161|165|167|175|190|248|328|357|410|41...</td>\n",
       "      <td>20040916</td>\n",
       "      <td>001Chemical|3B Scientific (Wuhan) Corp|3WAY PH...</td>\n",
       "      <td>Chemical Vendors|Curation Efforts|Governmental...</td>\n",
       "      <td>COVID-19, COVID19, Coronavirus, Corona-virus, ...</td>\n",
       "    </tr>\n",
       "    <tr>\n",
       "      <th>1</th>\n",
       "      <td>CID000000137</td>\n",
       "      <td>['C0027497', 'C0017178', 'C0332534', 'C0042109...</td>\n",
       "      <td>79</td>\n",
       "      <td>137</td>\n",
       "      <td>131.13</td>\n",
       "      <td>C5H9NO3</td>\n",
       "      <td>80.4</td>\n",
       "      <td>121.0</td>\n",
       "      <td>-3.8</td>\n",
       "      <td>9</td>\n",
       "      <td>2</td>\n",
       "      <td>4</td>\n",
       "      <td>4</td>\n",
       "      <td>InChI=1S/C5H9NO3/c6-3-4(7)1-2-5(8)9/h1-3,6H2,(...</td>\n",
       "      <td>C(CC(=O)O)C(=O)CN</td>\n",
       "      <td>C(CC(=O)O)C(=O)CN</td>\n",
       "      <td>ZGXJTSGNIOSYLO-UHFFFAOYSA-N</td>\n",
       "      <td>5-amino-4-oxopentanoic acid</td>\n",
       "      <td>131.0580</td>\n",
       "      <td>131.0580</td>\n",
       "      <td>0</td>\n",
       "      <td>1</td>\n",
       "      <td>0</td>\n",
       "      <td>0</td>\n",
       "      <td>0</td>\n",
       "      <td>0</td>\n",
       "      <td>0</td>\n",
       "      <td>0</td>\n",
       "      <td>0</td>\n",
       "      <td>12437</td>\n",
       "      <td>14305</td>\n",
       "      <td>4919</td>\n",
       "      <td>2D+3D</td>\n",
       "      <td>Aminolevulinic Acid</td>\n",
       "      <td>Biological Test Results|Chemical and Physical ...</td>\n",
       "      <td>14</td>\n",
       "      <td>1511|1554|1662|1663|1672|1813|1814|1832|1850|1...</td>\n",
       "      <td>20040916</td>\n",
       "      <td>001Chemical|3B Scientific (Wuhan) Corp|3WAY PH...</td>\n",
       "      <td>Chemical Vendors|Curation Efforts|Governmental...</td>\n",
       "      <td>NaN</td>\n",
       "    </tr>\n",
       "    <tr>\n",
       "      <th>2</th>\n",
       "      <td>CID000000175</td>\n",
       "      <td>['C0020488', 'C0030193', 'C0018965', 'C0001122']</td>\n",
       "      <td>4</td>\n",
       "      <td>175</td>\n",
       "      <td>59.04</td>\n",
       "      <td>C2H3O2-</td>\n",
       "      <td>40.1</td>\n",
       "      <td>25.5</td>\n",
       "      <td>0.4</td>\n",
       "      <td>4</td>\n",
       "      <td>0</td>\n",
       "      <td>2</td>\n",
       "      <td>0</td>\n",
       "      <td>InChI=1S/C2H4O2/c1-2(3)4/h1H3,(H,3,4)/p-1</td>\n",
       "      <td>CC(=O)[O-]</td>\n",
       "      <td>CC(=O)[O-]</td>\n",
       "      <td>QTBSBXVTEAMEQO-UHFFFAOYSA-M</td>\n",
       "      <td>acetate</td>\n",
       "      <td>59.0133</td>\n",
       "      <td>59.0133</td>\n",
       "      <td>-1</td>\n",
       "      <td>1</td>\n",
       "      <td>0</td>\n",
       "      <td>0</td>\n",
       "      <td>0</td>\n",
       "      <td>0</td>\n",
       "      <td>0</td>\n",
       "      <td>0</td>\n",
       "      <td>0</td>\n",
       "      <td>44665</td>\n",
       "      <td>2166</td>\n",
       "      <td>1375</td>\n",
       "      <td>2D+3D</td>\n",
       "      <td>Acetates</td>\n",
       "      <td>Biological Test Results|Classification|Drug an...</td>\n",
       "      <td>11</td>\n",
       "      <td>1803442</td>\n",
       "      <td>20040916</td>\n",
       "      <td>AAA Chemistry|ABI Chem|AKos Consulting &amp; Solut...</td>\n",
       "      <td>Chemical Vendors|Curation Efforts|Governmental...</td>\n",
       "      <td>NaN</td>\n",
       "    </tr>\n",
       "    <tr>\n",
       "      <th>3</th>\n",
       "      <td>CID000000187</td>\n",
       "      <td>['C0020458', 'C0010037', 'C0020649', 'C0016382...</td>\n",
       "      <td>7</td>\n",
       "      <td>187</td>\n",
       "      <td>146.21</td>\n",
       "      <td>C7H16NO2+</td>\n",
       "      <td>26.3</td>\n",
       "      <td>115.0</td>\n",
       "      <td>0.2</td>\n",
       "      <td>10</td>\n",
       "      <td>0</td>\n",
       "      <td>2</td>\n",
       "      <td>4</td>\n",
       "      <td>InChI=1S/C7H16NO2/c1-7(9)10-6-5-8(2,3)4/h5-6H2...</td>\n",
       "      <td>CC(=O)OCC[N+](C)(C)C</td>\n",
       "      <td>CC(=O)OCC[N+](C)(C)C</td>\n",
       "      <td>OIPILFWXSMYKGL-UHFFFAOYSA-N</td>\n",
       "      <td>2-acetyloxyethyl(trimethyl)azanium</td>\n",
       "      <td>146.1180</td>\n",
       "      <td>146.1180</td>\n",
       "      <td>1</td>\n",
       "      <td>1</td>\n",
       "      <td>0</td>\n",
       "      <td>0</td>\n",
       "      <td>0</td>\n",
       "      <td>0</td>\n",
       "      <td>0</td>\n",
       "      <td>0</td>\n",
       "      <td>0</td>\n",
       "      <td>68145</td>\n",
       "      <td>84896</td>\n",
       "      <td>26608</td>\n",
       "      <td>2D+3D</td>\n",
       "      <td>Acetylcholine</td>\n",
       "      <td>Biological Test Results|Chemical and Physical ...</td>\n",
       "      <td>12</td>\n",
       "      <td>423|880|1030|1457|1458|1460|1463|1468|1469|147...</td>\n",
       "      <td>20040916</td>\n",
       "      <td>001Chemical|3B Scientific (Wuhan) Corp|3WAY PH...</td>\n",
       "      <td>Chemical Vendors|Curation Efforts|Governmental...</td>\n",
       "      <td>COVID-19, COVID19, Coronavirus, Corona-virus, ...</td>\n",
       "    </tr>\n",
       "    <tr>\n",
       "      <th>4</th>\n",
       "      <td>CID000000206</td>\n",
       "      <td>['C0030193', 'C0546817', 'C0001122', 'C0027765...</td>\n",
       "      <td>38</td>\n",
       "      <td>206</td>\n",
       "      <td>180.16</td>\n",
       "      <td>C6H12O6</td>\n",
       "      <td>110.0</td>\n",
       "      <td>151.0</td>\n",
       "      <td>-2.6</td>\n",
       "      <td>12</td>\n",
       "      <td>5</td>\n",
       "      <td>6</td>\n",
       "      <td>1</td>\n",
       "      <td>InChI=1S/C6H12O6/c7-1-2-3(8)4(9)5(10)6(11)12-2...</td>\n",
       "      <td>C(C1C(C(C(C(O1)O)O)O)O)O</td>\n",
       "      <td>C(C1C(C(C(C(O1)O)O)O)O)O</td>\n",
       "      <td>WQZGKKKJIJFFOK-UHFFFAOYSA-N</td>\n",
       "      <td>6-(hydroxymethyl)oxane-2,3,4,5-tetrol</td>\n",
       "      <td>180.0630</td>\n",
       "      <td>180.0630</td>\n",
       "      <td>0</td>\n",
       "      <td>1</td>\n",
       "      <td>0</td>\n",
       "      <td>5</td>\n",
       "      <td>0</td>\n",
       "      <td>5</td>\n",
       "      <td>0</td>\n",
       "      <td>0</td>\n",
       "      <td>0</td>\n",
       "      <td>1761</td>\n",
       "      <td>14422</td>\n",
       "      <td>5588</td>\n",
       "      <td>2D+3D</td>\n",
       "      <td>NaN</td>\n",
       "      <td>Biological Test Results|Chemical and Physical ...</td>\n",
       "      <td>8</td>\n",
       "      <td>155|157|161|165|167|175|192|248|256|328|880|88...</td>\n",
       "      <td>20050325</td>\n",
       "      <td>001Chemical|3WAY PHARM INC|A2B Chem|AA BLOCKS|...</td>\n",
       "      <td>Chemical Vendors|Curation Efforts|Governmental...</td>\n",
       "      <td>NaN</td>\n",
       "    </tr>\n",
       "  </tbody>\n",
       "</table>\n",
       "</div>"
      ],
      "text/plain": [
       "  STITCH ID STEREO                         MEDRA TERM UMLS CONCEPT ID  \\\n",
       "0     CID000000119  ['C0151828', 'C0030193', 'C0042109', 'C0002994...   \n",
       "1     CID000000137  ['C0027497', 'C0017178', 'C0332534', 'C0042109...   \n",
       "2     CID000000175   ['C0020488', 'C0030193', 'C0018965', 'C0001122']   \n",
       "3     CID000000187  ['C0020458', 'C0010037', 'C0020649', 'C0016382...   \n",
       "4     CID000000206  ['C0030193', 'C0546817', 'C0001122', 'C0027765...   \n",
       "\n",
       "   se_count  cid      mw         mf  polararea  complexity  xlogp  heavycnt  \\\n",
       "0         5  119  103.12    C4H9NO2       63.3        62.7   -3.2         7   \n",
       "1        79  137  131.13    C5H9NO3       80.4       121.0   -3.8         9   \n",
       "2         4  175   59.04    C2H3O2-       40.1        25.5    0.4         4   \n",
       "3         7  187  146.21  C7H16NO2+       26.3       115.0    0.2        10   \n",
       "4        38  206  180.16    C6H12O6      110.0       151.0   -2.6        12   \n",
       "\n",
       "   hbonddonor  hbondacc  rotbonds  \\\n",
       "0           2         3         3   \n",
       "1           2         4         4   \n",
       "2           0         2         0   \n",
       "3           0         2         4   \n",
       "4           5         6         1   \n",
       "\n",
       "                                               inchi  \\\n",
       "0   InChI=1S/C4H9NO2/c5-3-1-2-4(6)7/h1-3,5H2,(H,6,7)   \n",
       "1  InChI=1S/C5H9NO3/c6-3-4(7)1-2-5(8)9/h1-3,6H2,(...   \n",
       "2          InChI=1S/C2H4O2/c1-2(3)4/h1H3,(H,3,4)/p-1   \n",
       "3  InChI=1S/C7H16NO2/c1-7(9)10-6-5-8(2,3)4/h5-6H2...   \n",
       "4  InChI=1S/C6H12O6/c7-1-2-3(8)4(9)5(10)6(11)12-2...   \n",
       "\n",
       "                  isosmiles           canonicalsmiles  \\\n",
       "0              C(CC(=O)O)CN              C(CC(=O)O)CN   \n",
       "1         C(CC(=O)O)C(=O)CN         C(CC(=O)O)C(=O)CN   \n",
       "2                CC(=O)[O-]                CC(=O)[O-]   \n",
       "3      CC(=O)OCC[N+](C)(C)C      CC(=O)OCC[N+](C)(C)C   \n",
       "4  C(C1C(C(C(C(O1)O)O)O)O)O  C(C1C(C(C(C(O1)O)O)O)O)O   \n",
       "\n",
       "                      inchikey                              iupacname  \\\n",
       "0  BTCSSZJGUNDROE-UHFFFAOYSA-N                   4-aminobutanoic acid   \n",
       "1  ZGXJTSGNIOSYLO-UHFFFAOYSA-N            5-amino-4-oxopentanoic acid   \n",
       "2  QTBSBXVTEAMEQO-UHFFFAOYSA-M                                acetate   \n",
       "3  OIPILFWXSMYKGL-UHFFFAOYSA-N     2-acetyloxyethyl(trimethyl)azanium   \n",
       "4  WQZGKKKJIJFFOK-UHFFFAOYSA-N  6-(hydroxymethyl)oxane-2,3,4,5-tetrol   \n",
       "\n",
       "   exactmass  monoisotopicmass  charge  covalentunitcnt  isotopeatomcnt  \\\n",
       "0   103.0630          103.0630       0                1               0   \n",
       "1   131.0580          131.0580       0                1               0   \n",
       "2    59.0133           59.0133      -1                1               0   \n",
       "3   146.1180          146.1180       1                1               0   \n",
       "4   180.0630          180.0630       0                1               0   \n",
       "\n",
       "   totalatomstereocnt  definedatomstereocnt  undefinedatomstereocnt  \\\n",
       "0                   0                     0                       0   \n",
       "1                   0                     0                       0   \n",
       "2                   0                     0                       0   \n",
       "3                   0                     0                       0   \n",
       "4                   5                     0                       5   \n",
       "\n",
       "   totalbondstereocnt  definedbondstereocnt  undefinedbondstereocnt  pclidcnt  \\\n",
       "0                   0                     0                       0     82230   \n",
       "1                   0                     0                       0     12437   \n",
       "2                   0                     0                       0     44665   \n",
       "3                   0                     0                       0     68145   \n",
       "4                   0                     0                       0      1761   \n",
       "\n",
       "   gpidcnt  gpfamilycnt neighbortype             meshheadings  \\\n",
       "0    34891        13769        2D+3D  gamma-Aminobutyric Acid   \n",
       "1    14305         4919        2D+3D      Aminolevulinic Acid   \n",
       "2     2166         1375        2D+3D                 Acetates   \n",
       "3    84896        26608        2D+3D            Acetylcholine   \n",
       "4    14422         5588        2D+3D                      NaN   \n",
       "\n",
       "                                           annothits  annothitcnt  \\\n",
       "0  Biological Test Results|Chemical and Physical ...           15   \n",
       "1  Biological Test Results|Chemical and Physical ...           14   \n",
       "2  Biological Test Results|Classification|Drug an...           11   \n",
       "3  Biological Test Results|Chemical and Physical ...           12   \n",
       "4  Biological Test Results|Chemical and Physical ...            8   \n",
       "\n",
       "                                                aids  cidcdate  \\\n",
       "0  155|157|161|165|167|175|190|248|328|357|410|41...  20040916   \n",
       "1  1511|1554|1662|1663|1672|1813|1814|1832|1850|1...  20040916   \n",
       "2                                            1803442  20040916   \n",
       "3  423|880|1030|1457|1458|1460|1463|1468|1469|147...  20040916   \n",
       "4  155|157|161|165|167|175|192|248|256|328|880|88...  20050325   \n",
       "\n",
       "                                          sidsrcname  \\\n",
       "0  001Chemical|3B Scientific (Wuhan) Corp|3WAY PH...   \n",
       "1  001Chemical|3B Scientific (Wuhan) Corp|3WAY PH...   \n",
       "2  AAA Chemistry|ABI Chem|AKos Consulting & Solut...   \n",
       "3  001Chemical|3B Scientific (Wuhan) Corp|3WAY PH...   \n",
       "4  001Chemical|3WAY PHARM INC|A2B Chem|AA BLOCKS|...   \n",
       "\n",
       "                                             depcatg  \\\n",
       "0  Chemical Vendors|Curation Efforts|Governmental...   \n",
       "1  Chemical Vendors|Curation Efforts|Governmental...   \n",
       "2  Chemical Vendors|Curation Efforts|Governmental...   \n",
       "3  Chemical Vendors|Curation Efforts|Governmental...   \n",
       "4  Chemical Vendors|Curation Efforts|Governmental...   \n",
       "\n",
       "                                          annotation  \n",
       "0  COVID-19, COVID19, Coronavirus, Corona-virus, ...  \n",
       "1                                                NaN  \n",
       "2                                                NaN  \n",
       "3  COVID-19, COVID19, Coronavirus, Corona-virus, ...  \n",
       "4                                                NaN  "
      ]
     },
     "execution_count": 4,
     "metadata": {},
     "output_type": "execute_result"
    }
   ],
   "source": [
    "df_all_se = pd.read_csv('prep_data/drug_all_se_pubchem.csv')\n",
    "df_all_se.head()"
   ]
  },
  {
   "cell_type": "code",
   "execution_count": 5,
   "metadata": {},
   "outputs": [
    {
     "data": {
      "text/plain": [
       "mw                        0\n",
       "polararea                 0\n",
       "complexity                0\n",
       "heavycnt                  0\n",
       "hbonddonor                0\n",
       "hbondacc                  0\n",
       "rotbonds                  0\n",
       "exactmass                 0\n",
       "monoisotopicmass          0\n",
       "charge                    0\n",
       "covalentunitcnt           0\n",
       "isotopeatomcnt            0\n",
       "totalatomstereocnt        0\n",
       "definedatomstereocnt      0\n",
       "undefinedatomstereocnt    0\n",
       "totalbondstereocnt        0\n",
       "definedbondstereocnt      0\n",
       "undefinedbondstereocnt    0\n",
       "dtype: int64"
      ]
     },
     "execution_count": 5,
     "metadata": {},
     "output_type": "execute_result"
    }
   ],
   "source": [
    "df_all_se[drug_prop_cols].isnull().sum()     # xlogp fill na"
   ]
  },
  {
   "cell_type": "code",
   "execution_count": 6,
   "metadata": {},
   "outputs": [],
   "source": [
    "import numpy as np\n",
    "import torch\n",
    "import torch_geometric.datasets as datasets\n",
    "import torch_geometric.data as data\n",
    "import torch_geometric.transforms as transforms\n",
    "import networkx as nx\n",
    "from torch_geometric.utils.convert import to_networkx"
   ]
  },
  {
   "cell_type": "code",
   "execution_count": 7,
   "metadata": {},
   "outputs": [
    {
     "name": "stdout",
     "output_type": "stream",
     "text": [
      "torch.Size([2, 500])\n"
     ]
    },
    {
     "name": "stderr",
     "output_type": "stream",
     "text": [
      "/home/mayank/miniconda3/envs/dsn/lib/python3.7/site-packages/ipykernel_launcher.py:4: UserWarning: Creating a tensor from a list of numpy.ndarrays is extremely slow. Please consider converting the list to a single numpy.ndarray with numpy.array() before converting to a tensor. (Triggered internally at  /opt/conda/conda-bld/pytorch_1646755953518/work/torch/csrc/utils/tensor_new.cpp:210.)\n",
      "  after removing the cwd from sys.path.\n"
     ]
    }
   ],
   "source": [
    "embeddings = torch.rand((100, 16), dtype=torch.float)\n",
    "rows = np.random.choice(100, 500)\n",
    "cols = np.random.choice(100, 500)\n",
    "edges = torch.tensor([rows, cols])\n",
    "print(edges.shape)"
   ]
  },
  {
   "cell_type": "code",
   "execution_count": 8,
   "metadata": {},
   "outputs": [
    {
     "data": {
      "text/plain": [
       "95.58466763706939"
      ]
     },
     "execution_count": 8,
     "metadata": {},
     "output_type": "execute_result"
    }
   ],
   "source": [
    "((2061 - 91) / 2061) * 100"
   ]
  },
  {
   "cell_type": "code",
   "execution_count": 9,
   "metadata": {},
   "outputs": [
    {
     "data": {
      "text/plain": [
       "97.92684766214178"
      ]
     },
     "execution_count": 9,
     "metadata": {},
     "output_type": "execute_result"
    }
   ],
   "source": [
    "df_all_se['se_count'].mean()"
   ]
  },
  {
   "attachments": {},
   "cell_type": "markdown",
   "metadata": {},
   "source": [
    "### Create ID mapping for stitch id and meddra term for side-effect"
   ]
  },
  {
   "cell_type": "code",
   "execution_count": 10,
   "metadata": {},
   "outputs": [
    {
     "name": "stdout",
     "output_type": "stream",
     "text": [
      "(1326,) 1326\n"
     ]
    }
   ],
   "source": [
    "print(df_all_se['STITCH ID STEREO'].shape, df_all_se['STITCH ID STEREO'].nunique())"
   ]
  },
  {
   "cell_type": "code",
   "execution_count": 11,
   "metadata": {},
   "outputs": [],
   "source": [
    "from rdkit import Chem"
   ]
  },
  {
   "cell_type": "code",
   "execution_count": 12,
   "metadata": {},
   "outputs": [],
   "source": [
    "STITCH_TO_ID_DICT = {id: idx for idx, id in enumerate(df_all_se['STITCH ID STEREO'])}\n",
    "ID_TO_STITCH_DICT = {v: k for k, v in STITCH_TO_ID_DICT.items()}"
   ]
  },
  {
   "cell_type": "code",
   "execution_count": 13,
   "metadata": {},
   "outputs": [
    {
     "name": "stderr",
     "output_type": "stream",
     "text": [
      "RDKit WARNING: [11:45:35] WARNING: not removing hydrogen atom without neighbors\n",
      "RDKit WARNING: [11:45:35] WARNING: not removing hydrogen atom without neighbors\n",
      "[11:45:35] WARNING: not removing hydrogen atom without neighbors\n",
      "[11:45:35] WARNING: not removing hydrogen atom without neighbors\n",
      "RDKit WARNING: [11:45:35] WARNING: not removing hydrogen atom without neighbors\n",
      "RDKit WARNING: [11:45:35] WARNING: not removing hydrogen atom without neighbors\n",
      "[11:45:35] WARNING: not removing hydrogen atom without neighbors\n",
      "[11:45:35] WARNING: not removing hydrogen atom without neighbors\n"
     ]
    }
   ],
   "source": [
    "drug_id_mol_graph_tup = [(id, Chem.MolFromSmiles(smiles.strip())) for id, smiles in zip(df_all_se['STITCH ID STEREO'], df_all_se['canonicalsmiles'])]\n",
    "drug_to_mol_graph = {id:Chem.MolFromSmiles(smiles.strip()) for id, smiles in  zip(df_all_se['STITCH ID STEREO'], df_all_se['canonicalsmiles'])}"
   ]
  },
  {
   "cell_type": "code",
   "execution_count": 14,
   "metadata": {},
   "outputs": [],
   "source": [
    "# Create a flattened list of unique meddra term concept id\n",
    "column_list = df_all_se['MEDRA TERM UMLS CONCEPT ID'].tolist()\n",
    "unique_values = list(set([item for sublist in column_list for item in eval(sublist)]))\n",
    "MEDRAID_TO_ID_DICT = {id: idx for idx, id in enumerate(unique_values)}\n",
    "ID_TO_MEDRAID_DICT = {v: k for k, v in MEDRAID_TO_ID_DICT.items()}"
   ]
  },
  {
   "cell_type": "code",
   "execution_count": 15,
   "metadata": {},
   "outputs": [],
   "source": [
    "import numpy as np\n",
    "\n",
    "\n",
    "def one_of_k_encoding_unk(x, allowable_set):\n",
    "    if x not in allowable_set:\n",
    "        x = allowable_set[-1]\n",
    "    return list(map(lambda s: x == s, allowable_set))\n",
    "\n",
    "def all_of_k_encoding_unk(x, allowable_set):\n",
    "    enc = np.zeros(len(allowable_set))\n",
    "    for idx, side_eff_id in enumerate(allowable_set):\n",
    "        if side_eff_id in x:\n",
    "            enc[idx] = 1\n",
    "    return enc"
   ]
  },
  {
   "cell_type": "code",
   "execution_count": 16,
   "metadata": {},
   "outputs": [
    {
     "name": "stdout",
     "output_type": "stream",
     "text": [
      "[rdkit.Chem.rdchem.BondType.SINGLE, rdkit.Chem.rdchem.BondType.DOUBLE, rdkit.Chem.rdchem.BondType.TRIPLE, rdkit.Chem.rdchem.BondType.AROMATIC, 'head']\n"
     ]
    }
   ],
   "source": [
    "# get all unique bond_type from mol_graph\n",
    "bond_type_set = set()\n",
    "for mol_graph in drug_to_mol_graph.values():\n",
    "    bond_type_set.update([b.GetBondType() for b in mol_graph.GetBonds()])\n",
    "bond_type_set = list(bond_type_set)\n",
    "bond_type_set.sort()\n",
    "bond_type_set = bond_type_set + ['head']\n",
    "print(bond_type_set)\n"
   ]
  },
  {
   "cell_type": "code",
   "execution_count": 17,
   "metadata": {},
   "outputs": [],
   "source": [
    "import torch\n",
    "import numpy as np\n",
    "\n",
    "def one_of_k_encoding_unk(x, allowable_set):\n",
    "    if x not in allowable_set:\n",
    "        x = allowable_set[-1]\n",
    "    return list(map(lambda s: x == s, allowable_set))\n",
    "\n",
    "def atom_features(atom,\n",
    "                explicit_H=True,\n",
    "                use_chirality=False):\n",
    "\n",
    "    results = one_of_k_encoding_unk(\n",
    "        atom.GetSymbol(),\n",
    "        ['C','N','O', 'S','F','Si','P', 'Cl','Br','Mg','Na','Ca','Fe','As','Al','I','B','V','K','Tl',\n",
    "            'Yb','Sb','Sn','Ag','Pd','Co','Se','Ti','Zn','H', 'Li','Ge','Cu','Au','Ni','Cd','In',\n",
    "            'Mn','Zr','Cr','Pt','Hg','Pb','Unknown'\n",
    "        ]) + [atom.GetDegree()/10, atom.GetImplicitValence(), \n",
    "                atom.GetFormalCharge(), atom.GetNumRadicalElectrons()] + \\\n",
    "                one_of_k_encoding_unk(atom.GetHybridization(), [\n",
    "                Chem.rdchem.HybridizationType.SP, Chem.rdchem.HybridizationType.SP2,\n",
    "                Chem.rdchem.HybridizationType.SP3, Chem.rdchem.HybridizationType.\n",
    "                                    SP3D, Chem.rdchem.HybridizationType.SP3D2\n",
    "                ]) + [atom.GetIsAromatic()]\n",
    "    # In case of explicit hydrogen(QM8, QM9), avoid calling `GetTotalNumHs`\n",
    "    if explicit_H:\n",
    "        results = results + [atom.GetTotalNumHs()]\n",
    "\n",
    "    if use_chirality:\n",
    "        try:\n",
    "            results = results + one_of_k_encoding_unk(\n",
    "            atom.GetProp('_CIPCode'),\n",
    "            ['R', 'S']) + [atom.HasProp('_ChiralityPossible')]\n",
    "        except:\n",
    "            results = results + [False, False\n",
    "                            ] + [atom.HasProp('_ChiralityPossible')]\n",
    "\n",
    "    results = np.array(results).astype(np.float32)\n",
    "\n",
    "    return torch.from_numpy(results) # torch.rand_like()\n",
    "\n",
    "def get_mol_edge_list_and_feat_mtx(mol_graph):\n",
    "    n_features = [(atom.GetIdx(), atom_features(atom)) for atom in mol_graph.GetAtoms()]\n",
    "    n_features.sort() # to make sure that the feature matrix is aligned according to the idx of the atom\n",
    "    _, n_features = zip(*n_features)\n",
    "    n_features = torch.stack(n_features)\n",
    "    \n",
    "    atm_num = len(n_features)\n",
    "    average_row = torch.mean(n_features, dim=0)\n",
    "    # random like average_row\n",
    "    average_row = torch.rand_like(average_row)\n",
    "    # Expand dimensions to match the shape of n_features\n",
    "    average_row = torch.unsqueeze(average_row, 0)\n",
    "    # Concatenate the average row with n_features\n",
    "    n_features_with_head = torch.cat((n_features, average_row), dim=0)\n",
    "    \n",
    "    edge_list = torch.LongTensor([(b.GetBeginAtomIdx(), b.GetEndAtomIdx()) for b in mol_graph.GetBonds()])\n",
    "    edge_attr = torch.FloatTensor([one_of_k_encoding_unk(b.GetBondType(), bond_type_set) for b in mol_graph.GetBonds()])\n",
    "\n",
    "    head_edges = torch.LongTensor([(atm_num, i) for i in range(atm_num)])\n",
    "    edge_attr_head_edges = torch.FloatTensor([one_of_k_encoding_unk('head', bond_type_set) for i in range(atm_num)])\n",
    "\n",
    "    undirected_head_edges = torch.cat([head_edges, head_edges[:, [1, 0]]], dim=0) if len(head_edges) else head_edges\n",
    "    undirected_edge_attr_head_edges = torch.cat([edge_attr_head_edges, edge_attr_head_edges], dim=0) if len(edge_attr_head_edges) else edge_attr_head_edges\n",
    "\n",
    "    undirected_edge_list = torch.cat([edge_list, edge_list[:, [1, 0]]], dim=0) if len(edge_list) else edge_list \n",
    "    undirected_edge_attr = torch.cat([edge_attr, edge_attr], dim=0) if len(edge_attr) else edge_attr\n",
    "\n",
    "    undirected_edge_list_all = torch.cat([undirected_edge_list, undirected_head_edges], dim=0) if len(undirected_head_edges) else undirected_edge_list\n",
    "    undirected_edge_attr_all = torch.cat([undirected_edge_attr, undirected_edge_attr_head_edges], dim=0) if len(undirected_edge_attr_head_edges) else undirected_edge_attr\n",
    "\n",
    "    return undirected_edge_list_all.T, n_features_with_head, undirected_edge_attr_all\n"
   ]
  },
  {
   "cell_type": "code",
   "execution_count": 18,
   "metadata": {},
   "outputs": [],
   "source": [
    "edge_list, n_feature, edge_attr = get_mol_edge_list_and_feat_mtx(mol_graph)"
   ]
  },
  {
   "cell_type": "code",
   "execution_count": 19,
   "metadata": {},
   "outputs": [
    {
     "name": "stdout",
     "output_type": "stream",
     "text": [
      "shape of edge_list: torch.Size([2, 858]), shape of n_feature: torch.Size([215, 55]), shape of edge_attr: torch.Size([858, 5])\n"
     ]
    }
   ],
   "source": [
    "print(f'shape of edge_list: {edge_list.shape}, shape of n_feature: {n_feature.shape}, shape of edge_attr: {edge_attr.shape}')"
   ]
  },
  {
   "cell_type": "code",
   "execution_count": 20,
   "metadata": {},
   "outputs": [
    {
     "data": {
      "text/plain": [
       "[True, False, False, False, False]"
      ]
     },
     "execution_count": 20,
     "metadata": {},
     "output_type": "execute_result"
    }
   ],
   "source": [
    "one_of_k_encoding_unk(mol_graph.GetBonds()[0].GetBondType(), bond_type_set)"
   ]
  },
  {
   "cell_type": "code",
   "execution_count": 21,
   "metadata": {},
   "outputs": [],
   "source": [
    "# # random torch of same shape as results\n",
    "# results = torch.ones(5,4)\n",
    "# torch.rand_like(results)\n",
    "\n"
   ]
  },
  {
   "cell_type": "code",
   "execution_count": 22,
   "metadata": {},
   "outputs": [],
   "source": [
    "import itertools\n",
    "import numpy as np\n",
    "# Gettings information and features of atoms\n",
    "ATOM_MAX_NUM = np.max([m[1].GetNumAtoms() for m in drug_id_mol_graph_tup])\n",
    "AVAILABLE_ATOM_SYMBOLS = list({a.GetSymbol() for a in itertools.chain.from_iterable(m[1].GetAtoms() for m in drug_id_mol_graph_tup)})\n",
    "AVAILABLE_ATOM_DEGREES = list({a.GetDegree() for a in itertools.chain.from_iterable(m[1].GetAtoms() for m in drug_id_mol_graph_tup)})\n",
    "AVAILABLE_ATOM_TOTAL_HS = list({a.GetTotalNumHs() for a in itertools.chain.from_iterable(m[1].GetAtoms() for m in drug_id_mol_graph_tup)})\n",
    "max_valence = max(a.GetImplicitValence() for a in itertools.chain.from_iterable(m[1].GetAtoms() for m in drug_id_mol_graph_tup))\n",
    "max_valence = max(max_valence, 9)\n",
    "AVAILABLE_ATOM_VALENCE = np.arange(max_valence + 1)\n",
    "\n",
    "MAX_ATOM_FC = abs(np.max([a.GetFormalCharge() for a in itertools.chain.from_iterable(m[1].GetAtoms() for m in drug_id_mol_graph_tup)]))\n",
    "MAX_ATOM_FC = MAX_ATOM_FC if MAX_ATOM_FC else 0\n",
    "MAX_RADICAL_ELC = abs(np.max([a.GetNumRadicalElectrons() for a in itertools.chain.from_iterable(m[1].GetAtoms() for m in drug_id_mol_graph_tup)]))\n",
    "MAX_RADICAL_ELC = MAX_RADICAL_ELC if MAX_RADICAL_ELC else 0\n",
    "\n",
    "\n",
    "MOL_EDGE_LIST_FEAT_MTX = {drug_id: get_mol_edge_list_and_feat_mtx(mol) \n",
    "                                for drug_id, mol in drug_id_mol_graph_tup}\n",
    "\n",
    "MOL_EDGE_LIST_FEAT_MTX = {drug_id: mol for drug_id, mol in MOL_EDGE_LIST_FEAT_MTX.items() if mol is not None}\n",
    "\n",
    "TOTAL_ATOM_FEATS = (next(iter(MOL_EDGE_LIST_FEAT_MTX.values()))[1].shape[-1])"
   ]
  },
  {
   "cell_type": "code",
   "execution_count": 23,
   "metadata": {},
   "outputs": [],
   "source": [
    "DRUG_PROP_DICT = dict(list(zip(df_all_se['STITCH ID STEREO'].values, df_all_se[drug_prop_cols].values)))"
   ]
  },
  {
   "cell_type": "code",
   "execution_count": 25,
   "metadata": {},
   "outputs": [],
   "source": [
    "# compiute Tanimoto similarity between all drug pairs in MOL_EDGE_LIST_FEAT_MTX\n",
    "from rdkit import DataStructs\n",
    "from rdkit.Chem.Fingerprints import FingerprintMols\n",
    "from rdkit.Chem import AllChem\n",
    "\n",
    "# compute all possible similarity pairs\n",
    "drug_id_list = list(MOL_EDGE_LIST_FEAT_MTX.keys())\n",
    "drug_id_list.sort()\n",
    "# drug_id_list to idx\n",
    "drug_id_to_idx = {drug_id: idx for idx, drug_id in enumerate(drug_id_list)}\n",
    "# idx to drug_id\n",
    "idx_to_drug_id = {idx: drug_id for idx, drug_id in enumerate(drug_id_list)}\n",
    "# all pairs except self pairs\n",
    "drug_id_pairs = [(drug_id_list[i], drug_id_list[j]) for i in range(len(drug_id_list)) for j in range(i+1, len(drug_id_list))]\n",
    "\n",
    "# # compute tanimoto similarity\n",
    "# drug_id_pairs_tanimoto_sim = {drug_id_pair: DataStructs.FingerprintSimilarity(\n",
    "#                                     FingerprintMols.FingerprintMol(drug_to_mol_graph[drug_id_pair[0]]), \n",
    "#                                     FingerprintMols.FingerprintMol(drug_to_mol_graph[drug_id_pair[1]]))\n",
    "#                                 for drug_id_pair in drug_id_pairs}        "
   ]
  },
  {
   "cell_type": "code",
   "execution_count": 26,
   "metadata": {},
   "outputs": [],
   "source": [
    "\n",
    "drug_id_to_idx = {drug_id: idx for idx, drug_id in enumerate(drug_id_list)}\n",
    "# idx to drug_id\n",
    "idx_to_drug_id = {idx: drug_id for idx, drug_id in enumerate(drug_id_list)}"
   ]
  },
  {
   "cell_type": "code",
   "execution_count": 27,
   "metadata": {},
   "outputs": [],
   "source": [
    "import pickle\n",
    "# dump drug_id_pairs_tanimoto_sim\n",
    "# with open('drug_id_pairs_tanimoto_sim.pkl', 'wb') as f:\n",
    "#     pickle.dump(drug_id_pairs_tanimoto_sim, f)\n",
    "\n",
    "# load drug_id_pairs_tanimoto_sim\n",
    "with open('drug_id_pairs_tanimoto_sim.pkl', 'rb') as f:\n",
    "    drug_id_pairs_tanimoto_sim = pickle.load(f)\n"
   ]
  },
  {
   "cell_type": "code",
   "execution_count": 28,
   "metadata": {},
   "outputs": [],
   "source": [
    "# map drug_id to idx\n",
    "drug_id_pairs_tanimoto_sim_edge_index = np.array([[drug_id_to_idx[drug_id_pair[0]], drug_id_to_idx[drug_id_pair[1]]] for drug_id_pair, sim in drug_id_pairs_tanimoto_sim.items() if sim > 0.7]).T"
   ]
  },
  {
   "cell_type": "code",
   "execution_count": 29,
   "metadata": {},
   "outputs": [
    {
     "data": {
      "text/plain": [
       "array([[   0,    0,    0, ..., 1314, 1315, 1321],\n",
       "       [  14,   70,  541, ..., 1316, 1316, 1325]])"
      ]
     },
     "execution_count": 29,
     "metadata": {},
     "output_type": "execute_result"
    }
   ],
   "source": [
    "drug_id_pairs_tanimoto_sim_edge_index"
   ]
  },
  {
   "cell_type": "code",
   "execution_count": 30,
   "metadata": {},
   "outputs": [],
   "source": [
    "# drug_id node features\n",
    "drug_id_node_features = np.array([DRUG_PROP_DICT[drug_id] for drug_id in drug_id_list])"
   ]
  },
  {
   "cell_type": "code",
   "execution_count": 31,
   "metadata": {},
   "outputs": [
    {
     "data": {
      "text/plain": [
       "array([[ 103.12,   63.3 ,   62.7 , ...,    0.  ,    0.  ,    0.  ],\n",
       "       [ 131.13,   80.4 ,  121.  , ...,    0.  ,    0.  ,    0.  ],\n",
       "       [  59.04,   40.1 ,   25.5 , ...,    0.  ,    0.  ,    0.  ],\n",
       "       ...,\n",
       "       [ 699.9 ,  272.  ,  909.  , ...,    0.  ,    0.  ,    0.  ],\n",
       "       [ 746.5 ,  113.  ,  511.  , ...,    0.  ,    0.  ,    0.  ],\n",
       "       [3039.4 , 1400.  , 6940.  , ...,    0.  ,    0.  ,    0.  ]])"
      ]
     },
     "execution_count": 31,
     "metadata": {},
     "output_type": "execute_result"
    }
   ],
   "source": [
    "drug_id_node_features"
   ]
  },
  {
   "cell_type": "code",
   "execution_count": 32,
   "metadata": {},
   "outputs": [
    {
     "data": {
      "text/plain": [
       "(1326, 1326)"
      ]
     },
     "execution_count": 32,
     "metadata": {},
     "output_type": "execute_result"
    }
   ],
   "source": [
    "len(drug_id_mol_graph_tup), len(MOL_EDGE_LIST_FEAT_MTX.keys())"
   ]
  },
  {
   "cell_type": "code",
   "execution_count": 33,
   "metadata": {},
   "outputs": [],
   "source": [
    "\n",
    "DRUG_ALL_SE_DICT = dict(list(zip(df_all_se['STITCH ID STEREO'].values, df_all_se['MEDRA TERM UMLS CONCEPT ID'].apply(lambda x: all_of_k_encoding_unk(eval(x), unique_values)))))\n",
    "\n"
   ]
  },
  {
   "cell_type": "code",
   "execution_count": 34,
   "metadata": {},
   "outputs": [],
   "source": [
    "# drug_id all_se labels\n",
    "drug_id_all_se_labels = np.stack(np.array([DRUG_ALL_SE_DICT[drug_id] for drug_id in drug_id_list]))"
   ]
  },
  {
   "cell_type": "code",
   "execution_count": 35,
   "metadata": {},
   "outputs": [
    {
     "data": {
      "text/plain": [
       "((1326, 2061), (1326, 18))"
      ]
     },
     "execution_count": 35,
     "metadata": {},
     "output_type": "execute_result"
    }
   ],
   "source": [
    "drug_id_all_se_labels.shape, drug_id_node_features.shape"
   ]
  },
  {
   "cell_type": "code",
   "execution_count": 36,
   "metadata": {},
   "outputs": [],
   "source": [
    "from torch.utils.data import Dataset, DataLoader\n",
    "from torch_geometric.data import Data, Batch\n",
    "import math\n",
    "\n",
    "# drug_id_similarity dataset\n",
    "drug_all_se_graph = Data(x=torch.tensor(drug_id_node_features, dtype=torch.float),\n",
    "                            edge_index=torch.tensor(drug_id_pairs_tanimoto_sim_edge_index, dtype=torch.long),\n",
    "                            y=torch.tensor(drug_id_all_se_labels, dtype=torch.float))\n"
   ]
  },
  {
   "cell_type": "code",
   "execution_count": 37,
   "metadata": {},
   "outputs": [
    {
     "name": "stderr",
     "output_type": "stream",
     "text": [
      "/home/mayank/miniconda3/envs/dsn/lib/python3.7/site-packages/sklearn/manifold/_t_sne.py:783: FutureWarning: The default initialization in TSNE will change from 'random' to 'pca' in 1.2.\n",
      "  FutureWarning,\n",
      "/home/mayank/miniconda3/envs/dsn/lib/python3.7/site-packages/sklearn/manifold/_t_sne.py:793: FutureWarning: The default learning rate in TSNE will change from 200.0 to 'auto' in 1.2.\n",
      "  FutureWarning,\n"
     ]
    },
    {
     "data": {
      "image/png": "[encoded data removed]",
      "text/plain": [
       "<Figure size 1000x1000 with 1 Axes>"
      ]
     },
     "metadata": {},
     "output_type": "display_data"
    }
   ],
   "source": [
    "# Helper function for visualization.\n",
    "%matplotlib inline\n",
    "import matplotlib.pyplot as plt\n",
    "from sklearn.manifold import TSNE\n",
    "\n",
    "def visualize(h, color):\n",
    "    z = TSNE(n_components=2).fit_transform(h.detach().cpu().numpy())\n",
    "\n",
    "    plt.figure(figsize=(10,10))\n",
    "    plt.xticks([])\n",
    "    plt.yticks([])\n",
    "\n",
    "    plt.scatter(z[:, 0], z[:, 1], s=70, c=color, cmap=\"Set2\")\n",
    "    plt.show()\n",
    "\n",
    "visualize(drug_all_se_graph.x, color=drug_all_se_graph.y[:, 100])"
   ]
  },
  {
   "cell_type": "code",
   "execution_count": 38,
   "metadata": {},
   "outputs": [],
   "source": [
    "# define a multi-label multi-class node classification model \n",
    "from torch_geometric.nn import GATConv\n",
    "import torch.nn.functional as F\n",
    "\n",
    "class GAT(torch.nn.Module):\n",
    "    def __init__(self, num_features, num_classes):\n",
    "        super(GAT, self).__init__()\n",
    "        self.conv1 = GATConv(num_features,64, heads=8, dropout=0.6)\n",
    "        self.conv2 = GATConv(8 * 64, num_classes, heads=1, concat=False,\n",
    "                             dropout=0.6)\n",
    "        \n",
    "        # layer norm\n",
    "        self.init_norm = torch.nn.LayerNorm(num_features)\n",
    "    \n",
    "    def forward(self, x, edge_index):\n",
    "        # layer norm\n",
    "        x = self.init_norm(x)\n",
    "        x = F.dropout(x, p=0.6, training=self.training)\n",
    "        x = F.elu(self.conv1(x, edge_index))\n",
    "        x = F.dropout(x, p=0.6, training=self.training)\n",
    "        x = self.conv2(x, edge_index)\n",
    "        # multi-label multi-class classification\n",
    "        # print(x.shape)\n",
    "        return torch.sigmoid(x)"
   ]
  },
  {
   "cell_type": "code",
   "execution_count": 39,
   "metadata": {},
   "outputs": [],
   "source": [
    "from iterstrat.ml_stratifiers import MultilabelStratifiedShuffleSplit, MultilabelStratifiedKFold\n",
    "from sklearn.model_selection import train_test_split\n",
    "\n",
    "\n",
    "cv_split = MultilabelStratifiedShuffleSplit(n_splits=2, test_size=0.2, random_state=0)\n",
    "train_index, val_index = next(iter(cv_split.split(X=drug_all_se_graph.x, y=drug_all_se_graph.y)))\n",
    "# split train and test mask\n",
    "train_mask = torch.tensor([True] * len(drug_all_se_graph.y))\n",
    "test_mask = torch.tensor([False] * len(drug_all_se_graph.y))\n",
    "train_mask[val_index] = False\n",
    "test_mask[val_index] = True\n",
    "drug_all_se_graph.train_mask = train_mask\n",
    "drug_all_se_graph.test_mask = test_mask"
   ]
  },
  {
   "cell_type": "code",
   "execution_count": 52,
   "metadata": {},
   "outputs": [
    {
     "name": "stdout",
     "output_type": "stream",
     "text": [
      "tensor(0.9167, grad_fn=<RsubBackward1>)\n",
      "tensor(0.8640, grad_fn=<RsubBackward1>)\n",
      "tensor(0.8486, grad_fn=<RsubBackward1>)\n",
      "tensor(0.8401, grad_fn=<RsubBackward1>)\n",
      "tensor(0.8414, grad_fn=<RsubBackward1>)\n",
      "tensor(0.8378, grad_fn=<RsubBackward1>)\n",
      "tensor(0.8392, grad_fn=<RsubBackward1>)\n",
      "tensor(0.8390, grad_fn=<RsubBackward1>)\n",
      "tensor(0.8380, grad_fn=<RsubBackward1>)\n",
      "tensor(0.8386, grad_fn=<RsubBackward1>)\n",
      "tensor(0.8448, grad_fn=<RsubBackward1>)\n",
      "tensor(0.8387, grad_fn=<RsubBackward1>)\n",
      "tensor(0.8389, grad_fn=<RsubBackward1>)\n",
      "tensor(0.8394, grad_fn=<RsubBackward1>)\n",
      "tensor(0.8353, grad_fn=<RsubBackward1>)\n",
      "tensor(0.8361, grad_fn=<RsubBackward1>)\n",
      "tensor(0.8371, grad_fn=<RsubBackward1>)\n",
      "tensor(0.8381, grad_fn=<RsubBackward1>)\n",
      "tensor(0.8368, grad_fn=<RsubBackward1>)\n",
      "tensor(0.8346, grad_fn=<RsubBackward1>)\n"
     ]
    }
   ],
   "source": [
    "# define model\n",
    "model = GAT(num_features=drug_all_se_graph.x.shape[1], num_classes=drug_all_se_graph.y.shape[1])\n",
    "# define optimizer\n",
    "optimizer = torch.optim.Adam(model.parameters(), lr=0.005, weight_decay=5e-4)\n",
    "loss_fn = DiceLoss(smooth=1e-5)\n",
    "# train model\n",
    "model.train()\n",
    "for epoch in range(200):\n",
    "    optimizer.zero_grad()\n",
    "    out = model(drug_all_se_graph.x, drug_all_se_graph.edge_index)\n",
    "    loss = loss_fn(out[drug_all_se_graph.train_mask], drug_all_se_graph.y[drug_all_se_graph.train_mask])\n",
    "    loss.backward()\n",
    "    optimizer.step()\n",
    "    if epoch % 10 == 0:\n",
    "        print(loss)"
   ]
  },
  {
   "cell_type": "code",
   "execution_count": 45,
   "metadata": {},
   "outputs": [],
   "source": [
    "from sklearn import metrics\n",
    "\n",
    "def _compute_metrics(probas_pred, target):            \n",
    "    pred = (probas_pred >= 0.5).int()\n",
    "    acc = metrics.accuracy_score(target, pred)\n",
    "    auroc = metrics.roc_auc_score(target, probas_pred)\n",
    "    f1_score = metrics.f1_score(target, pred)\n",
    "    precision = metrics.precision_score(target, pred)\n",
    "    recall = metrics.recall_score(target, pred)\n",
    "    p, r, t = metrics.precision_recall_curve(target, probas_pred)\n",
    "    int_ap = metrics.auc(r, p)\n",
    "    ap = metrics.average_precision_score(target, probas_pred)\n",
    "\n",
    "    return acc, auroc, f1_score, precision, recall, int_ap, ap\n"
   ]
  },
  {
   "cell_type": "code",
   "execution_count": 46,
   "metadata": {},
   "outputs": [],
   "source": [
    "device = torch.device('cuda' if torch.cuda.is_available() else 'cpu')\n",
    "\n",
    "def test_dv(drug_all_se_graph, model):\n",
    "    test_probas_pred = []\n",
    "    test_ground_truth = []\n",
    "    model.eval()\n",
    "    with torch.no_grad():\n",
    "        out = model(drug_all_se_graph.x, drug_all_se_graph.edge_index)\n",
    "        probas_pred = out[drug_all_se_graph.test_mask].detach().flatten().cpu()\n",
    "        ground_truth = drug_all_se_graph.y[drug_all_se_graph.test_mask].flatten().float().cpu()\n",
    "        \n",
    "    \n",
    "        \n",
    "        test_acc, test_auc_roc, test_f1, test_precision,test_recall,test_int_ap, test_ap = _compute_metrics(probas_pred, ground_truth)\n",
    "                                                                                         \n",
    "    print('\\n')\n",
    "    print('============================== Test Result ==============================')\n",
    "    print(f'\\t\\ttest_acc: {test_acc:.4f}, test_auc_roc: {test_auc_roc:.4f},test_f1: {test_f1:.4f},test_precision:{test_precision:.4f}')\n",
    "    print(f'\\t\\ttest_recall: {test_recall:.4f}, test_int_ap: {test_int_ap:.4f},test_ap: {test_ap:.4f}')\n",
    "    torch.cuda.empty_cache()      "
   ]
  },
  {
   "cell_type": "code",
   "execution_count": 44,
   "metadata": {},
   "outputs": [],
   "source": []
  },
  {
   "cell_type": "code",
   "execution_count": 53,
   "metadata": {},
   "outputs": [
    {
     "name": "stdout",
     "output_type": "stream",
     "text": [
      "\n",
      "\n",
      "============================== Test Result ==============================\n",
      "\t\ttest_acc: 0.8745, test_auc_roc: 0.8454,test_f1: 0.3644,test_precision:0.2514\n",
      "\t\ttest_recall: 0.6623, test_int_ap: 0.3780,test_ap: 0.3781\n"
     ]
    }
   ],
   "source": [
    "test_dv(drug_all_se_graph, model)"
   ]
  },
  {
   "cell_type": "code",
   "execution_count": 110,
   "metadata": {},
   "outputs": [
    {
     "name": "stdout",
     "output_type": "stream",
     "text": [
      "Accuracy: 0.0000\n"
     ]
    }
   ],
   "source": [
    "# # test model\n",
    "# model.eval()\n",
    "# pred = model(drug_all_se_graph.x, drug_all_se_graph.edge_index)\n",
    "# correct = float (pred[drug_all_se_graph.test_mask].eq(drug_all_se_graph.y[drug_all_se_graph.test_mask]).sum().item())\n",
    "# acc = correct / drug_all_se_graph.test_mask.sum().item()\n",
    "# print('Accuracy: {:.4f}'.format(acc))\n"
   ]
  },
  {
   "cell_type": "code",
   "execution_count": 21,
   "metadata": {},
   "outputs": [],
   "source": [
    "from collections import Counter\n",
    "cid_ctr = Counter([stichid for mlmc in column_list for stichid in eval(mlmc)])"
   ]
  },
  {
   "cell_type": "code",
   "execution_count": 22,
   "metadata": {},
   "outputs": [
    {
     "data": {
      "image/png": "[encoded data removed]",
      "text/plain": [
       "<Figure size 2000x1000 with 1 Axes>"
      ]
     },
     "metadata": {},
     "output_type": "display_data"
    }
   ],
   "source": [
    "# plot bar chart of all the side-effect\n",
    "import matplotlib.pyplot as plt\n",
    "plt.figure(figsize=(20, 10))\n",
    "plt.bar(cid_ctr.keys(), cid_ctr.values())\n",
    "plt.show()"
   ]
  },
  {
   "cell_type": "code",
   "execution_count": 23,
   "metadata": {},
   "outputs": [
    {
     "name": "stdout",
     "output_type": "stream",
     "text": [
      "2061 2061\n"
     ]
    }
   ],
   "source": [
    "print(len(list(cid_ctr.keys())), len(unique_values))"
   ]
  },
  {
   "cell_type": "code",
   "execution_count": 24,
   "metadata": {},
   "outputs": [],
   "source": [
    "unique_values.sort()"
   ]
  },
  {
   "cell_type": "code",
   "execution_count": 25,
   "metadata": {},
   "outputs": [
    {
     "data": {
      "text/plain": [
       "['C0000727', 'C0000731', 'C0000737', 'C0000768', 'C0000786']"
      ]
     },
     "execution_count": 25,
     "metadata": {},
     "output_type": "execute_result"
    }
   ],
   "source": [
    "unique_values[:5]"
   ]
  },
  {
   "cell_type": "code",
   "execution_count": 26,
   "metadata": {},
   "outputs": [
    {
     "name": "stdout",
     "output_type": "stream",
     "text": [
      "2061 ['C0000727', 'C0000731', 'C0000737', 'C0000768', 'C0000786']\n"
     ]
    }
   ],
   "source": [
    "print(len(unique_values), unique_values[:5])"
   ]
  },
  {
   "attachments": {},
   "cell_type": "markdown",
   "metadata": {},
   "source": [
    "### Data Distribution and split"
   ]
  },
  {
   "cell_type": "code",
   "execution_count": 27,
   "metadata": {},
   "outputs": [],
   "source": [
    "import random\n",
    "import numpy as np\n",
    "import torch\n",
    "\n",
    "def seed_everything(seed: int):\n",
    "    random.seed(seed)\n",
    "    np.random.seed(seed)\n",
    "    torch.manual_seed(seed)\n",
    "    torch.cuda.manual_seed_all(seed)\n",
    "    torch.backends.cudnn.deterministic = True\n",
    "    torch.backends.cudnn.benchmark = False\n",
    "\n",
    "# Usage example:\n",
    "seed_everything(42)  # Set the seed to 42\n"
   ]
  },
  {
   "attachments": {},
   "cell_type": "markdown",
   "metadata": {},
   "source": [
    "##### Stratified Split"
   ]
  },
  {
   "cell_type": "code",
   "execution_count": 28,
   "metadata": {},
   "outputs": [],
   "source": [
    "X = df_all_se['STITCH ID STEREO'].values\n",
    "y = np.stack(df_all_se['MEDRA TERM UMLS CONCEPT ID'].apply(lambda x: all_of_k_encoding_unk(eval(x), unique_values)))\n",
    "\n",
    "from sklearn.model_selection import train_test_split\n",
    "# Split data into training (60%), validation (20%), and testing (20%) sets\n",
    "X_train, X_test, y_train, y_test = train_test_split(X, y, test_size=0.2)"
   ]
  },
  {
   "cell_type": "code",
   "execution_count": 29,
   "metadata": {},
   "outputs": [
    {
     "data": {
      "image/png": "[encoded data removed]",
      "text/plain": [
       "<Figure size 2000x1000 with 1 Axes>"
      ]
     },
     "metadata": {},
     "output_type": "display_data"
    }
   ],
   "source": [
    "# plot y  distribution such as count of 1 per row\n",
    "plt.figure(figsize=(20, 10))\n",
    "plt.bar(*zip(*Counter(y_train.sum(axis=1)).items()))\n",
    "plt.title('Distribution of number of side-effects per drug')\n",
    "plt.xlabel('Drug id')\n",
    "plt.ylabel('# of side-effects count')\n",
    "plt.show()"
   ]
  },
  {
   "cell_type": "code",
   "execution_count": 30,
   "metadata": {},
   "outputs": [
    {
     "data": {
      "image/png": "[encoded data removed]",
      "text/plain": [
       "<Figure size 2000x1000 with 1 Axes>"
      ]
     },
     "metadata": {},
     "output_type": "display_data"
    }
   ],
   "source": [
    "# plot y  distribution such as count of 1 per row\n",
    "plt.figure(figsize=(20, 10))\n",
    "plt.bar(*zip(*Counter(y_test.sum(axis=1)).items()))\n",
    "plt.title('Distribution of number of side-effects per drug')\n",
    "plt.xlabel('Drug id')\n",
    "plt.ylabel('# of side-effects count')\n",
    "plt.show()"
   ]
  },
  {
   "cell_type": "code",
   "execution_count": 31,
   "metadata": {},
   "outputs": [],
   "source": [
    "from iterstrat.ml_stratifiers import MultilabelStratifiedShuffleSplit, MultilabelStratifiedKFold\n",
    "from sklearn.model_selection import train_test_split\n",
    "\n",
    "def split_train_valid(X, y, fold, val_ratio=0.2):\n",
    "    cv_split = MultilabelStratifiedShuffleSplit(n_splits=2, test_size=val_ratio, random_state=fold)\n",
    "    train_index, val_index = next(iter(cv_split.split(X=X, y=y)))\n",
    "    X_train = X[train_index]\n",
    "    y_train = y[train_index]\n",
    "    X_val = X[val_index]\n",
    "    y_val = y[val_index]\n",
    "    # X_train, X_val, y_train, y_val = train_test_split(X, y, test_size=val_ratio, random_state=fold)\n",
    "    return X_train, y_train, X_val, y_val"
   ]
  },
  {
   "cell_type": "code",
   "execution_count": 32,
   "metadata": {},
   "outputs": [],
   "source": [
    "def ksplit_train_valid(X, y, num_folds, val_ratio=0.2):\n",
    "    mskf = MultilabelStratifiedKFold(n_splits=num_folds, random_state=0, shuffle=True)\n",
    "    folds = []\n",
    "    for train_index, val_index in mskf.split(X, y):\n",
    "        X_train, X_val = X[train_index], X[val_index]\n",
    "        y_train, y_val = y[train_index], y[val_index]\n",
    "        folds.append((X_train, y_train, X_val, y_val))\n",
    "    return folds"
   ]
  },
  {
   "cell_type": "code",
   "execution_count": 33,
   "metadata": {},
   "outputs": [],
   "source": [
    "folds = ksplit_train_valid(X_train, y_train, num_folds=5, val_ratio=0.2)"
   ]
  },
  {
   "cell_type": "code",
   "execution_count": 34,
   "metadata": {},
   "outputs": [
    {
     "name": "stdout",
     "output_type": "stream",
     "text": [
      "X_train: (808,), y_train: (808, 2061), X_val: (252,), y_val: (252, 2061), X_test: (266,), y_test: (266, 2061)\n"
     ]
    }
   ],
   "source": [
    "X_train, y_train, X_val, y_val = split_train_valid(X_train, y_train, 1)\n",
    "print(f'X_train: {X_train.shape}, y_train: {y_train.shape}, X_val: {X_val.shape}, y_val: {y_val.shape}, X_test: {X_test.shape}, y_test: {y_test.shape}')"
   ]
  },
  {
   "cell_type": "code",
   "execution_count": 35,
   "metadata": {},
   "outputs": [],
   "source": [
    "train_tup = list(zip(X_train, y_train))\n",
    "val_tup = list(zip(X_val, y_val))\n",
    "test_tup = list(zip(X_test, y_test))"
   ]
  },
  {
   "cell_type": "code",
   "execution_count": 36,
   "metadata": {},
   "outputs": [
    {
     "data": {
      "text/plain": [
       "('CID000003278', array([0., 0., 0., ..., 0., 0., 0.]))"
      ]
     },
     "execution_count": 36,
     "metadata": {},
     "output_type": "execute_result"
    }
   ],
   "source": [
    "train_tup[0]"
   ]
  },
  {
   "cell_type": "code",
   "execution_count": 37,
   "metadata": {},
   "outputs": [],
   "source": [
    "# randsplit_df = pd.DataFrame({\n",
    "#     'train': Counter(str(combination) for row in get_combination_wise_output_matrix(y_train.values, order=2) for combination in row),\n",
    "#     'test' : Counter(str(combination) for row in get_combination_wise_output_matrix(y_test.values, order=2) for combination in row)\n",
    "# }).T.fillna(0.0)"
   ]
  },
  {
   "cell_type": "code",
   "execution_count": 38,
   "metadata": {},
   "outputs": [],
   "source": [
    "# sort the columns\n",
    "# randsplit_df = randsplit_df.reindex(sorted(randsplit_df.columns), axis=1)"
   ]
  },
  {
   "cell_type": "code",
   "execution_count": 39,
   "metadata": {},
   "outputs": [],
   "source": [
    "# randsplit_df.head()"
   ]
  },
  {
   "cell_type": "code",
   "execution_count": 40,
   "metadata": {},
   "outputs": [],
   "source": [
    "# start_df = pd.DataFrame({\n",
    "#     'train': Counter(str(combination) for row in get_combination_wise_output_matrix(y_train, order=2) for combination in row),\n",
    "#     'test' : Counter(str(combination) for row in get_combination_wise_output_matrix(y_test, order=2) for combination in row)\n",
    "# }).T.fillna(0.0)"
   ]
  },
  {
   "cell_type": "code",
   "execution_count": 41,
   "metadata": {},
   "outputs": [],
   "source": [
    "# start_df.head()"
   ]
  },
  {
   "cell_type": "code",
   "execution_count": 42,
   "metadata": {},
   "outputs": [],
   "source": [
    "# randsplit_df[start_df.columns].head()"
   ]
  },
  {
   "cell_type": "code",
   "execution_count": 43,
   "metadata": {},
   "outputs": [
    {
     "data": {
      "text/plain": [
       "('CID000003278', array([0., 0., 0., ..., 0., 0., 0.]))"
      ]
     },
     "execution_count": 43,
     "metadata": {},
     "output_type": "execute_result"
    }
   ],
   "source": [
    "train_tup[0]"
   ]
  },
  {
   "cell_type": "code",
   "execution_count": 44,
   "metadata": {},
   "outputs": [],
   "source": [
    "ALL_DRUG_IDS, _ = zip(*drug_id_mol_graph_tup)\n",
    "ALL_DRUG_IDS = np.array(list(set(ALL_DRUG_IDS)))"
   ]
  },
  {
   "cell_type": "code",
   "execution_count": 45,
   "metadata": {},
   "outputs": [
    {
     "data": {
      "text/plain": [
       "array(['CID000004212', 'CID000003827', 'CID000004189', ...,\n",
       "       'CID000024424', 'CID000056959', 'CID000054840'], dtype='<U12')"
      ]
     },
     "execution_count": 45,
     "metadata": {},
     "output_type": "execute_result"
    }
   ],
   "source": [
    "ALL_DRUG_IDS"
   ]
  },
  {
   "cell_type": "code",
   "execution_count": 46,
   "metadata": {},
   "outputs": [],
   "source": [
    "from torch.utils.data import Dataset, DataLoader\n",
    "from torch_geometric.data import Data, Batch\n",
    "import math\n",
    "\n",
    "class DrugDataset(Dataset):\n",
    "    def __init__(self, data_tup, ratio=1.0,  neg_ent=1, disjoint_split=True, shuffle=True):\n",
    "        ''''disjoint_split: Consider whether entities should appear in one and only one split of the dataset\n",
    "        ''' \n",
    "        self.neg_ent = neg_ent # not using now\n",
    "        self.data_tup = []\n",
    "        self.ratio = ratio\n",
    "        \n",
    "        for h, se in data_tup:\n",
    "            if (h in MOL_EDGE_LIST_FEAT_MTX):\n",
    "                self.data_tup.append((h,se))\n",
    "        if disjoint_split:\n",
    "            d1, *_ = zip(*self.data_tup)\n",
    "            self.drug_ids = np.array(list(set(d1)))\n",
    "        else:\n",
    "            self.drug_ids = ALL_DRUG_IDS\n",
    "\n",
    "        self.drug_ids = np.array([id for id in self.drug_ids if id in MOL_EDGE_LIST_FEAT_MTX])\n",
    "        \n",
    "        if shuffle:\n",
    "            random.shuffle(self.data_tup)\n",
    "        limit = math.ceil(len(self.data_tup) * ratio)\n",
    "        self.data_tup = self.data_tup[:limit]\n",
    "  \n",
    "    def __len__(self):\n",
    "        return len(self.data_tup)\n",
    "    \n",
    "    def __getitem__(self, index):\n",
    "        return self.data_tup[index]\n",
    "\n",
    "    def collate_fn(self, batch):\n",
    "        \n",
    "        h_samples = []\n",
    "        h_se_samples = []\n",
    "        \n",
    "        for h, se in batch:\n",
    "            h_data = self.__create_graph_data(h)\n",
    "            h_samples.append(h_data)\n",
    "            h_se_samples.append(se)\n",
    "        \n",
    "        h_samples = Batch.from_data_list(h_samples)\n",
    "        h_se_samples = torch.LongTensor(h_se_samples)\n",
    "\n",
    "        return h_samples, h_se_samples\n",
    "    \n",
    "    # def __create_side_eff_labels(self, id):\n",
    "    #     return SIDE_EFFECT_LABELS[id]\n",
    "\n",
    "    def __create_graph_data(self, id):\n",
    "        edge_index = MOL_EDGE_LIST_FEAT_MTX[id][0]\n",
    "        n_features = MOL_EDGE_LIST_FEAT_MTX[id][1]\n",
    "        edge_attr = MOL_EDGE_LIST_FEAT_MTX[id][2]  \n",
    "        return Data(x=n_features, edge_index=edge_index, edge_attr=edge_attr)\n",
    "    \n",
    "    def _create_b_graph(self,edge_index,x_s, x_t):\n",
    "        return BipartiteData(edge_index,x_s,x_t)\n",
    "\n",
    "    def __corrupt_ent(self, other_ent, r, other_ent_with_r_dict, max_num=1):\n",
    "        corrupted_ents = []\n",
    "        current_size = 0\n",
    "        while current_size < max_num:\n",
    "            candidates = np.random.choice(self.drug_ids, (max_num - current_size) * 2)\n",
    "            mask = np.isin(candidates, other_ent_with_r_dict[(other_ent, r)], assume_unique=True, invert=True)\n",
    "            corrupted_ents.append(candidates[mask])\n",
    "            current_size += len(corrupted_ents[-1])\n",
    "        \n",
    "        if corrupted_ents != []:\n",
    "            corrupted_ents = np.concatenate(corrupted_ents)\n",
    "\n",
    "        return np.asarray(corrupted_ents[:max_num])\n",
    "        \n",
    "    def __corrupt_head(self, t, r, n=1):\n",
    "        return self.__corrupt_ent(t, r, ALL_TRUE_H_WITH_TR, n)\n",
    "\n",
    "    def __corrupt_tail(self, h, r, n=1):\n",
    "        return self.__corrupt_ent(h, r, ALL_TRUE_T_WITH_HR, n)\n",
    "    \n",
    "    def __normal_batch(self, h, t, r, neg_size):\n",
    "        neg_size_h = 0\n",
    "        neg_size_t = 0\n",
    "        prob = ALL_TAIL_PER_HEAD[r] / (ALL_TAIL_PER_HEAD[r] + ALL_HEAD_PER_TAIL[r])\n",
    "        for i in range(neg_size):\n",
    "            if random.random() < prob:\n",
    "                neg_size_h += 1\n",
    "            else:\n",
    "                neg_size_t +=1\n",
    "        \n",
    "        return (self.__corrupt_head(t, r, neg_size_h),\n",
    "                self.__corrupt_tail(h, r, neg_size_t))  \n"
   ]
  },
  {
   "cell_type": "code",
   "execution_count": 47,
   "metadata": {},
   "outputs": [],
   "source": [
    "class DrugDataLoader(DataLoader):\n",
    "    def __init__(self, data, **kwargs):\n",
    "        super().__init__(data, collate_fn=data.collate_fn, **kwargs)"
   ]
  },
  {
   "cell_type": "code",
   "execution_count": 48,
   "metadata": {},
   "outputs": [],
   "source": [
    "train_data = DrugDataset(train_tup, ratio=1, neg_ent=1)\n",
    "val_data = DrugDataset(val_tup, ratio=1, neg_ent=1)\n",
    "test_data = DrugDataset(test_tup, ratio=1, neg_ent=1)"
   ]
  },
  {
   "cell_type": "code",
   "execution_count": 49,
   "metadata": {},
   "outputs": [
    {
     "name": "stdout",
     "output_type": "stream",
     "text": [
      "Training with 808 samples, validating with 252, and testing with 266\n"
     ]
    }
   ],
   "source": [
    "print(f\"Training with {len(train_data)} samples, validating with {len(val_data)}, and testing with {len(test_data)}\")\n",
    "\n",
    "train_data_loader = DrugDataLoader(train_data, batch_size=64, shuffle=True,num_workers=2)\n",
    "val_data_loader = DrugDataLoader(val_data, batch_size=64,num_workers=2)\n",
    "test_data_loader = DrugDataLoader(test_data, batch_size=64 *3,num_workers=2)\n",
    "    "
   ]
  },
  {
   "cell_type": "code",
   "execution_count": 50,
   "metadata": {},
   "outputs": [],
   "source": [
    "X, y = next(iter(train_data_loader))"
   ]
  },
  {
   "cell_type": "code",
   "execution_count": 51,
   "metadata": {},
   "outputs": [
    {
     "data": {
      "text/plain": [
       "DataBatch(x=[2189, 55], edge_index=[2, 8678], edge_attr=[8678, 5], batch=[2189], ptr=[65])"
      ]
     },
     "execution_count": 51,
     "metadata": {},
     "output_type": "execute_result"
    }
   ],
   "source": [
    "X"
   ]
  },
  {
   "cell_type": "code",
   "execution_count": 52,
   "metadata": {},
   "outputs": [
    {
     "data": {
      "text/plain": [
       "(tensor([[0, 0, 1,  ..., 1, 0, 0],\n",
       "         [0, 1, 1,  ..., 0, 0, 0],\n",
       "         [0, 0, 1,  ..., 0, 0, 0],\n",
       "         ...,\n",
       "         [0, 0, 0,  ..., 0, 0, 0],\n",
       "         [0, 0, 1,  ..., 1, 0, 0],\n",
       "         [0, 0, 0,  ..., 1, 0, 0]]),\n",
       " torch.Size([64, 2061]))"
      ]
     },
     "execution_count": 52,
     "metadata": {},
     "output_type": "execute_result"
    }
   ],
   "source": [
    "y, y.shape"
   ]
  },
  {
   "cell_type": "code",
   "execution_count": 53,
   "metadata": {},
   "outputs": [
    {
     "name": "stdout",
     "output_type": "stream",
     "text": [
      "Step 1:\n",
      "=======\n",
      "Number of graphs in the current batch: 64\n",
      "DataBatch(x=[2034, 55], edge_index=[2, 8078], edge_attr=[8078, 5], batch=[2034], ptr=[65])\n",
      "\n",
      "Step 2:\n",
      "=======\n",
      "Number of graphs in the current batch: 64\n",
      "DataBatch(x=[2011, 55], edge_index=[2, 7998], edge_attr=[7998, 5], batch=[2011], ptr=[65])\n",
      "\n",
      "Step 3:\n",
      "=======\n",
      "Number of graphs in the current batch: 64\n",
      "DataBatch(x=[1854, 55], edge_index=[2, 7336], edge_attr=[7336, 5], batch=[1854], ptr=[65])\n",
      "\n",
      "Step 4:\n",
      "=======\n",
      "Number of graphs in the current batch: 64\n",
      "DataBatch(x=[2257, 55], edge_index=[2, 9006], edge_attr=[9006, 5], batch=[2257], ptr=[65])\n",
      "\n",
      "Step 5:\n",
      "=======\n",
      "Number of graphs in the current batch: 64\n",
      "DataBatch(x=[2058, 55], edge_index=[2, 8186], edge_attr=[8186, 5], batch=[2058], ptr=[65])\n",
      "\n",
      "Step 6:\n",
      "=======\n",
      "Number of graphs in the current batch: 64\n",
      "DataBatch(x=[1857, 55], edge_index=[2, 7366], edge_attr=[7366, 5], batch=[1857], ptr=[65])\n",
      "\n",
      "Step 7:\n",
      "=======\n",
      "Number of graphs in the current batch: 64\n",
      "DataBatch(x=[2048, 55], edge_index=[2, 8136], edge_attr=[8136, 5], batch=[2048], ptr=[65])\n",
      "\n",
      "Step 8:\n",
      "=======\n",
      "Number of graphs in the current batch: 64\n",
      "DataBatch(x=[2255, 55], edge_index=[2, 9004], edge_attr=[9004, 5], batch=[2255], ptr=[65])\n",
      "\n",
      "Step 9:\n",
      "=======\n",
      "Number of graphs in the current batch: 64\n",
      "DataBatch(x=[1836, 55], edge_index=[2, 7278], edge_attr=[7278, 5], batch=[1836], ptr=[65])\n",
      "\n",
      "Step 10:\n",
      "=======\n",
      "Number of graphs in the current batch: 64\n",
      "DataBatch(x=[2352, 55], edge_index=[2, 9426], edge_attr=[9426, 5], batch=[2352], ptr=[65])\n",
      "\n",
      "Step 11:\n",
      "=======\n",
      "Number of graphs in the current batch: 64\n",
      "DataBatch(x=[2768, 55], edge_index=[2, 11046], edge_attr=[11046, 5], batch=[2768], ptr=[65])\n",
      "\n",
      "Step 12:\n",
      "=======\n",
      "Number of graphs in the current batch: 64\n",
      "DataBatch(x=[2439, 55], edge_index=[2, 9704], edge_attr=[9704, 5], batch=[2439], ptr=[65])\n",
      "\n",
      "Step 13:\n",
      "=======\n",
      "Number of graphs in the current batch: 40\n",
      "DataBatch(x=[1120, 55], edge_index=[2, 4448], edge_attr=[4448, 5], batch=[1120], ptr=[41])\n",
      "\n"
     ]
    }
   ],
   "source": [
    "for step,( X,y) in enumerate(train_data_loader):\n",
    "    print(f'Step {step + 1}:')\n",
    "    print('=======')\n",
    "    print(f'Number of graphs in the current batch: {y.shape[0]}')\n",
    "    print(X)\n",
    "    print()"
   ]
  },
  {
   "cell_type": "code",
   "execution_count": 54,
   "metadata": {},
   "outputs": [
    {
     "data": {
      "text/plain": [
       "tensor([0, 0, 0, 0])"
      ]
     },
     "execution_count": 54,
     "metadata": {},
     "output_type": "execute_result"
    }
   ],
   "source": [
    "torch.zeros_like(torch.unique(torch.tensor([1,2,2,3,4])))"
   ]
  },
  {
   "cell_type": "code",
   "execution_count": 55,
   "metadata": {},
   "outputs": [
    {
     "data": {
      "text/plain": [
       "5"
      ]
     },
     "execution_count": 55,
     "metadata": {},
     "output_type": "execute_result"
    }
   ],
   "source": [
    "len(bond_type_set)"
   ]
  },
  {
   "cell_type": "code",
   "execution_count": 56,
   "metadata": {},
   "outputs": [],
   "source": [
    "from torch.nn import Linear, Sequential\n",
    "from torch import nn\n",
    "import torch.nn.functional as F\n",
    "from torch_geometric.nn import GCNConv, GATv2Conv, GATConv\n",
    "from torch_geometric.nn import global_mean_pool\n",
    "\n",
    "\n",
    "class GCN(torch.nn.Module):\n",
    "    def __init__(self, num_node_features, hidden_channels, num_classes):\n",
    "        super(GCN, self).__init__()\n",
    "        torch.manual_seed(12345)\n",
    "        self.conv1 = GATv2Conv(num_node_features, hidden_channels, edge_dim=5)\n",
    "        self.conv2 = GATv2Conv(hidden_channels, hidden_channels,  edge_dim=5)\n",
    "        self.conv3 = GATv2Conv(hidden_channels, hidden_channels,  edge_dim=5)\n",
    "        self.lin = Sequential(Linear(3*hidden_channels, hidden_channels), nn.ReLU(), Linear(hidden_channels, num_classes), nn.Sigmoid())            \n",
    "        self.batchnorm1 = torch.nn.BatchNorm1d(num_node_features)\n",
    "        self.batchnorm2 = torch.nn.BatchNorm1d(hidden_channels)\n",
    "        self.batchnorm3 = torch.nn.BatchNorm1d(hidden_channels)      \n",
    "\n",
    "    def forward(self, x, edge_index, edge_attr, batch):\n",
    "        head_nodes = []\n",
    "        # Find the indices of the last node in each batch\n",
    "        unique_batches = torch.unique(batch)\n",
    "        last_indices = torch.zeros_like(unique_batches)\n",
    "        for i, b in enumerate(unique_batches):\n",
    "            last_indices[i] = (batch == b).nonzero().max()\n",
    "        \n",
    "        x = self.batchnorm1(x)\n",
    "        # 1. Obtain node embeddings \n",
    "        x = self.conv1(x, edge_index, edge_attr=edge_attr)\n",
    "        x = self.batchnorm2(x)\n",
    "        x = x.relu()\n",
    "        head_nodes.append(x[last_indices])\n",
    "        x = self.conv2(x, edge_index, edge_attr=edge_attr)\n",
    "        x = self.batchnorm3(x)\n",
    "        x = x.relu()\n",
    "        head_nodes.append(x[last_indices])\n",
    "        x = self.conv3(x, edge_index, edge_attr=edge_attr)\n",
    "        \n",
    "        \n",
    "        head_nodes.append(x[last_indices])\n",
    "        head_nodes = torch.cat(head_nodes, dim=1)\n",
    "        # # 2. Readout layer\n",
    "        # x = global_mean_pool(x, batch)  # [batch_size, hidden_channels]\n",
    "\n",
    "        # 3. Apply a final classifier\n",
    "        x = F.dropout(head_nodes, p=0.5, training=self.training)\n",
    "        x = self.lin(x)\n",
    "        \n",
    "        return x\n"
   ]
  },
  {
   "cell_type": "code",
   "execution_count": 41,
   "metadata": {},
   "outputs": [],
   "source": [
    "from sklearn import metrics\n",
    "\n",
    "def do_compute_metrics(probas_pred, target):            \n",
    "    pred = (probas_pred >= 0.5).astype(int)\n",
    "    acc = metrics.accuracy_score(target, pred)\n",
    "    auroc = metrics.roc_auc_score(target, probas_pred)\n",
    "    f1_score = metrics.f1_score(target, pred)\n",
    "    precision = metrics.precision_score(target, pred)\n",
    "    recall = metrics.recall_score(target, pred)\n",
    "    p, r, t = metrics.precision_recall_curve(target, probas_pred)\n",
    "    int_ap = metrics.auc(r, p)\n",
    "    ap = metrics.average_precision_score(target, probas_pred)\n",
    "\n",
    "    return acc, auroc, f1_score, precision, recall, int_ap, ap\n"
   ]
  },
  {
   "cell_type": "code",
   "execution_count": 51,
   "metadata": {},
   "outputs": [],
   "source": [
    "import torch\n",
    "import torch.nn as nn\n",
    "import torch.nn.functional as F\n",
    "\n",
    "class DiceLoss(nn.Module):\n",
    "    def __init__(self, smooth=1e-5):\n",
    "        super(DiceLoss, self).__init__()\n",
    "        self.smooth = smooth\n",
    "\n",
    "    def forward(self, input, target):\n",
    "        # Flatten the input and target tensors\n",
    "        input = input.view(-1)\n",
    "        target = target.view(-1)\n",
    "\n",
    "        intersection = torch.sum(input * target)\n",
    "        cardinality = torch.sum(input) + torch.sum(target)\n",
    "\n",
    "        dice_loss = 1 - (2 * intersection + self.smooth) / (cardinality + self.smooth)\n",
    "\n",
    "        return dice_loss\n"
   ]
  },
  {
   "cell_type": "code",
   "execution_count": 59,
   "metadata": {},
   "outputs": [],
   "source": [
    "# import torch\n",
    "# import torch.nn as nn\n",
    "# import torch.nn.functional as F\n",
    "\n",
    "# class FocalLoss(nn.Module):\n",
    "#     def __init__(self, alpha=0.5, gamma=2, reduction='mean'):\n",
    "#         super(FocalLoss, self).__init__()\n",
    "#         self.alpha = alpha\n",
    "#         self.gamma = gamma\n",
    "#         self.reduction = reduction\n",
    "\n",
    "#     def forward(self, input, target):\n",
    "#         pt = torch.sigmoid(input)\n",
    "#         loss = -self.alpha * (1 - pt) ** self.gamma * target * torch.log(pt) - \\\n",
    "#                (1 - self.alpha) * pt ** self.gamma * (1 - target) * torch.log(1 - pt)\n",
    "\n",
    "#         if self.reduction == 'mean':\n",
    "#             loss = loss.mean()\n",
    "#         elif self.reduction == 'sum':\n",
    "#             loss = loss.sum()\n",
    "\n",
    "#         return loss\n"
   ]
  },
  {
   "cell_type": "code",
   "execution_count": 60,
   "metadata": {},
   "outputs": [],
   "source": [
    "import torch\n",
    "import torch.nn as nn\n",
    "import torch.nn.functional as F\n",
    "\n",
    "class FocalLoss(nn.Module):\n",
    "    def __init__(self, alpha=None, gamma=2, reduction='mean'):\n",
    "        super(FocalLoss, self).__init__()\n",
    "        self.alpha = alpha\n",
    "        self.gamma = gamma\n",
    "        self.reduction = reduction\n",
    "\n",
    "    def forward(self, pt, target):\n",
    "        \n",
    "        \n",
    "        loss = -self.alpha * (1 - pt) ** self.gamma * target * torch.log(pt + 1e-20) - \\\n",
    "               (1 - self.alpha) * pt ** self.gamma * (1 - target) * torch.log(1 - pt + 1e-20)\n",
    "        \n",
    "        if self.reduction == 'mean':\n",
    "            loss = loss.mean()\n",
    "        elif self.reduction == 'sum':\n",
    "            loss = loss.sum()\n",
    "\n",
    "        return loss\n"
   ]
  },
  {
   "cell_type": "code",
   "execution_count": 61,
   "metadata": {},
   "outputs": [],
   "source": [
    "from torch.nn import Linear, Sequential, ModuleList\n",
    "from torch import nn\n",
    "import torch.nn.functional as F\n",
    "from torch_geometric.nn import GCNConv, GATv2Conv, GATConv\n",
    "from torch_geometric.nn import global_mean_pool, LayerNorm\n",
    "import torch\n",
    "\n",
    "class GCNv2(torch.nn.Module):\n",
    "    def __init__(self, num_node_features, hidden_channels, heads_out_feat_params, blocks_params, num_classes):\n",
    "        super(GCNv2, self).__init__()\n",
    "        torch.manual_seed(12345)\n",
    "        self.blocks_params = blocks_params\n",
    "        self.initial_norm = LayerNorm(num_node_features)\n",
    "        self.n_blocks = len(blocks_params)\n",
    "        self.blocks = []\n",
    "        self.net_norms = ModuleList()\n",
    "        for i, (head_out_feats, n_heads) in enumerate(zip(heads_out_feat_params, blocks_params)):\n",
    "            block = GATv2Conv(num_node_features, head_out_feats, n_heads,  edge_dim=5)\n",
    "            self.add_module(f'block{i}', block)\n",
    "            self.blocks.append(block)\n",
    "            self.net_norms.append(LayerNorm(head_out_feats*n_heads))\n",
    "            num_node_features = n_heads * head_out_feats\n",
    "        # self.head_feat_comb = Sequential(Linear(3*hidden_channels, hidden_channels), nn.ReLU())\n",
    "        self.head_norm = LayerNorm(hidden_channels)\n",
    "        \n",
    "        self.lin = Sequential(Linear(3*hidden_channels, 2*hidden_channels), nn.ReLU(), Linear(2*hidden_channels, num_classes), nn.Sigmoid())            \n",
    "        # glorot initialize self.lin weight\n",
    "        for m in self.modules():\n",
    "            if isinstance(m, nn.Linear):\n",
    "                nn.init.xavier_uniform_(m.weight)\n",
    "\n",
    "\n",
    "\n",
    "    def forward(self, x, edge_index, edge_attr, batch):\n",
    "        head_nodes = []\n",
    "        # Find the indices of the last node in each batch\n",
    "        unique_batches = torch.unique(batch)\n",
    "        last_indices = torch.zeros_like(unique_batches)\n",
    "        for i, b in enumerate(unique_batches):\n",
    "            last_indices[i] = (batch == b).nonzero().max()\n",
    "        \n",
    "        out = self.initial_norm(x)\n",
    "        out = F.dropout(out, p=0.5, training=self.training)\n",
    "        # 1. Obtain node embeddings \n",
    "        for i, block in enumerate(self.blocks):\n",
    "            out = block(out, edge_index, edge_attr)\n",
    "            # print(out.shape)\n",
    "            out = self.net_norms[i](out)\n",
    "            out = out.relu()\n",
    "            head_node = out[last_indices]\n",
    "            head_node = head_node.view(head_node.shape[0],self.blocks_params[i], -1).sum(dim=1)\n",
    "            head_node = self.head_norm(head_node)\n",
    "            # head_node = head_node.view(head_node.shape[0],self.blocks_params[i], -1)\n",
    "            # attention = torch.softmax(head_node, dim=1)\n",
    "            # weighted_head_node = head_node * attention\n",
    "            # head_node = torch.sum(weighted_head_node, dim=1)\n",
    "            head_nodes.append(head_node)\n",
    "            \n",
    "\n",
    "\n",
    "        # x = self.conv1(x, edge_index)\n",
    "        # x = self.batchnorm2(x)\n",
    "        # x = x.relu()\n",
    "        # head_nodes.append(x[last_indices])\n",
    "        # x = self.conv2(x, edge_index)\n",
    "        # x = self.batchnorm3(x)\n",
    "        # x = x.relu()\n",
    "        # head_nodes.append(x[last_indices])\n",
    "        # x = self.conv3(x, edge_index)\n",
    "        \n",
    "        \n",
    "        # head_nodes.append(x[last_indices])\n",
    "        head_nodes = torch.cat(head_nodes, dim=1)\n",
    "        \n",
    "        # # 2. Readout layer\n",
    "        # x = global_mean_pool(x, batch)  # [batch_size, hidden_channels]\n",
    "\n",
    "        # 3. Apply a final classifier\n",
    "        x = F.dropout(head_nodes, p=0.5, training=self.training)\n",
    "        x = self.lin(x)\n",
    "        \n",
    "        return x\n"
   ]
  },
  {
   "cell_type": "code",
   "execution_count": 62,
   "metadata": {},
   "outputs": [],
   "source": [
    "# from torch import optim\n",
    "\n",
    "# model = GCNv2(num_node_features=55, hidden_channels=256, heads_out_feat_params=[256, 256, 256], blocks_params=[3, 3, 3], num_classes=2061)\n",
    "# print(model)\n",
    "# optimizer = optim.Adam(model.parameters(), lr=0.001, weight_decay=0.001)\n",
    "# # optimizer = torch.optim.Adam(model.parameters(), lr=0.01)\n",
    "# loss = DiceLoss(smooth=1e-5) # torch.nn.BCEWithLogitsLoss() # FocalLoss(alpha=0.5, gamma=2) torch.nn.BCELoss() # \n",
    "# n_epochs = 100\n",
    "# device = torch.device('cuda' if torch.cuda.is_available() else 'cpu')\n",
    "# # scheduler = torch.optim.lr_scheduler.ReduceLROnPlateau(optimizer, mode='min', factor=0.1, patience=3, min_lr=0.00001)\n",
    "# # scheduler = optim.lr_scheduler.LambdaLR(optimizer, lambda epoch: 0.96 ** (epoch))\n",
    "# scheduler = None\n",
    "# pkl_name = 'gcn_se_model_withedge.pkl'\n",
    "\n",
    "# model.to(device=device)"
   ]
  },
  {
   "cell_type": "code",
   "execution_count": 63,
   "metadata": {},
   "outputs": [],
   "source": [
    "device = torch.device('cuda' if torch.cuda.is_available() else 'cpu')\n",
    "\n",
    "def test(test_data_loader,model):\n",
    "    test_probas_pred = []\n",
    "    test_ground_truth = []\n",
    "    model.eval()\n",
    "    with torch.no_grad():\n",
    "        for batch, y in test_data_loader:\n",
    "            \n",
    "            batch = batch.to(device)\n",
    "            y = y.to(device)\n",
    "            out = model(batch.x, batch.edge_index, batch.edge_attr , batch.batch)\n",
    "            probas_pred = out.detach().flatten().cpu()\n",
    "            ground_truth = y.flatten().float().cpu()\n",
    "            test_probas_pred.append(probas_pred)\n",
    "            test_ground_truth.append(ground_truth)\n",
    "            \n",
    "        test_probas_pred = np.concatenate(test_probas_pred)\n",
    "        test_ground_truth = np.concatenate(test_ground_truth)\n",
    "        \n",
    "        test_acc, test_auc_roc, test_f1, test_precision,test_recall,test_int_ap, test_ap = do_compute_metrics(test_probas_pred, test_ground_truth)\n",
    "                                                                                         \n",
    "    print('\\n')\n",
    "    print('============================== Test Result ==============================')\n",
    "    print(f'\\t\\ttest_acc: {test_acc:.4f}, test_auc_roc: {test_auc_roc:.4f},test_f1: {test_f1:.4f},test_precision:{test_precision:.4f}')\n",
    "    print(f'\\t\\ttest_recall: {test_recall:.4f}, test_int_ap: {test_int_ap:.4f},test_ap: {test_ap:.4f}')\n",
    "    # Clear intermediate variables to free CUDA memory\n",
    "    del batch\n",
    "    torch.cuda.empty_cache()      "
   ]
  },
  {
   "cell_type": "code",
   "execution_count": 64,
   "metadata": {},
   "outputs": [],
   "source": [
    "from datetime import datetime\n",
    "import time\n",
    "\n",
    "def train(pkl_name, model, train_data_loader, val_data_loader, loss_fn, optimizer, n_epochs, device, scheduler=None):\n",
    "    max_acc = 0\n",
    "    print('Starting training at', datetime.today())\n",
    "    for i in range(1, n_epochs+1):\n",
    "        start = time.time()\n",
    "        train_loss = 0\n",
    "        val_loss = 0\n",
    "        train_probas_pred = []\n",
    "        train_ground_truth = []\n",
    "        \n",
    "        val_probas_pred = []\n",
    "        val_ground_truth = []\n",
    "      \n",
    "        for batch, y in train_data_loader:\n",
    "            model.train()\n",
    "            batch = batch.to(device)\n",
    "            y = y.to(device)\n",
    "            optimizer.zero_grad()\n",
    "            out = model(batch.x, batch.edge_index, batch.edge_attr, batch.batch)\n",
    "            train_probas_pred.append(out.detach().flatten().cpu())\n",
    "            train_ground_truth.append(y.flatten().float().cpu())\n",
    "            loss = loss_fn(out, y.float())\n",
    "            \n",
    "            loss.backward()\n",
    "            optimizer.step()\n",
    "            \n",
    "            train_loss += loss.item() * len(y)\n",
    "        \n",
    "        train_loss /= len(train_data)\n",
    "        \n",
    "        with torch.no_grad():\n",
    "            train_probas_pred = np.concatenate(train_probas_pred)\n",
    "            train_ground_truth = np.concatenate(train_ground_truth)\n",
    "            \n",
    "            train_acc, train_auc_roc, train_f1_score, train_precision, train_recall, train_int_ap, train_ap = do_compute_metrics(train_probas_pred, train_ground_truth)\n",
    "            \n",
    "            for batch, y in val_data_loader:\n",
    "                model.eval()\n",
    "                batch = batch.to(device)\n",
    "                y = y.to(device)\n",
    "                out = model(batch.x, batch.edge_index, batch.edge_attr, batch.batch)\n",
    "                val_probas_pred.append(out.detach().flatten().cpu())\n",
    "                val_ground_truth.append(y.flatten().float().cpu())\n",
    "                loss = loss_fn(out, y.float())\n",
    "                val_loss += loss.item() * len(y)\n",
    "            \n",
    "            val_loss /= len(val_data)\n",
    "            val_probas_pred = np.concatenate(val_probas_pred)\n",
    "            val_ground_truth = np.concatenate(val_ground_truth)\n",
    "            \n",
    "            val_acc, val_auc_roc, val_f1, val_precision,val_recall,val_int_ap, val_ap = do_compute_metrics(val_probas_pred, val_ground_truth)\n",
    "            if val_auc_roc>max_acc:\n",
    "                max_acc = val_auc_roc\n",
    "                torch.save(model, pkl_name)\n",
    "               \n",
    "        if scheduler:\n",
    "            # print('scheduling')\n",
    "            scheduler.step(val_f1) #val_loss\n",
    "            # Get the current learning rate\n",
    "            current_lr = optimizer.param_groups[0]['lr'] \n",
    "\n",
    "        print(f'Epoch: {i} ({time.time() - start:.4f}s), train_loss: {train_loss:.4f}, val_loss: {val_loss:.4f},'\n",
    "        f' train_acc: {train_acc:.4f}, val_acc:{val_acc:.4f}')\n",
    "        print(f'\\t\\ttrain_auc_roc: {train_auc_roc:.4f}, val_auc_roc: {val_auc_roc:.4f}, train_ap: {train_ap:.4f}, val_ap: {val_ap:.4f}, \\\n",
    "              train_f1_score: {train_f1_score:.4f}, val_f1_score: {val_f1:.4f}, train_precision: {train_precision:.4f}, val_precision: {val_precision:.4f}')\n",
    "        if i % 5 == 0:\n",
    "            # Clear intermediate variables to free CUDA memory\n",
    "            del batch\n",
    "            torch.cuda.empty_cache()\n"
   ]
  },
  {
   "cell_type": "code",
   "execution_count": 71,
   "metadata": {},
   "outputs": [],
   "source": [
    "# import torch\n",
    "# import torch.nn.functional as F\n",
    "\n",
    "# def adaptive_logarithmic_loss(outputs, targets, alpha=0.7, gamma=5.0, epsilon=1e-7):\n",
    "#     batch_size = outputs.size(0)\n",
    "#     num_classes = outputs.size(1)\n",
    "    \n",
    "#     # Apply sigmoid activation to the outputs\n",
    "#     outputs = torch.sigmoid(outputs)\n",
    "    \n",
    "#     # Compute the per-class weights\n",
    "#     targets_sum = targets.sum(dim=0)\n",
    "#     targets_weight = (1.0 - alpha) / (targets_sum + epsilon)  # Add epsilon for numerical stability\n",
    "    \n",
    "#     # Compute the Logarithmic Loss\n",
    "#     log_loss = -torch.log(outputs + epsilon) * targets * targets_weight\n",
    "    \n",
    "#     # Compute the Adaptive Logarithmic Loss\n",
    "#     all_loss = log_loss.sum() / (batch_size * num_classes)\n",
    "    \n",
    "#     # Apply the focal factor to the loss\n",
    "#     all_loss = torch.pow(1.0 - all_loss, gamma)\n",
    "    \n",
    "#     return all_loss\n",
    "\n",
    "# # Example usage\n",
    "# outputs = torch.randn(32, 10)  # Output logits from the model\n",
    "# targets = torch.randn(32, 10)  # Target labels (can be one-hot encoded or raw logits)\n",
    "\n",
    "# # loss = adaptive_logarithmic_loss(outputs, targets, alpha=0.5, gamma=2.0, epsilon=1e-7)\n"
   ]
  },
  {
   "cell_type": "code",
   "execution_count": 48,
   "metadata": {},
   "outputs": [],
   "source": [
    "import torch\n",
    "import torch.nn.functional as F\n",
    "\n",
    "def symmetric_cross_entropy_loss(outputs, targets, alpha=0.1, beta=1.0):\n",
    "    batch_size = outputs.size(0)\n",
    "    num_classes = outputs.size(1)\n",
    "    \n",
    "    # Compute the Cross Entropy loss\n",
    "    ce_loss = F.binary_cross_entropy_with_logits(outputs, targets)\n",
    "    \n",
    "    # Compute the Reverse Cross Entropy loss\n",
    "    reverse_ce_loss = F.binary_cross_entropy_with_logits(targets, outputs)\n",
    "    \n",
    "    # Compute the Symmetric Cross Entropy loss\n",
    "    sce_loss = alpha * ce_loss + beta * reverse_ce_loss\n",
    "    \n",
    "    return sce_loss\n",
    "\n",
    "# Example usage\n",
    "# outputs = torch.randn(32, 10)  # Output logits from the model\n",
    "# targets = torch.randn(32, 10)  # Target labels (can be one-hot encoded or raw logits)\n",
    "\n",
    "# loss = symmetric_cross_entropy_loss(outputs, targets, alpha=0.1, beta=1.0)\n"
   ]
  },
  {
   "cell_type": "code",
   "execution_count": 76,
   "metadata": {},
   "outputs": [
    {
     "name": "stdout",
     "output_type": "stream",
     "text": [
      "X_train: (831,), y_train: (831, 2061), X_val: (229,), y_val: (229, 2061), X_test: (266,), y_test: (266, 2061)\n",
      "Training with 831 samples, validating with 229, and testing with 266\n",
      "Running for single fold\n",
      "GCNv2(\n",
      "  (initial_norm): LayerNorm(55)\n",
      "  (net_norms): ModuleList(\n",
      "    (0): LayerNorm(384)\n",
      "    (1): LayerNorm(384)\n",
      "    (2): LayerNorm(384)\n",
      "  )\n",
      "  (block0): GATv2Conv(55, 128, heads=3)\n",
      "  (block1): GATv2Conv(384, 128, heads=3)\n",
      "  (block2): GATv2Conv(384, 128, heads=3)\n",
      "  (head_norm): LayerNorm(128)\n",
      "  (lin): Sequential(\n",
      "    (0): Linear(in_features=384, out_features=256, bias=True)\n",
      "    (1): ReLU()\n",
      "    (2): Linear(in_features=256, out_features=2061, bias=True)\n",
      "    (3): Sigmoid()\n",
      "  )\n",
      ")\n",
      "Starting training at 2023-06-08 20:58:26.263954\n",
      "Epoch: 1 (5.1938s), train_loss: 0.7856, val_loss: 0.7716, train_acc: 0.6509, val_acc:0.8246\n",
      "\t\ttrain_auc_roc: 0.7336, val_auc_roc: 0.8432, train_ap: 0.1680, val_ap: 0.3513,               train_f1_score: 0.1475, val_f1_score: 0.3304, train_precision: 0.0827, val_precision: 0.2131\n",
      "Epoch: 2 (5.0654s), train_loss: 0.7689, val_loss: 0.7641, train_acc: 0.8244, val_acc:0.8321\n",
      "\t\ttrain_auc_roc: 0.8461, val_auc_roc: 0.8574, train_ap: 0.2750, val_ap: 0.3860,               train_f1_score: 0.2757, val_f1_score: 0.3437, train_precision: 0.1687, val_precision: 0.2232\n",
      "Epoch: 3 (5.1151s), train_loss: 0.7668, val_loss: 0.7647, train_acc: 0.8284, val_acc:0.8337\n",
      "\t\ttrain_auc_roc: 0.8455, val_auc_roc: 0.8526, train_ap: 0.3053, val_ap: 0.3877,               train_f1_score: 0.2802, val_f1_score: 0.3452, train_precision: 0.1722, val_precision: 0.2247\n",
      "Epoch: 4 (4.8998s), train_loss: 0.7671, val_loss: 0.7644, train_acc: 0.8246, val_acc:0.8317\n",
      "\t\ttrain_auc_roc: 0.8481, val_auc_roc: 0.8620, train_ap: 0.3132, val_ap: 0.3940,               train_f1_score: 0.2773, val_f1_score: 0.3436, train_precision: 0.1697, val_precision: 0.2231\n",
      "Epoch: 5 (5.1864s), train_loss: 0.7668, val_loss: 0.7642, train_acc: 0.8246, val_acc:0.8316\n",
      "\t\ttrain_auc_roc: 0.8546, val_auc_roc: 0.8620, train_ap: 0.3057, val_ap: 0.3898,               train_f1_score: 0.2774, val_f1_score: 0.3433, train_precision: 0.1697, val_precision: 0.2229\n",
      "Epoch: 6 (5.0081s), train_loss: 0.7667, val_loss: 0.7641, train_acc: 0.8256, val_acc:0.8304\n",
      "\t\ttrain_auc_roc: 0.8526, val_auc_roc: 0.8651, train_ap: 0.2951, val_ap: 0.3932,               train_f1_score: 0.2781, val_f1_score: 0.3424, train_precision: 0.1704, val_precision: 0.2219\n",
      "Epoch: 7 (4.7485s), train_loss: 0.7666, val_loss: 0.7642, train_acc: 0.8276, val_acc:0.8344\n",
      "\t\ttrain_auc_roc: 0.8508, val_auc_roc: 0.8635, train_ap: 0.3001, val_ap: 0.3945,               train_f1_score: 0.2798, val_f1_score: 0.3456, train_precision: 0.1717, val_precision: 0.2252\n",
      "Epoch: 8 (4.6613s), train_loss: 0.7666, val_loss: 0.7641, train_acc: 0.8256, val_acc:0.8308\n",
      "\t\ttrain_auc_roc: 0.8529, val_auc_roc: 0.8656, train_ap: 0.2963, val_ap: 0.4004,               train_f1_score: 0.2781, val_f1_score: 0.3427, train_precision: 0.1703, val_precision: 0.2222\n",
      "Epoch: 9 (4.5980s), train_loss: 0.7666, val_loss: 0.7641, train_acc: 0.8245, val_acc:0.8313\n",
      "\t\ttrain_auc_roc: 0.8519, val_auc_roc: 0.8643, train_ap: 0.3036, val_ap: 0.3987,               train_f1_score: 0.2773, val_f1_score: 0.3431, train_precision: 0.1697, val_precision: 0.2226\n",
      "Epoch: 10 (4.7103s), train_loss: 0.7666, val_loss: 0.7641, train_acc: 0.8243, val_acc:0.8324\n",
      "\t\ttrain_auc_roc: 0.8518, val_auc_roc: 0.8649, train_ap: 0.3028, val_ap: 0.3999,               train_f1_score: 0.2772, val_f1_score: 0.3437, train_precision: 0.1695, val_precision: 0.2234\n",
      "Epoch: 11 (4.6826s), train_loss: 0.7666, val_loss: 0.7641, train_acc: 0.8270, val_acc:0.8345\n",
      "\t\ttrain_auc_roc: 0.8534, val_auc_roc: 0.8651, train_ap: 0.3023, val_ap: 0.4019,               train_f1_score: 0.2792, val_f1_score: 0.3457, train_precision: 0.1713, val_precision: 0.2253\n",
      "Epoch: 12 (4.6911s), train_loss: 0.7666, val_loss: 0.7641, train_acc: 0.8274, val_acc:0.8337\n",
      "\t\ttrain_auc_roc: 0.8554, val_auc_roc: 0.8654, train_ap: 0.3028, val_ap: 0.4043,               train_f1_score: 0.2795, val_f1_score: 0.3452, train_precision: 0.1715, val_precision: 0.2247\n",
      "Epoch: 13 (4.4980s), train_loss: 0.7666, val_loss: 0.7641, train_acc: 0.8270, val_acc:0.8336\n",
      "\t\ttrain_auc_roc: 0.8533, val_auc_roc: 0.8658, train_ap: 0.3071, val_ap: 0.4003,               train_f1_score: 0.2793, val_f1_score: 0.3449, train_precision: 0.1713, val_precision: 0.2246\n",
      "Epoch: 14 (4.5324s), train_loss: 0.7666, val_loss: 0.7642, train_acc: 0.8259, val_acc:0.8321\n",
      "\t\ttrain_auc_roc: 0.8567, val_auc_roc: 0.8649, train_ap: 0.3016, val_ap: 0.4040,               train_f1_score: 0.2782, val_f1_score: 0.3437, train_precision: 0.1705, val_precision: 0.2233\n",
      "Epoch: 15 (4.7007s), train_loss: 0.7666, val_loss: 0.7642, train_acc: 0.8267, val_acc:0.8349\n",
      "\t\ttrain_auc_roc: 0.8553, val_auc_roc: 0.8657, train_ap: 0.3009, val_ap: 0.4050,               train_f1_score: 0.2790, val_f1_score: 0.3460, train_precision: 0.1711, val_precision: 0.2257\n",
      "Epoch: 16 (4.5209s), train_loss: 0.7666, val_loss: 0.7643, train_acc: 0.8281, val_acc:0.8353\n",
      "\t\ttrain_auc_roc: 0.8540, val_auc_roc: 0.8640, train_ap: 0.3063, val_ap: 0.4040,               train_f1_score: 0.2799, val_f1_score: 0.3465, train_precision: 0.1719, val_precision: 0.2261\n",
      "Epoch: 17 (4.5622s), train_loss: 0.7666, val_loss: 0.7641, train_acc: 0.8265, val_acc:0.8317\n",
      "\t\ttrain_auc_roc: 0.8597, val_auc_roc: 0.8661, train_ap: 0.3057, val_ap: 0.4044,               train_f1_score: 0.2790, val_f1_score: 0.3435, train_precision: 0.1710, val_precision: 0.2230\n",
      "Epoch: 18 (4.6354s), train_loss: 0.7666, val_loss: 0.7642, train_acc: 0.8252, val_acc:0.8329\n",
      "\t\ttrain_auc_roc: 0.8550, val_auc_roc: 0.8650, train_ap: 0.3135, val_ap: 0.4046,               train_f1_score: 0.2779, val_f1_score: 0.3447, train_precision: 0.1701, val_precision: 0.2241\n",
      "Epoch: 19 (4.5906s), train_loss: 0.7666, val_loss: 0.7642, train_acc: 0.8283, val_acc:0.8328\n",
      "\t\ttrain_auc_roc: 0.8552, val_auc_roc: 0.8663, train_ap: 0.3140, val_ap: 0.3992,               train_f1_score: 0.2803, val_f1_score: 0.3443, train_precision: 0.1722, val_precision: 0.2239\n",
      "Epoch: 20 (5.3497s), train_loss: 0.7666, val_loss: 0.7642, train_acc: 0.8265, val_acc:0.8320\n",
      "\t\ttrain_auc_roc: 0.8565, val_auc_roc: 0.8651, train_ap: 0.3125, val_ap: 0.4036,               train_f1_score: 0.2790, val_f1_score: 0.3435, train_precision: 0.1710, val_precision: 0.2231\n",
      "Epoch: 21 (5.1117s), train_loss: 0.7666, val_loss: 0.7642, train_acc: 0.8254, val_acc:0.8316\n",
      "\t\ttrain_auc_roc: 0.8545, val_auc_roc: 0.8658, train_ap: 0.3119, val_ap: 0.4001,               train_f1_score: 0.2780, val_f1_score: 0.3432, train_precision: 0.1703, val_precision: 0.2228\n",
      "Epoch: 22 (4.5394s), train_loss: 0.7667, val_loss: 0.7643, train_acc: 0.8266, val_acc:0.8332\n",
      "\t\ttrain_auc_roc: 0.8577, val_auc_roc: 0.8653, train_ap: 0.3095, val_ap: 0.4001,               train_f1_score: 0.2789, val_f1_score: 0.3447, train_precision: 0.1710, val_precision: 0.2243\n",
      "Epoch: 23 (4.6840s), train_loss: 0.7667, val_loss: 0.7642, train_acc: 0.8258, val_acc:0.8316\n",
      "\t\ttrain_auc_roc: 0.8561, val_auc_roc: 0.8655, train_ap: 0.3065, val_ap: 0.4042,               train_f1_score: 0.2784, val_f1_score: 0.3434, train_precision: 0.1706, val_precision: 0.2229\n",
      "Epoch: 24 (4.8752s), train_loss: 0.7667, val_loss: 0.7644, train_acc: 0.8275, val_acc:0.8344\n",
      "\t\ttrain_auc_roc: 0.8575, val_auc_roc: 0.8635, train_ap: 0.3125, val_ap: 0.4048,               train_f1_score: 0.2797, val_f1_score: 0.3456, train_precision: 0.1717, val_precision: 0.2252\n",
      "Epoch: 25 (5.5102s), train_loss: 0.7668, val_loss: 0.7641, train_acc: 0.8243, val_acc:0.8301\n",
      "\t\ttrain_auc_roc: 0.8585, val_auc_roc: 0.8652, train_ap: 0.3130, val_ap: 0.4037,               train_f1_score: 0.2769, val_f1_score: 0.3422, train_precision: 0.1694, val_precision: 0.2217\n",
      "Epoch: 26 (5.2679s), train_loss: 0.7667, val_loss: 0.7644, train_acc: 0.8255, val_acc:0.8329\n",
      "\t\ttrain_auc_roc: 0.8538, val_auc_roc: 0.8638, train_ap: 0.3105, val_ap: 0.4043,               train_f1_score: 0.2781, val_f1_score: 0.3444, train_precision: 0.1703, val_precision: 0.2239\n",
      "Epoch: 27 (4.6777s), train_loss: 0.7667, val_loss: 0.7644, train_acc: 0.8272, val_acc:0.8357\n",
      "\t\ttrain_auc_roc: 0.8562, val_auc_roc: 0.8646, train_ap: 0.3074, val_ap: 0.4010,               train_f1_score: 0.2794, val_f1_score: 0.3468, train_precision: 0.1714, val_precision: 0.2264\n",
      "Epoch: 28 (4.7963s), train_loss: 0.7668, val_loss: 0.7643, train_acc: 0.8279, val_acc:0.8316\n",
      "\t\ttrain_auc_roc: 0.8564, val_auc_roc: 0.8657, train_ap: 0.3147, val_ap: 0.4009,               train_f1_score: 0.2798, val_f1_score: 0.3433, train_precision: 0.1718, val_precision: 0.2229\n",
      "Epoch: 29 (4.6698s), train_loss: 0.7667, val_loss: 0.7644, train_acc: 0.8246, val_acc:0.8316\n",
      "\t\ttrain_auc_roc: 0.8555, val_auc_roc: 0.8649, train_ap: 0.3118, val_ap: 0.4039,               train_f1_score: 0.2774, val_f1_score: 0.3433, train_precision: 0.1697, val_precision: 0.2229\n",
      "Epoch: 30 (4.7963s), train_loss: 0.7668, val_loss: 0.7644, train_acc: 0.8280, val_acc:0.8348\n",
      "\t\ttrain_auc_roc: 0.8554, val_auc_roc: 0.8631, train_ap: 0.3099, val_ap: 0.4017,               train_f1_score: 0.2800, val_f1_score: 0.3457, train_precision: 0.1719, val_precision: 0.2255\n",
      "Epoch: 31 (4.7920s), train_loss: 0.7667, val_loss: 0.7644, train_acc: 0.8289, val_acc:0.8349\n",
      "\t\ttrain_auc_roc: 0.8550, val_auc_roc: 0.8646, train_ap: 0.3074, val_ap: 0.4010,               train_f1_score: 0.2808, val_f1_score: 0.3460, train_precision: 0.1726, val_precision: 0.2257\n",
      "Epoch: 32 (4.8700s), train_loss: 0.7668, val_loss: 0.7643, train_acc: 0.8273, val_acc:0.8329\n",
      "\t\ttrain_auc_roc: 0.8553, val_auc_roc: 0.8647, train_ap: 0.3019, val_ap: 0.4028,               train_f1_score: 0.2795, val_f1_score: 0.3447, train_precision: 0.1715, val_precision: 0.2242\n",
      "Epoch: 33 (4.8231s), train_loss: 0.7668, val_loss: 0.7644, train_acc: 0.8259, val_acc:0.8325\n",
      "\t\ttrain_auc_roc: 0.8554, val_auc_roc: 0.8641, train_ap: 0.3042, val_ap: 0.4052,               train_f1_score: 0.2785, val_f1_score: 0.3441, train_precision: 0.1706, val_precision: 0.2236\n",
      "Epoch: 34 (4.6931s), train_loss: 0.7668, val_loss: 0.7643, train_acc: 0.8252, val_acc:0.8317\n",
      "\t\ttrain_auc_roc: 0.8538, val_auc_roc: 0.8647, train_ap: 0.3030, val_ap: 0.4010,               train_f1_score: 0.2778, val_f1_score: 0.3435, train_precision: 0.1701, val_precision: 0.2230\n",
      "Epoch: 35 (4.9176s), train_loss: 0.7668, val_loss: 0.7644, train_acc: 0.8256, val_acc:0.8328\n",
      "\t\ttrain_auc_roc: 0.8522, val_auc_roc: 0.8642, train_ap: 0.3091, val_ap: 0.4053,               train_f1_score: 0.2782, val_f1_score: 0.3442, train_precision: 0.1704, val_precision: 0.2238\n",
      "Epoch: 36 (4.7510s), train_loss: 0.7668, val_loss: 0.7643, train_acc: 0.8259, val_acc:0.8333\n",
      "\t\ttrain_auc_roc: 0.8529, val_auc_roc: 0.8642, train_ap: 0.3026, val_ap: 0.4047,               train_f1_score: 0.2783, val_f1_score: 0.3450, train_precision: 0.1705, val_precision: 0.2245\n",
      "Epoch: 37 (4.7811s), train_loss: 0.7669, val_loss: 0.7644, train_acc: 0.8284, val_acc:0.8356\n",
      "\t\ttrain_auc_roc: 0.8507, val_auc_roc: 0.8656, train_ap: 0.2902, val_ap: 0.4005,               train_f1_score: 0.2803, val_f1_score: 0.3466, train_precision: 0.1722, val_precision: 0.2263\n",
      "Epoch: 38 (4.7662s), train_loss: 0.7668, val_loss: 0.7643, train_acc: 0.8272, val_acc:0.8329\n",
      "\t\ttrain_auc_roc: 0.8552, val_auc_roc: 0.8647, train_ap: 0.2772, val_ap: 0.3986,               train_f1_score: 0.2794, val_f1_score: 0.3444, train_precision: 0.1714, val_precision: 0.2240\n",
      "Epoch: 39 (4.7702s), train_loss: 0.7668, val_loss: 0.7643, train_acc: 0.8266, val_acc:0.8312\n",
      "\t\ttrain_auc_roc: 0.8496, val_auc_roc: 0.8644, train_ap: 0.2805, val_ap: 0.4039,               train_f1_score: 0.2788, val_f1_score: 0.3429, train_precision: 0.1710, val_precision: 0.2225\n",
      "Epoch: 40 (4.7821s), train_loss: 0.7669, val_loss: 0.7642, train_acc: 0.8243, val_acc:0.8312\n",
      "\t\ttrain_auc_roc: 0.8478, val_auc_roc: 0.8649, train_ap: 0.2835, val_ap: 0.4035,               train_f1_score: 0.2771, val_f1_score: 0.3430, train_precision: 0.1695, val_precision: 0.2225\n",
      "Epoch: 41 (4.6868s), train_loss: 0.7668, val_loss: 0.7643, train_acc: 0.8278, val_acc:0.8361\n",
      "\t\ttrain_auc_roc: 0.8466, val_auc_roc: 0.8649, train_ap: 0.2780, val_ap: 0.3987,               train_f1_score: 0.2800, val_f1_score: 0.3471, train_precision: 0.1719, val_precision: 0.2268\n",
      "Epoch: 42 (4.5971s), train_loss: 0.7668, val_loss: 0.7642, train_acc: 0.8281, val_acc:0.8333\n",
      "\t\ttrain_auc_roc: 0.8461, val_auc_roc: 0.8633, train_ap: 0.2704, val_ap: 0.4040,               train_f1_score: 0.2802, val_f1_score: 0.3448, train_precision: 0.1721, val_precision: 0.2243\n",
      "Epoch: 43 (4.7462s), train_loss: 0.7669, val_loss: 0.7642, train_acc: 0.8293, val_acc:0.8349\n",
      "\t\ttrain_auc_roc: 0.8434, val_auc_roc: 0.8639, train_ap: 0.2704, val_ap: 0.4015,               train_f1_score: 0.2811, val_f1_score: 0.3462, train_precision: 0.1728, val_precision: 0.2258\n",
      "Epoch: 44 (4.5997s), train_loss: 0.7669, val_loss: 0.7641, train_acc: 0.8295, val_acc:0.8345\n",
      "\t\ttrain_auc_roc: 0.8453, val_auc_roc: 0.8637, train_ap: 0.2613, val_ap: 0.3996,               train_f1_score: 0.2810, val_f1_score: 0.3457, train_precision: 0.1729, val_precision: 0.2253\n",
      "Epoch: 45 (4.6473s), train_loss: 0.7669, val_loss: 0.7640, train_acc: 0.8270, val_acc:0.8321\n",
      "\t\ttrain_auc_roc: 0.8409, val_auc_roc: 0.8629, train_ap: 0.2623, val_ap: 0.3991,               train_f1_score: 0.2793, val_f1_score: 0.3439, train_precision: 0.1713, val_precision: 0.2234\n",
      "Epoch: 46 (4.6174s), train_loss: 0.7669, val_loss: 0.7640, train_acc: 0.8271, val_acc:0.8349\n",
      "\t\ttrain_auc_roc: 0.8413, val_auc_roc: 0.8628, train_ap: 0.2465, val_ap: 0.3982,               train_f1_score: 0.2793, val_f1_score: 0.3460, train_precision: 0.1713, val_precision: 0.2257\n",
      "Epoch: 47 (4.6437s), train_loss: 0.7669, val_loss: 0.7639, train_acc: 0.8294, val_acc:0.8366\n",
      "\t\ttrain_auc_roc: 0.8417, val_auc_roc: 0.8633, train_ap: 0.2402, val_ap: 0.4009,               train_f1_score: 0.2813, val_f1_score: 0.3477, train_precision: 0.1730, val_precision: 0.2273\n",
      "Epoch: 48 (4.7039s), train_loss: 0.7669, val_loss: 0.7639, train_acc: 0.8284, val_acc:0.8337\n",
      "\t\ttrain_auc_roc: 0.8391, val_auc_roc: 0.8635, train_ap: 0.2571, val_ap: 0.3999,               train_f1_score: 0.2803, val_f1_score: 0.3451, train_precision: 0.1722, val_precision: 0.2247\n",
      "Epoch: 49 (4.7156s), train_loss: 0.7669, val_loss: 0.7637, train_acc: 0.8244, val_acc:0.8292\n",
      "\t\ttrain_auc_roc: 0.8393, val_auc_roc: 0.8626, train_ap: 0.2532, val_ap: 0.3794,               train_f1_score: 0.2770, val_f1_score: 0.3414, train_precision: 0.1695, val_precision: 0.2209\n",
      "Epoch: 50 (4.7437s), train_loss: 0.7669, val_loss: 0.7639, train_acc: 0.8269, val_acc:0.8361\n",
      "\t\ttrain_auc_roc: 0.8368, val_auc_roc: 0.8602, train_ap: 0.2477, val_ap: 0.3991,               train_f1_score: 0.2791, val_f1_score: 0.3470, train_precision: 0.1712, val_precision: 0.2267\n",
      "Epoch: 51 (4.7135s), train_loss: 0.7671, val_loss: 0.7637, train_acc: 0.8305, val_acc:0.8348\n",
      "\t\ttrain_auc_roc: 0.8357, val_auc_roc: 0.8636, train_ap: 0.2487, val_ap: 0.4009,               train_f1_score: 0.2820, val_f1_score: 0.3459, train_precision: 0.1737, val_precision: 0.2256\n",
      "Epoch: 52 (4.5257s), train_loss: 0.7669, val_loss: 0.7636, train_acc: 0.8265, val_acc:0.8316\n",
      "\t\ttrain_auc_roc: 0.8399, val_auc_roc: 0.8628, train_ap: 0.2476, val_ap: 0.4027,               train_f1_score: 0.2788, val_f1_score: 0.3434, train_precision: 0.1709, val_precision: 0.2229\n",
      "Epoch: 53 (4.6736s), train_loss: 0.7669, val_loss: 0.7635, train_acc: 0.8257, val_acc:0.8322\n",
      "\t\ttrain_auc_roc: 0.8346, val_auc_roc: 0.8619, train_ap: 0.2463, val_ap: 0.4018,               train_f1_score: 0.2781, val_f1_score: 0.3441, train_precision: 0.1704, val_precision: 0.2235\n",
      "Epoch: 54 (4.6423s), train_loss: 0.7669, val_loss: 0.7636, train_acc: 0.8261, val_acc:0.8332\n",
      "\t\ttrain_auc_roc: 0.8398, val_auc_roc: 0.8626, train_ap: 0.2350, val_ap: 0.3997,               train_f1_score: 0.2786, val_f1_score: 0.3446, train_precision: 0.1707, val_precision: 0.2242\n",
      "Epoch: 55 (4.4869s), train_loss: 0.7668, val_loss: 0.7637, train_acc: 0.8290, val_acc:0.8360\n",
      "\t\ttrain_auc_roc: 0.8398, val_auc_roc: 0.8628, train_ap: 0.2339, val_ap: 0.3952,               train_f1_score: 0.2810, val_f1_score: 0.3469, train_precision: 0.1727, val_precision: 0.2266\n",
      "Epoch: 56 (4.7823s), train_loss: 0.7669, val_loss: 0.7637, train_acc: 0.8306, val_acc:0.8368\n",
      "\t\ttrain_auc_roc: 0.8340, val_auc_roc: 0.8626, train_ap: 0.2454, val_ap: 0.3995,               train_f1_score: 0.2821, val_f1_score: 0.3474, train_precision: 0.1737, val_precision: 0.2272\n",
      "Epoch: 57 (4.5823s), train_loss: 0.7668, val_loss: 0.7636, train_acc: 0.8317, val_acc:0.8360\n",
      "\t\ttrain_auc_roc: 0.8386, val_auc_roc: 0.8617, train_ap: 0.2496, val_ap: 0.4005,               train_f1_score: 0.2829, val_f1_score: 0.3470, train_precision: 0.1745, val_precision: 0.2267\n",
      "Epoch: 58 (4.6380s), train_loss: 0.7668, val_loss: 0.7635, train_acc: 0.8270, val_acc:0.8336\n",
      "\t\ttrain_auc_roc: 0.8362, val_auc_roc: 0.8609, train_ap: 0.2478, val_ap: 0.3984,               train_f1_score: 0.2791, val_f1_score: 0.3450, train_precision: 0.1712, val_precision: 0.2246\n",
      "Epoch: 59 (4.5747s), train_loss: 0.7669, val_loss: 0.7636, train_acc: 0.8298, val_acc:0.8353\n",
      "\t\ttrain_auc_roc: 0.8337, val_auc_roc: 0.8627, train_ap: 0.2410, val_ap: 0.3999,               train_f1_score: 0.2813, val_f1_score: 0.3464, train_precision: 0.1731, val_precision: 0.2260\n",
      "Epoch: 60 (4.5980s), train_loss: 0.7669, val_loss: 0.7635, train_acc: 0.8276, val_acc:0.8336\n",
      "\t\ttrain_auc_roc: 0.8375, val_auc_roc: 0.8625, train_ap: 0.2449, val_ap: 0.4012,               train_f1_score: 0.2797, val_f1_score: 0.3446, train_precision: 0.1717, val_precision: 0.2244\n",
      "Epoch: 61 (4.6771s), train_loss: 0.7670, val_loss: 0.7636, train_acc: 0.8300, val_acc:0.8364\n",
      "\t\ttrain_auc_roc: 0.8344, val_auc_roc: 0.8618, train_ap: 0.2426, val_ap: 0.3965,               train_f1_score: 0.2816, val_f1_score: 0.3471, train_precision: 0.1733, val_precision: 0.2269\n",
      "Epoch: 62 (4.6035s), train_loss: 0.7667, val_loss: 0.7635, train_acc: 0.8285, val_acc:0.8337\n",
      "\t\ttrain_auc_roc: 0.8360, val_auc_roc: 0.8621, train_ap: 0.2390, val_ap: 0.4006,               train_f1_score: 0.2805, val_f1_score: 0.3451, train_precision: 0.1723, val_precision: 0.2247\n",
      "Epoch: 63 (4.6963s), train_loss: 0.7667, val_loss: 0.7635, train_acc: 0.8274, val_acc:0.8340\n",
      "\t\ttrain_auc_roc: 0.8365, val_auc_roc: 0.8611, train_ap: 0.2440, val_ap: 0.3968,               train_f1_score: 0.2796, val_f1_score: 0.3453, train_precision: 0.1716, val_precision: 0.2250\n",
      "Epoch: 64 (4.5483s), train_loss: 0.7669, val_loss: 0.7634, train_acc: 0.8271, val_acc:0.8353\n",
      "\t\ttrain_auc_roc: 0.8391, val_auc_roc: 0.8626, train_ap: 0.2335, val_ap: 0.3970,               train_f1_score: 0.2793, val_f1_score: 0.3465, train_precision: 0.1713, val_precision: 0.2261\n",
      "Epoch: 65 (4.9920s), train_loss: 0.7668, val_loss: 0.7636, train_acc: 0.8305, val_acc:0.8361\n",
      "\t\ttrain_auc_roc: 0.8357, val_auc_roc: 0.8630, train_ap: 0.2498, val_ap: 0.4014,               train_f1_score: 0.2819, val_f1_score: 0.3471, train_precision: 0.1736, val_precision: 0.2268\n",
      "Epoch: 66 (4.9935s), train_loss: 0.7667, val_loss: 0.7635, train_acc: 0.8307, val_acc:0.8336\n",
      "\t\ttrain_auc_roc: 0.8359, val_auc_roc: 0.8622, train_ap: 0.2470, val_ap: 0.4017,               train_f1_score: 0.2822, val_f1_score: 0.3449, train_precision: 0.1738, val_precision: 0.2246\n",
      "Epoch: 67 (6.1333s), train_loss: 0.7668, val_loss: 0.7635, train_acc: 0.8282, val_acc:0.8321\n",
      "\t\ttrain_auc_roc: 0.8322, val_auc_roc: 0.8602, train_ap: 0.2469, val_ap: 0.3991,               train_f1_score: 0.2801, val_f1_score: 0.3437, train_precision: 0.1720, val_precision: 0.2233\n",
      "Epoch: 68 (5.1654s), train_loss: 0.7668, val_loss: 0.7633, train_acc: 0.8221, val_acc:0.8288\n",
      "\t\ttrain_auc_roc: 0.8370, val_auc_roc: 0.8605, train_ap: 0.2379, val_ap: 0.4001,               train_f1_score: 0.2755, val_f1_score: 0.3411, train_precision: 0.1681, val_precision: 0.2206\n",
      "Epoch: 69 (4.8887s), train_loss: 0.7667, val_loss: 0.7636, train_acc: 0.8251, val_acc:0.8341\n",
      "\t\ttrain_auc_roc: 0.8360, val_auc_roc: 0.8621, train_ap: 0.2370, val_ap: 0.3973,               train_f1_score: 0.2778, val_f1_score: 0.3454, train_precision: 0.1701, val_precision: 0.2250\n",
      "Epoch: 70 (4.9144s), train_loss: 0.7668, val_loss: 0.7634, train_acc: 0.8264, val_acc:0.8316\n",
      "\t\ttrain_auc_roc: 0.8333, val_auc_roc: 0.8615, train_ap: 0.2477, val_ap: 0.4025,               train_f1_score: 0.2787, val_f1_score: 0.3433, train_precision: 0.1709, val_precision: 0.2229\n",
      "Epoch: 71 (4.6202s), train_loss: 0.7667, val_loss: 0.7636, train_acc: 0.8289, val_acc:0.8368\n",
      "\t\ttrain_auc_roc: 0.8352, val_auc_roc: 0.8601, train_ap: 0.2496, val_ap: 0.3999,               train_f1_score: 0.2808, val_f1_score: 0.3475, train_precision: 0.1726, val_precision: 0.2273\n",
      "Epoch: 72 (4.7035s), train_loss: 0.7666, val_loss: 0.7635, train_acc: 0.8283, val_acc:0.8349\n",
      "\t\ttrain_auc_roc: 0.8354, val_auc_roc: 0.8589, train_ap: 0.2376, val_ap: 0.3965,               train_f1_score: 0.2802, val_f1_score: 0.3462, train_precision: 0.1721, val_precision: 0.2258\n",
      "Epoch: 73 (4.6865s), train_loss: 0.7667, val_loss: 0.7634, train_acc: 0.8287, val_acc:0.8345\n",
      "\t\ttrain_auc_roc: 0.8364, val_auc_roc: 0.8609, train_ap: 0.2489, val_ap: 0.3983,               train_f1_score: 0.2806, val_f1_score: 0.3457, train_precision: 0.1724, val_precision: 0.2253\n",
      "Epoch: 74 (4.7339s), train_loss: 0.7665, val_loss: 0.7635, train_acc: 0.8230, val_acc:0.8287\n",
      "\t\ttrain_auc_roc: 0.8326, val_auc_roc: 0.8607, train_ap: 0.2550, val_ap: 0.3993,               train_f1_score: 0.2760, val_f1_score: 0.3408, train_precision: 0.1686, val_precision: 0.2204\n",
      "Epoch: 75 (4.7531s), train_loss: 0.7669, val_loss: 0.7633, train_acc: 0.8229, val_acc:0.8295\n",
      "\t\ttrain_auc_roc: 0.8312, val_auc_roc: 0.8606, train_ap: 0.2333, val_ap: 0.3983,               train_f1_score: 0.2759, val_f1_score: 0.3414, train_precision: 0.1685, val_precision: 0.2210\n",
      "Epoch: 76 (4.7751s), train_loss: 0.7667, val_loss: 0.7634, train_acc: 0.8223, val_acc:0.8317\n",
      "\t\ttrain_auc_roc: 0.8342, val_auc_roc: 0.8619, train_ap: 0.2467, val_ap: 0.3981,               train_f1_score: 0.2756, val_f1_score: 0.3434, train_precision: 0.1682, val_precision: 0.2229\n",
      "Epoch: 77 (4.8089s), train_loss: 0.7667, val_loss: 0.7635, train_acc: 0.8273, val_acc:0.8357\n",
      "\t\ttrain_auc_roc: 0.8333, val_auc_roc: 0.8608, train_ap: 0.2436, val_ap: 0.3990,               train_f1_score: 0.2795, val_f1_score: 0.3467, train_precision: 0.1715, val_precision: 0.2264\n",
      "Epoch: 78 (4.8515s), train_loss: 0.7668, val_loss: 0.7634, train_acc: 0.8281, val_acc:0.8328\n",
      "\t\ttrain_auc_roc: 0.8345, val_auc_roc: 0.8609, train_ap: 0.2433, val_ap: 0.3976,               train_f1_score: 0.2802, val_f1_score: 0.3442, train_precision: 0.1721, val_precision: 0.2239\n",
      "Epoch: 79 (6.1370s), train_loss: 0.7667, val_loss: 0.7634, train_acc: 0.8269, val_acc:0.8304\n",
      "\t\ttrain_auc_roc: 0.8337, val_auc_roc: 0.8620, train_ap: 0.2419, val_ap: 0.4004,               train_f1_score: 0.2791, val_f1_score: 0.3422, train_precision: 0.1712, val_precision: 0.2218\n",
      "Epoch: 80 (5.3889s), train_loss: 0.7668, val_loss: 0.7634, train_acc: 0.8236, val_acc:0.8325\n",
      "\t\ttrain_auc_roc: 0.8355, val_auc_roc: 0.8599, train_ap: 0.2437, val_ap: 0.4003,               train_f1_score: 0.2766, val_f1_score: 0.3441, train_precision: 0.1691, val_precision: 0.2237\n",
      "Epoch: 81 (5.0128s), train_loss: 0.7668, val_loss: 0.7634, train_acc: 0.8279, val_acc:0.8353\n",
      "\t\ttrain_auc_roc: 0.8327, val_auc_roc: 0.8613, train_ap: 0.2392, val_ap: 0.3985,               train_f1_score: 0.2799, val_f1_score: 0.3466, train_precision: 0.1719, val_precision: 0.2262\n",
      "Epoch: 82 (4.9420s), train_loss: 0.7667, val_loss: 0.7637, train_acc: 0.8322, val_acc:0.8373\n",
      "\t\ttrain_auc_roc: 0.8302, val_auc_roc: 0.8582, train_ap: 0.2534, val_ap: 0.3985,               train_f1_score: 0.2833, val_f1_score: 0.3481, train_precision: 0.1748, val_precision: 0.2278\n",
      "Epoch: 83 (4.8540s), train_loss: 0.7666, val_loss: 0.7635, train_acc: 0.8318, val_acc:0.8360\n",
      "\t\ttrain_auc_roc: 0.8354, val_auc_roc: 0.8607, train_ap: 0.2482, val_ap: 0.4011,               train_f1_score: 0.2829, val_f1_score: 0.3469, train_precision: 0.1745, val_precision: 0.2266\n",
      "Epoch: 84 (4.8429s), train_loss: 0.7666, val_loss: 0.7633, train_acc: 0.8264, val_acc:0.8280\n",
      "\t\ttrain_auc_roc: 0.8318, val_auc_roc: 0.8599, train_ap: 0.2571, val_ap: 0.3994,               train_f1_score: 0.2786, val_f1_score: 0.3405, train_precision: 0.1708, val_precision: 0.2200\n",
      "Epoch: 85 (4.8060s), train_loss: 0.7667, val_loss: 0.7634, train_acc: 0.8213, val_acc:0.8292\n",
      "\t\ttrain_auc_roc: 0.8308, val_auc_roc: 0.8616, train_ap: 0.2503, val_ap: 0.3997,               train_f1_score: 0.2748, val_f1_score: 0.3412, train_precision: 0.1676, val_precision: 0.2207\n",
      "Epoch: 86 (4.7638s), train_loss: 0.7666, val_loss: 0.7634, train_acc: 0.8213, val_acc:0.8296\n",
      "\t\ttrain_auc_roc: 0.8356, val_auc_roc: 0.8586, train_ap: 0.2417, val_ap: 0.3977,               train_f1_score: 0.2748, val_f1_score: 0.3417, train_precision: 0.1676, val_precision: 0.2212\n",
      "Epoch: 87 (4.7373s), train_loss: 0.7667, val_loss: 0.7635, train_acc: 0.8269, val_acc:0.8356\n",
      "\t\ttrain_auc_roc: 0.8337, val_auc_roc: 0.8620, train_ap: 0.2444, val_ap: 0.3994,               train_f1_score: 0.2789, val_f1_score: 0.3465, train_precision: 0.1711, val_precision: 0.2262\n",
      "Epoch: 88 (5.0326s), train_loss: 0.7666, val_loss: 0.7634, train_acc: 0.8268, val_acc:0.8333\n",
      "\t\ttrain_auc_roc: 0.8363, val_auc_roc: 0.8599, train_ap: 0.2345, val_ap: 0.3990,               train_f1_score: 0.2790, val_f1_score: 0.3448, train_precision: 0.1711, val_precision: 0.2243\n",
      "Epoch: 89 (4.9197s), train_loss: 0.7666, val_loss: 0.7634, train_acc: 0.8281, val_acc:0.8333\n",
      "\t\ttrain_auc_roc: 0.8336, val_auc_roc: 0.8599, train_ap: 0.2538, val_ap: 0.3996,               train_f1_score: 0.2801, val_f1_score: 0.3447, train_precision: 0.1720, val_precision: 0.2243\n",
      "Epoch: 90 (5.4992s), train_loss: 0.7665, val_loss: 0.7634, train_acc: 0.8290, val_acc:0.8345\n",
      "\t\ttrain_auc_roc: 0.8348, val_auc_roc: 0.8629, train_ap: 0.2430, val_ap: 0.3960,               train_f1_score: 0.2809, val_f1_score: 0.3457, train_precision: 0.1727, val_precision: 0.2253\n",
      "Epoch: 91 (4.4475s), train_loss: 0.7665, val_loss: 0.7635, train_acc: 0.8267, val_acc:0.8324\n",
      "\t\ttrain_auc_roc: 0.8344, val_auc_roc: 0.8611, train_ap: 0.2411, val_ap: 0.3984,               train_f1_score: 0.2791, val_f1_score: 0.3439, train_precision: 0.1711, val_precision: 0.2235\n",
      "Epoch: 92 (4.7058s), train_loss: 0.7668, val_loss: 0.7634, train_acc: 0.8265, val_acc:0.8332\n",
      "\t\ttrain_auc_roc: 0.8359, val_auc_roc: 0.8639, train_ap: 0.2371, val_ap: 0.3965,               train_f1_score: 0.2789, val_f1_score: 0.3445, train_precision: 0.1710, val_precision: 0.2242\n",
      "Epoch: 93 (4.6434s), train_loss: 0.7667, val_loss: 0.7634, train_acc: 0.8262, val_acc:0.8325\n",
      "\t\ttrain_auc_roc: 0.8369, val_auc_roc: 0.8606, train_ap: 0.2452, val_ap: 0.3993,               train_f1_score: 0.2786, val_f1_score: 0.3443, train_precision: 0.1708, val_precision: 0.2238\n",
      "Epoch: 94 (4.5685s), train_loss: 0.7665, val_loss: 0.7635, train_acc: 0.8275, val_acc:0.8328\n",
      "\t\ttrain_auc_roc: 0.8345, val_auc_roc: 0.8596, train_ap: 0.2592, val_ap: 0.3956,               train_f1_score: 0.2797, val_f1_score: 0.3443, train_precision: 0.1717, val_precision: 0.2239\n",
      "Epoch: 95 (4.6841s), train_loss: 0.7667, val_loss: 0.7634, train_acc: 0.8272, val_acc:0.8316\n",
      "\t\ttrain_auc_roc: 0.8347, val_auc_roc: 0.8615, train_ap: 0.2536, val_ap: 0.3950,               train_f1_score: 0.2793, val_f1_score: 0.3431, train_precision: 0.1714, val_precision: 0.2227\n",
      "Epoch: 96 (4.5787s), train_loss: 0.7666, val_loss: 0.7634, train_acc: 0.8243, val_acc:0.8308\n",
      "\t\ttrain_auc_roc: 0.8338, val_auc_roc: 0.8593, train_ap: 0.2582, val_ap: 0.3988,               train_f1_score: 0.2771, val_f1_score: 0.3426, train_precision: 0.1695, val_precision: 0.2222\n",
      "Epoch: 97 (4.9315s), train_loss: 0.7667, val_loss: 0.7633, train_acc: 0.8249, val_acc:0.8328\n",
      "\t\ttrain_auc_roc: 0.8335, val_auc_roc: 0.8625, train_ap: 0.2437, val_ap: 0.3978,               train_f1_score: 0.2777, val_f1_score: 0.3441, train_precision: 0.1699, val_precision: 0.2237\n",
      "Epoch: 98 (4.7171s), train_loss: 0.7667, val_loss: 0.7635, train_acc: 0.8282, val_acc:0.8356\n",
      "\t\ttrain_auc_roc: 0.8373, val_auc_roc: 0.8632, train_ap: 0.2476, val_ap: 0.4023,               train_f1_score: 0.2802, val_f1_score: 0.3464, train_precision: 0.1721, val_precision: 0.2262\n",
      "Epoch: 99 (4.7829s), train_loss: 0.7665, val_loss: 0.7634, train_acc: 0.8284, val_acc:0.8332\n",
      "\t\ttrain_auc_roc: 0.8375, val_auc_roc: 0.8595, train_ap: 0.2430, val_ap: 0.4000,               train_f1_score: 0.2803, val_f1_score: 0.3446, train_precision: 0.1722, val_precision: 0.2242\n",
      "Epoch: 100 (4.6311s), train_loss: 0.7666, val_loss: 0.7634, train_acc: 0.8297, val_acc:0.8352\n",
      "\t\ttrain_auc_roc: 0.8351, val_auc_roc: 0.8619, train_ap: 0.2489, val_ap: 0.3991,               train_f1_score: 0.2814, val_f1_score: 0.3462, train_precision: 0.1731, val_precision: 0.2259\n",
      "\n",
      "\n",
      "============================== Test Result ==============================\n",
      "\t\ttest_acc: 0.8281, test_auc_roc: 0.8657,test_f1: 0.2941,test_precision:0.1827\n",
      "\t\ttest_recall: 0.7542, test_int_ap: 0.3554,test_ap: 0.3554\n"
     ]
    }
   ],
   "source": [
    "# single fold split model train and test\n",
    "import warnings\n",
    "from contextlib import redirect_stdout\n",
    "\n",
    "X = df_all_se['STITCH ID STEREO'].values\n",
    "y = np.stack(df_all_se['MEDRA TERM UMLS CONCEPT ID'].apply(lambda x: all_of_k_encoding_unk(eval(x), unique_values)))\n",
    "X_train, X_test, y_train, y_test = train_test_split(X, y, test_size=0.2)\n",
    "\n",
    "X_train, y_train, X_val, y_val = split_train_valid(X_train, y_train, 1)\n",
    "print(f'X_train: {X_train.shape}, y_train: {y_train.shape}, X_val: {X_val.shape}, y_val: {y_val.shape}, X_test: {X_test.shape}, y_test: {y_test.shape}')\n",
    "\n",
    "train_tup = list(zip(X_train, y_train))\n",
    "val_tup = list(zip(X_val, y_val))\n",
    "test_tup = list(zip(X_test, y_test))\n",
    "\n",
    "train_data = DrugDataset(train_tup, ratio=1, neg_ent=1)\n",
    "val_data = DrugDataset(val_tup, ratio=1, neg_ent=1)\n",
    "test_data = DrugDataset(test_tup, ratio=1, neg_ent=1)\n",
    "\n",
    "print(f\"Training with {len(train_data)} samples, validating with {len(val_data)}, and testing with {len(test_data)}\")\n",
    "\n",
    "train_data_loader = DrugDataLoader(train_data, batch_size=64, shuffle=True,num_workers=2)\n",
    "val_data_loader = DrugDataLoader(val_data, batch_size=64,num_workers=2)\n",
    "test_data_loader = DrugDataLoader(test_data, batch_size=64 *3,num_workers=2)\n",
    "    \n",
    "report_singleF = \"report_singleFWBondFeat.txt\"\n",
    "print(f'Running for single fold')\n",
    "from torch import optim\n",
    "\n",
    "model = GCNv2(num_node_features=55, hidden_channels=128, heads_out_feat_params=[128, 128, 128], blocks_params=[3, 3, 3], num_classes=2061)\n",
    "print(model)\n",
    "optimizer = optim.Adam(model.parameters(), lr=0.001, weight_decay=5e-4)\n",
    "# optimizer = torch.optim.Adam(model.parameters(), lr=0.01)\n",
    "\n",
    "loss = symmetric_cross_entropy_loss #nn.MultiLabelSoftMarginLoss() # DiceLoss(smooth=1e-5) # torch.nn.BCEWithLogitsLoss() # FocalLoss(alpha=0.5, gamma=2) torch.nn.BCELoss() # \n",
    "n_epochs = 100\n",
    "device = torch.device('cuda' if torch.cuda.is_available() else 'cpu')\n",
    "# scheduler = torch.optim.lr_scheduler.ReduceLROnPlateau(optimizer, mode='min', factor=0.1, patience=3, min_lr=0.00001)\n",
    "scheduler = optim.lr_scheduler.LambdaLR(optimizer, lambda epoch: 0.96 ** (epoch))\n",
    "# scheduler = None\n",
    "\n",
    "pkl_name = f'gcn_se_model_singleFWBondFeat.pkl'\n",
    "\n",
    "model.to(device=device)\n",
    "\n",
    "\n",
    "with warnings.catch_warnings():\n",
    "    # with open(report_singleF, 'a') as f:\n",
    "    #     with redirect_stdout(f):\n",
    "    warnings.filterwarnings(\"ignore\")\n",
    "    train(pkl_name, model, train_data_loader, val_data_loader, loss, optimizer, n_epochs, device, scheduler)\n",
    "    model = torch.load(pkl_name)\n",
    "    test(test_data_loader,model)\n",
    "    torch.cuda.empty_cache()\n",
    "    "
   ]
  },
  {
   "cell_type": "code",
   "execution_count": 175,
   "metadata": {},
   "outputs": [
    {
     "name": "stdout",
     "output_type": "stream",
     "text": [
      "\n",
      "\n",
      "============================== Test Result ==============================\n",
      "\t\ttest_acc: 0.9345, test_auc_roc: 0.8377,test_f1: 0.3836,test_precision:0.3390\n",
      "\t\ttest_recall: 0.4417, test_int_ap: 0.3077,test_ap: 0.3072\n"
     ]
    }
   ],
   "source": [
    "test(test_data_loader,model)"
   ]
  },
  {
   "cell_type": "code",
   "execution_count": 65,
   "metadata": {},
   "outputs": [
    {
     "name": "stdout",
     "output_type": "stream",
     "text": [
      "Training with 852 samples, validating with 208, and testing with 266\n",
      "Running for Fold 0\n",
      "GCNv2(\n",
      "  (initial_norm): LayerNorm(55)\n",
      "  (net_norms): ModuleList(\n",
      "    (0): LayerNorm(192)\n",
      "    (1): LayerNorm(192)\n",
      "    (2): LayerNorm(192)\n",
      "  )\n",
      "  (block0): GATv2Conv(55, 64, heads=3)\n",
      "  (block1): GATv2Conv(192, 64, heads=3)\n",
      "  (block2): GATv2Conv(192, 64, heads=3)\n",
      "  (head_norm): LayerNorm(64)\n",
      "  (lin): Sequential(\n",
      "    (0): Linear(in_features=192, out_features=128, bias=True)\n",
      "    (1): ReLU()\n",
      "    (2): Linear(in_features=128, out_features=2061, bias=True)\n",
      "    (3): Sigmoid()\n",
      "  )\n",
      ")\n",
      "Training with 850 samples, validating with 210, and testing with 266\n",
      "Running for Fold 1\n",
      "GCNv2(\n",
      "  (initial_norm): LayerNorm(55)\n",
      "  (net_norms): ModuleList(\n",
      "    (0): LayerNorm(192)\n",
      "    (1): LayerNorm(192)\n",
      "    (2): LayerNorm(192)\n",
      "  )\n",
      "  (block0): GATv2Conv(55, 64, heads=3)\n",
      "  (block1): GATv2Conv(192, 64, heads=3)\n",
      "  (block2): GATv2Conv(192, 64, heads=3)\n",
      "  (head_norm): LayerNorm(64)\n",
      "  (lin): Sequential(\n",
      "    (0): Linear(in_features=192, out_features=128, bias=True)\n",
      "    (1): ReLU()\n",
      "    (2): Linear(in_features=128, out_features=2061, bias=True)\n",
      "    (3): Sigmoid()\n",
      "  )\n",
      ")\n",
      "Training with 853 samples, validating with 207, and testing with 266\n",
      "Running for Fold 2\n",
      "GCNv2(\n",
      "  (initial_norm): LayerNorm(55)\n",
      "  (net_norms): ModuleList(\n",
      "    (0): LayerNorm(192)\n",
      "    (1): LayerNorm(192)\n",
      "    (2): LayerNorm(192)\n",
      "  )\n",
      "  (block0): GATv2Conv(55, 64, heads=3)\n",
      "  (block1): GATv2Conv(192, 64, heads=3)\n",
      "  (block2): GATv2Conv(192, 64, heads=3)\n",
      "  (head_norm): LayerNorm(64)\n",
      "  (lin): Sequential(\n",
      "    (0): Linear(in_features=192, out_features=128, bias=True)\n",
      "    (1): ReLU()\n",
      "    (2): Linear(in_features=128, out_features=2061, bias=True)\n",
      "    (3): Sigmoid()\n",
      "  )\n",
      ")\n",
      "Training with 852 samples, validating with 208, and testing with 266\n",
      "Running for Fold 3\n",
      "GCNv2(\n",
      "  (initial_norm): LayerNorm(55)\n",
      "  (net_norms): ModuleList(\n",
      "    (0): LayerNorm(192)\n",
      "    (1): LayerNorm(192)\n",
      "    (2): LayerNorm(192)\n",
      "  )\n",
      "  (block0): GATv2Conv(55, 64, heads=3)\n",
      "  (block1): GATv2Conv(192, 64, heads=3)\n",
      "  (block2): GATv2Conv(192, 64, heads=3)\n",
      "  (head_norm): LayerNorm(64)\n",
      "  (lin): Sequential(\n",
      "    (0): Linear(in_features=192, out_features=128, bias=True)\n",
      "    (1): ReLU()\n",
      "    (2): Linear(in_features=128, out_features=2061, bias=True)\n",
      "    (3): Sigmoid()\n",
      "  )\n",
      ")\n",
      "Training with 833 samples, validating with 227, and testing with 266\n",
      "Running for Fold 4\n",
      "GCNv2(\n",
      "  (initial_norm): LayerNorm(55)\n",
      "  (net_norms): ModuleList(\n",
      "    (0): LayerNorm(192)\n",
      "    (1): LayerNorm(192)\n",
      "    (2): LayerNorm(192)\n",
      "  )\n",
      "  (block0): GATv2Conv(55, 64, heads=3)\n",
      "  (block1): GATv2Conv(192, 64, heads=3)\n",
      "  (block2): GATv2Conv(192, 64, heads=3)\n",
      "  (head_norm): LayerNorm(64)\n",
      "  (lin): Sequential(\n",
      "    (0): Linear(in_features=192, out_features=128, bias=True)\n",
      "    (1): ReLU()\n",
      "    (2): Linear(in_features=128, out_features=2061, bias=True)\n",
      "    (3): Sigmoid()\n",
      "  )\n",
      ")\n"
     ]
    }
   ],
   "source": [
    "import warnings\n",
    "X = df_all_se['STITCH ID STEREO'].values\n",
    "y = np.stack(df_all_se['MEDRA TERM UMLS CONCEPT ID'].apply(lambda x: all_of_k_encoding_unk(eval(x), unique_values)))\n",
    "from contextlib import redirect_stdout\n",
    "from sklearn.model_selection import train_test_split\n",
    "# Split data into training (60%), validation (20%), and testing (20%) sets\n",
    "X_train, X_test, y_train, y_test = train_test_split(X, y, test_size=0.2)\n",
    "test_tup = list(zip(X_test, y_test))\n",
    "test_data = DrugDataset(test_tup, ratio=1, neg_ent=1)\n",
    "test_data_loader = DrugDataLoader(test_data, batch_size=64 *3,num_workers=2)\n",
    "    \n",
    "report = \"report_bond_5Fold.txt\"\n",
    "with warnings.catch_warnings():\n",
    "    warnings.filterwarnings(\"ignore\", category=UserWarning)\n",
    "    for fold, (X_train, y_train, X_val, y_val) in enumerate(ksplit_train_valid(X_train, y_train, 5)):\n",
    "        train_tup = list(zip(X_train, y_train))\n",
    "        val_tup = list(zip(X_val, y_val))\n",
    "        \n",
    "        train_data = DrugDataset(train_tup, ratio=1, neg_ent=1)\n",
    "        val_data = DrugDataset(val_tup, ratio=1, neg_ent=1)\n",
    "        \n",
    "        print(f\"Training with {len(train_data)} samples, validating with {len(val_data)}, and testing with {len(test_data)}\")\n",
    "\n",
    "        train_data_loader = DrugDataLoader(train_data, batch_size=64, shuffle=True,num_workers=2)\n",
    "        val_data_loader = DrugDataLoader(val_data, batch_size=64,num_workers=2)\n",
    "        \n",
    "        \n",
    "        print(f'Running for Fold {fold}')\n",
    "        from torch import optim\n",
    "\n",
    "        model = GCNv2(num_node_features=55, hidden_channels=64, heads_out_feat_params=[64, 64, 64], blocks_params=[3, 3, 3], num_classes=2061)\n",
    "        print(model)\n",
    "        optimizer = optim.Adam(model.parameters(), lr=0.001, weight_decay=5e-4)\n",
    "        # optimizer = torch.optim.Adam(model.parameters(), lr=0.01)\n",
    "        loss = DiceLoss(smooth=1e-5) # torch.nn.BCEWithLogitsLoss() # FocalLoss(alpha=0.5, gamma=2) torch.nn.BCELoss() # \n",
    "        n_epochs = 50\n",
    "        device = torch.device('cuda' if torch.cuda.is_available() else 'cpu')\n",
    "        # scheduler = torch.optim.lr_scheduler.ReduceLROnPlateau(optimizer, mode='min', factor=0.1, patience=3, min_lr=0.00001)\n",
    "        # scheduler = optim.lr_scheduler.LambdaLR(optimizer, lambda epoch: 0.96 ** (epoch))\n",
    "        scheduler = None\n",
    "        pkl_name = f'gcn_se_model_bond_{fold}.pkl'\n",
    "\n",
    "        model.to(device=device)\n",
    "        # pass the print statements to a file\n",
    "        with open(report, 'a') as f:\n",
    "            with redirect_stdout(f):\n",
    "                print(f'Running for Fold {fold}')\n",
    "                train(pkl_name, model, train_data_loader, val_data_loader, loss, optimizer, n_epochs, device, scheduler)\n",
    "                test(test_data_loader, model)\n",
    "        # Clear intermediate variables to free CUDA memory\n",
    "        del train_data_loader, val_data_loader, train_data, val_data, X_train, y_train, X_val, y_val, train_tup, val_tup\n",
    "        \n",
    "\n",
    "        del model \n",
    "        torch.cuda.empty_cache()"
   ]
  },
  {
   "cell_type": "code",
   "execution_count": 84,
   "metadata": {},
   "outputs": [
    {
     "name": "stdout",
     "output_type": "stream",
     "text": [
      "\n",
      "\n",
      "============================== Test Result ==============================\n",
      "\t\ttest_acc: 0.9346, test_auc_roc: 0.8276,test_f1: 0.4111,test_precision:0.3920\n",
      "\t\ttest_recall: 0.4321, test_int_ap: 0.3155,test_ap: 0.3155\n"
     ]
    }
   ],
   "source": [
    "test(test_data_loader, model)"
   ]
  },
  {
   "cell_type": "code",
   "execution_count": 82,
   "metadata": {},
   "outputs": [
    {
     "name": "stdout",
     "output_type": "stream",
     "text": [
      "\n",
      "\n",
      "============================== Test Result ==============================\n",
      "\t\ttest_acc: 0.9346, test_auc_roc: 0.8276,test_f1: 0.4111,test_precision:0.3920\n",
      "\t\ttest_recall: 0.4321, test_int_ap: 0.3155,test_ap: 0.3155\n"
     ]
    }
   ],
   "source": [
    "test(test_data_loader,model.to(device))"
   ]
  },
  {
   "cell_type": "code",
   "execution_count": 170,
   "metadata": {},
   "outputs": [
    {
     "name": "stderr",
     "output_type": "stream",
     "text": [
      "/home/mayank/miniconda3/envs/dsn/lib/python3.7/site-packages/ipykernel_launcher.py:46: UserWarning: Creating a tensor from a list of numpy.ndarrays is extremely slow. Please consider converting the list to a single numpy.ndarray with numpy.array() before converting to a tensor. (Triggered internally at  /opt/conda/conda-bld/pytorch_1646755953518/work/torch/csrc/utils/tensor_new.cpp:210.)\n",
      "/home/mayank/miniconda3/envs/dsn/lib/python3.7/site-packages/ipykernel_launcher.py:46: UserWarning: Creating a tensor from a list of numpy.ndarrays is extremely slow. Please consider converting the list to a single numpy.ndarray with numpy.array() before converting to a tensor. (Triggered internally at  /opt/conda/conda-bld/pytorch_1646755953518/work/torch/csrc/utils/tensor_new.cpp:210.)\n"
     ]
    },
    {
     "name": "stdout",
     "output_type": "stream",
     "text": [
      "\n",
      "\n",
      "============================== Test Result ==============================\n",
      "\t\ttest_acc: 0.9489, test_auc_roc: 0.8596,test_f1: 0.1071,test_precision:0.7624\n",
      "\t\ttest_recall: 0.0576, test_int_ap: 0.3644,test_ap: 0.3644\n"
     ]
    }
   ],
   "source": [
    "test(test_data_loader,model.to(device))"
   ]
  },
  {
   "cell_type": "code",
   "execution_count": 171,
   "metadata": {},
   "outputs": [
    {
     "name": "stderr",
     "output_type": "stream",
     "text": [
      "/home/mayank/miniconda3/envs/dsn/lib/python3.7/site-packages/ipykernel_launcher.py:46: UserWarning: Creating a tensor from a list of numpy.ndarrays is extremely slow. Please consider converting the list to a single numpy.ndarray with numpy.array() before converting to a tensor. (Triggered internally at  /opt/conda/conda-bld/pytorch_1646755953518/work/torch/csrc/utils/tensor_new.cpp:210.)\n",
      "/home/mayank/miniconda3/envs/dsn/lib/python3.7/site-packages/ipykernel_launcher.py:46: UserWarning: Creating a tensor from a list of numpy.ndarrays is extremely slow. Please consider converting the list to a single numpy.ndarray with numpy.array() before converting to a tensor. (Triggered internally at  /opt/conda/conda-bld/pytorch_1646755953518/work/torch/csrc/utils/tensor_new.cpp:210.)\n",
      "/home/mayank/miniconda3/envs/dsn/lib/python3.7/site-packages/sklearn/metrics/_classification.py:1318: UndefinedMetricWarning: Precision is ill-defined and being set to 0.0 due to no predicted samples. Use `zero_division` parameter to control this behavior.\n",
      "  _warn_prf(average, modifier, msg_start, len(result))\n"
     ]
    },
    {
     "name": "stdout",
     "output_type": "stream",
     "text": [
      "\n",
      "\n",
      "============================== Test Result ==============================\n",
      "\t\ttest_acc: 0.9468, test_auc_roc: 0.5271,test_f1: 0.0000,test_precision:0.0000\n",
      "\t\ttest_recall: 0.0000, test_int_ap: 0.0586,test_ap: 0.0586\n"
     ]
    }
   ],
   "source": [
    "test(test_data_loader,model_untrained.to(device))"
   ]
  },
  {
   "cell_type": "code",
   "execution_count": null,
   "metadata": {},
   "outputs": [],
   "source": [
    "============================== Test Result ==============================\n",
    "\t\ttest_acc: 0.9489, test_auc_roc: 0.8552,test_f1: 0.1073,test_precision:0.7604\n",
    "\t\ttest_recall: 0.0577, test_int_ap: 0.3606,test_ap: 0.3606"
   ]
  },
  {
   "cell_type": "code",
   "execution_count": 2,
   "metadata": {},
   "outputs": [
    {
     "ename": "NameError",
     "evalue": "name 'model' is not defined",
     "output_type": "error",
     "traceback": [
      "\u001b[0;31m---------------------------------------------------------------------------\u001b[0m",
      "\u001b[0;31mNameError\u001b[0m                                 Traceback (most recent call last)",
      "\u001b[0;32m/tmp/ipykernel_975/2101565185.py\u001b[0m in \u001b[0;36m<module>\u001b[0;34m\u001b[0m\n\u001b[1;32m      1\u001b[0m \u001b[0;31m# with 55 featurea\u001b[0m\u001b[0;34m\u001b[0m\u001b[0;34m\u001b[0m\u001b[0;34m\u001b[0m\u001b[0m\n\u001b[0;32m----> 2\u001b[0;31m \u001b[0mtrain\u001b[0m\u001b[0;34m(\u001b[0m\u001b[0mmodel\u001b[0m\u001b[0;34m,\u001b[0m \u001b[0mtrain_data_loader\u001b[0m\u001b[0;34m,\u001b[0m \u001b[0mval_data_loader\u001b[0m\u001b[0;34m,\u001b[0m \u001b[0mloss\u001b[0m\u001b[0;34m,\u001b[0m \u001b[0moptimizer\u001b[0m\u001b[0;34m,\u001b[0m \u001b[0mn_epochs\u001b[0m\u001b[0;34m,\u001b[0m \u001b[0mdevice\u001b[0m\u001b[0;34m,\u001b[0m \u001b[0mscheduler\u001b[0m\u001b[0;34m)\u001b[0m\u001b[0;34m\u001b[0m\u001b[0;34m\u001b[0m\u001b[0m\n\u001b[0m",
      "\u001b[0;31mNameError\u001b[0m: name 'model' is not defined"
     ]
    }
   ],
   "source": [
    "# with 55 featurea\n",
    "train(model, train_data_loader, val_data_loader, loss, optimizer, n_epochs, device, scheduler)"
   ]
  },
  {
   "cell_type": "code",
   "execution_count": 222,
   "metadata": {},
   "outputs": [
    {
     "name": "stderr",
     "output_type": "stream",
     "text": [
      "/home/mayank/miniconda3/envs/dsn/lib/python3.7/site-packages/ipykernel_launcher.py:46: UserWarning: Creating a tensor from a list of numpy.ndarrays is extremely slow. Please consider converting the list to a single numpy.ndarray with numpy.array() before converting to a tensor. (Triggered internally at  /opt/conda/conda-bld/pytorch_1646755953518/work/torch/csrc/utils/tensor_new.cpp:210.)\n",
      "/home/mayank/miniconda3/envs/dsn/lib/python3.7/site-packages/ipykernel_launcher.py:46: UserWarning: Creating a tensor from a list of numpy.ndarrays is extremely slow. Please consider converting the list to a single numpy.ndarray with numpy.array() before converting to a tensor. (Triggered internally at  /opt/conda/conda-bld/pytorch_1646755953518/work/torch/csrc/utils/tensor_new.cpp:210.)\n"
     ]
    },
    {
     "name": "stdout",
     "output_type": "stream",
     "text": [
      "\n",
      "\n",
      "============================== Test Result ==============================\n",
      "\t\ttest_acc: 0.9489, test_auc_roc: 0.8540,test_f1: 0.1105,test_precision:0.7581\n",
      "\t\ttest_recall: 0.0596, test_int_ap: 0.3595,test_ap: 0.3595\n"
     ]
    }
   ],
   "source": [
    "test(test_data_loader,model)"
   ]
  },
  {
   "cell_type": "code",
   "execution_count": 114,
   "metadata": {},
   "outputs": [
    {
     "name": "stdout",
     "output_type": "stream",
     "text": [
      "Starting training at 2023-06-05 11:39:26.262700\n"
     ]
    },
    {
     "name": "stderr",
     "output_type": "stream",
     "text": [
      "/home/mayank/miniconda3/envs/dsn/lib/python3.7/site-packages/ipykernel_launcher.py:46: UserWarning: Creating a tensor from a list of numpy.ndarrays is extremely slow. Please consider converting the list to a single numpy.ndarray with numpy.array() before converting to a tensor. (Triggered internally at  /opt/conda/conda-bld/pytorch_1646755953518/work/torch/csrc/utils/tensor_new.cpp:210.)\n",
      "/home/mayank/miniconda3/envs/dsn/lib/python3.7/site-packages/ipykernel_launcher.py:46: UserWarning: Creating a tensor from a list of numpy.ndarrays is extremely slow. Please consider converting the list to a single numpy.ndarray with numpy.array() before converting to a tensor. (Triggered internally at  /opt/conda/conda-bld/pytorch_1646755953518/work/torch/csrc/utils/tensor_new.cpp:210.)\n",
      "/home/mayank/miniconda3/envs/dsn/lib/python3.7/site-packages/ipykernel_launcher.py:46: UserWarning: Creating a tensor from a list of numpy.ndarrays is extremely slow. Please consider converting the list to a single numpy.ndarray with numpy.array() before converting to a tensor. (Triggered internally at  /opt/conda/conda-bld/pytorch_1646755953518/work/torch/csrc/utils/tensor_new.cpp:210.)\n",
      "/home/mayank/miniconda3/envs/dsn/lib/python3.7/site-packages/ipykernel_launcher.py:46: UserWarning: Creating a tensor from a list of numpy.ndarrays is extremely slow. Please consider converting the list to a single numpy.ndarray with numpy.array() before converting to a tensor. (Triggered internally at  /opt/conda/conda-bld/pytorch_1646755953518/work/torch/csrc/utils/tensor_new.cpp:210.)\n"
     ]
    },
    {
     "name": "stdout",
     "output_type": "stream",
     "text": [
      "Epoch: 1 (4.6006s), train_loss: 0.1211, val_loss: 0.1729, train_acc: 0.9579, val_acc:0.9519\n",
      "\t\ttrain_roc: 0.9112, val_roc: 0.8712, train_precision: 0.7696, val_precision: 0.6045\n"
     ]
    },
    {
     "name": "stderr",
     "output_type": "stream",
     "text": [
      "/home/mayank/miniconda3/envs/dsn/lib/python3.7/site-packages/ipykernel_launcher.py:46: UserWarning: Creating a tensor from a list of numpy.ndarrays is extremely slow. Please consider converting the list to a single numpy.ndarray with numpy.array() before converting to a tensor. (Triggered internally at  /opt/conda/conda-bld/pytorch_1646755953518/work/torch/csrc/utils/tensor_new.cpp:210.)\n",
      "/home/mayank/miniconda3/envs/dsn/lib/python3.7/site-packages/ipykernel_launcher.py:46: UserWarning: Creating a tensor from a list of numpy.ndarrays is extremely slow. Please consider converting the list to a single numpy.ndarray with numpy.array() before converting to a tensor. (Triggered internally at  /opt/conda/conda-bld/pytorch_1646755953518/work/torch/csrc/utils/tensor_new.cpp:210.)\n",
      "/home/mayank/miniconda3/envs/dsn/lib/python3.7/site-packages/ipykernel_launcher.py:46: UserWarning: Creating a tensor from a list of numpy.ndarrays is extremely slow. Please consider converting the list to a single numpy.ndarray with numpy.array() before converting to a tensor. (Triggered internally at  /opt/conda/conda-bld/pytorch_1646755953518/work/torch/csrc/utils/tensor_new.cpp:210.)\n",
      "/home/mayank/miniconda3/envs/dsn/lib/python3.7/site-packages/ipykernel_launcher.py:46: UserWarning: Creating a tensor from a list of numpy.ndarrays is extremely slow. Please consider converting the list to a single numpy.ndarray with numpy.array() before converting to a tensor. (Triggered internally at  /opt/conda/conda-bld/pytorch_1646755953518/work/torch/csrc/utils/tensor_new.cpp:210.)\n"
     ]
    },
    {
     "name": "stdout",
     "output_type": "stream",
     "text": [
      "Epoch: 2 (4.5407s), train_loss: 0.1406, val_loss: 0.1526, train_acc: 0.9566, val_acc:0.9525\n",
      "\t\ttrain_roc: 0.8736, val_roc: 0.8652, train_precision: 0.7262, val_precision: 0.6713\n"
     ]
    },
    {
     "name": "stderr",
     "output_type": "stream",
     "text": [
      "/home/mayank/miniconda3/envs/dsn/lib/python3.7/site-packages/ipykernel_launcher.py:46: UserWarning: Creating a tensor from a list of numpy.ndarrays is extremely slow. Please consider converting the list to a single numpy.ndarray with numpy.array() before converting to a tensor. (Triggered internally at  /opt/conda/conda-bld/pytorch_1646755953518/work/torch/csrc/utils/tensor_new.cpp:210.)\n",
      "/home/mayank/miniconda3/envs/dsn/lib/python3.7/site-packages/ipykernel_launcher.py:46: UserWarning: Creating a tensor from a list of numpy.ndarrays is extremely slow. Please consider converting the list to a single numpy.ndarray with numpy.array() before converting to a tensor. (Triggered internally at  /opt/conda/conda-bld/pytorch_1646755953518/work/torch/csrc/utils/tensor_new.cpp:210.)\n",
      "/home/mayank/miniconda3/envs/dsn/lib/python3.7/site-packages/ipykernel_launcher.py:46: UserWarning: Creating a tensor from a list of numpy.ndarrays is extremely slow. Please consider converting the list to a single numpy.ndarray with numpy.array() before converting to a tensor. (Triggered internally at  /opt/conda/conda-bld/pytorch_1646755953518/work/torch/csrc/utils/tensor_new.cpp:210.)\n",
      "/home/mayank/miniconda3/envs/dsn/lib/python3.7/site-packages/ipykernel_launcher.py:46: UserWarning: Creating a tensor from a list of numpy.ndarrays is extremely slow. Please consider converting the list to a single numpy.ndarray with numpy.array() before converting to a tensor. (Triggered internally at  /opt/conda/conda-bld/pytorch_1646755953518/work/torch/csrc/utils/tensor_new.cpp:210.)\n"
     ]
    },
    {
     "name": "stdout",
     "output_type": "stream",
     "text": [
      "Epoch: 3 (4.7539s), train_loss: 0.1424, val_loss: 0.1553, train_acc: 0.9566, val_acc:0.9527\n",
      "\t\ttrain_roc: 0.8577, val_roc: 0.8555, train_precision: 0.6677, val_precision: 0.6613\n"
     ]
    },
    {
     "name": "stderr",
     "output_type": "stream",
     "text": [
      "/home/mayank/miniconda3/envs/dsn/lib/python3.7/site-packages/ipykernel_launcher.py:46: UserWarning: Creating a tensor from a list of numpy.ndarrays is extremely slow. Please consider converting the list to a single numpy.ndarray with numpy.array() before converting to a tensor. (Triggered internally at  /opt/conda/conda-bld/pytorch_1646755953518/work/torch/csrc/utils/tensor_new.cpp:210.)\n",
      "/home/mayank/miniconda3/envs/dsn/lib/python3.7/site-packages/ipykernel_launcher.py:46: UserWarning: Creating a tensor from a list of numpy.ndarrays is extremely slow. Please consider converting the list to a single numpy.ndarray with numpy.array() before converting to a tensor. (Triggered internally at  /opt/conda/conda-bld/pytorch_1646755953518/work/torch/csrc/utils/tensor_new.cpp:210.)\n",
      "/home/mayank/miniconda3/envs/dsn/lib/python3.7/site-packages/ipykernel_launcher.py:46: UserWarning: Creating a tensor from a list of numpy.ndarrays is extremely slow. Please consider converting the list to a single numpy.ndarray with numpy.array() before converting to a tensor. (Triggered internally at  /opt/conda/conda-bld/pytorch_1646755953518/work/torch/csrc/utils/tensor_new.cpp:210.)\n",
      "/home/mayank/miniconda3/envs/dsn/lib/python3.7/site-packages/ipykernel_launcher.py:46: UserWarning: Creating a tensor from a list of numpy.ndarrays is extremely slow. Please consider converting the list to a single numpy.ndarray with numpy.array() before converting to a tensor. (Triggered internally at  /opt/conda/conda-bld/pytorch_1646755953518/work/torch/csrc/utils/tensor_new.cpp:210.)\n"
     ]
    },
    {
     "name": "stdout",
     "output_type": "stream",
     "text": [
      "Epoch: 4 (4.3528s), train_loss: 0.1479, val_loss: 0.1512, train_acc: 0.9561, val_acc:0.9525\n",
      "\t\ttrain_roc: 0.8338, val_roc: 0.8499, train_precision: 0.6071, val_precision: 0.5988\n"
     ]
    },
    {
     "name": "stderr",
     "output_type": "stream",
     "text": [
      "/home/mayank/miniconda3/envs/dsn/lib/python3.7/site-packages/ipykernel_launcher.py:46: UserWarning: Creating a tensor from a list of numpy.ndarrays is extremely slow. Please consider converting the list to a single numpy.ndarray with numpy.array() before converting to a tensor. (Triggered internally at  /opt/conda/conda-bld/pytorch_1646755953518/work/torch/csrc/utils/tensor_new.cpp:210.)\n",
      "/home/mayank/miniconda3/envs/dsn/lib/python3.7/site-packages/ipykernel_launcher.py:46: UserWarning: Creating a tensor from a list of numpy.ndarrays is extremely slow. Please consider converting the list to a single numpy.ndarray with numpy.array() before converting to a tensor. (Triggered internally at  /opt/conda/conda-bld/pytorch_1646755953518/work/torch/csrc/utils/tensor_new.cpp:210.)\n",
      "/home/mayank/miniconda3/envs/dsn/lib/python3.7/site-packages/ipykernel_launcher.py:46: UserWarning: Creating a tensor from a list of numpy.ndarrays is extremely slow. Please consider converting the list to a single numpy.ndarray with numpy.array() before converting to a tensor. (Triggered internally at  /opt/conda/conda-bld/pytorch_1646755953518/work/torch/csrc/utils/tensor_new.cpp:210.)\n",
      "/home/mayank/miniconda3/envs/dsn/lib/python3.7/site-packages/ipykernel_launcher.py:46: UserWarning: Creating a tensor from a list of numpy.ndarrays is extremely slow. Please consider converting the list to a single numpy.ndarray with numpy.array() before converting to a tensor. (Triggered internally at  /opt/conda/conda-bld/pytorch_1646755953518/work/torch/csrc/utils/tensor_new.cpp:210.)\n"
     ]
    },
    {
     "name": "stdout",
     "output_type": "stream",
     "text": [
      "Epoch: 5 (4.3476s), train_loss: 0.1527, val_loss: 0.1538, train_acc: 0.9557, val_acc:0.9519\n",
      "\t\ttrain_roc: 0.8158, val_roc: 0.8451, train_precision: 0.5563, val_precision: 0.5618\n"
     ]
    },
    {
     "name": "stderr",
     "output_type": "stream",
     "text": [
      "/home/mayank/miniconda3/envs/dsn/lib/python3.7/site-packages/ipykernel_launcher.py:46: UserWarning: Creating a tensor from a list of numpy.ndarrays is extremely slow. Please consider converting the list to a single numpy.ndarray with numpy.array() before converting to a tensor. (Triggered internally at  /opt/conda/conda-bld/pytorch_1646755953518/work/torch/csrc/utils/tensor_new.cpp:210.)\n",
      "/home/mayank/miniconda3/envs/dsn/lib/python3.7/site-packages/ipykernel_launcher.py:46: UserWarning: Creating a tensor from a list of numpy.ndarrays is extremely slow. Please consider converting the list to a single numpy.ndarray with numpy.array() before converting to a tensor. (Triggered internally at  /opt/conda/conda-bld/pytorch_1646755953518/work/torch/csrc/utils/tensor_new.cpp:210.)\n",
      "/home/mayank/miniconda3/envs/dsn/lib/python3.7/site-packages/ipykernel_launcher.py:46: UserWarning: Creating a tensor from a list of numpy.ndarrays is extremely slow. Please consider converting the list to a single numpy.ndarray with numpy.array() before converting to a tensor. (Triggered internally at  /opt/conda/conda-bld/pytorch_1646755953518/work/torch/csrc/utils/tensor_new.cpp:210.)\n",
      "/home/mayank/miniconda3/envs/dsn/lib/python3.7/site-packages/ipykernel_launcher.py:46: UserWarning: Creating a tensor from a list of numpy.ndarrays is extremely slow. Please consider converting the list to a single numpy.ndarray with numpy.array() before converting to a tensor. (Triggered internally at  /opt/conda/conda-bld/pytorch_1646755953518/work/torch/csrc/utils/tensor_new.cpp:210.)\n"
     ]
    },
    {
     "name": "stdout",
     "output_type": "stream",
     "text": [
      "Epoch: 6 (4.4540s), train_loss: 0.1498, val_loss: 0.1548, train_acc: 0.9557, val_acc:0.9526\n",
      "\t\ttrain_roc: 0.8194, val_roc: 0.8392, train_precision: 0.5539, val_precision: 0.5715\n"
     ]
    },
    {
     "name": "stderr",
     "output_type": "stream",
     "text": [
      "/home/mayank/miniconda3/envs/dsn/lib/python3.7/site-packages/ipykernel_launcher.py:46: UserWarning: Creating a tensor from a list of numpy.ndarrays is extremely slow. Please consider converting the list to a single numpy.ndarray with numpy.array() before converting to a tensor. (Triggered internally at  /opt/conda/conda-bld/pytorch_1646755953518/work/torch/csrc/utils/tensor_new.cpp:210.)\n",
      "/home/mayank/miniconda3/envs/dsn/lib/python3.7/site-packages/ipykernel_launcher.py:46: UserWarning: Creating a tensor from a list of numpy.ndarrays is extremely slow. Please consider converting the list to a single numpy.ndarray with numpy.array() before converting to a tensor. (Triggered internally at  /opt/conda/conda-bld/pytorch_1646755953518/work/torch/csrc/utils/tensor_new.cpp:210.)\n",
      "/home/mayank/miniconda3/envs/dsn/lib/python3.7/site-packages/ipykernel_launcher.py:46: UserWarning: Creating a tensor from a list of numpy.ndarrays is extremely slow. Please consider converting the list to a single numpy.ndarray with numpy.array() before converting to a tensor. (Triggered internally at  /opt/conda/conda-bld/pytorch_1646755953518/work/torch/csrc/utils/tensor_new.cpp:210.)\n",
      "/home/mayank/miniconda3/envs/dsn/lib/python3.7/site-packages/ipykernel_launcher.py:46: UserWarning: Creating a tensor from a list of numpy.ndarrays is extremely slow. Please consider converting the list to a single numpy.ndarray with numpy.array() before converting to a tensor. (Triggered internally at  /opt/conda/conda-bld/pytorch_1646755953518/work/torch/csrc/utils/tensor_new.cpp:210.)\n"
     ]
    },
    {
     "name": "stdout",
     "output_type": "stream",
     "text": [
      "Epoch: 7 (4.3085s), train_loss: 0.1505, val_loss: 0.1648, train_acc: 0.9557, val_acc:0.9514\n",
      "\t\ttrain_roc: 0.8161, val_roc: 0.8117, train_precision: 0.5494, val_precision: 0.6924\n"
     ]
    },
    {
     "name": "stderr",
     "output_type": "stream",
     "text": [
      "/home/mayank/miniconda3/envs/dsn/lib/python3.7/site-packages/ipykernel_launcher.py:46: UserWarning: Creating a tensor from a list of numpy.ndarrays is extremely slow. Please consider converting the list to a single numpy.ndarray with numpy.array() before converting to a tensor. (Triggered internally at  /opt/conda/conda-bld/pytorch_1646755953518/work/torch/csrc/utils/tensor_new.cpp:210.)\n",
      "/home/mayank/miniconda3/envs/dsn/lib/python3.7/site-packages/ipykernel_launcher.py:46: UserWarning: Creating a tensor from a list of numpy.ndarrays is extremely slow. Please consider converting the list to a single numpy.ndarray with numpy.array() before converting to a tensor. (Triggered internally at  /opt/conda/conda-bld/pytorch_1646755953518/work/torch/csrc/utils/tensor_new.cpp:210.)\n",
      "/home/mayank/miniconda3/envs/dsn/lib/python3.7/site-packages/ipykernel_launcher.py:46: UserWarning: Creating a tensor from a list of numpy.ndarrays is extremely slow. Please consider converting the list to a single numpy.ndarray with numpy.array() before converting to a tensor. (Triggered internally at  /opt/conda/conda-bld/pytorch_1646755953518/work/torch/csrc/utils/tensor_new.cpp:210.)\n",
      "/home/mayank/miniconda3/envs/dsn/lib/python3.7/site-packages/ipykernel_launcher.py:46: UserWarning: Creating a tensor from a list of numpy.ndarrays is extremely slow. Please consider converting the list to a single numpy.ndarray with numpy.array() before converting to a tensor. (Triggered internally at  /opt/conda/conda-bld/pytorch_1646755953518/work/torch/csrc/utils/tensor_new.cpp:210.)\n"
     ]
    },
    {
     "name": "stdout",
     "output_type": "stream",
     "text": [
      "Epoch: 8 (4.2616s), train_loss: 0.1521, val_loss: 0.1570, train_acc: 0.9554, val_acc:0.9523\n",
      "\t\ttrain_roc: 0.8088, val_roc: 0.8271, train_precision: 0.5286, val_precision: 0.6108\n"
     ]
    },
    {
     "name": "stderr",
     "output_type": "stream",
     "text": [
      "/home/mayank/miniconda3/envs/dsn/lib/python3.7/site-packages/ipykernel_launcher.py:46: UserWarning: Creating a tensor from a list of numpy.ndarrays is extremely slow. Please consider converting the list to a single numpy.ndarray with numpy.array() before converting to a tensor. (Triggered internally at  /opt/conda/conda-bld/pytorch_1646755953518/work/torch/csrc/utils/tensor_new.cpp:210.)\n",
      "/home/mayank/miniconda3/envs/dsn/lib/python3.7/site-packages/ipykernel_launcher.py:46: UserWarning: Creating a tensor from a list of numpy.ndarrays is extremely slow. Please consider converting the list to a single numpy.ndarray with numpy.array() before converting to a tensor. (Triggered internally at  /opt/conda/conda-bld/pytorch_1646755953518/work/torch/csrc/utils/tensor_new.cpp:210.)\n",
      "/home/mayank/miniconda3/envs/dsn/lib/python3.7/site-packages/ipykernel_launcher.py:46: UserWarning: Creating a tensor from a list of numpy.ndarrays is extremely slow. Please consider converting the list to a single numpy.ndarray with numpy.array() before converting to a tensor. (Triggered internally at  /opt/conda/conda-bld/pytorch_1646755953518/work/torch/csrc/utils/tensor_new.cpp:210.)\n",
      "/home/mayank/miniconda3/envs/dsn/lib/python3.7/site-packages/ipykernel_launcher.py:46: UserWarning: Creating a tensor from a list of numpy.ndarrays is extremely slow. Please consider converting the list to a single numpy.ndarray with numpy.array() before converting to a tensor. (Triggered internally at  /opt/conda/conda-bld/pytorch_1646755953518/work/torch/csrc/utils/tensor_new.cpp:210.)\n"
     ]
    },
    {
     "name": "stdout",
     "output_type": "stream",
     "text": [
      "Epoch: 9 (4.2883s), train_loss: 0.1518, val_loss: 0.1556, train_acc: 0.9558, val_acc:0.9529\n",
      "\t\ttrain_roc: 0.8062, val_roc: 0.8340, train_precision: 0.5649, val_precision: 0.6277\n"
     ]
    },
    {
     "name": "stderr",
     "output_type": "stream",
     "text": [
      "/home/mayank/miniconda3/envs/dsn/lib/python3.7/site-packages/ipykernel_launcher.py:46: UserWarning: Creating a tensor from a list of numpy.ndarrays is extremely slow. Please consider converting the list to a single numpy.ndarray with numpy.array() before converting to a tensor. (Triggered internally at  /opt/conda/conda-bld/pytorch_1646755953518/work/torch/csrc/utils/tensor_new.cpp:210.)\n",
      "/home/mayank/miniconda3/envs/dsn/lib/python3.7/site-packages/ipykernel_launcher.py:46: UserWarning: Creating a tensor from a list of numpy.ndarrays is extremely slow. Please consider converting the list to a single numpy.ndarray with numpy.array() before converting to a tensor. (Triggered internally at  /opt/conda/conda-bld/pytorch_1646755953518/work/torch/csrc/utils/tensor_new.cpp:210.)\n",
      "/home/mayank/miniconda3/envs/dsn/lib/python3.7/site-packages/ipykernel_launcher.py:46: UserWarning: Creating a tensor from a list of numpy.ndarrays is extremely slow. Please consider converting the list to a single numpy.ndarray with numpy.array() before converting to a tensor. (Triggered internally at  /opt/conda/conda-bld/pytorch_1646755953518/work/torch/csrc/utils/tensor_new.cpp:210.)\n",
      "/home/mayank/miniconda3/envs/dsn/lib/python3.7/site-packages/ipykernel_launcher.py:46: UserWarning: Creating a tensor from a list of numpy.ndarrays is extremely slow. Please consider converting the list to a single numpy.ndarray with numpy.array() before converting to a tensor. (Triggered internally at  /opt/conda/conda-bld/pytorch_1646755953518/work/torch/csrc/utils/tensor_new.cpp:210.)\n"
     ]
    },
    {
     "name": "stdout",
     "output_type": "stream",
     "text": [
      "Epoch: 10 (4.4866s), train_loss: 0.1512, val_loss: 0.1629, train_acc: 0.9556, val_acc:0.9525\n",
      "\t\ttrain_roc: 0.8118, val_roc: 0.8035, train_precision: 0.5446, val_precision: 0.7009\n"
     ]
    },
    {
     "name": "stderr",
     "output_type": "stream",
     "text": [
      "/home/mayank/miniconda3/envs/dsn/lib/python3.7/site-packages/ipykernel_launcher.py:46: UserWarning: Creating a tensor from a list of numpy.ndarrays is extremely slow. Please consider converting the list to a single numpy.ndarray with numpy.array() before converting to a tensor. (Triggered internally at  /opt/conda/conda-bld/pytorch_1646755953518/work/torch/csrc/utils/tensor_new.cpp:210.)\n",
      "/home/mayank/miniconda3/envs/dsn/lib/python3.7/site-packages/ipykernel_launcher.py:46: UserWarning: Creating a tensor from a list of numpy.ndarrays is extremely slow. Please consider converting the list to a single numpy.ndarray with numpy.array() before converting to a tensor. (Triggered internally at  /opt/conda/conda-bld/pytorch_1646755953518/work/torch/csrc/utils/tensor_new.cpp:210.)\n",
      "/home/mayank/miniconda3/envs/dsn/lib/python3.7/site-packages/ipykernel_launcher.py:46: UserWarning: Creating a tensor from a list of numpy.ndarrays is extremely slow. Please consider converting the list to a single numpy.ndarray with numpy.array() before converting to a tensor. (Triggered internally at  /opt/conda/conda-bld/pytorch_1646755953518/work/torch/csrc/utils/tensor_new.cpp:210.)\n",
      "/home/mayank/miniconda3/envs/dsn/lib/python3.7/site-packages/ipykernel_launcher.py:46: UserWarning: Creating a tensor from a list of numpy.ndarrays is extremely slow. Please consider converting the list to a single numpy.ndarray with numpy.array() before converting to a tensor. (Triggered internally at  /opt/conda/conda-bld/pytorch_1646755953518/work/torch/csrc/utils/tensor_new.cpp:210.)\n"
     ]
    },
    {
     "name": "stdout",
     "output_type": "stream",
     "text": [
      "Epoch: 11 (4.5909s), train_loss: 0.1494, val_loss: 0.1559, train_acc: 0.9557, val_acc:0.9529\n",
      "\t\ttrain_roc: 0.8175, val_roc: 0.8241, train_precision: 0.5609, val_precision: 0.6627\n"
     ]
    },
    {
     "name": "stderr",
     "output_type": "stream",
     "text": [
      "/home/mayank/miniconda3/envs/dsn/lib/python3.7/site-packages/ipykernel_launcher.py:46: UserWarning: Creating a tensor from a list of numpy.ndarrays is extremely slow. Please consider converting the list to a single numpy.ndarray with numpy.array() before converting to a tensor. (Triggered internally at  /opt/conda/conda-bld/pytorch_1646755953518/work/torch/csrc/utils/tensor_new.cpp:210.)\n",
      "/home/mayank/miniconda3/envs/dsn/lib/python3.7/site-packages/ipykernel_launcher.py:46: UserWarning: Creating a tensor from a list of numpy.ndarrays is extremely slow. Please consider converting the list to a single numpy.ndarray with numpy.array() before converting to a tensor. (Triggered internally at  /opt/conda/conda-bld/pytorch_1646755953518/work/torch/csrc/utils/tensor_new.cpp:210.)\n",
      "/home/mayank/miniconda3/envs/dsn/lib/python3.7/site-packages/ipykernel_launcher.py:46: UserWarning: Creating a tensor from a list of numpy.ndarrays is extremely slow. Please consider converting the list to a single numpy.ndarray with numpy.array() before converting to a tensor. (Triggered internally at  /opt/conda/conda-bld/pytorch_1646755953518/work/torch/csrc/utils/tensor_new.cpp:210.)\n",
      "/home/mayank/miniconda3/envs/dsn/lib/python3.7/site-packages/ipykernel_launcher.py:46: UserWarning: Creating a tensor from a list of numpy.ndarrays is extremely slow. Please consider converting the list to a single numpy.ndarray with numpy.array() before converting to a tensor. (Triggered internally at  /opt/conda/conda-bld/pytorch_1646755953518/work/torch/csrc/utils/tensor_new.cpp:210.)\n"
     ]
    },
    {
     "name": "stdout",
     "output_type": "stream",
     "text": [
      "Epoch: 12 (4.2384s), train_loss: 0.1507, val_loss: 0.1564, train_acc: 0.9559, val_acc:0.9520\n",
      "\t\ttrain_roc: 0.8099, val_roc: 0.8358, train_precision: 0.5701, val_precision: 0.5382\n"
     ]
    },
    {
     "name": "stderr",
     "output_type": "stream",
     "text": [
      "/home/mayank/miniconda3/envs/dsn/lib/python3.7/site-packages/ipykernel_launcher.py:46: UserWarning: Creating a tensor from a list of numpy.ndarrays is extremely slow. Please consider converting the list to a single numpy.ndarray with numpy.array() before converting to a tensor. (Triggered internally at  /opt/conda/conda-bld/pytorch_1646755953518/work/torch/csrc/utils/tensor_new.cpp:210.)\n",
      "/home/mayank/miniconda3/envs/dsn/lib/python3.7/site-packages/ipykernel_launcher.py:46: UserWarning: Creating a tensor from a list of numpy.ndarrays is extremely slow. Please consider converting the list to a single numpy.ndarray with numpy.array() before converting to a tensor. (Triggered internally at  /opt/conda/conda-bld/pytorch_1646755953518/work/torch/csrc/utils/tensor_new.cpp:210.)\n",
      "/home/mayank/miniconda3/envs/dsn/lib/python3.7/site-packages/ipykernel_launcher.py:46: UserWarning: Creating a tensor from a list of numpy.ndarrays is extremely slow. Please consider converting the list to a single numpy.ndarray with numpy.array() before converting to a tensor. (Triggered internally at  /opt/conda/conda-bld/pytorch_1646755953518/work/torch/csrc/utils/tensor_new.cpp:210.)\n",
      "/home/mayank/miniconda3/envs/dsn/lib/python3.7/site-packages/ipykernel_launcher.py:46: UserWarning: Creating a tensor from a list of numpy.ndarrays is extremely slow. Please consider converting the list to a single numpy.ndarray with numpy.array() before converting to a tensor. (Triggered internally at  /opt/conda/conda-bld/pytorch_1646755953518/work/torch/csrc/utils/tensor_new.cpp:210.)\n"
     ]
    },
    {
     "name": "stdout",
     "output_type": "stream",
     "text": [
      "Epoch: 13 (4.2775s), train_loss: 0.1511, val_loss: 0.1548, train_acc: 0.9556, val_acc:0.9521\n",
      "\t\ttrain_roc: 0.8125, val_roc: 0.8284, train_precision: 0.5527, val_precision: 0.5820\n"
     ]
    },
    {
     "name": "stderr",
     "output_type": "stream",
     "text": [
      "/home/mayank/miniconda3/envs/dsn/lib/python3.7/site-packages/ipykernel_launcher.py:46: UserWarning: Creating a tensor from a list of numpy.ndarrays is extremely slow. Please consider converting the list to a single numpy.ndarray with numpy.array() before converting to a tensor. (Triggered internally at  /opt/conda/conda-bld/pytorch_1646755953518/work/torch/csrc/utils/tensor_new.cpp:210.)\n",
      "/home/mayank/miniconda3/envs/dsn/lib/python3.7/site-packages/ipykernel_launcher.py:46: UserWarning: Creating a tensor from a list of numpy.ndarrays is extremely slow. Please consider converting the list to a single numpy.ndarray with numpy.array() before converting to a tensor. (Triggered internally at  /opt/conda/conda-bld/pytorch_1646755953518/work/torch/csrc/utils/tensor_new.cpp:210.)\n",
      "/home/mayank/miniconda3/envs/dsn/lib/python3.7/site-packages/ipykernel_launcher.py:46: UserWarning: Creating a tensor from a list of numpy.ndarrays is extremely slow. Please consider converting the list to a single numpy.ndarray with numpy.array() before converting to a tensor. (Triggered internally at  /opt/conda/conda-bld/pytorch_1646755953518/work/torch/csrc/utils/tensor_new.cpp:210.)\n",
      "/home/mayank/miniconda3/envs/dsn/lib/python3.7/site-packages/ipykernel_launcher.py:46: UserWarning: Creating a tensor from a list of numpy.ndarrays is extremely slow. Please consider converting the list to a single numpy.ndarray with numpy.array() before converting to a tensor. (Triggered internally at  /opt/conda/conda-bld/pytorch_1646755953518/work/torch/csrc/utils/tensor_new.cpp:210.)\n"
     ]
    },
    {
     "name": "stdout",
     "output_type": "stream",
     "text": [
      "Epoch: 14 (4.3644s), train_loss: 0.1509, val_loss: 0.1541, train_acc: 0.9560, val_acc:0.9522\n",
      "\t\ttrain_roc: 0.8118, val_roc: 0.8278, train_precision: 0.5830, val_precision: 0.5732\n"
     ]
    },
    {
     "name": "stderr",
     "output_type": "stream",
     "text": [
      "/home/mayank/miniconda3/envs/dsn/lib/python3.7/site-packages/ipykernel_launcher.py:46: UserWarning: Creating a tensor from a list of numpy.ndarrays is extremely slow. Please consider converting the list to a single numpy.ndarray with numpy.array() before converting to a tensor. (Triggered internally at  /opt/conda/conda-bld/pytorch_1646755953518/work/torch/csrc/utils/tensor_new.cpp:210.)\n",
      "/home/mayank/miniconda3/envs/dsn/lib/python3.7/site-packages/ipykernel_launcher.py:46: UserWarning: Creating a tensor from a list of numpy.ndarrays is extremely slow. Please consider converting the list to a single numpy.ndarray with numpy.array() before converting to a tensor. (Triggered internally at  /opt/conda/conda-bld/pytorch_1646755953518/work/torch/csrc/utils/tensor_new.cpp:210.)\n",
      "/home/mayank/miniconda3/envs/dsn/lib/python3.7/site-packages/ipykernel_launcher.py:46: UserWarning: Creating a tensor from a list of numpy.ndarrays is extremely slow. Please consider converting the list to a single numpy.ndarray with numpy.array() before converting to a tensor. (Triggered internally at  /opt/conda/conda-bld/pytorch_1646755953518/work/torch/csrc/utils/tensor_new.cpp:210.)\n",
      "/home/mayank/miniconda3/envs/dsn/lib/python3.7/site-packages/ipykernel_launcher.py:46: UserWarning: Creating a tensor from a list of numpy.ndarrays is extremely slow. Please consider converting the list to a single numpy.ndarray with numpy.array() before converting to a tensor. (Triggered internally at  /opt/conda/conda-bld/pytorch_1646755953518/work/torch/csrc/utils/tensor_new.cpp:210.)\n"
     ]
    },
    {
     "name": "stdout",
     "output_type": "stream",
     "text": [
      "Epoch: 15 (4.4272s), train_loss: 0.1428, val_loss: 0.1460, train_acc: 0.9565, val_acc:0.9526\n",
      "\t\ttrain_roc: 0.8359, val_roc: 0.8566, train_precision: 0.6379, val_precision: 0.7547\n"
     ]
    },
    {
     "name": "stderr",
     "output_type": "stream",
     "text": [
      "/home/mayank/miniconda3/envs/dsn/lib/python3.7/site-packages/ipykernel_launcher.py:46: UserWarning: Creating a tensor from a list of numpy.ndarrays is extremely slow. Please consider converting the list to a single numpy.ndarray with numpy.array() before converting to a tensor. (Triggered internally at  /opt/conda/conda-bld/pytorch_1646755953518/work/torch/csrc/utils/tensor_new.cpp:210.)\n",
      "/home/mayank/miniconda3/envs/dsn/lib/python3.7/site-packages/ipykernel_launcher.py:46: UserWarning: Creating a tensor from a list of numpy.ndarrays is extremely slow. Please consider converting the list to a single numpy.ndarray with numpy.array() before converting to a tensor. (Triggered internally at  /opt/conda/conda-bld/pytorch_1646755953518/work/torch/csrc/utils/tensor_new.cpp:210.)\n",
      "/home/mayank/miniconda3/envs/dsn/lib/python3.7/site-packages/ipykernel_launcher.py:46: UserWarning: Creating a tensor from a list of numpy.ndarrays is extremely slow. Please consider converting the list to a single numpy.ndarray with numpy.array() before converting to a tensor. (Triggered internally at  /opt/conda/conda-bld/pytorch_1646755953518/work/torch/csrc/utils/tensor_new.cpp:210.)\n",
      "/home/mayank/miniconda3/envs/dsn/lib/python3.7/site-packages/ipykernel_launcher.py:46: UserWarning: Creating a tensor from a list of numpy.ndarrays is extremely slow. Please consider converting the list to a single numpy.ndarray with numpy.array() before converting to a tensor. (Triggered internally at  /opt/conda/conda-bld/pytorch_1646755953518/work/torch/csrc/utils/tensor_new.cpp:210.)\n"
     ]
    },
    {
     "name": "stdout",
     "output_type": "stream",
     "text": [
      "Epoch: 16 (4.5360s), train_loss: 0.1404, val_loss: 0.1448, train_acc: 0.9565, val_acc:0.9529\n",
      "\t\ttrain_roc: 0.8446, val_roc: 0.8595, train_precision: 0.6837, val_precision: 0.7256\n"
     ]
    },
    {
     "name": "stderr",
     "output_type": "stream",
     "text": [
      "/home/mayank/miniconda3/envs/dsn/lib/python3.7/site-packages/ipykernel_launcher.py:46: UserWarning: Creating a tensor from a list of numpy.ndarrays is extremely slow. Please consider converting the list to a single numpy.ndarray with numpy.array() before converting to a tensor. (Triggered internally at  /opt/conda/conda-bld/pytorch_1646755953518/work/torch/csrc/utils/tensor_new.cpp:210.)\n",
      "/home/mayank/miniconda3/envs/dsn/lib/python3.7/site-packages/ipykernel_launcher.py:46: UserWarning: Creating a tensor from a list of numpy.ndarrays is extremely slow. Please consider converting the list to a single numpy.ndarray with numpy.array() before converting to a tensor. (Triggered internally at  /opt/conda/conda-bld/pytorch_1646755953518/work/torch/csrc/utils/tensor_new.cpp:210.)\n",
      "/home/mayank/miniconda3/envs/dsn/lib/python3.7/site-packages/ipykernel_launcher.py:46: UserWarning: Creating a tensor from a list of numpy.ndarrays is extremely slow. Please consider converting the list to a single numpy.ndarray with numpy.array() before converting to a tensor. (Triggered internally at  /opt/conda/conda-bld/pytorch_1646755953518/work/torch/csrc/utils/tensor_new.cpp:210.)\n",
      "/home/mayank/miniconda3/envs/dsn/lib/python3.7/site-packages/ipykernel_launcher.py:46: UserWarning: Creating a tensor from a list of numpy.ndarrays is extremely slow. Please consider converting the list to a single numpy.ndarray with numpy.array() before converting to a tensor. (Triggered internally at  /opt/conda/conda-bld/pytorch_1646755953518/work/torch/csrc/utils/tensor_new.cpp:210.)\n"
     ]
    },
    {
     "name": "stdout",
     "output_type": "stream",
     "text": [
      "Epoch: 17 (4.3686s), train_loss: 0.1396, val_loss: 0.1450, train_acc: 0.9566, val_acc:0.9529\n",
      "\t\ttrain_roc: 0.8484, val_roc: 0.8592, train_precision: 0.6958, val_precision: 0.7331\n"
     ]
    },
    {
     "name": "stderr",
     "output_type": "stream",
     "text": [
      "/home/mayank/miniconda3/envs/dsn/lib/python3.7/site-packages/ipykernel_launcher.py:46: UserWarning: Creating a tensor from a list of numpy.ndarrays is extremely slow. Please consider converting the list to a single numpy.ndarray with numpy.array() before converting to a tensor. (Triggered internally at  /opt/conda/conda-bld/pytorch_1646755953518/work/torch/csrc/utils/tensor_new.cpp:210.)\n",
      "/home/mayank/miniconda3/envs/dsn/lib/python3.7/site-packages/ipykernel_launcher.py:46: UserWarning: Creating a tensor from a list of numpy.ndarrays is extremely slow. Please consider converting the list to a single numpy.ndarray with numpy.array() before converting to a tensor. (Triggered internally at  /opt/conda/conda-bld/pytorch_1646755953518/work/torch/csrc/utils/tensor_new.cpp:210.)\n",
      "/home/mayank/miniconda3/envs/dsn/lib/python3.7/site-packages/ipykernel_launcher.py:46: UserWarning: Creating a tensor from a list of numpy.ndarrays is extremely slow. Please consider converting the list to a single numpy.ndarray with numpy.array() before converting to a tensor. (Triggered internally at  /opt/conda/conda-bld/pytorch_1646755953518/work/torch/csrc/utils/tensor_new.cpp:210.)\n",
      "/home/mayank/miniconda3/envs/dsn/lib/python3.7/site-packages/ipykernel_launcher.py:46: UserWarning: Creating a tensor from a list of numpy.ndarrays is extremely slow. Please consider converting the list to a single numpy.ndarray with numpy.array() before converting to a tensor. (Triggered internally at  /opt/conda/conda-bld/pytorch_1646755953518/work/torch/csrc/utils/tensor_new.cpp:210.)\n"
     ]
    },
    {
     "name": "stdout",
     "output_type": "stream",
     "text": [
      "Epoch: 18 (4.6489s), train_loss: 0.1389, val_loss: 0.1452, train_acc: 0.9566, val_acc:0.9528\n",
      "\t\ttrain_roc: 0.8493, val_roc: 0.8591, train_precision: 0.7002, val_precision: 0.7183\n"
     ]
    },
    {
     "name": "stderr",
     "output_type": "stream",
     "text": [
      "/home/mayank/miniconda3/envs/dsn/lib/python3.7/site-packages/ipykernel_launcher.py:46: UserWarning: Creating a tensor from a list of numpy.ndarrays is extremely slow. Please consider converting the list to a single numpy.ndarray with numpy.array() before converting to a tensor. (Triggered internally at  /opt/conda/conda-bld/pytorch_1646755953518/work/torch/csrc/utils/tensor_new.cpp:210.)\n",
      "/home/mayank/miniconda3/envs/dsn/lib/python3.7/site-packages/ipykernel_launcher.py:46: UserWarning: Creating a tensor from a list of numpy.ndarrays is extremely slow. Please consider converting the list to a single numpy.ndarray with numpy.array() before converting to a tensor. (Triggered internally at  /opt/conda/conda-bld/pytorch_1646755953518/work/torch/csrc/utils/tensor_new.cpp:210.)\n",
      "/home/mayank/miniconda3/envs/dsn/lib/python3.7/site-packages/ipykernel_launcher.py:46: UserWarning: Creating a tensor from a list of numpy.ndarrays is extremely slow. Please consider converting the list to a single numpy.ndarray with numpy.array() before converting to a tensor. (Triggered internally at  /opt/conda/conda-bld/pytorch_1646755953518/work/torch/csrc/utils/tensor_new.cpp:210.)\n",
      "/home/mayank/miniconda3/envs/dsn/lib/python3.7/site-packages/ipykernel_launcher.py:46: UserWarning: Creating a tensor from a list of numpy.ndarrays is extremely slow. Please consider converting the list to a single numpy.ndarray with numpy.array() before converting to a tensor. (Triggered internally at  /opt/conda/conda-bld/pytorch_1646755953518/work/torch/csrc/utils/tensor_new.cpp:210.)\n"
     ]
    },
    {
     "name": "stdout",
     "output_type": "stream",
     "text": [
      "Epoch: 19 (4.4927s), train_loss: 0.1381, val_loss: 0.1442, train_acc: 0.9567, val_acc:0.9528\n",
      "\t\ttrain_roc: 0.8569, val_roc: 0.8608, train_precision: 0.6928, val_precision: 0.7397\n"
     ]
    },
    {
     "name": "stderr",
     "output_type": "stream",
     "text": [
      "/home/mayank/miniconda3/envs/dsn/lib/python3.7/site-packages/ipykernel_launcher.py:46: UserWarning: Creating a tensor from a list of numpy.ndarrays is extremely slow. Please consider converting the list to a single numpy.ndarray with numpy.array() before converting to a tensor. (Triggered internally at  /opt/conda/conda-bld/pytorch_1646755953518/work/torch/csrc/utils/tensor_new.cpp:210.)\n",
      "/home/mayank/miniconda3/envs/dsn/lib/python3.7/site-packages/ipykernel_launcher.py:46: UserWarning: Creating a tensor from a list of numpy.ndarrays is extremely slow. Please consider converting the list to a single numpy.ndarray with numpy.array() before converting to a tensor. (Triggered internally at  /opt/conda/conda-bld/pytorch_1646755953518/work/torch/csrc/utils/tensor_new.cpp:210.)\n",
      "/home/mayank/miniconda3/envs/dsn/lib/python3.7/site-packages/ipykernel_launcher.py:46: UserWarning: Creating a tensor from a list of numpy.ndarrays is extremely slow. Please consider converting the list to a single numpy.ndarray with numpy.array() before converting to a tensor. (Triggered internally at  /opt/conda/conda-bld/pytorch_1646755953518/work/torch/csrc/utils/tensor_new.cpp:210.)\n",
      "/home/mayank/miniconda3/envs/dsn/lib/python3.7/site-packages/ipykernel_launcher.py:46: UserWarning: Creating a tensor from a list of numpy.ndarrays is extremely slow. Please consider converting the list to a single numpy.ndarray with numpy.array() before converting to a tensor. (Triggered internally at  /opt/conda/conda-bld/pytorch_1646755953518/work/torch/csrc/utils/tensor_new.cpp:210.)\n"
     ]
    },
    {
     "name": "stdout",
     "output_type": "stream",
     "text": [
      "Epoch: 20 (4.6200s), train_loss: 0.1375, val_loss: 0.1441, train_acc: 0.9566, val_acc:0.9528\n",
      "\t\ttrain_roc: 0.8540, val_roc: 0.8611, train_precision: 0.7197, val_precision: 0.7419\n"
     ]
    },
    {
     "name": "stderr",
     "output_type": "stream",
     "text": [
      "/home/mayank/miniconda3/envs/dsn/lib/python3.7/site-packages/ipykernel_launcher.py:46: UserWarning: Creating a tensor from a list of numpy.ndarrays is extremely slow. Please consider converting the list to a single numpy.ndarray with numpy.array() before converting to a tensor. (Triggered internally at  /opt/conda/conda-bld/pytorch_1646755953518/work/torch/csrc/utils/tensor_new.cpp:210.)\n",
      "/home/mayank/miniconda3/envs/dsn/lib/python3.7/site-packages/ipykernel_launcher.py:46: UserWarning: Creating a tensor from a list of numpy.ndarrays is extremely slow. Please consider converting the list to a single numpy.ndarray with numpy.array() before converting to a tensor. (Triggered internally at  /opt/conda/conda-bld/pytorch_1646755953518/work/torch/csrc/utils/tensor_new.cpp:210.)\n",
      "/home/mayank/miniconda3/envs/dsn/lib/python3.7/site-packages/ipykernel_launcher.py:46: UserWarning: Creating a tensor from a list of numpy.ndarrays is extremely slow. Please consider converting the list to a single numpy.ndarray with numpy.array() before converting to a tensor. (Triggered internally at  /opt/conda/conda-bld/pytorch_1646755953518/work/torch/csrc/utils/tensor_new.cpp:210.)\n",
      "/home/mayank/miniconda3/envs/dsn/lib/python3.7/site-packages/ipykernel_launcher.py:46: UserWarning: Creating a tensor from a list of numpy.ndarrays is extremely slow. Please consider converting the list to a single numpy.ndarray with numpy.array() before converting to a tensor. (Triggered internally at  /opt/conda/conda-bld/pytorch_1646755953518/work/torch/csrc/utils/tensor_new.cpp:210.)\n"
     ]
    },
    {
     "name": "stdout",
     "output_type": "stream",
     "text": [
      "Epoch: 21 (4.4734s), train_loss: 0.1359, val_loss: 0.1440, train_acc: 0.9566, val_acc:0.9528\n",
      "\t\ttrain_roc: 0.8610, val_roc: 0.8613, train_precision: 0.7212, val_precision: 0.7422\n"
     ]
    },
    {
     "name": "stderr",
     "output_type": "stream",
     "text": [
      "/home/mayank/miniconda3/envs/dsn/lib/python3.7/site-packages/ipykernel_launcher.py:46: UserWarning: Creating a tensor from a list of numpy.ndarrays is extremely slow. Please consider converting the list to a single numpy.ndarray with numpy.array() before converting to a tensor. (Triggered internally at  /opt/conda/conda-bld/pytorch_1646755953518/work/torch/csrc/utils/tensor_new.cpp:210.)\n",
      "/home/mayank/miniconda3/envs/dsn/lib/python3.7/site-packages/ipykernel_launcher.py:46: UserWarning: Creating a tensor from a list of numpy.ndarrays is extremely slow. Please consider converting the list to a single numpy.ndarray with numpy.array() before converting to a tensor. (Triggered internally at  /opt/conda/conda-bld/pytorch_1646755953518/work/torch/csrc/utils/tensor_new.cpp:210.)\n",
      "/home/mayank/miniconda3/envs/dsn/lib/python3.7/site-packages/ipykernel_launcher.py:46: UserWarning: Creating a tensor from a list of numpy.ndarrays is extremely slow. Please consider converting the list to a single numpy.ndarray with numpy.array() before converting to a tensor. (Triggered internally at  /opt/conda/conda-bld/pytorch_1646755953518/work/torch/csrc/utils/tensor_new.cpp:210.)\n",
      "/home/mayank/miniconda3/envs/dsn/lib/python3.7/site-packages/ipykernel_launcher.py:46: UserWarning: Creating a tensor from a list of numpy.ndarrays is extremely slow. Please consider converting the list to a single numpy.ndarray with numpy.array() before converting to a tensor. (Triggered internally at  /opt/conda/conda-bld/pytorch_1646755953518/work/torch/csrc/utils/tensor_new.cpp:210.)\n"
     ]
    },
    {
     "name": "stdout",
     "output_type": "stream",
     "text": [
      "Epoch: 22 (4.5248s), train_loss: 0.1368, val_loss: 0.1440, train_acc: 0.9567, val_acc:0.9529\n",
      "\t\ttrain_roc: 0.8579, val_roc: 0.8615, train_precision: 0.7172, val_precision: 0.7312\n"
     ]
    },
    {
     "name": "stderr",
     "output_type": "stream",
     "text": [
      "/home/mayank/miniconda3/envs/dsn/lib/python3.7/site-packages/ipykernel_launcher.py:46: UserWarning: Creating a tensor from a list of numpy.ndarrays is extremely slow. Please consider converting the list to a single numpy.ndarray with numpy.array() before converting to a tensor. (Triggered internally at  /opt/conda/conda-bld/pytorch_1646755953518/work/torch/csrc/utils/tensor_new.cpp:210.)\n",
      "/home/mayank/miniconda3/envs/dsn/lib/python3.7/site-packages/ipykernel_launcher.py:46: UserWarning: Creating a tensor from a list of numpy.ndarrays is extremely slow. Please consider converting the list to a single numpy.ndarray with numpy.array() before converting to a tensor. (Triggered internally at  /opt/conda/conda-bld/pytorch_1646755953518/work/torch/csrc/utils/tensor_new.cpp:210.)\n",
      "/home/mayank/miniconda3/envs/dsn/lib/python3.7/site-packages/ipykernel_launcher.py:46: UserWarning: Creating a tensor from a list of numpy.ndarrays is extremely slow. Please consider converting the list to a single numpy.ndarray with numpy.array() before converting to a tensor. (Triggered internally at  /opt/conda/conda-bld/pytorch_1646755953518/work/torch/csrc/utils/tensor_new.cpp:210.)\n",
      "/home/mayank/miniconda3/envs/dsn/lib/python3.7/site-packages/ipykernel_launcher.py:46: UserWarning: Creating a tensor from a list of numpy.ndarrays is extremely slow. Please consider converting the list to a single numpy.ndarray with numpy.array() before converting to a tensor. (Triggered internally at  /opt/conda/conda-bld/pytorch_1646755953518/work/torch/csrc/utils/tensor_new.cpp:210.)\n"
     ]
    },
    {
     "name": "stdout",
     "output_type": "stream",
     "text": [
      "Epoch: 23 (4.6541s), train_loss: 0.1366, val_loss: 0.1440, train_acc: 0.9567, val_acc:0.9529\n",
      "\t\ttrain_roc: 0.8591, val_roc: 0.8615, train_precision: 0.7178, val_precision: 0.7319\n"
     ]
    },
    {
     "name": "stderr",
     "output_type": "stream",
     "text": [
      "/home/mayank/miniconda3/envs/dsn/lib/python3.7/site-packages/ipykernel_launcher.py:46: UserWarning: Creating a tensor from a list of numpy.ndarrays is extremely slow. Please consider converting the list to a single numpy.ndarray with numpy.array() before converting to a tensor. (Triggered internally at  /opt/conda/conda-bld/pytorch_1646755953518/work/torch/csrc/utils/tensor_new.cpp:210.)\n",
      "/home/mayank/miniconda3/envs/dsn/lib/python3.7/site-packages/ipykernel_launcher.py:46: UserWarning: Creating a tensor from a list of numpy.ndarrays is extremely slow. Please consider converting the list to a single numpy.ndarray with numpy.array() before converting to a tensor. (Triggered internally at  /opt/conda/conda-bld/pytorch_1646755953518/work/torch/csrc/utils/tensor_new.cpp:210.)\n",
      "/home/mayank/miniconda3/envs/dsn/lib/python3.7/site-packages/ipykernel_launcher.py:46: UserWarning: Creating a tensor from a list of numpy.ndarrays is extremely slow. Please consider converting the list to a single numpy.ndarray with numpy.array() before converting to a tensor. (Triggered internally at  /opt/conda/conda-bld/pytorch_1646755953518/work/torch/csrc/utils/tensor_new.cpp:210.)\n",
      "/home/mayank/miniconda3/envs/dsn/lib/python3.7/site-packages/ipykernel_launcher.py:46: UserWarning: Creating a tensor from a list of numpy.ndarrays is extremely slow. Please consider converting the list to a single numpy.ndarray with numpy.array() before converting to a tensor. (Triggered internally at  /opt/conda/conda-bld/pytorch_1646755953518/work/torch/csrc/utils/tensor_new.cpp:210.)\n"
     ]
    },
    {
     "name": "stdout",
     "output_type": "stream",
     "text": [
      "Epoch: 24 (4.6074s), train_loss: 0.1363, val_loss: 0.1440, train_acc: 0.9567, val_acc:0.9529\n",
      "\t\ttrain_roc: 0.8604, val_roc: 0.8615, train_precision: 0.7195, val_precision: 0.7321\n"
     ]
    },
    {
     "name": "stderr",
     "output_type": "stream",
     "text": [
      "/home/mayank/miniconda3/envs/dsn/lib/python3.7/site-packages/ipykernel_launcher.py:46: UserWarning: Creating a tensor from a list of numpy.ndarrays is extremely slow. Please consider converting the list to a single numpy.ndarray with numpy.array() before converting to a tensor. (Triggered internally at  /opt/conda/conda-bld/pytorch_1646755953518/work/torch/csrc/utils/tensor_new.cpp:210.)\n",
      "/home/mayank/miniconda3/envs/dsn/lib/python3.7/site-packages/ipykernel_launcher.py:46: UserWarning: Creating a tensor from a list of numpy.ndarrays is extremely slow. Please consider converting the list to a single numpy.ndarray with numpy.array() before converting to a tensor. (Triggered internally at  /opt/conda/conda-bld/pytorch_1646755953518/work/torch/csrc/utils/tensor_new.cpp:210.)\n",
      "/home/mayank/miniconda3/envs/dsn/lib/python3.7/site-packages/ipykernel_launcher.py:46: UserWarning: Creating a tensor from a list of numpy.ndarrays is extremely slow. Please consider converting the list to a single numpy.ndarray with numpy.array() before converting to a tensor. (Triggered internally at  /opt/conda/conda-bld/pytorch_1646755953518/work/torch/csrc/utils/tensor_new.cpp:210.)\n",
      "/home/mayank/miniconda3/envs/dsn/lib/python3.7/site-packages/ipykernel_launcher.py:46: UserWarning: Creating a tensor from a list of numpy.ndarrays is extremely slow. Please consider converting the list to a single numpy.ndarray with numpy.array() before converting to a tensor. (Triggered internally at  /opt/conda/conda-bld/pytorch_1646755953518/work/torch/csrc/utils/tensor_new.cpp:210.)\n"
     ]
    },
    {
     "name": "stdout",
     "output_type": "stream",
     "text": [
      "Epoch: 25 (4.3511s), train_loss: 0.1364, val_loss: 0.1439, train_acc: 0.9567, val_acc:0.9529\n",
      "\t\ttrain_roc: 0.8589, val_roc: 0.8615, train_precision: 0.7173, val_precision: 0.7325\n"
     ]
    },
    {
     "name": "stderr",
     "output_type": "stream",
     "text": [
      "/home/mayank/miniconda3/envs/dsn/lib/python3.7/site-packages/ipykernel_launcher.py:46: UserWarning: Creating a tensor from a list of numpy.ndarrays is extremely slow. Please consider converting the list to a single numpy.ndarray with numpy.array() before converting to a tensor. (Triggered internally at  /opt/conda/conda-bld/pytorch_1646755953518/work/torch/csrc/utils/tensor_new.cpp:210.)\n",
      "/home/mayank/miniconda3/envs/dsn/lib/python3.7/site-packages/ipykernel_launcher.py:46: UserWarning: Creating a tensor from a list of numpy.ndarrays is extremely slow. Please consider converting the list to a single numpy.ndarray with numpy.array() before converting to a tensor. (Triggered internally at  /opt/conda/conda-bld/pytorch_1646755953518/work/torch/csrc/utils/tensor_new.cpp:210.)\n",
      "/home/mayank/miniconda3/envs/dsn/lib/python3.7/site-packages/ipykernel_launcher.py:46: UserWarning: Creating a tensor from a list of numpy.ndarrays is extremely slow. Please consider converting the list to a single numpy.ndarray with numpy.array() before converting to a tensor. (Triggered internally at  /opt/conda/conda-bld/pytorch_1646755953518/work/torch/csrc/utils/tensor_new.cpp:210.)\n",
      "/home/mayank/miniconda3/envs/dsn/lib/python3.7/site-packages/ipykernel_launcher.py:46: UserWarning: Creating a tensor from a list of numpy.ndarrays is extremely slow. Please consider converting the list to a single numpy.ndarray with numpy.array() before converting to a tensor. (Triggered internally at  /opt/conda/conda-bld/pytorch_1646755953518/work/torch/csrc/utils/tensor_new.cpp:210.)\n"
     ]
    },
    {
     "name": "stdout",
     "output_type": "stream",
     "text": [
      "Epoch: 26 (4.5164s), train_loss: 0.1366, val_loss: 0.1439, train_acc: 0.9567, val_acc:0.9529\n",
      "\t\ttrain_roc: 0.8590, val_roc: 0.8615, train_precision: 0.7201, val_precision: 0.7320\n"
     ]
    },
    {
     "name": "stderr",
     "output_type": "stream",
     "text": [
      "/home/mayank/miniconda3/envs/dsn/lib/python3.7/site-packages/ipykernel_launcher.py:46: UserWarning: Creating a tensor from a list of numpy.ndarrays is extremely slow. Please consider converting the list to a single numpy.ndarray with numpy.array() before converting to a tensor. (Triggered internally at  /opt/conda/conda-bld/pytorch_1646755953518/work/torch/csrc/utils/tensor_new.cpp:210.)\n",
      "/home/mayank/miniconda3/envs/dsn/lib/python3.7/site-packages/ipykernel_launcher.py:46: UserWarning: Creating a tensor from a list of numpy.ndarrays is extremely slow. Please consider converting the list to a single numpy.ndarray with numpy.array() before converting to a tensor. (Triggered internally at  /opt/conda/conda-bld/pytorch_1646755953518/work/torch/csrc/utils/tensor_new.cpp:210.)\n",
      "/home/mayank/miniconda3/envs/dsn/lib/python3.7/site-packages/ipykernel_launcher.py:46: UserWarning: Creating a tensor from a list of numpy.ndarrays is extremely slow. Please consider converting the list to a single numpy.ndarray with numpy.array() before converting to a tensor. (Triggered internally at  /opt/conda/conda-bld/pytorch_1646755953518/work/torch/csrc/utils/tensor_new.cpp:210.)\n",
      "/home/mayank/miniconda3/envs/dsn/lib/python3.7/site-packages/ipykernel_launcher.py:46: UserWarning: Creating a tensor from a list of numpy.ndarrays is extremely slow. Please consider converting the list to a single numpy.ndarray with numpy.array() before converting to a tensor. (Triggered internally at  /opt/conda/conda-bld/pytorch_1646755953518/work/torch/csrc/utils/tensor_new.cpp:210.)\n"
     ]
    },
    {
     "name": "stdout",
     "output_type": "stream",
     "text": [
      "Epoch: 27 (4.2641s), train_loss: 0.1361, val_loss: 0.1439, train_acc: 0.9567, val_acc:0.9529\n",
      "\t\ttrain_roc: 0.8605, val_roc: 0.8615, train_precision: 0.7217, val_precision: 0.7315\n"
     ]
    },
    {
     "name": "stderr",
     "output_type": "stream",
     "text": [
      "/home/mayank/miniconda3/envs/dsn/lib/python3.7/site-packages/ipykernel_launcher.py:46: UserWarning: Creating a tensor from a list of numpy.ndarrays is extremely slow. Please consider converting the list to a single numpy.ndarray with numpy.array() before converting to a tensor. (Triggered internally at  /opt/conda/conda-bld/pytorch_1646755953518/work/torch/csrc/utils/tensor_new.cpp:210.)\n",
      "/home/mayank/miniconda3/envs/dsn/lib/python3.7/site-packages/ipykernel_launcher.py:46: UserWarning: Creating a tensor from a list of numpy.ndarrays is extremely slow. Please consider converting the list to a single numpy.ndarray with numpy.array() before converting to a tensor. (Triggered internally at  /opt/conda/conda-bld/pytorch_1646755953518/work/torch/csrc/utils/tensor_new.cpp:210.)\n",
      "/home/mayank/miniconda3/envs/dsn/lib/python3.7/site-packages/ipykernel_launcher.py:46: UserWarning: Creating a tensor from a list of numpy.ndarrays is extremely slow. Please consider converting the list to a single numpy.ndarray with numpy.array() before converting to a tensor. (Triggered internally at  /opt/conda/conda-bld/pytorch_1646755953518/work/torch/csrc/utils/tensor_new.cpp:210.)\n",
      "/home/mayank/miniconda3/envs/dsn/lib/python3.7/site-packages/ipykernel_launcher.py:46: UserWarning: Creating a tensor from a list of numpy.ndarrays is extremely slow. Please consider converting the list to a single numpy.ndarray with numpy.array() before converting to a tensor. (Triggered internally at  /opt/conda/conda-bld/pytorch_1646755953518/work/torch/csrc/utils/tensor_new.cpp:210.)\n"
     ]
    },
    {
     "name": "stdout",
     "output_type": "stream",
     "text": [
      "Epoch: 28 (4.5667s), train_loss: 0.1363, val_loss: 0.1439, train_acc: 0.9567, val_acc:0.9529\n",
      "\t\ttrain_roc: 0.8594, val_roc: 0.8615, train_precision: 0.7217, val_precision: 0.7312\n"
     ]
    },
    {
     "name": "stderr",
     "output_type": "stream",
     "text": [
      "/home/mayank/miniconda3/envs/dsn/lib/python3.7/site-packages/ipykernel_launcher.py:46: UserWarning: Creating a tensor from a list of numpy.ndarrays is extremely slow. Please consider converting the list to a single numpy.ndarray with numpy.array() before converting to a tensor. (Triggered internally at  /opt/conda/conda-bld/pytorch_1646755953518/work/torch/csrc/utils/tensor_new.cpp:210.)\n",
      "/home/mayank/miniconda3/envs/dsn/lib/python3.7/site-packages/ipykernel_launcher.py:46: UserWarning: Creating a tensor from a list of numpy.ndarrays is extremely slow. Please consider converting the list to a single numpy.ndarray with numpy.array() before converting to a tensor. (Triggered internally at  /opt/conda/conda-bld/pytorch_1646755953518/work/torch/csrc/utils/tensor_new.cpp:210.)\n",
      "/home/mayank/miniconda3/envs/dsn/lib/python3.7/site-packages/ipykernel_launcher.py:46: UserWarning: Creating a tensor from a list of numpy.ndarrays is extremely slow. Please consider converting the list to a single numpy.ndarray with numpy.array() before converting to a tensor. (Triggered internally at  /opt/conda/conda-bld/pytorch_1646755953518/work/torch/csrc/utils/tensor_new.cpp:210.)\n",
      "/home/mayank/miniconda3/envs/dsn/lib/python3.7/site-packages/ipykernel_launcher.py:46: UserWarning: Creating a tensor from a list of numpy.ndarrays is extremely slow. Please consider converting the list to a single numpy.ndarray with numpy.array() before converting to a tensor. (Triggered internally at  /opt/conda/conda-bld/pytorch_1646755953518/work/torch/csrc/utils/tensor_new.cpp:210.)\n"
     ]
    },
    {
     "name": "stdout",
     "output_type": "stream",
     "text": [
      "Epoch: 29 (4.5560s), train_loss: 0.1363, val_loss: 0.1439, train_acc: 0.9567, val_acc:0.9529\n",
      "\t\ttrain_roc: 0.8595, val_roc: 0.8615, train_precision: 0.7192, val_precision: 0.7348\n"
     ]
    },
    {
     "name": "stderr",
     "output_type": "stream",
     "text": [
      "/home/mayank/miniconda3/envs/dsn/lib/python3.7/site-packages/ipykernel_launcher.py:46: UserWarning: Creating a tensor from a list of numpy.ndarrays is extremely slow. Please consider converting the list to a single numpy.ndarray with numpy.array() before converting to a tensor. (Triggered internally at  /opt/conda/conda-bld/pytorch_1646755953518/work/torch/csrc/utils/tensor_new.cpp:210.)\n",
      "/home/mayank/miniconda3/envs/dsn/lib/python3.7/site-packages/ipykernel_launcher.py:46: UserWarning: Creating a tensor from a list of numpy.ndarrays is extremely slow. Please consider converting the list to a single numpy.ndarray with numpy.array() before converting to a tensor. (Triggered internally at  /opt/conda/conda-bld/pytorch_1646755953518/work/torch/csrc/utils/tensor_new.cpp:210.)\n",
      "/home/mayank/miniconda3/envs/dsn/lib/python3.7/site-packages/ipykernel_launcher.py:46: UserWarning: Creating a tensor from a list of numpy.ndarrays is extremely slow. Please consider converting the list to a single numpy.ndarray with numpy.array() before converting to a tensor. (Triggered internally at  /opt/conda/conda-bld/pytorch_1646755953518/work/torch/csrc/utils/tensor_new.cpp:210.)\n",
      "/home/mayank/miniconda3/envs/dsn/lib/python3.7/site-packages/ipykernel_launcher.py:46: UserWarning: Creating a tensor from a list of numpy.ndarrays is extremely slow. Please consider converting the list to a single numpy.ndarray with numpy.array() before converting to a tensor. (Triggered internally at  /opt/conda/conda-bld/pytorch_1646755953518/work/torch/csrc/utils/tensor_new.cpp:210.)\n"
     ]
    },
    {
     "name": "stdout",
     "output_type": "stream",
     "text": [
      "Epoch: 30 (4.6496s), train_loss: 0.1369, val_loss: 0.1439, train_acc: 0.9566, val_acc:0.9529\n",
      "\t\ttrain_roc: 0.8569, val_roc: 0.8616, train_precision: 0.7098, val_precision: 0.7331\n"
     ]
    },
    {
     "name": "stderr",
     "output_type": "stream",
     "text": [
      "/home/mayank/miniconda3/envs/dsn/lib/python3.7/site-packages/ipykernel_launcher.py:46: UserWarning: Creating a tensor from a list of numpy.ndarrays is extremely slow. Please consider converting the list to a single numpy.ndarray with numpy.array() before converting to a tensor. (Triggered internally at  /opt/conda/conda-bld/pytorch_1646755953518/work/torch/csrc/utils/tensor_new.cpp:210.)\n",
      "/home/mayank/miniconda3/envs/dsn/lib/python3.7/site-packages/ipykernel_launcher.py:46: UserWarning: Creating a tensor from a list of numpy.ndarrays is extremely slow. Please consider converting the list to a single numpy.ndarray with numpy.array() before converting to a tensor. (Triggered internally at  /opt/conda/conda-bld/pytorch_1646755953518/work/torch/csrc/utils/tensor_new.cpp:210.)\n",
      "/home/mayank/miniconda3/envs/dsn/lib/python3.7/site-packages/ipykernel_launcher.py:46: UserWarning: Creating a tensor from a list of numpy.ndarrays is extremely slow. Please consider converting the list to a single numpy.ndarray with numpy.array() before converting to a tensor. (Triggered internally at  /opt/conda/conda-bld/pytorch_1646755953518/work/torch/csrc/utils/tensor_new.cpp:210.)\n",
      "/home/mayank/miniconda3/envs/dsn/lib/python3.7/site-packages/ipykernel_launcher.py:46: UserWarning: Creating a tensor from a list of numpy.ndarrays is extremely slow. Please consider converting the list to a single numpy.ndarray with numpy.array() before converting to a tensor. (Triggered internally at  /opt/conda/conda-bld/pytorch_1646755953518/work/torch/csrc/utils/tensor_new.cpp:210.)\n"
     ]
    },
    {
     "name": "stdout",
     "output_type": "stream",
     "text": [
      "Epoch: 31 (4.2772s), train_loss: 0.1367, val_loss: 0.1439, train_acc: 0.9567, val_acc:0.9529\n",
      "\t\ttrain_roc: 0.8570, val_roc: 0.8616, train_precision: 0.7185, val_precision: 0.7331\n"
     ]
    },
    {
     "name": "stderr",
     "output_type": "stream",
     "text": [
      "/home/mayank/miniconda3/envs/dsn/lib/python3.7/site-packages/ipykernel_launcher.py:46: UserWarning: Creating a tensor from a list of numpy.ndarrays is extremely slow. Please consider converting the list to a single numpy.ndarray with numpy.array() before converting to a tensor. (Triggered internally at  /opt/conda/conda-bld/pytorch_1646755953518/work/torch/csrc/utils/tensor_new.cpp:210.)\n",
      "/home/mayank/miniconda3/envs/dsn/lib/python3.7/site-packages/ipykernel_launcher.py:46: UserWarning: Creating a tensor from a list of numpy.ndarrays is extremely slow. Please consider converting the list to a single numpy.ndarray with numpy.array() before converting to a tensor. (Triggered internally at  /opt/conda/conda-bld/pytorch_1646755953518/work/torch/csrc/utils/tensor_new.cpp:210.)\n",
      "/home/mayank/miniconda3/envs/dsn/lib/python3.7/site-packages/ipykernel_launcher.py:46: UserWarning: Creating a tensor from a list of numpy.ndarrays is extremely slow. Please consider converting the list to a single numpy.ndarray with numpy.array() before converting to a tensor. (Triggered internally at  /opt/conda/conda-bld/pytorch_1646755953518/work/torch/csrc/utils/tensor_new.cpp:210.)\n",
      "/home/mayank/miniconda3/envs/dsn/lib/python3.7/site-packages/ipykernel_launcher.py:46: UserWarning: Creating a tensor from a list of numpy.ndarrays is extremely slow. Please consider converting the list to a single numpy.ndarray with numpy.array() before converting to a tensor. (Triggered internally at  /opt/conda/conda-bld/pytorch_1646755953518/work/torch/csrc/utils/tensor_new.cpp:210.)\n"
     ]
    },
    {
     "name": "stdout",
     "output_type": "stream",
     "text": [
      "Epoch: 32 (4.3112s), train_loss: 0.1357, val_loss: 0.1439, train_acc: 0.9567, val_acc:0.9529\n",
      "\t\ttrain_roc: 0.8627, val_roc: 0.8616, train_precision: 0.7235, val_precision: 0.7318\n"
     ]
    },
    {
     "name": "stderr",
     "output_type": "stream",
     "text": [
      "/home/mayank/miniconda3/envs/dsn/lib/python3.7/site-packages/ipykernel_launcher.py:46: UserWarning: Creating a tensor from a list of numpy.ndarrays is extremely slow. Please consider converting the list to a single numpy.ndarray with numpy.array() before converting to a tensor. (Triggered internally at  /opt/conda/conda-bld/pytorch_1646755953518/work/torch/csrc/utils/tensor_new.cpp:210.)\n",
      "/home/mayank/miniconda3/envs/dsn/lib/python3.7/site-packages/ipykernel_launcher.py:46: UserWarning: Creating a tensor from a list of numpy.ndarrays is extremely slow. Please consider converting the list to a single numpy.ndarray with numpy.array() before converting to a tensor. (Triggered internally at  /opt/conda/conda-bld/pytorch_1646755953518/work/torch/csrc/utils/tensor_new.cpp:210.)\n",
      "/home/mayank/miniconda3/envs/dsn/lib/python3.7/site-packages/ipykernel_launcher.py:46: UserWarning: Creating a tensor from a list of numpy.ndarrays is extremely slow. Please consider converting the list to a single numpy.ndarray with numpy.array() before converting to a tensor. (Triggered internally at  /opt/conda/conda-bld/pytorch_1646755953518/work/torch/csrc/utils/tensor_new.cpp:210.)\n",
      "/home/mayank/miniconda3/envs/dsn/lib/python3.7/site-packages/ipykernel_launcher.py:46: UserWarning: Creating a tensor from a list of numpy.ndarrays is extremely slow. Please consider converting the list to a single numpy.ndarray with numpy.array() before converting to a tensor. (Triggered internally at  /opt/conda/conda-bld/pytorch_1646755953518/work/torch/csrc/utils/tensor_new.cpp:210.)\n"
     ]
    },
    {
     "name": "stdout",
     "output_type": "stream",
     "text": [
      "Epoch: 33 (4.5906s), train_loss: 0.1362, val_loss: 0.1439, train_acc: 0.9567, val_acc:0.9529\n",
      "\t\ttrain_roc: 0.8608, val_roc: 0.8616, train_precision: 0.7187, val_precision: 0.7311\n"
     ]
    },
    {
     "name": "stderr",
     "output_type": "stream",
     "text": [
      "/home/mayank/miniconda3/envs/dsn/lib/python3.7/site-packages/ipykernel_launcher.py:46: UserWarning: Creating a tensor from a list of numpy.ndarrays is extremely slow. Please consider converting the list to a single numpy.ndarray with numpy.array() before converting to a tensor. (Triggered internally at  /opt/conda/conda-bld/pytorch_1646755953518/work/torch/csrc/utils/tensor_new.cpp:210.)\n",
      "/home/mayank/miniconda3/envs/dsn/lib/python3.7/site-packages/ipykernel_launcher.py:46: UserWarning: Creating a tensor from a list of numpy.ndarrays is extremely slow. Please consider converting the list to a single numpy.ndarray with numpy.array() before converting to a tensor. (Triggered internally at  /opt/conda/conda-bld/pytorch_1646755953518/work/torch/csrc/utils/tensor_new.cpp:210.)\n",
      "/home/mayank/miniconda3/envs/dsn/lib/python3.7/site-packages/ipykernel_launcher.py:46: UserWarning: Creating a tensor from a list of numpy.ndarrays is extremely slow. Please consider converting the list to a single numpy.ndarray with numpy.array() before converting to a tensor. (Triggered internally at  /opt/conda/conda-bld/pytorch_1646755953518/work/torch/csrc/utils/tensor_new.cpp:210.)\n",
      "/home/mayank/miniconda3/envs/dsn/lib/python3.7/site-packages/ipykernel_launcher.py:46: UserWarning: Creating a tensor from a list of numpy.ndarrays is extremely slow. Please consider converting the list to a single numpy.ndarray with numpy.array() before converting to a tensor. (Triggered internally at  /opt/conda/conda-bld/pytorch_1646755953518/work/torch/csrc/utils/tensor_new.cpp:210.)\n"
     ]
    },
    {
     "name": "stdout",
     "output_type": "stream",
     "text": [
      "Epoch: 34 (4.2507s), train_loss: 0.1370, val_loss: 0.1439, train_acc: 0.9567, val_acc:0.9529\n",
      "\t\ttrain_roc: 0.8563, val_roc: 0.8616, train_precision: 0.7211, val_precision: 0.7386\n"
     ]
    },
    {
     "name": "stderr",
     "output_type": "stream",
     "text": [
      "/home/mayank/miniconda3/envs/dsn/lib/python3.7/site-packages/ipykernel_launcher.py:46: UserWarning: Creating a tensor from a list of numpy.ndarrays is extremely slow. Please consider converting the list to a single numpy.ndarray with numpy.array() before converting to a tensor. (Triggered internally at  /opt/conda/conda-bld/pytorch_1646755953518/work/torch/csrc/utils/tensor_new.cpp:210.)\n",
      "/home/mayank/miniconda3/envs/dsn/lib/python3.7/site-packages/ipykernel_launcher.py:46: UserWarning: Creating a tensor from a list of numpy.ndarrays is extremely slow. Please consider converting the list to a single numpy.ndarray with numpy.array() before converting to a tensor. (Triggered internally at  /opt/conda/conda-bld/pytorch_1646755953518/work/torch/csrc/utils/tensor_new.cpp:210.)\n",
      "/home/mayank/miniconda3/envs/dsn/lib/python3.7/site-packages/ipykernel_launcher.py:46: UserWarning: Creating a tensor from a list of numpy.ndarrays is extremely slow. Please consider converting the list to a single numpy.ndarray with numpy.array() before converting to a tensor. (Triggered internally at  /opt/conda/conda-bld/pytorch_1646755953518/work/torch/csrc/utils/tensor_new.cpp:210.)\n",
      "/home/mayank/miniconda3/envs/dsn/lib/python3.7/site-packages/ipykernel_launcher.py:46: UserWarning: Creating a tensor from a list of numpy.ndarrays is extremely slow. Please consider converting the list to a single numpy.ndarray with numpy.array() before converting to a tensor. (Triggered internally at  /opt/conda/conda-bld/pytorch_1646755953518/work/torch/csrc/utils/tensor_new.cpp:210.)\n"
     ]
    },
    {
     "name": "stdout",
     "output_type": "stream",
     "text": [
      "Epoch: 35 (4.2567s), train_loss: 0.1357, val_loss: 0.1439, train_acc: 0.9567, val_acc:0.9529\n",
      "\t\ttrain_roc: 0.8622, val_roc: 0.8616, train_precision: 0.7194, val_precision: 0.7372\n"
     ]
    },
    {
     "name": "stderr",
     "output_type": "stream",
     "text": [
      "/home/mayank/miniconda3/envs/dsn/lib/python3.7/site-packages/ipykernel_launcher.py:46: UserWarning: Creating a tensor from a list of numpy.ndarrays is extremely slow. Please consider converting the list to a single numpy.ndarray with numpy.array() before converting to a tensor. (Triggered internally at  /opt/conda/conda-bld/pytorch_1646755953518/work/torch/csrc/utils/tensor_new.cpp:210.)\n",
      "/home/mayank/miniconda3/envs/dsn/lib/python3.7/site-packages/ipykernel_launcher.py:46: UserWarning: Creating a tensor from a list of numpy.ndarrays is extremely slow. Please consider converting the list to a single numpy.ndarray with numpy.array() before converting to a tensor. (Triggered internally at  /opt/conda/conda-bld/pytorch_1646755953518/work/torch/csrc/utils/tensor_new.cpp:210.)\n",
      "/home/mayank/miniconda3/envs/dsn/lib/python3.7/site-packages/ipykernel_launcher.py:46: UserWarning: Creating a tensor from a list of numpy.ndarrays is extremely slow. Please consider converting the list to a single numpy.ndarray with numpy.array() before converting to a tensor. (Triggered internally at  /opt/conda/conda-bld/pytorch_1646755953518/work/torch/csrc/utils/tensor_new.cpp:210.)\n",
      "/home/mayank/miniconda3/envs/dsn/lib/python3.7/site-packages/ipykernel_launcher.py:46: UserWarning: Creating a tensor from a list of numpy.ndarrays is extremely slow. Please consider converting the list to a single numpy.ndarray with numpy.array() before converting to a tensor. (Triggered internally at  /opt/conda/conda-bld/pytorch_1646755953518/work/torch/csrc/utils/tensor_new.cpp:210.)\n"
     ]
    },
    {
     "name": "stdout",
     "output_type": "stream",
     "text": [
      "Epoch: 36 (4.5170s), train_loss: 0.1361, val_loss: 0.1439, train_acc: 0.9567, val_acc:0.9529\n",
      "\t\ttrain_roc: 0.8603, val_roc: 0.8616, train_precision: 0.7181, val_precision: 0.7379\n"
     ]
    },
    {
     "name": "stderr",
     "output_type": "stream",
     "text": [
      "/home/mayank/miniconda3/envs/dsn/lib/python3.7/site-packages/ipykernel_launcher.py:46: UserWarning: Creating a tensor from a list of numpy.ndarrays is extremely slow. Please consider converting the list to a single numpy.ndarray with numpy.array() before converting to a tensor. (Triggered internally at  /opt/conda/conda-bld/pytorch_1646755953518/work/torch/csrc/utils/tensor_new.cpp:210.)\n",
      "/home/mayank/miniconda3/envs/dsn/lib/python3.7/site-packages/ipykernel_launcher.py:46: UserWarning: Creating a tensor from a list of numpy.ndarrays is extremely slow. Please consider converting the list to a single numpy.ndarray with numpy.array() before converting to a tensor. (Triggered internally at  /opt/conda/conda-bld/pytorch_1646755953518/work/torch/csrc/utils/tensor_new.cpp:210.)\n",
      "/home/mayank/miniconda3/envs/dsn/lib/python3.7/site-packages/ipykernel_launcher.py:46: UserWarning: Creating a tensor from a list of numpy.ndarrays is extremely slow. Please consider converting the list to a single numpy.ndarray with numpy.array() before converting to a tensor. (Triggered internally at  /opt/conda/conda-bld/pytorch_1646755953518/work/torch/csrc/utils/tensor_new.cpp:210.)\n",
      "/home/mayank/miniconda3/envs/dsn/lib/python3.7/site-packages/ipykernel_launcher.py:46: UserWarning: Creating a tensor from a list of numpy.ndarrays is extremely slow. Please consider converting the list to a single numpy.ndarray with numpy.array() before converting to a tensor. (Triggered internally at  /opt/conda/conda-bld/pytorch_1646755953518/work/torch/csrc/utils/tensor_new.cpp:210.)\n"
     ]
    },
    {
     "name": "stdout",
     "output_type": "stream",
     "text": [
      "Epoch: 37 (4.4005s), train_loss: 0.1368, val_loss: 0.1439, train_acc: 0.9567, val_acc:0.9529\n",
      "\t\ttrain_roc: 0.8584, val_roc: 0.8616, train_precision: 0.7185, val_precision: 0.7335\n"
     ]
    },
    {
     "name": "stderr",
     "output_type": "stream",
     "text": [
      "/home/mayank/miniconda3/envs/dsn/lib/python3.7/site-packages/ipykernel_launcher.py:46: UserWarning: Creating a tensor from a list of numpy.ndarrays is extremely slow. Please consider converting the list to a single numpy.ndarray with numpy.array() before converting to a tensor. (Triggered internally at  /opt/conda/conda-bld/pytorch_1646755953518/work/torch/csrc/utils/tensor_new.cpp:210.)\n",
      "/home/mayank/miniconda3/envs/dsn/lib/python3.7/site-packages/ipykernel_launcher.py:46: UserWarning: Creating a tensor from a list of numpy.ndarrays is extremely slow. Please consider converting the list to a single numpy.ndarray with numpy.array() before converting to a tensor. (Triggered internally at  /opt/conda/conda-bld/pytorch_1646755953518/work/torch/csrc/utils/tensor_new.cpp:210.)\n",
      "/home/mayank/miniconda3/envs/dsn/lib/python3.7/site-packages/ipykernel_launcher.py:46: UserWarning: Creating a tensor from a list of numpy.ndarrays is extremely slow. Please consider converting the list to a single numpy.ndarray with numpy.array() before converting to a tensor. (Triggered internally at  /opt/conda/conda-bld/pytorch_1646755953518/work/torch/csrc/utils/tensor_new.cpp:210.)\n",
      "/home/mayank/miniconda3/envs/dsn/lib/python3.7/site-packages/ipykernel_launcher.py:46: UserWarning: Creating a tensor from a list of numpy.ndarrays is extremely slow. Please consider converting the list to a single numpy.ndarray with numpy.array() before converting to a tensor. (Triggered internally at  /opt/conda/conda-bld/pytorch_1646755953518/work/torch/csrc/utils/tensor_new.cpp:210.)\n"
     ]
    },
    {
     "name": "stdout",
     "output_type": "stream",
     "text": [
      "Epoch: 38 (4.5897s), train_loss: 0.1362, val_loss: 0.1439, train_acc: 0.9567, val_acc:0.9529\n",
      "\t\ttrain_roc: 0.8604, val_roc: 0.8616, train_precision: 0.7194, val_precision: 0.7337\n"
     ]
    },
    {
     "name": "stderr",
     "output_type": "stream",
     "text": [
      "/home/mayank/miniconda3/envs/dsn/lib/python3.7/site-packages/ipykernel_launcher.py:46: UserWarning: Creating a tensor from a list of numpy.ndarrays is extremely slow. Please consider converting the list to a single numpy.ndarray with numpy.array() before converting to a tensor. (Triggered internally at  /opt/conda/conda-bld/pytorch_1646755953518/work/torch/csrc/utils/tensor_new.cpp:210.)\n",
      "/home/mayank/miniconda3/envs/dsn/lib/python3.7/site-packages/ipykernel_launcher.py:46: UserWarning: Creating a tensor from a list of numpy.ndarrays is extremely slow. Please consider converting the list to a single numpy.ndarray with numpy.array() before converting to a tensor. (Triggered internally at  /opt/conda/conda-bld/pytorch_1646755953518/work/torch/csrc/utils/tensor_new.cpp:210.)\n",
      "/home/mayank/miniconda3/envs/dsn/lib/python3.7/site-packages/ipykernel_launcher.py:46: UserWarning: Creating a tensor from a list of numpy.ndarrays is extremely slow. Please consider converting the list to a single numpy.ndarray with numpy.array() before converting to a tensor. (Triggered internally at  /opt/conda/conda-bld/pytorch_1646755953518/work/torch/csrc/utils/tensor_new.cpp:210.)\n",
      "/home/mayank/miniconda3/envs/dsn/lib/python3.7/site-packages/ipykernel_launcher.py:46: UserWarning: Creating a tensor from a list of numpy.ndarrays is extremely slow. Please consider converting the list to a single numpy.ndarray with numpy.array() before converting to a tensor. (Triggered internally at  /opt/conda/conda-bld/pytorch_1646755953518/work/torch/csrc/utils/tensor_new.cpp:210.)\n"
     ]
    },
    {
     "name": "stdout",
     "output_type": "stream",
     "text": [
      "Epoch: 39 (4.3683s), train_loss: 0.1368, val_loss: 0.1439, train_acc: 0.9567, val_acc:0.9529\n",
      "\t\ttrain_roc: 0.8577, val_roc: 0.8616, train_precision: 0.7245, val_precision: 0.7328\n"
     ]
    },
    {
     "name": "stderr",
     "output_type": "stream",
     "text": [
      "/home/mayank/miniconda3/envs/dsn/lib/python3.7/site-packages/ipykernel_launcher.py:46: UserWarning: Creating a tensor from a list of numpy.ndarrays is extremely slow. Please consider converting the list to a single numpy.ndarray with numpy.array() before converting to a tensor. (Triggered internally at  /opt/conda/conda-bld/pytorch_1646755953518/work/torch/csrc/utils/tensor_new.cpp:210.)\n",
      "/home/mayank/miniconda3/envs/dsn/lib/python3.7/site-packages/ipykernel_launcher.py:46: UserWarning: Creating a tensor from a list of numpy.ndarrays is extremely slow. Please consider converting the list to a single numpy.ndarray with numpy.array() before converting to a tensor. (Triggered internally at  /opt/conda/conda-bld/pytorch_1646755953518/work/torch/csrc/utils/tensor_new.cpp:210.)\n",
      "/home/mayank/miniconda3/envs/dsn/lib/python3.7/site-packages/ipykernel_launcher.py:46: UserWarning: Creating a tensor from a list of numpy.ndarrays is extremely slow. Please consider converting the list to a single numpy.ndarray with numpy.array() before converting to a tensor. (Triggered internally at  /opt/conda/conda-bld/pytorch_1646755953518/work/torch/csrc/utils/tensor_new.cpp:210.)\n",
      "/home/mayank/miniconda3/envs/dsn/lib/python3.7/site-packages/ipykernel_launcher.py:46: UserWarning: Creating a tensor from a list of numpy.ndarrays is extremely slow. Please consider converting the list to a single numpy.ndarray with numpy.array() before converting to a tensor. (Triggered internally at  /opt/conda/conda-bld/pytorch_1646755953518/work/torch/csrc/utils/tensor_new.cpp:210.)\n"
     ]
    },
    {
     "name": "stdout",
     "output_type": "stream",
     "text": [
      "Epoch: 40 (4.3918s), train_loss: 0.1369, val_loss: 0.1439, train_acc: 0.9567, val_acc:0.9529\n",
      "\t\ttrain_roc: 0.8575, val_roc: 0.8616, train_precision: 0.7218, val_precision: 0.7331\n"
     ]
    },
    {
     "name": "stderr",
     "output_type": "stream",
     "text": [
      "/home/mayank/miniconda3/envs/dsn/lib/python3.7/site-packages/ipykernel_launcher.py:46: UserWarning: Creating a tensor from a list of numpy.ndarrays is extremely slow. Please consider converting the list to a single numpy.ndarray with numpy.array() before converting to a tensor. (Triggered internally at  /opt/conda/conda-bld/pytorch_1646755953518/work/torch/csrc/utils/tensor_new.cpp:210.)\n",
      "/home/mayank/miniconda3/envs/dsn/lib/python3.7/site-packages/ipykernel_launcher.py:46: UserWarning: Creating a tensor from a list of numpy.ndarrays is extremely slow. Please consider converting the list to a single numpy.ndarray with numpy.array() before converting to a tensor. (Triggered internally at  /opt/conda/conda-bld/pytorch_1646755953518/work/torch/csrc/utils/tensor_new.cpp:210.)\n",
      "/home/mayank/miniconda3/envs/dsn/lib/python3.7/site-packages/ipykernel_launcher.py:46: UserWarning: Creating a tensor from a list of numpy.ndarrays is extremely slow. Please consider converting the list to a single numpy.ndarray with numpy.array() before converting to a tensor. (Triggered internally at  /opt/conda/conda-bld/pytorch_1646755953518/work/torch/csrc/utils/tensor_new.cpp:210.)\n",
      "/home/mayank/miniconda3/envs/dsn/lib/python3.7/site-packages/ipykernel_launcher.py:46: UserWarning: Creating a tensor from a list of numpy.ndarrays is extremely slow. Please consider converting the list to a single numpy.ndarray with numpy.array() before converting to a tensor. (Triggered internally at  /opt/conda/conda-bld/pytorch_1646755953518/work/torch/csrc/utils/tensor_new.cpp:210.)\n"
     ]
    },
    {
     "name": "stdout",
     "output_type": "stream",
     "text": [
      "Epoch: 41 (4.4877s), train_loss: 0.1366, val_loss: 0.1439, train_acc: 0.9567, val_acc:0.9529\n",
      "\t\ttrain_roc: 0.8580, val_roc: 0.8616, train_precision: 0.7204, val_precision: 0.7338\n"
     ]
    },
    {
     "name": "stderr",
     "output_type": "stream",
     "text": [
      "/home/mayank/miniconda3/envs/dsn/lib/python3.7/site-packages/ipykernel_launcher.py:46: UserWarning: Creating a tensor from a list of numpy.ndarrays is extremely slow. Please consider converting the list to a single numpy.ndarray with numpy.array() before converting to a tensor. (Triggered internally at  /opt/conda/conda-bld/pytorch_1646755953518/work/torch/csrc/utils/tensor_new.cpp:210.)\n",
      "/home/mayank/miniconda3/envs/dsn/lib/python3.7/site-packages/ipykernel_launcher.py:46: UserWarning: Creating a tensor from a list of numpy.ndarrays is extremely slow. Please consider converting the list to a single numpy.ndarray with numpy.array() before converting to a tensor. (Triggered internally at  /opt/conda/conda-bld/pytorch_1646755953518/work/torch/csrc/utils/tensor_new.cpp:210.)\n",
      "/home/mayank/miniconda3/envs/dsn/lib/python3.7/site-packages/ipykernel_launcher.py:46: UserWarning: Creating a tensor from a list of numpy.ndarrays is extremely slow. Please consider converting the list to a single numpy.ndarray with numpy.array() before converting to a tensor. (Triggered internally at  /opt/conda/conda-bld/pytorch_1646755953518/work/torch/csrc/utils/tensor_new.cpp:210.)\n",
      "/home/mayank/miniconda3/envs/dsn/lib/python3.7/site-packages/ipykernel_launcher.py:46: UserWarning: Creating a tensor from a list of numpy.ndarrays is extremely slow. Please consider converting the list to a single numpy.ndarray with numpy.array() before converting to a tensor. (Triggered internally at  /opt/conda/conda-bld/pytorch_1646755953518/work/torch/csrc/utils/tensor_new.cpp:210.)\n"
     ]
    },
    {
     "name": "stdout",
     "output_type": "stream",
     "text": [
      "Epoch: 42 (4.5900s), train_loss: 0.1362, val_loss: 0.1439, train_acc: 0.9567, val_acc:0.9529\n",
      "\t\ttrain_roc: 0.8598, val_roc: 0.8615, train_precision: 0.7171, val_precision: 0.7332\n"
     ]
    },
    {
     "name": "stderr",
     "output_type": "stream",
     "text": [
      "/home/mayank/miniconda3/envs/dsn/lib/python3.7/site-packages/ipykernel_launcher.py:46: UserWarning: Creating a tensor from a list of numpy.ndarrays is extremely slow. Please consider converting the list to a single numpy.ndarray with numpy.array() before converting to a tensor. (Triggered internally at  /opt/conda/conda-bld/pytorch_1646755953518/work/torch/csrc/utils/tensor_new.cpp:210.)\n",
      "/home/mayank/miniconda3/envs/dsn/lib/python3.7/site-packages/ipykernel_launcher.py:46: UserWarning: Creating a tensor from a list of numpy.ndarrays is extremely slow. Please consider converting the list to a single numpy.ndarray with numpy.array() before converting to a tensor. (Triggered internally at  /opt/conda/conda-bld/pytorch_1646755953518/work/torch/csrc/utils/tensor_new.cpp:210.)\n",
      "/home/mayank/miniconda3/envs/dsn/lib/python3.7/site-packages/ipykernel_launcher.py:46: UserWarning: Creating a tensor from a list of numpy.ndarrays is extremely slow. Please consider converting the list to a single numpy.ndarray with numpy.array() before converting to a tensor. (Triggered internally at  /opt/conda/conda-bld/pytorch_1646755953518/work/torch/csrc/utils/tensor_new.cpp:210.)\n",
      "/home/mayank/miniconda3/envs/dsn/lib/python3.7/site-packages/ipykernel_launcher.py:46: UserWarning: Creating a tensor from a list of numpy.ndarrays is extremely slow. Please consider converting the list to a single numpy.ndarray with numpy.array() before converting to a tensor. (Triggered internally at  /opt/conda/conda-bld/pytorch_1646755953518/work/torch/csrc/utils/tensor_new.cpp:210.)\n"
     ]
    },
    {
     "name": "stdout",
     "output_type": "stream",
     "text": [
      "Epoch: 43 (4.5596s), train_loss: 0.1353, val_loss: 0.1439, train_acc: 0.9567, val_acc:0.9529\n",
      "\t\ttrain_roc: 0.8641, val_roc: 0.8616, train_precision: 0.7196, val_precision: 0.7360\n"
     ]
    },
    {
     "name": "stderr",
     "output_type": "stream",
     "text": [
      "/home/mayank/miniconda3/envs/dsn/lib/python3.7/site-packages/ipykernel_launcher.py:46: UserWarning: Creating a tensor from a list of numpy.ndarrays is extremely slow. Please consider converting the list to a single numpy.ndarray with numpy.array() before converting to a tensor. (Triggered internally at  /opt/conda/conda-bld/pytorch_1646755953518/work/torch/csrc/utils/tensor_new.cpp:210.)\n",
      "/home/mayank/miniconda3/envs/dsn/lib/python3.7/site-packages/ipykernel_launcher.py:46: UserWarning: Creating a tensor from a list of numpy.ndarrays is extremely slow. Please consider converting the list to a single numpy.ndarray with numpy.array() before converting to a tensor. (Triggered internally at  /opt/conda/conda-bld/pytorch_1646755953518/work/torch/csrc/utils/tensor_new.cpp:210.)\n",
      "/home/mayank/miniconda3/envs/dsn/lib/python3.7/site-packages/ipykernel_launcher.py:46: UserWarning: Creating a tensor from a list of numpy.ndarrays is extremely slow. Please consider converting the list to a single numpy.ndarray with numpy.array() before converting to a tensor. (Triggered internally at  /opt/conda/conda-bld/pytorch_1646755953518/work/torch/csrc/utils/tensor_new.cpp:210.)\n",
      "/home/mayank/miniconda3/envs/dsn/lib/python3.7/site-packages/ipykernel_launcher.py:46: UserWarning: Creating a tensor from a list of numpy.ndarrays is extremely slow. Please consider converting the list to a single numpy.ndarray with numpy.array() before converting to a tensor. (Triggered internally at  /opt/conda/conda-bld/pytorch_1646755953518/work/torch/csrc/utils/tensor_new.cpp:210.)\n"
     ]
    },
    {
     "name": "stdout",
     "output_type": "stream",
     "text": [
      "Epoch: 44 (4.3195s), train_loss: 0.1376, val_loss: 0.1439, train_acc: 0.9566, val_acc:0.9529\n",
      "\t\ttrain_roc: 0.8544, val_roc: 0.8615, train_precision: 0.7153, val_precision: 0.7366\n"
     ]
    },
    {
     "name": "stderr",
     "output_type": "stream",
     "text": [
      "/home/mayank/miniconda3/envs/dsn/lib/python3.7/site-packages/ipykernel_launcher.py:46: UserWarning: Creating a tensor from a list of numpy.ndarrays is extremely slow. Please consider converting the list to a single numpy.ndarray with numpy.array() before converting to a tensor. (Triggered internally at  /opt/conda/conda-bld/pytorch_1646755953518/work/torch/csrc/utils/tensor_new.cpp:210.)\n",
      "/home/mayank/miniconda3/envs/dsn/lib/python3.7/site-packages/ipykernel_launcher.py:46: UserWarning: Creating a tensor from a list of numpy.ndarrays is extremely slow. Please consider converting the list to a single numpy.ndarray with numpy.array() before converting to a tensor. (Triggered internally at  /opt/conda/conda-bld/pytorch_1646755953518/work/torch/csrc/utils/tensor_new.cpp:210.)\n",
      "/home/mayank/miniconda3/envs/dsn/lib/python3.7/site-packages/ipykernel_launcher.py:46: UserWarning: Creating a tensor from a list of numpy.ndarrays is extremely slow. Please consider converting the list to a single numpy.ndarray with numpy.array() before converting to a tensor. (Triggered internally at  /opt/conda/conda-bld/pytorch_1646755953518/work/torch/csrc/utils/tensor_new.cpp:210.)\n",
      "/home/mayank/miniconda3/envs/dsn/lib/python3.7/site-packages/ipykernel_launcher.py:46: UserWarning: Creating a tensor from a list of numpy.ndarrays is extremely slow. Please consider converting the list to a single numpy.ndarray with numpy.array() before converting to a tensor. (Triggered internally at  /opt/conda/conda-bld/pytorch_1646755953518/work/torch/csrc/utils/tensor_new.cpp:210.)\n"
     ]
    },
    {
     "name": "stdout",
     "output_type": "stream",
     "text": [
      "Epoch: 45 (4.2780s), train_loss: 0.1367, val_loss: 0.1439, train_acc: 0.9567, val_acc:0.9529\n",
      "\t\ttrain_roc: 0.8580, val_roc: 0.8616, train_precision: 0.7215, val_precision: 0.7345\n"
     ]
    },
    {
     "name": "stderr",
     "output_type": "stream",
     "text": [
      "/home/mayank/miniconda3/envs/dsn/lib/python3.7/site-packages/ipykernel_launcher.py:46: UserWarning: Creating a tensor from a list of numpy.ndarrays is extremely slow. Please consider converting the list to a single numpy.ndarray with numpy.array() before converting to a tensor. (Triggered internally at  /opt/conda/conda-bld/pytorch_1646755953518/work/torch/csrc/utils/tensor_new.cpp:210.)\n",
      "/home/mayank/miniconda3/envs/dsn/lib/python3.7/site-packages/ipykernel_launcher.py:46: UserWarning: Creating a tensor from a list of numpy.ndarrays is extremely slow. Please consider converting the list to a single numpy.ndarray with numpy.array() before converting to a tensor. (Triggered internally at  /opt/conda/conda-bld/pytorch_1646755953518/work/torch/csrc/utils/tensor_new.cpp:210.)\n",
      "/home/mayank/miniconda3/envs/dsn/lib/python3.7/site-packages/ipykernel_launcher.py:46: UserWarning: Creating a tensor from a list of numpy.ndarrays is extremely slow. Please consider converting the list to a single numpy.ndarray with numpy.array() before converting to a tensor. (Triggered internally at  /opt/conda/conda-bld/pytorch_1646755953518/work/torch/csrc/utils/tensor_new.cpp:210.)\n",
      "/home/mayank/miniconda3/envs/dsn/lib/python3.7/site-packages/ipykernel_launcher.py:46: UserWarning: Creating a tensor from a list of numpy.ndarrays is extremely slow. Please consider converting the list to a single numpy.ndarray with numpy.array() before converting to a tensor. (Triggered internally at  /opt/conda/conda-bld/pytorch_1646755953518/work/torch/csrc/utils/tensor_new.cpp:210.)\n"
     ]
    },
    {
     "name": "stdout",
     "output_type": "stream",
     "text": [
      "Epoch: 46 (4.4797s), train_loss: 0.1371, val_loss: 0.1439, train_acc: 0.9567, val_acc:0.9529\n",
      "\t\ttrain_roc: 0.8556, val_roc: 0.8616, train_precision: 0.7202, val_precision: 0.7343\n"
     ]
    },
    {
     "name": "stderr",
     "output_type": "stream",
     "text": [
      "/home/mayank/miniconda3/envs/dsn/lib/python3.7/site-packages/ipykernel_launcher.py:46: UserWarning: Creating a tensor from a list of numpy.ndarrays is extremely slow. Please consider converting the list to a single numpy.ndarray with numpy.array() before converting to a tensor. (Triggered internally at  /opt/conda/conda-bld/pytorch_1646755953518/work/torch/csrc/utils/tensor_new.cpp:210.)\n",
      "/home/mayank/miniconda3/envs/dsn/lib/python3.7/site-packages/ipykernel_launcher.py:46: UserWarning: Creating a tensor from a list of numpy.ndarrays is extremely slow. Please consider converting the list to a single numpy.ndarray with numpy.array() before converting to a tensor. (Triggered internally at  /opt/conda/conda-bld/pytorch_1646755953518/work/torch/csrc/utils/tensor_new.cpp:210.)\n",
      "/home/mayank/miniconda3/envs/dsn/lib/python3.7/site-packages/ipykernel_launcher.py:46: UserWarning: Creating a tensor from a list of numpy.ndarrays is extremely slow. Please consider converting the list to a single numpy.ndarray with numpy.array() before converting to a tensor. (Triggered internally at  /opt/conda/conda-bld/pytorch_1646755953518/work/torch/csrc/utils/tensor_new.cpp:210.)\n",
      "/home/mayank/miniconda3/envs/dsn/lib/python3.7/site-packages/ipykernel_launcher.py:46: UserWarning: Creating a tensor from a list of numpy.ndarrays is extremely slow. Please consider converting the list to a single numpy.ndarray with numpy.array() before converting to a tensor. (Triggered internally at  /opt/conda/conda-bld/pytorch_1646755953518/work/torch/csrc/utils/tensor_new.cpp:210.)\n"
     ]
    },
    {
     "name": "stdout",
     "output_type": "stream",
     "text": [
      "Epoch: 47 (4.6322s), train_loss: 0.1364, val_loss: 0.1439, train_acc: 0.9567, val_acc:0.9529\n",
      "\t\ttrain_roc: 0.8598, val_roc: 0.8615, train_precision: 0.7237, val_precision: 0.7373\n"
     ]
    },
    {
     "name": "stderr",
     "output_type": "stream",
     "text": [
      "/home/mayank/miniconda3/envs/dsn/lib/python3.7/site-packages/ipykernel_launcher.py:46: UserWarning: Creating a tensor from a list of numpy.ndarrays is extremely slow. Please consider converting the list to a single numpy.ndarray with numpy.array() before converting to a tensor. (Triggered internally at  /opt/conda/conda-bld/pytorch_1646755953518/work/torch/csrc/utils/tensor_new.cpp:210.)\n",
      "/home/mayank/miniconda3/envs/dsn/lib/python3.7/site-packages/ipykernel_launcher.py:46: UserWarning: Creating a tensor from a list of numpy.ndarrays is extremely slow. Please consider converting the list to a single numpy.ndarray with numpy.array() before converting to a tensor. (Triggered internally at  /opt/conda/conda-bld/pytorch_1646755953518/work/torch/csrc/utils/tensor_new.cpp:210.)\n",
      "/home/mayank/miniconda3/envs/dsn/lib/python3.7/site-packages/ipykernel_launcher.py:46: UserWarning: Creating a tensor from a list of numpy.ndarrays is extremely slow. Please consider converting the list to a single numpy.ndarray with numpy.array() before converting to a tensor. (Triggered internally at  /opt/conda/conda-bld/pytorch_1646755953518/work/torch/csrc/utils/tensor_new.cpp:210.)\n",
      "/home/mayank/miniconda3/envs/dsn/lib/python3.7/site-packages/ipykernel_launcher.py:46: UserWarning: Creating a tensor from a list of numpy.ndarrays is extremely slow. Please consider converting the list to a single numpy.ndarray with numpy.array() before converting to a tensor. (Triggered internally at  /opt/conda/conda-bld/pytorch_1646755953518/work/torch/csrc/utils/tensor_new.cpp:210.)\n"
     ]
    },
    {
     "name": "stdout",
     "output_type": "stream",
     "text": [
      "Epoch: 48 (4.4489s), train_loss: 0.1365, val_loss: 0.1439, train_acc: 0.9567, val_acc:0.9529\n",
      "\t\ttrain_roc: 0.8586, val_roc: 0.8616, train_precision: 0.7206, val_precision: 0.7362\n"
     ]
    },
    {
     "name": "stderr",
     "output_type": "stream",
     "text": [
      "/home/mayank/miniconda3/envs/dsn/lib/python3.7/site-packages/ipykernel_launcher.py:46: UserWarning: Creating a tensor from a list of numpy.ndarrays is extremely slow. Please consider converting the list to a single numpy.ndarray with numpy.array() before converting to a tensor. (Triggered internally at  /opt/conda/conda-bld/pytorch_1646755953518/work/torch/csrc/utils/tensor_new.cpp:210.)\n",
      "/home/mayank/miniconda3/envs/dsn/lib/python3.7/site-packages/ipykernel_launcher.py:46: UserWarning: Creating a tensor from a list of numpy.ndarrays is extremely slow. Please consider converting the list to a single numpy.ndarray with numpy.array() before converting to a tensor. (Triggered internally at  /opt/conda/conda-bld/pytorch_1646755953518/work/torch/csrc/utils/tensor_new.cpp:210.)\n",
      "/home/mayank/miniconda3/envs/dsn/lib/python3.7/site-packages/ipykernel_launcher.py:46: UserWarning: Creating a tensor from a list of numpy.ndarrays is extremely slow. Please consider converting the list to a single numpy.ndarray with numpy.array() before converting to a tensor. (Triggered internally at  /opt/conda/conda-bld/pytorch_1646755953518/work/torch/csrc/utils/tensor_new.cpp:210.)\n",
      "/home/mayank/miniconda3/envs/dsn/lib/python3.7/site-packages/ipykernel_launcher.py:46: UserWarning: Creating a tensor from a list of numpy.ndarrays is extremely slow. Please consider converting the list to a single numpy.ndarray with numpy.array() before converting to a tensor. (Triggered internally at  /opt/conda/conda-bld/pytorch_1646755953518/work/torch/csrc/utils/tensor_new.cpp:210.)\n"
     ]
    },
    {
     "name": "stdout",
     "output_type": "stream",
     "text": [
      "Epoch: 49 (4.7108s), train_loss: 0.1373, val_loss: 0.1439, train_acc: 0.9567, val_acc:0.9529\n",
      "\t\ttrain_roc: 0.8555, val_roc: 0.8616, train_precision: 0.7228, val_precision: 0.7358\n"
     ]
    },
    {
     "name": "stderr",
     "output_type": "stream",
     "text": [
      "/home/mayank/miniconda3/envs/dsn/lib/python3.7/site-packages/ipykernel_launcher.py:46: UserWarning: Creating a tensor from a list of numpy.ndarrays is extremely slow. Please consider converting the list to a single numpy.ndarray with numpy.array() before converting to a tensor. (Triggered internally at  /opt/conda/conda-bld/pytorch_1646755953518/work/torch/csrc/utils/tensor_new.cpp:210.)\n",
      "/home/mayank/miniconda3/envs/dsn/lib/python3.7/site-packages/ipykernel_launcher.py:46: UserWarning: Creating a tensor from a list of numpy.ndarrays is extremely slow. Please consider converting the list to a single numpy.ndarray with numpy.array() before converting to a tensor. (Triggered internally at  /opt/conda/conda-bld/pytorch_1646755953518/work/torch/csrc/utils/tensor_new.cpp:210.)\n",
      "/home/mayank/miniconda3/envs/dsn/lib/python3.7/site-packages/ipykernel_launcher.py:46: UserWarning: Creating a tensor from a list of numpy.ndarrays is extremely slow. Please consider converting the list to a single numpy.ndarray with numpy.array() before converting to a tensor. (Triggered internally at  /opt/conda/conda-bld/pytorch_1646755953518/work/torch/csrc/utils/tensor_new.cpp:210.)\n",
      "/home/mayank/miniconda3/envs/dsn/lib/python3.7/site-packages/ipykernel_launcher.py:46: UserWarning: Creating a tensor from a list of numpy.ndarrays is extremely slow. Please consider converting the list to a single numpy.ndarray with numpy.array() before converting to a tensor. (Triggered internally at  /opt/conda/conda-bld/pytorch_1646755953518/work/torch/csrc/utils/tensor_new.cpp:210.)\n"
     ]
    },
    {
     "name": "stdout",
     "output_type": "stream",
     "text": [
      "Epoch: 50 (4.3831s), train_loss: 0.1365, val_loss: 0.1439, train_acc: 0.9566, val_acc:0.9529\n",
      "\t\ttrain_roc: 0.8591, val_roc: 0.8616, train_precision: 0.7138, val_precision: 0.7331\n"
     ]
    },
    {
     "name": "stderr",
     "output_type": "stream",
     "text": [
      "/home/mayank/miniconda3/envs/dsn/lib/python3.7/site-packages/ipykernel_launcher.py:46: UserWarning: Creating a tensor from a list of numpy.ndarrays is extremely slow. Please consider converting the list to a single numpy.ndarray with numpy.array() before converting to a tensor. (Triggered internally at  /opt/conda/conda-bld/pytorch_1646755953518/work/torch/csrc/utils/tensor_new.cpp:210.)\n",
      "/home/mayank/miniconda3/envs/dsn/lib/python3.7/site-packages/ipykernel_launcher.py:46: UserWarning: Creating a tensor from a list of numpy.ndarrays is extremely slow. Please consider converting the list to a single numpy.ndarray with numpy.array() before converting to a tensor. (Triggered internally at  /opt/conda/conda-bld/pytorch_1646755953518/work/torch/csrc/utils/tensor_new.cpp:210.)\n",
      "/home/mayank/miniconda3/envs/dsn/lib/python3.7/site-packages/ipykernel_launcher.py:46: UserWarning: Creating a tensor from a list of numpy.ndarrays is extremely slow. Please consider converting the list to a single numpy.ndarray with numpy.array() before converting to a tensor. (Triggered internally at  /opt/conda/conda-bld/pytorch_1646755953518/work/torch/csrc/utils/tensor_new.cpp:210.)\n",
      "/home/mayank/miniconda3/envs/dsn/lib/python3.7/site-packages/ipykernel_launcher.py:46: UserWarning: Creating a tensor from a list of numpy.ndarrays is extremely slow. Please consider converting the list to a single numpy.ndarray with numpy.array() before converting to a tensor. (Triggered internally at  /opt/conda/conda-bld/pytorch_1646755953518/work/torch/csrc/utils/tensor_new.cpp:210.)\n"
     ]
    },
    {
     "name": "stdout",
     "output_type": "stream",
     "text": [
      "Epoch: 51 (4.2757s), train_loss: 0.1350, val_loss: 0.1439, train_acc: 0.9567, val_acc:0.9529\n",
      "\t\ttrain_roc: 0.8655, val_roc: 0.8615, train_precision: 0.7180, val_precision: 0.7362\n"
     ]
    },
    {
     "name": "stderr",
     "output_type": "stream",
     "text": [
      "/home/mayank/miniconda3/envs/dsn/lib/python3.7/site-packages/ipykernel_launcher.py:46: UserWarning: Creating a tensor from a list of numpy.ndarrays is extremely slow. Please consider converting the list to a single numpy.ndarray with numpy.array() before converting to a tensor. (Triggered internally at  /opt/conda/conda-bld/pytorch_1646755953518/work/torch/csrc/utils/tensor_new.cpp:210.)\n",
      "/home/mayank/miniconda3/envs/dsn/lib/python3.7/site-packages/ipykernel_launcher.py:46: UserWarning: Creating a tensor from a list of numpy.ndarrays is extremely slow. Please consider converting the list to a single numpy.ndarray with numpy.array() before converting to a tensor. (Triggered internally at  /opt/conda/conda-bld/pytorch_1646755953518/work/torch/csrc/utils/tensor_new.cpp:210.)\n",
      "/home/mayank/miniconda3/envs/dsn/lib/python3.7/site-packages/ipykernel_launcher.py:46: UserWarning: Creating a tensor from a list of numpy.ndarrays is extremely slow. Please consider converting the list to a single numpy.ndarray with numpy.array() before converting to a tensor. (Triggered internally at  /opt/conda/conda-bld/pytorch_1646755953518/work/torch/csrc/utils/tensor_new.cpp:210.)\n",
      "/home/mayank/miniconda3/envs/dsn/lib/python3.7/site-packages/ipykernel_launcher.py:46: UserWarning: Creating a tensor from a list of numpy.ndarrays is extremely slow. Please consider converting the list to a single numpy.ndarray with numpy.array() before converting to a tensor. (Triggered internally at  /opt/conda/conda-bld/pytorch_1646755953518/work/torch/csrc/utils/tensor_new.cpp:210.)\n"
     ]
    },
    {
     "name": "stdout",
     "output_type": "stream",
     "text": [
      "Epoch: 52 (4.2715s), train_loss: 0.1363, val_loss: 0.1439, train_acc: 0.9567, val_acc:0.9529\n",
      "\t\ttrain_roc: 0.8586, val_roc: 0.8615, train_precision: 0.7205, val_precision: 0.7394\n"
     ]
    },
    {
     "name": "stderr",
     "output_type": "stream",
     "text": [
      "/home/mayank/miniconda3/envs/dsn/lib/python3.7/site-packages/ipykernel_launcher.py:46: UserWarning: Creating a tensor from a list of numpy.ndarrays is extremely slow. Please consider converting the list to a single numpy.ndarray with numpy.array() before converting to a tensor. (Triggered internally at  /opt/conda/conda-bld/pytorch_1646755953518/work/torch/csrc/utils/tensor_new.cpp:210.)\n",
      "/home/mayank/miniconda3/envs/dsn/lib/python3.7/site-packages/ipykernel_launcher.py:46: UserWarning: Creating a tensor from a list of numpy.ndarrays is extremely slow. Please consider converting the list to a single numpy.ndarray with numpy.array() before converting to a tensor. (Triggered internally at  /opt/conda/conda-bld/pytorch_1646755953518/work/torch/csrc/utils/tensor_new.cpp:210.)\n",
      "/home/mayank/miniconda3/envs/dsn/lib/python3.7/site-packages/ipykernel_launcher.py:46: UserWarning: Creating a tensor from a list of numpy.ndarrays is extremely slow. Please consider converting the list to a single numpy.ndarray with numpy.array() before converting to a tensor. (Triggered internally at  /opt/conda/conda-bld/pytorch_1646755953518/work/torch/csrc/utils/tensor_new.cpp:210.)\n",
      "/home/mayank/miniconda3/envs/dsn/lib/python3.7/site-packages/ipykernel_launcher.py:46: UserWarning: Creating a tensor from a list of numpy.ndarrays is extremely slow. Please consider converting the list to a single numpy.ndarray with numpy.array() before converting to a tensor. (Triggered internally at  /opt/conda/conda-bld/pytorch_1646755953518/work/torch/csrc/utils/tensor_new.cpp:210.)\n"
     ]
    },
    {
     "name": "stdout",
     "output_type": "stream",
     "text": [
      "Epoch: 53 (4.2794s), train_loss: 0.1356, val_loss: 0.1439, train_acc: 0.9567, val_acc:0.9529\n",
      "\t\ttrain_roc: 0.8623, val_roc: 0.8616, train_precision: 0.7188, val_precision: 0.7372\n"
     ]
    },
    {
     "name": "stderr",
     "output_type": "stream",
     "text": [
      "/home/mayank/miniconda3/envs/dsn/lib/python3.7/site-packages/ipykernel_launcher.py:46: UserWarning: Creating a tensor from a list of numpy.ndarrays is extremely slow. Please consider converting the list to a single numpy.ndarray with numpy.array() before converting to a tensor. (Triggered internally at  /opt/conda/conda-bld/pytorch_1646755953518/work/torch/csrc/utils/tensor_new.cpp:210.)\n",
      "/home/mayank/miniconda3/envs/dsn/lib/python3.7/site-packages/ipykernel_launcher.py:46: UserWarning: Creating a tensor from a list of numpy.ndarrays is extremely slow. Please consider converting the list to a single numpy.ndarray with numpy.array() before converting to a tensor. (Triggered internally at  /opt/conda/conda-bld/pytorch_1646755953518/work/torch/csrc/utils/tensor_new.cpp:210.)\n",
      "/home/mayank/miniconda3/envs/dsn/lib/python3.7/site-packages/ipykernel_launcher.py:46: UserWarning: Creating a tensor from a list of numpy.ndarrays is extremely slow. Please consider converting the list to a single numpy.ndarray with numpy.array() before converting to a tensor. (Triggered internally at  /opt/conda/conda-bld/pytorch_1646755953518/work/torch/csrc/utils/tensor_new.cpp:210.)\n",
      "/home/mayank/miniconda3/envs/dsn/lib/python3.7/site-packages/ipykernel_launcher.py:46: UserWarning: Creating a tensor from a list of numpy.ndarrays is extremely slow. Please consider converting the list to a single numpy.ndarray with numpy.array() before converting to a tensor. (Triggered internally at  /opt/conda/conda-bld/pytorch_1646755953518/work/torch/csrc/utils/tensor_new.cpp:210.)\n"
     ]
    },
    {
     "name": "stdout",
     "output_type": "stream",
     "text": [
      "Epoch: 54 (4.2916s), train_loss: 0.1368, val_loss: 0.1439, train_acc: 0.9567, val_acc:0.9529\n",
      "\t\ttrain_roc: 0.8575, val_roc: 0.8616, train_precision: 0.7232, val_precision: 0.7363\n"
     ]
    },
    {
     "name": "stderr",
     "output_type": "stream",
     "text": [
      "/home/mayank/miniconda3/envs/dsn/lib/python3.7/site-packages/ipykernel_launcher.py:46: UserWarning: Creating a tensor from a list of numpy.ndarrays is extremely slow. Please consider converting the list to a single numpy.ndarray with numpy.array() before converting to a tensor. (Triggered internally at  /opt/conda/conda-bld/pytorch_1646755953518/work/torch/csrc/utils/tensor_new.cpp:210.)\n",
      "/home/mayank/miniconda3/envs/dsn/lib/python3.7/site-packages/ipykernel_launcher.py:46: UserWarning: Creating a tensor from a list of numpy.ndarrays is extremely slow. Please consider converting the list to a single numpy.ndarray with numpy.array() before converting to a tensor. (Triggered internally at  /opt/conda/conda-bld/pytorch_1646755953518/work/torch/csrc/utils/tensor_new.cpp:210.)\n",
      "/home/mayank/miniconda3/envs/dsn/lib/python3.7/site-packages/ipykernel_launcher.py:46: UserWarning: Creating a tensor from a list of numpy.ndarrays is extremely slow. Please consider converting the list to a single numpy.ndarray with numpy.array() before converting to a tensor. (Triggered internally at  /opt/conda/conda-bld/pytorch_1646755953518/work/torch/csrc/utils/tensor_new.cpp:210.)\n",
      "/home/mayank/miniconda3/envs/dsn/lib/python3.7/site-packages/ipykernel_launcher.py:46: UserWarning: Creating a tensor from a list of numpy.ndarrays is extremely slow. Please consider converting the list to a single numpy.ndarray with numpy.array() before converting to a tensor. (Triggered internally at  /opt/conda/conda-bld/pytorch_1646755953518/work/torch/csrc/utils/tensor_new.cpp:210.)\n"
     ]
    },
    {
     "name": "stdout",
     "output_type": "stream",
     "text": [
      "Epoch: 55 (4.2201s), train_loss: 0.1368, val_loss: 0.1439, train_acc: 0.9567, val_acc:0.9529\n",
      "\t\ttrain_roc: 0.8572, val_roc: 0.8616, train_precision: 0.7233, val_precision: 0.7350\n"
     ]
    },
    {
     "name": "stderr",
     "output_type": "stream",
     "text": [
      "/home/mayank/miniconda3/envs/dsn/lib/python3.7/site-packages/ipykernel_launcher.py:46: UserWarning: Creating a tensor from a list of numpy.ndarrays is extremely slow. Please consider converting the list to a single numpy.ndarray with numpy.array() before converting to a tensor. (Triggered internally at  /opt/conda/conda-bld/pytorch_1646755953518/work/torch/csrc/utils/tensor_new.cpp:210.)\n",
      "/home/mayank/miniconda3/envs/dsn/lib/python3.7/site-packages/ipykernel_launcher.py:46: UserWarning: Creating a tensor from a list of numpy.ndarrays is extremely slow. Please consider converting the list to a single numpy.ndarray with numpy.array() before converting to a tensor. (Triggered internally at  /opt/conda/conda-bld/pytorch_1646755953518/work/torch/csrc/utils/tensor_new.cpp:210.)\n",
      "/home/mayank/miniconda3/envs/dsn/lib/python3.7/site-packages/ipykernel_launcher.py:46: UserWarning: Creating a tensor from a list of numpy.ndarrays is extremely slow. Please consider converting the list to a single numpy.ndarray with numpy.array() before converting to a tensor. (Triggered internally at  /opt/conda/conda-bld/pytorch_1646755953518/work/torch/csrc/utils/tensor_new.cpp:210.)\n",
      "/home/mayank/miniconda3/envs/dsn/lib/python3.7/site-packages/ipykernel_launcher.py:46: UserWarning: Creating a tensor from a list of numpy.ndarrays is extremely slow. Please consider converting the list to a single numpy.ndarray with numpy.array() before converting to a tensor. (Triggered internally at  /opt/conda/conda-bld/pytorch_1646755953518/work/torch/csrc/utils/tensor_new.cpp:210.)\n"
     ]
    },
    {
     "name": "stdout",
     "output_type": "stream",
     "text": [
      "Epoch: 56 (4.2448s), train_loss: 0.1366, val_loss: 0.1439, train_acc: 0.9567, val_acc:0.9529\n",
      "\t\ttrain_roc: 0.8591, val_roc: 0.8615, train_precision: 0.7170, val_precision: 0.7327\n"
     ]
    },
    {
     "name": "stderr",
     "output_type": "stream",
     "text": [
      "/home/mayank/miniconda3/envs/dsn/lib/python3.7/site-packages/ipykernel_launcher.py:46: UserWarning: Creating a tensor from a list of numpy.ndarrays is extremely slow. Please consider converting the list to a single numpy.ndarray with numpy.array() before converting to a tensor. (Triggered internally at  /opt/conda/conda-bld/pytorch_1646755953518/work/torch/csrc/utils/tensor_new.cpp:210.)\n",
      "/home/mayank/miniconda3/envs/dsn/lib/python3.7/site-packages/ipykernel_launcher.py:46: UserWarning: Creating a tensor from a list of numpy.ndarrays is extremely slow. Please consider converting the list to a single numpy.ndarray with numpy.array() before converting to a tensor. (Triggered internally at  /opt/conda/conda-bld/pytorch_1646755953518/work/torch/csrc/utils/tensor_new.cpp:210.)\n",
      "/home/mayank/miniconda3/envs/dsn/lib/python3.7/site-packages/ipykernel_launcher.py:46: UserWarning: Creating a tensor from a list of numpy.ndarrays is extremely slow. Please consider converting the list to a single numpy.ndarray with numpy.array() before converting to a tensor. (Triggered internally at  /opt/conda/conda-bld/pytorch_1646755953518/work/torch/csrc/utils/tensor_new.cpp:210.)\n",
      "/home/mayank/miniconda3/envs/dsn/lib/python3.7/site-packages/ipykernel_launcher.py:46: UserWarning: Creating a tensor from a list of numpy.ndarrays is extremely slow. Please consider converting the list to a single numpy.ndarray with numpy.array() before converting to a tensor. (Triggered internally at  /opt/conda/conda-bld/pytorch_1646755953518/work/torch/csrc/utils/tensor_new.cpp:210.)\n"
     ]
    },
    {
     "name": "stdout",
     "output_type": "stream",
     "text": [
      "Epoch: 57 (4.2997s), train_loss: 0.1366, val_loss: 0.1439, train_acc: 0.9567, val_acc:0.9529\n",
      "\t\ttrain_roc: 0.8586, val_roc: 0.8615, train_precision: 0.7250, val_precision: 0.7329\n"
     ]
    },
    {
     "name": "stderr",
     "output_type": "stream",
     "text": [
      "/home/mayank/miniconda3/envs/dsn/lib/python3.7/site-packages/ipykernel_launcher.py:46: UserWarning: Creating a tensor from a list of numpy.ndarrays is extremely slow. Please consider converting the list to a single numpy.ndarray with numpy.array() before converting to a tensor. (Triggered internally at  /opt/conda/conda-bld/pytorch_1646755953518/work/torch/csrc/utils/tensor_new.cpp:210.)\n",
      "/home/mayank/miniconda3/envs/dsn/lib/python3.7/site-packages/ipykernel_launcher.py:46: UserWarning: Creating a tensor from a list of numpy.ndarrays is extremely slow. Please consider converting the list to a single numpy.ndarray with numpy.array() before converting to a tensor. (Triggered internally at  /opt/conda/conda-bld/pytorch_1646755953518/work/torch/csrc/utils/tensor_new.cpp:210.)\n",
      "/home/mayank/miniconda3/envs/dsn/lib/python3.7/site-packages/ipykernel_launcher.py:46: UserWarning: Creating a tensor from a list of numpy.ndarrays is extremely slow. Please consider converting the list to a single numpy.ndarray with numpy.array() before converting to a tensor. (Triggered internally at  /opt/conda/conda-bld/pytorch_1646755953518/work/torch/csrc/utils/tensor_new.cpp:210.)\n",
      "/home/mayank/miniconda3/envs/dsn/lib/python3.7/site-packages/ipykernel_launcher.py:46: UserWarning: Creating a tensor from a list of numpy.ndarrays is extremely slow. Please consider converting the list to a single numpy.ndarray with numpy.array() before converting to a tensor. (Triggered internally at  /opt/conda/conda-bld/pytorch_1646755953518/work/torch/csrc/utils/tensor_new.cpp:210.)\n"
     ]
    },
    {
     "name": "stdout",
     "output_type": "stream",
     "text": [
      "Epoch: 58 (4.1979s), train_loss: 0.1362, val_loss: 0.1439, train_acc: 0.9567, val_acc:0.9529\n",
      "\t\ttrain_roc: 0.8606, val_roc: 0.8615, train_precision: 0.7193, val_precision: 0.7329\n"
     ]
    },
    {
     "name": "stderr",
     "output_type": "stream",
     "text": [
      "/home/mayank/miniconda3/envs/dsn/lib/python3.7/site-packages/ipykernel_launcher.py:46: UserWarning: Creating a tensor from a list of numpy.ndarrays is extremely slow. Please consider converting the list to a single numpy.ndarray with numpy.array() before converting to a tensor. (Triggered internally at  /opt/conda/conda-bld/pytorch_1646755953518/work/torch/csrc/utils/tensor_new.cpp:210.)\n",
      "/home/mayank/miniconda3/envs/dsn/lib/python3.7/site-packages/ipykernel_launcher.py:46: UserWarning: Creating a tensor from a list of numpy.ndarrays is extremely slow. Please consider converting the list to a single numpy.ndarray with numpy.array() before converting to a tensor. (Triggered internally at  /opt/conda/conda-bld/pytorch_1646755953518/work/torch/csrc/utils/tensor_new.cpp:210.)\n",
      "/home/mayank/miniconda3/envs/dsn/lib/python3.7/site-packages/ipykernel_launcher.py:46: UserWarning: Creating a tensor from a list of numpy.ndarrays is extremely slow. Please consider converting the list to a single numpy.ndarray with numpy.array() before converting to a tensor. (Triggered internally at  /opt/conda/conda-bld/pytorch_1646755953518/work/torch/csrc/utils/tensor_new.cpp:210.)\n",
      "/home/mayank/miniconda3/envs/dsn/lib/python3.7/site-packages/ipykernel_launcher.py:46: UserWarning: Creating a tensor from a list of numpy.ndarrays is extremely slow. Please consider converting the list to a single numpy.ndarray with numpy.array() before converting to a tensor. (Triggered internally at  /opt/conda/conda-bld/pytorch_1646755953518/work/torch/csrc/utils/tensor_new.cpp:210.)\n"
     ]
    },
    {
     "name": "stdout",
     "output_type": "stream",
     "text": [
      "Epoch: 59 (4.2945s), train_loss: 0.1364, val_loss: 0.1439, train_acc: 0.9567, val_acc:0.9529\n",
      "\t\ttrain_roc: 0.8586, val_roc: 0.8615, train_precision: 0.7219, val_precision: 0.7327\n"
     ]
    },
    {
     "name": "stderr",
     "output_type": "stream",
     "text": [
      "/home/mayank/miniconda3/envs/dsn/lib/python3.7/site-packages/ipykernel_launcher.py:46: UserWarning: Creating a tensor from a list of numpy.ndarrays is extremely slow. Please consider converting the list to a single numpy.ndarray with numpy.array() before converting to a tensor. (Triggered internally at  /opt/conda/conda-bld/pytorch_1646755953518/work/torch/csrc/utils/tensor_new.cpp:210.)\n",
      "/home/mayank/miniconda3/envs/dsn/lib/python3.7/site-packages/ipykernel_launcher.py:46: UserWarning: Creating a tensor from a list of numpy.ndarrays is extremely slow. Please consider converting the list to a single numpy.ndarray with numpy.array() before converting to a tensor. (Triggered internally at  /opt/conda/conda-bld/pytorch_1646755953518/work/torch/csrc/utils/tensor_new.cpp:210.)\n",
      "/home/mayank/miniconda3/envs/dsn/lib/python3.7/site-packages/ipykernel_launcher.py:46: UserWarning: Creating a tensor from a list of numpy.ndarrays is extremely slow. Please consider converting the list to a single numpy.ndarray with numpy.array() before converting to a tensor. (Triggered internally at  /opt/conda/conda-bld/pytorch_1646755953518/work/torch/csrc/utils/tensor_new.cpp:210.)\n",
      "/home/mayank/miniconda3/envs/dsn/lib/python3.7/site-packages/ipykernel_launcher.py:46: UserWarning: Creating a tensor from a list of numpy.ndarrays is extremely slow. Please consider converting the list to a single numpy.ndarray with numpy.array() before converting to a tensor. (Triggered internally at  /opt/conda/conda-bld/pytorch_1646755953518/work/torch/csrc/utils/tensor_new.cpp:210.)\n"
     ]
    },
    {
     "name": "stdout",
     "output_type": "stream",
     "text": [
      "Epoch: 60 (4.2464s), train_loss: 0.1366, val_loss: 0.1439, train_acc: 0.9567, val_acc:0.9529\n",
      "\t\ttrain_roc: 0.8585, val_roc: 0.8615, train_precision: 0.7170, val_precision: 0.7329\n"
     ]
    },
    {
     "name": "stderr",
     "output_type": "stream",
     "text": [
      "/home/mayank/miniconda3/envs/dsn/lib/python3.7/site-packages/ipykernel_launcher.py:46: UserWarning: Creating a tensor from a list of numpy.ndarrays is extremely slow. Please consider converting the list to a single numpy.ndarray with numpy.array() before converting to a tensor. (Triggered internally at  /opt/conda/conda-bld/pytorch_1646755953518/work/torch/csrc/utils/tensor_new.cpp:210.)\n",
      "/home/mayank/miniconda3/envs/dsn/lib/python3.7/site-packages/ipykernel_launcher.py:46: UserWarning: Creating a tensor from a list of numpy.ndarrays is extremely slow. Please consider converting the list to a single numpy.ndarray with numpy.array() before converting to a tensor. (Triggered internally at  /opt/conda/conda-bld/pytorch_1646755953518/work/torch/csrc/utils/tensor_new.cpp:210.)\n",
      "/home/mayank/miniconda3/envs/dsn/lib/python3.7/site-packages/ipykernel_launcher.py:46: UserWarning: Creating a tensor from a list of numpy.ndarrays is extremely slow. Please consider converting the list to a single numpy.ndarray with numpy.array() before converting to a tensor. (Triggered internally at  /opt/conda/conda-bld/pytorch_1646755953518/work/torch/csrc/utils/tensor_new.cpp:210.)\n",
      "/home/mayank/miniconda3/envs/dsn/lib/python3.7/site-packages/ipykernel_launcher.py:46: UserWarning: Creating a tensor from a list of numpy.ndarrays is extremely slow. Please consider converting the list to a single numpy.ndarray with numpy.array() before converting to a tensor. (Triggered internally at  /opt/conda/conda-bld/pytorch_1646755953518/work/torch/csrc/utils/tensor_new.cpp:210.)\n"
     ]
    },
    {
     "name": "stdout",
     "output_type": "stream",
     "text": [
      "Epoch: 61 (4.3326s), train_loss: 0.1357, val_loss: 0.1439, train_acc: 0.9567, val_acc:0.9529\n",
      "\t\ttrain_roc: 0.8619, val_roc: 0.8615, train_precision: 0.7172, val_precision: 0.7363\n"
     ]
    },
    {
     "name": "stderr",
     "output_type": "stream",
     "text": [
      "/home/mayank/miniconda3/envs/dsn/lib/python3.7/site-packages/ipykernel_launcher.py:46: UserWarning: Creating a tensor from a list of numpy.ndarrays is extremely slow. Please consider converting the list to a single numpy.ndarray with numpy.array() before converting to a tensor. (Triggered internally at  /opt/conda/conda-bld/pytorch_1646755953518/work/torch/csrc/utils/tensor_new.cpp:210.)\n",
      "/home/mayank/miniconda3/envs/dsn/lib/python3.7/site-packages/ipykernel_launcher.py:46: UserWarning: Creating a tensor from a list of numpy.ndarrays is extremely slow. Please consider converting the list to a single numpy.ndarray with numpy.array() before converting to a tensor. (Triggered internally at  /opt/conda/conda-bld/pytorch_1646755953518/work/torch/csrc/utils/tensor_new.cpp:210.)\n",
      "/home/mayank/miniconda3/envs/dsn/lib/python3.7/site-packages/ipykernel_launcher.py:46: UserWarning: Creating a tensor from a list of numpy.ndarrays is extremely slow. Please consider converting the list to a single numpy.ndarray with numpy.array() before converting to a tensor. (Triggered internally at  /opt/conda/conda-bld/pytorch_1646755953518/work/torch/csrc/utils/tensor_new.cpp:210.)\n",
      "/home/mayank/miniconda3/envs/dsn/lib/python3.7/site-packages/ipykernel_launcher.py:46: UserWarning: Creating a tensor from a list of numpy.ndarrays is extremely slow. Please consider converting the list to a single numpy.ndarray with numpy.array() before converting to a tensor. (Triggered internally at  /opt/conda/conda-bld/pytorch_1646755953518/work/torch/csrc/utils/tensor_new.cpp:210.)\n"
     ]
    },
    {
     "name": "stdout",
     "output_type": "stream",
     "text": [
      "Epoch: 62 (4.2691s), train_loss: 0.1363, val_loss: 0.1439, train_acc: 0.9567, val_acc:0.9529\n",
      "\t\ttrain_roc: 0.8599, val_roc: 0.8615, train_precision: 0.7209, val_precision: 0.7332\n"
     ]
    },
    {
     "name": "stderr",
     "output_type": "stream",
     "text": [
      "/home/mayank/miniconda3/envs/dsn/lib/python3.7/site-packages/ipykernel_launcher.py:46: UserWarning: Creating a tensor from a list of numpy.ndarrays is extremely slow. Please consider converting the list to a single numpy.ndarray with numpy.array() before converting to a tensor. (Triggered internally at  /opt/conda/conda-bld/pytorch_1646755953518/work/torch/csrc/utils/tensor_new.cpp:210.)\n",
      "/home/mayank/miniconda3/envs/dsn/lib/python3.7/site-packages/ipykernel_launcher.py:46: UserWarning: Creating a tensor from a list of numpy.ndarrays is extremely slow. Please consider converting the list to a single numpy.ndarray with numpy.array() before converting to a tensor. (Triggered internally at  /opt/conda/conda-bld/pytorch_1646755953518/work/torch/csrc/utils/tensor_new.cpp:210.)\n",
      "/home/mayank/miniconda3/envs/dsn/lib/python3.7/site-packages/ipykernel_launcher.py:46: UserWarning: Creating a tensor from a list of numpy.ndarrays is extremely slow. Please consider converting the list to a single numpy.ndarray with numpy.array() before converting to a tensor. (Triggered internally at  /opt/conda/conda-bld/pytorch_1646755953518/work/torch/csrc/utils/tensor_new.cpp:210.)\n",
      "/home/mayank/miniconda3/envs/dsn/lib/python3.7/site-packages/ipykernel_launcher.py:46: UserWarning: Creating a tensor from a list of numpy.ndarrays is extremely slow. Please consider converting the list to a single numpy.ndarray with numpy.array() before converting to a tensor. (Triggered internally at  /opt/conda/conda-bld/pytorch_1646755953518/work/torch/csrc/utils/tensor_new.cpp:210.)\n"
     ]
    },
    {
     "name": "stdout",
     "output_type": "stream",
     "text": [
      "Epoch: 63 (4.3001s), train_loss: 0.1365, val_loss: 0.1439, train_acc: 0.9567, val_acc:0.9529\n",
      "\t\ttrain_roc: 0.8586, val_roc: 0.8615, train_precision: 0.7208, val_precision: 0.7329\n"
     ]
    },
    {
     "name": "stderr",
     "output_type": "stream",
     "text": [
      "/home/mayank/miniconda3/envs/dsn/lib/python3.7/site-packages/ipykernel_launcher.py:46: UserWarning: Creating a tensor from a list of numpy.ndarrays is extremely slow. Please consider converting the list to a single numpy.ndarray with numpy.array() before converting to a tensor. (Triggered internally at  /opt/conda/conda-bld/pytorch_1646755953518/work/torch/csrc/utils/tensor_new.cpp:210.)\n",
      "/home/mayank/miniconda3/envs/dsn/lib/python3.7/site-packages/ipykernel_launcher.py:46: UserWarning: Creating a tensor from a list of numpy.ndarrays is extremely slow. Please consider converting the list to a single numpy.ndarray with numpy.array() before converting to a tensor. (Triggered internally at  /opt/conda/conda-bld/pytorch_1646755953518/work/torch/csrc/utils/tensor_new.cpp:210.)\n",
      "/home/mayank/miniconda3/envs/dsn/lib/python3.7/site-packages/ipykernel_launcher.py:46: UserWarning: Creating a tensor from a list of numpy.ndarrays is extremely slow. Please consider converting the list to a single numpy.ndarray with numpy.array() before converting to a tensor. (Triggered internally at  /opt/conda/conda-bld/pytorch_1646755953518/work/torch/csrc/utils/tensor_new.cpp:210.)\n",
      "/home/mayank/miniconda3/envs/dsn/lib/python3.7/site-packages/ipykernel_launcher.py:46: UserWarning: Creating a tensor from a list of numpy.ndarrays is extremely slow. Please consider converting the list to a single numpy.ndarray with numpy.array() before converting to a tensor. (Triggered internally at  /opt/conda/conda-bld/pytorch_1646755953518/work/torch/csrc/utils/tensor_new.cpp:210.)\n"
     ]
    },
    {
     "name": "stdout",
     "output_type": "stream",
     "text": [
      "Epoch: 64 (4.2975s), train_loss: 0.1364, val_loss: 0.1440, train_acc: 0.9567, val_acc:0.9529\n",
      "\t\ttrain_roc: 0.8588, val_roc: 0.8615, train_precision: 0.7248, val_precision: 0.7360\n"
     ]
    },
    {
     "name": "stderr",
     "output_type": "stream",
     "text": [
      "/home/mayank/miniconda3/envs/dsn/lib/python3.7/site-packages/ipykernel_launcher.py:46: UserWarning: Creating a tensor from a list of numpy.ndarrays is extremely slow. Please consider converting the list to a single numpy.ndarray with numpy.array() before converting to a tensor. (Triggered internally at  /opt/conda/conda-bld/pytorch_1646755953518/work/torch/csrc/utils/tensor_new.cpp:210.)\n",
      "/home/mayank/miniconda3/envs/dsn/lib/python3.7/site-packages/ipykernel_launcher.py:46: UserWarning: Creating a tensor from a list of numpy.ndarrays is extremely slow. Please consider converting the list to a single numpy.ndarray with numpy.array() before converting to a tensor. (Triggered internally at  /opt/conda/conda-bld/pytorch_1646755953518/work/torch/csrc/utils/tensor_new.cpp:210.)\n",
      "/home/mayank/miniconda3/envs/dsn/lib/python3.7/site-packages/ipykernel_launcher.py:46: UserWarning: Creating a tensor from a list of numpy.ndarrays is extremely slow. Please consider converting the list to a single numpy.ndarray with numpy.array() before converting to a tensor. (Triggered internally at  /opt/conda/conda-bld/pytorch_1646755953518/work/torch/csrc/utils/tensor_new.cpp:210.)\n",
      "/home/mayank/miniconda3/envs/dsn/lib/python3.7/site-packages/ipykernel_launcher.py:46: UserWarning: Creating a tensor from a list of numpy.ndarrays is extremely slow. Please consider converting the list to a single numpy.ndarray with numpy.array() before converting to a tensor. (Triggered internally at  /opt/conda/conda-bld/pytorch_1646755953518/work/torch/csrc/utils/tensor_new.cpp:210.)\n"
     ]
    },
    {
     "name": "stdout",
     "output_type": "stream",
     "text": [
      "Epoch: 65 (4.2566s), train_loss: 0.1362, val_loss: 0.1439, train_acc: 0.9567, val_acc:0.9529\n",
      "\t\ttrain_roc: 0.8591, val_roc: 0.8615, train_precision: 0.7238, val_precision: 0.7333\n"
     ]
    },
    {
     "name": "stderr",
     "output_type": "stream",
     "text": [
      "/home/mayank/miniconda3/envs/dsn/lib/python3.7/site-packages/ipykernel_launcher.py:46: UserWarning: Creating a tensor from a list of numpy.ndarrays is extremely slow. Please consider converting the list to a single numpy.ndarray with numpy.array() before converting to a tensor. (Triggered internally at  /opt/conda/conda-bld/pytorch_1646755953518/work/torch/csrc/utils/tensor_new.cpp:210.)\n",
      "/home/mayank/miniconda3/envs/dsn/lib/python3.7/site-packages/ipykernel_launcher.py:46: UserWarning: Creating a tensor from a list of numpy.ndarrays is extremely slow. Please consider converting the list to a single numpy.ndarray with numpy.array() before converting to a tensor. (Triggered internally at  /opt/conda/conda-bld/pytorch_1646755953518/work/torch/csrc/utils/tensor_new.cpp:210.)\n",
      "/home/mayank/miniconda3/envs/dsn/lib/python3.7/site-packages/ipykernel_launcher.py:46: UserWarning: Creating a tensor from a list of numpy.ndarrays is extremely slow. Please consider converting the list to a single numpy.ndarray with numpy.array() before converting to a tensor. (Triggered internally at  /opt/conda/conda-bld/pytorch_1646755953518/work/torch/csrc/utils/tensor_new.cpp:210.)\n",
      "/home/mayank/miniconda3/envs/dsn/lib/python3.7/site-packages/ipykernel_launcher.py:46: UserWarning: Creating a tensor from a list of numpy.ndarrays is extremely slow. Please consider converting the list to a single numpy.ndarray with numpy.array() before converting to a tensor. (Triggered internally at  /opt/conda/conda-bld/pytorch_1646755953518/work/torch/csrc/utils/tensor_new.cpp:210.)\n"
     ]
    },
    {
     "name": "stdout",
     "output_type": "stream",
     "text": [
      "Epoch: 66 (4.2886s), train_loss: 0.1355, val_loss: 0.1439, train_acc: 0.9567, val_acc:0.9529\n",
      "\t\ttrain_roc: 0.8628, val_roc: 0.8615, train_precision: 0.7208, val_precision: 0.7330\n"
     ]
    },
    {
     "name": "stderr",
     "output_type": "stream",
     "text": [
      "/home/mayank/miniconda3/envs/dsn/lib/python3.7/site-packages/ipykernel_launcher.py:46: UserWarning: Creating a tensor from a list of numpy.ndarrays is extremely slow. Please consider converting the list to a single numpy.ndarray with numpy.array() before converting to a tensor. (Triggered internally at  /opt/conda/conda-bld/pytorch_1646755953518/work/torch/csrc/utils/tensor_new.cpp:210.)\n",
      "/home/mayank/miniconda3/envs/dsn/lib/python3.7/site-packages/ipykernel_launcher.py:46: UserWarning: Creating a tensor from a list of numpy.ndarrays is extremely slow. Please consider converting the list to a single numpy.ndarray with numpy.array() before converting to a tensor. (Triggered internally at  /opt/conda/conda-bld/pytorch_1646755953518/work/torch/csrc/utils/tensor_new.cpp:210.)\n",
      "/home/mayank/miniconda3/envs/dsn/lib/python3.7/site-packages/ipykernel_launcher.py:46: UserWarning: Creating a tensor from a list of numpy.ndarrays is extremely slow. Please consider converting the list to a single numpy.ndarray with numpy.array() before converting to a tensor. (Triggered internally at  /opt/conda/conda-bld/pytorch_1646755953518/work/torch/csrc/utils/tensor_new.cpp:210.)\n",
      "/home/mayank/miniconda3/envs/dsn/lib/python3.7/site-packages/ipykernel_launcher.py:46: UserWarning: Creating a tensor from a list of numpy.ndarrays is extremely slow. Please consider converting the list to a single numpy.ndarray with numpy.array() before converting to a tensor. (Triggered internally at  /opt/conda/conda-bld/pytorch_1646755953518/work/torch/csrc/utils/tensor_new.cpp:210.)\n"
     ]
    },
    {
     "name": "stdout",
     "output_type": "stream",
     "text": [
      "Epoch: 67 (4.2813s), train_loss: 0.1372, val_loss: 0.1439, train_acc: 0.9567, val_acc:0.9529\n",
      "\t\ttrain_roc: 0.8563, val_roc: 0.8615, train_precision: 0.7187, val_precision: 0.7336\n"
     ]
    },
    {
     "name": "stderr",
     "output_type": "stream",
     "text": [
      "/home/mayank/miniconda3/envs/dsn/lib/python3.7/site-packages/ipykernel_launcher.py:46: UserWarning: Creating a tensor from a list of numpy.ndarrays is extremely slow. Please consider converting the list to a single numpy.ndarray with numpy.array() before converting to a tensor. (Triggered internally at  /opt/conda/conda-bld/pytorch_1646755953518/work/torch/csrc/utils/tensor_new.cpp:210.)\n",
      "/home/mayank/miniconda3/envs/dsn/lib/python3.7/site-packages/ipykernel_launcher.py:46: UserWarning: Creating a tensor from a list of numpy.ndarrays is extremely slow. Please consider converting the list to a single numpy.ndarray with numpy.array() before converting to a tensor. (Triggered internally at  /opt/conda/conda-bld/pytorch_1646755953518/work/torch/csrc/utils/tensor_new.cpp:210.)\n",
      "/home/mayank/miniconda3/envs/dsn/lib/python3.7/site-packages/ipykernel_launcher.py:46: UserWarning: Creating a tensor from a list of numpy.ndarrays is extremely slow. Please consider converting the list to a single numpy.ndarray with numpy.array() before converting to a tensor. (Triggered internally at  /opt/conda/conda-bld/pytorch_1646755953518/work/torch/csrc/utils/tensor_new.cpp:210.)\n",
      "/home/mayank/miniconda3/envs/dsn/lib/python3.7/site-packages/ipykernel_launcher.py:46: UserWarning: Creating a tensor from a list of numpy.ndarrays is extremely slow. Please consider converting the list to a single numpy.ndarray with numpy.array() before converting to a tensor. (Triggered internally at  /opt/conda/conda-bld/pytorch_1646755953518/work/torch/csrc/utils/tensor_new.cpp:210.)\n"
     ]
    },
    {
     "name": "stdout",
     "output_type": "stream",
     "text": [
      "Epoch: 68 (4.2471s), train_loss: 0.1352, val_loss: 0.1439, train_acc: 0.9567, val_acc:0.9529\n",
      "\t\ttrain_roc: 0.8641, val_roc: 0.8615, train_precision: 0.7209, val_precision: 0.7335\n"
     ]
    },
    {
     "name": "stderr",
     "output_type": "stream",
     "text": [
      "/home/mayank/miniconda3/envs/dsn/lib/python3.7/site-packages/ipykernel_launcher.py:46: UserWarning: Creating a tensor from a list of numpy.ndarrays is extremely slow. Please consider converting the list to a single numpy.ndarray with numpy.array() before converting to a tensor. (Triggered internally at  /opt/conda/conda-bld/pytorch_1646755953518/work/torch/csrc/utils/tensor_new.cpp:210.)\n",
      "/home/mayank/miniconda3/envs/dsn/lib/python3.7/site-packages/ipykernel_launcher.py:46: UserWarning: Creating a tensor from a list of numpy.ndarrays is extremely slow. Please consider converting the list to a single numpy.ndarray with numpy.array() before converting to a tensor. (Triggered internally at  /opt/conda/conda-bld/pytorch_1646755953518/work/torch/csrc/utils/tensor_new.cpp:210.)\n",
      "/home/mayank/miniconda3/envs/dsn/lib/python3.7/site-packages/ipykernel_launcher.py:46: UserWarning: Creating a tensor from a list of numpy.ndarrays is extremely slow. Please consider converting the list to a single numpy.ndarray with numpy.array() before converting to a tensor. (Triggered internally at  /opt/conda/conda-bld/pytorch_1646755953518/work/torch/csrc/utils/tensor_new.cpp:210.)\n",
      "/home/mayank/miniconda3/envs/dsn/lib/python3.7/site-packages/ipykernel_launcher.py:46: UserWarning: Creating a tensor from a list of numpy.ndarrays is extremely slow. Please consider converting the list to a single numpy.ndarray with numpy.array() before converting to a tensor. (Triggered internally at  /opt/conda/conda-bld/pytorch_1646755953518/work/torch/csrc/utils/tensor_new.cpp:210.)\n"
     ]
    },
    {
     "name": "stdout",
     "output_type": "stream",
     "text": [
      "Epoch: 69 (4.2406s), train_loss: 0.1365, val_loss: 0.1439, train_acc: 0.9567, val_acc:0.9529\n",
      "\t\ttrain_roc: 0.8576, val_roc: 0.8615, train_precision: 0.7249, val_precision: 0.7353\n"
     ]
    },
    {
     "name": "stderr",
     "output_type": "stream",
     "text": [
      "/home/mayank/miniconda3/envs/dsn/lib/python3.7/site-packages/ipykernel_launcher.py:46: UserWarning: Creating a tensor from a list of numpy.ndarrays is extremely slow. Please consider converting the list to a single numpy.ndarray with numpy.array() before converting to a tensor. (Triggered internally at  /opt/conda/conda-bld/pytorch_1646755953518/work/torch/csrc/utils/tensor_new.cpp:210.)\n",
      "/home/mayank/miniconda3/envs/dsn/lib/python3.7/site-packages/ipykernel_launcher.py:46: UserWarning: Creating a tensor from a list of numpy.ndarrays is extremely slow. Please consider converting the list to a single numpy.ndarray with numpy.array() before converting to a tensor. (Triggered internally at  /opt/conda/conda-bld/pytorch_1646755953518/work/torch/csrc/utils/tensor_new.cpp:210.)\n",
      "/home/mayank/miniconda3/envs/dsn/lib/python3.7/site-packages/ipykernel_launcher.py:46: UserWarning: Creating a tensor from a list of numpy.ndarrays is extremely slow. Please consider converting the list to a single numpy.ndarray with numpy.array() before converting to a tensor. (Triggered internally at  /opt/conda/conda-bld/pytorch_1646755953518/work/torch/csrc/utils/tensor_new.cpp:210.)\n",
      "/home/mayank/miniconda3/envs/dsn/lib/python3.7/site-packages/ipykernel_launcher.py:46: UserWarning: Creating a tensor from a list of numpy.ndarrays is extremely slow. Please consider converting the list to a single numpy.ndarray with numpy.array() before converting to a tensor. (Triggered internally at  /opt/conda/conda-bld/pytorch_1646755953518/work/torch/csrc/utils/tensor_new.cpp:210.)\n"
     ]
    },
    {
     "name": "stdout",
     "output_type": "stream",
     "text": [
      "Epoch: 70 (4.2489s), train_loss: 0.1363, val_loss: 0.1439, train_acc: 0.9567, val_acc:0.9529\n",
      "\t\ttrain_roc: 0.8592, val_roc: 0.8615, train_precision: 0.7200, val_precision: 0.7356\n"
     ]
    },
    {
     "name": "stderr",
     "output_type": "stream",
     "text": [
      "/home/mayank/miniconda3/envs/dsn/lib/python3.7/site-packages/ipykernel_launcher.py:46: UserWarning: Creating a tensor from a list of numpy.ndarrays is extremely slow. Please consider converting the list to a single numpy.ndarray with numpy.array() before converting to a tensor. (Triggered internally at  /opt/conda/conda-bld/pytorch_1646755953518/work/torch/csrc/utils/tensor_new.cpp:210.)\n",
      "/home/mayank/miniconda3/envs/dsn/lib/python3.7/site-packages/ipykernel_launcher.py:46: UserWarning: Creating a tensor from a list of numpy.ndarrays is extremely slow. Please consider converting the list to a single numpy.ndarray with numpy.array() before converting to a tensor. (Triggered internally at  /opt/conda/conda-bld/pytorch_1646755953518/work/torch/csrc/utils/tensor_new.cpp:210.)\n",
      "/home/mayank/miniconda3/envs/dsn/lib/python3.7/site-packages/ipykernel_launcher.py:46: UserWarning: Creating a tensor from a list of numpy.ndarrays is extremely slow. Please consider converting the list to a single numpy.ndarray with numpy.array() before converting to a tensor. (Triggered internally at  /opt/conda/conda-bld/pytorch_1646755953518/work/torch/csrc/utils/tensor_new.cpp:210.)\n",
      "/home/mayank/miniconda3/envs/dsn/lib/python3.7/site-packages/ipykernel_launcher.py:46: UserWarning: Creating a tensor from a list of numpy.ndarrays is extremely slow. Please consider converting the list to a single numpy.ndarray with numpy.array() before converting to a tensor. (Triggered internally at  /opt/conda/conda-bld/pytorch_1646755953518/work/torch/csrc/utils/tensor_new.cpp:210.)\n"
     ]
    },
    {
     "name": "stdout",
     "output_type": "stream",
     "text": [
      "Epoch: 71 (4.3298s), train_loss: 0.1361, val_loss: 0.1439, train_acc: 0.9567, val_acc:0.9529\n",
      "\t\ttrain_roc: 0.8607, val_roc: 0.8615, train_precision: 0.7197, val_precision: 0.7350\n"
     ]
    },
    {
     "name": "stderr",
     "output_type": "stream",
     "text": [
      "/home/mayank/miniconda3/envs/dsn/lib/python3.7/site-packages/ipykernel_launcher.py:46: UserWarning: Creating a tensor from a list of numpy.ndarrays is extremely slow. Please consider converting the list to a single numpy.ndarray with numpy.array() before converting to a tensor. (Triggered internally at  /opt/conda/conda-bld/pytorch_1646755953518/work/torch/csrc/utils/tensor_new.cpp:210.)\n",
      "/home/mayank/miniconda3/envs/dsn/lib/python3.7/site-packages/ipykernel_launcher.py:46: UserWarning: Creating a tensor from a list of numpy.ndarrays is extremely slow. Please consider converting the list to a single numpy.ndarray with numpy.array() before converting to a tensor. (Triggered internally at  /opt/conda/conda-bld/pytorch_1646755953518/work/torch/csrc/utils/tensor_new.cpp:210.)\n",
      "/home/mayank/miniconda3/envs/dsn/lib/python3.7/site-packages/ipykernel_launcher.py:46: UserWarning: Creating a tensor from a list of numpy.ndarrays is extremely slow. Please consider converting the list to a single numpy.ndarray with numpy.array() before converting to a tensor. (Triggered internally at  /opt/conda/conda-bld/pytorch_1646755953518/work/torch/csrc/utils/tensor_new.cpp:210.)\n",
      "/home/mayank/miniconda3/envs/dsn/lib/python3.7/site-packages/ipykernel_launcher.py:46: UserWarning: Creating a tensor from a list of numpy.ndarrays is extremely slow. Please consider converting the list to a single numpy.ndarray with numpy.array() before converting to a tensor. (Triggered internally at  /opt/conda/conda-bld/pytorch_1646755953518/work/torch/csrc/utils/tensor_new.cpp:210.)\n"
     ]
    },
    {
     "name": "stdout",
     "output_type": "stream",
     "text": [
      "Epoch: 72 (4.2995s), train_loss: 0.1357, val_loss: 0.1439, train_acc: 0.9567, val_acc:0.9529\n",
      "\t\ttrain_roc: 0.8615, val_roc: 0.8615, train_precision: 0.7221, val_precision: 0.7339\n"
     ]
    },
    {
     "name": "stderr",
     "output_type": "stream",
     "text": [
      "/home/mayank/miniconda3/envs/dsn/lib/python3.7/site-packages/ipykernel_launcher.py:46: UserWarning: Creating a tensor from a list of numpy.ndarrays is extremely slow. Please consider converting the list to a single numpy.ndarray with numpy.array() before converting to a tensor. (Triggered internally at  /opt/conda/conda-bld/pytorch_1646755953518/work/torch/csrc/utils/tensor_new.cpp:210.)\n",
      "/home/mayank/miniconda3/envs/dsn/lib/python3.7/site-packages/ipykernel_launcher.py:46: UserWarning: Creating a tensor from a list of numpy.ndarrays is extremely slow. Please consider converting the list to a single numpy.ndarray with numpy.array() before converting to a tensor. (Triggered internally at  /opt/conda/conda-bld/pytorch_1646755953518/work/torch/csrc/utils/tensor_new.cpp:210.)\n",
      "/home/mayank/miniconda3/envs/dsn/lib/python3.7/site-packages/ipykernel_launcher.py:46: UserWarning: Creating a tensor from a list of numpy.ndarrays is extremely slow. Please consider converting the list to a single numpy.ndarray with numpy.array() before converting to a tensor. (Triggered internally at  /opt/conda/conda-bld/pytorch_1646755953518/work/torch/csrc/utils/tensor_new.cpp:210.)\n",
      "/home/mayank/miniconda3/envs/dsn/lib/python3.7/site-packages/ipykernel_launcher.py:46: UserWarning: Creating a tensor from a list of numpy.ndarrays is extremely slow. Please consider converting the list to a single numpy.ndarray with numpy.array() before converting to a tensor. (Triggered internally at  /opt/conda/conda-bld/pytorch_1646755953518/work/torch/csrc/utils/tensor_new.cpp:210.)\n"
     ]
    },
    {
     "name": "stdout",
     "output_type": "stream",
     "text": [
      "Epoch: 73 (4.3285s), train_loss: 0.1375, val_loss: 0.1439, train_acc: 0.9567, val_acc:0.9529\n",
      "\t\ttrain_roc: 0.8543, val_roc: 0.8616, train_precision: 0.7216, val_precision: 0.7335\n"
     ]
    },
    {
     "name": "stderr",
     "output_type": "stream",
     "text": [
      "/home/mayank/miniconda3/envs/dsn/lib/python3.7/site-packages/ipykernel_launcher.py:46: UserWarning: Creating a tensor from a list of numpy.ndarrays is extremely slow. Please consider converting the list to a single numpy.ndarray with numpy.array() before converting to a tensor. (Triggered internally at  /opt/conda/conda-bld/pytorch_1646755953518/work/torch/csrc/utils/tensor_new.cpp:210.)\n",
      "/home/mayank/miniconda3/envs/dsn/lib/python3.7/site-packages/ipykernel_launcher.py:46: UserWarning: Creating a tensor from a list of numpy.ndarrays is extremely slow. Please consider converting the list to a single numpy.ndarray with numpy.array() before converting to a tensor. (Triggered internally at  /opt/conda/conda-bld/pytorch_1646755953518/work/torch/csrc/utils/tensor_new.cpp:210.)\n",
      "/home/mayank/miniconda3/envs/dsn/lib/python3.7/site-packages/ipykernel_launcher.py:46: UserWarning: Creating a tensor from a list of numpy.ndarrays is extremely slow. Please consider converting the list to a single numpy.ndarray with numpy.array() before converting to a tensor. (Triggered internally at  /opt/conda/conda-bld/pytorch_1646755953518/work/torch/csrc/utils/tensor_new.cpp:210.)\n",
      "/home/mayank/miniconda3/envs/dsn/lib/python3.7/site-packages/ipykernel_launcher.py:46: UserWarning: Creating a tensor from a list of numpy.ndarrays is extremely slow. Please consider converting the list to a single numpy.ndarray with numpy.array() before converting to a tensor. (Triggered internally at  /opt/conda/conda-bld/pytorch_1646755953518/work/torch/csrc/utils/tensor_new.cpp:210.)\n"
     ]
    },
    {
     "name": "stdout",
     "output_type": "stream",
     "text": [
      "Epoch: 74 (4.2730s), train_loss: 0.1367, val_loss: 0.1439, train_acc: 0.9567, val_acc:0.9529\n",
      "\t\ttrain_roc: 0.8577, val_roc: 0.8616, train_precision: 0.7244, val_precision: 0.7326\n"
     ]
    },
    {
     "name": "stderr",
     "output_type": "stream",
     "text": [
      "/home/mayank/miniconda3/envs/dsn/lib/python3.7/site-packages/ipykernel_launcher.py:46: UserWarning: Creating a tensor from a list of numpy.ndarrays is extremely slow. Please consider converting the list to a single numpy.ndarray with numpy.array() before converting to a tensor. (Triggered internally at  /opt/conda/conda-bld/pytorch_1646755953518/work/torch/csrc/utils/tensor_new.cpp:210.)\n",
      "/home/mayank/miniconda3/envs/dsn/lib/python3.7/site-packages/ipykernel_launcher.py:46: UserWarning: Creating a tensor from a list of numpy.ndarrays is extremely slow. Please consider converting the list to a single numpy.ndarray with numpy.array() before converting to a tensor. (Triggered internally at  /opt/conda/conda-bld/pytorch_1646755953518/work/torch/csrc/utils/tensor_new.cpp:210.)\n",
      "/home/mayank/miniconda3/envs/dsn/lib/python3.7/site-packages/ipykernel_launcher.py:46: UserWarning: Creating a tensor from a list of numpy.ndarrays is extremely slow. Please consider converting the list to a single numpy.ndarray with numpy.array() before converting to a tensor. (Triggered internally at  /opt/conda/conda-bld/pytorch_1646755953518/work/torch/csrc/utils/tensor_new.cpp:210.)\n",
      "/home/mayank/miniconda3/envs/dsn/lib/python3.7/site-packages/ipykernel_launcher.py:46: UserWarning: Creating a tensor from a list of numpy.ndarrays is extremely slow. Please consider converting the list to a single numpy.ndarray with numpy.array() before converting to a tensor. (Triggered internally at  /opt/conda/conda-bld/pytorch_1646755953518/work/torch/csrc/utils/tensor_new.cpp:210.)\n"
     ]
    },
    {
     "name": "stdout",
     "output_type": "stream",
     "text": [
      "Epoch: 75 (4.3949s), train_loss: 0.1371, val_loss: 0.1439, train_acc: 0.9567, val_acc:0.9529\n",
      "\t\ttrain_roc: 0.8569, val_roc: 0.8615, train_precision: 0.7205, val_precision: 0.7301\n"
     ]
    },
    {
     "name": "stderr",
     "output_type": "stream",
     "text": [
      "/home/mayank/miniconda3/envs/dsn/lib/python3.7/site-packages/ipykernel_launcher.py:46: UserWarning: Creating a tensor from a list of numpy.ndarrays is extremely slow. Please consider converting the list to a single numpy.ndarray with numpy.array() before converting to a tensor. (Triggered internally at  /opt/conda/conda-bld/pytorch_1646755953518/work/torch/csrc/utils/tensor_new.cpp:210.)\n",
      "/home/mayank/miniconda3/envs/dsn/lib/python3.7/site-packages/ipykernel_launcher.py:46: UserWarning: Creating a tensor from a list of numpy.ndarrays is extremely slow. Please consider converting the list to a single numpy.ndarray with numpy.array() before converting to a tensor. (Triggered internally at  /opt/conda/conda-bld/pytorch_1646755953518/work/torch/csrc/utils/tensor_new.cpp:210.)\n",
      "/home/mayank/miniconda3/envs/dsn/lib/python3.7/site-packages/ipykernel_launcher.py:46: UserWarning: Creating a tensor from a list of numpy.ndarrays is extremely slow. Please consider converting the list to a single numpy.ndarray with numpy.array() before converting to a tensor. (Triggered internally at  /opt/conda/conda-bld/pytorch_1646755953518/work/torch/csrc/utils/tensor_new.cpp:210.)\n",
      "/home/mayank/miniconda3/envs/dsn/lib/python3.7/site-packages/ipykernel_launcher.py:46: UserWarning: Creating a tensor from a list of numpy.ndarrays is extremely slow. Please consider converting the list to a single numpy.ndarray with numpy.array() before converting to a tensor. (Triggered internally at  /opt/conda/conda-bld/pytorch_1646755953518/work/torch/csrc/utils/tensor_new.cpp:210.)\n"
     ]
    },
    {
     "name": "stdout",
     "output_type": "stream",
     "text": [
      "Epoch: 76 (4.3458s), train_loss: 0.1362, val_loss: 0.1439, train_acc: 0.9567, val_acc:0.9529\n",
      "\t\ttrain_roc: 0.8598, val_roc: 0.8615, train_precision: 0.7212, val_precision: 0.7337\n"
     ]
    },
    {
     "name": "stderr",
     "output_type": "stream",
     "text": [
      "/home/mayank/miniconda3/envs/dsn/lib/python3.7/site-packages/ipykernel_launcher.py:46: UserWarning: Creating a tensor from a list of numpy.ndarrays is extremely slow. Please consider converting the list to a single numpy.ndarray with numpy.array() before converting to a tensor. (Triggered internally at  /opt/conda/conda-bld/pytorch_1646755953518/work/torch/csrc/utils/tensor_new.cpp:210.)\n",
      "/home/mayank/miniconda3/envs/dsn/lib/python3.7/site-packages/ipykernel_launcher.py:46: UserWarning: Creating a tensor from a list of numpy.ndarrays is extremely slow. Please consider converting the list to a single numpy.ndarray with numpy.array() before converting to a tensor. (Triggered internally at  /opt/conda/conda-bld/pytorch_1646755953518/work/torch/csrc/utils/tensor_new.cpp:210.)\n",
      "/home/mayank/miniconda3/envs/dsn/lib/python3.7/site-packages/ipykernel_launcher.py:46: UserWarning: Creating a tensor from a list of numpy.ndarrays is extremely slow. Please consider converting the list to a single numpy.ndarray with numpy.array() before converting to a tensor. (Triggered internally at  /opt/conda/conda-bld/pytorch_1646755953518/work/torch/csrc/utils/tensor_new.cpp:210.)\n",
      "/home/mayank/miniconda3/envs/dsn/lib/python3.7/site-packages/ipykernel_launcher.py:46: UserWarning: Creating a tensor from a list of numpy.ndarrays is extremely slow. Please consider converting the list to a single numpy.ndarray with numpy.array() before converting to a tensor. (Triggered internally at  /opt/conda/conda-bld/pytorch_1646755953518/work/torch/csrc/utils/tensor_new.cpp:210.)\n"
     ]
    },
    {
     "name": "stdout",
     "output_type": "stream",
     "text": [
      "Epoch: 77 (4.3049s), train_loss: 0.1372, val_loss: 0.1439, train_acc: 0.9567, val_acc:0.9529\n",
      "\t\ttrain_roc: 0.8550, val_roc: 0.8615, train_precision: 0.7258, val_precision: 0.7360\n"
     ]
    },
    {
     "name": "stderr",
     "output_type": "stream",
     "text": [
      "/home/mayank/miniconda3/envs/dsn/lib/python3.7/site-packages/ipykernel_launcher.py:46: UserWarning: Creating a tensor from a list of numpy.ndarrays is extremely slow. Please consider converting the list to a single numpy.ndarray with numpy.array() before converting to a tensor. (Triggered internally at  /opt/conda/conda-bld/pytorch_1646755953518/work/torch/csrc/utils/tensor_new.cpp:210.)\n",
      "/home/mayank/miniconda3/envs/dsn/lib/python3.7/site-packages/ipykernel_launcher.py:46: UserWarning: Creating a tensor from a list of numpy.ndarrays is extremely slow. Please consider converting the list to a single numpy.ndarray with numpy.array() before converting to a tensor. (Triggered internally at  /opt/conda/conda-bld/pytorch_1646755953518/work/torch/csrc/utils/tensor_new.cpp:210.)\n",
      "/home/mayank/miniconda3/envs/dsn/lib/python3.7/site-packages/ipykernel_launcher.py:46: UserWarning: Creating a tensor from a list of numpy.ndarrays is extremely slow. Please consider converting the list to a single numpy.ndarray with numpy.array() before converting to a tensor. (Triggered internally at  /opt/conda/conda-bld/pytorch_1646755953518/work/torch/csrc/utils/tensor_new.cpp:210.)\n",
      "/home/mayank/miniconda3/envs/dsn/lib/python3.7/site-packages/ipykernel_launcher.py:46: UserWarning: Creating a tensor from a list of numpy.ndarrays is extremely slow. Please consider converting the list to a single numpy.ndarray with numpy.array() before converting to a tensor. (Triggered internally at  /opt/conda/conda-bld/pytorch_1646755953518/work/torch/csrc/utils/tensor_new.cpp:210.)\n"
     ]
    },
    {
     "name": "stdout",
     "output_type": "stream",
     "text": [
      "Epoch: 78 (4.2703s), train_loss: 0.1361, val_loss: 0.1439, train_acc: 0.9567, val_acc:0.9529\n",
      "\t\ttrain_roc: 0.8600, val_roc: 0.8615, train_precision: 0.7235, val_precision: 0.7348\n"
     ]
    },
    {
     "name": "stderr",
     "output_type": "stream",
     "text": [
      "/home/mayank/miniconda3/envs/dsn/lib/python3.7/site-packages/ipykernel_launcher.py:46: UserWarning: Creating a tensor from a list of numpy.ndarrays is extremely slow. Please consider converting the list to a single numpy.ndarray with numpy.array() before converting to a tensor. (Triggered internally at  /opt/conda/conda-bld/pytorch_1646755953518/work/torch/csrc/utils/tensor_new.cpp:210.)\n",
      "/home/mayank/miniconda3/envs/dsn/lib/python3.7/site-packages/ipykernel_launcher.py:46: UserWarning: Creating a tensor from a list of numpy.ndarrays is extremely slow. Please consider converting the list to a single numpy.ndarray with numpy.array() before converting to a tensor. (Triggered internally at  /opt/conda/conda-bld/pytorch_1646755953518/work/torch/csrc/utils/tensor_new.cpp:210.)\n",
      "/home/mayank/miniconda3/envs/dsn/lib/python3.7/site-packages/ipykernel_launcher.py:46: UserWarning: Creating a tensor from a list of numpy.ndarrays is extremely slow. Please consider converting the list to a single numpy.ndarray with numpy.array() before converting to a tensor. (Triggered internally at  /opt/conda/conda-bld/pytorch_1646755953518/work/torch/csrc/utils/tensor_new.cpp:210.)\n",
      "/home/mayank/miniconda3/envs/dsn/lib/python3.7/site-packages/ipykernel_launcher.py:46: UserWarning: Creating a tensor from a list of numpy.ndarrays is extremely slow. Please consider converting the list to a single numpy.ndarray with numpy.array() before converting to a tensor. (Triggered internally at  /opt/conda/conda-bld/pytorch_1646755953518/work/torch/csrc/utils/tensor_new.cpp:210.)\n"
     ]
    },
    {
     "name": "stdout",
     "output_type": "stream",
     "text": [
      "Epoch: 79 (4.2481s), train_loss: 0.1362, val_loss: 0.1439, train_acc: 0.9567, val_acc:0.9529\n",
      "\t\ttrain_roc: 0.8597, val_roc: 0.8615, train_precision: 0.7230, val_precision: 0.7335\n"
     ]
    },
    {
     "name": "stderr",
     "output_type": "stream",
     "text": [
      "/home/mayank/miniconda3/envs/dsn/lib/python3.7/site-packages/ipykernel_launcher.py:46: UserWarning: Creating a tensor from a list of numpy.ndarrays is extremely slow. Please consider converting the list to a single numpy.ndarray with numpy.array() before converting to a tensor. (Triggered internally at  /opt/conda/conda-bld/pytorch_1646755953518/work/torch/csrc/utils/tensor_new.cpp:210.)\n",
      "/home/mayank/miniconda3/envs/dsn/lib/python3.7/site-packages/ipykernel_launcher.py:46: UserWarning: Creating a tensor from a list of numpy.ndarrays is extremely slow. Please consider converting the list to a single numpy.ndarray with numpy.array() before converting to a tensor. (Triggered internally at  /opt/conda/conda-bld/pytorch_1646755953518/work/torch/csrc/utils/tensor_new.cpp:210.)\n",
      "/home/mayank/miniconda3/envs/dsn/lib/python3.7/site-packages/ipykernel_launcher.py:46: UserWarning: Creating a tensor from a list of numpy.ndarrays is extremely slow. Please consider converting the list to a single numpy.ndarray with numpy.array() before converting to a tensor. (Triggered internally at  /opt/conda/conda-bld/pytorch_1646755953518/work/torch/csrc/utils/tensor_new.cpp:210.)\n",
      "/home/mayank/miniconda3/envs/dsn/lib/python3.7/site-packages/ipykernel_launcher.py:46: UserWarning: Creating a tensor from a list of numpy.ndarrays is extremely slow. Please consider converting the list to a single numpy.ndarray with numpy.array() before converting to a tensor. (Triggered internally at  /opt/conda/conda-bld/pytorch_1646755953518/work/torch/csrc/utils/tensor_new.cpp:210.)\n"
     ]
    },
    {
     "name": "stdout",
     "output_type": "stream",
     "text": [
      "Epoch: 80 (4.2799s), train_loss: 0.1358, val_loss: 0.1439, train_acc: 0.9567, val_acc:0.9529\n",
      "\t\ttrain_roc: 0.8613, val_roc: 0.8615, train_precision: 0.7223, val_precision: 0.7332\n"
     ]
    },
    {
     "name": "stderr",
     "output_type": "stream",
     "text": [
      "/home/mayank/miniconda3/envs/dsn/lib/python3.7/site-packages/ipykernel_launcher.py:46: UserWarning: Creating a tensor from a list of numpy.ndarrays is extremely slow. Please consider converting the list to a single numpy.ndarray with numpy.array() before converting to a tensor. (Triggered internally at  /opt/conda/conda-bld/pytorch_1646755953518/work/torch/csrc/utils/tensor_new.cpp:210.)\n",
      "/home/mayank/miniconda3/envs/dsn/lib/python3.7/site-packages/ipykernel_launcher.py:46: UserWarning: Creating a tensor from a list of numpy.ndarrays is extremely slow. Please consider converting the list to a single numpy.ndarray with numpy.array() before converting to a tensor. (Triggered internally at  /opt/conda/conda-bld/pytorch_1646755953518/work/torch/csrc/utils/tensor_new.cpp:210.)\n",
      "/home/mayank/miniconda3/envs/dsn/lib/python3.7/site-packages/ipykernel_launcher.py:46: UserWarning: Creating a tensor from a list of numpy.ndarrays is extremely slow. Please consider converting the list to a single numpy.ndarray with numpy.array() before converting to a tensor. (Triggered internally at  /opt/conda/conda-bld/pytorch_1646755953518/work/torch/csrc/utils/tensor_new.cpp:210.)\n",
      "/home/mayank/miniconda3/envs/dsn/lib/python3.7/site-packages/ipykernel_launcher.py:46: UserWarning: Creating a tensor from a list of numpy.ndarrays is extremely slow. Please consider converting the list to a single numpy.ndarray with numpy.array() before converting to a tensor. (Triggered internally at  /opt/conda/conda-bld/pytorch_1646755953518/work/torch/csrc/utils/tensor_new.cpp:210.)\n"
     ]
    },
    {
     "name": "stdout",
     "output_type": "stream",
     "text": [
      "Epoch: 81 (4.3049s), train_loss: 0.1366, val_loss: 0.1439, train_acc: 0.9567, val_acc:0.9529\n",
      "\t\ttrain_roc: 0.8585, val_roc: 0.8615, train_precision: 0.7212, val_precision: 0.7335\n"
     ]
    },
    {
     "name": "stderr",
     "output_type": "stream",
     "text": [
      "/home/mayank/miniconda3/envs/dsn/lib/python3.7/site-packages/ipykernel_launcher.py:46: UserWarning: Creating a tensor from a list of numpy.ndarrays is extremely slow. Please consider converting the list to a single numpy.ndarray with numpy.array() before converting to a tensor. (Triggered internally at  /opt/conda/conda-bld/pytorch_1646755953518/work/torch/csrc/utils/tensor_new.cpp:210.)\n",
      "/home/mayank/miniconda3/envs/dsn/lib/python3.7/site-packages/ipykernel_launcher.py:46: UserWarning: Creating a tensor from a list of numpy.ndarrays is extremely slow. Please consider converting the list to a single numpy.ndarray with numpy.array() before converting to a tensor. (Triggered internally at  /opt/conda/conda-bld/pytorch_1646755953518/work/torch/csrc/utils/tensor_new.cpp:210.)\n",
      "/home/mayank/miniconda3/envs/dsn/lib/python3.7/site-packages/ipykernel_launcher.py:46: UserWarning: Creating a tensor from a list of numpy.ndarrays is extremely slow. Please consider converting the list to a single numpy.ndarray with numpy.array() before converting to a tensor. (Triggered internally at  /opt/conda/conda-bld/pytorch_1646755953518/work/torch/csrc/utils/tensor_new.cpp:210.)\n",
      "/home/mayank/miniconda3/envs/dsn/lib/python3.7/site-packages/ipykernel_launcher.py:46: UserWarning: Creating a tensor from a list of numpy.ndarrays is extremely slow. Please consider converting the list to a single numpy.ndarray with numpy.array() before converting to a tensor. (Triggered internally at  /opt/conda/conda-bld/pytorch_1646755953518/work/torch/csrc/utils/tensor_new.cpp:210.)\n"
     ]
    },
    {
     "name": "stdout",
     "output_type": "stream",
     "text": [
      "Epoch: 82 (4.3080s), train_loss: 0.1365, val_loss: 0.1440, train_acc: 0.9567, val_acc:0.9529\n",
      "\t\ttrain_roc: 0.8584, val_roc: 0.8614, train_precision: 0.7240, val_precision: 0.7331\n"
     ]
    },
    {
     "name": "stderr",
     "output_type": "stream",
     "text": [
      "/home/mayank/miniconda3/envs/dsn/lib/python3.7/site-packages/ipykernel_launcher.py:46: UserWarning: Creating a tensor from a list of numpy.ndarrays is extremely slow. Please consider converting the list to a single numpy.ndarray with numpy.array() before converting to a tensor. (Triggered internally at  /opt/conda/conda-bld/pytorch_1646755953518/work/torch/csrc/utils/tensor_new.cpp:210.)\n",
      "/home/mayank/miniconda3/envs/dsn/lib/python3.7/site-packages/ipykernel_launcher.py:46: UserWarning: Creating a tensor from a list of numpy.ndarrays is extremely slow. Please consider converting the list to a single numpy.ndarray with numpy.array() before converting to a tensor. (Triggered internally at  /opt/conda/conda-bld/pytorch_1646755953518/work/torch/csrc/utils/tensor_new.cpp:210.)\n",
      "/home/mayank/miniconda3/envs/dsn/lib/python3.7/site-packages/ipykernel_launcher.py:46: UserWarning: Creating a tensor from a list of numpy.ndarrays is extremely slow. Please consider converting the list to a single numpy.ndarray with numpy.array() before converting to a tensor. (Triggered internally at  /opt/conda/conda-bld/pytorch_1646755953518/work/torch/csrc/utils/tensor_new.cpp:210.)\n",
      "/home/mayank/miniconda3/envs/dsn/lib/python3.7/site-packages/ipykernel_launcher.py:46: UserWarning: Creating a tensor from a list of numpy.ndarrays is extremely slow. Please consider converting the list to a single numpy.ndarray with numpy.array() before converting to a tensor. (Triggered internally at  /opt/conda/conda-bld/pytorch_1646755953518/work/torch/csrc/utils/tensor_new.cpp:210.)\n"
     ]
    },
    {
     "name": "stdout",
     "output_type": "stream",
     "text": [
      "Epoch: 83 (4.5780s), train_loss: 0.1359, val_loss: 0.1440, train_acc: 0.9567, val_acc:0.9529\n",
      "\t\ttrain_roc: 0.8602, val_roc: 0.8615, train_precision: 0.7226, val_precision: 0.7330\n"
     ]
    },
    {
     "name": "stderr",
     "output_type": "stream",
     "text": [
      "/home/mayank/miniconda3/envs/dsn/lib/python3.7/site-packages/ipykernel_launcher.py:46: UserWarning: Creating a tensor from a list of numpy.ndarrays is extremely slow. Please consider converting the list to a single numpy.ndarray with numpy.array() before converting to a tensor. (Triggered internally at  /opt/conda/conda-bld/pytorch_1646755953518/work/torch/csrc/utils/tensor_new.cpp:210.)\n",
      "/home/mayank/miniconda3/envs/dsn/lib/python3.7/site-packages/ipykernel_launcher.py:46: UserWarning: Creating a tensor from a list of numpy.ndarrays is extremely slow. Please consider converting the list to a single numpy.ndarray with numpy.array() before converting to a tensor. (Triggered internally at  /opt/conda/conda-bld/pytorch_1646755953518/work/torch/csrc/utils/tensor_new.cpp:210.)\n",
      "/home/mayank/miniconda3/envs/dsn/lib/python3.7/site-packages/ipykernel_launcher.py:46: UserWarning: Creating a tensor from a list of numpy.ndarrays is extremely slow. Please consider converting the list to a single numpy.ndarray with numpy.array() before converting to a tensor. (Triggered internally at  /opt/conda/conda-bld/pytorch_1646755953518/work/torch/csrc/utils/tensor_new.cpp:210.)\n",
      "/home/mayank/miniconda3/envs/dsn/lib/python3.7/site-packages/ipykernel_launcher.py:46: UserWarning: Creating a tensor from a list of numpy.ndarrays is extremely slow. Please consider converting the list to a single numpy.ndarray with numpy.array() before converting to a tensor. (Triggered internally at  /opt/conda/conda-bld/pytorch_1646755953518/work/torch/csrc/utils/tensor_new.cpp:210.)\n"
     ]
    },
    {
     "name": "stdout",
     "output_type": "stream",
     "text": [
      "Epoch: 84 (4.4342s), train_loss: 0.1367, val_loss: 0.1439, train_acc: 0.9567, val_acc:0.9529\n",
      "\t\ttrain_roc: 0.8572, val_roc: 0.8615, train_precision: 0.7238, val_precision: 0.7332\n"
     ]
    },
    {
     "name": "stderr",
     "output_type": "stream",
     "text": [
      "/home/mayank/miniconda3/envs/dsn/lib/python3.7/site-packages/ipykernel_launcher.py:46: UserWarning: Creating a tensor from a list of numpy.ndarrays is extremely slow. Please consider converting the list to a single numpy.ndarray with numpy.array() before converting to a tensor. (Triggered internally at  /opt/conda/conda-bld/pytorch_1646755953518/work/torch/csrc/utils/tensor_new.cpp:210.)\n",
      "/home/mayank/miniconda3/envs/dsn/lib/python3.7/site-packages/ipykernel_launcher.py:46: UserWarning: Creating a tensor from a list of numpy.ndarrays is extremely slow. Please consider converting the list to a single numpy.ndarray with numpy.array() before converting to a tensor. (Triggered internally at  /opt/conda/conda-bld/pytorch_1646755953518/work/torch/csrc/utils/tensor_new.cpp:210.)\n",
      "/home/mayank/miniconda3/envs/dsn/lib/python3.7/site-packages/ipykernel_launcher.py:46: UserWarning: Creating a tensor from a list of numpy.ndarrays is extremely slow. Please consider converting the list to a single numpy.ndarray with numpy.array() before converting to a tensor. (Triggered internally at  /opt/conda/conda-bld/pytorch_1646755953518/work/torch/csrc/utils/tensor_new.cpp:210.)\n",
      "/home/mayank/miniconda3/envs/dsn/lib/python3.7/site-packages/ipykernel_launcher.py:46: UserWarning: Creating a tensor from a list of numpy.ndarrays is extremely slow. Please consider converting the list to a single numpy.ndarray with numpy.array() before converting to a tensor. (Triggered internally at  /opt/conda/conda-bld/pytorch_1646755953518/work/torch/csrc/utils/tensor_new.cpp:210.)\n"
     ]
    },
    {
     "name": "stdout",
     "output_type": "stream",
     "text": [
      "Epoch: 85 (4.7057s), train_loss: 0.1367, val_loss: 0.1439, train_acc: 0.9567, val_acc:0.9529\n",
      "\t\ttrain_roc: 0.8573, val_roc: 0.8615, train_precision: 0.7223, val_precision: 0.7328\n"
     ]
    },
    {
     "name": "stderr",
     "output_type": "stream",
     "text": [
      "/home/mayank/miniconda3/envs/dsn/lib/python3.7/site-packages/ipykernel_launcher.py:46: UserWarning: Creating a tensor from a list of numpy.ndarrays is extremely slow. Please consider converting the list to a single numpy.ndarray with numpy.array() before converting to a tensor. (Triggered internally at  /opt/conda/conda-bld/pytorch_1646755953518/work/torch/csrc/utils/tensor_new.cpp:210.)\n",
      "/home/mayank/miniconda3/envs/dsn/lib/python3.7/site-packages/ipykernel_launcher.py:46: UserWarning: Creating a tensor from a list of numpy.ndarrays is extremely slow. Please consider converting the list to a single numpy.ndarray with numpy.array() before converting to a tensor. (Triggered internally at  /opt/conda/conda-bld/pytorch_1646755953518/work/torch/csrc/utils/tensor_new.cpp:210.)\n",
      "/home/mayank/miniconda3/envs/dsn/lib/python3.7/site-packages/ipykernel_launcher.py:46: UserWarning: Creating a tensor from a list of numpy.ndarrays is extremely slow. Please consider converting the list to a single numpy.ndarray with numpy.array() before converting to a tensor. (Triggered internally at  /opt/conda/conda-bld/pytorch_1646755953518/work/torch/csrc/utils/tensor_new.cpp:210.)\n",
      "/home/mayank/miniconda3/envs/dsn/lib/python3.7/site-packages/ipykernel_launcher.py:46: UserWarning: Creating a tensor from a list of numpy.ndarrays is extremely slow. Please consider converting the list to a single numpy.ndarray with numpy.array() before converting to a tensor. (Triggered internally at  /opt/conda/conda-bld/pytorch_1646755953518/work/torch/csrc/utils/tensor_new.cpp:210.)\n"
     ]
    },
    {
     "name": "stdout",
     "output_type": "stream",
     "text": [
      "Epoch: 86 (4.5301s), train_loss: 0.1361, val_loss: 0.1440, train_acc: 0.9567, val_acc:0.9529\n",
      "\t\ttrain_roc: 0.8598, val_roc: 0.8615, train_precision: 0.7255, val_precision: 0.7338\n"
     ]
    },
    {
     "name": "stderr",
     "output_type": "stream",
     "text": [
      "/home/mayank/miniconda3/envs/dsn/lib/python3.7/site-packages/ipykernel_launcher.py:46: UserWarning: Creating a tensor from a list of numpy.ndarrays is extremely slow. Please consider converting the list to a single numpy.ndarray with numpy.array() before converting to a tensor. (Triggered internally at  /opt/conda/conda-bld/pytorch_1646755953518/work/torch/csrc/utils/tensor_new.cpp:210.)\n",
      "/home/mayank/miniconda3/envs/dsn/lib/python3.7/site-packages/ipykernel_launcher.py:46: UserWarning: Creating a tensor from a list of numpy.ndarrays is extremely slow. Please consider converting the list to a single numpy.ndarray with numpy.array() before converting to a tensor. (Triggered internally at  /opt/conda/conda-bld/pytorch_1646755953518/work/torch/csrc/utils/tensor_new.cpp:210.)\n",
      "/home/mayank/miniconda3/envs/dsn/lib/python3.7/site-packages/ipykernel_launcher.py:46: UserWarning: Creating a tensor from a list of numpy.ndarrays is extremely slow. Please consider converting the list to a single numpy.ndarray with numpy.array() before converting to a tensor. (Triggered internally at  /opt/conda/conda-bld/pytorch_1646755953518/work/torch/csrc/utils/tensor_new.cpp:210.)\n",
      "/home/mayank/miniconda3/envs/dsn/lib/python3.7/site-packages/ipykernel_launcher.py:46: UserWarning: Creating a tensor from a list of numpy.ndarrays is extremely slow. Please consider converting the list to a single numpy.ndarray with numpy.array() before converting to a tensor. (Triggered internally at  /opt/conda/conda-bld/pytorch_1646755953518/work/torch/csrc/utils/tensor_new.cpp:210.)\n"
     ]
    },
    {
     "name": "stdout",
     "output_type": "stream",
     "text": [
      "Epoch: 87 (4.3817s), train_loss: 0.1361, val_loss: 0.1439, train_acc: 0.9567, val_acc:0.9529\n",
      "\t\ttrain_roc: 0.8589, val_roc: 0.8615, train_precision: 0.7256, val_precision: 0.7335\n"
     ]
    },
    {
     "name": "stderr",
     "output_type": "stream",
     "text": [
      "/home/mayank/miniconda3/envs/dsn/lib/python3.7/site-packages/ipykernel_launcher.py:46: UserWarning: Creating a tensor from a list of numpy.ndarrays is extremely slow. Please consider converting the list to a single numpy.ndarray with numpy.array() before converting to a tensor. (Triggered internally at  /opt/conda/conda-bld/pytorch_1646755953518/work/torch/csrc/utils/tensor_new.cpp:210.)\n",
      "/home/mayank/miniconda3/envs/dsn/lib/python3.7/site-packages/ipykernel_launcher.py:46: UserWarning: Creating a tensor from a list of numpy.ndarrays is extremely slow. Please consider converting the list to a single numpy.ndarray with numpy.array() before converting to a tensor. (Triggered internally at  /opt/conda/conda-bld/pytorch_1646755953518/work/torch/csrc/utils/tensor_new.cpp:210.)\n",
      "/home/mayank/miniconda3/envs/dsn/lib/python3.7/site-packages/ipykernel_launcher.py:46: UserWarning: Creating a tensor from a list of numpy.ndarrays is extremely slow. Please consider converting the list to a single numpy.ndarray with numpy.array() before converting to a tensor. (Triggered internally at  /opt/conda/conda-bld/pytorch_1646755953518/work/torch/csrc/utils/tensor_new.cpp:210.)\n",
      "/home/mayank/miniconda3/envs/dsn/lib/python3.7/site-packages/ipykernel_launcher.py:46: UserWarning: Creating a tensor from a list of numpy.ndarrays is extremely slow. Please consider converting the list to a single numpy.ndarray with numpy.array() before converting to a tensor. (Triggered internally at  /opt/conda/conda-bld/pytorch_1646755953518/work/torch/csrc/utils/tensor_new.cpp:210.)\n"
     ]
    },
    {
     "name": "stdout",
     "output_type": "stream",
     "text": [
      "Epoch: 88 (4.4975s), train_loss: 0.1355, val_loss: 0.1439, train_acc: 0.9567, val_acc:0.9529\n",
      "\t\ttrain_roc: 0.8634, val_roc: 0.8615, train_precision: 0.7258, val_precision: 0.7333\n"
     ]
    },
    {
     "name": "stderr",
     "output_type": "stream",
     "text": [
      "/home/mayank/miniconda3/envs/dsn/lib/python3.7/site-packages/ipykernel_launcher.py:46: UserWarning: Creating a tensor from a list of numpy.ndarrays is extremely slow. Please consider converting the list to a single numpy.ndarray with numpy.array() before converting to a tensor. (Triggered internally at  /opt/conda/conda-bld/pytorch_1646755953518/work/torch/csrc/utils/tensor_new.cpp:210.)\n",
      "/home/mayank/miniconda3/envs/dsn/lib/python3.7/site-packages/ipykernel_launcher.py:46: UserWarning: Creating a tensor from a list of numpy.ndarrays is extremely slow. Please consider converting the list to a single numpy.ndarray with numpy.array() before converting to a tensor. (Triggered internally at  /opt/conda/conda-bld/pytorch_1646755953518/work/torch/csrc/utils/tensor_new.cpp:210.)\n",
      "/home/mayank/miniconda3/envs/dsn/lib/python3.7/site-packages/ipykernel_launcher.py:46: UserWarning: Creating a tensor from a list of numpy.ndarrays is extremely slow. Please consider converting the list to a single numpy.ndarray with numpy.array() before converting to a tensor. (Triggered internally at  /opt/conda/conda-bld/pytorch_1646755953518/work/torch/csrc/utils/tensor_new.cpp:210.)\n",
      "/home/mayank/miniconda3/envs/dsn/lib/python3.7/site-packages/ipykernel_launcher.py:46: UserWarning: Creating a tensor from a list of numpy.ndarrays is extremely slow. Please consider converting the list to a single numpy.ndarray with numpy.array() before converting to a tensor. (Triggered internally at  /opt/conda/conda-bld/pytorch_1646755953518/work/torch/csrc/utils/tensor_new.cpp:210.)\n"
     ]
    },
    {
     "name": "stdout",
     "output_type": "stream",
     "text": [
      "Epoch: 89 (4.3192s), train_loss: 0.1359, val_loss: 0.1439, train_acc: 0.9567, val_acc:0.9529\n",
      "\t\ttrain_roc: 0.8616, val_roc: 0.8615, train_precision: 0.7220, val_precision: 0.7329\n"
     ]
    },
    {
     "name": "stderr",
     "output_type": "stream",
     "text": [
      "/home/mayank/miniconda3/envs/dsn/lib/python3.7/site-packages/ipykernel_launcher.py:46: UserWarning: Creating a tensor from a list of numpy.ndarrays is extremely slow. Please consider converting the list to a single numpy.ndarray with numpy.array() before converting to a tensor. (Triggered internally at  /opt/conda/conda-bld/pytorch_1646755953518/work/torch/csrc/utils/tensor_new.cpp:210.)\n",
      "/home/mayank/miniconda3/envs/dsn/lib/python3.7/site-packages/ipykernel_launcher.py:46: UserWarning: Creating a tensor from a list of numpy.ndarrays is extremely slow. Please consider converting the list to a single numpy.ndarray with numpy.array() before converting to a tensor. (Triggered internally at  /opt/conda/conda-bld/pytorch_1646755953518/work/torch/csrc/utils/tensor_new.cpp:210.)\n",
      "/home/mayank/miniconda3/envs/dsn/lib/python3.7/site-packages/ipykernel_launcher.py:46: UserWarning: Creating a tensor from a list of numpy.ndarrays is extremely slow. Please consider converting the list to a single numpy.ndarray with numpy.array() before converting to a tensor. (Triggered internally at  /opt/conda/conda-bld/pytorch_1646755953518/work/torch/csrc/utils/tensor_new.cpp:210.)\n",
      "/home/mayank/miniconda3/envs/dsn/lib/python3.7/site-packages/ipykernel_launcher.py:46: UserWarning: Creating a tensor from a list of numpy.ndarrays is extremely slow. Please consider converting the list to a single numpy.ndarray with numpy.array() before converting to a tensor. (Triggered internally at  /opt/conda/conda-bld/pytorch_1646755953518/work/torch/csrc/utils/tensor_new.cpp:210.)\n"
     ]
    },
    {
     "name": "stdout",
     "output_type": "stream",
     "text": [
      "Epoch: 90 (4.3091s), train_loss: 0.1355, val_loss: 0.1439, train_acc: 0.9567, val_acc:0.9529\n",
      "\t\ttrain_roc: 0.8631, val_roc: 0.8615, train_precision: 0.7235, val_precision: 0.7341\n"
     ]
    },
    {
     "name": "stderr",
     "output_type": "stream",
     "text": [
      "/home/mayank/miniconda3/envs/dsn/lib/python3.7/site-packages/ipykernel_launcher.py:46: UserWarning: Creating a tensor from a list of numpy.ndarrays is extremely slow. Please consider converting the list to a single numpy.ndarray with numpy.array() before converting to a tensor. (Triggered internally at  /opt/conda/conda-bld/pytorch_1646755953518/work/torch/csrc/utils/tensor_new.cpp:210.)\n",
      "/home/mayank/miniconda3/envs/dsn/lib/python3.7/site-packages/ipykernel_launcher.py:46: UserWarning: Creating a tensor from a list of numpy.ndarrays is extremely slow. Please consider converting the list to a single numpy.ndarray with numpy.array() before converting to a tensor. (Triggered internally at  /opt/conda/conda-bld/pytorch_1646755953518/work/torch/csrc/utils/tensor_new.cpp:210.)\n",
      "/home/mayank/miniconda3/envs/dsn/lib/python3.7/site-packages/ipykernel_launcher.py:46: UserWarning: Creating a tensor from a list of numpy.ndarrays is extremely slow. Please consider converting the list to a single numpy.ndarray with numpy.array() before converting to a tensor. (Triggered internally at  /opt/conda/conda-bld/pytorch_1646755953518/work/torch/csrc/utils/tensor_new.cpp:210.)\n",
      "/home/mayank/miniconda3/envs/dsn/lib/python3.7/site-packages/ipykernel_launcher.py:46: UserWarning: Creating a tensor from a list of numpy.ndarrays is extremely slow. Please consider converting the list to a single numpy.ndarray with numpy.array() before converting to a tensor. (Triggered internally at  /opt/conda/conda-bld/pytorch_1646755953518/work/torch/csrc/utils/tensor_new.cpp:210.)\n"
     ]
    },
    {
     "name": "stdout",
     "output_type": "stream",
     "text": [
      "Epoch: 91 (4.2718s), train_loss: 0.1355, val_loss: 0.1440, train_acc: 0.9567, val_acc:0.9529\n",
      "\t\ttrain_roc: 0.8628, val_roc: 0.8614, train_precision: 0.7220, val_precision: 0.7363\n"
     ]
    },
    {
     "name": "stderr",
     "output_type": "stream",
     "text": [
      "/home/mayank/miniconda3/envs/dsn/lib/python3.7/site-packages/ipykernel_launcher.py:46: UserWarning: Creating a tensor from a list of numpy.ndarrays is extremely slow. Please consider converting the list to a single numpy.ndarray with numpy.array() before converting to a tensor. (Triggered internally at  /opt/conda/conda-bld/pytorch_1646755953518/work/torch/csrc/utils/tensor_new.cpp:210.)\n",
      "/home/mayank/miniconda3/envs/dsn/lib/python3.7/site-packages/ipykernel_launcher.py:46: UserWarning: Creating a tensor from a list of numpy.ndarrays is extremely slow. Please consider converting the list to a single numpy.ndarray with numpy.array() before converting to a tensor. (Triggered internally at  /opt/conda/conda-bld/pytorch_1646755953518/work/torch/csrc/utils/tensor_new.cpp:210.)\n",
      "/home/mayank/miniconda3/envs/dsn/lib/python3.7/site-packages/ipykernel_launcher.py:46: UserWarning: Creating a tensor from a list of numpy.ndarrays is extremely slow. Please consider converting the list to a single numpy.ndarray with numpy.array() before converting to a tensor. (Triggered internally at  /opt/conda/conda-bld/pytorch_1646755953518/work/torch/csrc/utils/tensor_new.cpp:210.)\n",
      "/home/mayank/miniconda3/envs/dsn/lib/python3.7/site-packages/ipykernel_launcher.py:46: UserWarning: Creating a tensor from a list of numpy.ndarrays is extremely slow. Please consider converting the list to a single numpy.ndarray with numpy.array() before converting to a tensor. (Triggered internally at  /opt/conda/conda-bld/pytorch_1646755953518/work/torch/csrc/utils/tensor_new.cpp:210.)\n"
     ]
    },
    {
     "name": "stdout",
     "output_type": "stream",
     "text": [
      "Epoch: 92 (4.2474s), train_loss: 0.1362, val_loss: 0.1440, train_acc: 0.9567, val_acc:0.9529\n",
      "\t\ttrain_roc: 0.8595, val_roc: 0.8615, train_precision: 0.7199, val_precision: 0.7356\n"
     ]
    },
    {
     "name": "stderr",
     "output_type": "stream",
     "text": [
      "/home/mayank/miniconda3/envs/dsn/lib/python3.7/site-packages/ipykernel_launcher.py:46: UserWarning: Creating a tensor from a list of numpy.ndarrays is extremely slow. Please consider converting the list to a single numpy.ndarray with numpy.array() before converting to a tensor. (Triggered internally at  /opt/conda/conda-bld/pytorch_1646755953518/work/torch/csrc/utils/tensor_new.cpp:210.)\n",
      "/home/mayank/miniconda3/envs/dsn/lib/python3.7/site-packages/ipykernel_launcher.py:46: UserWarning: Creating a tensor from a list of numpy.ndarrays is extremely slow. Please consider converting the list to a single numpy.ndarray with numpy.array() before converting to a tensor. (Triggered internally at  /opt/conda/conda-bld/pytorch_1646755953518/work/torch/csrc/utils/tensor_new.cpp:210.)\n",
      "/home/mayank/miniconda3/envs/dsn/lib/python3.7/site-packages/ipykernel_launcher.py:46: UserWarning: Creating a tensor from a list of numpy.ndarrays is extremely slow. Please consider converting the list to a single numpy.ndarray with numpy.array() before converting to a tensor. (Triggered internally at  /opt/conda/conda-bld/pytorch_1646755953518/work/torch/csrc/utils/tensor_new.cpp:210.)\n",
      "/home/mayank/miniconda3/envs/dsn/lib/python3.7/site-packages/ipykernel_launcher.py:46: UserWarning: Creating a tensor from a list of numpy.ndarrays is extremely slow. Please consider converting the list to a single numpy.ndarray with numpy.array() before converting to a tensor. (Triggered internally at  /opt/conda/conda-bld/pytorch_1646755953518/work/torch/csrc/utils/tensor_new.cpp:210.)\n"
     ]
    },
    {
     "name": "stdout",
     "output_type": "stream",
     "text": [
      "Epoch: 93 (4.3597s), train_loss: 0.1360, val_loss: 0.1440, train_acc: 0.9567, val_acc:0.9529\n",
      "\t\ttrain_roc: 0.8607, val_roc: 0.8614, train_precision: 0.7224, val_precision: 0.7332\n"
     ]
    },
    {
     "name": "stderr",
     "output_type": "stream",
     "text": [
      "/home/mayank/miniconda3/envs/dsn/lib/python3.7/site-packages/ipykernel_launcher.py:46: UserWarning: Creating a tensor from a list of numpy.ndarrays is extremely slow. Please consider converting the list to a single numpy.ndarray with numpy.array() before converting to a tensor. (Triggered internally at  /opt/conda/conda-bld/pytorch_1646755953518/work/torch/csrc/utils/tensor_new.cpp:210.)\n",
      "/home/mayank/miniconda3/envs/dsn/lib/python3.7/site-packages/ipykernel_launcher.py:46: UserWarning: Creating a tensor from a list of numpy.ndarrays is extremely slow. Please consider converting the list to a single numpy.ndarray with numpy.array() before converting to a tensor. (Triggered internally at  /opt/conda/conda-bld/pytorch_1646755953518/work/torch/csrc/utils/tensor_new.cpp:210.)\n",
      "/home/mayank/miniconda3/envs/dsn/lib/python3.7/site-packages/ipykernel_launcher.py:46: UserWarning: Creating a tensor from a list of numpy.ndarrays is extremely slow. Please consider converting the list to a single numpy.ndarray with numpy.array() before converting to a tensor. (Triggered internally at  /opt/conda/conda-bld/pytorch_1646755953518/work/torch/csrc/utils/tensor_new.cpp:210.)\n",
      "/home/mayank/miniconda3/envs/dsn/lib/python3.7/site-packages/ipykernel_launcher.py:46: UserWarning: Creating a tensor from a list of numpy.ndarrays is extremely slow. Please consider converting the list to a single numpy.ndarray with numpy.array() before converting to a tensor. (Triggered internally at  /opt/conda/conda-bld/pytorch_1646755953518/work/torch/csrc/utils/tensor_new.cpp:210.)\n"
     ]
    },
    {
     "name": "stdout",
     "output_type": "stream",
     "text": [
      "Epoch: 94 (4.5175s), train_loss: 0.1354, val_loss: 0.1440, train_acc: 0.9567, val_acc:0.9529\n",
      "\t\ttrain_roc: 0.8626, val_roc: 0.8614, train_precision: 0.7255, val_precision: 0.7360\n"
     ]
    },
    {
     "name": "stderr",
     "output_type": "stream",
     "text": [
      "/home/mayank/miniconda3/envs/dsn/lib/python3.7/site-packages/ipykernel_launcher.py:46: UserWarning: Creating a tensor from a list of numpy.ndarrays is extremely slow. Please consider converting the list to a single numpy.ndarray with numpy.array() before converting to a tensor. (Triggered internally at  /opt/conda/conda-bld/pytorch_1646755953518/work/torch/csrc/utils/tensor_new.cpp:210.)\n",
      "/home/mayank/miniconda3/envs/dsn/lib/python3.7/site-packages/ipykernel_launcher.py:46: UserWarning: Creating a tensor from a list of numpy.ndarrays is extremely slow. Please consider converting the list to a single numpy.ndarray with numpy.array() before converting to a tensor. (Triggered internally at  /opt/conda/conda-bld/pytorch_1646755953518/work/torch/csrc/utils/tensor_new.cpp:210.)\n",
      "/home/mayank/miniconda3/envs/dsn/lib/python3.7/site-packages/ipykernel_launcher.py:46: UserWarning: Creating a tensor from a list of numpy.ndarrays is extremely slow. Please consider converting the list to a single numpy.ndarray with numpy.array() before converting to a tensor. (Triggered internally at  /opt/conda/conda-bld/pytorch_1646755953518/work/torch/csrc/utils/tensor_new.cpp:210.)\n",
      "/home/mayank/miniconda3/envs/dsn/lib/python3.7/site-packages/ipykernel_launcher.py:46: UserWarning: Creating a tensor from a list of numpy.ndarrays is extremely slow. Please consider converting the list to a single numpy.ndarray with numpy.array() before converting to a tensor. (Triggered internally at  /opt/conda/conda-bld/pytorch_1646755953518/work/torch/csrc/utils/tensor_new.cpp:210.)\n"
     ]
    },
    {
     "name": "stdout",
     "output_type": "stream",
     "text": [
      "Epoch: 95 (4.3749s), train_loss: 0.1367, val_loss: 0.1440, train_acc: 0.9567, val_acc:0.9529\n",
      "\t\ttrain_roc: 0.8574, val_roc: 0.8614, train_precision: 0.7235, val_precision: 0.7373\n"
     ]
    },
    {
     "name": "stderr",
     "output_type": "stream",
     "text": [
      "/home/mayank/miniconda3/envs/dsn/lib/python3.7/site-packages/ipykernel_launcher.py:46: UserWarning: Creating a tensor from a list of numpy.ndarrays is extremely slow. Please consider converting the list to a single numpy.ndarray with numpy.array() before converting to a tensor. (Triggered internally at  /opt/conda/conda-bld/pytorch_1646755953518/work/torch/csrc/utils/tensor_new.cpp:210.)\n",
      "/home/mayank/miniconda3/envs/dsn/lib/python3.7/site-packages/ipykernel_launcher.py:46: UserWarning: Creating a tensor from a list of numpy.ndarrays is extremely slow. Please consider converting the list to a single numpy.ndarray with numpy.array() before converting to a tensor. (Triggered internally at  /opt/conda/conda-bld/pytorch_1646755953518/work/torch/csrc/utils/tensor_new.cpp:210.)\n",
      "/home/mayank/miniconda3/envs/dsn/lib/python3.7/site-packages/ipykernel_launcher.py:46: UserWarning: Creating a tensor from a list of numpy.ndarrays is extremely slow. Please consider converting the list to a single numpy.ndarray with numpy.array() before converting to a tensor. (Triggered internally at  /opt/conda/conda-bld/pytorch_1646755953518/work/torch/csrc/utils/tensor_new.cpp:210.)\n",
      "/home/mayank/miniconda3/envs/dsn/lib/python3.7/site-packages/ipykernel_launcher.py:46: UserWarning: Creating a tensor from a list of numpy.ndarrays is extremely slow. Please consider converting the list to a single numpy.ndarray with numpy.array() before converting to a tensor. (Triggered internally at  /opt/conda/conda-bld/pytorch_1646755953518/work/torch/csrc/utils/tensor_new.cpp:210.)\n"
     ]
    },
    {
     "name": "stdout",
     "output_type": "stream",
     "text": [
      "Epoch: 96 (4.3610s), train_loss: 0.1372, val_loss: 0.1440, train_acc: 0.9567, val_acc:0.9529\n",
      "\t\ttrain_roc: 0.8557, val_roc: 0.8614, train_precision: 0.7268, val_precision: 0.7358\n"
     ]
    },
    {
     "name": "stderr",
     "output_type": "stream",
     "text": [
      "/home/mayank/miniconda3/envs/dsn/lib/python3.7/site-packages/ipykernel_launcher.py:46: UserWarning: Creating a tensor from a list of numpy.ndarrays is extremely slow. Please consider converting the list to a single numpy.ndarray with numpy.array() before converting to a tensor. (Triggered internally at  /opt/conda/conda-bld/pytorch_1646755953518/work/torch/csrc/utils/tensor_new.cpp:210.)\n",
      "/home/mayank/miniconda3/envs/dsn/lib/python3.7/site-packages/ipykernel_launcher.py:46: UserWarning: Creating a tensor from a list of numpy.ndarrays is extremely slow. Please consider converting the list to a single numpy.ndarray with numpy.array() before converting to a tensor. (Triggered internally at  /opt/conda/conda-bld/pytorch_1646755953518/work/torch/csrc/utils/tensor_new.cpp:210.)\n",
      "/home/mayank/miniconda3/envs/dsn/lib/python3.7/site-packages/ipykernel_launcher.py:46: UserWarning: Creating a tensor from a list of numpy.ndarrays is extremely slow. Please consider converting the list to a single numpy.ndarray with numpy.array() before converting to a tensor. (Triggered internally at  /opt/conda/conda-bld/pytorch_1646755953518/work/torch/csrc/utils/tensor_new.cpp:210.)\n",
      "/home/mayank/miniconda3/envs/dsn/lib/python3.7/site-packages/ipykernel_launcher.py:46: UserWarning: Creating a tensor from a list of numpy.ndarrays is extremely slow. Please consider converting the list to a single numpy.ndarray with numpy.array() before converting to a tensor. (Triggered internally at  /opt/conda/conda-bld/pytorch_1646755953518/work/torch/csrc/utils/tensor_new.cpp:210.)\n"
     ]
    },
    {
     "name": "stdout",
     "output_type": "stream",
     "text": [
      "Epoch: 97 (4.2953s), train_loss: 0.1360, val_loss: 0.1440, train_acc: 0.9566, val_acc:0.9529\n",
      "\t\ttrain_roc: 0.8602, val_roc: 0.8614, train_precision: 0.7204, val_precision: 0.7371\n"
     ]
    },
    {
     "name": "stderr",
     "output_type": "stream",
     "text": [
      "/home/mayank/miniconda3/envs/dsn/lib/python3.7/site-packages/ipykernel_launcher.py:46: UserWarning: Creating a tensor from a list of numpy.ndarrays is extremely slow. Please consider converting the list to a single numpy.ndarray with numpy.array() before converting to a tensor. (Triggered internally at  /opt/conda/conda-bld/pytorch_1646755953518/work/torch/csrc/utils/tensor_new.cpp:210.)\n",
      "/home/mayank/miniconda3/envs/dsn/lib/python3.7/site-packages/ipykernel_launcher.py:46: UserWarning: Creating a tensor from a list of numpy.ndarrays is extremely slow. Please consider converting the list to a single numpy.ndarray with numpy.array() before converting to a tensor. (Triggered internally at  /opt/conda/conda-bld/pytorch_1646755953518/work/torch/csrc/utils/tensor_new.cpp:210.)\n",
      "/home/mayank/miniconda3/envs/dsn/lib/python3.7/site-packages/ipykernel_launcher.py:46: UserWarning: Creating a tensor from a list of numpy.ndarrays is extremely slow. Please consider converting the list to a single numpy.ndarray with numpy.array() before converting to a tensor. (Triggered internally at  /opt/conda/conda-bld/pytorch_1646755953518/work/torch/csrc/utils/tensor_new.cpp:210.)\n",
      "/home/mayank/miniconda3/envs/dsn/lib/python3.7/site-packages/ipykernel_launcher.py:46: UserWarning: Creating a tensor from a list of numpy.ndarrays is extremely slow. Please consider converting the list to a single numpy.ndarray with numpy.array() before converting to a tensor. (Triggered internally at  /opt/conda/conda-bld/pytorch_1646755953518/work/torch/csrc/utils/tensor_new.cpp:210.)\n"
     ]
    },
    {
     "name": "stdout",
     "output_type": "stream",
     "text": [
      "Epoch: 98 (4.2495s), train_loss: 0.1357, val_loss: 0.1440, train_acc: 0.9567, val_acc:0.9529\n",
      "\t\ttrain_roc: 0.8615, val_roc: 0.8614, train_precision: 0.7226, val_precision: 0.7395\n"
     ]
    },
    {
     "name": "stderr",
     "output_type": "stream",
     "text": [
      "/home/mayank/miniconda3/envs/dsn/lib/python3.7/site-packages/ipykernel_launcher.py:46: UserWarning: Creating a tensor from a list of numpy.ndarrays is extremely slow. Please consider converting the list to a single numpy.ndarray with numpy.array() before converting to a tensor. (Triggered internally at  /opt/conda/conda-bld/pytorch_1646755953518/work/torch/csrc/utils/tensor_new.cpp:210.)\n",
      "/home/mayank/miniconda3/envs/dsn/lib/python3.7/site-packages/ipykernel_launcher.py:46: UserWarning: Creating a tensor from a list of numpy.ndarrays is extremely slow. Please consider converting the list to a single numpy.ndarray with numpy.array() before converting to a tensor. (Triggered internally at  /opt/conda/conda-bld/pytorch_1646755953518/work/torch/csrc/utils/tensor_new.cpp:210.)\n",
      "/home/mayank/miniconda3/envs/dsn/lib/python3.7/site-packages/ipykernel_launcher.py:46: UserWarning: Creating a tensor from a list of numpy.ndarrays is extremely slow. Please consider converting the list to a single numpy.ndarray with numpy.array() before converting to a tensor. (Triggered internally at  /opt/conda/conda-bld/pytorch_1646755953518/work/torch/csrc/utils/tensor_new.cpp:210.)\n",
      "/home/mayank/miniconda3/envs/dsn/lib/python3.7/site-packages/ipykernel_launcher.py:46: UserWarning: Creating a tensor from a list of numpy.ndarrays is extremely slow. Please consider converting the list to a single numpy.ndarray with numpy.array() before converting to a tensor. (Triggered internally at  /opt/conda/conda-bld/pytorch_1646755953518/work/torch/csrc/utils/tensor_new.cpp:210.)\n"
     ]
    },
    {
     "name": "stdout",
     "output_type": "stream",
     "text": [
      "Epoch: 99 (4.3307s), train_loss: 0.1360, val_loss: 0.1440, train_acc: 0.9567, val_acc:0.9529\n",
      "\t\ttrain_roc: 0.8601, val_roc: 0.8614, train_precision: 0.7232, val_precision: 0.7389\n"
     ]
    },
    {
     "name": "stderr",
     "output_type": "stream",
     "text": [
      "/home/mayank/miniconda3/envs/dsn/lib/python3.7/site-packages/ipykernel_launcher.py:46: UserWarning: Creating a tensor from a list of numpy.ndarrays is extremely slow. Please consider converting the list to a single numpy.ndarray with numpy.array() before converting to a tensor. (Triggered internally at  /opt/conda/conda-bld/pytorch_1646755953518/work/torch/csrc/utils/tensor_new.cpp:210.)\n",
      "/home/mayank/miniconda3/envs/dsn/lib/python3.7/site-packages/ipykernel_launcher.py:46: UserWarning: Creating a tensor from a list of numpy.ndarrays is extremely slow. Please consider converting the list to a single numpy.ndarray with numpy.array() before converting to a tensor. (Triggered internally at  /opt/conda/conda-bld/pytorch_1646755953518/work/torch/csrc/utils/tensor_new.cpp:210.)\n",
      "/home/mayank/miniconda3/envs/dsn/lib/python3.7/site-packages/ipykernel_launcher.py:46: UserWarning: Creating a tensor from a list of numpy.ndarrays is extremely slow. Please consider converting the list to a single numpy.ndarray with numpy.array() before converting to a tensor. (Triggered internally at  /opt/conda/conda-bld/pytorch_1646755953518/work/torch/csrc/utils/tensor_new.cpp:210.)\n",
      "/home/mayank/miniconda3/envs/dsn/lib/python3.7/site-packages/ipykernel_launcher.py:46: UserWarning: Creating a tensor from a list of numpy.ndarrays is extremely slow. Please consider converting the list to a single numpy.ndarray with numpy.array() before converting to a tensor. (Triggered internally at  /opt/conda/conda-bld/pytorch_1646755953518/work/torch/csrc/utils/tensor_new.cpp:210.)\n"
     ]
    },
    {
     "name": "stdout",
     "output_type": "stream",
     "text": [
      "Epoch: 100 (4.2833s), train_loss: 0.1356, val_loss: 0.1440, train_acc: 0.9567, val_acc:0.9528\n",
      "\t\ttrain_roc: 0.8625, val_roc: 0.8614, train_precision: 0.7214, val_precision: 0.7399\n"
     ]
    }
   ],
   "source": [
    "# with 55 featurea\n",
    "train(model, train_data_loader, val_data_loader, loss, optimizer, n_epochs, device, scheduler)"
   ]
  },
  {
   "cell_type": "code",
   "execution_count": 69,
   "metadata": {},
   "outputs": [],
   "source": []
  },
  {
   "cell_type": "code",
   "execution_count": 120,
   "metadata": {},
   "outputs": [],
   "source": [
    "model_untrained = GCN(num_node_features=55, hidden_channels=128, num_classes=2061)\n"
   ]
  },
  {
   "cell_type": "code",
   "execution_count": 119,
   "metadata": {},
   "outputs": [
    {
     "name": "stderr",
     "output_type": "stream",
     "text": [
      "/home/mayank/miniconda3/envs/dsn/lib/python3.7/site-packages/ipykernel_launcher.py:46: UserWarning: Creating a tensor from a list of numpy.ndarrays is extremely slow. Please consider converting the list to a single numpy.ndarray with numpy.array() before converting to a tensor. (Triggered internally at  /opt/conda/conda-bld/pytorch_1646755953518/work/torch/csrc/utils/tensor_new.cpp:210.)\n",
      "/home/mayank/miniconda3/envs/dsn/lib/python3.7/site-packages/ipykernel_launcher.py:46: UserWarning: Creating a tensor from a list of numpy.ndarrays is extremely slow. Please consider converting the list to a single numpy.ndarray with numpy.array() before converting to a tensor. (Triggered internally at  /opt/conda/conda-bld/pytorch_1646755953518/work/torch/csrc/utils/tensor_new.cpp:210.)\n"
     ]
    },
    {
     "name": "stdout",
     "output_type": "stream",
     "text": [
      "\n",
      "\n",
      "============================== Test Result ==============================\n",
      "\t\ttest_acc: 0.9528, test_auc_roc: 0.8614,test_f1: 0.1125,test_precision:0.7399\n",
      "\t\ttest_recall: 0.0609, test_int_ap: 0.3517,test_ap: 0.3517\n"
     ]
    }
   ],
   "source": [
    "test(val_data_loader,model)"
   ]
  },
  {
   "cell_type": "code",
   "execution_count": 117,
   "metadata": {},
   "outputs": [
    {
     "name": "stderr",
     "output_type": "stream",
     "text": [
      "/home/mayank/miniconda3/envs/dsn/lib/python3.7/site-packages/ipykernel_launcher.py:46: UserWarning: Creating a tensor from a list of numpy.ndarrays is extremely slow. Please consider converting the list to a single numpy.ndarray with numpy.array() before converting to a tensor. (Triggered internally at  /opt/conda/conda-bld/pytorch_1646755953518/work/torch/csrc/utils/tensor_new.cpp:210.)\n",
      "/home/mayank/miniconda3/envs/dsn/lib/python3.7/site-packages/ipykernel_launcher.py:46: UserWarning: Creating a tensor from a list of numpy.ndarrays is extremely slow. Please consider converting the list to a single numpy.ndarray with numpy.array() before converting to a tensor. (Triggered internally at  /opt/conda/conda-bld/pytorch_1646755953518/work/torch/csrc/utils/tensor_new.cpp:210.)\n"
     ]
    },
    {
     "name": "stdout",
     "output_type": "stream",
     "text": [
      "\n",
      "\n",
      "============================== Test Result ==============================\n",
      "\t\ttest_acc: 0.9567, test_auc_roc: 0.8702,test_f1: 0.1199,test_precision:0.7274\n",
      "\t\ttest_recall: 0.0653, test_int_ap: 0.3483,test_ap: 0.3483\n"
     ]
    }
   ],
   "source": [
    "test(train_data_loader,model)"
   ]
  },
  {
   "cell_type": "code",
   "execution_count": 122,
   "metadata": {},
   "outputs": [
    {
     "name": "stderr",
     "output_type": "stream",
     "text": [
      "/home/mayank/miniconda3/envs/dsn/lib/python3.7/site-packages/ipykernel_launcher.py:46: UserWarning: Creating a tensor from a list of numpy.ndarrays is extremely slow. Please consider converting the list to a single numpy.ndarray with numpy.array() before converting to a tensor. (Triggered internally at  /opt/conda/conda-bld/pytorch_1646755953518/work/torch/csrc/utils/tensor_new.cpp:210.)\n",
      "/home/mayank/miniconda3/envs/dsn/lib/python3.7/site-packages/ipykernel_launcher.py:46: UserWarning: Creating a tensor from a list of numpy.ndarrays is extremely slow. Please consider converting the list to a single numpy.ndarray with numpy.array() before converting to a tensor. (Triggered internally at  /opt/conda/conda-bld/pytorch_1646755953518/work/torch/csrc/utils/tensor_new.cpp:210.)\n",
      "/home/mayank/miniconda3/envs/dsn/lib/python3.7/site-packages/sklearn/metrics/_classification.py:1318: UndefinedMetricWarning: Precision is ill-defined and being set to 0.0 due to no predicted samples. Use `zero_division` parameter to control this behavior.\n",
      "  _warn_prf(average, modifier, msg_start, len(result))\n"
     ]
    },
    {
     "name": "stdout",
     "output_type": "stream",
     "text": [
      "\n",
      "\n",
      "============================== Test Result ==============================\n",
      "\t\ttest_acc: 0.9549, test_auc_roc: 0.5161,test_f1: 0.0000,test_precision:0.0000\n",
      "\t\ttest_recall: 0.0000, test_int_ap: 0.0472,test_ap: 0.0472\n"
     ]
    }
   ],
   "source": [
    "test(train_data_loader,model_untrained.to(device))"
   ]
  },
  {
   "cell_type": "code",
   "execution_count": 116,
   "metadata": {},
   "outputs": [
    {
     "name": "stderr",
     "output_type": "stream",
     "text": [
      "/home/mayank/miniconda3/envs/dsn/lib/python3.7/site-packages/ipykernel_launcher.py:46: UserWarning: Creating a tensor from a list of numpy.ndarrays is extremely slow. Please consider converting the list to a single numpy.ndarray with numpy.array() before converting to a tensor. (Triggered internally at  /opt/conda/conda-bld/pytorch_1646755953518/work/torch/csrc/utils/tensor_new.cpp:210.)\n",
      "/home/mayank/miniconda3/envs/dsn/lib/python3.7/site-packages/ipykernel_launcher.py:46: UserWarning: Creating a tensor from a list of numpy.ndarrays is extremely slow. Please consider converting the list to a single numpy.ndarray with numpy.array() before converting to a tensor. (Triggered internally at  /opt/conda/conda-bld/pytorch_1646755953518/work/torch/csrc/utils/tensor_new.cpp:210.)\n"
     ]
    },
    {
     "name": "stdout",
     "output_type": "stream",
     "text": [
      "\n",
      "\n",
      "============================== Test Result ==============================\n",
      "\t\ttest_acc: 0.9489, test_auc_roc: 0.8552,test_f1: 0.1073,test_precision:0.7604\n",
      "\t\ttest_recall: 0.0577, test_int_ap: 0.3606,test_ap: 0.3606\n"
     ]
    }
   ],
   "source": [
    "test(test_data_loader,model)"
   ]
  },
  {
   "cell_type": "code",
   "execution_count": 89,
   "metadata": {},
   "outputs": [],
   "source": [
    "\n",
    "from sklearn import metrics\n",
    "def train():\n",
    "    model.train()\n",
    "\n",
    "    for data, y in train_data_loader:  # Iterate in batches over the training dataset.\n",
    "         out = model(data.x, data.edge_index, data.batch)  # Perform a single forward pass.\n",
    "         loss = criterion(out.flatten(), y.flatten().float())  # Compute the loss.\n",
    "         loss.backward()  # Derive gradients.\n",
    "         optimizer.step()  # Update parameters based on gradients.\n",
    "         optimizer.zero_grad()  # Clear gradients.\n",
    "\n",
    "@torch.no_grad()\n",
    "def test(loader):\n",
    "     model.eval()\n",
    "     all = 0\n",
    "     correct = 0\n",
    "     for data, y in loader:  # Iterate in batches over the training/test dataset.\n",
    "        #  out = model(data.x, data.edge_index, data.batch)  \n",
    "        #  out_prob = torch.sigmoid(out)\n",
    "        #  pred = (out_prob >= 0.5).int()\n",
    "         # pred all 1\n",
    "         pred = torch.zeros(y.flatten().shape[0])\n",
    "         all += y.flatten().shape[0]\n",
    "         correct += int((pred.flatten() == y.flatten().float()).sum())  # Check against ground-truth labels.\n",
    "        #  acc_se_class = metrics.accuracy_score(y, pred, normalize=True, sample_weight=None)\n",
    "        #  auroc_se_class = metrics.roc_auc_score(y, pred)\n",
    "        #  f1_score_se_class = metrics.f1_score(y, pred, average='weighted')\n",
    "        #  precision_se_class = metrics.precision_score(y, pred, average='weighted')\n",
    "        #  recall_se_class = metrics.recall_score(y, pred, average='weighted')\n",
    "\n",
    "\n",
    "     return correct /all # Derive ratio of correct predictions.\n",
    "\n",
    "\n",
    "for epoch in range(1, 171):\n",
    "    train()\n",
    "    train_acc = test(train_data_loader)\n",
    "    test_acc = test(test_data_loader)\n",
    "    print(f'Epoch: {epoch:03d}, Train Acc: {train_acc:.4f}, Test Acc: {test_acc:.4f}')"
   ]
  },
  {
   "cell_type": "code",
   "execution_count": 90,
   "metadata": {},
   "outputs": [
    {
     "name": "stderr",
     "output_type": "stream",
     "text": [
      "/home/mayank/miniconda3/envs/dsn/lib/python3.7/site-packages/ipykernel_launcher.py:46: UserWarning: Creating a tensor from a list of numpy.ndarrays is extremely slow. Please consider converting the list to a single numpy.ndarray with numpy.array() before converting to a tensor. (Triggered internally at  /opt/conda/conda-bld/pytorch_1646755953518/work/torch/csrc/utils/tensor_new.cpp:210.)\n",
      "/home/mayank/miniconda3/envs/dsn/lib/python3.7/site-packages/ipykernel_launcher.py:46: UserWarning: Creating a tensor from a list of numpy.ndarrays is extremely slow. Please consider converting the list to a single numpy.ndarray with numpy.array() before converting to a tensor. (Triggered internally at  /opt/conda/conda-bld/pytorch_1646755953518/work/torch/csrc/utils/tensor_new.cpp:210.)\n"
     ]
    }
   ],
   "source": [
    "test_acc = test(test_data_loader)"
   ]
  },
  {
   "cell_type": "code",
   "execution_count": 91,
   "metadata": {},
   "outputs": [
    {
     "data": {
      "text/plain": [
       "0.9467719517133445"
      ]
     },
     "execution_count": 91,
     "metadata": {},
     "output_type": "execute_result"
    }
   ],
   "source": [
    "test_acc"
   ]
  },
  {
   "cell_type": "code",
   "execution_count": 92,
   "metadata": {},
   "outputs": [
    {
     "name": "stderr",
     "output_type": "stream",
     "text": [
      "/home/mayank/miniconda3/envs/dsn/lib/python3.7/site-packages/ipykernel_launcher.py:46: UserWarning: Creating a tensor from a list of numpy.ndarrays is extremely slow. Please consider converting the list to a single numpy.ndarray with numpy.array() before converting to a tensor. (Triggered internally at  /opt/conda/conda-bld/pytorch_1646755953518/work/torch/csrc/utils/tensor_new.cpp:210.)\n",
      "/home/mayank/miniconda3/envs/dsn/lib/python3.7/site-packages/ipykernel_launcher.py:46: UserWarning: Creating a tensor from a list of numpy.ndarrays is extremely slow. Please consider converting the list to a single numpy.ndarray with numpy.array() before converting to a tensor. (Triggered internally at  /opt/conda/conda-bld/pytorch_1646755953518/work/torch/csrc/utils/tensor_new.cpp:210.)\n"
     ]
    }
   ],
   "source": [
    "train_acc = test(train_data_loader)"
   ]
  },
  {
   "cell_type": "code",
   "execution_count": 94,
   "metadata": {},
   "outputs": [
    {
     "data": {
      "text/plain": [
       "0.954860060241832"
      ]
     },
     "execution_count": 94,
     "metadata": {},
     "output_type": "execute_result"
    }
   ],
   "source": [
    "train_acc"
   ]
  },
  {
   "cell_type": "code",
   "execution_count": null,
   "metadata": {},
   "outputs": [],
   "source": []
  }
 ],
 "metadata": {
  "kernelspec": {
   "display_name": "dsn",
   "language": "python",
   "name": "python3"
  },
  "language_info": {
   "codemirror_mode": {
    "name": "ipython",
    "version": 3
   },
   "file_extension": ".py",
   "mimetype": "text/x-python",
   "name": "python",
   "nbconvert_exporter": "python",
   "pygments_lexer": "ipython3",
   "version": "3.7.7"
  },
  "orig_nbformat": 4
 },
 "nbformat": 4,
 "nbformat_minor": 2
}
