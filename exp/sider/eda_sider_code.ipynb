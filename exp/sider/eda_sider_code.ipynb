{
 "cells": [
  {
   "attachments": {},
   "cell_type": "markdown",
   "metadata": {},
   "source": [
    "### Imports"
   ]
  },
  {
   "cell_type": "code",
   "execution_count": 2,
   "metadata": {},
   "outputs": [],
   "source": [
    "import matplotlib.pyplot as plt\n",
    "import seaborn as sns\n",
    "import pandas as pd"
   ]
  },
  {
   "attachments": {},
   "cell_type": "markdown",
   "metadata": {},
   "source": [
    "### Read Data"
   ]
  },
  {
   "cell_type": "code",
   "execution_count": 3,
   "metadata": {},
   "outputs": [],
   "source": [
    "import torch\n",
    "import numpy as np\n",
    "from rdkit import Chem\n",
    "import rdkit\n",
    "\n",
    "bond_type_set = [rdkit.Chem.rdchem.BondType.SINGLE, rdkit.Chem.rdchem.BondType.DOUBLE, rdkit.Chem.rdchem.BondType.TRIPLE, rdkit.Chem.rdchem.BondType.AROMATIC, 'head']\n",
    "def one_of_k_encoding_unk(x, allowable_set):\n",
    "    if x not in allowable_set:\n",
    "        x = allowable_set[-1]\n",
    "    return list(map(lambda s: x == s, allowable_set))\n",
    "\n",
    "def atom_features(atom,\n",
    "                explicit_H=True,\n",
    "                use_chirality=False):\n",
    "\n",
    "    results = one_of_k_encoding_unk(\n",
    "        atom.GetSymbol(),\n",
    "        ['C','N','O', 'S','F','Si','P', 'Cl','Br','Mg','Na','Ca','Fe','As','Al','I','B','V','K','Tl',\n",
    "            'Yb','Sb','Sn','Ag','Pd','Co','Se','Ti','Zn','H', 'Li','Ge','Cu','Au','Ni','Cd','In',\n",
    "            'Mn','Zr','Cr','Pt','Hg','Pb','Unknown'\n",
    "        ]) + [atom.GetDegree()/10, atom.GetImplicitValence(), \n",
    "                atom.GetFormalCharge(), atom.GetNumRadicalElectrons()] + \\\n",
    "                one_of_k_encoding_unk(atom.GetHybridization(), [\n",
    "                Chem.rdchem.HybridizationType.SP, Chem.rdchem.HybridizationType.SP2,\n",
    "                Chem.rdchem.HybridizationType.SP3, Chem.rdchem.HybridizationType.\n",
    "                                    SP3D, Chem.rdchem.HybridizationType.SP3D2\n",
    "                ]) + [atom.GetIsAromatic()]\n",
    "    # In case of explicit hydrogen(QM8, QM9), avoid calling `GetTotalNumHs`\n",
    "    if explicit_H:\n",
    "        results = results + [atom.GetTotalNumHs()]\n",
    "\n",
    "    if use_chirality:\n",
    "        try:\n",
    "            results = results + one_of_k_encoding_unk(\n",
    "            atom.GetProp('_CIPCode'),\n",
    "            ['R', 'S']) + [atom.HasProp('_ChiralityPossible')]\n",
    "        except:\n",
    "            results = results + [False, False\n",
    "                            ] + [atom.HasProp('_ChiralityPossible')]\n",
    "\n",
    "    results = np.array(results).astype(np.float32)\n",
    "\n",
    "    return torch.from_numpy(results) # torch.rand_like()\n",
    "\n",
    "def get_mol_edge_list_and_feat_mtx(mol_graph):\n",
    "    n_features = [(atom.GetIdx(), atom_features(atom)) for atom in mol_graph.GetAtoms()]\n",
    "    n_features.sort() # to make sure that the feature matrix is aligned according to the idx of the atom\n",
    "    _, n_features = zip(*n_features)\n",
    "    n_features = torch.stack(n_features)\n",
    "    \n",
    "    # atm_num = len(n_features)\n",
    "    # average_row = torch.mean(n_features, dim=0)\n",
    "    # # random like average_row\n",
    "    # average_row = torch.rand_like(average_row)\n",
    "    # # Expand dimensions to match the shape of n_features\n",
    "    # average_row = torch.unsqueeze(average_row, 0)\n",
    "    # # Concatenate the average row with n_features\n",
    "    # n_features_with_head = torch.cat((n_features, average_row), dim=0)\n",
    "    \n",
    "    edge_list = torch.LongTensor([(b.GetBeginAtomIdx(), b.GetEndAtomIdx()) for b in mol_graph.GetBonds()])\n",
    "    edge_attr = torch.FloatTensor([one_of_k_encoding_unk(b.GetBondType(), bond_type_set) for b in mol_graph.GetBonds()])\n",
    "\n",
    "    # head_edges = torch.LongTensor([(atm_num, i) for i in range(atm_num)])\n",
    "    # edge_attr_head_edges = torch.FloatTensor([one_of_k_encoding_unk('head', bond_type_set) for i in range(atm_num)])\n",
    "\n",
    "    # undirected_head_edges = torch.cat([head_edges, head_edges[:, [1, 0]]], dim=0) if len(head_edges) else head_edges\n",
    "    # undirected_edge_attr_head_edges = torch.cat([edge_attr_head_edges, edge_attr_head_edges], dim=0) if len(edge_attr_head_edges) else edge_attr_head_edges\n",
    "\n",
    "    undirected_edge_list = torch.cat([edge_list, edge_list[:, [1, 0]]], dim=0) if len(edge_list) else edge_list \n",
    "    undirected_edge_attr = torch.cat([edge_attr, edge_attr], dim=0) if len(edge_attr) else edge_attr\n",
    "\n",
    "    # undirected_edge_list_all = torch.cat([undirected_edge_list, undirected_head_edges], dim=0) if len(undirected_head_edges) else undirected_edge_list\n",
    "    # undirected_edge_attr_all = torch.cat([undirected_edge_attr, undirected_edge_attr_head_edges], dim=0) if len(undirected_edge_attr_head_edges) else undirected_edge_attr\n",
    "\n",
    "    return undirected_edge_list.T, n_features, undirected_edge_attr\n"
   ]
  },
  {
   "cell_type": "markdown",
   "metadata": {},
   "source": [
    "### Draw Particular Molecule"
   ]
  },
  {
   "cell_type": "code",
   "execution_count": 4,
   "metadata": {},
   "outputs": [
    {
     "ename": "NameError",
     "evalue": "name 'mol' is not defined",
     "output_type": "error",
     "traceback": [
      "\u001b[0;31m---------------------------------------------------------------------------\u001b[0m",
      "\u001b[0;31mNameError\u001b[0m                                 Traceback (most recent call last)",
      "\u001b[0;32m/tmp/ipykernel_3771/3295051212.py\u001b[0m in \u001b[0;36m<module>\u001b[0;34m\u001b[0m\n\u001b[0;32m----> 1\u001b[0;31m \u001b[0medge_index\u001b[0m\u001b[0;34m,\u001b[0m\u001b[0mn_features\u001b[0m\u001b[0;34m,\u001b[0m\u001b[0medge_attr\u001b[0m \u001b[0;34m=\u001b[0m \u001b[0mget_mol_edge_list_and_feat_mtx\u001b[0m\u001b[0;34m(\u001b[0m\u001b[0mmol\u001b[0m\u001b[0;34m)\u001b[0m\u001b[0;34m\u001b[0m\u001b[0;34m\u001b[0m\u001b[0m\n\u001b[0m\u001b[1;32m      2\u001b[0m \u001b[0;32mfrom\u001b[0m \u001b[0mtorch_geometric\u001b[0m\u001b[0;34m.\u001b[0m\u001b[0mdata\u001b[0m \u001b[0;32mimport\u001b[0m \u001b[0mData\u001b[0m\u001b[0;34m,\u001b[0m \u001b[0mBatch\u001b[0m\u001b[0;34m\u001b[0m\u001b[0;34m\u001b[0m\u001b[0m\n\u001b[1;32m      3\u001b[0m \u001b[0mmm\u001b[0m \u001b[0;34m=\u001b[0m \u001b[0mData\u001b[0m\u001b[0;34m(\u001b[0m\u001b[0mx\u001b[0m\u001b[0;34m=\u001b[0m\u001b[0mn_features\u001b[0m\u001b[0;34m,\u001b[0m \u001b[0medge_index\u001b[0m\u001b[0;34m=\u001b[0m\u001b[0medge_index\u001b[0m\u001b[0;34m,\u001b[0m \u001b[0medge_attr\u001b[0m\u001b[0;34m=\u001b[0m\u001b[0medge_attr\u001b[0m\u001b[0;34m)\u001b[0m\u001b[0;34m\u001b[0m\u001b[0;34m\u001b[0m\u001b[0m\n",
      "\u001b[0;31mNameError\u001b[0m: name 'mol' is not defined"
     ]
    }
   ],
   "source": [
    "edge_index,n_features,edge_attr = get_mol_edge_list_and_feat_mtx(mol)\n",
    "from torch_geometric.data import Data, Batch\n",
    "mm = Data(x=n_features, edge_index=edge_index, edge_attr=edge_attr)"
   ]
  },
  {
   "cell_type": "code",
   "execution_count": 11,
   "metadata": {},
   "outputs": [
    {
     "data": {
      "image/png": "[encoded data removed]",
      "text/plain": [
       "<Figure size 640x480 with 1 Axes>"
      ]
     },
     "metadata": {},
     "output_type": "display_data"
    }
   ],
   "source": [
    "# draw mm molecule graph\n",
    "from torch_geometric.utils import to_networkx\n",
    "import networkx as nx\n",
    "import matplotlib.pyplot as plt\n",
    "G = to_networkx(mm, to_undirected=True)\n",
    "nx.draw(G, with_labels=True)\n",
    "plt.show()\n"
   ]
  },
  {
   "cell_type": "code",
   "execution_count": 5,
   "metadata": {},
   "outputs": [
    {
     "data": {
      "image/png": "[encoded data removed]",
      "text/plain": [
       "<PIL.PngImagePlugin.PngImageFile image mode=RGB size=300x300>"
      ]
     },
     "metadata": {},
     "output_type": "display_data"
    }
   ],
   "source": [
    "import rdkit\n",
    "from rdkit import Chem\n",
    "from rdkit.Chem import Draw\n",
    "from torch_geometric.data import Data, Batch\n",
    "\n",
    "# Define the SMILES string\n",
    "smiles = \"C(CC(=O)O)CN\"\n",
    "\n",
    "# Create an RDKit molecule object from the SMILES string\n",
    "mol = Chem.MolFromSmiles(smiles)\n",
    "\n",
    "# Generate a 2D depiction of the molecule\n",
    "img = Draw.MolToImage(mol)\n",
    "\n",
    "# Display the image\n",
    "img.show()\n"
   ]
  },
  {
   "cell_type": "markdown",
   "metadata": {},
   "source": [
    "### Read Data Continue"
   ]
  },
  {
   "cell_type": "code",
   "execution_count": 5,
   "metadata": {},
   "outputs": [],
   "source": [
    "drug_atc_df = pd.read_csv('../../raw_data/sider/drug_atc.tsv', sep='\\t', header=None).rename(columns={0:'drug_id', 1:'atc_code'})"
   ]
  },
  {
   "cell_type": "code",
   "execution_count": 6,
   "metadata": {},
   "outputs": [
    {
     "data": {
      "text/html": [
       "<div>\n",
       "<style scoped>\n",
       "    .dataframe tbody tr th:only-of-type {\n",
       "        vertical-align: middle;\n",
       "    }\n",
       "\n",
       "    .dataframe tbody tr th {\n",
       "        vertical-align: top;\n",
       "    }\n",
       "\n",
       "    .dataframe thead th {\n",
       "        text-align: right;\n",
       "    }\n",
       "</style>\n",
       "<table border=\"1\" class=\"dataframe\">\n",
       "  <thead>\n",
       "    <tr style=\"text-align: right;\">\n",
       "      <th></th>\n",
       "      <th>drug_id</th>\n",
       "      <th>atc_code</th>\n",
       "    </tr>\n",
       "  </thead>\n",
       "  <tbody>\n",
       "    <tr>\n",
       "      <th>0</th>\n",
       "      <td>CID100000085</td>\n",
       "      <td>A16AA01</td>\n",
       "    </tr>\n",
       "    <tr>\n",
       "      <th>1</th>\n",
       "      <td>CID100000119</td>\n",
       "      <td>L03AA03</td>\n",
       "    </tr>\n",
       "    <tr>\n",
       "      <th>2</th>\n",
       "      <td>CID100000119</td>\n",
       "      <td>N03AG03</td>\n",
       "    </tr>\n",
       "    <tr>\n",
       "      <th>3</th>\n",
       "      <td>CID100000137</td>\n",
       "      <td>L01XD04</td>\n",
       "    </tr>\n",
       "    <tr>\n",
       "      <th>4</th>\n",
       "      <td>CID100000143</td>\n",
       "      <td>V03AF03</td>\n",
       "    </tr>\n",
       "  </tbody>\n",
       "</table>\n",
       "</div>"
      ],
      "text/plain": [
       "        drug_id atc_code\n",
       "0  CID100000085  A16AA01\n",
       "1  CID100000119  L03AA03\n",
       "2  CID100000119  N03AG03\n",
       "3  CID100000137  L01XD04\n",
       "4  CID100000143  V03AF03"
      ]
     },
     "execution_count": 6,
     "metadata": {},
     "output_type": "execute_result"
    }
   ],
   "source": [
    "drug_atc_df.head()"
   ]
  },
  {
   "cell_type": "code",
   "execution_count": 7,
   "metadata": {},
   "outputs": [],
   "source": [
    "drug_all_se_df = pd.read_csv('../../raw_data/sider/meddra_all_se.tsv', sep='\\t', header=None).rename(columns={0:'STITCH ID FLAT', \n",
    "                                                                                                        1:'STITCH ID STEREO',\n",
    "                                                                                                        2:'UMLS CONCEPT ID',\n",
    "                                                                                                        3:'MEDDRA CONCEPT TYPE',\n",
    "                                                                                                        4:'MEDRA TERM UMLS CONCEPT ID',\n",
    "                                                                                                        5:'SIDE EFFECT NAME'\n",
    "                                                                                                        })"
   ]
  },
  {
   "cell_type": "code",
   "execution_count": 8,
   "metadata": {},
   "outputs": [
    {
     "data": {
      "text/html": [
       "<div>\n",
       "<style scoped>\n",
       "    .dataframe tbody tr th:only-of-type {\n",
       "        vertical-align: middle;\n",
       "    }\n",
       "\n",
       "    .dataframe tbody tr th {\n",
       "        vertical-align: top;\n",
       "    }\n",
       "\n",
       "    .dataframe thead th {\n",
       "        text-align: right;\n",
       "    }\n",
       "</style>\n",
       "<table border=\"1\" class=\"dataframe\">\n",
       "  <thead>\n",
       "    <tr style=\"text-align: right;\">\n",
       "      <th></th>\n",
       "      <th>STITCH ID FLAT</th>\n",
       "      <th>STITCH ID STEREO</th>\n",
       "      <th>UMLS CONCEPT ID</th>\n",
       "      <th>MEDDRA CONCEPT TYPE</th>\n",
       "      <th>MEDRA TERM UMLS CONCEPT ID</th>\n",
       "      <th>SIDE EFFECT NAME</th>\n",
       "    </tr>\n",
       "  </thead>\n",
       "  <tbody>\n",
       "    <tr>\n",
       "      <th>0</th>\n",
       "      <td>CID100000085</td>\n",
       "      <td>CID000010917</td>\n",
       "      <td>C0000729</td>\n",
       "      <td>LLT</td>\n",
       "      <td>C0000729</td>\n",
       "      <td>Abdominal cramps</td>\n",
       "    </tr>\n",
       "    <tr>\n",
       "      <th>1</th>\n",
       "      <td>CID100000085</td>\n",
       "      <td>CID000010917</td>\n",
       "      <td>C0000729</td>\n",
       "      <td>PT</td>\n",
       "      <td>C0000737</td>\n",
       "      <td>Abdominal pain</td>\n",
       "    </tr>\n",
       "    <tr>\n",
       "      <th>2</th>\n",
       "      <td>CID100000085</td>\n",
       "      <td>CID000010917</td>\n",
       "      <td>C0000737</td>\n",
       "      <td>LLT</td>\n",
       "      <td>C0000737</td>\n",
       "      <td>Abdominal pain</td>\n",
       "    </tr>\n",
       "    <tr>\n",
       "      <th>3</th>\n",
       "      <td>CID100000085</td>\n",
       "      <td>CID000010917</td>\n",
       "      <td>C0000737</td>\n",
       "      <td>PT</td>\n",
       "      <td>C0687713</td>\n",
       "      <td>Gastrointestinal pain</td>\n",
       "    </tr>\n",
       "    <tr>\n",
       "      <th>4</th>\n",
       "      <td>CID100000085</td>\n",
       "      <td>CID000010917</td>\n",
       "      <td>C0000737</td>\n",
       "      <td>PT</td>\n",
       "      <td>C0000737</td>\n",
       "      <td>Abdominal pain</td>\n",
       "    </tr>\n",
       "  </tbody>\n",
       "</table>\n",
       "</div>"
      ],
      "text/plain": [
       "  STITCH ID FLAT STITCH ID STEREO UMLS CONCEPT ID MEDDRA CONCEPT TYPE  \\\n",
       "0   CID100000085     CID000010917        C0000729                 LLT   \n",
       "1   CID100000085     CID000010917        C0000729                  PT   \n",
       "2   CID100000085     CID000010917        C0000737                 LLT   \n",
       "3   CID100000085     CID000010917        C0000737                  PT   \n",
       "4   CID100000085     CID000010917        C0000737                  PT   \n",
       "\n",
       "  MEDRA TERM UMLS CONCEPT ID       SIDE EFFECT NAME  \n",
       "0                   C0000729       Abdominal cramps  \n",
       "1                   C0000737         Abdominal pain  \n",
       "2                   C0000737         Abdominal pain  \n",
       "3                   C0687713  Gastrointestinal pain  \n",
       "4                   C0000737         Abdominal pain  "
      ]
     },
     "execution_count": 8,
     "metadata": {},
     "output_type": "execute_result"
    }
   ],
   "source": [
    "drug_all_se_df.head()"
   ]
  },
  {
   "cell_type": "code",
   "execution_count": 9,
   "metadata": {},
   "outputs": [
    {
     "name": "stdout",
     "output_type": "stream",
     "text": [
      "(0, 6)\n",
      "(309849, 6)\n"
     ]
    }
   ],
   "source": [
    "# row count where col stitch id flat is same as stitch id stereo\n",
    "print(drug_all_se_df[drug_all_se_df['STITCH ID FLAT'] == drug_all_se_df['STITCH ID STEREO']].shape)\n",
    "# filter where MEDDRA concept type is PT\n",
    "print(drug_all_se_df.shape)"
   ]
  },
  {
   "attachments": {},
   "cell_type": "markdown",
   "metadata": {},
   "source": [
    "#### Custom Selection of Drugs (with no less 5 or more than 400) and Side-effects with min freq 5"
   ]
  },
  {
   "cell_type": "code",
   "execution_count": 10,
   "metadata": {},
   "outputs": [],
   "source": [
    "min_freq = 5\n",
    "max_freq = 400"
   ]
  },
  {
   "cell_type": "code",
   "execution_count": 11,
   "metadata": {},
   "outputs": [
    {
     "name": "stdout",
     "output_type": "stream",
     "text": [
      "Original All_SE (309849, 6)\n",
      "Only PT (163206, 6)\n",
      "Unique SE PT 4251\n",
      "PT with freq >5 (159235, 6)\n",
      "  STITCH ID FLAT STITCH ID STEREO UMLS CONCEPT ID MEDDRA CONCEPT TYPE  \\\n",
      "1   CID100000085     CID000010917        C0000729                  PT   \n",
      "3   CID100000085     CID000010917        C0000737                  PT   \n",
      "4   CID100000085     CID000010917        C0000737                  PT   \n",
      "6   CID100000085     CID000010917        C0002418                  PT   \n",
      "8   CID100000085     CID000010917        C0002871                  PT   \n",
      "\n",
      "  MEDRA TERM UMLS CONCEPT ID       SIDE EFFECT NAME  \n",
      "1                   C0000737         Abdominal pain  \n",
      "3                   C0687713  Gastrointestinal pain  \n",
      "4                   C0000737         Abdominal pain  \n",
      "6                   C0002418              Amblyopia  \n",
      "8                   C0002871                Anaemia  \n",
      "Unique PT with freq >5 2061\n"
     ]
    }
   ],
   "source": [
    "# keep only PT terms with min freq 5\n",
    "print(f'Original All_SE {drug_all_se_df.shape}')\n",
    "drug_all_se_study_df = drug_all_se_df[drug_all_se_df['MEDDRA CONCEPT TYPE'] == 'PT']\n",
    "print(f'Only PT {drug_all_se_study_df.shape}')\n",
    "print(f'Unique SE PT {drug_all_se_study_df[\"MEDRA TERM UMLS CONCEPT ID\"].nunique()}')\n",
    "# drug_all_se_study_df.head()\n",
    "# keep only meddra concept type with freq > 5\n",
    "concept_counts = drug_all_se_study_df['MEDRA TERM UMLS CONCEPT ID'].value_counts()\n",
    "# Filter the DataFrame to keep only concept types with frequency > 5\n",
    "filtered_df = drug_all_se_study_df[drug_all_se_study_df['MEDRA TERM UMLS CONCEPT ID'].isin(concept_counts[concept_counts >= min_freq].index)]\n",
    "print(f'PT with freq >{min_freq} {filtered_df.shape}')\n",
    "print(filtered_df.head())\n",
    "print(f'Unique PT with freq >{min_freq} {filtered_df[\"MEDRA TERM UMLS CONCEPT ID\"].nunique()}')"
   ]
  },
  {
   "attachments": {},
   "cell_type": "markdown",
   "metadata": {},
   "source": [
    "the side–effect occurrences and we decided to filter out ADRs\n",
    "with less than 5 occurrences in the dataset. Through these procedures, we\n",
    "went from having almost 309,000 associations to about 159,000 associations"
   ]
  },
  {
   "cell_type": "markdown",
   "metadata": {},
   "source": [
    "#### Drug to list of side-effect"
   ]
  },
  {
   "cell_type": "code",
   "execution_count": 12,
   "metadata": {},
   "outputs": [],
   "source": [
    "# group by medra term umls concept id and list all side effects name/medra term umls concept id\n",
    "drug_se_list_df = filtered_df.groupby('STITCH ID STEREO')['MEDRA TERM UMLS CONCEPT ID'].apply(set).apply(list).reset_index()\n",
    "# Calculate the length of each list\n",
    "drug_se_list_df['se_count'] = drug_se_list_df['MEDRA TERM UMLS CONCEPT ID'].apply(len)"
   ]
  },
  {
   "cell_type": "code",
   "execution_count": 13,
   "metadata": {},
   "outputs": [
    {
     "data": {
      "text/plain": [
       "(1555, 3)"
      ]
     },
     "execution_count": 13,
     "metadata": {},
     "output_type": "execute_result"
    }
   ],
   "source": [
    "drug_se_list_df.shape"
   ]
  },
  {
   "cell_type": "code",
   "execution_count": 14,
   "metadata": {},
   "outputs": [
    {
     "data": {
      "text/html": [
       "<div>\n",
       "<style scoped>\n",
       "    .dataframe tbody tr th:only-of-type {\n",
       "        vertical-align: middle;\n",
       "    }\n",
       "\n",
       "    .dataframe tbody tr th {\n",
       "        vertical-align: top;\n",
       "    }\n",
       "\n",
       "    .dataframe thead th {\n",
       "        text-align: right;\n",
       "    }\n",
       "</style>\n",
       "<table border=\"1\" class=\"dataframe\">\n",
       "  <thead>\n",
       "    <tr style=\"text-align: right;\">\n",
       "      <th></th>\n",
       "      <th>STITCH ID STEREO</th>\n",
       "      <th>MEDRA TERM UMLS CONCEPT ID</th>\n",
       "      <th>se_count</th>\n",
       "    </tr>\n",
       "  </thead>\n",
       "  <tbody>\n",
       "    <tr>\n",
       "      <th>0</th>\n",
       "      <td>CID000000119</td>\n",
       "      <td>[C0002792, C0030193, C0151828, C0002994, C0042...</td>\n",
       "      <td>5</td>\n",
       "    </tr>\n",
       "    <tr>\n",
       "      <th>1</th>\n",
       "      <td>CID000000137</td>\n",
       "      <td>[C0406834, C0027497, C0019080, C0267792, C0311...</td>\n",
       "      <td>79</td>\n",
       "    </tr>\n",
       "    <tr>\n",
       "      <th>2</th>\n",
       "      <td>CID000000143</td>\n",
       "      <td>[C0011991, C0038362, C0027497, C0002792, C0015...</td>\n",
       "      <td>32</td>\n",
       "    </tr>\n",
       "    <tr>\n",
       "      <th>3</th>\n",
       "      <td>CID000000175</td>\n",
       "      <td>[C0018965, C0020488, C0001122, C0030193]</td>\n",
       "      <td>4</td>\n",
       "    </tr>\n",
       "    <tr>\n",
       "      <th>4</th>\n",
       "      <td>CID000000187</td>\n",
       "      <td>[C0010038, C0010037, C0428977, C0020458, C0020...</td>\n",
       "      <td>7</td>\n",
       "    </tr>\n",
       "  </tbody>\n",
       "</table>\n",
       "</div>"
      ],
      "text/plain": [
       "  STITCH ID STEREO                         MEDRA TERM UMLS CONCEPT ID  \\\n",
       "0     CID000000119  [C0002792, C0030193, C0151828, C0002994, C0042...   \n",
       "1     CID000000137  [C0406834, C0027497, C0019080, C0267792, C0311...   \n",
       "2     CID000000143  [C0011991, C0038362, C0027497, C0002792, C0015...   \n",
       "3     CID000000175           [C0018965, C0020488, C0001122, C0030193]   \n",
       "4     CID000000187  [C0010038, C0010037, C0428977, C0020458, C0020...   \n",
       "\n",
       "   se_count  \n",
       "0         5  \n",
       "1        79  \n",
       "2        32  \n",
       "3         4  \n",
       "4         7  "
      ]
     },
     "execution_count": 14,
     "metadata": {},
     "output_type": "execute_result"
    }
   ],
   "source": [
    "drug_se_list_df.head()"
   ]
  },
  {
   "cell_type": "code",
   "execution_count": 15,
   "metadata": {},
   "outputs": [
    {
     "data": {
      "text/plain": [
       "count    1555.000000\n",
       "mean       95.702894\n",
       "std        93.267011\n",
       "min         1.000000\n",
       "25%        32.000000\n",
       "50%        66.000000\n",
       "75%       127.000000\n",
       "max       709.000000\n",
       "Name: se_count, dtype: float64"
      ]
     },
     "execution_count": 15,
     "metadata": {},
     "output_type": "execute_result"
    }
   ],
   "source": [
    "drug_se_list_df['se_count'].describe()"
   ]
  },
  {
   "cell_type": "code",
   "execution_count": 26,
   "metadata": {},
   "outputs": [
    {
     "data": {
      "text/plain": [
       "Text(0.5, 1.0, 'Histogram of Number of Side Effects per Drug')"
      ]
     },
     "execution_count": 26,
     "metadata": {},
     "output_type": "execute_result"
    },
    {
     "data": {
      "image/png": "[encoded data removed]",
      "text/plain": [
       "<Figure size 1000x600 with 1 Axes>"
      ]
     },
     "metadata": {},
     "output_type": "display_data"
    }
   ],
   "source": [
    "# histograma of se_count and label the x and y axis\n",
    "plt.figure(figsize=(10, 6))\n",
    "sns.histplot(data=drug_se_list_df, x='se_count', bins=100)\n",
    "plt.xlabel('Number of Side Effects')\n",
    "plt.ylabel('# count')\n",
    "plt.title('Histogram of Number of Side Effects per Drug')"
   ]
  },
  {
   "cell_type": "code",
   "execution_count": 24,
   "metadata": {},
   "outputs": [
    {
     "name": "stdout",
     "output_type": "stream",
     "text": [
      "(1555, 3)\n",
      "(1499, 3)\n"
     ]
    }
   ],
   "source": [
    "print(drug_se_list_df.shape)\n",
    "drug_se_list_df_final = drug_se_list_df[(drug_se_list_df['se_count'] >= 5) & (drug_se_list_df['se_count'] < 400)]\n",
    "print(drug_se_list_df_final.shape)"
   ]
  },
  {
   "attachments": {},
   "cell_type": "markdown",
   "metadata": {},
   "source": [
    "#### Dump prep data"
   ]
  },
  {
   "cell_type": "code",
   "execution_count": 18,
   "metadata": {},
   "outputs": [],
   "source": [
    "drug_se_list_df.to_csv('../../prep_data/drug_all_se.csv', index=False)\n",
    "drug_se_list_df_final.to_csv('../../prep_data/drug_all_se_final.csv', index=False)"
   ]
  },
  {
   "cell_type": "code",
   "execution_count": 25,
   "metadata": {},
   "outputs": [
    {
     "data": {
      "text/plain": [
       "1         C0000737\n",
       "3         C0687713\n",
       "4         C0000737\n",
       "6         C0002418\n",
       "8         C0002871\n",
       "            ...   \n",
       "309842    C0242184\n",
       "309843    C3203358\n",
       "309844    C1145670\n",
       "309846    C3665347\n",
       "309848    C0347390\n",
       "Name: MEDRA TERM UMLS CONCEPT ID, Length: 159235, dtype: object"
      ]
     },
     "execution_count": 25,
     "metadata": {},
     "output_type": "execute_result"
    }
   ],
   "source": [
    "filtered_df['MEDRA TERM UMLS CONCEPT ID']"
   ]
  },
  {
   "cell_type": "code",
   "execution_count": 28,
   "metadata": {},
   "outputs": [
    {
     "data": {
      "text/plain": [
       "Text(0, 0.5, '# Count')"
      ]
     },
     "execution_count": 28,
     "metadata": {},
     "output_type": "execute_result"
    },
    {
     "data": {
      "image/png": "[encoded data removed]",
      "text/plain": [
       "<Figure size 1000x600 with 1 Axes>"
      ]
     },
     "metadata": {},
     "output_type": "display_data"
    }
   ],
   "source": [
    "# plot the histogram of value_counts stored in meddra_count\n",
    "meddra_count = filtered_df['MEDRA TERM UMLS CONCEPT ID'].value_counts()\n",
    "plt.figure(figsize=(10, 6))\n",
    "sns.histplot(data=meddra_count, x=meddra_count.values, bins=10)\n",
    "plt.title('Histogram of MEDRA TERM UMLS CONCEPT ID')\n",
    "plt.xlabel('MEDRA TERM UMLS CONCEPT ID')\n",
    "plt.ylabel('# Count')\n",
    "\n",
    "# plot a bar graph to get each class distributuion too"
   ]
  },
  {
   "cell_type": "code",
   "execution_count": 17,
   "metadata": {},
   "outputs": [],
   "source": [
    "# - Adverse side effect vs adverse drug\n",
    "# - selfie include\n"
   ]
  },
  {
   "attachments": {},
   "cell_type": "markdown",
   "metadata": {},
   "source": [
    "### Link data"
   ]
  },
  {
   "attachments": {},
   "cell_type": "markdown",
   "metadata": {},
   "source": [
    "#### STITCH ID to Pubchem_compound_list"
   ]
  },
  {
   "cell_type": "code",
   "execution_count": 29,
   "metadata": {},
   "outputs": [
    {
     "data": {
      "text/html": [
       "<div>\n",
       "<style scoped>\n",
       "    .dataframe tbody tr th:only-of-type {\n",
       "        vertical-align: middle;\n",
       "    }\n",
       "\n",
       "    .dataframe tbody tr th {\n",
       "        vertical-align: top;\n",
       "    }\n",
       "\n",
       "    .dataframe thead th {\n",
       "        text-align: right;\n",
       "    }\n",
       "</style>\n",
       "<table border=\"1\" class=\"dataframe\">\n",
       "  <thead>\n",
       "    <tr style=\"text-align: right;\">\n",
       "      <th></th>\n",
       "      <th>STITCH ID STEREO</th>\n",
       "      <th>MEDRA TERM UMLS CONCEPT ID</th>\n",
       "      <th>se_count</th>\n",
       "    </tr>\n",
       "  </thead>\n",
       "  <tbody>\n",
       "    <tr>\n",
       "      <th>0</th>\n",
       "      <td>CID000000119</td>\n",
       "      <td>[C0002792, C0030193, C0151828, C0002994, C0042...</td>\n",
       "      <td>5</td>\n",
       "    </tr>\n",
       "    <tr>\n",
       "      <th>1</th>\n",
       "      <td>CID000000137</td>\n",
       "      <td>[C0406834, C0027497, C0019080, C0267792, C0311...</td>\n",
       "      <td>79</td>\n",
       "    </tr>\n",
       "    <tr>\n",
       "      <th>2</th>\n",
       "      <td>CID000000143</td>\n",
       "      <td>[C0011991, C0038362, C0027497, C0002792, C0015...</td>\n",
       "      <td>32</td>\n",
       "    </tr>\n",
       "    <tr>\n",
       "      <th>3</th>\n",
       "      <td>CID000000175</td>\n",
       "      <td>[C0018965, C0020488, C0001122, C0030193]</td>\n",
       "      <td>4</td>\n",
       "    </tr>\n",
       "    <tr>\n",
       "      <th>4</th>\n",
       "      <td>CID000000187</td>\n",
       "      <td>[C0010038, C0010037, C0428977, C0020458, C0020...</td>\n",
       "      <td>7</td>\n",
       "    </tr>\n",
       "  </tbody>\n",
       "</table>\n",
       "</div>"
      ],
      "text/plain": [
       "  STITCH ID STEREO                         MEDRA TERM UMLS CONCEPT ID  \\\n",
       "0     CID000000119  [C0002792, C0030193, C0151828, C0002994, C0042...   \n",
       "1     CID000000137  [C0406834, C0027497, C0019080, C0267792, C0311...   \n",
       "2     CID000000143  [C0011991, C0038362, C0027497, C0002792, C0015...   \n",
       "3     CID000000175           [C0018965, C0020488, C0001122, C0030193]   \n",
       "4     CID000000187  [C0010038, C0010037, C0428977, C0020458, C0020...   \n",
       "\n",
       "   se_count  \n",
       "0         5  \n",
       "1        79  \n",
       "2        32  \n",
       "3         4  \n",
       "4         7  "
      ]
     },
     "execution_count": 29,
     "metadata": {},
     "output_type": "execute_result"
    }
   ],
   "source": [
    "drug_se_list_df.head()"
   ]
  },
  {
   "cell_type": "code",
   "execution_count": 19,
   "metadata": {},
   "outputs": [],
   "source": [
    "# def stitch_flat_to_pubchem(cid):\n",
    "#     assert cid.startswith('CID')\n",
    "#     return int(cid[3:]) - 1e8\n",
    "\n",
    "# def stitch_stereo_to_pubchem(cid):\n",
    "#     assert cid.startswith('CID')\n",
    "#     return int(cid[3:])"
   ]
  },
  {
   "cell_type": "code",
   "execution_count": 30,
   "metadata": {},
   "outputs": [],
   "source": [
    "drug_se_list_df['cid'] = drug_se_list_df['STITCH ID STEREO'].apply(lambda x: x[4:].lstrip('0')).astype(int)"
   ]
  },
  {
   "cell_type": "markdown",
   "metadata": {},
   "source": [
    "#### Read Pubchem Data"
   ]
  },
  {
   "cell_type": "code",
   "execution_count": 31,
   "metadata": {},
   "outputs": [],
   "source": [
    "pubchem_prop_df = pd.read_csv('../../raw_data/pubchem/PubChem_compound_list.csv') # version latest but check"
   ]
  },
  {
   "cell_type": "code",
   "execution_count": 32,
   "metadata": {},
   "outputs": [],
   "source": [
    "drug_se_list_pubchem_df = drug_se_list_df.merge(pubchem_prop_df, left_on='cid', right_on='cid', how='inner')"
   ]
  },
  {
   "cell_type": "code",
   "execution_count": 33,
   "metadata": {},
   "outputs": [
    {
     "name": "stdout",
     "output_type": "stream",
     "text": [
      "Shape of SIDER before pubmed merge (1555, 4)\n",
      "Shape of SIDER after pubmed merge (1326, 43)\n"
     ]
    }
   ],
   "source": [
    "print(f'Shape of SIDER before pubmed merge {drug_se_list_df.shape}')\n",
    "print(f'Shape of SIDER after pubmed merge {drug_se_list_pubchem_df.shape}')"
   ]
  },
  {
   "cell_type": "code",
   "execution_count": 34,
   "metadata": {},
   "outputs": [
    {
     "data": {
      "text/plain": [
       "229"
      ]
     },
     "execution_count": 34,
     "metadata": {},
     "output_type": "execute_result"
    }
   ],
   "source": [
    "1555 - 1326"
   ]
  },
  {
   "cell_type": "code",
   "execution_count": 35,
   "metadata": {},
   "outputs": [
    {
     "data": {
      "text/html": [
       "<div>\n",
       "<style scoped>\n",
       "    .dataframe tbody tr th:only-of-type {\n",
       "        vertical-align: middle;\n",
       "    }\n",
       "\n",
       "    .dataframe tbody tr th {\n",
       "        vertical-align: top;\n",
       "    }\n",
       "\n",
       "    .dataframe thead th {\n",
       "        text-align: right;\n",
       "    }\n",
       "</style>\n",
       "<table border=\"1\" class=\"dataframe\">\n",
       "  <thead>\n",
       "    <tr style=\"text-align: right;\">\n",
       "      <th></th>\n",
       "      <th>STITCH ID STEREO</th>\n",
       "      <th>MEDRA TERM UMLS CONCEPT ID</th>\n",
       "      <th>se_count</th>\n",
       "      <th>cid</th>\n",
       "      <th>cmpdname</th>\n",
       "      <th>cmpdsynonym</th>\n",
       "      <th>mw</th>\n",
       "      <th>mf</th>\n",
       "      <th>polararea</th>\n",
       "      <th>complexity</th>\n",
       "      <th>...</th>\n",
       "      <th>gpfamilycnt</th>\n",
       "      <th>neighbortype</th>\n",
       "      <th>meshheadings</th>\n",
       "      <th>annothits</th>\n",
       "      <th>annothitcnt</th>\n",
       "      <th>aids</th>\n",
       "      <th>cidcdate</th>\n",
       "      <th>sidsrcname</th>\n",
       "      <th>depcatg</th>\n",
       "      <th>annotation</th>\n",
       "    </tr>\n",
       "  </thead>\n",
       "  <tbody>\n",
       "    <tr>\n",
       "      <th>0</th>\n",
       "      <td>CID000000119</td>\n",
       "      <td>[C0002792, C0030193, C0151828, C0002994, C0042...</td>\n",
       "      <td>5</td>\n",
       "      <td>119</td>\n",
       "      <td>Gamma-Aminobutyric Acid</td>\n",
       "      <td>4-aminobutyric acid|4-Aminobutanoic acid|GABA|...</td>\n",
       "      <td>103.12</td>\n",
       "      <td>C4H9NO2</td>\n",
       "      <td>63.3</td>\n",
       "      <td>62.7</td>\n",
       "      <td>...</td>\n",
       "      <td>13769</td>\n",
       "      <td>2D+3D</td>\n",
       "      <td>gamma-Aminobutyric Acid</td>\n",
       "      <td>Biological Test Results|Chemical and Physical ...</td>\n",
       "      <td>15</td>\n",
       "      <td>155|157|161|165|167|175|190|248|328|357|410|41...</td>\n",
       "      <td>20040916</td>\n",
       "      <td>001Chemical|3B Scientific (Wuhan) Corp|3WAY PH...</td>\n",
       "      <td>Chemical Vendors|Curation Efforts|Governmental...</td>\n",
       "      <td>COVID-19, COVID19, Coronavirus, Corona-virus, ...</td>\n",
       "    </tr>\n",
       "    <tr>\n",
       "      <th>1</th>\n",
       "      <td>CID000000137</td>\n",
       "      <td>[C0406834, C0027497, C0019080, C0267792, C0311...</td>\n",
       "      <td>79</td>\n",
       "      <td>137</td>\n",
       "      <td>Aminolevulinic acid</td>\n",
       "      <td>5-Aminolevulinic acid|Aminolevulinic acid|106-...</td>\n",
       "      <td>131.13</td>\n",
       "      <td>C5H9NO3</td>\n",
       "      <td>80.4</td>\n",
       "      <td>121.0</td>\n",
       "      <td>...</td>\n",
       "      <td>4919</td>\n",
       "      <td>2D+3D</td>\n",
       "      <td>Aminolevulinic Acid</td>\n",
       "      <td>Biological Test Results|Chemical and Physical ...</td>\n",
       "      <td>14</td>\n",
       "      <td>1511|1554|1662|1663|1672|1813|1814|1832|1850|1...</td>\n",
       "      <td>20040916</td>\n",
       "      <td>001Chemical|3B Scientific (Wuhan) Corp|3WAY PH...</td>\n",
       "      <td>Chemical Vendors|Curation Efforts|Governmental...</td>\n",
       "      <td>NaN</td>\n",
       "    </tr>\n",
       "  </tbody>\n",
       "</table>\n",
       "<p>2 rows × 43 columns</p>\n",
       "</div>"
      ],
      "text/plain": [
       "  STITCH ID STEREO                         MEDRA TERM UMLS CONCEPT ID  \\\n",
       "0     CID000000119  [C0002792, C0030193, C0151828, C0002994, C0042...   \n",
       "1     CID000000137  [C0406834, C0027497, C0019080, C0267792, C0311...   \n",
       "\n",
       "   se_count  cid                 cmpdname  \\\n",
       "0         5  119  Gamma-Aminobutyric Acid   \n",
       "1        79  137      Aminolevulinic acid   \n",
       "\n",
       "                                         cmpdsynonym      mw       mf  \\\n",
       "0  4-aminobutyric acid|4-Aminobutanoic acid|GABA|...  103.12  C4H9NO2   \n",
       "1  5-Aminolevulinic acid|Aminolevulinic acid|106-...  131.13  C5H9NO3   \n",
       "\n",
       "   polararea  complexity  ...  gpfamilycnt  neighbortype  \\\n",
       "0       63.3        62.7  ...        13769         2D+3D   \n",
       "1       80.4       121.0  ...         4919         2D+3D   \n",
       "\n",
       "              meshheadings                                          annothits  \\\n",
       "0  gamma-Aminobutyric Acid  Biological Test Results|Chemical and Physical ...   \n",
       "1      Aminolevulinic Acid  Biological Test Results|Chemical and Physical ...   \n",
       "\n",
       "   annothitcnt                                               aids  cidcdate  \\\n",
       "0           15  155|157|161|165|167|175|190|248|328|357|410|41...  20040916   \n",
       "1           14  1511|1554|1662|1663|1672|1813|1814|1832|1850|1...  20040916   \n",
       "\n",
       "                                          sidsrcname  \\\n",
       "0  001Chemical|3B Scientific (Wuhan) Corp|3WAY PH...   \n",
       "1  001Chemical|3B Scientific (Wuhan) Corp|3WAY PH...   \n",
       "\n",
       "                                             depcatg  \\\n",
       "0  Chemical Vendors|Curation Efforts|Governmental...   \n",
       "1  Chemical Vendors|Curation Efforts|Governmental...   \n",
       "\n",
       "                                          annotation  \n",
       "0  COVID-19, COVID19, Coronavirus, Corona-virus, ...  \n",
       "1                                                NaN  \n",
       "\n",
       "[2 rows x 43 columns]"
      ]
     },
     "execution_count": 35,
     "metadata": {},
     "output_type": "execute_result"
    }
   ],
   "source": [
    "drug_se_list_pubchem_df.head(2)"
   ]
  },
  {
   "cell_type": "code",
   "execution_count": 36,
   "metadata": {},
   "outputs": [
    {
     "data": {
      "text/plain": [
       "cmpdname           1\n",
       "xlogp            212\n",
       "iupacname          1\n",
       "neighbortype       1\n",
       "meshheadings     411\n",
       "aids             107\n",
       "annotation      1030\n",
       "dtype: int64"
      ]
     },
     "execution_count": 36,
     "metadata": {},
     "output_type": "execute_result"
    }
   ],
   "source": [
    "na_count = drug_se_list_pubchem_df.isna().sum()\n",
    "na_count[na_count > 0]"
   ]
  },
  {
   "cell_type": "code",
   "execution_count": 37,
   "metadata": {},
   "outputs": [
    {
     "data": {
      "text/plain": [
       "Index(['STITCH ID STEREO', 'MEDRA TERM UMLS CONCEPT ID', 'se_count', 'cid',\n",
       "       'cmpdname', 'cmpdsynonym', 'mw', 'mf', 'polararea', 'complexity',\n",
       "       'xlogp', 'heavycnt', 'hbonddonor', 'hbondacc', 'rotbonds', 'inchi',\n",
       "       'isosmiles', 'canonicalsmiles', 'inchikey', 'iupacname', 'exactmass',\n",
       "       'monoisotopicmass', 'charge', 'covalentunitcnt', 'isotopeatomcnt',\n",
       "       'totalatomstereocnt', 'definedatomstereocnt', 'undefinedatomstereocnt',\n",
       "       'totalbondstereocnt', 'definedbondstereocnt', 'undefinedbondstereocnt',\n",
       "       'pclidcnt', 'gpidcnt', 'gpfamilycnt', 'neighbortype', 'meshheadings',\n",
       "       'annothits', 'annothitcnt', 'aids', 'cidcdate', 'sidsrcname', 'depcatg',\n",
       "       'annotation'],\n",
       "      dtype='object')"
      ]
     },
     "execution_count": 37,
     "metadata": {},
     "output_type": "execute_result"
    }
   ],
   "source": [
    "drug_se_list_pubchem_df.columns"
   ]
  },
  {
   "cell_type": "code",
   "execution_count": 38,
   "metadata": {},
   "outputs": [],
   "source": [
    "keep_cols = ['STITCH ID STEREO', 'MEDRA TERM UMLS CONCEPT ID', 'se_count', 'cid',\n",
    "       'mw', 'mf', 'polararea', 'complexity',\n",
    "       'xlogp', 'heavycnt', 'hbonddonor', 'hbondacc', 'rotbonds', 'inchi',\n",
    "       'isosmiles', 'canonicalsmiles', 'inchikey', 'iupacname', 'exactmass',\n",
    "       'monoisotopicmass', 'charge', 'covalentunitcnt', 'isotopeatomcnt',\n",
    "       'totalatomstereocnt', 'definedatomstereocnt', 'undefinedatomstereocnt',\n",
    "       'totalbondstereocnt', 'definedbondstereocnt', 'undefinedbondstereocnt',\n",
    "       'pclidcnt', 'gpidcnt', 'gpfamilycnt', 'neighbortype', 'meshheadings',\n",
    "       'annothits', 'annothitcnt', 'aids', 'cidcdate', 'sidsrcname', 'depcatg',\n",
    "       'annotation']"
   ]
  },
  {
   "cell_type": "code",
   "execution_count": 14,
   "metadata": {},
   "outputs": [
    {
     "name": "stdout",
     "output_type": "stream",
     "text": [
      "Compound Name: 9-methoxyfuro[3,2-g]chromen-7-one\n",
      "Molecular Formula: C12H8O4\n",
      "Molecular Weight: 216.19\n"
     ]
    }
   ],
   "source": [
    "# best alternate way to fetch pubchem data\n",
    "# import pubchempy as pcp\n",
    "\n",
    "# stereo_id = \"4114\" # DB01600,CC(C(O)=O)C1=CC=C(S1)C(=O)C1=CC=CC=C1\n",
    "# # DB00553,COC1=C2OC(=O)C=CC2=CC2=C1OC=C2,CID000004114\n",
    "# # DB06261,[H]N([H])CC(=O)CCC(=O)OCCCCCC,CID106433082\n",
    "# # Convert STITCH ID to CID\n",
    "# compound = pcp.Compound.from_cid(stereo_id)\n",
    "# print('Compound Name:', compound.iupac_name)\n",
    "# print('Molecular Formula:', compound.molecular_formula)\n",
    "# print('Molecular Weight:', compound.molecular_weight)"
   ]
  },
  {
   "cell_type": "code",
   "execution_count": 39,
   "metadata": {},
   "outputs": [],
   "source": [
    "drug_se_list_pubchem_df[keep_cols].to_csv('../../prep_data/drug_all_se_pubchem.csv', index=False)"
   ]
  },
  {
   "attachments": {},
   "cell_type": "markdown",
   "metadata": {},
   "source": [
    "#### Link using file from https://github.com/iit-Demokritos/drug_id_mapping"
   ]
  },
  {
   "cell_type": "code",
   "execution_count": 42,
   "metadata": {},
   "outputs": [],
   "source": [
    "drug_map_df = pd.read_csv('../../raw_data/git_drug_id_mapping/drug_mappings.tsv', sep='\\t')"
   ]
  },
  {
   "cell_type": "code",
   "execution_count": 43,
   "metadata": {},
   "outputs": [],
   "source": [
    "drug_map_df = drug_map_df.dropna(subset=['stitch_id'])"
   ]
  },
  {
   "cell_type": "code",
   "execution_count": 44,
   "metadata": {},
   "outputs": [
    {
     "data": {
      "text/html": [
       "<div>\n",
       "<style scoped>\n",
       "    .dataframe tbody tr th:only-of-type {\n",
       "        vertical-align: middle;\n",
       "    }\n",
       "\n",
       "    .dataframe tbody tr th {\n",
       "        vertical-align: top;\n",
       "    }\n",
       "\n",
       "    .dataframe thead th {\n",
       "        text-align: right;\n",
       "    }\n",
       "</style>\n",
       "<table border=\"1\" class=\"dataframe\">\n",
       "  <thead>\n",
       "    <tr style=\"text-align: right;\">\n",
       "      <th></th>\n",
       "      <th>drugbankId</th>\n",
       "      <th>name</th>\n",
       "      <th>ttd_id</th>\n",
       "      <th>pubchem_cid</th>\n",
       "      <th>cas_num</th>\n",
       "      <th>chembl_id</th>\n",
       "      <th>zinc_id</th>\n",
       "      <th>chebi_id</th>\n",
       "      <th>kegg_cid</th>\n",
       "      <th>kegg_id</th>\n",
       "      <th>bindingDB_id</th>\n",
       "      <th>UMLS_cuis</th>\n",
       "      <th>stitch_id</th>\n",
       "    </tr>\n",
       "  </thead>\n",
       "  <tbody>\n",
       "    <tr>\n",
       "      <th>57</th>\n",
       "      <td>DB01101</td>\n",
       "      <td>Capecitabine</td>\n",
       "      <td>D00HCQ</td>\n",
       "      <td>60953.0</td>\n",
       "      <td>154361-50-9</td>\n",
       "      <td>CHEMBL1773</td>\n",
       "      <td>ZINC000003806413</td>\n",
       "      <td>31348</td>\n",
       "      <td>C12650</td>\n",
       "      <td>D01223</td>\n",
       "      <td>NaN</td>\n",
       "      <td>C0671970</td>\n",
       "      <td>CID000060953</td>\n",
       "    </tr>\n",
       "    <tr>\n",
       "      <th>60</th>\n",
       "      <td>DB01100</td>\n",
       "      <td>Pimozide</td>\n",
       "      <td>D00KHM</td>\n",
       "      <td>16362.0</td>\n",
       "      <td>2062-78-4</td>\n",
       "      <td>CHEMBL1423</td>\n",
       "      <td>ZINC000004175630</td>\n",
       "      <td>8212</td>\n",
       "      <td>C07566</td>\n",
       "      <td>D00560</td>\n",
       "      <td>50334150.0</td>\n",
       "      <td>C0031935</td>\n",
       "      <td>CID000016362</td>\n",
       "    </tr>\n",
       "    <tr>\n",
       "      <th>66</th>\n",
       "      <td>DB01105</td>\n",
       "      <td>Sibutramine</td>\n",
       "      <td>D08KVZ</td>\n",
       "      <td>5210.0</td>\n",
       "      <td>106650-56-0</td>\n",
       "      <td>CHEMBL1419</td>\n",
       "      <td>NaN</td>\n",
       "      <td>9137</td>\n",
       "      <td>C07247</td>\n",
       "      <td>D08513</td>\n",
       "      <td>84742.0</td>\n",
       "      <td>C0074493</td>\n",
       "      <td>CID000005210</td>\n",
       "    </tr>\n",
       "    <tr>\n",
       "      <th>69</th>\n",
       "      <td>DB01104</td>\n",
       "      <td>Sertraline</td>\n",
       "      <td>D0K0TC</td>\n",
       "      <td>68617.0</td>\n",
       "      <td>79617-96-2</td>\n",
       "      <td>CHEMBL809</td>\n",
       "      <td>ZINC000001853550</td>\n",
       "      <td>9123</td>\n",
       "      <td>C07246</td>\n",
       "      <td>D02360</td>\n",
       "      <td>79021.0</td>\n",
       "      <td>C0074393</td>\n",
       "      <td>CID100005203</td>\n",
       "    </tr>\n",
       "    <tr>\n",
       "      <th>77</th>\n",
       "      <td>DB01109</td>\n",
       "      <td>Heparin</td>\n",
       "      <td>D01ZJK</td>\n",
       "      <td>8784.0</td>\n",
       "      <td>9005-49-6</td>\n",
       "      <td>CHEMBL1909300</td>\n",
       "      <td>NaN</td>\n",
       "      <td>28304</td>\n",
       "      <td>C00374</td>\n",
       "      <td>NaN</td>\n",
       "      <td>NaN</td>\n",
       "      <td>C0019134</td>\n",
       "      <td>CID153477714</td>\n",
       "    </tr>\n",
       "  </tbody>\n",
       "</table>\n",
       "</div>"
      ],
      "text/plain": [
       "   drugbankId          name  ttd_id  pubchem_cid      cas_num      chembl_id  \\\n",
       "57    DB01101  Capecitabine  D00HCQ      60953.0  154361-50-9     CHEMBL1773   \n",
       "60    DB01100      Pimozide  D00KHM      16362.0    2062-78-4     CHEMBL1423   \n",
       "66    DB01105   Sibutramine  D08KVZ       5210.0  106650-56-0     CHEMBL1419   \n",
       "69    DB01104    Sertraline  D0K0TC      68617.0   79617-96-2      CHEMBL809   \n",
       "77    DB01109       Heparin  D01ZJK       8784.0    9005-49-6  CHEMBL1909300   \n",
       "\n",
       "             zinc_id chebi_id kegg_cid kegg_id  bindingDB_id UMLS_cuis  \\\n",
       "57  ZINC000003806413    31348   C12650  D01223           NaN  C0671970   \n",
       "60  ZINC000004175630     8212   C07566  D00560    50334150.0  C0031935   \n",
       "66               NaN     9137   C07247  D08513       84742.0  C0074493   \n",
       "69  ZINC000001853550     9123   C07246  D02360       79021.0  C0074393   \n",
       "77               NaN    28304   C00374     NaN           NaN  C0019134   \n",
       "\n",
       "       stitch_id  \n",
       "57  CID000060953  \n",
       "60  CID000016362  \n",
       "66  CID000005210  \n",
       "69  CID100005203  \n",
       "77  CID153477714  "
      ]
     },
     "execution_count": 44,
     "metadata": {},
     "output_type": "execute_result"
    }
   ],
   "source": [
    "drug_map_df.head()"
   ]
  },
  {
   "cell_type": "code",
   "execution_count": 45,
   "metadata": {},
   "outputs": [
    {
     "data": {
      "text/plain": [
       "542"
      ]
     },
     "execution_count": 45,
     "metadata": {},
     "output_type": "execute_result"
    }
   ],
   "source": [
    "len(list(set(drug_se_list_df_final['STITCH ID STEREO'].tolist()) - set(drug_map_df['stitch_id'].tolist())))"
   ]
  },
  {
   "cell_type": "markdown",
   "metadata": {},
   "source": [
    "Better to link using the reviou sversion leading to a drop in a simple 2xx numbers"
   ]
  }
 ],
 "metadata": {
  "kernelspec": {
   "display_name": "dsn",
   "language": "python",
   "name": "python3"
  },
  "language_info": {
   "codemirror_mode": {
    "name": "ipython",
    "version": 3
   },
   "file_extension": ".py",
   "mimetype": "text/x-python",
   "name": "python",
   "nbconvert_exporter": "python",
   "pygments_lexer": "ipython3",
   "version": "3.7.7"
  },
  "orig_nbformat": 4
 },
 "nbformat": 4,
 "nbformat_minor": 2
}
