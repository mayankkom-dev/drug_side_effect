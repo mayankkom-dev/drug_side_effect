{
 "cells": [
  {
   "cell_type": "markdown",
   "metadata": {},
   "source": [
    "### Imports"
   ]
  },
  {
   "cell_type": "code",
   "execution_count": 2,
   "metadata": {},
   "outputs": [],
   "source": [
    "import pandas as pd"
   ]
  },
  {
   "cell_type": "markdown",
   "metadata": {},
   "source": [
    "### Read STITCH DDI"
   ]
  },
  {
   "cell_type": "code",
   "execution_count": 3,
   "metadata": {},
   "outputs": [],
   "source": [
    "file_path = '../../raw_data/stitch/chemical_chemical.links.detailed.v5.0.tsv/chemical_chemical.links.detailed.v5.0.tsv'"
   ]
  },
  {
   "cell_type": "markdown",
   "metadata": {},
   "source": [
    "https://github.com/ChemGuy88/cpi/blob/master/Dataset%20Guide.md\n",
    "\n",
    "Chemical ID prefix\n",
    "The chemical IDs are the values that begin with CID(2). According to the STITCH README:\n",
    "\n",
    "CIDs / CID0... - this is a stereo-specific compound, and the suffix is the PubChem compound id.\n",
    "\n",
    "CIDm / CID1... - this is a \"flat\" compound, i.e. with merged stereo-isomers The suffix (without the leading \"1\") is the PubChem compound id.\n",
    "\n",
    "Note that the download files contain the prefixes CIDs/CIDm, while the API still returns CID0/CID1.)"
   ]
  },
  {
   "cell_type": "code",
   "execution_count": 4,
   "metadata": {},
   "outputs": [],
   "source": [
    "df = pd.read_csv(file_path, sep='\\t')"
   ]
  },
  {
   "cell_type": "code",
   "execution_count": 5,
   "metadata": {},
   "outputs": [
    {
     "data": {
      "text/html": [
       "<div>\n",
       "<style scoped>\n",
       "    .dataframe tbody tr th:only-of-type {\n",
       "        vertical-align: middle;\n",
       "    }\n",
       "\n",
       "    .dataframe tbody tr th {\n",
       "        vertical-align: top;\n",
       "    }\n",
       "\n",
       "    .dataframe thead th {\n",
       "        text-align: right;\n",
       "    }\n",
       "</style>\n",
       "<table border=\"1\" class=\"dataframe\">\n",
       "  <thead>\n",
       "    <tr style=\"text-align: right;\">\n",
       "      <th></th>\n",
       "      <th>chemical1</th>\n",
       "      <th>chemical2</th>\n",
       "      <th>similarity</th>\n",
       "      <th>experimental</th>\n",
       "      <th>database</th>\n",
       "      <th>textmining</th>\n",
       "      <th>combined_score</th>\n",
       "    </tr>\n",
       "  </thead>\n",
       "  <tbody>\n",
       "    <tr>\n",
       "      <th>17705813</th>\n",
       "      <td>CIDm00000001</td>\n",
       "      <td>CIDm87081431</td>\n",
       "      <td>753</td>\n",
       "      <td>0</td>\n",
       "      <td>0</td>\n",
       "      <td>173</td>\n",
       "      <td>173</td>\n",
       "    </tr>\n",
       "    <tr>\n",
       "      <th>17705814</th>\n",
       "      <td>CIDm00000001</td>\n",
       "      <td>CIDm90857042</td>\n",
       "      <td>0</td>\n",
       "      <td>0</td>\n",
       "      <td>0</td>\n",
       "      <td>218</td>\n",
       "      <td>218</td>\n",
       "    </tr>\n",
       "    <tr>\n",
       "      <th>17705815</th>\n",
       "      <td>CIDm00000001</td>\n",
       "      <td>CIDm91056687</td>\n",
       "      <td>0</td>\n",
       "      <td>0</td>\n",
       "      <td>0</td>\n",
       "      <td>294</td>\n",
       "      <td>294</td>\n",
       "    </tr>\n",
       "    <tr>\n",
       "      <th>17705816</th>\n",
       "      <td>CIDm00000001</td>\n",
       "      <td>CIDm91213096</td>\n",
       "      <td>0</td>\n",
       "      <td>0</td>\n",
       "      <td>0</td>\n",
       "      <td>357</td>\n",
       "      <td>357</td>\n",
       "    </tr>\n",
       "    <tr>\n",
       "      <th>17705817</th>\n",
       "      <td>CIDs00024759</td>\n",
       "      <td>CIDm00024759</td>\n",
       "      <td>0</td>\n",
       "      <td>0</td>\n",
       "      <td>900</td>\n",
       "      <td>0</td>\n",
       "      <td>900</td>\n",
       "    </tr>\n",
       "  </tbody>\n",
       "</table>\n",
       "</div>"
      ],
      "text/plain": [
       "             chemical1     chemical2  similarity  experimental  database  \\\n",
       "17705813  CIDm00000001  CIDm87081431         753             0         0   \n",
       "17705814  CIDm00000001  CIDm90857042           0             0         0   \n",
       "17705815  CIDm00000001  CIDm91056687           0             0         0   \n",
       "17705816  CIDm00000001  CIDm91213096           0             0         0   \n",
       "17705817  CIDs00024759  CIDm00024759           0             0       900   \n",
       "\n",
       "          textmining  combined_score  \n",
       "17705813         173             173  \n",
       "17705814         218             218  \n",
       "17705815         294             294  \n",
       "17705816         357             357  \n",
       "17705817           0             900  "
      ]
     },
     "execution_count": 5,
     "metadata": {},
     "output_type": "execute_result"
    }
   ],
   "source": [
    "df.tail()"
   ]
  },
  {
   "cell_type": "code",
   "execution_count": 6,
   "metadata": {},
   "outputs": [],
   "source": [
    "# filter df to contain just chemical1 and chemical2 which matches regex CID\\d{9}\n",
    "import re\n",
    "\n",
    "df = df[df['chemical1'].str.match('CIDs\\d{8}') & df['chemical2'].str.match('CIDs\\d{8}') ]\n",
    "# match and replace s with 0 \n",
    "df['chemical1'] = df['chemical1'].str.replace('s', '0')\n",
    "df['chemical2'] = df['chemical2'].str.replace('s', '0')"
   ]
  },
  {
   "cell_type": "code",
   "execution_count": 7,
   "metadata": {},
   "outputs": [
    {
     "name": "stdout",
     "output_type": "stream",
     "text": [
      "(9665844, 7)\n"
     ]
    },
    {
     "data": {
      "text/html": [
       "<div>\n",
       "<style scoped>\n",
       "    .dataframe tbody tr th:only-of-type {\n",
       "        vertical-align: middle;\n",
       "    }\n",
       "\n",
       "    .dataframe tbody tr th {\n",
       "        vertical-align: top;\n",
       "    }\n",
       "\n",
       "    .dataframe thead th {\n",
       "        text-align: right;\n",
       "    }\n",
       "</style>\n",
       "<table border=\"1\" class=\"dataframe\">\n",
       "  <thead>\n",
       "    <tr style=\"text-align: right;\">\n",
       "      <th></th>\n",
       "      <th>chemical1</th>\n",
       "      <th>chemical2</th>\n",
       "      <th>similarity</th>\n",
       "      <th>experimental</th>\n",
       "      <th>database</th>\n",
       "      <th>textmining</th>\n",
       "      <th>combined_score</th>\n",
       "    </tr>\n",
       "  </thead>\n",
       "  <tbody>\n",
       "    <tr>\n",
       "      <th>1</th>\n",
       "      <td>CID091758695</td>\n",
       "      <td>CID000107694</td>\n",
       "      <td>0</td>\n",
       "      <td>0</td>\n",
       "      <td>0</td>\n",
       "      <td>230</td>\n",
       "      <td>230</td>\n",
       "    </tr>\n",
       "    <tr>\n",
       "      <th>2</th>\n",
       "      <td>CID091758695</td>\n",
       "      <td>CID011013287</td>\n",
       "      <td>0</td>\n",
       "      <td>0</td>\n",
       "      <td>0</td>\n",
       "      <td>230</td>\n",
       "      <td>230</td>\n",
       "    </tr>\n",
       "    <tr>\n",
       "      <th>3</th>\n",
       "      <td>CID091758695</td>\n",
       "      <td>CID011980957</td>\n",
       "      <td>0</td>\n",
       "      <td>0</td>\n",
       "      <td>0</td>\n",
       "      <td>328</td>\n",
       "      <td>328</td>\n",
       "    </tr>\n",
       "    <tr>\n",
       "      <th>4</th>\n",
       "      <td>CID091758695</td>\n",
       "      <td>CID000013078</td>\n",
       "      <td>0</td>\n",
       "      <td>0</td>\n",
       "      <td>0</td>\n",
       "      <td>162</td>\n",
       "      <td>162</td>\n",
       "    </tr>\n",
       "    <tr>\n",
       "      <th>5</th>\n",
       "      <td>CID091758695</td>\n",
       "      <td>CID000013109</td>\n",
       "      <td>0</td>\n",
       "      <td>0</td>\n",
       "      <td>0</td>\n",
       "      <td>468</td>\n",
       "      <td>468</td>\n",
       "    </tr>\n",
       "  </tbody>\n",
       "</table>\n",
       "</div>"
      ],
      "text/plain": [
       "      chemical1     chemical2  similarity  experimental  database  textmining  \\\n",
       "1  CID091758695  CID000107694           0             0         0         230   \n",
       "2  CID091758695  CID011013287           0             0         0         230   \n",
       "3  CID091758695  CID011980957           0             0         0         328   \n",
       "4  CID091758695  CID000013078           0             0         0         162   \n",
       "5  CID091758695  CID000013109           0             0         0         468   \n",
       "\n",
       "   combined_score  \n",
       "1             230  \n",
       "2             230  \n",
       "3             328  \n",
       "4             162  \n",
       "5             468  "
      ]
     },
     "execution_count": 7,
     "metadata": {},
     "output_type": "execute_result"
    }
   ],
   "source": [
    "print(df.shape)\n",
    "df.head()"
   ]
  },
  {
   "cell_type": "markdown",
   "metadata": {},
   "source": [
    "### Read All SIDER DRUGS CID"
   ]
  },
  {
   "cell_type": "code",
   "execution_count": 8,
   "metadata": {},
   "outputs": [
    {
     "data": {
      "text/html": [
       "<div>\n",
       "<style scoped>\n",
       "    .dataframe tbody tr th:only-of-type {\n",
       "        vertical-align: middle;\n",
       "    }\n",
       "\n",
       "    .dataframe tbody tr th {\n",
       "        vertical-align: top;\n",
       "    }\n",
       "\n",
       "    .dataframe thead th {\n",
       "        text-align: right;\n",
       "    }\n",
       "</style>\n",
       "<table border=\"1\" class=\"dataframe\">\n",
       "  <thead>\n",
       "    <tr style=\"text-align: right;\">\n",
       "      <th></th>\n",
       "      <th>STITCH ID STEREO</th>\n",
       "      <th>MEDRA TERM UMLS CONCEPT ID</th>\n",
       "      <th>se_count</th>\n",
       "      <th>cid</th>\n",
       "      <th>mw</th>\n",
       "      <th>mf</th>\n",
       "      <th>polararea</th>\n",
       "      <th>complexity</th>\n",
       "      <th>xlogp</th>\n",
       "      <th>heavycnt</th>\n",
       "      <th>...</th>\n",
       "      <th>gpfamilycnt</th>\n",
       "      <th>neighbortype</th>\n",
       "      <th>meshheadings</th>\n",
       "      <th>annothits</th>\n",
       "      <th>annothitcnt</th>\n",
       "      <th>aids</th>\n",
       "      <th>cidcdate</th>\n",
       "      <th>sidsrcname</th>\n",
       "      <th>depcatg</th>\n",
       "      <th>annotation</th>\n",
       "    </tr>\n",
       "  </thead>\n",
       "  <tbody>\n",
       "    <tr>\n",
       "      <th>0</th>\n",
       "      <td>CID000000119</td>\n",
       "      <td>['C0002792', 'C0030193', 'C0151828', 'C0002994...</td>\n",
       "      <td>5</td>\n",
       "      <td>119</td>\n",
       "      <td>103.12</td>\n",
       "      <td>C4H9NO2</td>\n",
       "      <td>63.3</td>\n",
       "      <td>62.7</td>\n",
       "      <td>-3.2</td>\n",
       "      <td>7</td>\n",
       "      <td>...</td>\n",
       "      <td>13769</td>\n",
       "      <td>2D+3D</td>\n",
       "      <td>gamma-Aminobutyric Acid</td>\n",
       "      <td>Biological Test Results|Chemical and Physical ...</td>\n",
       "      <td>15</td>\n",
       "      <td>155|157|161|165|167|175|190|248|328|357|410|41...</td>\n",
       "      <td>20040916</td>\n",
       "      <td>001Chemical|3B Scientific (Wuhan) Corp|3WAY PH...</td>\n",
       "      <td>Chemical Vendors|Curation Efforts|Governmental...</td>\n",
       "      <td>COVID-19, COVID19, Coronavirus, Corona-virus, ...</td>\n",
       "    </tr>\n",
       "  </tbody>\n",
       "</table>\n",
       "<p>1 rows × 41 columns</p>\n",
       "</div>"
      ],
      "text/plain": [
       "  STITCH ID STEREO                         MEDRA TERM UMLS CONCEPT ID  \\\n",
       "0     CID000000119  ['C0002792', 'C0030193', 'C0151828', 'C0002994...   \n",
       "\n",
       "   se_count  cid      mw       mf  polararea  complexity  xlogp  heavycnt  \\\n",
       "0         5  119  103.12  C4H9NO2       63.3        62.7   -3.2         7   \n",
       "\n",
       "   ...  gpfamilycnt  neighbortype             meshheadings  \\\n",
       "0  ...        13769         2D+3D  gamma-Aminobutyric Acid   \n",
       "\n",
       "                                           annothits annothitcnt  \\\n",
       "0  Biological Test Results|Chemical and Physical ...          15   \n",
       "\n",
       "                                                aids  cidcdate  \\\n",
       "0  155|157|161|165|167|175|190|248|328|357|410|41...  20040916   \n",
       "\n",
       "                                          sidsrcname  \\\n",
       "0  001Chemical|3B Scientific (Wuhan) Corp|3WAY PH...   \n",
       "\n",
       "                                             depcatg  \\\n",
       "0  Chemical Vendors|Curation Efforts|Governmental...   \n",
       "\n",
       "                                          annotation  \n",
       "0  COVID-19, COVID19, Coronavirus, Corona-virus, ...  \n",
       "\n",
       "[1 rows x 41 columns]"
      ]
     },
     "execution_count": 8,
     "metadata": {},
     "output_type": "execute_result"
    }
   ],
   "source": [
    "df_all_se = pd.read_csv('../../prep_data/drug_all_se_pubchem.csv')\n",
    "df_all_se.head(1)"
   ]
  },
  {
   "cell_type": "code",
   "execution_count": 9,
   "metadata": {},
   "outputs": [],
   "source": [
    "all_drugs_cid = df_all_se['STITCH ID STEREO'].tolist()"
   ]
  },
  {
   "cell_type": "code",
   "execution_count": 10,
   "metadata": {},
   "outputs": [],
   "source": [
    "assert len(all_drugs_cid) == len(set(all_drugs_cid))"
   ]
  },
  {
   "cell_type": "markdown",
   "metadata": {},
   "source": [
    "### Filter STITCH DF to have only SIDER drugs"
   ]
  },
  {
   "cell_type": "code",
   "execution_count": 11,
   "metadata": {},
   "outputs": [],
   "source": [
    "df = df[df['chemical1'].isin(all_drugs_cid) & df['chemical2'].isin(all_drugs_cid)]"
   ]
  },
  {
   "cell_type": "code",
   "execution_count": 12,
   "metadata": {},
   "outputs": [
    {
     "data": {
      "text/html": [
       "<div>\n",
       "<style scoped>\n",
       "    .dataframe tbody tr th:only-of-type {\n",
       "        vertical-align: middle;\n",
       "    }\n",
       "\n",
       "    .dataframe tbody tr th {\n",
       "        vertical-align: top;\n",
       "    }\n",
       "\n",
       "    .dataframe thead th {\n",
       "        text-align: right;\n",
       "    }\n",
       "</style>\n",
       "<table border=\"1\" class=\"dataframe\">\n",
       "  <thead>\n",
       "    <tr style=\"text-align: right;\">\n",
       "      <th></th>\n",
       "      <th>chemical1</th>\n",
       "      <th>chemical2</th>\n",
       "      <th>similarity</th>\n",
       "      <th>experimental</th>\n",
       "      <th>database</th>\n",
       "      <th>textmining</th>\n",
       "      <th>combined_score</th>\n",
       "    </tr>\n",
       "  </thead>\n",
       "  <tbody>\n",
       "    <tr>\n",
       "      <th>339566</th>\n",
       "      <td>CID071306834</td>\n",
       "      <td>CID010113978</td>\n",
       "      <td>0</td>\n",
       "      <td>0</td>\n",
       "      <td>0</td>\n",
       "      <td>153</td>\n",
       "      <td>153</td>\n",
       "    </tr>\n",
       "  </tbody>\n",
       "</table>\n",
       "</div>"
      ],
      "text/plain": [
       "           chemical1     chemical2  similarity  experimental  database  \\\n",
       "339566  CID071306834  CID010113978           0             0         0   \n",
       "\n",
       "        textmining  combined_score  \n",
       "339566         153             153  "
      ]
     },
     "execution_count": 12,
     "metadata": {},
     "output_type": "execute_result"
    }
   ],
   "source": [
    "df.head(1)"
   ]
  },
  {
   "cell_type": "code",
   "execution_count": 13,
   "metadata": {},
   "outputs": [
    {
     "data": {
      "text/plain": [
       "[['CID071306834', 'CID010113978', 153],\n",
       " ['CID071306834', 'CID010324367', 411],\n",
       " ['CID071306834', 'CID000104799', 230],\n",
       " ['CID071306834', 'CID011707110', 170],\n",
       " ['CID071306834', 'CID000126941', 172]]"
      ]
     },
     "execution_count": 13,
     "metadata": {},
     "output_type": "execute_result"
    }
   ],
   "source": [
    "cci_data = df[['chemical1', 'chemical2', 'combined_score']].values.tolist()\n",
    "cci_data[:5]"
   ]
  },
  {
   "cell_type": "markdown",
   "metadata": {},
   "source": [
    "### Create DDI Network"
   ]
  },
  {
   "cell_type": "code",
   "execution_count": 14,
   "metadata": {},
   "outputs": [],
   "source": [
    "import networkx as nx\n",
    "\n",
    "# Step 1: Create a NetworkX graph from the CCI data\n",
    "def create_ddi(cci_data):\n",
    "    graph = nx.Graph()\n",
    "    for d1, d2, score in cci_data:\n",
    "        if score > 0:\n",
    "            graph.add_edge(d1, d2, weight=score)\n",
    "    return graph\n",
    "\n",
    "cci_graph = create_ddi(cci_data)\n",
    "    "
   ]
  },
  {
   "cell_type": "markdown",
   "metadata": {},
   "source": [
    "### Step 2: Apply the Random Walk with Restart (RWR) algorithm"
   ]
  },
  {
   "cell_type": "code",
   "execution_count": 15,
   "metadata": {},
   "outputs": [],
   "source": [
    "# Step 2: Perform Random Walk with Restart (RWR)\n",
    "def random_walk_with_restart(graph, seed_node, personalized, restart_prob=0.8, epsilon=1e-6):\n",
    "    personalized[seed_node] = 1.0\n",
    "    probabilities = nx.pagerank(graph, alpha=restart_prob, personalization=personalized, tol=epsilon, weight='weight')\n",
    "    return probabilities"
   ]
  },
  {
   "cell_type": "code",
   "execution_count": 16,
   "metadata": {},
   "outputs": [],
   "source": [
    "# Step 3: Select negative samples based on probability threshold\n",
    "def select_negative_samples(probabilities, threshold=2.74e-4):\n",
    "    negative_samples = [node for node, prob in probabilities.items() if prob < threshold]\n",
    "    # sort and give least probable nodes n_samples\n",
    "    # negative_samples = sorted(probabilities, key=probabilities.get, reverse=False)[:n_samples]\n",
    "    return negative_samples"
   ]
  },
  {
   "cell_type": "markdown",
   "metadata": {},
   "source": [
    "### Generate Negative Samples for all DrugIDs"
   ]
  },
  {
   "cell_type": "code",
   "execution_count": 17,
   "metadata": {},
   "outputs": [],
   "source": [
    "def generate_negative_samples_rwr(graph, seed_nodes, restart_prob=0.8, epsilon=1e-6):\n",
    "    total_nodes = graph.number_of_nodes()\n",
    "    personalized = {node: 1/total_nodes for node in graph.nodes()}\n",
    "    negative_samples = {}\n",
    "    for seed_node in seed_nodes:\n",
    "        probabilities = random_walk_with_restart(graph, seed_node, personalized, restart_prob, epsilon)\n",
    "        quantile_25 = pd.DataFrame(probabilities.values()).describe().iloc[4, 0]\n",
    "        negative_samples[seed_node] = select_negative_samples(probabilities, quantile_25)\n",
    "    return negative_samples\n",
    "\n",
    "## multi-threaded version\n",
    "from multiprocessing import Pool\n",
    "from functools import partial\n",
    "\n",
    "def generate_negative_samples_rwr_parallel(graph, seed_nodes, restart_prob=0.8, epsilon=1e-6, n_jobs=4):\n",
    "    total_nodes = graph.number_of_nodes()\n",
    "    personalized = {node: 1/total_nodes for node in graph.nodes()}\n",
    "    negative_samples = {}\n",
    "    func = partial(random_walk_with_restart, graph, personalized=personalized, restart_prob=restart_prob, epsilon=epsilon)\n",
    "    with Pool(n_jobs) as pool:\n",
    "        probabilities = pool.map(func, seed_nodes)\n",
    "    for seed_node, prob in zip(seed_nodes, probabilities):\n",
    "        quantile_25 = pd.DataFrame(prob.values()).describe().iloc[4, 0]\n",
    "        negative_samples[seed_node] = select_negative_samples(prob, quantile_25)\n",
    "    return negative_samples"
   ]
  },
  {
   "cell_type": "code",
   "execution_count": 18,
   "metadata": {},
   "outputs": [],
   "source": [
    "# negative_samples = generate_negative_samples_rwr(cci_graph, all_drugs_cid)"
   ]
  },
  {
   "cell_type": "code",
   "execution_count": 19,
   "metadata": {},
   "outputs": [],
   "source": [
    "negative_samples = generate_negative_samples_rwr_parallel(cci_graph, all_drugs_cid, n_jobs=6)"
   ]
  },
  {
   "cell_type": "code",
   "execution_count": 20,
   "metadata": {},
   "outputs": [],
   "source": [
    "### dump negative samples\n",
    "import pickle, os\n",
    "dump_loc = '../../prep_data/stitch/negative_samples_rwr.pkl'\n",
    "os.makedirs(os.path.dirname(dump_loc), exist_ok=True)\n",
    "with open(dump_loc, 'wb') as f:\n",
    "    pickle.dump(negative_samples, f)"
   ]
  },
  {
   "cell_type": "code",
   "execution_count": 90,
   "metadata": {},
   "outputs": [],
   "source": [
    "len_ng = [len(v) for k, v in negative_samples.items()]"
   ]
  },
  {
   "cell_type": "code",
   "execution_count": 93,
   "metadata": {},
   "outputs": [
    {
     "data": {
      "text/plain": [
       "(323, 324, 323.999245852187)"
      ]
     },
     "execution_count": 93,
     "metadata": {},
     "output_type": "execute_result"
    }
   ],
   "source": [
    "import numpy as np\n",
    "min(len_ng), max(len_ng), np.mean(np.array(len_ng))"
   ]
  }
 ],
 "metadata": {
  "kernelspec": {
   "display_name": "dsn",
   "language": "python",
   "name": "python3"
  },
  "language_info": {
   "codemirror_mode": {
    "name": "ipython",
    "version": 3
   },
   "file_extension": ".py",
   "mimetype": "text/x-python",
   "name": "python",
   "nbconvert_exporter": "python",
   "pygments_lexer": "ipython3",
   "version": "3.7.7"
  },
  "orig_nbformat": 4
 },
 "nbformat": 4,
 "nbformat_minor": 2
}
