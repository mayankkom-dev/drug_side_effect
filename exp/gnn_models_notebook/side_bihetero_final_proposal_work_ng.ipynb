{
 "cells": [
  {
   "attachments": {},
   "cell_type": "markdown",
   "metadata": {},
   "source": [
    "### Imports"
   ]
  },
  {
   "cell_type": "code",
   "execution_count": 1,
   "metadata": {},
   "outputs": [],
   "source": [
    "import pandas as pd\n",
    "import torch\n",
    "import numpy as np\n",
    "import torch\n",
    "import torch_geometric.datasets as datasets\n",
    "import torch_geometric.data as data\n",
    "import torch_geometric.transforms as transforms\n",
    "import networkx as nx\n",
    "from torch_geometric.utils.convert import to_networkx\n",
    "from torch_geometric.data import HeteroData\n",
    "import torch_geometric.transforms as T\n",
    "from sklearn.preprocessing import MinMaxScaler\n",
    "# set max num of rows and cols to display\n",
    "pd.set_option('display.max_rows', 1000)\n",
    "pd.set_option('display.max_columns', 1000)"
   ]
  },
  {
   "attachments": {},
   "cell_type": "markdown",
   "metadata": {},
   "source": [
    "### Read Pre-processed Drug-Side-Effect List "
   ]
  },
  {
   "cell_type": "code",
   "execution_count": 2,
   "metadata": {},
   "outputs": [
    {
     "data": {
      "text/html": [
       "<div>\n",
       "<style scoped>\n",
       "    .dataframe tbody tr th:only-of-type {\n",
       "        vertical-align: middle;\n",
       "    }\n",
       "\n",
       "    .dataframe tbody tr th {\n",
       "        vertical-align: top;\n",
       "    }\n",
       "\n",
       "    .dataframe thead th {\n",
       "        text-align: right;\n",
       "    }\n",
       "</style>\n",
       "<table border=\"1\" class=\"dataframe\">\n",
       "  <thead>\n",
       "    <tr style=\"text-align: right;\">\n",
       "      <th></th>\n",
       "      <th>STITCH ID STEREO</th>\n",
       "      <th>MEDRA TERM UMLS CONCEPT ID</th>\n",
       "      <th>se_count</th>\n",
       "      <th>cid</th>\n",
       "      <th>mw</th>\n",
       "      <th>mf</th>\n",
       "      <th>polararea</th>\n",
       "      <th>complexity</th>\n",
       "      <th>xlogp</th>\n",
       "      <th>heavycnt</th>\n",
       "      <th>hbonddonor</th>\n",
       "      <th>hbondacc</th>\n",
       "      <th>rotbonds</th>\n",
       "      <th>inchi</th>\n",
       "      <th>isosmiles</th>\n",
       "      <th>canonicalsmiles</th>\n",
       "      <th>inchikey</th>\n",
       "      <th>iupacname</th>\n",
       "      <th>exactmass</th>\n",
       "      <th>monoisotopicmass</th>\n",
       "      <th>charge</th>\n",
       "      <th>covalentunitcnt</th>\n",
       "      <th>isotopeatomcnt</th>\n",
       "      <th>totalatomstereocnt</th>\n",
       "      <th>definedatomstereocnt</th>\n",
       "      <th>undefinedatomstereocnt</th>\n",
       "      <th>totalbondstereocnt</th>\n",
       "      <th>definedbondstereocnt</th>\n",
       "      <th>undefinedbondstereocnt</th>\n",
       "      <th>pclidcnt</th>\n",
       "      <th>gpidcnt</th>\n",
       "      <th>gpfamilycnt</th>\n",
       "      <th>neighbortype</th>\n",
       "      <th>meshheadings</th>\n",
       "      <th>annothits</th>\n",
       "      <th>annothitcnt</th>\n",
       "      <th>aids</th>\n",
       "      <th>cidcdate</th>\n",
       "      <th>sidsrcname</th>\n",
       "      <th>depcatg</th>\n",
       "      <th>annotation</th>\n",
       "    </tr>\n",
       "  </thead>\n",
       "  <tbody>\n",
       "    <tr>\n",
       "      <th>0</th>\n",
       "      <td>CID000000119</td>\n",
       "      <td>['C0002792', 'C0030193', 'C0151828', 'C0002994...</td>\n",
       "      <td>5</td>\n",
       "      <td>119</td>\n",
       "      <td>103.12</td>\n",
       "      <td>C4H9NO2</td>\n",
       "      <td>63.3</td>\n",
       "      <td>62.7</td>\n",
       "      <td>-3.2</td>\n",
       "      <td>7</td>\n",
       "      <td>2</td>\n",
       "      <td>3</td>\n",
       "      <td>3</td>\n",
       "      <td>InChI=1S/C4H9NO2/c5-3-1-2-4(6)7/h1-3,5H2,(H,6,7)</td>\n",
       "      <td>C(CC(=O)O)CN</td>\n",
       "      <td>C(CC(=O)O)CN</td>\n",
       "      <td>BTCSSZJGUNDROE-UHFFFAOYSA-N</td>\n",
       "      <td>4-aminobutanoic acid</td>\n",
       "      <td>103.063</td>\n",
       "      <td>103.063</td>\n",
       "      <td>0</td>\n",
       "      <td>1</td>\n",
       "      <td>0</td>\n",
       "      <td>0</td>\n",
       "      <td>0</td>\n",
       "      <td>0</td>\n",
       "      <td>0</td>\n",
       "      <td>0</td>\n",
       "      <td>0</td>\n",
       "      <td>82230</td>\n",
       "      <td>34891</td>\n",
       "      <td>13769</td>\n",
       "      <td>2D+3D</td>\n",
       "      <td>gamma-Aminobutyric Acid</td>\n",
       "      <td>Biological Test Results|Chemical and Physical ...</td>\n",
       "      <td>15</td>\n",
       "      <td>155|157|161|165|167|175|190|248|328|357|410|41...</td>\n",
       "      <td>20040916</td>\n",
       "      <td>001Chemical|3B Scientific (Wuhan) Corp|3WAY PH...</td>\n",
       "      <td>Chemical Vendors|Curation Efforts|Governmental...</td>\n",
       "      <td>COVID-19, COVID19, Coronavirus, Corona-virus, ...</td>\n",
       "    </tr>\n",
       "  </tbody>\n",
       "</table>\n",
       "</div>"
      ],
      "text/plain": [
       "  STITCH ID STEREO                         MEDRA TERM UMLS CONCEPT ID  \\\n",
       "0     CID000000119  ['C0002792', 'C0030193', 'C0151828', 'C0002994...   \n",
       "\n",
       "   se_count  cid      mw       mf  polararea  complexity  xlogp  heavycnt  \\\n",
       "0         5  119  103.12  C4H9NO2       63.3        62.7   -3.2         7   \n",
       "\n",
       "   hbonddonor  hbondacc  rotbonds  \\\n",
       "0           2         3         3   \n",
       "\n",
       "                                              inchi     isosmiles  \\\n",
       "0  InChI=1S/C4H9NO2/c5-3-1-2-4(6)7/h1-3,5H2,(H,6,7)  C(CC(=O)O)CN   \n",
       "\n",
       "  canonicalsmiles                     inchikey             iupacname  \\\n",
       "0    C(CC(=O)O)CN  BTCSSZJGUNDROE-UHFFFAOYSA-N  4-aminobutanoic acid   \n",
       "\n",
       "   exactmass  monoisotopicmass  charge  covalentunitcnt  isotopeatomcnt  \\\n",
       "0    103.063           103.063       0                1               0   \n",
       "\n",
       "   totalatomstereocnt  definedatomstereocnt  undefinedatomstereocnt  \\\n",
       "0                   0                     0                       0   \n",
       "\n",
       "   totalbondstereocnt  definedbondstereocnt  undefinedbondstereocnt  pclidcnt  \\\n",
       "0                   0                     0                       0     82230   \n",
       "\n",
       "   gpidcnt  gpfamilycnt neighbortype             meshheadings  \\\n",
       "0    34891        13769        2D+3D  gamma-Aminobutyric Acid   \n",
       "\n",
       "                                           annothits  annothitcnt  \\\n",
       "0  Biological Test Results|Chemical and Physical ...           15   \n",
       "\n",
       "                                                aids  cidcdate  \\\n",
       "0  155|157|161|165|167|175|190|248|328|357|410|41...  20040916   \n",
       "\n",
       "                                          sidsrcname  \\\n",
       "0  001Chemical|3B Scientific (Wuhan) Corp|3WAY PH...   \n",
       "\n",
       "                                             depcatg  \\\n",
       "0  Chemical Vendors|Curation Efforts|Governmental...   \n",
       "\n",
       "                                          annotation  \n",
       "0  COVID-19, COVID19, Coronavirus, Corona-virus, ...  "
      ]
     },
     "execution_count": 2,
     "metadata": {},
     "output_type": "execute_result"
    }
   ],
   "source": [
    "df_all_se = pd.read_csv('../../prep_data/drug_all_se_pubchem.csv')\n",
    "df_all_se.head(1)"
   ]
  },
  {
   "cell_type": "code",
   "execution_count": 3,
   "metadata": {},
   "outputs": [
    {
     "data": {
      "text/plain": [
       "Index(['STITCH ID STEREO', 'MEDRA TERM UMLS CONCEPT ID', 'se_count', 'cid',\n",
       "       'mw', 'mf', 'polararea', 'complexity', 'xlogp', 'heavycnt',\n",
       "       'hbonddonor', 'hbondacc', 'rotbonds', 'inchi', 'isosmiles',\n",
       "       'canonicalsmiles', 'inchikey', 'iupacname', 'exactmass',\n",
       "       'monoisotopicmass', 'charge', 'covalentunitcnt', 'isotopeatomcnt',\n",
       "       'totalatomstereocnt', 'definedatomstereocnt', 'undefinedatomstereocnt',\n",
       "       'totalbondstereocnt', 'definedbondstereocnt', 'undefinedbondstereocnt',\n",
       "       'pclidcnt', 'gpidcnt', 'gpfamilycnt', 'neighbortype', 'meshheadings',\n",
       "       'annothits', 'annothitcnt', 'aids', 'cidcdate', 'sidsrcname', 'depcatg',\n",
       "       'annotation'],\n",
       "      dtype='object')"
      ]
     },
     "execution_count": 3,
     "metadata": {},
     "output_type": "execute_result"
    }
   ],
   "source": [
    "df_all_se.columns"
   ]
  },
  {
   "cell_type": "code",
   "execution_count": 4,
   "metadata": {},
   "outputs": [],
   "source": [
    "drug_pub_prop_cols = [ 'mw', 'polararea', 'complexity','heavycnt',\n",
    "       'hbonddonor', 'hbondacc', 'rotbonds']"
   ]
  },
  {
   "cell_type": "code",
   "execution_count": 5,
   "metadata": {},
   "outputs": [
    {
     "data": {
      "text/plain": [
       "mw            0\n",
       "polararea     0\n",
       "complexity    0\n",
       "heavycnt      0\n",
       "hbonddonor    0\n",
       "hbondacc      0\n",
       "rotbonds      0\n",
       "dtype: int64"
      ]
     },
     "execution_count": 5,
     "metadata": {},
     "output_type": "execute_result"
    }
   ],
   "source": [
    "df_all_se[drug_pub_prop_cols].isnull().sum()"
   ]
  },
  {
   "attachments": {},
   "cell_type": "markdown",
   "metadata": {},
   "source": [
    "### Create Transformation Mapping for drug and side-effect"
   ]
  },
  {
   "cell_type": "code",
   "execution_count": 6,
   "metadata": {},
   "outputs": [],
   "source": [
    "STITCH_TO_ID_DICT = {id: idx for idx, id in enumerate(df_all_se['STITCH ID STEREO'])}\n",
    "ID_TO_STITCH_DICT = {v: k for k, v in STITCH_TO_ID_DICT.items()}"
   ]
  },
  {
   "cell_type": "code",
   "execution_count": 7,
   "metadata": {},
   "outputs": [],
   "source": [
    "STITCHID_TO_PUBPPROP_DICT = {idx: _ for idx, (stid, _) in enumerate(zip(df_all_se['STITCH ID STEREO'], df_all_se[drug_pub_prop_cols].values))}\n"
   ]
  },
  {
   "cell_type": "code",
   "execution_count": 8,
   "metadata": {},
   "outputs": [],
   "source": [
    "# Create a flattened list of unique meddra term concept id\n",
    "column_list = df_all_se['MEDRA TERM UMLS CONCEPT ID'].tolist()\n",
    "unique_values = list(set([item for sublist in column_list for item in eval(sublist)]))\n",
    "unique_values.sort()\n",
    "MEDRAID_TO_ID_DICT = {id: idx for idx, id in enumerate(unique_values)}\n",
    "ID_TO_MEDRAID_DICT = {v: k for k, v in MEDRAID_TO_ID_DICT.items()}"
   ]
  },
  {
   "cell_type": "code",
   "execution_count": 9,
   "metadata": {},
   "outputs": [],
   "source": [
    "# assert if df stitch id stereo is unique\n",
    "assert len(df_all_se['STITCH ID STEREO'].unique()) == len(df_all_se['STITCH ID STEREO'])"
   ]
  },
  {
   "attachments": {},
   "cell_type": "markdown",
   "metadata": {},
   "source": [
    "### Create HeteroData"
   ]
  },
  {
   "cell_type": "code",
   "execution_count": 10,
   "metadata": {},
   "outputs": [],
   "source": [
    "useMinMaxScaler = True"
   ]
  },
  {
   "cell_type": "code",
   "execution_count": 11,
   "metadata": {},
   "outputs": [
    {
     "name": "stdout",
     "output_type": "stream",
     "text": [
      "Before torch.Size([1326, 7])\n",
      "After MinMax (1326, 7)\n",
      "Final: UseMinMax True torch.Size([1326, 7])\n"
     ]
    }
   ],
   "source": [
    "drug_node_features = torch.stack([torch.tensor(_, dtype=torch.float) for _ in df_all_se[drug_pub_prop_cols].values])\n",
    "if useMinMaxScaler:\n",
    "    scaler = MinMaxScaler()\n",
    "    print(\"Before\", drug_node_features.shape)\n",
    "    drug_node_features = scaler.fit_transform(drug_node_features)\n",
    "    print('After MinMax', drug_node_features.shape)\n",
    "    drug_node_features = torch.tensor(drug_node_features, dtype=torch.float)\n",
    "print(\"Final: UseMinMax\", useMinMaxScaler, drug_node_features.shape)\n",
    "# # Create a dictionary of node features\n",
    "# drug_node_features = torch.tensor(np.zeros((len(df_all_se['STITCH ID STEREO']),881)))\n",
    "# side_effect_node_features = torch.tensor(np.zeros((len(unique_values),881)))\n",
    "\n",
    "\n",
    "# print('drug_nodes', drug_node_features.shape)\n",
    "# print('side_effect_nodes', side_effect_node_features.shape)"
   ]
  },
  {
   "cell_type": "code",
   "execution_count": 12,
   "metadata": {},
   "outputs": [
    {
     "name": "stdout",
     "output_type": "stream",
     "text": [
      "edge_index torch.Size([2, 129851])\n",
      "edge_index tensor([[   0,    0,    0,  ..., 1325, 1325, 1325],\n",
      "        [  31,  657, 1091,  ...,  462, 1221,  835]])\n"
     ]
    }
   ],
   "source": [
    "# create edge index for drug-side effect from multi-label column_list\n",
    "edge_index = []\n",
    "for idx, row in df_all_se.iterrows():\n",
    "    for se in eval(row['MEDRA TERM UMLS CONCEPT ID']):\n",
    "        edge_index.append([STITCH_TO_ID_DICT[row['STITCH ID STEREO']], MEDRAID_TO_ID_DICT[se]])\n",
    "edge_index = torch.tensor(edge_index).T\n",
    "\n",
    "# print('side_effect_node_features', side_effect_node_features.shape)\n",
    "print('edge_index', edge_index.shape)\n",
    "print('edge_index', edge_index)"
   ]
  },
  {
   "cell_type": "code",
   "execution_count": 13,
   "metadata": {},
   "outputs": [],
   "source": [
    "# # sanity check\n",
    "# df_all_se.head(1)"
   ]
  },
  {
   "cell_type": "code",
   "execution_count": 14,
   "metadata": {},
   "outputs": [],
   "source": [
    "# STITCH_TO_ID_DICT['CID000000119']"
   ]
  },
  {
   "cell_type": "code",
   "execution_count": 15,
   "metadata": {},
   "outputs": [],
   "source": [
    "# MEDRAID_TO_ID_DICT['C0151828'], MEDRAID_TO_ID_DICT['C0030193'], MEDRAID_TO_ID_DICT['C0042109'], MEDRAID_TO_ID_DICT['C0002994']"
   ]
  },
  {
   "cell_type": "code",
   "execution_count": 16,
   "metadata": {},
   "outputs": [
    {
     "name": "stdout",
     "output_type": "stream",
     "text": [
      "HeteroData(\n",
      "  \u001b[1mdrug\u001b[0m={\n",
      "    node_id=[1326],\n",
      "    x=[1326, 7]\n",
      "  },\n",
      "  \u001b[1mside_effect\u001b[0m={ node_id=[2061] },\n",
      "  \u001b[1m(drug, to, side_effect)\u001b[0m={ edge_index=[2, 129851] }\n",
      ")\n"
     ]
    }
   ],
   "source": [
    "# Create a heterograph with 2 types of nodes: drug and side effect\n",
    "data = HeteroData()\n",
    "\n",
    "# Add nodes\n",
    "data['drug'].node_id = torch.arange(drug_node_features.shape[0])\n",
    "data['side_effect'].node_id = torch.arange(len(unique_values))\n",
    "\n",
    "# Add node features\n",
    "data['drug'].x = drug_node_features\n",
    "\n",
    "# Add edges\n",
    "data['drug', 'side_effect'].edge_index = edge_index\n",
    "\n",
    "print(data)"
   ]
  },
  {
   "attachments": {},
   "cell_type": "markdown",
   "metadata": {},
   "source": [
    "### Hetero Data Viz"
   ]
  },
  {
   "cell_type": "code",
   "execution_count": 17,
   "metadata": {},
   "outputs": [],
   "source": [
    "# # Full Graph View\n",
    "# import networkx as nx\n",
    "# import matplotlib.pyplot as plt\n",
    "# import torch\n",
    "# from torch_geometric.data import HeteroData\n",
    "\n",
    "\n",
    "# # Convert heterograph to NetworkX graph\n",
    "# graph = nx.Graph()\n",
    "\n",
    "# # Add nodes to the NetworkX graph with unique IDs for each node type\n",
    "# drug_nodes = data['drug'].node_id.numpy()\n",
    "# side_effect_nodes = data['side_effect'].node_id.numpy()\n",
    "\n",
    "# drug_nodes_unique = [f\"drug_{node_id}\" for node_id in drug_nodes]\n",
    "# side_effect_nodes_unique = [f\"side_effect_{node_id}\" for node_id in side_effect_nodes]\n",
    "\n",
    "# # Add nodes to the NetworkX graph\n",
    "# graph.add_nodes_from(drug_nodes_unique, node_type='drug')\n",
    "# graph.add_nodes_from(side_effect_nodes_unique, node_type='side_effect')\n",
    "\n",
    "# # Add edges to the NetworkX graph\n",
    "# drug_edges = data['drug', 'side_effect'].edge_index\n",
    "# for i in range(drug_edges.shape[1]):\n",
    "#     source = drug_edges[0, i].item()\n",
    "#     target = drug_edges[1, i].item()\n",
    "#     source_id = f\"drug_{source}\"\n",
    "#     target_id = f\"side_effect_{target}\"\n",
    "#     graph.add_edge(source_id, target_id)\n",
    "\n",
    "# # Visualize the graph using NetworkX\n",
    "# pos = nx.spring_layout(graph)  # Compute node positions\n",
    "\n",
    "# # Separate nodes by type for different visualization colors\n",
    "# drug_nodes = [n for n, d in graph.nodes(data=True) if d['node_type'] == 'drug']\n",
    "# side_effect_nodes = [n for n, d in graph.nodes(data=True) if d['node_type'] == 'side_effect']\n",
    "\n",
    "# # Draw nodes with different colors based on type\n",
    "# nx.draw_networkx_nodes(graph, pos, nodelist=drug_nodes, node_color='blue', label='Drug Nodes')\n",
    "# nx.draw_networkx_nodes(graph, pos, nodelist=side_effect_nodes, node_color='red', label='Side Effect Nodes')\n",
    "\n",
    "# # Draw edges\n",
    "# nx.draw_networkx_edges(graph, pos)\n",
    "\n",
    "# # Draw node labels\n",
    "# node_labels = {n: str(n) for n in graph.nodes()}\n",
    "# nx.draw_networkx_labels(graph, pos, labels=node_labels)\n",
    "\n",
    "# # Display the graph\n",
    "# plt.axis('off')\n",
    "# plt.legend()\n",
    "# plt.show()"
   ]
  },
  {
   "cell_type": "code",
   "execution_count": 18,
   "metadata": {},
   "outputs": [],
   "source": [
    "# # Plot random number of edges and all associated nodes\n",
    "# import networkx as nx\n",
    "# import matplotlib.pyplot as plt\n",
    "# import torch\n",
    "# import random\n",
    "# from torch_geometric.data import HeteroData\n",
    "\n",
    "# # Convert heterograph to NetworkX graph\n",
    "# graph = nx.Graph()\n",
    "\n",
    "# # Define the number of random edges you want to visualize\n",
    "# num_random_edges = 10\n",
    "\n",
    "# # Randomly select a subset of edges\n",
    "# random_edge_indices = random.sample(range(data['drug', 'side_effect'].edge_index.shape[1]), num_random_edges)\n",
    "\n",
    "# # Add nodes to the NetworkX graph with unique IDs for each node type\n",
    "# drug_nodes = data['drug'].node_id.numpy()\n",
    "# side_effect_nodes = data['side_effect'].node_id.numpy()\n",
    "\n",
    "# # sample drug_nodes to have only nodes within random_edge_indices\n",
    "# drug_nodes = np.unique(data['drug', 'side_effect'].edge_index[0, random_edge_indices].numpy())\n",
    "# side_effect_nodes = np.unique(data['drug', 'side_effect'].edge_index[1, random_edge_indices].numpy())\n",
    "\n",
    "\n",
    "# drug_nodes_unique = [f\"drug_{node_id}\" for node_id in drug_nodes]\n",
    "# side_effect_nodes_unique = [f\"side_effect_{node_id}\" for node_id in side_effect_nodes]\n",
    "\n",
    "# # Add nodes to the NetworkX graph\n",
    "# graph.add_nodes_from(drug_nodes_unique, node_type='drug')\n",
    "# graph.add_nodes_from(side_effect_nodes_unique, node_type='side_effect')\n",
    "\n",
    "# # Add edges to the NetworkX graph\n",
    "# drug_edges = data['drug', 'side_effect'].edge_index[:, random_edge_indices]\n",
    "# for i in range(drug_edges.shape[1]):\n",
    "#     source = drug_edges[0, i].item()\n",
    "#     target = drug_edges[1, i].item()\n",
    "#     source_id = f\"drug_{source}\"\n",
    "#     target_id = f\"side_effect_{target}\"\n",
    "#     graph.add_edge(source_id, target_id)\n",
    "\n",
    "# # Visualize the graph using NetworkX\n",
    "# pos = nx.spring_layout(graph)  # Compute node positions\n",
    "\n",
    "# # Separate nodes by type for different visualization colors\n",
    "# drug_nodes = [n for n, d in graph.nodes(data=True) if d['node_type'] == 'drug']\n",
    "# side_effect_nodes = [n for n, d in graph.nodes(data=True) if d['node_type'] == 'side_effect']\n",
    "\n",
    "# # Draw nodes with different colors based on type\n",
    "# nx.draw_networkx_nodes(graph, pos, nodelist=drug_nodes, node_color='blue', label='Drug Nodes')\n",
    "# nx.draw_networkx_nodes(graph, pos, nodelist=side_effect_nodes, node_color='red', label='Side Effect Nodes')\n",
    "\n",
    "# # Draw edges\n",
    "# nx.draw_networkx_edges(graph, pos)\n",
    "\n",
    "# # Draw node labels\n",
    "# node_labels = {n: str(n) for n in graph.nodes()}\n",
    "# nx.draw_networkx_labels(graph, pos, labels=node_labels)\n",
    "\n",
    "# # Display the graph\n",
    "# plt.axis('off')\n",
    "# plt.legend()\n",
    "# plt.show()\n"
   ]
  },
  {
   "cell_type": "code",
   "execution_count": 19,
   "metadata": {},
   "outputs": [
    {
     "data": {
      "image/png": "[encoded data removed]",
      "text/plain": [
       "<Figure size 1000x1000 with 1 Axes>"
      ]
     },
     "metadata": {},
     "output_type": "display_data"
    }
   ],
   "source": [
    "# plot for selected list of drug_id and all associated side effects\n",
    "import networkx as nx\n",
    "import matplotlib.pyplot as plt\n",
    "import torch\n",
    "import random\n",
    "from torch_geometric.data import HeteroData, Data\n",
    "\n",
    "# Convert heterograph to NetworkX graph\n",
    "graph = nx.Graph()\n",
    "\n",
    "# list of drug_id to visualize all its associated side effects\n",
    "drug_id_list = [0, 2, 3]\n",
    "\n",
    "# associated possible unique side effects using edge_index when drug_id is in drug_id_list\n",
    "side_effect_nodes = np.unique(data['drug', 'side_effect'].edge_index[1, np.isin(data['drug', 'side_effect'].edge_index[0], drug_id_list)].numpy())\n",
    "\n",
    "# filter out edges that are between drug_id_list and side_effect_nodes\n",
    "drug_edges = data['drug', 'side_effect'].edge_index[:, np.isin(data['drug', 'side_effect'].edge_index[0], drug_id_list) & np.isin(data['drug', 'side_effect'].edge_index[1], side_effect_nodes)]\n",
    "\n",
    "drug_nodes_unique = [f\"drug_{node_id}\" for node_id in drug_id_list]\n",
    "side_effect_nodes_unique = [f\"side_effect_{node_id}\" for node_id in side_effect_nodes]\n",
    "\n",
    "# Add nodes to the NetworkX graph\n",
    "graph.add_nodes_from(drug_nodes_unique, node_type='drug')\n",
    "graph.add_nodes_from(side_effect_nodes_unique, node_type='side_effect')\n",
    "\n",
    "# Add edges to the NetworkX graph\n",
    "for i in range(drug_edges.shape[1]):\n",
    "    source = drug_edges[0, i].item()\n",
    "    target = drug_edges[1, i].item()\n",
    "    source_id = f\"drug_{source}\"\n",
    "    target_id = f\"side_effect_{target}\"\n",
    "    graph.add_edge(source_id, target_id)\n",
    "\n",
    "# Visualize the graph using NetworkX\n",
    "# pos = nx.spring_layout(graph, seed=1)  # Compute node positions\n",
    "pos = nx.bipartite_layout(graph, drug_nodes_unique, align='vertical', scale=5)  # Compute node positions\n",
    "# Separate nodes by type for different visualization colors\n",
    "drug_nodes = [n for n, d in graph.nodes(data=True) if d['node_type'] == 'drug']\n",
    "side_effect_nodes = [n for n, d in graph.nodes(data=True) if d['node_type'] == 'side_effect']\n",
    "\n",
    "# Draw nodes with different colors based on type\n",
    "nx.draw_networkx_nodes(graph, pos, nodelist=drug_nodes, node_color='blue', label='Drug Nodes', cmap=plt.cm.Blues)\n",
    "nx.draw_networkx_nodes(graph, pos, nodelist=side_effect_nodes, node_color='red', label='Side Effect Nodes', cmap=plt.cm.Reds)\n",
    "\n",
    "# Draw edges with different colors based on type\n",
    "\n",
    "nx.draw_networkx_edges(graph, pos, edge_color='black', width=1.0, alpha=0.5)\n",
    "\n",
    "# Draw edges\n",
    "# nx.draw_networkx_edges(graph, pos)\n",
    "\n",
    "# Draw node labels\n",
    "node_labels = {n: str(n) for n in graph.nodes()}\n",
    "nx.draw_networkx_labels(graph, pos, labels=node_labels)\n",
    "\n",
    "# Display the graph\n",
    "plt.axis('off')\n",
    "# increase figure size\n",
    "plt.gcf().set_size_inches(10, 10)\n",
    "# position legend to the right of the graph\n",
    "plt.legend(loc='upper left', bbox_to_anchor=(1, 1))\n",
    "plt.title('Drug-Side Effect Network')\n",
    "plt.show()\n"
   ]
  },
  {
   "cell_type": "code",
   "execution_count": 20,
   "metadata": {},
   "outputs": [],
   "source": [
    "# graph.nodes()\n",
    "# # link a map to most common drug_name and side_effect_name"
   ]
  },
  {
   "attachments": {},
   "cell_type": "markdown",
   "metadata": {},
   "source": [
    "### Hetero Link Prediction task"
   ]
  },
  {
   "cell_type": "code",
   "execution_count": 21,
   "metadata": {},
   "outputs": [
    {
     "data": {
      "text/plain": [
       "HeteroData(\n",
       "  \u001b[1mdrug\u001b[0m={\n",
       "    node_id=[1326],\n",
       "    x=[1326, 7]\n",
       "  },\n",
       "  \u001b[1mside_effect\u001b[0m={ node_id=[2061] },\n",
       "  \u001b[1m(drug, to, side_effect)\u001b[0m={ edge_index=[2, 129851] }\n",
       ")"
      ]
     },
     "execution_count": 21,
     "metadata": {},
     "output_type": "execute_result"
    }
   ],
   "source": [
    "data"
   ]
  },
  {
   "cell_type": "code",
   "execution_count": 22,
   "metadata": {},
   "outputs": [],
   "source": [
    "import torch_geometric.transforms as T\n",
    "# We also need to make sure to add the reverse edges from movies to users\n",
    "# in order to let a GNN be able to pass messages in both directions.\n",
    "# We can leverage the `T.ToUndirected()` transform for this from PyG:\n",
    "data = T.ToUndirected()(data)"
   ]
  },
  {
   "cell_type": "code",
   "execution_count": 23,
   "metadata": {},
   "outputs": [
    {
     "data": {
      "text/plain": [
       "HeteroData(\n",
       "  \u001b[1mdrug\u001b[0m={\n",
       "    node_id=[1326],\n",
       "    x=[1326, 7]\n",
       "  },\n",
       "  \u001b[1mside_effect\u001b[0m={ node_id=[2061] },\n",
       "  \u001b[1m(drug, to, side_effect)\u001b[0m={ edge_index=[2, 129851] },\n",
       "  \u001b[1m(side_effect, rev_to, drug)\u001b[0m={ edge_index=[2, 129851] }\n",
       ")"
      ]
     },
     "execution_count": 23,
     "metadata": {},
     "output_type": "execute_result"
    }
   ],
   "source": [
    "data"
   ]
  },
  {
   "attachments": {},
   "cell_type": "markdown",
   "metadata": {},
   "source": [
    "### Define Edge level Train Split"
   ]
  },
  {
   "cell_type": "code",
   "execution_count": 80,
   "metadata": {},
   "outputs": [
    {
     "name": "stdout",
     "output_type": "stream",
     "text": [
      "Training data:\n",
      "==============\n",
      "HeteroData(\n",
      "  \u001b[1mdrug\u001b[0m={\n",
      "    node_id=[1326],\n",
      "    x=[1326, 7]\n",
      "  },\n",
      "  \u001b[1mside_effect\u001b[0m={ node_id=[2061] },\n",
      "  \u001b[1m(drug, to, side_effect)\u001b[0m={\n",
      "    edge_index=[2, 72717],\n",
      "    edge_label=[31164],\n",
      "    edge_label_index=[2, 31164]\n",
      "  },\n",
      "  \u001b[1m(side_effect, rev_to, drug)\u001b[0m={ edge_index=[2, 72717] }\n",
      ")\n",
      "\n",
      "Validation data:\n",
      "================\n",
      "HeteroData(\n",
      "  \u001b[1mdrug\u001b[0m={\n",
      "    node_id=[1326],\n",
      "    x=[1326, 7]\n",
      "  },\n",
      "  \u001b[1mside_effect\u001b[0m={ node_id=[2061] },\n",
      "  \u001b[1m(drug, to, side_effect)\u001b[0m={\n",
      "    edge_index=[2, 103881],\n",
      "    edge_label=[38955],\n",
      "    edge_label_index=[2, 38955]\n",
      "  },\n",
      "  \u001b[1m(side_effect, rev_to, drug)\u001b[0m={ edge_index=[2, 103881] }\n",
      ")\n"
     ]
    }
   ],
   "source": [
    "# For this, we first split the set of edges into\n",
    "# training (80%), validation (10%), and testing edges (10%).\n",
    "# Across the training edges, we use 70% of edges for message passing,\n",
    "# and 30% of edges for supervision.\n",
    "# We further want to generate fixed negative edges for evaluation with a ratio of 2:1.\n",
    "# Negative edges during training will be generated on-the-fly.\n",
    "# We can leverage the `RandomLinkSplit()` transform for this from PyG:\n",
    "transform = T.RandomLinkSplit(\n",
    "    num_val=0.1,\n",
    "    num_test=0.1,\n",
    "    disjoint_train_ratio=0.3,\n",
    "    neg_sampling_ratio=2.0,\n",
    "    add_negative_train_samples=False,\n",
    "    edge_types=('drug', 'to', 'side_effect'),\n",
    "    rev_edge_types=('side_effect', 'rev_to', 'drug'), \n",
    ")\n",
    "\n",
    "\n",
    "train_data, val_data, test_data = transform(data)\n",
    "print(\"Training data:\")\n",
    "print(\"==============\")\n",
    "print(train_data)\n",
    "print()\n",
    "print(\"Validation data:\")\n",
    "print(\"================\")\n",
    "print(val_data)"
   ]
  },
  {
   "cell_type": "markdown",
   "metadata": {},
   "source": [
    "### RWR Negative Samples"
   ]
  },
  {
   "cell_type": "code",
   "execution_count": 45,
   "metadata": {},
   "outputs": [],
   "source": [
    "import pickle, os\n",
    "dump_loc = '../../prep_data/stitch/negative_samples_rwr.pkl'\n",
    "\n",
    "with open(dump_loc, 'rb') as f:\n",
    "    neg_samples_dict = pickle.load(f)"
   ]
  },
  {
   "cell_type": "code",
   "execution_count": 46,
   "metadata": {},
   "outputs": [],
   "source": [
    "neg_samples_dict_map = {STITCH_TO_ID_DICT[k]: [STITCH_TO_ID_DICT[_] for _ in v] for k, v in neg_samples_dict.items()}"
   ]
  },
  {
   "cell_type": "code",
   "execution_count": 47,
   "metadata": {},
   "outputs": [
    {
     "data": {
      "text/plain": [
       "tensor([1., 1., 1.,  ..., 1., 1., 1.])"
      ]
     },
     "execution_count": 47,
     "metadata": {},
     "output_type": "execute_result"
    }
   ],
   "source": [
    "train_data['drug', 'to', 'side_effect'].edge_label"
   ]
  },
  {
   "cell_type": "code",
   "execution_count": 81,
   "metadata": {},
   "outputs": [],
   "source": [
    "def add_negative_samples(data, neg_samples_dict_map, ns_ratio=1):\n",
    "    ### manually add negative edges to train_data\n",
    "    ## access  (drug, to, side_effect) from train_data\n",
    "    \n",
    "    ng_edge_label_index = []\n",
    "    ng_edge_label = []\n",
    "    ps_edge_label_index = data['drug', 'to', 'side_effect'].edge_label_index.numpy()\n",
    "\n",
    "    for idx, (drug_id, se_id) in enumerate(zip(ps_edge_label_index[0], ps_edge_label_index[1])) :\n",
    "        rng = np.random.default_rng(idx)\n",
    "        neg_samples = rng.choice(neg_samples_dict_map[drug_id], ns_ratio)\n",
    "        for neg_sample in neg_samples:\n",
    "            ng_edge_label_index.append([neg_sample, se_id])\n",
    "            ng_edge_label.append(0)\n",
    "\n",
    "    ng_edge_label_index = torch.tensor(ng_edge_label_index).T\n",
    "    ng_edge_label = torch.tensor(ng_edge_label)\n",
    "    # print(data)\n",
    "    # add negative samples to train_data\n",
    "    ng_combined_edge_label_index = torch.cat([data['drug', 'to', 'side_effect'].edge_label_index, ng_edge_label_index], dim=1)\n",
    "    ng_combined_edge_label = torch.cat([data['drug', 'to', 'side_effect'].edge_label, ng_edge_label], dim=0)\n",
    "    # Shuffle the columns (permutations of indices)\n",
    "    num_columns = ng_combined_edge_label_index.size(1)\n",
    "    shuffled_indices = torch.randperm(num_columns)\n",
    "    shuffled_ng_combined_edge_label_index = ng_combined_edge_label_index[:, shuffled_indices]\n",
    "\n",
    "    # Shuffle the values in ng_combined_edge_label accordingly\n",
    "    shuffled_ng_combined_edge_label = ng_combined_edge_label[shuffled_indices]\n",
    "    data['drug', 'to', 'side_effect'].edge_label_index = shuffled_ng_combined_edge_label_index\n",
    "    data['drug', 'to', 'side_effect'].edge_label = shuffled_ng_combined_edge_label\n",
    "    \n",
    "\n",
    "    return data"
   ]
  },
  {
   "cell_type": "code",
   "execution_count": 82,
   "metadata": {},
   "outputs": [
    {
     "data": {
      "text/plain": [
       "tensor([[ 742,  250,  139,  ...,  742,   82,  807],\n",
       "        [ 452,   29, 1299,  ...,   75,    2,  646]])"
      ]
     },
     "execution_count": 82,
     "metadata": {},
     "output_type": "execute_result"
    }
   ],
   "source": [
    "train_data['drug', 'to', 'side_effect'].edge_index"
   ]
  },
  {
   "cell_type": "code",
   "execution_count": 83,
   "metadata": {},
   "outputs": [],
   "source": [
    "train_data_ng  = add_negative_samples(train_data, neg_samples_dict_map, ns_ratio=10)"
   ]
  },
  {
   "cell_type": "code",
   "execution_count": 84,
   "metadata": {},
   "outputs": [],
   "source": [
    "# val_data = add_negative_samples(val_data, neg_samples_dict_map, ns_ratio=2)"
   ]
  },
  {
   "attachments": {},
   "cell_type": "markdown",
   "metadata": {},
   "source": [
    "### Define Mini-batch Loader"
   ]
  },
  {
   "cell_type": "code",
   "execution_count": 85,
   "metadata": {},
   "outputs": [],
   "source": [
    "# !pip install pyg-lib -f https://data.pyg.org/whl/torch-1.12.1+cu117.html"
   ]
  },
  {
   "cell_type": "code",
   "execution_count": 86,
   "metadata": {},
   "outputs": [],
   "source": [
    "num_neighbors=[15, 10]\n",
    "batch_size = 128"
   ]
  },
  {
   "cell_type": "code",
   "execution_count": 87,
   "metadata": {},
   "outputs": [
    {
     "name": "stdout",
     "output_type": "stream",
     "text": [
      "Sampled mini-batch:\n",
      "===================\n",
      "HeteroData(\n",
      "  \u001b[1mdrug\u001b[0m={\n",
      "    node_id=[1116],\n",
      "    x=[1116, 7],\n",
      "    n_id=[1116]\n",
      "  },\n",
      "  \u001b[1mside_effect\u001b[0m={\n",
      "    node_id=[1283],\n",
      "    n_id=[1283]\n",
      "  },\n",
      "  \u001b[1m(drug, to, side_effect)\u001b[0m={\n",
      "    edge_index=[2, 5978],\n",
      "    edge_label=[128],\n",
      "    edge_label_index=[2, 128],\n",
      "    e_id=[5978],\n",
      "    input_id=[128]\n",
      "  },\n",
      "  \u001b[1m(side_effect, rev_to, drug)\u001b[0m={\n",
      "    edge_index=[2, 8175],\n",
      "    e_id=[8175]\n",
      "  }\n",
      ")\n"
     ]
    }
   ],
   "source": [
    "# In the first hop, we sample at most 20 neighbors.\n",
    "# In the second hop, we sample at most 10 neighbors.\n",
    "# In addition, during training, we want to sample negative edges on-the-fly with\n",
    "# a ratio of 2:1.\n",
    "# We can make use of the `loader.LinkNeighborLoader` from PyG:\n",
    "from torch_geometric.loader.link_neighbor_loader import LinkNeighborLoader\n",
    "\n",
    "# Define seed edges:\n",
    "edge_label_index = train_data[\"drug\", \"to\", \"side_effect\"].edge_label_index\n",
    "edge_label = train_data[\"drug\", \"to\", \"side_effect\"].edge_label\n",
    "\n",
    "train_loader = LinkNeighborLoader(\n",
    "    data=train_data,\n",
    "    num_neighbors=num_neighbors,\n",
    "    # neg_sampling_ratio=2.0,\n",
    "    edge_label_index=((\"drug\", \"to\", \"side_effect\"), edge_label_index),\n",
    "    edge_label=edge_label,\n",
    "    batch_size=batch_size,\n",
    "    shuffle=True\n",
    ")\n",
    "\n",
    "# Inspect a sample:\n",
    "sampled_data = next(iter(train_loader))\n",
    "\n",
    "print(\"Sampled mini-batch:\")\n",
    "print(\"===================\")\n",
    "print(sampled_data)\n"
   ]
  },
  {
   "attachments": {},
   "cell_type": "markdown",
   "metadata": {},
   "source": [
    "### Creating a Hetero Link-level GNN"
   ]
  },
  {
   "cell_type": "code",
   "execution_count": 88,
   "metadata": {},
   "outputs": [],
   "source": [
    "from torch_geometric.nn import SAGEConv, to_hetero\n",
    "import torch.nn.functional as F\n",
    "from torch import Tensor\n",
    "\n",
    "\n",
    "class GNN(torch.nn.Module):\n",
    "    def __init__(self, hidden_channels):\n",
    "        super().__init__()\n",
    "\n",
    "        self.conv1 = SAGEConv(hidden_channels, hidden_channels)\n",
    "        self.lin1 = torch.nn.Linear(hidden_channels, hidden_channels)\n",
    "        self.conv2 = SAGEConv(hidden_channels, hidden_channels)\n",
    "        self.lin2 = torch.nn.Linear(hidden_channels, hidden_channels)\n",
    "        \n",
    "    def forward(self, x: Tensor, edge_index: Tensor) -> Tensor:\n",
    "        x = F.elu(self.conv1(x, edge_index)+self.lin1(x))\n",
    "        x = self.conv2(x, edge_index) + self.lin2(x)\n",
    "        return x"
   ]
  },
  {
   "cell_type": "code",
   "execution_count": 89,
   "metadata": {},
   "outputs": [],
   "source": [
    "# Our final classifier applies the dot-product between source and destination\n",
    "# node embeddings to derive edge-level predictions:\n",
    "class Classifier(torch.nn.Module):\n",
    "    def forward(self, x_user: Tensor, x_movie: Tensor, edge_label_index: Tensor) -> Tensor:\n",
    "        # Convert node embeddings to edge-level representations:\n",
    "        edge_feat_user = x_user[edge_label_index[0]]\n",
    "        edge_feat_movie = x_movie[edge_label_index[1]]\n",
    "\n",
    "        # Apply dot-product to get a prediction per supervision edge:\n",
    "        return (edge_feat_user * edge_feat_movie).sum(dim=-1)"
   ]
  },
  {
   "cell_type": "code",
   "execution_count": 90,
   "metadata": {},
   "outputs": [
    {
     "data": {
      "text/plain": [
       "Model(\n",
       "  (drug_emb): Embedding(1326, 256)\n",
       "  (seff_emb): Embedding(2061, 256)\n",
       "  (gnn): GraphModule(\n",
       "    (conv1): ModuleDict(\n",
       "      (drug__to__side_effect): SAGEConv(256, 256, aggr=mean)\n",
       "      (side_effect__rev_to__drug): SAGEConv(256, 256, aggr=mean)\n",
       "    )\n",
       "    (lin1): ModuleDict(\n",
       "      (drug): Linear(in_features=256, out_features=256, bias=True)\n",
       "      (side_effect): Linear(in_features=256, out_features=256, bias=True)\n",
       "    )\n",
       "    (conv2): ModuleDict(\n",
       "      (drug__to__side_effect): SAGEConv(256, 256, aggr=mean)\n",
       "      (side_effect__rev_to__drug): SAGEConv(256, 256, aggr=mean)\n",
       "    )\n",
       "    (lin2): ModuleDict(\n",
       "      (drug): Linear(in_features=256, out_features=256, bias=True)\n",
       "      (side_effect): Linear(in_features=256, out_features=256, bias=True)\n",
       "    )\n",
       "  )\n",
       "  (classifier): Classifier()\n",
       ")"
      ]
     },
     "execution_count": 90,
     "metadata": {},
     "output_type": "execute_result"
    }
   ],
   "source": [
    "# Homegenous Model for Edge Prediction\n",
    "class Model(torch.nn.Module):\n",
    "    def __init__(self, hidden_channels, use_node_features=False):\n",
    "        super().__init__()\n",
    "        # Instantiate node embeddings:\n",
    "        self.drug_emb = torch.nn.Embedding(data[\"drug\"].num_nodes, hidden_channels)\n",
    "        self.seff_emb = torch.nn.Embedding(data[\"side_effect\"].num_nodes, hidden_channels)\n",
    "        # Instantiate GNNs:\n",
    "        self.gnn = GNN(hidden_channels)\n",
    "        # Convert GNN model into a heterogeneous variant:\n",
    "        self.gnn = to_hetero(self.gnn, metadata=data.metadata())\n",
    "        self.use_node_features = use_node_features\n",
    "        if use_node_features:\n",
    "            self.drug_feat_layernorm = torch.nn.LayerNorm(data[\"drug\"].num_features)\n",
    "            self.drug_lin = torch.nn.Linear(data[\"drug\"].num_features, hidden_channels)\n",
    "        # Instantiate classifier:\n",
    "        self.classifier = Classifier() \n",
    "\n",
    "    def forward(self, data: HeteroData) -> Tensor:\n",
    "        if self.use_node_features:\n",
    "            x_dict = {\n",
    "                \"drug\":  self.drug_emb(data[\"drug\"].node_id) + self.drug_lin(self.drug_feat_layernorm(data[\"drug\"].x)),\n",
    "                \"side_effect\": self.seff_emb(data[\"side_effect\"].node_id)\n",
    "            }\n",
    "        else:\n",
    "            # layer normalization of input features:\n",
    "            x_dict = {\n",
    "                \"drug\":  self.drug_emb(data[\"drug\"].node_id), #+ self.drug_lin(self.drug_feat_layernorm(data[\"drug\"].x)),\n",
    "                \"side_effect\": self.seff_emb(data[\"side_effect\"].node_id)\n",
    "            }\n",
    "\n",
    "        # `x_dict` holds feature matrices of all node types\n",
    "        # `edge_index_dict` holds all edge indices of all edge types\n",
    "        x_dict = self.gnn(x_dict, data.edge_index_dict)\n",
    "        pred = self.classifier(\n",
    "            x_dict[\"drug\"],\n",
    "            x_dict[\"side_effect\"],\n",
    "            data[\"drug\", \"to\", \"side_effect\"].edge_label_index,\n",
    "        )\n",
    "\n",
    "        return pred\n",
    "        \n",
    "model = Model(hidden_channels=256)\n",
    "model"
   ]
  },
  {
   "attachments": {},
   "cell_type": "markdown",
   "metadata": {},
   "source": [
    "### Train the hetero model"
   ]
  },
  {
   "cell_type": "code",
   "execution_count": 91,
   "metadata": {},
   "outputs": [
    {
     "name": "stdout",
     "output_type": "stream",
     "text": [
      "Device: 'cuda'\n"
     ]
    },
    {
     "name": "stderr",
     "output_type": "stream",
     "text": [
      " 14%|█▍        | 372/2679 [00:06<00:38, 60.13it/s]\n"
     ]
    },
    {
     "ename": "KeyboardInterrupt",
     "evalue": "",
     "output_type": "error",
     "traceback": [
      "\u001b[0;31m---------------------------------------------------------------------------\u001b[0m",
      "\u001b[0;31mKeyboardInterrupt\u001b[0m                         Traceback (most recent call last)",
      "\u001b[0;32m/tmp/ipykernel_986/11528802.py\u001b[0m in \u001b[0;36m<module>\u001b[0;34m\u001b[0m\n\u001b[1;32m     20\u001b[0m \u001b[0;34m\u001b[0m\u001b[0m\n\u001b[1;32m     21\u001b[0m         \u001b[0mloss\u001b[0m\u001b[0;34m.\u001b[0m\u001b[0mbackward\u001b[0m\u001b[0;34m(\u001b[0m\u001b[0;34m)\u001b[0m\u001b[0;34m\u001b[0m\u001b[0;34m\u001b[0m\u001b[0m\n\u001b[0;32m---> 22\u001b[0;31m         \u001b[0moptimizer\u001b[0m\u001b[0;34m.\u001b[0m\u001b[0mstep\u001b[0m\u001b[0;34m(\u001b[0m\u001b[0;34m)\u001b[0m\u001b[0;34m\u001b[0m\u001b[0;34m\u001b[0m\u001b[0m\n\u001b[0m\u001b[1;32m     23\u001b[0m         \u001b[0mtotal_loss\u001b[0m \u001b[0;34m+=\u001b[0m \u001b[0mfloat\u001b[0m\u001b[0;34m(\u001b[0m\u001b[0mloss\u001b[0m\u001b[0;34m)\u001b[0m \u001b[0;34m*\u001b[0m \u001b[0mpred\u001b[0m\u001b[0;34m.\u001b[0m\u001b[0mnumel\u001b[0m\u001b[0;34m(\u001b[0m\u001b[0;34m)\u001b[0m\u001b[0;34m\u001b[0m\u001b[0;34m\u001b[0m\u001b[0m\n\u001b[1;32m     24\u001b[0m         \u001b[0mtotal_examples\u001b[0m \u001b[0;34m+=\u001b[0m \u001b[0mpred\u001b[0m\u001b[0;34m.\u001b[0m\u001b[0mnumel\u001b[0m\u001b[0;34m(\u001b[0m\u001b[0;34m)\u001b[0m\u001b[0;34m\u001b[0m\u001b[0;34m\u001b[0m\u001b[0m\n",
      "\u001b[0;32m~/miniconda3/envs/dsn/lib/python3.7/site-packages/torch/optim/optimizer.py\u001b[0m in \u001b[0;36mwrapper\u001b[0;34m(*args, **kwargs)\u001b[0m\n\u001b[1;32m    138\u001b[0m                 \u001b[0mprofile_name\u001b[0m \u001b[0;34m=\u001b[0m \u001b[0;34m\"Optimizer.step#{}.step\"\u001b[0m\u001b[0;34m.\u001b[0m\u001b[0mformat\u001b[0m\u001b[0;34m(\u001b[0m\u001b[0mobj\u001b[0m\u001b[0;34m.\u001b[0m\u001b[0m__class__\u001b[0m\u001b[0;34m.\u001b[0m\u001b[0m__name__\u001b[0m\u001b[0;34m)\u001b[0m\u001b[0;34m\u001b[0m\u001b[0;34m\u001b[0m\u001b[0m\n\u001b[1;32m    139\u001b[0m                 \u001b[0;32mwith\u001b[0m \u001b[0mtorch\u001b[0m\u001b[0;34m.\u001b[0m\u001b[0mautograd\u001b[0m\u001b[0;34m.\u001b[0m\u001b[0mprofiler\u001b[0m\u001b[0;34m.\u001b[0m\u001b[0mrecord_function\u001b[0m\u001b[0;34m(\u001b[0m\u001b[0mprofile_name\u001b[0m\u001b[0;34m)\u001b[0m\u001b[0;34m:\u001b[0m\u001b[0;34m\u001b[0m\u001b[0;34m\u001b[0m\u001b[0m\n\u001b[0;32m--> 140\u001b[0;31m                     \u001b[0mout\u001b[0m \u001b[0;34m=\u001b[0m \u001b[0mfunc\u001b[0m\u001b[0;34m(\u001b[0m\u001b[0;34m*\u001b[0m\u001b[0margs\u001b[0m\u001b[0;34m,\u001b[0m \u001b[0;34m**\u001b[0m\u001b[0mkwargs\u001b[0m\u001b[0;34m)\u001b[0m\u001b[0;34m\u001b[0m\u001b[0;34m\u001b[0m\u001b[0m\n\u001b[0m\u001b[1;32m    141\u001b[0m                     \u001b[0mobj\u001b[0m\u001b[0;34m.\u001b[0m\u001b[0m_optimizer_step_code\u001b[0m\u001b[0;34m(\u001b[0m\u001b[0;34m)\u001b[0m\u001b[0;34m\u001b[0m\u001b[0;34m\u001b[0m\u001b[0m\n\u001b[1;32m    142\u001b[0m                     \u001b[0;32mreturn\u001b[0m \u001b[0mout\u001b[0m\u001b[0;34m\u001b[0m\u001b[0;34m\u001b[0m\u001b[0m\n",
      "\u001b[0;32m~/miniconda3/envs/dsn/lib/python3.7/site-packages/torch/optim/optimizer.py\u001b[0m in \u001b[0;36m_use_grad\u001b[0;34m(self, *args, **kwargs)\u001b[0m\n\u001b[1;32m     21\u001b[0m         \u001b[0;32mtry\u001b[0m\u001b[0;34m:\u001b[0m\u001b[0;34m\u001b[0m\u001b[0;34m\u001b[0m\u001b[0m\n\u001b[1;32m     22\u001b[0m             \u001b[0mtorch\u001b[0m\u001b[0;34m.\u001b[0m\u001b[0mset_grad_enabled\u001b[0m\u001b[0;34m(\u001b[0m\u001b[0mself\u001b[0m\u001b[0;34m.\u001b[0m\u001b[0mdefaults\u001b[0m\u001b[0;34m[\u001b[0m\u001b[0;34m'differentiable'\u001b[0m\u001b[0;34m]\u001b[0m\u001b[0;34m)\u001b[0m\u001b[0;34m\u001b[0m\u001b[0;34m\u001b[0m\u001b[0m\n\u001b[0;32m---> 23\u001b[0;31m             \u001b[0mret\u001b[0m \u001b[0;34m=\u001b[0m \u001b[0mfunc\u001b[0m\u001b[0;34m(\u001b[0m\u001b[0mself\u001b[0m\u001b[0;34m,\u001b[0m \u001b[0;34m*\u001b[0m\u001b[0margs\u001b[0m\u001b[0;34m,\u001b[0m \u001b[0;34m**\u001b[0m\u001b[0mkwargs\u001b[0m\u001b[0;34m)\u001b[0m\u001b[0;34m\u001b[0m\u001b[0;34m\u001b[0m\u001b[0m\n\u001b[0m\u001b[1;32m     24\u001b[0m         \u001b[0;32mfinally\u001b[0m\u001b[0;34m:\u001b[0m\u001b[0;34m\u001b[0m\u001b[0;34m\u001b[0m\u001b[0m\n\u001b[1;32m     25\u001b[0m             \u001b[0mtorch\u001b[0m\u001b[0;34m.\u001b[0m\u001b[0mset_grad_enabled\u001b[0m\u001b[0;34m(\u001b[0m\u001b[0mprev_grad\u001b[0m\u001b[0;34m)\u001b[0m\u001b[0;34m\u001b[0m\u001b[0;34m\u001b[0m\u001b[0m\n",
      "\u001b[0;32m~/miniconda3/envs/dsn/lib/python3.7/site-packages/torch/optim/adam.py\u001b[0m in \u001b[0;36mstep\u001b[0;34m(self, closure, grad_scaler)\u001b[0m\n\u001b[1;32m    250\u001b[0m                  \u001b[0mfused\u001b[0m\u001b[0;34m=\u001b[0m\u001b[0mgroup\u001b[0m\u001b[0;34m[\u001b[0m\u001b[0;34m'fused'\u001b[0m\u001b[0;34m]\u001b[0m\u001b[0;34m,\u001b[0m\u001b[0;34m\u001b[0m\u001b[0;34m\u001b[0m\u001b[0m\n\u001b[1;32m    251\u001b[0m                  \u001b[0mgrad_scale\u001b[0m\u001b[0;34m=\u001b[0m\u001b[0mgrad_scale\u001b[0m\u001b[0;34m,\u001b[0m\u001b[0;34m\u001b[0m\u001b[0;34m\u001b[0m\u001b[0m\n\u001b[0;32m--> 252\u001b[0;31m                  found_inf=found_inf)\n\u001b[0m\u001b[1;32m    253\u001b[0m \u001b[0;34m\u001b[0m\u001b[0m\n\u001b[1;32m    254\u001b[0m         \u001b[0;32mreturn\u001b[0m \u001b[0mloss\u001b[0m\u001b[0;34m\u001b[0m\u001b[0;34m\u001b[0m\u001b[0m\n",
      "\u001b[0;32m~/miniconda3/envs/dsn/lib/python3.7/site-packages/torch/optim/adam.py\u001b[0m in \u001b[0;36madam\u001b[0;34m(params, grads, exp_avgs, exp_avg_sqs, max_exp_avg_sqs, state_steps, foreach, capturable, differentiable, fused, grad_scale, found_inf, amsgrad, beta1, beta2, lr, weight_decay, eps, maximize)\u001b[0m\n\u001b[1;32m    314\u001b[0m          \u001b[0mdifferentiable\u001b[0m\u001b[0;34m=\u001b[0m\u001b[0mdifferentiable\u001b[0m\u001b[0;34m,\u001b[0m\u001b[0;34m\u001b[0m\u001b[0;34m\u001b[0m\u001b[0m\n\u001b[1;32m    315\u001b[0m          \u001b[0mgrad_scale\u001b[0m\u001b[0;34m=\u001b[0m\u001b[0mgrad_scale\u001b[0m\u001b[0;34m,\u001b[0m\u001b[0;34m\u001b[0m\u001b[0;34m\u001b[0m\u001b[0m\n\u001b[0;32m--> 316\u001b[0;31m          found_inf=found_inf)\n\u001b[0m\u001b[1;32m    317\u001b[0m \u001b[0;34m\u001b[0m\u001b[0m\n\u001b[1;32m    318\u001b[0m \u001b[0;34m\u001b[0m\u001b[0m\n",
      "\u001b[0;32m~/miniconda3/envs/dsn/lib/python3.7/site-packages/torch/optim/adam.py\u001b[0m in \u001b[0;36m_single_tensor_adam\u001b[0;34m(params, grads, exp_avgs, exp_avg_sqs, max_exp_avg_sqs, state_steps, grad_scale, found_inf, amsgrad, beta1, beta2, lr, weight_decay, eps, maximize, capturable, differentiable)\u001b[0m\n\u001b[1;32m    408\u001b[0m                 \u001b[0mdenom\u001b[0m \u001b[0;34m=\u001b[0m \u001b[0;34m(\u001b[0m\u001b[0mmax_exp_avg_sqs\u001b[0m\u001b[0;34m[\u001b[0m\u001b[0mi\u001b[0m\u001b[0;34m]\u001b[0m\u001b[0;34m.\u001b[0m\u001b[0msqrt\u001b[0m\u001b[0;34m(\u001b[0m\u001b[0;34m)\u001b[0m \u001b[0;34m/\u001b[0m \u001b[0mbias_correction2_sqrt\u001b[0m\u001b[0;34m)\u001b[0m\u001b[0;34m.\u001b[0m\u001b[0madd_\u001b[0m\u001b[0;34m(\u001b[0m\u001b[0meps\u001b[0m\u001b[0;34m)\u001b[0m\u001b[0;34m\u001b[0m\u001b[0;34m\u001b[0m\u001b[0m\n\u001b[1;32m    409\u001b[0m             \u001b[0;32melse\u001b[0m\u001b[0;34m:\u001b[0m\u001b[0;34m\u001b[0m\u001b[0;34m\u001b[0m\u001b[0m\n\u001b[0;32m--> 410\u001b[0;31m                 \u001b[0mdenom\u001b[0m \u001b[0;34m=\u001b[0m \u001b[0;34m(\u001b[0m\u001b[0mexp_avg_sq\u001b[0m\u001b[0;34m.\u001b[0m\u001b[0msqrt\u001b[0m\u001b[0;34m(\u001b[0m\u001b[0;34m)\u001b[0m \u001b[0;34m/\u001b[0m \u001b[0mbias_correction2_sqrt\u001b[0m\u001b[0;34m)\u001b[0m\u001b[0;34m.\u001b[0m\u001b[0madd_\u001b[0m\u001b[0;34m(\u001b[0m\u001b[0meps\u001b[0m\u001b[0;34m)\u001b[0m\u001b[0;34m\u001b[0m\u001b[0;34m\u001b[0m\u001b[0m\n\u001b[0m\u001b[1;32m    411\u001b[0m \u001b[0;34m\u001b[0m\u001b[0m\n\u001b[1;32m    412\u001b[0m             \u001b[0mparam\u001b[0m\u001b[0;34m.\u001b[0m\u001b[0maddcdiv_\u001b[0m\u001b[0;34m(\u001b[0m\u001b[0mexp_avg\u001b[0m\u001b[0;34m,\u001b[0m \u001b[0mdenom\u001b[0m\u001b[0;34m,\u001b[0m \u001b[0mvalue\u001b[0m\u001b[0;34m=\u001b[0m\u001b[0;34m-\u001b[0m\u001b[0mstep_size\u001b[0m\u001b[0;34m)\u001b[0m\u001b[0;34m\u001b[0m\u001b[0;34m\u001b[0m\u001b[0m\n",
      "\u001b[0;31mKeyboardInterrupt\u001b[0m: "
     ]
    }
   ],
   "source": [
    "import tqdm\n",
    "import torch.nn.functional as F\n",
    "\n",
    "device = torch.device('cuda' if torch.cuda.is_available() else 'cpu')\n",
    "print(f\"Device: '{device}'\")\n",
    "\n",
    "model = model.to(device)\n",
    "optimizer = torch.optim.Adam(model.parameters(), lr=0.001)\n",
    "\n",
    "for epoch in range(1, 5):\n",
    "    total_loss = total_examples = 0\n",
    "    for sampled_data in tqdm.tqdm(train_loader):\n",
    "        optimizer.zero_grad()\n",
    "\n",
    "        sampled_data.to(device)\n",
    "        pred = model(sampled_data)\n",
    "\n",
    "        ground_truth = sampled_data[\"drug\", \"to\", \"side_effect\"].edge_label\n",
    "        loss = F.binary_cross_entropy_with_logits(pred, ground_truth)\n",
    "\n",
    "        loss.backward()\n",
    "        optimizer.step()\n",
    "        total_loss += float(loss) * pred.numel()\n",
    "        total_examples += pred.numel()\n",
    "    print(f\"Epoch: {epoch:03d}, Loss: {total_loss / total_examples:.4f}\")"
   ]
  },
  {
   "cell_type": "code",
   "execution_count": 92,
   "metadata": {},
   "outputs": [
    {
     "name": "stdout",
     "output_type": "stream",
     "text": [
      "Sampled mini-batch:\n",
      "===================\n",
      "HeteroData(\n",
      "  \u001b[1mdrug\u001b[0m={\n",
      "    node_id=[1124],\n",
      "    x=[1124, 7],\n",
      "    n_id=[1124]\n",
      "  },\n",
      "  \u001b[1mside_effect\u001b[0m={\n",
      "    node_id=[1304],\n",
      "    n_id=[1304]\n",
      "  },\n",
      "  \u001b[1m(drug, to, side_effect)\u001b[0m={\n",
      "    edge_index=[2, 7563],\n",
      "    edge_label=[128],\n",
      "    edge_label_index=[2, 128],\n",
      "    e_id=[7563],\n",
      "    input_id=[128]\n",
      "  },\n",
      "  \u001b[1m(side_effect, rev_to, drug)\u001b[0m={\n",
      "    edge_index=[2, 8259],\n",
      "    e_id=[8259]\n",
      "  }\n",
      ")\n"
     ]
    }
   ],
   "source": [
    "# Define the validation seed edges:\n",
    "edge_label_index = val_data[\"drug\", \"to\", \"side_effect\"].edge_label_index\n",
    "edge_label = val_data[\"drug\", \"to\", \"side_effect\"].edge_label\n",
    "\n",
    "val_loader = LinkNeighborLoader(\n",
    "    data=val_data,\n",
    "    num_neighbors=num_neighbors,\n",
    "    edge_label_index=((\"drug\", \"to\", \"side_effect\"), edge_label_index),\n",
    "    edge_label=edge_label,\n",
    "    batch_size=batch_size,\n",
    "    shuffle=False,\n",
    ")\n",
    "\n",
    "sampled_data = next(iter(val_loader))\n",
    "\n",
    "print(\"Sampled mini-batch:\")\n",
    "print(\"===================\")\n",
    "print(sampled_data)\n"
   ]
  },
  {
   "cell_type": "code",
   "execution_count": 41,
   "metadata": {},
   "outputs": [
    {
     "name": "stderr",
     "output_type": "stream",
     "text": [
      "  0%|          | 0/102 [00:00<?, ?it/s]"
     ]
    },
    {
     "name": "stderr",
     "output_type": "stream",
     "text": [
      "100%|██████████| 102/102 [00:01<00:00, 52.85it/s]"
     ]
    },
    {
     "name": "stdout",
     "output_type": "stream",
     "text": [
      "\n",
      "Validation AUC: 0.7578\n",
      "Validation AP: 0.5847\n",
      "Validation F1: 0.6778\n",
      "Validation Accuracy: 0.7998\n"
     ]
    },
    {
     "name": "stderr",
     "output_type": "stream",
     "text": [
      "\n"
     ]
    }
   ],
   "source": [
    "from sklearn.metrics import roc_auc_score, average_precision_score, f1_score\n",
    "\n",
    "preds = []\n",
    "ground_truths = []\n",
    "for sampled_data in tqdm.tqdm(val_loader):\n",
    "    with torch.no_grad():\n",
    "        sampled_data.to(device)\n",
    "        pred = model(sampled_data)\n",
    "        # Applying sigmoid activation function to the predicted values\n",
    "        output_probs = torch.sigmoid(pred)\n",
    "\n",
    "        # Converting probabilities to binary class predictions\n",
    "        output_classes = (output_probs > 0.5).int()\n",
    "        preds.append(output_classes)\n",
    "        ground_truths.append(sampled_data[\"drug\", \"to\", \"side_effect\"].edge_label)\n",
    "\n",
    "pred = torch.cat(preds, dim=0).cpu().numpy()\n",
    "ground_truth = torch.cat(ground_truths, dim=0).cpu().numpy()\n",
    "\n",
    "auc = roc_auc_score(ground_truth, pred)\n",
    "ap = average_precision_score(ground_truth, pred)\n",
    "f1 = f1_score(ground_truth, pred)\n",
    "acc = (pred == ground_truth).mean()\n",
    "\n",
    "print()\n",
    "print(f\"Validation AUC: {auc:.4f}\")\n",
    "print(f\"Validation AP: {ap:.4f}\")\n",
    "print(f\"Validation F1: {f1:.4f}\")\n",
    "print(f\"Validation Accuracy: {acc:.4f}\")"
   ]
  },
  {
   "attachments": {},
   "cell_type": "markdown",
   "metadata": {},
   "source": [
    "### Method Train and Val"
   ]
  },
  {
   "cell_type": "code",
   "execution_count": 93,
   "metadata": {},
   "outputs": [],
   "source": [
    "from sklearn.metrics import roc_auc_score, average_precision_score, f1_score, precision_score, recall_score\n",
    "\n",
    "@torch.no_grad()\n",
    "def compute_metrics(model, val_loader, debug=False):\n",
    "    model.eval()\n",
    "    preds = []\n",
    "    ground_truths = []\n",
    "    total_examples = total_loss = 0\n",
    "    for sampled_data in tqdm.tqdm(val_loader):\n",
    "        with torch.no_grad():\n",
    "            sampled_data.to(device)\n",
    "            pred = model(sampled_data)\n",
    "            ground_truth = sampled_data[\"drug\", \"to\", \"side_effect\"].edge_label\n",
    "            loss = F.binary_cross_entropy_with_logits(pred, ground_truth)\n",
    "            total_loss += float(loss) * pred.numel()\n",
    "            total_examples += pred.numel()\n",
    "            # Applying sigmoid activation function to the predicted values\n",
    "            output_probs = torch.sigmoid(pred)\n",
    "\n",
    "            # Converting probabilities to binary class predictions\n",
    "            output_classes = (output_probs > 0.5).int()\n",
    "            preds.append(output_classes)\n",
    "            ground_truths.append(ground_truth)\n",
    "\n",
    "    pred = torch.cat(preds, dim=0).cpu().numpy()\n",
    "    ground_truth = torch.cat(ground_truths, dim=0).cpu().numpy()\n",
    "\n",
    "    auc = roc_auc_score(ground_truth, pred)\n",
    "    ap = average_precision_score(ground_truth, pred)\n",
    "    f1 = f1_score(ground_truth, pred)\n",
    "    acc = (pred == ground_truth).mean()\n",
    "    loss = total_loss / total_examples\n",
    "    # compute precission, recall, f1, accuracy\n",
    "    precission = average_precision_score(ground_truth, pred)\n",
    "    recall = recall_score(ground_truth, pred)\n",
    "\n",
    "\n",
    "    if debug:\n",
    "        print()\n",
    "        print(f\"Validation AUC: {auc:.4f}\")\n",
    "        print(f\"Validation AP: {ap:.4f}\")\n",
    "        print(f\"Validation F1: {f1:.4f}\")\n",
    "        print(f\"Validation Accuracy: {acc:.4f}\")\n",
    "        print(f\"Validation precission: {precission:.4f}\")\n",
    "        print(f\"Validation recall: {recall:.4f}\")\n",
    "    return loss, auc, ap, f1, acc"
   ]
  },
  {
   "cell_type": "code",
   "execution_count": 94,
   "metadata": {},
   "outputs": [],
   "source": [
    "def train(model, train_loader, optimizer, device):\n",
    "    model.train()\n",
    "    total_loss = total_examples = 0\n",
    "    for data in tqdm.tqdm(train_loader):\n",
    "        data = data.to(device)\n",
    "        optimizer.zero_grad()\n",
    "        out = model(data)\n",
    "        ground_truth = data[\"drug\", \"to\", \"side_effect\"].edge_label\n",
    "        loss = F.binary_cross_entropy_with_logits(out, ground_truth)\n",
    "        loss.backward()\n",
    "        optimizer.step()\n",
    "        total_loss += float(loss) * out.numel()\n",
    "        total_examples += out.numel()\n",
    "    return total_loss / total_examples"
   ]
  },
  {
   "cell_type": "code",
   "execution_count": 95,
   "metadata": {},
   "outputs": [],
   "source": [
    "def main(model, train_loader, val_loader, test_loader, device, epochs, name):\n",
    "    optimizer = torch.optim.Adam(model.parameters(), lr=0.001)\n",
    "    scheduler = torch.optim.lr_scheduler.ReduceLROnPlateau(\n",
    "        optimizer, mode=\"min\", factor=0.5, patience=5\n",
    "    )\n",
    "    best_val_f1 = 0\n",
    "    best_epoch = 0\n",
    "    for epoch in range(1, epochs + 1):\n",
    "        loss = train(model, train_loader, optimizer, device)\n",
    "        _, train_auc, train_ap, train_f1, train_acc = compute_metrics(model, train_loader)\n",
    "        # val_loss = test(model, val_loader, device)\n",
    "        val_loss, val_auc, val_ap, val_f1, val_acc = compute_metrics(model, val_loader)\n",
    "        print(f\"Epoch: {epoch:03d}, Loss: {loss:.4f}, Val Loss: {val_loss:.4f}\\n,\\\n",
    "              Train AUC: {train_auc:.4f}, Train AP: {train_ap:.4f}, Train F1: {train_f1:.4f}, Train Acc: {train_acc:.4f}\\n,\\\n",
    "              Val AUC: {val_auc:.4f}, Val AP: {val_ap:.4f}, Val F1: {val_f1:.4f}, Val Acc: {val_acc:.4f}\")\n",
    "       \n",
    "        if val_f1 > best_val_f1:\n",
    "            best_val_f1 = val_f1\n",
    "            best_epoch = epoch\n",
    "            torch.save(model.state_dict(), f\"{name}.pt\")\n",
    "        scheduler.step(val_f1)\n",
    "    \n",
    "    model.load_state_dict(torch.load(f\"{name}.pt\"))\n",
    "    return model, best_epoch"
   ]
  },
  {
   "cell_type": "code",
   "execution_count": 96,
   "metadata": {},
   "outputs": [],
   "source": [
    "# Define seed edges:\n",
    "test_edge_label_index = test_data[\"drug\", \"to\", \"side_effect\"].edge_label_index\n",
    "test_edge_label = test_data[\"drug\", \"to\", \"side_effect\"].edge_label\n",
    "\n",
    "test_loader = LinkNeighborLoader(\n",
    "    data=test_data,\n",
    "    num_neighbors=num_neighbors,\n",
    "    edge_label_index=((\"drug\", \"to\", \"side_effect\"), test_edge_label_index),\n",
    "    edge_label=test_edge_label,\n",
    "    batch_size=batch_size,\n",
    "    shuffle=False,\n",
    ")"
   ]
  },
  {
   "cell_type": "code",
   "execution_count": 97,
   "metadata": {},
   "outputs": [
    {
     "name": "stdout",
     "output_type": "stream",
     "text": [
      "Device: 'cuda'\n"
     ]
    },
    {
     "name": "stderr",
     "output_type": "stream",
     "text": [
      "  0%|          | 0/2679 [00:00<?, ?it/s]"
     ]
    },
    {
     "name": "stderr",
     "output_type": "stream",
     "text": [
      "100%|██████████| 2679/2679 [00:33<00:00, 79.97it/s] \n",
      "100%|██████████| 2679/2679 [00:15<00:00, 170.10it/s]\n",
      "100%|██████████| 305/305 [00:01<00:00, 182.36it/s]\n"
     ]
    },
    {
     "name": "stdout",
     "output_type": "stream",
     "text": [
      "Epoch: 001, Loss: 0.1946, Val Loss: 2.2473\n",
      ",              Train AUC: 0.8691, Train AP: 0.7290, Train F1: 0.8336, Train Acc: 0.9731\n",
      ",              Val AUC: 0.5976, Val AP: 0.3860, Val F1: 0.5227, Val Acc: 0.5510\n"
     ]
    },
    {
     "name": "stderr",
     "output_type": "stream",
     "text": [
      "100%|██████████| 2679/2679 [00:33<00:00, 80.07it/s]\n",
      "100%|██████████| 2679/2679 [00:16<00:00, 157.61it/s]\n",
      "100%|██████████| 305/305 [00:01<00:00, 161.46it/s]\n"
     ]
    },
    {
     "name": "stdout",
     "output_type": "stream",
     "text": [
      "Epoch: 002, Loss: 0.1219, Val Loss: 2.6267\n",
      ",              Train AUC: 0.8763, Train AP: 0.7405, Train F1: 0.8421, Train Acc: 0.9742\n",
      ",              Val AUC: 0.5924, Val AP: 0.3824, Val F1: 0.5217, Val Acc: 0.5377\n"
     ]
    },
    {
     "name": "stderr",
     "output_type": "stream",
     "text": [
      " 14%|█▍        | 373/2679 [00:05<00:33, 68.18it/s]\n"
     ]
    },
    {
     "ename": "KeyboardInterrupt",
     "evalue": "",
     "output_type": "error",
     "traceback": [
      "\u001b[0;31m---------------------------------------------------------------------------\u001b[0m",
      "\u001b[0;31mKeyboardInterrupt\u001b[0m                         Traceback (most recent call last)",
      "\u001b[0;32m/tmp/ipykernel_986/4195918225.py\u001b[0m in \u001b[0;36m<module>\u001b[0;34m\u001b[0m\n\u001b[1;32m      9\u001b[0m \u001b[0mmodel\u001b[0m \u001b[0;34m=\u001b[0m \u001b[0mmodel\u001b[0m\u001b[0;34m.\u001b[0m\u001b[0mto\u001b[0m\u001b[0;34m(\u001b[0m\u001b[0mdevice\u001b[0m\u001b[0;34m)\u001b[0m\u001b[0;34m\u001b[0m\u001b[0;34m\u001b[0m\u001b[0m\n\u001b[1;32m     10\u001b[0m \u001b[0;34m\u001b[0m\u001b[0m\n\u001b[0;32m---> 11\u001b[0;31m \u001b[0mmain\u001b[0m\u001b[0;34m(\u001b[0m\u001b[0mmodel\u001b[0m\u001b[0;34m,\u001b[0m \u001b[0mtrain_loader\u001b[0m\u001b[0;34m,\u001b[0m \u001b[0mval_loader\u001b[0m\u001b[0;34m,\u001b[0m \u001b[0mtest_loader\u001b[0m\u001b[0;34m,\u001b[0m \u001b[0mdevice\u001b[0m\u001b[0;34m,\u001b[0m \u001b[0mepochs\u001b[0m\u001b[0;34m=\u001b[0m\u001b[0;36m20\u001b[0m\u001b[0;34m,\u001b[0m \u001b[0mname\u001b[0m\u001b[0;34m=\u001b[0m\u001b[0;34m\"bihetero_gcn_128_ng\"\u001b[0m\u001b[0;34m)\u001b[0m\u001b[0;34m\u001b[0m\u001b[0;34m\u001b[0m\u001b[0m\n\u001b[0m",
      "\u001b[0;32m/tmp/ipykernel_986/285939959.py\u001b[0m in \u001b[0;36mmain\u001b[0;34m(model, train_loader, val_loader, test_loader, device, epochs, name)\u001b[0m\n\u001b[1;32m      7\u001b[0m     \u001b[0mbest_epoch\u001b[0m \u001b[0;34m=\u001b[0m \u001b[0;36m0\u001b[0m\u001b[0;34m\u001b[0m\u001b[0;34m\u001b[0m\u001b[0m\n\u001b[1;32m      8\u001b[0m     \u001b[0;32mfor\u001b[0m \u001b[0mepoch\u001b[0m \u001b[0;32min\u001b[0m \u001b[0mrange\u001b[0m\u001b[0;34m(\u001b[0m\u001b[0;36m1\u001b[0m\u001b[0;34m,\u001b[0m \u001b[0mepochs\u001b[0m \u001b[0;34m+\u001b[0m \u001b[0;36m1\u001b[0m\u001b[0;34m)\u001b[0m\u001b[0;34m:\u001b[0m\u001b[0;34m\u001b[0m\u001b[0;34m\u001b[0m\u001b[0m\n\u001b[0;32m----> 9\u001b[0;31m         \u001b[0mloss\u001b[0m \u001b[0;34m=\u001b[0m \u001b[0mtrain\u001b[0m\u001b[0;34m(\u001b[0m\u001b[0mmodel\u001b[0m\u001b[0;34m,\u001b[0m \u001b[0mtrain_loader\u001b[0m\u001b[0;34m,\u001b[0m \u001b[0moptimizer\u001b[0m\u001b[0;34m,\u001b[0m \u001b[0mdevice\u001b[0m\u001b[0;34m)\u001b[0m\u001b[0;34m\u001b[0m\u001b[0;34m\u001b[0m\u001b[0m\n\u001b[0m\u001b[1;32m     10\u001b[0m         \u001b[0m_\u001b[0m\u001b[0;34m,\u001b[0m \u001b[0mtrain_auc\u001b[0m\u001b[0;34m,\u001b[0m \u001b[0mtrain_ap\u001b[0m\u001b[0;34m,\u001b[0m \u001b[0mtrain_f1\u001b[0m\u001b[0;34m,\u001b[0m \u001b[0mtrain_acc\u001b[0m \u001b[0;34m=\u001b[0m \u001b[0mcompute_metrics\u001b[0m\u001b[0;34m(\u001b[0m\u001b[0mmodel\u001b[0m\u001b[0;34m,\u001b[0m \u001b[0mtrain_loader\u001b[0m\u001b[0;34m)\u001b[0m\u001b[0;34m\u001b[0m\u001b[0;34m\u001b[0m\u001b[0m\n\u001b[1;32m     11\u001b[0m         \u001b[0;31m# val_loss = test(model, val_loader, device)\u001b[0m\u001b[0;34m\u001b[0m\u001b[0;34m\u001b[0m\u001b[0;34m\u001b[0m\u001b[0m\n",
      "\u001b[0;32m/tmp/ipykernel_986/3599368964.py\u001b[0m in \u001b[0;36mtrain\u001b[0;34m(model, train_loader, optimizer, device)\u001b[0m\n\u001b[1;32m      5\u001b[0m         \u001b[0mdata\u001b[0m \u001b[0;34m=\u001b[0m \u001b[0mdata\u001b[0m\u001b[0;34m.\u001b[0m\u001b[0mto\u001b[0m\u001b[0;34m(\u001b[0m\u001b[0mdevice\u001b[0m\u001b[0;34m)\u001b[0m\u001b[0;34m\u001b[0m\u001b[0;34m\u001b[0m\u001b[0m\n\u001b[1;32m      6\u001b[0m         \u001b[0moptimizer\u001b[0m\u001b[0;34m.\u001b[0m\u001b[0mzero_grad\u001b[0m\u001b[0;34m(\u001b[0m\u001b[0;34m)\u001b[0m\u001b[0;34m\u001b[0m\u001b[0;34m\u001b[0m\u001b[0m\n\u001b[0;32m----> 7\u001b[0;31m         \u001b[0mout\u001b[0m \u001b[0;34m=\u001b[0m \u001b[0mmodel\u001b[0m\u001b[0;34m(\u001b[0m\u001b[0mdata\u001b[0m\u001b[0;34m)\u001b[0m\u001b[0;34m\u001b[0m\u001b[0;34m\u001b[0m\u001b[0m\n\u001b[0m\u001b[1;32m      8\u001b[0m         \u001b[0mground_truth\u001b[0m \u001b[0;34m=\u001b[0m \u001b[0mdata\u001b[0m\u001b[0;34m[\u001b[0m\u001b[0;34m\"drug\"\u001b[0m\u001b[0;34m,\u001b[0m \u001b[0;34m\"to\"\u001b[0m\u001b[0;34m,\u001b[0m \u001b[0;34m\"side_effect\"\u001b[0m\u001b[0;34m]\u001b[0m\u001b[0;34m.\u001b[0m\u001b[0medge_label\u001b[0m\u001b[0;34m\u001b[0m\u001b[0;34m\u001b[0m\u001b[0m\n\u001b[1;32m      9\u001b[0m         \u001b[0mloss\u001b[0m \u001b[0;34m=\u001b[0m \u001b[0mF\u001b[0m\u001b[0;34m.\u001b[0m\u001b[0mbinary_cross_entropy_with_logits\u001b[0m\u001b[0;34m(\u001b[0m\u001b[0mout\u001b[0m\u001b[0;34m,\u001b[0m \u001b[0mground_truth\u001b[0m\u001b[0;34m)\u001b[0m\u001b[0;34m\u001b[0m\u001b[0;34m\u001b[0m\u001b[0m\n",
      "\u001b[0;32m~/miniconda3/envs/dsn/lib/python3.7/site-packages/torch/nn/modules/module.py\u001b[0m in \u001b[0;36m_call_impl\u001b[0;34m(self, *input, **kwargs)\u001b[0m\n\u001b[1;32m   1192\u001b[0m         if not (self._backward_hooks or self._forward_hooks or self._forward_pre_hooks or _global_backward_hooks\n\u001b[1;32m   1193\u001b[0m                 or _global_forward_hooks or _global_forward_pre_hooks):\n\u001b[0;32m-> 1194\u001b[0;31m             \u001b[0;32mreturn\u001b[0m \u001b[0mforward_call\u001b[0m\u001b[0;34m(\u001b[0m\u001b[0;34m*\u001b[0m\u001b[0minput\u001b[0m\u001b[0;34m,\u001b[0m \u001b[0;34m**\u001b[0m\u001b[0mkwargs\u001b[0m\u001b[0;34m)\u001b[0m\u001b[0;34m\u001b[0m\u001b[0;34m\u001b[0m\u001b[0m\n\u001b[0m\u001b[1;32m   1195\u001b[0m         \u001b[0;31m# Do not call functions when jit is used\u001b[0m\u001b[0;34m\u001b[0m\u001b[0;34m\u001b[0m\u001b[0;34m\u001b[0m\u001b[0m\n\u001b[1;32m   1196\u001b[0m         \u001b[0mfull_backward_hooks\u001b[0m\u001b[0;34m,\u001b[0m \u001b[0mnon_full_backward_hooks\u001b[0m \u001b[0;34m=\u001b[0m \u001b[0;34m[\u001b[0m\u001b[0;34m]\u001b[0m\u001b[0;34m,\u001b[0m \u001b[0;34m[\u001b[0m\u001b[0;34m]\u001b[0m\u001b[0;34m\u001b[0m\u001b[0;34m\u001b[0m\u001b[0m\n",
      "\u001b[0;32m/tmp/ipykernel_986/838369718.py\u001b[0m in \u001b[0;36mforward\u001b[0;34m(self, data)\u001b[0m\n\u001b[1;32m     32\u001b[0m         \u001b[0;31m# `x_dict` holds feature matrices of all node types\u001b[0m\u001b[0;34m\u001b[0m\u001b[0;34m\u001b[0m\u001b[0;34m\u001b[0m\u001b[0m\n\u001b[1;32m     33\u001b[0m         \u001b[0;31m# `edge_index_dict` holds all edge indices of all edge types\u001b[0m\u001b[0;34m\u001b[0m\u001b[0;34m\u001b[0m\u001b[0;34m\u001b[0m\u001b[0m\n\u001b[0;32m---> 34\u001b[0;31m         \u001b[0mx_dict\u001b[0m \u001b[0;34m=\u001b[0m \u001b[0mself\u001b[0m\u001b[0;34m.\u001b[0m\u001b[0mgnn\u001b[0m\u001b[0;34m(\u001b[0m\u001b[0mx_dict\u001b[0m\u001b[0;34m,\u001b[0m \u001b[0mdata\u001b[0m\u001b[0;34m.\u001b[0m\u001b[0medge_index_dict\u001b[0m\u001b[0;34m)\u001b[0m\u001b[0;34m\u001b[0m\u001b[0;34m\u001b[0m\u001b[0m\n\u001b[0m\u001b[1;32m     35\u001b[0m         pred = self.classifier(\n\u001b[1;32m     36\u001b[0m             \u001b[0mx_dict\u001b[0m\u001b[0;34m[\u001b[0m\u001b[0;34m\"drug\"\u001b[0m\u001b[0;34m]\u001b[0m\u001b[0;34m,\u001b[0m\u001b[0;34m\u001b[0m\u001b[0;34m\u001b[0m\u001b[0m\n",
      "\u001b[0;32m~/miniconda3/envs/dsn/lib/python3.7/site-packages/torch/fx/graph_module.py\u001b[0m in \u001b[0;36mcall_wrapped\u001b[0;34m(self, *args, **kwargs)\u001b[0m\n\u001b[1;32m    656\u001b[0m \u001b[0;34m\u001b[0m\u001b[0m\n\u001b[1;32m    657\u001b[0m         \u001b[0;32mdef\u001b[0m \u001b[0mcall_wrapped\u001b[0m\u001b[0;34m(\u001b[0m\u001b[0mself\u001b[0m\u001b[0;34m,\u001b[0m \u001b[0;34m*\u001b[0m\u001b[0margs\u001b[0m\u001b[0;34m,\u001b[0m \u001b[0;34m**\u001b[0m\u001b[0mkwargs\u001b[0m\u001b[0;34m)\u001b[0m\u001b[0;34m:\u001b[0m\u001b[0;34m\u001b[0m\u001b[0;34m\u001b[0m\u001b[0m\n\u001b[0;32m--> 658\u001b[0;31m             \u001b[0;32mreturn\u001b[0m \u001b[0mself\u001b[0m\u001b[0;34m.\u001b[0m\u001b[0m_wrapped_call\u001b[0m\u001b[0;34m(\u001b[0m\u001b[0mself\u001b[0m\u001b[0;34m,\u001b[0m \u001b[0;34m*\u001b[0m\u001b[0margs\u001b[0m\u001b[0;34m,\u001b[0m \u001b[0;34m**\u001b[0m\u001b[0mkwargs\u001b[0m\u001b[0;34m)\u001b[0m\u001b[0;34m\u001b[0m\u001b[0;34m\u001b[0m\u001b[0m\n\u001b[0m\u001b[1;32m    659\u001b[0m \u001b[0;34m\u001b[0m\u001b[0m\n\u001b[1;32m    660\u001b[0m         \u001b[0mcls\u001b[0m\u001b[0;34m.\u001b[0m\u001b[0m__call__\u001b[0m \u001b[0;34m=\u001b[0m \u001b[0mcall_wrapped\u001b[0m\u001b[0;34m\u001b[0m\u001b[0;34m\u001b[0m\u001b[0m\n",
      "\u001b[0;32m~/miniconda3/envs/dsn/lib/python3.7/site-packages/torch/fx/graph_module.py\u001b[0m in \u001b[0;36m__call__\u001b[0;34m(self, obj, *args, **kwargs)\u001b[0m\n\u001b[1;32m    265\u001b[0m                 \u001b[0;32mreturn\u001b[0m \u001b[0mself\u001b[0m\u001b[0;34m.\u001b[0m\u001b[0mcls_call\u001b[0m\u001b[0;34m(\u001b[0m\u001b[0mobj\u001b[0m\u001b[0;34m,\u001b[0m \u001b[0;34m*\u001b[0m\u001b[0margs\u001b[0m\u001b[0;34m,\u001b[0m \u001b[0;34m**\u001b[0m\u001b[0mkwargs\u001b[0m\u001b[0;34m)\u001b[0m\u001b[0;34m\u001b[0m\u001b[0;34m\u001b[0m\u001b[0m\n\u001b[1;32m    266\u001b[0m             \u001b[0;32melse\u001b[0m\u001b[0;34m:\u001b[0m\u001b[0;34m\u001b[0m\u001b[0;34m\u001b[0m\u001b[0m\n\u001b[0;32m--> 267\u001b[0;31m                 \u001b[0;32mreturn\u001b[0m \u001b[0msuper\u001b[0m\u001b[0;34m(\u001b[0m\u001b[0mself\u001b[0m\u001b[0;34m.\u001b[0m\u001b[0mcls\u001b[0m\u001b[0;34m,\u001b[0m \u001b[0mobj\u001b[0m\u001b[0;34m)\u001b[0m\u001b[0;34m.\u001b[0m\u001b[0m__call__\u001b[0m\u001b[0;34m(\u001b[0m\u001b[0;34m*\u001b[0m\u001b[0margs\u001b[0m\u001b[0;34m,\u001b[0m \u001b[0;34m**\u001b[0m\u001b[0mkwargs\u001b[0m\u001b[0;34m)\u001b[0m  \u001b[0;31m# type: ignore[misc]\u001b[0m\u001b[0;34m\u001b[0m\u001b[0;34m\u001b[0m\u001b[0m\n\u001b[0m\u001b[1;32m    268\u001b[0m         \u001b[0;32mexcept\u001b[0m \u001b[0mException\u001b[0m \u001b[0;32mas\u001b[0m \u001b[0me\u001b[0m\u001b[0;34m:\u001b[0m\u001b[0;34m\u001b[0m\u001b[0;34m\u001b[0m\u001b[0m\n\u001b[1;32m    269\u001b[0m             \u001b[0;32massert\u001b[0m \u001b[0me\u001b[0m\u001b[0;34m.\u001b[0m\u001b[0m__traceback__\u001b[0m\u001b[0;34m\u001b[0m\u001b[0;34m\u001b[0m\u001b[0m\n",
      "\u001b[0;32m~/miniconda3/envs/dsn/lib/python3.7/site-packages/torch/nn/modules/module.py\u001b[0m in \u001b[0;36m_call_impl\u001b[0;34m(self, *input, **kwargs)\u001b[0m\n\u001b[1;32m   1186\u001b[0m         \u001b[0;32mreturn\u001b[0m \u001b[0mresult\u001b[0m\u001b[0;34m\u001b[0m\u001b[0;34m\u001b[0m\u001b[0m\n\u001b[1;32m   1187\u001b[0m \u001b[0;34m\u001b[0m\u001b[0m\n\u001b[0;32m-> 1188\u001b[0;31m     \u001b[0;32mdef\u001b[0m \u001b[0m_call_impl\u001b[0m\u001b[0;34m(\u001b[0m\u001b[0mself\u001b[0m\u001b[0;34m,\u001b[0m \u001b[0;34m*\u001b[0m\u001b[0minput\u001b[0m\u001b[0;34m,\u001b[0m \u001b[0;34m**\u001b[0m\u001b[0mkwargs\u001b[0m\u001b[0;34m)\u001b[0m\u001b[0;34m:\u001b[0m\u001b[0;34m\u001b[0m\u001b[0;34m\u001b[0m\u001b[0m\n\u001b[0m\u001b[1;32m   1189\u001b[0m         \u001b[0mforward_call\u001b[0m \u001b[0;34m=\u001b[0m \u001b[0;34m(\u001b[0m\u001b[0mself\u001b[0m\u001b[0;34m.\u001b[0m\u001b[0m_slow_forward\u001b[0m \u001b[0;32mif\u001b[0m \u001b[0mtorch\u001b[0m\u001b[0;34m.\u001b[0m\u001b[0m_C\u001b[0m\u001b[0;34m.\u001b[0m\u001b[0m_get_tracing_state\u001b[0m\u001b[0;34m(\u001b[0m\u001b[0;34m)\u001b[0m \u001b[0;32melse\u001b[0m \u001b[0mself\u001b[0m\u001b[0;34m.\u001b[0m\u001b[0mforward\u001b[0m\u001b[0;34m)\u001b[0m\u001b[0;34m\u001b[0m\u001b[0;34m\u001b[0m\u001b[0m\n\u001b[1;32m   1190\u001b[0m         \u001b[0;31m# If we don't have any hooks, we want to skip the rest of the logic in\u001b[0m\u001b[0;34m\u001b[0m\u001b[0;34m\u001b[0m\u001b[0;34m\u001b[0m\u001b[0m\n",
      "\u001b[0;31mKeyboardInterrupt\u001b[0m: "
     ]
    }
   ],
   "source": [
    "import tqdm\n",
    "\n",
    "model = Model(hidden_channels=128, use_node_features=True)\n",
    "\n",
    "\n",
    "device = torch.device('cuda' if torch.cuda.is_available() else 'cpu')\n",
    "print(f\"Device: '{device}'\")\n",
    "\n",
    "model = model.to(device)\n",
    "\n",
    "main(model, train_loader, val_loader, test_loader, device, epochs=20, name=\"bihetero_gcn_128_ng\")"
   ]
  },
  {
   "cell_type": "code",
   "execution_count": 85,
   "metadata": {},
   "outputs": [
    {
     "name": "stderr",
     "output_type": "stream",
     "text": [
      "100%|██████████| 153/153 [00:01<00:00, 152.15it/s]"
     ]
    },
    {
     "name": "stdout",
     "output_type": "stream",
     "text": [
      "\n",
      "Validation AUC: 0.7773\n",
      "Validation AP: 0.6204\n",
      "Validation F1: 0.7064\n",
      "Validation Accuracy: 0.8204\n",
      "Validation precission: 0.6204\n",
      "Validation recall: 0.6479\n"
     ]
    },
    {
     "name": "stderr",
     "output_type": "stream",
     "text": [
      "\n"
     ]
    },
    {
     "data": {
      "text/plain": [
       "(0.41528839774438403,\n",
       " 0.7773007316134001,\n",
       " 0.620392648586629,\n",
       " 0.7063515385584147,\n",
       " 0.8204338339109228)"
      ]
     },
     "execution_count": 85,
     "metadata": {},
     "output_type": "execute_result"
    }
   ],
   "source": [
    "compute_metrics(model, test_loader, debug=True)"
   ]
  },
  {
   "cell_type": "code",
   "execution_count": 86,
   "metadata": {},
   "outputs": [
    {
     "name": "stdout",
     "output_type": "stream",
     "text": [
      "Device: 'cuda'\n"
     ]
    },
    {
     "name": "stderr",
     "output_type": "stream",
     "text": [
      "  0%|          | 0/122 [00:00<?, ?it/s]"
     ]
    },
    {
     "name": "stderr",
     "output_type": "stream",
     "text": [
      "100%|██████████| 122/122 [00:01<00:00, 87.96it/s]\n",
      "100%|██████████| 122/122 [00:00<00:00, 138.64it/s]\n",
      "100%|██████████| 153/153 [00:00<00:00, 214.35it/s]\n"
     ]
    },
    {
     "name": "stdout",
     "output_type": "stream",
     "text": [
      "Epoch: 001, Loss: 0.7671, Val Loss: 0.5308\n",
      ",              Train AUC: 0.7099, Train AP: 0.5253, Train F1: 0.6071, Train Acc: 0.7650\n",
      ",              Val AUC: 0.6912, Val AP: 0.5077, Val F1: 0.5758, Val Acc: 0.7558\n"
     ]
    },
    {
     "name": "stderr",
     "output_type": "stream",
     "text": [
      "100%|██████████| 122/122 [00:01<00:00, 70.70it/s]\n",
      "100%|██████████| 122/122 [00:00<00:00, 175.90it/s]\n",
      "100%|██████████| 153/153 [00:00<00:00, 228.60it/s]\n"
     ]
    },
    {
     "name": "stdout",
     "output_type": "stream",
     "text": [
      "Epoch: 002, Loss: 0.4740, Val Loss: 0.4510\n",
      ",              Train AUC: 0.7818, Train AP: 0.5966, Train F1: 0.7086, Train Acc: 0.8035\n",
      ",              Val AUC: 0.7603, Val AP: 0.5774, Val F1: 0.6809, Val Acc: 0.7938\n"
     ]
    },
    {
     "name": "stderr",
     "output_type": "stream",
     "text": [
      "100%|██████████| 122/122 [00:01<00:00, 63.04it/s]\n",
      "100%|██████████| 122/122 [00:00<00:00, 168.93it/s]\n",
      "100%|██████████| 153/153 [00:00<00:00, 190.62it/s]\n"
     ]
    },
    {
     "name": "stdout",
     "output_type": "stream",
     "text": [
      "Epoch: 003, Loss: 0.4296, Val Loss: 0.4428\n",
      ",              Train AUC: 0.7722, Train AP: 0.6087, Train F1: 0.6986, Train Acc: 0.8138\n",
      ",              Val AUC: 0.7468, Val AP: 0.5873, Val F1: 0.6618, Val Acc: 0.8027\n"
     ]
    },
    {
     "name": "stderr",
     "output_type": "stream",
     "text": [
      "100%|██████████| 122/122 [00:01<00:00, 72.01it/s]\n",
      "100%|██████████| 122/122 [00:00<00:00, 180.45it/s]\n",
      "100%|██████████| 153/153 [00:01<00:00, 101.16it/s]\n"
     ]
    },
    {
     "name": "stdout",
     "output_type": "stream",
     "text": [
      "Epoch: 004, Loss: 0.4072, Val Loss: 0.4331\n",
      ",              Train AUC: 0.7828, Train AP: 0.6226, Train F1: 0.7135, Train Acc: 0.8215\n",
      ",              Val AUC: 0.7560, Val AP: 0.6004, Val F1: 0.6758, Val Acc: 0.8098\n"
     ]
    },
    {
     "name": "stderr",
     "output_type": "stream",
     "text": [
      "100%|██████████| 122/122 [00:02<00:00, 60.56it/s]\n",
      "100%|██████████| 122/122 [00:00<00:00, 197.08it/s]\n",
      "100%|██████████| 153/153 [00:00<00:00, 217.40it/s]\n"
     ]
    },
    {
     "name": "stdout",
     "output_type": "stream",
     "text": [
      "Epoch: 005, Loss: 0.3921, Val Loss: 0.4134\n",
      ",              Train AUC: 0.8300, Train AP: 0.6539, Train F1: 0.7676, Train Acc: 0.8363\n",
      ",              Val AUC: 0.7946, Val AP: 0.6209, Val F1: 0.7266, Val Acc: 0.8191\n"
     ]
    },
    {
     "name": "stderr",
     "output_type": "stream",
     "text": [
      "100%|██████████| 122/122 [00:01<00:00, 93.86it/s]\n",
      "100%|██████████| 122/122 [00:00<00:00, 196.27it/s]\n",
      "100%|██████████| 153/153 [00:00<00:00, 220.30it/s]\n"
     ]
    },
    {
     "name": "stdout",
     "output_type": "stream",
     "text": [
      "Epoch: 006, Loss: 0.3831, Val Loss: 0.4268\n",
      ",              Train AUC: 0.8166, Train AP: 0.6548, Train F1: 0.7561, Train Acc: 0.8386\n",
      ",              Val AUC: 0.7702, Val AP: 0.6090, Val F1: 0.6961, Val Acc: 0.8141\n"
     ]
    },
    {
     "name": "stderr",
     "output_type": "stream",
     "text": [
      "100%|██████████| 122/122 [00:01<00:00, 91.32it/s]\n",
      "100%|██████████| 122/122 [00:00<00:00, 208.99it/s]\n",
      "100%|██████████| 153/153 [00:00<00:00, 216.62it/s]\n"
     ]
    },
    {
     "name": "stdout",
     "output_type": "stream",
     "text": [
      "Epoch: 007, Loss: 0.3765, Val Loss: 0.4171\n",
      ",              Train AUC: 0.8223, Train AP: 0.6618, Train F1: 0.7632, Train Acc: 0.8424\n",
      ",              Val AUC: 0.7804, Val AP: 0.6246, Val F1: 0.7108, Val Acc: 0.8227\n"
     ]
    },
    {
     "name": "stderr",
     "output_type": "stream",
     "text": [
      "100%|██████████| 122/122 [00:01<00:00, 95.83it/s]\n",
      "100%|██████████| 122/122 [00:00<00:00, 199.53it/s]\n",
      "100%|██████████| 153/153 [00:00<00:00, 228.26it/s]\n"
     ]
    },
    {
     "name": "stdout",
     "output_type": "stream",
     "text": [
      "Epoch: 008, Loss: 0.3359, Val Loss: 0.4027\n",
      ",              Train AUC: 0.8370, Train AP: 0.6892, Train F1: 0.7839, Train Acc: 0.8574\n",
      ",              Val AUC: 0.7799, Val AP: 0.6333, Val F1: 0.7112, Val Acc: 0.8273\n"
     ]
    },
    {
     "name": "stderr",
     "output_type": "stream",
     "text": [
      "100%|██████████| 122/122 [00:01<00:00, 108.92it/s]\n",
      "100%|██████████| 122/122 [00:00<00:00, 224.78it/s]\n",
      "100%|██████████| 153/153 [00:00<00:00, 227.61it/s]\n"
     ]
    },
    {
     "name": "stdout",
     "output_type": "stream",
     "text": [
      "Epoch: 009, Loss: 0.3250, Val Loss: 0.4093\n",
      ",              Train AUC: 0.8442, Train AP: 0.6991, Train F1: 0.7929, Train Acc: 0.8627\n",
      ",              Val AUC: 0.7771, Val AP: 0.6293, Val F1: 0.7070, Val Acc: 0.8252\n"
     ]
    },
    {
     "name": "stderr",
     "output_type": "stream",
     "text": [
      "100%|██████████| 122/122 [00:01<00:00, 97.15it/s] \n",
      "100%|██████████| 122/122 [00:00<00:00, 210.14it/s]\n",
      "100%|██████████| 153/153 [00:00<00:00, 240.57it/s]\n"
     ]
    },
    {
     "name": "stdout",
     "output_type": "stream",
     "text": [
      "Epoch: 010, Loss: 0.3184, Val Loss: 0.4042\n",
      ",              Train AUC: 0.8600, Train AP: 0.7047, Train F1: 0.8070, Train Acc: 0.8655\n",
      ",              Val AUC: 0.7938, Val AP: 0.6377, Val F1: 0.7287, Val Acc: 0.8297\n"
     ]
    },
    {
     "name": "stderr",
     "output_type": "stream",
     "text": [
      "100%|██████████| 122/122 [00:01<00:00, 99.14it/s] \n",
      "100%|██████████| 122/122 [00:00<00:00, 233.07it/s]\n",
      "100%|██████████| 153/153 [00:00<00:00, 232.94it/s]\n"
     ]
    },
    {
     "name": "stdout",
     "output_type": "stream",
     "text": [
      "Epoch: 011, Loss: 0.3172, Val Loss: 0.4235\n",
      ",              Train AUC: 0.8491, Train AP: 0.7010, Train F1: 0.7975, Train Acc: 0.8637\n",
      ",              Val AUC: 0.7788, Val AP: 0.6292, Val F1: 0.7092, Val Acc: 0.8252\n"
     ]
    },
    {
     "name": "stderr",
     "output_type": "stream",
     "text": [
      "100%|██████████| 122/122 [00:01<00:00, 106.04it/s]\n",
      "100%|██████████| 122/122 [00:00<00:00, 228.42it/s]\n",
      "100%|██████████| 153/153 [00:00<00:00, 235.70it/s]\n"
     ]
    },
    {
     "name": "stdout",
     "output_type": "stream",
     "text": [
      "Epoch: 012, Loss: 0.3124, Val Loss: 0.4132\n",
      ",              Train AUC: 0.8687, Train AP: 0.7192, Train F1: 0.8183, Train Acc: 0.8735\n",
      ",              Val AUC: 0.7885, Val AP: 0.6327, Val F1: 0.7218, Val Acc: 0.8270\n"
     ]
    },
    {
     "name": "stderr",
     "output_type": "stream",
     "text": [
      "100%|██████████| 122/122 [00:01<00:00, 101.56it/s]\n",
      "100%|██████████| 122/122 [00:01<00:00, 120.89it/s]\n",
      "100%|██████████| 153/153 [00:01<00:00, 121.67it/s]\n"
     ]
    },
    {
     "name": "stdout",
     "output_type": "stream",
     "text": [
      "Epoch: 013, Loss: 0.3100, Val Loss: 0.4266\n",
      ",              Train AUC: 0.8630, Train AP: 0.7195, Train F1: 0.8143, Train Acc: 0.8736\n",
      ",              Val AUC: 0.7784, Val AP: 0.6280, Val F1: 0.7086, Val Acc: 0.8246\n"
     ]
    },
    {
     "name": "stderr",
     "output_type": "stream",
     "text": [
      "100%|██████████| 122/122 [00:01<00:00, 70.64it/s]\n",
      "100%|██████████| 122/122 [00:00<00:00, 170.07it/s]\n",
      "100%|██████████| 153/153 [00:00<00:00, 228.39it/s]\n"
     ]
    },
    {
     "name": "stdout",
     "output_type": "stream",
     "text": [
      "Epoch: 014, Loss: 0.2901, Val Loss: 0.4164\n",
      ",              Train AUC: 0.8745, Train AP: 0.7355, Train F1: 0.8280, Train Acc: 0.8820\n",
      ",              Val AUC: 0.7834, Val AP: 0.6371, Val F1: 0.7161, Val Acc: 0.8293\n"
     ]
    },
    {
     "name": "stderr",
     "output_type": "stream",
     "text": [
      "100%|██████████| 122/122 [00:01<00:00, 98.94it/s] \n",
      "100%|██████████| 122/122 [00:00<00:00, 186.48it/s]\n",
      "100%|██████████| 153/153 [00:01<00:00, 92.51it/s]\n"
     ]
    },
    {
     "name": "stdout",
     "output_type": "stream",
     "text": [
      "Epoch: 015, Loss: 0.2824, Val Loss: 0.4192\n",
      ",              Train AUC: 0.8770, Train AP: 0.7407, Train F1: 0.8315, Train Acc: 0.8847\n",
      ",              Val AUC: 0.7823, Val AP: 0.6385, Val F1: 0.7149, Val Acc: 0.8300\n"
     ]
    },
    {
     "name": "stderr",
     "output_type": "stream",
     "text": [
      "100%|██████████| 122/122 [00:02<00:00, 56.28it/s]\n",
      "100%|██████████| 122/122 [00:00<00:00, 129.97it/s]\n",
      "100%|██████████| 153/153 [00:01<00:00, 100.28it/s]\n"
     ]
    },
    {
     "name": "stdout",
     "output_type": "stream",
     "text": [
      "Epoch: 016, Loss: 0.2782, Val Loss: 0.4390\n",
      ",              Train AUC: 0.8688, Train AP: 0.7362, Train F1: 0.8242, Train Acc: 0.8821\n",
      ",              Val AUC: 0.7697, Val AP: 0.6280, Val F1: 0.6968, Val Acc: 0.8242\n"
     ]
    },
    {
     "name": "stderr",
     "output_type": "stream",
     "text": [
      "100%|██████████| 122/122 [00:01<00:00, 69.17it/s]\n",
      "100%|██████████| 122/122 [00:00<00:00, 151.81it/s]\n",
      "100%|██████████| 153/153 [00:00<00:00, 217.19it/s]\n"
     ]
    },
    {
     "name": "stdout",
     "output_type": "stream",
     "text": [
      "Epoch: 017, Loss: 0.2761, Val Loss: 0.4225\n",
      ",              Train AUC: 0.8862, Train AP: 0.7508, Train F1: 0.8414, Train Acc: 0.8901\n",
      ",              Val AUC: 0.7833, Val AP: 0.6382, Val F1: 0.7161, Val Acc: 0.8299\n"
     ]
    },
    {
     "name": "stderr",
     "output_type": "stream",
     "text": [
      "100%|██████████| 122/122 [00:01<00:00, 98.16it/s] \n",
      "100%|██████████| 122/122 [00:00<00:00, 201.14it/s]\n",
      "100%|██████████| 153/153 [00:00<00:00, 197.69it/s]\n"
     ]
    },
    {
     "name": "stdout",
     "output_type": "stream",
     "text": [
      "Epoch: 018, Loss: 0.2724, Val Loss: 0.4250\n",
      ",              Train AUC: 0.8893, Train AP: 0.7542, Train F1: 0.8447, Train Acc: 0.8919\n",
      ",              Val AUC: 0.7829, Val AP: 0.6370, Val F1: 0.7154, Val Acc: 0.8293\n"
     ]
    },
    {
     "name": "stderr",
     "output_type": "stream",
     "text": [
      "100%|██████████| 122/122 [00:01<00:00, 93.54it/s]\n",
      "100%|██████████| 122/122 [00:00<00:00, 189.48it/s]\n",
      "100%|██████████| 153/153 [00:00<00:00, 158.48it/s]\n"
     ]
    },
    {
     "name": "stdout",
     "output_type": "stream",
     "text": [
      "Epoch: 019, Loss: 0.2697, Val Loss: 0.4584\n",
      ",              Train AUC: 0.8719, Train AP: 0.7443, Train F1: 0.8291, Train Acc: 0.8860\n",
      ",              Val AUC: 0.7574, Val AP: 0.6166, Val F1: 0.6782, Val Acc: 0.8180\n"
     ]
    },
    {
     "name": "stderr",
     "output_type": "stream",
     "text": [
      "100%|██████████| 122/122 [00:01<00:00, 85.17it/s]\n",
      "100%|██████████| 122/122 [00:00<00:00, 150.32it/s]\n",
      "100%|██████████| 153/153 [00:00<00:00, 196.09it/s]\n"
     ]
    },
    {
     "name": "stdout",
     "output_type": "stream",
     "text": [
      "Epoch: 020, Loss: 0.2601, Val Loss: 0.4363\n",
      ",              Train AUC: 0.8923, Train AP: 0.7624, Train F1: 0.8496, Train Acc: 0.8960\n",
      ",              Val AUC: 0.7760, Val AP: 0.6323, Val F1: 0.7059, Val Acc: 0.8266\n"
     ]
    },
    {
     "data": {
      "text/plain": [
       "(Model(\n",
       "   (drug_emb): Embedding(1326, 128)\n",
       "   (seff_emb): Embedding(2061, 128)\n",
       "   (gnn): GraphModule(\n",
       "     (conv1): ModuleDict(\n",
       "       (drug__to__side_effect): SAGEConv(128, 128, aggr=mean)\n",
       "       (side_effect__rev_to__drug): SAGEConv(128, 128, aggr=mean)\n",
       "     )\n",
       "     (lin1): ModuleDict(\n",
       "       (drug): Linear(in_features=128, out_features=128, bias=True)\n",
       "       (side_effect): Linear(in_features=128, out_features=128, bias=True)\n",
       "     )\n",
       "     (conv2): ModuleDict(\n",
       "       (drug__to__side_effect): SAGEConv(128, 128, aggr=mean)\n",
       "       (side_effect__rev_to__drug): SAGEConv(128, 128, aggr=mean)\n",
       "     )\n",
       "     (lin2): ModuleDict(\n",
       "       (drug): Linear(in_features=128, out_features=128, bias=True)\n",
       "       (side_effect): Linear(in_features=128, out_features=128, bias=True)\n",
       "     )\n",
       "   )\n",
       "   (drug_feat_layernorm): LayerNorm((7,), eps=1e-05, elementwise_affine=True)\n",
       "   (drug_lin): Linear(in_features=7, out_features=128, bias=True)\n",
       "   (classifier): Classifier()\n",
       " ),\n",
       " 10)"
      ]
     },
     "execution_count": 86,
     "metadata": {},
     "output_type": "execute_result"
    }
   ],
   "source": [
    "model = Model(hidden_channels=128, use_node_features=True)\n",
    "\n",
    "device = torch.device('cuda' if torch.cuda.is_available() else 'cpu')\n",
    "print(f\"Device: '{device}'\")\n",
    "\n",
    "model = model.to(device)\n",
    "\n",
    "main(model, train_loader, val_loader, test_loader, device, epochs=20, name=\"bihetero_nfeat_gcn_128\")"
   ]
  },
  {
   "cell_type": "code",
   "execution_count": 67,
   "metadata": {},
   "outputs": [
    {
     "name": "stderr",
     "output_type": "stream",
     "text": [
      "100%|██████████| 102/102 [00:02<00:00, 37.73it/s]"
     ]
    },
    {
     "name": "stdout",
     "output_type": "stream",
     "text": [
      "\n",
      "Validation AUC: 0.8034\n",
      "Validation AP: 0.6425\n",
      "Validation F1: 0.7401\n",
      "Validation Accuracy: 0.8321\n",
      "Validation precission: 0.6425\n",
      "Validation recall: 0.7173\n"
     ]
    },
    {
     "name": "stderr",
     "output_type": "stream",
     "text": [
      "\n"
     ]
    },
    {
     "data": {
      "text/plain": [
       "(0.39617568284537086,\n",
       " 0.8033692722371969,\n",
       " 0.6425201916692382,\n",
       " 0.7400874056416369,\n",
       " 0.8320626363753049)"
      ]
     },
     "execution_count": 67,
     "metadata": {},
     "output_type": "execute_result"
    }
   ],
   "source": [
    "compute_metrics(model, test_loader, debug=True)"
   ]
  },
  {
   "cell_type": "code",
   "execution_count": 87,
   "metadata": {},
   "outputs": [
    {
     "name": "stderr",
     "output_type": "stream",
     "text": [
      "100%|██████████| 153/153 [00:01<00:00, 139.40it/s]"
     ]
    },
    {
     "name": "stdout",
     "output_type": "stream",
     "text": [
      "\n",
      "Validation AUC: 0.7896\n",
      "Validation AP: 0.6335\n",
      "Validation F1: 0.7231\n",
      "Validation Accuracy: 0.8275\n",
      "Validation precission: 0.6335\n",
      "Validation recall: 0.6759\n"
     ]
    },
    {
     "name": "stderr",
     "output_type": "stream",
     "text": [
      "\n"
     ]
    },
    {
     "data": {
      "text/plain": [
       "(0.4104251137044185,\n",
       " 0.7895841355410089,\n",
       " 0.6335022093467297,\n",
       " 0.7231307929969104,\n",
       " 0.8274675908099088)"
      ]
     },
     "execution_count": 87,
     "metadata": {},
     "output_type": "execute_result"
    }
   ],
   "source": [
    "compute_metrics(model, test_loader, debug=True)"
   ]
  }
 ],
 "metadata": {
  "kernelspec": {
   "display_name": "dsn",
   "language": "python",
   "name": "python3"
  },
  "language_info": {
   "codemirror_mode": {
    "name": "ipython",
    "version": 3
   },
   "file_extension": ".py",
   "mimetype": "text/x-python",
   "name": "python",
   "nbconvert_exporter": "python",
   "pygments_lexer": "ipython3",
   "version": "3.7.7"
  },
  "orig_nbformat": 4
 },
 "nbformat": 4,
 "nbformat_minor": 2
}
