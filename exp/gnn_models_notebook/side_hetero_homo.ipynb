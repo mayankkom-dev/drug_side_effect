{
 "cells": [
  {
   "attachments": {},
   "cell_type": "markdown",
   "metadata": {},
   "source": [
    "### Imports"
   ]
  },
  {
   "cell_type": "code",
   "execution_count": 88,
   "metadata": {},
   "outputs": [],
   "source": [
    "import pandas as pd\n",
    "import torch\n",
    "import numpy as np\n",
    "import torch\n",
    "import torch_geometric.datasets as datasets\n",
    "import torch_geometric.data as data\n",
    "import torch_geometric.transforms as transforms\n",
    "import networkx as nx\n",
    "from torch_geometric.utils.convert import to_networkx\n",
    "from torch_geometric.data import HeteroData\n",
    "import torch_geometric.transforms as T\n",
    "from sklearn.preprocessing import MinMaxScaler\n",
    "# set max num of rows and cols to display\n",
    "pd.set_option('display.max_rows', 1000)\n",
    "pd.set_option('display.max_columns', 1000)"
   ]
  },
  {
   "attachments": {},
   "cell_type": "markdown",
   "metadata": {},
   "source": [
    "### Read Pre-processed Drug-Side-Effect List "
   ]
  },
  {
   "cell_type": "code",
   "execution_count": 89,
   "metadata": {},
   "outputs": [
    {
     "data": {
      "text/html": [
       "<div>\n",
       "<style scoped>\n",
       "    .dataframe tbody tr th:only-of-type {\n",
       "        vertical-align: middle;\n",
       "    }\n",
       "\n",
       "    .dataframe tbody tr th {\n",
       "        vertical-align: top;\n",
       "    }\n",
       "\n",
       "    .dataframe thead th {\n",
       "        text-align: right;\n",
       "    }\n",
       "</style>\n",
       "<table border=\"1\" class=\"dataframe\">\n",
       "  <thead>\n",
       "    <tr style=\"text-align: right;\">\n",
       "      <th></th>\n",
       "      <th>STITCH ID STEREO</th>\n",
       "      <th>MEDRA TERM UMLS CONCEPT ID</th>\n",
       "      <th>se_count</th>\n",
       "      <th>cid</th>\n",
       "      <th>mw</th>\n",
       "      <th>mf</th>\n",
       "      <th>polararea</th>\n",
       "      <th>complexity</th>\n",
       "      <th>xlogp</th>\n",
       "      <th>heavycnt</th>\n",
       "      <th>hbonddonor</th>\n",
       "      <th>hbondacc</th>\n",
       "      <th>rotbonds</th>\n",
       "      <th>inchi</th>\n",
       "      <th>isosmiles</th>\n",
       "      <th>canonicalsmiles</th>\n",
       "      <th>inchikey</th>\n",
       "      <th>iupacname</th>\n",
       "      <th>exactmass</th>\n",
       "      <th>monoisotopicmass</th>\n",
       "      <th>charge</th>\n",
       "      <th>covalentunitcnt</th>\n",
       "      <th>isotopeatomcnt</th>\n",
       "      <th>totalatomstereocnt</th>\n",
       "      <th>definedatomstereocnt</th>\n",
       "      <th>undefinedatomstereocnt</th>\n",
       "      <th>totalbondstereocnt</th>\n",
       "      <th>definedbondstereocnt</th>\n",
       "      <th>undefinedbondstereocnt</th>\n",
       "      <th>pclidcnt</th>\n",
       "      <th>gpidcnt</th>\n",
       "      <th>gpfamilycnt</th>\n",
       "      <th>neighbortype</th>\n",
       "      <th>meshheadings</th>\n",
       "      <th>annothits</th>\n",
       "      <th>annothitcnt</th>\n",
       "      <th>aids</th>\n",
       "      <th>cidcdate</th>\n",
       "      <th>sidsrcname</th>\n",
       "      <th>depcatg</th>\n",
       "      <th>annotation</th>\n",
       "    </tr>\n",
       "  </thead>\n",
       "  <tbody>\n",
       "    <tr>\n",
       "      <th>0</th>\n",
       "      <td>CID000000119</td>\n",
       "      <td>['C0151828', 'C0030193', 'C0042109', 'C0002994...</td>\n",
       "      <td>5</td>\n",
       "      <td>119</td>\n",
       "      <td>103.12</td>\n",
       "      <td>C4H9NO2</td>\n",
       "      <td>63.3</td>\n",
       "      <td>62.7</td>\n",
       "      <td>-3.2</td>\n",
       "      <td>7</td>\n",
       "      <td>2</td>\n",
       "      <td>3</td>\n",
       "      <td>3</td>\n",
       "      <td>InChI=1S/C4H9NO2/c5-3-1-2-4(6)7/h1-3,5H2,(H,6,7)</td>\n",
       "      <td>C(CC(=O)O)CN</td>\n",
       "      <td>C(CC(=O)O)CN</td>\n",
       "      <td>BTCSSZJGUNDROE-UHFFFAOYSA-N</td>\n",
       "      <td>4-aminobutanoic acid</td>\n",
       "      <td>103.063</td>\n",
       "      <td>103.063</td>\n",
       "      <td>0</td>\n",
       "      <td>1</td>\n",
       "      <td>0</td>\n",
       "      <td>0</td>\n",
       "      <td>0</td>\n",
       "      <td>0</td>\n",
       "      <td>0</td>\n",
       "      <td>0</td>\n",
       "      <td>0</td>\n",
       "      <td>82230</td>\n",
       "      <td>34891</td>\n",
       "      <td>13769</td>\n",
       "      <td>2D+3D</td>\n",
       "      <td>gamma-Aminobutyric Acid</td>\n",
       "      <td>Biological Test Results|Chemical and Physical ...</td>\n",
       "      <td>15</td>\n",
       "      <td>155|157|161|165|167|175|190|248|328|357|410|41...</td>\n",
       "      <td>20040916</td>\n",
       "      <td>001Chemical|3B Scientific (Wuhan) Corp|3WAY PH...</td>\n",
       "      <td>Chemical Vendors|Curation Efforts|Governmental...</td>\n",
       "      <td>COVID-19, COVID19, Coronavirus, Corona-virus, ...</td>\n",
       "    </tr>\n",
       "  </tbody>\n",
       "</table>\n",
       "</div>"
      ],
      "text/plain": [
       "  STITCH ID STEREO                         MEDRA TERM UMLS CONCEPT ID  \\\n",
       "0     CID000000119  ['C0151828', 'C0030193', 'C0042109', 'C0002994...   \n",
       "\n",
       "   se_count  cid      mw       mf  polararea  complexity  xlogp  heavycnt  \\\n",
       "0         5  119  103.12  C4H9NO2       63.3        62.7   -3.2         7   \n",
       "\n",
       "   hbonddonor  hbondacc  rotbonds  \\\n",
       "0           2         3         3   \n",
       "\n",
       "                                              inchi     isosmiles  \\\n",
       "0  InChI=1S/C4H9NO2/c5-3-1-2-4(6)7/h1-3,5H2,(H,6,7)  C(CC(=O)O)CN   \n",
       "\n",
       "  canonicalsmiles                     inchikey             iupacname  \\\n",
       "0    C(CC(=O)O)CN  BTCSSZJGUNDROE-UHFFFAOYSA-N  4-aminobutanoic acid   \n",
       "\n",
       "   exactmass  monoisotopicmass  charge  covalentunitcnt  isotopeatomcnt  \\\n",
       "0    103.063           103.063       0                1               0   \n",
       "\n",
       "   totalatomstereocnt  definedatomstereocnt  undefinedatomstereocnt  \\\n",
       "0                   0                     0                       0   \n",
       "\n",
       "   totalbondstereocnt  definedbondstereocnt  undefinedbondstereocnt  pclidcnt  \\\n",
       "0                   0                     0                       0     82230   \n",
       "\n",
       "   gpidcnt  gpfamilycnt neighbortype             meshheadings  \\\n",
       "0    34891        13769        2D+3D  gamma-Aminobutyric Acid   \n",
       "\n",
       "                                           annothits  annothitcnt  \\\n",
       "0  Biological Test Results|Chemical and Physical ...           15   \n",
       "\n",
       "                                                aids  cidcdate  \\\n",
       "0  155|157|161|165|167|175|190|248|328|357|410|41...  20040916   \n",
       "\n",
       "                                          sidsrcname  \\\n",
       "0  001Chemical|3B Scientific (Wuhan) Corp|3WAY PH...   \n",
       "\n",
       "                                             depcatg  \\\n",
       "0  Chemical Vendors|Curation Efforts|Governmental...   \n",
       "\n",
       "                                          annotation  \n",
       "0  COVID-19, COVID19, Coronavirus, Corona-virus, ...  "
      ]
     },
     "execution_count": 89,
     "metadata": {},
     "output_type": "execute_result"
    }
   ],
   "source": [
    "df_all_se = pd.read_csv('prep_data/drug_all_se_pubchem.csv')\n",
    "df_all_se.head(1)"
   ]
  },
  {
   "cell_type": "code",
   "execution_count": 90,
   "metadata": {},
   "outputs": [
    {
     "data": {
      "text/plain": [
       "Index(['STITCH ID STEREO', 'MEDRA TERM UMLS CONCEPT ID', 'se_count', 'cid',\n",
       "       'mw', 'mf', 'polararea', 'complexity', 'xlogp', 'heavycnt',\n",
       "       'hbonddonor', 'hbondacc', 'rotbonds', 'inchi', 'isosmiles',\n",
       "       'canonicalsmiles', 'inchikey', 'iupacname', 'exactmass',\n",
       "       'monoisotopicmass', 'charge', 'covalentunitcnt', 'isotopeatomcnt',\n",
       "       'totalatomstereocnt', 'definedatomstereocnt', 'undefinedatomstereocnt',\n",
       "       'totalbondstereocnt', 'definedbondstereocnt', 'undefinedbondstereocnt',\n",
       "       'pclidcnt', 'gpidcnt', 'gpfamilycnt', 'neighbortype', 'meshheadings',\n",
       "       'annothits', 'annothitcnt', 'aids', 'cidcdate', 'sidsrcname', 'depcatg',\n",
       "       'annotation'],\n",
       "      dtype='object')"
      ]
     },
     "execution_count": 90,
     "metadata": {},
     "output_type": "execute_result"
    }
   ],
   "source": [
    "df_all_se.columns"
   ]
  },
  {
   "cell_type": "code",
   "execution_count": 91,
   "metadata": {},
   "outputs": [],
   "source": [
    "drug_pub_prop_cols = [ 'mw', 'polararea', 'complexity','heavycnt',\n",
    "       'hbonddonor', 'hbondacc', 'rotbonds']"
   ]
  },
  {
   "cell_type": "code",
   "execution_count": 92,
   "metadata": {},
   "outputs": [
    {
     "data": {
      "text/plain": [
       "mw            0\n",
       "polararea     0\n",
       "complexity    0\n",
       "heavycnt      0\n",
       "hbonddonor    0\n",
       "hbondacc      0\n",
       "rotbonds      0\n",
       "dtype: int64"
      ]
     },
     "execution_count": 92,
     "metadata": {},
     "output_type": "execute_result"
    }
   ],
   "source": [
    "df_all_se[drug_pub_prop_cols].isnull().sum()"
   ]
  },
  {
   "attachments": {},
   "cell_type": "markdown",
   "metadata": {},
   "source": [
    "### Create Transformation Mapping for drug and side-effect"
   ]
  },
  {
   "cell_type": "code",
   "execution_count": 93,
   "metadata": {},
   "outputs": [],
   "source": [
    "STITCH_TO_ID_DICT = {id: idx for idx, id in enumerate(df_all_se['STITCH ID STEREO'])}\n",
    "ID_TO_STITCH_DICT = {v: k for k, v in STITCH_TO_ID_DICT.items()}"
   ]
  },
  {
   "cell_type": "code",
   "execution_count": 94,
   "metadata": {},
   "outputs": [],
   "source": [
    "STITCHID_TO_PUBPPROP_DICT = {idx: _ for idx, (stid, _) in enumerate(zip(df_all_se['STITCH ID STEREO'], df_all_se[drug_pub_prop_cols].values))}\n"
   ]
  },
  {
   "cell_type": "code",
   "execution_count": 95,
   "metadata": {},
   "outputs": [],
   "source": [
    "# Create a flattened list of unique meddra term concept id\n",
    "column_list = df_all_se['MEDRA TERM UMLS CONCEPT ID'].tolist()\n",
    "unique_values = list(set([item for sublist in column_list for item in eval(sublist)]))\n",
    "unique_values.sort()\n",
    "MEDRAID_TO_ID_DICT = {id: idx for idx, id in enumerate(unique_values)}\n",
    "ID_TO_MEDRAID_DICT = {v: k for k, v in MEDRAID_TO_ID_DICT.items()}"
   ]
  },
  {
   "cell_type": "code",
   "execution_count": 96,
   "metadata": {},
   "outputs": [],
   "source": [
    "# assert if df stitch id stereo is unique\n",
    "assert len(df_all_se['STITCH ID STEREO'].unique()) == len(df_all_se['STITCH ID STEREO'])"
   ]
  },
  {
   "attachments": {},
   "cell_type": "markdown",
   "metadata": {},
   "source": [
    "### Create HeteroData"
   ]
  },
  {
   "cell_type": "code",
   "execution_count": 97,
   "metadata": {},
   "outputs": [],
   "source": [
    "useMinMaxScaler = True"
   ]
  },
  {
   "cell_type": "code",
   "execution_count": 98,
   "metadata": {},
   "outputs": [
    {
     "name": "stdout",
     "output_type": "stream",
     "text": [
      "Before torch.Size([1326, 7])\n",
      "After MinMax (1326, 7)\n",
      "Final: UseMinMax True torch.Size([1326, 7])\n"
     ]
    }
   ],
   "source": [
    "drug_node_features = torch.stack([torch.tensor(_, dtype=torch.float) for _ in df_all_se[drug_pub_prop_cols].values])\n",
    "if useMinMaxScaler:\n",
    "    scaler = MinMaxScaler()\n",
    "    print(\"Before\", drug_node_features.shape)\n",
    "    drug_node_features = scaler.fit_transform(drug_node_features)\n",
    "    print('After MinMax', drug_node_features.shape)\n",
    "    drug_node_features = torch.tensor(drug_node_features, dtype=torch.float)\n",
    "print(\"Final: UseMinMax\", useMinMaxScaler, drug_node_features.shape)\n",
    "# # Create a dictionary of node features\n",
    "# drug_node_features = torch.tensor(np.zeros((len(df_all_se['STITCH ID STEREO']),881)))\n",
    "# side_effect_node_features = torch.tensor(np.zeros((len(unique_values),881)))\n",
    "\n",
    "\n",
    "# print('drug_nodes', drug_node_features.shape)\n",
    "# print('side_effect_nodes', side_effect_node_features.shape)"
   ]
  },
  {
   "cell_type": "code",
   "execution_count": 99,
   "metadata": {},
   "outputs": [
    {
     "name": "stdout",
     "output_type": "stream",
     "text": [
      "edge_index torch.Size([2, 129851])\n",
      "edge_index tensor([[   0,    0,    0,  ..., 1325, 1325, 1325],\n",
      "        [1091,  657,  889,  ...,  673,    2,  837]])\n"
     ]
    }
   ],
   "source": [
    "# create edge index for drug-side effect from multi-label column_list\n",
    "edge_index = []\n",
    "for idx, row in df_all_se.iterrows():\n",
    "    for se in eval(row['MEDRA TERM UMLS CONCEPT ID']):\n",
    "        edge_index.append([STITCH_TO_ID_DICT[row['STITCH ID STEREO']], MEDRAID_TO_ID_DICT[se]])\n",
    "edge_index = torch.tensor(edge_index).T\n",
    "\n",
    "# print('side_effect_node_features', side_effect_node_features.shape)\n",
    "print('edge_index', edge_index.shape)\n",
    "print('edge_index', edge_index)"
   ]
  },
  {
   "cell_type": "code",
   "execution_count": 100,
   "metadata": {},
   "outputs": [],
   "source": [
    "# # sanity check\n",
    "# df_all_se.head(1)"
   ]
  },
  {
   "cell_type": "code",
   "execution_count": 101,
   "metadata": {},
   "outputs": [],
   "source": [
    "# STITCH_TO_ID_DICT['CID000000119']"
   ]
  },
  {
   "cell_type": "code",
   "execution_count": 102,
   "metadata": {},
   "outputs": [],
   "source": [
    "# MEDRAID_TO_ID_DICT['C0151828'], MEDRAID_TO_ID_DICT['C0030193'], MEDRAID_TO_ID_DICT['C0042109'], MEDRAID_TO_ID_DICT['C0002994']"
   ]
  },
  {
   "cell_type": "code",
   "execution_count": 103,
   "metadata": {},
   "outputs": [
    {
     "name": "stdout",
     "output_type": "stream",
     "text": [
      "HeteroData(\n",
      "  \u001b[1mdrug\u001b[0m={\n",
      "    node_id=[1326],\n",
      "    x=[1326, 7]\n",
      "  },\n",
      "  \u001b[1mside_effect\u001b[0m={ node_id=[2061] },\n",
      "  \u001b[1m(drug, to, side_effect)\u001b[0m={ edge_index=[2, 129851] }\n",
      ")\n"
     ]
    }
   ],
   "source": [
    "# Create a heterograph with 2 types of nodes: drug and side effect\n",
    "data = HeteroData()\n",
    "\n",
    "# Add nodes\n",
    "data['drug'].node_id = torch.arange(drug_node_features.shape[0])\n",
    "data['side_effect'].node_id = torch.arange(len(unique_values))\n",
    "\n",
    "# Add node features\n",
    "data['drug'].x = drug_node_features\n",
    "\n",
    "# Add edges\n",
    "data['drug', 'side_effect'].edge_index = edge_index\n",
    "\n",
    "print(data)"
   ]
  },
  {
   "attachments": {},
   "cell_type": "markdown",
   "metadata": {},
   "source": [
    "### Hetero Data Viz"
   ]
  },
  {
   "cell_type": "code",
   "execution_count": 104,
   "metadata": {},
   "outputs": [],
   "source": [
    "# # Full Graph View\n",
    "# import networkx as nx\n",
    "# import matplotlib.pyplot as plt\n",
    "# import torch\n",
    "# from torch_geometric.data import HeteroData\n",
    "\n",
    "\n",
    "# # Convert heterograph to NetworkX graph\n",
    "# graph = nx.Graph()\n",
    "\n",
    "# # Add nodes to the NetworkX graph with unique IDs for each node type\n",
    "# drug_nodes = data['drug'].node_id.numpy()\n",
    "# side_effect_nodes = data['side_effect'].node_id.numpy()\n",
    "\n",
    "# drug_nodes_unique = [f\"drug_{node_id}\" for node_id in drug_nodes]\n",
    "# side_effect_nodes_unique = [f\"side_effect_{node_id}\" for node_id in side_effect_nodes]\n",
    "\n",
    "# # Add nodes to the NetworkX graph\n",
    "# graph.add_nodes_from(drug_nodes_unique, node_type='drug')\n",
    "# graph.add_nodes_from(side_effect_nodes_unique, node_type='side_effect')\n",
    "\n",
    "# # Add edges to the NetworkX graph\n",
    "# drug_edges = data['drug', 'side_effect'].edge_index\n",
    "# for i in range(drug_edges.shape[1]):\n",
    "#     source = drug_edges[0, i].item()\n",
    "#     target = drug_edges[1, i].item()\n",
    "#     source_id = f\"drug_{source}\"\n",
    "#     target_id = f\"side_effect_{target}\"\n",
    "#     graph.add_edge(source_id, target_id)\n",
    "\n",
    "# # Visualize the graph using NetworkX\n",
    "# pos = nx.spring_layout(graph)  # Compute node positions\n",
    "\n",
    "# # Separate nodes by type for different visualization colors\n",
    "# drug_nodes = [n for n, d in graph.nodes(data=True) if d['node_type'] == 'drug']\n",
    "# side_effect_nodes = [n for n, d in graph.nodes(data=True) if d['node_type'] == 'side_effect']\n",
    "\n",
    "# # Draw nodes with different colors based on type\n",
    "# nx.draw_networkx_nodes(graph, pos, nodelist=drug_nodes, node_color='blue', label='Drug Nodes')\n",
    "# nx.draw_networkx_nodes(graph, pos, nodelist=side_effect_nodes, node_color='red', label='Side Effect Nodes')\n",
    "\n",
    "# # Draw edges\n",
    "# nx.draw_networkx_edges(graph, pos)\n",
    "\n",
    "# # Draw node labels\n",
    "# node_labels = {n: str(n) for n in graph.nodes()}\n",
    "# nx.draw_networkx_labels(graph, pos, labels=node_labels)\n",
    "\n",
    "# # Display the graph\n",
    "# plt.axis('off')\n",
    "# plt.legend()\n",
    "# plt.show()"
   ]
  },
  {
   "cell_type": "code",
   "execution_count": 105,
   "metadata": {},
   "outputs": [],
   "source": [
    "# # Plot random number of edges and all associated nodes\n",
    "# import networkx as nx\n",
    "# import matplotlib.pyplot as plt\n",
    "# import torch\n",
    "# import random\n",
    "# from torch_geometric.data import HeteroData\n",
    "\n",
    "# # Convert heterograph to NetworkX graph\n",
    "# graph = nx.Graph()\n",
    "\n",
    "# # Define the number of random edges you want to visualize\n",
    "# num_random_edges = 10\n",
    "\n",
    "# # Randomly select a subset of edges\n",
    "# random_edge_indices = random.sample(range(data['drug', 'side_effect'].edge_index.shape[1]), num_random_edges)\n",
    "\n",
    "# # Add nodes to the NetworkX graph with unique IDs for each node type\n",
    "# drug_nodes = data['drug'].node_id.numpy()\n",
    "# side_effect_nodes = data['side_effect'].node_id.numpy()\n",
    "\n",
    "# # sample drug_nodes to have only nodes within random_edge_indices\n",
    "# drug_nodes = np.unique(data['drug', 'side_effect'].edge_index[0, random_edge_indices].numpy())\n",
    "# side_effect_nodes = np.unique(data['drug', 'side_effect'].edge_index[1, random_edge_indices].numpy())\n",
    "\n",
    "\n",
    "# drug_nodes_unique = [f\"drug_{node_id}\" for node_id in drug_nodes]\n",
    "# side_effect_nodes_unique = [f\"side_effect_{node_id}\" for node_id in side_effect_nodes]\n",
    "\n",
    "# # Add nodes to the NetworkX graph\n",
    "# graph.add_nodes_from(drug_nodes_unique, node_type='drug')\n",
    "# graph.add_nodes_from(side_effect_nodes_unique, node_type='side_effect')\n",
    "\n",
    "# # Add edges to the NetworkX graph\n",
    "# drug_edges = data['drug', 'side_effect'].edge_index[:, random_edge_indices]\n",
    "# for i in range(drug_edges.shape[1]):\n",
    "#     source = drug_edges[0, i].item()\n",
    "#     target = drug_edges[1, i].item()\n",
    "#     source_id = f\"drug_{source}\"\n",
    "#     target_id = f\"side_effect_{target}\"\n",
    "#     graph.add_edge(source_id, target_id)\n",
    "\n",
    "# # Visualize the graph using NetworkX\n",
    "# pos = nx.spring_layout(graph)  # Compute node positions\n",
    "\n",
    "# # Separate nodes by type for different visualization colors\n",
    "# drug_nodes = [n for n, d in graph.nodes(data=True) if d['node_type'] == 'drug']\n",
    "# side_effect_nodes = [n for n, d in graph.nodes(data=True) if d['node_type'] == 'side_effect']\n",
    "\n",
    "# # Draw nodes with different colors based on type\n",
    "# nx.draw_networkx_nodes(graph, pos, nodelist=drug_nodes, node_color='blue', label='Drug Nodes')\n",
    "# nx.draw_networkx_nodes(graph, pos, nodelist=side_effect_nodes, node_color='red', label='Side Effect Nodes')\n",
    "\n",
    "# # Draw edges\n",
    "# nx.draw_networkx_edges(graph, pos)\n",
    "\n",
    "# # Draw node labels\n",
    "# node_labels = {n: str(n) for n in graph.nodes()}\n",
    "# nx.draw_networkx_labels(graph, pos, labels=node_labels)\n",
    "\n",
    "# # Display the graph\n",
    "# plt.axis('off')\n",
    "# plt.legend()\n",
    "# plt.show()\n"
   ]
  },
  {
   "cell_type": "code",
   "execution_count": 106,
   "metadata": {},
   "outputs": [
    {
     "data": {
      "image/png": "[encoded data removed]",
      "text/plain": [
       "<Figure size 1000x1000 with 1 Axes>"
      ]
     },
     "metadata": {},
     "output_type": "display_data"
    }
   ],
   "source": [
    "# plot for selected list of drug_id and all associated side effects\n",
    "import networkx as nx\n",
    "import matplotlib.pyplot as plt\n",
    "import torch\n",
    "import random\n",
    "from torch_geometric.data import HeteroData, Data\n",
    "\n",
    "# Convert heterograph to NetworkX graph\n",
    "graph = nx.Graph()\n",
    "\n",
    "# list of drug_id to visualize all its associated side effects\n",
    "drug_id_list = [0, 2, 3]\n",
    "\n",
    "# associated possible unique side effects using edge_index when drug_id is in drug_id_list\n",
    "side_effect_nodes = np.unique(data['drug', 'side_effect'].edge_index[1, np.isin(data['drug', 'side_effect'].edge_index[0], drug_id_list)].numpy())\n",
    "\n",
    "# filter out edges that are between drug_id_list and side_effect_nodes\n",
    "drug_edges = data['drug', 'side_effect'].edge_index[:, np.isin(data['drug', 'side_effect'].edge_index[0], drug_id_list) & np.isin(data['drug', 'side_effect'].edge_index[1], side_effect_nodes)]\n",
    "\n",
    "drug_nodes_unique = [f\"drug_{node_id}\" for node_id in drug_id_list]\n",
    "side_effect_nodes_unique = [f\"side_effect_{node_id}\" for node_id in side_effect_nodes]\n",
    "\n",
    "# Add nodes to the NetworkX graph\n",
    "graph.add_nodes_from(drug_nodes_unique, node_type='drug')\n",
    "graph.add_nodes_from(side_effect_nodes_unique, node_type='side_effect')\n",
    "\n",
    "# Add edges to the NetworkX graph\n",
    "for i in range(drug_edges.shape[1]):\n",
    "    source = drug_edges[0, i].item()\n",
    "    target = drug_edges[1, i].item()\n",
    "    source_id = f\"drug_{source}\"\n",
    "    target_id = f\"side_effect_{target}\"\n",
    "    graph.add_edge(source_id, target_id)\n",
    "\n",
    "# Visualize the graph using NetworkX\n",
    "# pos = nx.spring_layout(graph, seed=1)  # Compute node positions\n",
    "pos = nx.bipartite_layout(graph, drug_nodes_unique, align='vertical', scale=5)  # Compute node positions\n",
    "# Separate nodes by type for different visualization colors\n",
    "drug_nodes = [n for n, d in graph.nodes(data=True) if d['node_type'] == 'drug']\n",
    "side_effect_nodes = [n for n, d in graph.nodes(data=True) if d['node_type'] == 'side_effect']\n",
    "\n",
    "# Draw nodes with different colors based on type\n",
    "nx.draw_networkx_nodes(graph, pos, nodelist=drug_nodes, node_color='blue', label='Drug Nodes', cmap=plt.cm.Blues)\n",
    "nx.draw_networkx_nodes(graph, pos, nodelist=side_effect_nodes, node_color='red', label='Side Effect Nodes', cmap=plt.cm.Reds)\n",
    "\n",
    "# Draw edges with different colors based on type\n",
    "\n",
    "nx.draw_networkx_edges(graph, pos, edge_color='black', width=1.0, alpha=0.5)\n",
    "\n",
    "# Draw edges\n",
    "# nx.draw_networkx_edges(graph, pos)\n",
    "\n",
    "# Draw node labels\n",
    "node_labels = {n: str(n) for n in graph.nodes()}\n",
    "nx.draw_networkx_labels(graph, pos, labels=node_labels)\n",
    "\n",
    "# Display the graph\n",
    "plt.axis('off')\n",
    "# increase figure size\n",
    "plt.gcf().set_size_inches(10, 10)\n",
    "# position legend to the right of the graph\n",
    "plt.legend(loc='upper left', bbox_to_anchor=(1, 1))\n",
    "plt.title('Drug-Side Effect Network')\n",
    "plt.show()\n"
   ]
  },
  {
   "cell_type": "code",
   "execution_count": 107,
   "metadata": {},
   "outputs": [],
   "source": [
    "# graph.nodes()\n",
    "# # link a map to most common drug_name and side_effect_name"
   ]
  },
  {
   "attachments": {},
   "cell_type": "markdown",
   "metadata": {},
   "source": [
    "### Convert Hetero to Homo Data"
   ]
  },
  {
   "cell_type": "code",
   "execution_count": 108,
   "metadata": {},
   "outputs": [
    {
     "name": "stdout",
     "output_type": "stream",
     "text": [
      "HeteroData(\n",
      "  \u001b[1mdrug\u001b[0m={\n",
      "    node_id=[1326],\n",
      "    x=[1326, 7]\n",
      "  },\n",
      "  \u001b[1mside_effect\u001b[0m={ node_id=[2061] },\n",
      "  \u001b[1m(drug, to, side_effect)\u001b[0m={ edge_index=[2, 129851] }\n",
      ")\n"
     ]
    }
   ],
   "source": [
    "print(data)"
   ]
  },
  {
   "cell_type": "code",
   "execution_count": 109,
   "metadata": {},
   "outputs": [],
   "source": [
    "# Convert hererograph to homogeneous graph\n",
    "data_homogeneous = data.to_homogeneous()"
   ]
  },
  {
   "cell_type": "code",
   "execution_count": 110,
   "metadata": {},
   "outputs": [
    {
     "data": {
      "text/plain": [
       "Data(edge_index=[2, 129851], node_id=[3387], x=[3387, 7], node_type=[3387], edge_type=[129851])"
      ]
     },
     "execution_count": 110,
     "metadata": {},
     "output_type": "execute_result"
    }
   ],
   "source": [
    "data_homogeneous"
   ]
  },
  {
   "cell_type": "code",
   "execution_count": 111,
   "metadata": {},
   "outputs": [
    {
     "data": {
      "text/plain": [
       "tensor([[   0,    0,    0,  ..., 1325, 1325, 1325],\n",
       "        [2417, 1983, 2215,  ..., 1999, 1328, 2163]])"
      ]
     },
     "execution_count": 111,
     "metadata": {},
     "output_type": "execute_result"
    }
   ],
   "source": [
    "data_homogeneous.edge_index"
   ]
  },
  {
   "cell_type": "code",
   "execution_count": 112,
   "metadata": {},
   "outputs": [
    {
     "data": {
      "text/plain": [
       "tensor([0, 0, 0,  ..., 1, 1, 1])"
      ]
     },
     "execution_count": 112,
     "metadata": {},
     "output_type": "execute_result"
    }
   ],
   "source": [
    "data_homogeneous.node_type"
   ]
  },
  {
   "attachments": {},
   "cell_type": "markdown",
   "metadata": {},
   "source": [
    "### Homo Link Prediction task"
   ]
  },
  {
   "cell_type": "code",
   "execution_count": 113,
   "metadata": {},
   "outputs": [
    {
     "data": {
      "text/plain": [
       "Data(edge_index=[2, 129851], node_id=[3387], x=[3387, 7], node_type=[3387], edge_type=[129851])"
      ]
     },
     "execution_count": 113,
     "metadata": {},
     "output_type": "execute_result"
    }
   ],
   "source": [
    "data_homogeneous"
   ]
  },
  {
   "cell_type": "code",
   "execution_count": 114,
   "metadata": {},
   "outputs": [],
   "source": [
    "import torch_geometric.transforms as T\n",
    "# We also need to make sure to add the reverse edges from movies to users\n",
    "# in order to let a GNN be able to pass messages in both directions.\n",
    "# We can leverage the `T.ToUndirected()` transform for this from PyG:\n",
    "data_homogeneous = T.ToUndirected()(data_homogeneous)"
   ]
  },
  {
   "cell_type": "code",
   "execution_count": 115,
   "metadata": {},
   "outputs": [
    {
     "data": {
      "text/plain": [
       "Data(edge_index=[2, 259702], node_id=[3387], x=[3387, 7], node_type=[3387], edge_type=[259702])"
      ]
     },
     "execution_count": 115,
     "metadata": {},
     "output_type": "execute_result"
    }
   ],
   "source": [
    "data_homogeneous"
   ]
  },
  {
   "attachments": {},
   "cell_type": "markdown",
   "metadata": {},
   "source": [
    "### Define Edge level Train Split"
   ]
  },
  {
   "cell_type": "code",
   "execution_count": 116,
   "metadata": {},
   "outputs": [
    {
     "name": "stdout",
     "output_type": "stream",
     "text": [
      "Training data:\n",
      "==============\n",
      "Data(edge_index=[2, 145434], node_id=[3387], x=[3387, 7], node_type=[3387], edge_type=[145434], edge_label=[62328], edge_label_index=[2, 62328])\n",
      "\n",
      "Validation data:\n",
      "================\n",
      "Data(edge_index=[2, 207762], node_id=[3387], x=[3387, 7], node_type=[3387], edge_type=[207762], edge_label=[77910], edge_label_index=[2, 77910])\n"
     ]
    }
   ],
   "source": [
    "# For this, we first split the set of edges into\n",
    "# training (80%), validation (10%), and testing edges (10%).\n",
    "# Across the training edges, we use 70% of edges for message passing,\n",
    "# and 30% of edges for supervision.\n",
    "# We further want to generate fixed negative edges for evaluation with a ratio of 2:1.\n",
    "# Negative edges during training will be generated on-the-fly.\n",
    "# We can leverage the `RandomLinkSplit()` transform for this from PyG:\n",
    "transform = T.RandomLinkSplit(\n",
    "    num_val=0.1,\n",
    "    num_test=0.1,\n",
    "    disjoint_train_ratio=0.3,\n",
    "    neg_sampling_ratio=2.0,\n",
    "    add_negative_train_samples=False\n",
    ")\n",
    "\n",
    "train_data, val_data, test_data = transform(data_homogeneous)\n",
    "print(\"Training data:\")\n",
    "print(\"==============\")\n",
    "print(train_data)\n",
    "print()\n",
    "print(\"Validation data:\")\n",
    "print(\"================\")\n",
    "print(val_data)"
   ]
  },
  {
   "attachments": {},
   "cell_type": "markdown",
   "metadata": {},
   "source": [
    "### Define Mini-batch Loader"
   ]
  },
  {
   "cell_type": "code",
   "execution_count": 117,
   "metadata": {},
   "outputs": [
    {
     "data": {
      "text/plain": [
       "(torch.Size([62328]), tensor(62328.))"
      ]
     },
     "execution_count": 117,
     "metadata": {},
     "output_type": "execute_result"
    }
   ],
   "source": [
    "train_data.edge_label.shape, train_data.edge_label.sum()"
   ]
  },
  {
   "cell_type": "code",
   "execution_count": 118,
   "metadata": {},
   "outputs": [],
   "source": [
    "# !pip install pyg-lib -f https://data.pyg.org/whl/torch-1.12.1+cu117.html"
   ]
  },
  {
   "cell_type": "code",
   "execution_count": 119,
   "metadata": {},
   "outputs": [
    {
     "name": "stdout",
     "output_type": "stream",
     "text": [
      "Sampled mini-batch:\n",
      "===================\n",
      "Data(edge_index=[2, 22381], node_id=[2729], x=[2729, 7], node_type=[2729], edge_type=[22381], edge_label=[384], edge_label_index=[2, 384], n_id=[2729], e_id=[22381], input_id=[128])\n"
     ]
    },
    {
     "name": "stderr",
     "output_type": "stream",
     "text": [
      "/home/mayank/miniconda3/envs/dsn/lib/python3.7/site-packages/torch_geometric/sampler/neighbor_sampler.py:50: UserWarning: Using '{self.__class__.__name__}' without a 'pyg-lib' installation is deprecated and will be removed soon. Please install 'pyg-lib' for accelerated neighborhood sampling\n",
      "  warnings.warn(\"Using '{self.__class__.__name__}' without a \"\n"
     ]
    }
   ],
   "source": [
    "# In the first hop, we sample at most 20 neighbors.\n",
    "# In the second hop, we sample at most 10 neighbors.\n",
    "# In addition, during training, we want to sample negative edges on-the-fly with\n",
    "# a ratio of 2:1.\n",
    "# We can make use of the `loader.LinkNeighborLoader` from PyG:\n",
    "from torch_geometric.loader.link_neighbor_loader import LinkNeighborLoader\n",
    "\n",
    "# Define seed edges:\n",
    "edge_label_index = train_data.edge_label_index\n",
    "edge_label = train_data.edge_label\n",
    "\n",
    "train_loader = LinkNeighborLoader(\n",
    "    data=train_data,\n",
    "    num_neighbors=[15, 10],\n",
    "    neg_sampling_ratio=2.0,\n",
    "    edge_label_index=edge_label_index,\n",
    "    edge_label=edge_label,\n",
    "    batch_size=128,\n",
    "    shuffle=True,\n",
    ")\n",
    "\n",
    "# Inspect a sample:\n",
    "sampled_data = next(iter(train_loader))\n",
    "\n",
    "print(\"Sampled mini-batch:\")\n",
    "print(\"===================\")\n",
    "print(sampled_data)\n"
   ]
  },
  {
   "attachments": {},
   "cell_type": "markdown",
   "metadata": {},
   "source": [
    "### Creating a Homogenous Link-level GNN"
   ]
  },
  {
   "cell_type": "code",
   "execution_count": 120,
   "metadata": {},
   "outputs": [
    {
     "data": {
      "text/plain": [
       "2729"
      ]
     },
     "execution_count": 120,
     "metadata": {},
     "output_type": "execute_result"
    }
   ],
   "source": [
    "sampled_data.num_nodes"
   ]
  },
  {
   "cell_type": "code",
   "execution_count": 121,
   "metadata": {},
   "outputs": [],
   "source": [
    "from torch_geometric.nn import SAGEConv\n",
    "import torch.nn.functional as F\n",
    "from torch import Tensor\n",
    "\n",
    "\n",
    "class GNN(torch.nn.Module):\n",
    "    def __init__(self, hidden_channels):\n",
    "        super().__init__()\n",
    "\n",
    "        self.conv1 = SAGEConv(hidden_channels, hidden_channels)\n",
    "        self.lin1 = torch.nn.Linear(hidden_channels, hidden_channels)\n",
    "        self.conv2 = SAGEConv(hidden_channels, hidden_channels)\n",
    "        self.lin2 = torch.nn.Linear(hidden_channels, hidden_channels)\n",
    "        \n",
    "    def forward(self, x: Tensor, edge_index: Tensor) -> Tensor:\n",
    "        x = F.elu(self.conv1(x, edge_index)+self.lin1(x))\n",
    "        x = self.conv2(x, edge_index) + self.lin2(x)\n",
    "        return x"
   ]
  },
  {
   "cell_type": "code",
   "execution_count": 122,
   "metadata": {},
   "outputs": [],
   "source": [
    "# Our final classifier applies the dot-product between source and destination\n",
    "# node embeddings to derive edge-level predictions:\n",
    "class Classifier(torch.nn.Module):\n",
    "    def forward(self, x: Tensor, edge_label_index: Tensor) -> Tensor:\n",
    "        # Convert node embeddings to edge-level representations:\n",
    "        edge_feat_drug = x[edge_label_index[0]]\n",
    "        edge_feat_seff = x[edge_label_index[1]]\n",
    "\n",
    "        # Apply dot-product to get a prediction per supervision edge:\n",
    "        return (edge_feat_drug * edge_feat_seff).sum(dim=-1)"
   ]
  },
  {
   "cell_type": "code",
   "execution_count": 123,
   "metadata": {},
   "outputs": [
    {
     "data": {
      "text/plain": [
       "Data(edge_index=[2, 259702], node_id=[3387], x=[3387, 7], node_type=[3387], edge_type=[259702])"
      ]
     },
     "execution_count": 123,
     "metadata": {},
     "output_type": "execute_result"
    }
   ],
   "source": [
    "data_homogeneous"
   ]
  },
  {
   "cell_type": "code",
   "execution_count": 124,
   "metadata": {},
   "outputs": [
    {
     "data": {
      "text/plain": [
       "Model(\n",
       "  (node_emb): Embedding(3387, 256)\n",
       "  (gnn): GNN(\n",
       "    (conv1): SAGEConv(256, 256, aggr=mean)\n",
       "    (lin1): Linear(in_features=256, out_features=256, bias=True)\n",
       "    (conv2): SAGEConv(256, 256, aggr=mean)\n",
       "    (lin2): Linear(in_features=256, out_features=256, bias=True)\n",
       "  )\n",
       "  (classifier): Classifier()\n",
       ")"
      ]
     },
     "execution_count": 124,
     "metadata": {},
     "output_type": "execute_result"
    }
   ],
   "source": [
    "# Homegenous Model for Edge Prediction\n",
    "class Model(torch.nn.Module):\n",
    "    def __init__(self, hidden_channels):\n",
    "        super().__init__()\n",
    "        # Instantiate node embeddings:\n",
    "        self.node_emb = torch.nn.Embedding(data_homogeneous.num_nodes, hidden_channels)\n",
    "        # Instantiate GNNs:\n",
    "        self.gnn = GNN(hidden_channels)\n",
    "        # Instantiate classifier:\n",
    "        self.classifier = Classifier() \n",
    "\n",
    "    def forward(self, x_data: Data) -> Tensor:\n",
    "        x = self.node_emb(x_data.node_id)\n",
    "        # Apply GNN:\n",
    "        x = self.gnn(x, x_data.edge_index)\n",
    "        # Apply classifier:\n",
    "        x = self.classifier(x, x_data.edge_label_index)\n",
    "        return x\n",
    "        \n",
    "model = Model(hidden_channels=256)\n",
    "model"
   ]
  },
  {
   "attachments": {},
   "cell_type": "markdown",
   "metadata": {},
   "source": [
    "### Train the homogenous model"
   ]
  },
  {
   "cell_type": "code",
   "execution_count": 36,
   "metadata": {},
   "outputs": [
    {
     "name": "stdout",
     "output_type": "stream",
     "text": [
      "Device: 'cuda'\n"
     ]
    },
    {
     "name": "stderr",
     "output_type": "stream",
     "text": [
      "100%|██████████| 487/487 [00:13<00:00, 35.79it/s]\n"
     ]
    },
    {
     "name": "stdout",
     "output_type": "stream",
     "text": [
      "Epoch: 001, Loss: 1.1102\n"
     ]
    },
    {
     "name": "stderr",
     "output_type": "stream",
     "text": [
      "100%|██████████| 487/487 [00:13<00:00, 35.91it/s]\n"
     ]
    },
    {
     "name": "stdout",
     "output_type": "stream",
     "text": [
      "Epoch: 002, Loss: 0.7269\n"
     ]
    },
    {
     "name": "stderr",
     "output_type": "stream",
     "text": [
      "100%|██████████| 487/487 [00:13<00:00, 36.99it/s]\n"
     ]
    },
    {
     "name": "stdout",
     "output_type": "stream",
     "text": [
      "Epoch: 003, Loss: 0.7050\n"
     ]
    },
    {
     "name": "stderr",
     "output_type": "stream",
     "text": [
      "100%|██████████| 487/487 [00:13<00:00, 35.72it/s]\n"
     ]
    },
    {
     "name": "stdout",
     "output_type": "stream",
     "text": [
      "Epoch: 004, Loss: 0.6939\n"
     ]
    },
    {
     "name": "stderr",
     "output_type": "stream",
     "text": [
      "100%|██████████| 487/487 [00:12<00:00, 38.61it/s]\n"
     ]
    },
    {
     "name": "stdout",
     "output_type": "stream",
     "text": [
      "Epoch: 005, Loss: 0.6869\n"
     ]
    },
    {
     "name": "stderr",
     "output_type": "stream",
     "text": [
      "100%|██████████| 487/487 [00:12<00:00, 38.87it/s]\n"
     ]
    },
    {
     "name": "stdout",
     "output_type": "stream",
     "text": [
      "Epoch: 006, Loss: 0.6816\n"
     ]
    },
    {
     "name": "stderr",
     "output_type": "stream",
     "text": [
      "100%|██████████| 487/487 [00:12<00:00, 39.27it/s]\n"
     ]
    },
    {
     "name": "stdout",
     "output_type": "stream",
     "text": [
      "Epoch: 007, Loss: 0.6787\n"
     ]
    },
    {
     "name": "stderr",
     "output_type": "stream",
     "text": [
      "100%|██████████| 487/487 [00:12<00:00, 39.39it/s]\n"
     ]
    },
    {
     "name": "stdout",
     "output_type": "stream",
     "text": [
      "Epoch: 008, Loss: 0.6756\n"
     ]
    },
    {
     "name": "stderr",
     "output_type": "stream",
     "text": [
      "100%|██████████| 487/487 [00:13<00:00, 36.31it/s]\n"
     ]
    },
    {
     "name": "stdout",
     "output_type": "stream",
     "text": [
      "Epoch: 009, Loss: 0.6735\n"
     ]
    },
    {
     "name": "stderr",
     "output_type": "stream",
     "text": [
      "100%|██████████| 487/487 [00:12<00:00, 37.81it/s]\n"
     ]
    },
    {
     "name": "stdout",
     "output_type": "stream",
     "text": [
      "Epoch: 010, Loss: 0.6707\n"
     ]
    },
    {
     "name": "stderr",
     "output_type": "stream",
     "text": [
      "100%|██████████| 487/487 [00:14<00:00, 32.77it/s]\n"
     ]
    },
    {
     "name": "stdout",
     "output_type": "stream",
     "text": [
      "Epoch: 011, Loss: 0.6710\n"
     ]
    },
    {
     "name": "stderr",
     "output_type": "stream",
     "text": [
      "100%|██████████| 487/487 [00:13<00:00, 35.21it/s]\n"
     ]
    },
    {
     "name": "stdout",
     "output_type": "stream",
     "text": [
      "Epoch: 012, Loss: 0.6698\n"
     ]
    },
    {
     "name": "stderr",
     "output_type": "stream",
     "text": [
      "100%|██████████| 487/487 [00:14<00:00, 33.15it/s]\n"
     ]
    },
    {
     "name": "stdout",
     "output_type": "stream",
     "text": [
      "Epoch: 013, Loss: 0.6698\n"
     ]
    },
    {
     "name": "stderr",
     "output_type": "stream",
     "text": [
      "100%|██████████| 487/487 [00:14<00:00, 33.65it/s]\n"
     ]
    },
    {
     "name": "stdout",
     "output_type": "stream",
     "text": [
      "Epoch: 014, Loss: 0.6692\n"
     ]
    },
    {
     "name": "stderr",
     "output_type": "stream",
     "text": [
      "100%|██████████| 487/487 [00:12<00:00, 38.42it/s]\n"
     ]
    },
    {
     "name": "stdout",
     "output_type": "stream",
     "text": [
      "Epoch: 015, Loss: 0.6653\n"
     ]
    },
    {
     "name": "stderr",
     "output_type": "stream",
     "text": [
      "100%|██████████| 487/487 [00:12<00:00, 39.07it/s]\n"
     ]
    },
    {
     "name": "stdout",
     "output_type": "stream",
     "text": [
      "Epoch: 016, Loss: 0.6647\n"
     ]
    },
    {
     "name": "stderr",
     "output_type": "stream",
     "text": [
      "100%|██████████| 487/487 [00:12<00:00, 38.98it/s]\n"
     ]
    },
    {
     "name": "stdout",
     "output_type": "stream",
     "text": [
      "Epoch: 017, Loss: 0.6648\n"
     ]
    },
    {
     "name": "stderr",
     "output_type": "stream",
     "text": [
      "100%|██████████| 487/487 [00:12<00:00, 39.23it/s]\n"
     ]
    },
    {
     "name": "stdout",
     "output_type": "stream",
     "text": [
      "Epoch: 018, Loss: 0.6637\n"
     ]
    },
    {
     "name": "stderr",
     "output_type": "stream",
     "text": [
      "100%|██████████| 487/487 [00:12<00:00, 39.27it/s]\n"
     ]
    },
    {
     "name": "stdout",
     "output_type": "stream",
     "text": [
      "Epoch: 019, Loss: 0.6636\n"
     ]
    },
    {
     "name": "stderr",
     "output_type": "stream",
     "text": [
      "100%|██████████| 487/487 [00:12<00:00, 39.30it/s]"
     ]
    },
    {
     "name": "stdout",
     "output_type": "stream",
     "text": [
      "Epoch: 020, Loss: 0.6625\n"
     ]
    },
    {
     "name": "stderr",
     "output_type": "stream",
     "text": [
      "\n"
     ]
    }
   ],
   "source": [
    "import tqdm\n",
    "import torch.nn.functional as F\n",
    "\n",
    "device = torch.device('cuda' if torch.cuda.is_available() else 'cpu')\n",
    "print(f\"Device: '{device}'\")\n",
    "\n",
    "model = model.to(device)\n",
    "optimizer = torch.optim.Adam(model.parameters(), lr=0.001)\n",
    "\n",
    "for epoch in range(1, 21):\n",
    "    total_loss = total_examples = 0\n",
    "    for sampled_data in tqdm.tqdm(train_loader):\n",
    "        optimizer.zero_grad()\n",
    "\n",
    "        sampled_data.to(device)\n",
    "        pred = model(sampled_data)\n",
    "\n",
    "        ground_truth = sampled_data.edge_label\n",
    "        loss = F.binary_cross_entropy_with_logits(pred, ground_truth)\n",
    "\n",
    "        loss.backward()\n",
    "        optimizer.step()\n",
    "        total_loss += float(loss) * pred.numel()\n",
    "        total_examples += pred.numel()\n",
    "    print(f\"Epoch: {epoch:03d}, Loss: {total_loss / total_examples:.4f}\")"
   ]
  },
  {
   "cell_type": "code",
   "execution_count": 38,
   "metadata": {},
   "outputs": [
    {
     "name": "stdout",
     "output_type": "stream",
     "text": [
      "Sampled mini-batch:\n",
      "===================\n",
      "Data(edge_index=[2, 23532], node_id=[2661], x=[2661, 7], node_type=[2661], edge_type=[23532], edge_label=[384], edge_label_index=[2, 384], n_id=[2661], e_id=[23532], input_id=[384])\n"
     ]
    }
   ],
   "source": [
    "val_loader = LinkNeighborLoader(\n",
    "    data=val_data,\n",
    "    num_neighbors=[15, 10],\n",
    "    edge_label_index=val_data.edge_label_index,\n",
    "    edge_label=val_data.edge_label,\n",
    "    batch_size=3 * 128,\n",
    "    shuffle=False,\n",
    ")\n",
    "\n",
    "sampled_data = next(iter(val_loader))\n",
    "\n",
    "print(\"Sampled mini-batch:\")\n",
    "print(\"===================\")\n",
    "print(sampled_data)\n"
   ]
  },
  {
   "cell_type": "code",
   "execution_count": 47,
   "metadata": {},
   "outputs": [
    {
     "name": "stderr",
     "output_type": "stream",
     "text": [
      "100%|██████████| 203/203 [00:04<00:00, 44.43it/s]"
     ]
    },
    {
     "name": "stdout",
     "output_type": "stream",
     "text": [
      "\n",
      "Validation AUC: 0.6695\n",
      "Validation AP: 0.4357\n",
      "Validation F1: 0.5922\n",
      "Validation Accuracy: 0.6078\n"
     ]
    },
    {
     "name": "stderr",
     "output_type": "stream",
     "text": [
      "\n"
     ]
    }
   ],
   "source": [
    "from sklearn.metrics import roc_auc_score, average_precision_score, f1_score\n",
    "\n",
    "preds = []\n",
    "ground_truths = []\n",
    "for sampled_data in tqdm.tqdm(val_loader):\n",
    "    with torch.no_grad():\n",
    "        sampled_data.to(device)\n",
    "        pred = model(sampled_data)\n",
    "        # Applying sigmoid activation function to the predicted values\n",
    "        output_probs = torch.sigmoid(pred)\n",
    "\n",
    "        # Converting probabilities to binary class predictions\n",
    "        output_classes = (output_probs > 0.5).int()\n",
    "        preds.append(output_classes)\n",
    "        ground_truths.append(sampled_data.edge_label)\n",
    "\n",
    "pred = torch.cat(preds, dim=0).cpu().numpy()\n",
    "ground_truth = torch.cat(ground_truths, dim=0).cpu().numpy()\n",
    "\n",
    "auc = roc_auc_score(ground_truth, pred)\n",
    "ap = average_precision_score(ground_truth, pred)\n",
    "f1 = f1_score(ground_truth, pred)\n",
    "acc = (pred == ground_truth).mean()\n",
    "\n",
    "print()\n",
    "print(f\"Validation AUC: {auc:.4f}\")\n",
    "print(f\"Validation AP: {ap:.4f}\")\n",
    "print(f\"Validation F1: {f1:.4f}\")\n",
    "print(f\"Validation Accuracy: {acc:.4f}\")"
   ]
  },
  {
   "attachments": {},
   "cell_type": "markdown",
   "metadata": {},
   "source": [
    "### Method Train and Val"
   ]
  },
  {
   "cell_type": "code",
   "execution_count": 135,
   "metadata": {},
   "outputs": [],
   "source": [
    "from sklearn.metrics import roc_auc_score, average_precision_score, f1_score, precision_score, recall_score\n",
    "\n",
    "@torch.no_grad()\n",
    "def compute_metrics(model, val_loader, debug=False):\n",
    "    model.eval()\n",
    "    preds = []\n",
    "    ground_truths = []\n",
    "    total_examples = total_loss = 0\n",
    "    for sampled_data in tqdm.tqdm(val_loader):\n",
    "        with torch.no_grad():\n",
    "            sampled_data.to(device)\n",
    "            pred = model(sampled_data)\n",
    "            loss = F.binary_cross_entropy_with_logits(pred, sampled_data.edge_label)\n",
    "            total_loss += float(loss) * pred.numel()\n",
    "            total_examples += pred.numel()\n",
    "            # Applying sigmoid activation function to the predicted values\n",
    "            output_probs = torch.sigmoid(pred)\n",
    "\n",
    "            # Converting probabilities to binary class predictions\n",
    "            output_classes = (output_probs > 0.5).int()\n",
    "            preds.append(output_classes)\n",
    "            ground_truths.append(sampled_data.edge_label)\n",
    "\n",
    "    pred = torch.cat(preds, dim=0).cpu().numpy()\n",
    "    ground_truth = torch.cat(ground_truths, dim=0).cpu().numpy()\n",
    "\n",
    "    auc = roc_auc_score(ground_truth, pred)\n",
    "    ap = average_precision_score(ground_truth, pred)\n",
    "    f1 = f1_score(ground_truth, pred)\n",
    "    acc = (pred == ground_truth).mean()\n",
    "    loss = total_loss / total_examples\n",
    "    # compute precission, recall, f1, accuracy\n",
    "    precission = average_precision_score(ground_truth, pred)\n",
    "    recall = recall_score(ground_truth, pred)\n",
    "\n",
    "    if debug:\n",
    "        print()\n",
    "        print(f\"Validation AUC: {auc:.4f}\")\n",
    "        print(f\"Validation AP: {ap:.4f}\")\n",
    "        print(f\"Validation F1: {f1:.4f}\")\n",
    "        print(f\"Validation Accuracy: {acc:.4f}\")\n",
    "        print(f\"Validation Precission: {precission:.4f}\")\n",
    "        print(f\"Validation Recall: {recall:.4f}\")\n",
    "    return loss, auc, ap, f1, acc"
   ]
  },
  {
   "cell_type": "code",
   "execution_count": 126,
   "metadata": {},
   "outputs": [],
   "source": [
    "def train(model, train_loader, optimizer, device):\n",
    "    model.train()\n",
    "    total_loss = total_examples = 0\n",
    "    for data in tqdm.tqdm(train_loader):\n",
    "        data = data.to(device)\n",
    "        optimizer.zero_grad()\n",
    "        out = model(data)\n",
    "        ground_truth = data.edge_label\n",
    "        loss = F.binary_cross_entropy_with_logits(out, ground_truth)\n",
    "        loss.backward()\n",
    "        optimizer.step()\n",
    "        total_loss += float(loss) * out.numel()\n",
    "        total_examples += out.numel()\n",
    "    return total_loss / total_examples"
   ]
  },
  {
   "cell_type": "code",
   "execution_count": 128,
   "metadata": {},
   "outputs": [],
   "source": [
    "def main(model, train_loader, val_loader, test_loader, device, epochs, name):\n",
    "    optimizer = torch.optim.Adam(model.parameters(), lr=0.001)\n",
    "    scheduler = torch.optim.lr_scheduler.ReduceLROnPlateau(\n",
    "        optimizer, mode=\"min\", factor=0.5, patience=5\n",
    "    )\n",
    "    best_val_f1 = 0\n",
    "    best_epoch = 0\n",
    "    for epoch in range(1, epochs + 1):\n",
    "        loss = train(model, train_loader, optimizer, device)\n",
    "        _, train_auc, train_ap, train_f1, train_acc = compute_metrics(model, train_loader)\n",
    "        # val_loss = test(model, val_loader, device)\n",
    "        val_loss, val_auc, val_ap, val_f1, val_acc = compute_metrics(model, val_loader)\n",
    "        print(f\"Epoch: {epoch:03d}, Loss: {loss:.4f}, Val Loss: {val_loss:.4f}\\n,\\\n",
    "              Train AUC: {train_auc:.4f}, Train AP: {train_ap:.4f}, Train F1: {train_f1:.4f}, Train Acc: {train_acc:.4f}\\n,\\\n",
    "              Val AUC: {val_auc:.4f}, Val AP: {val_ap:.4f}, Val F1: {val_f1:.4f}, Val Acc: {val_acc:.4f}\")\n",
    "       \n",
    "        if val_f1 > best_val_f1:\n",
    "            best_val_f1 = val_f1\n",
    "            best_epoch = epoch\n",
    "            torch.save(model.state_dict(), f\"{name}.pt\")\n",
    "        scheduler.step(val_f1)\n",
    "    \n",
    "    model.load_state_dict(torch.load(f\"{name}.pt\"))\n",
    "    return model, best_epoch"
   ]
  },
  {
   "cell_type": "code",
   "execution_count": 129,
   "metadata": {},
   "outputs": [],
   "source": [
    "test_loader = LinkNeighborLoader(\n",
    "    data=test_data,\n",
    "    num_neighbors=[15, 10],\n",
    "    edge_label_index=test_data.edge_label_index,\n",
    "    edge_label=test_data.edge_label,\n",
    "    batch_size=3 * 128,\n",
    "    shuffle=False,\n",
    ")"
   ]
  },
  {
   "cell_type": "code",
   "execution_count": 133,
   "metadata": {},
   "outputs": [
    {
     "name": "stdout",
     "output_type": "stream",
     "text": [
      "Device: 'cuda'\n"
     ]
    },
    {
     "name": "stderr",
     "output_type": "stream",
     "text": [
      "  0%|          | 0/487 [00:00<?, ?it/s]"
     ]
    },
    {
     "name": "stderr",
     "output_type": "stream",
     "text": [
      "100%|██████████| 487/487 [00:20<00:00, 23.92it/s]\n",
      "100%|██████████| 487/487 [00:14<00:00, 32.76it/s]\n",
      "100%|██████████| 203/203 [00:06<00:00, 31.35it/s]\n"
     ]
    },
    {
     "name": "stdout",
     "output_type": "stream",
     "text": [
      "Epoch: 001, Loss: 0.8328, Val Loss: 0.7024\n",
      ",              Train AUC: 0.5775, Train AP: 0.3740, Train F1: 0.4980, Train Acc: 0.5438\n",
      ",              Val AUC: 0.5629, Val AP: 0.3654, Val F1: 0.4828, Val Acc: 0.5321\n"
     ]
    },
    {
     "name": "stderr",
     "output_type": "stream",
     "text": [
      "100%|██████████| 487/487 [00:19<00:00, 25.10it/s]\n",
      "100%|██████████| 487/487 [00:14<00:00, 33.35it/s]\n",
      "100%|██████████| 203/203 [00:06<00:00, 31.38it/s]\n"
     ]
    },
    {
     "name": "stdout",
     "output_type": "stream",
     "text": [
      "Epoch: 002, Loss: 0.6934, Val Loss: 0.6849\n",
      ",              Train AUC: 0.6156, Train AP: 0.3976, Train F1: 0.5404, Train Acc: 0.5651\n",
      ",              Val AUC: 0.6061, Val AP: 0.3914, Val F1: 0.5313, Val Acc: 0.5572\n"
     ]
    },
    {
     "name": "stderr",
     "output_type": "stream",
     "text": [
      "100%|██████████| 487/487 [00:19<00:00, 25.01it/s]\n",
      "100%|██████████| 487/487 [00:14<00:00, 33.73it/s]\n",
      "100%|██████████| 203/203 [00:06<00:00, 31.38it/s]\n"
     ]
    },
    {
     "name": "stdout",
     "output_type": "stream",
     "text": [
      "Epoch: 003, Loss: 0.6776, Val Loss: 0.6738\n",
      ",              Train AUC: 0.6356, Train AP: 0.4114, Train F1: 0.5593, Train Acc: 0.5828\n",
      ",              Val AUC: 0.6250, Val AP: 0.4039, Val F1: 0.5497, Val Acc: 0.5722\n"
     ]
    },
    {
     "name": "stderr",
     "output_type": "stream",
     "text": [
      "100%|██████████| 487/487 [00:18<00:00, 25.81it/s]\n",
      "100%|██████████| 487/487 [00:14<00:00, 34.48it/s]\n",
      "100%|██████████| 203/203 [00:06<00:00, 30.19it/s]\n"
     ]
    },
    {
     "name": "stdout",
     "output_type": "stream",
     "text": [
      "Epoch: 004, Loss: 0.6678, Val Loss: 0.6653\n",
      ",              Train AUC: 0.6513, Train AP: 0.4219, Train F1: 0.5763, Train Acc: 0.5886\n",
      ",              Val AUC: 0.6413, Val AP: 0.4147, Val F1: 0.5674, Val Acc: 0.5791\n"
     ]
    },
    {
     "name": "stderr",
     "output_type": "stream",
     "text": [
      "100%|██████████| 487/487 [00:17<00:00, 27.13it/s]\n",
      "100%|██████████| 487/487 [00:14<00:00, 34.45it/s]\n",
      "100%|██████████| 203/203 [00:06<00:00, 32.24it/s]\n"
     ]
    },
    {
     "name": "stdout",
     "output_type": "stream",
     "text": [
      "Epoch: 005, Loss: 0.6608, Val Loss: 0.6593\n",
      ",              Train AUC: 0.6631, Train AP: 0.4304, Train F1: 0.5875, Train Acc: 0.5976\n",
      ",              Val AUC: 0.6486, Val AP: 0.4196, Val F1: 0.5747, Val Acc: 0.5829\n"
     ]
    },
    {
     "name": "stderr",
     "output_type": "stream",
     "text": [
      "100%|██████████| 487/487 [00:18<00:00, 26.97it/s]\n",
      "100%|██████████| 487/487 [00:14<00:00, 34.55it/s]\n",
      "100%|██████████| 203/203 [00:06<00:00, 32.99it/s]\n"
     ]
    },
    {
     "name": "stdout",
     "output_type": "stream",
     "text": [
      "Epoch: 006, Loss: 0.6549, Val Loss: 0.6549\n",
      ",              Train AUC: 0.6633, Train AP: 0.4308, Train F1: 0.5870, Train Acc: 0.6005\n",
      ",              Val AUC: 0.6532, Val AP: 0.4234, Val F1: 0.5776, Val Acc: 0.5918\n"
     ]
    },
    {
     "name": "stderr",
     "output_type": "stream",
     "text": [
      "100%|██████████| 487/487 [00:18<00:00, 27.03it/s]\n",
      "100%|██████████| 487/487 [00:14<00:00, 34.39it/s]\n",
      "100%|██████████| 203/203 [00:06<00:00, 32.51it/s]\n"
     ]
    },
    {
     "name": "stdout",
     "output_type": "stream",
     "text": [
      "Epoch: 007, Loss: 0.6520, Val Loss: 0.6489\n",
      ",              Train AUC: 0.6690, Train AP: 0.4351, Train F1: 0.5921, Train Acc: 0.6058\n",
      ",              Val AUC: 0.6592, Val AP: 0.4276, Val F1: 0.5836, Val Acc: 0.5953\n"
     ]
    },
    {
     "name": "stderr",
     "output_type": "stream",
     "text": [
      "100%|██████████| 487/487 [00:17<00:00, 27.54it/s]\n",
      "100%|██████████| 487/487 [00:13<00:00, 35.13it/s]\n",
      "100%|██████████| 203/203 [00:06<00:00, 32.16it/s]\n"
     ]
    },
    {
     "name": "stdout",
     "output_type": "stream",
     "text": [
      "Epoch: 008, Loss: 0.6410, Val Loss: 0.6425\n",
      ",              Train AUC: 0.6830, Train AP: 0.4455, Train F1: 0.6056, Train Acc: 0.6151\n",
      ",              Val AUC: 0.6712, Val AP: 0.4360, Val F1: 0.5957, Val Acc: 0.6011\n"
     ]
    },
    {
     "name": "stderr",
     "output_type": "stream",
     "text": [
      "100%|██████████| 487/487 [00:17<00:00, 27.12it/s]\n",
      "100%|██████████| 487/487 [00:14<00:00, 34.72it/s]\n",
      "100%|██████████| 203/203 [00:06<00:00, 32.67it/s]\n"
     ]
    },
    {
     "name": "stdout",
     "output_type": "stream",
     "text": [
      "Epoch: 009, Loss: 0.6383, Val Loss: 0.6416\n",
      ",              Train AUC: 0.6871, Train AP: 0.4487, Train F1: 0.6094, Train Acc: 0.6184\n",
      ",              Val AUC: 0.6720, Val AP: 0.4365, Val F1: 0.5965, Val Acc: 0.6008\n"
     ]
    },
    {
     "name": "stderr",
     "output_type": "stream",
     "text": [
      "100%|██████████| 487/487 [00:18<00:00, 26.77it/s]\n",
      "100%|██████████| 487/487 [00:16<00:00, 28.80it/s]\n",
      "100%|██████████| 203/203 [00:07<00:00, 26.75it/s]\n"
     ]
    },
    {
     "name": "stdout",
     "output_type": "stream",
     "text": [
      "Epoch: 010, Loss: 0.6374, Val Loss: 0.6389\n",
      ",              Train AUC: 0.6818, Train AP: 0.4452, Train F1: 0.6037, Train Acc: 0.6184\n",
      ",              Val AUC: 0.6709, Val AP: 0.4366, Val F1: 0.5941, Val Acc: 0.6069\n"
     ]
    },
    {
     "name": "stderr",
     "output_type": "stream",
     "text": [
      "100%|██████████| 487/487 [00:19<00:00, 25.24it/s]\n",
      "100%|██████████| 487/487 [00:16<00:00, 30.02it/s]\n",
      "100%|██████████| 203/203 [00:07<00:00, 25.61it/s]\n"
     ]
    },
    {
     "name": "stdout",
     "output_type": "stream",
     "text": [
      "Epoch: 011, Loss: 0.6354, Val Loss: 0.6388\n",
      ",              Train AUC: 0.6893, Train AP: 0.4505, Train F1: 0.6115, Train Acc: 0.6203\n",
      ",              Val AUC: 0.6758, Val AP: 0.4395, Val F1: 0.5999, Val Acc: 0.6050\n"
     ]
    },
    {
     "name": "stderr",
     "output_type": "stream",
     "text": [
      "100%|██████████| 487/487 [00:19<00:00, 25.00it/s]\n",
      "100%|██████████| 487/487 [00:16<00:00, 30.04it/s]\n",
      "100%|██████████| 203/203 [00:07<00:00, 27.30it/s]\n"
     ]
    },
    {
     "name": "stdout",
     "output_type": "stream",
     "text": [
      "Epoch: 012, Loss: 0.6347, Val Loss: 0.6376\n",
      ",              Train AUC: 0.6878, Train AP: 0.4493, Train F1: 0.6100, Train Acc: 0.6193\n",
      ",              Val AUC: 0.6730, Val AP: 0.4375, Val F1: 0.5971, Val Acc: 0.6036\n"
     ]
    },
    {
     "name": "stderr",
     "output_type": "stream",
     "text": [
      "100%|██████████| 487/487 [00:19<00:00, 24.81it/s]\n",
      "100%|██████████| 487/487 [00:16<00:00, 30.25it/s]\n",
      "100%|██████████| 203/203 [00:07<00:00, 26.44it/s]\n"
     ]
    },
    {
     "name": "stdout",
     "output_type": "stream",
     "text": [
      "Epoch: 013, Loss: 0.6333, Val Loss: 0.6353\n",
      ",              Train AUC: 0.6894, Train AP: 0.4510, Train F1: 0.6110, Train Acc: 0.6235\n",
      ",              Val AUC: 0.6753, Val AP: 0.4395, Val F1: 0.5988, Val Acc: 0.6077\n"
     ]
    },
    {
     "name": "stderr",
     "output_type": "stream",
     "text": [
      "100%|██████████| 487/487 [00:18<00:00, 25.65it/s]\n",
      "100%|██████████| 487/487 [00:16<00:00, 29.50it/s]\n",
      "100%|██████████| 203/203 [00:07<00:00, 26.70it/s]\n"
     ]
    },
    {
     "name": "stdout",
     "output_type": "stream",
     "text": [
      "Epoch: 014, Loss: 0.6285, Val Loss: 0.6297\n",
      ",              Train AUC: 0.6956, Train AP: 0.4560, Train F1: 0.6168, Train Acc: 0.6287\n",
      ",              Val AUC: 0.6815, Val AP: 0.4443, Val F1: 0.6044, Val Acc: 0.6132\n"
     ]
    },
    {
     "name": "stderr",
     "output_type": "stream",
     "text": [
      "100%|██████████| 487/487 [00:19<00:00, 25.61it/s]\n",
      "100%|██████████| 487/487 [00:15<00:00, 31.06it/s]\n",
      "100%|██████████| 203/203 [00:07<00:00, 27.54it/s]\n"
     ]
    },
    {
     "name": "stdout",
     "output_type": "stream",
     "text": [
      "Epoch: 015, Loss: 0.6267, Val Loss: 0.6290\n",
      ",              Train AUC: 0.6961, Train AP: 0.4562, Train F1: 0.6174, Train Acc: 0.6280\n",
      ",              Val AUC: 0.6832, Val AP: 0.4454, Val F1: 0.6061, Val Acc: 0.6135\n"
     ]
    },
    {
     "name": "stderr",
     "output_type": "stream",
     "text": [
      "100%|██████████| 487/487 [00:19<00:00, 25.31it/s]\n",
      "100%|██████████| 487/487 [00:15<00:00, 30.56it/s]\n",
      "100%|██████████| 203/203 [00:07<00:00, 26.65it/s]\n"
     ]
    },
    {
     "name": "stdout",
     "output_type": "stream",
     "text": [
      "Epoch: 016, Loss: 0.6267, Val Loss: 0.6300\n",
      ",              Train AUC: 0.6997, Train AP: 0.4588, Train F1: 0.6209, Train Acc: 0.6298\n",
      ",              Val AUC: 0.6825, Val AP: 0.4446, Val F1: 0.6059, Val Acc: 0.6107\n"
     ]
    },
    {
     "name": "stderr",
     "output_type": "stream",
     "text": [
      "100%|██████████| 487/487 [00:18<00:00, 25.78it/s]\n",
      "100%|██████████| 487/487 [00:11<00:00, 41.28it/s]\n",
      "100%|██████████| 203/203 [00:05<00:00, 40.00it/s]\n"
     ]
    },
    {
     "name": "stdout",
     "output_type": "stream",
     "text": [
      "Epoch: 017, Loss: 0.6255, Val Loss: 0.6280\n",
      ",              Train AUC: 0.6988, Train AP: 0.4582, Train F1: 0.6199, Train Acc: 0.6299\n",
      ",              Val AUC: 0.6843, Val AP: 0.4462, Val F1: 0.6072, Val Acc: 0.6140\n"
     ]
    },
    {
     "name": "stderr",
     "output_type": "stream",
     "text": [
      "100%|██████████| 487/487 [00:13<00:00, 36.44it/s]\n",
      "100%|██████████| 487/487 [00:11<00:00, 41.27it/s]\n",
      "100%|██████████| 203/203 [00:05<00:00, 38.42it/s]\n"
     ]
    },
    {
     "name": "stdout",
     "output_type": "stream",
     "text": [
      "Epoch: 018, Loss: 0.6254, Val Loss: 0.6266\n",
      ",              Train AUC: 0.7014, Train AP: 0.4606, Train F1: 0.6221, Train Acc: 0.6336\n",
      ",              Val AUC: 0.6856, Val AP: 0.4475, Val F1: 0.6081, Val Acc: 0.6168\n"
     ]
    },
    {
     "name": "stderr",
     "output_type": "stream",
     "text": [
      "100%|██████████| 487/487 [00:13<00:00, 36.59it/s]\n",
      "100%|██████████| 487/487 [00:16<00:00, 29.84it/s]\n",
      "100%|██████████| 203/203 [00:07<00:00, 27.31it/s]\n"
     ]
    },
    {
     "name": "stdout",
     "output_type": "stream",
     "text": [
      "Epoch: 019, Loss: 0.6243, Val Loss: 0.6250\n",
      ",              Train AUC: 0.7016, Train AP: 0.4605, Train F1: 0.6225, Train Acc: 0.6322\n",
      ",              Val AUC: 0.6872, Val AP: 0.4485, Val F1: 0.6100, Val Acc: 0.6162\n"
     ]
    },
    {
     "name": "stderr",
     "output_type": "stream",
     "text": [
      "100%|██████████| 487/487 [00:19<00:00, 25.41it/s]\n",
      "100%|██████████| 487/487 [00:15<00:00, 30.86it/s]\n",
      "100%|██████████| 203/203 [00:08<00:00, 24.65it/s]"
     ]
    },
    {
     "name": "stdout",
     "output_type": "stream",
     "text": [
      "Epoch: 020, Loss: 0.6215, Val Loss: 0.6228\n",
      ",              Train AUC: 0.7054, Train AP: 0.4638, Train F1: 0.6258, Train Acc: 0.6367\n",
      ",              Val AUC: 0.6889, Val AP: 0.4499, Val F1: 0.6114, Val Acc: 0.6183\n"
     ]
    },
    {
     "name": "stderr",
     "output_type": "stream",
     "text": [
      "\n"
     ]
    },
    {
     "data": {
      "text/plain": [
       "(Model(\n",
       "   (node_emb): Embedding(3387, 128)\n",
       "   (gnn): GNN(\n",
       "     (conv1): SAGEConv(128, 128, aggr=mean)\n",
       "     (lin1): Linear(in_features=128, out_features=128, bias=True)\n",
       "     (conv2): SAGEConv(128, 128, aggr=mean)\n",
       "     (lin2): Linear(in_features=128, out_features=128, bias=True)\n",
       "   )\n",
       "   (classifier): Classifier()\n",
       " ),\n",
       " 20)"
      ]
     },
     "execution_count": 133,
     "metadata": {},
     "output_type": "execute_result"
    }
   ],
   "source": [
    "model = Model(hidden_channels=128)\n",
    "\n",
    "device = torch.device('cuda' if torch.cuda.is_available() else 'cpu')\n",
    "print(f\"Device: '{device}'\")\n",
    "\n",
    "model = model.to(device)\n",
    "\n",
    "main(model, train_loader, val_loader, test_loader, device, epochs=20, name=\"homo_gcn\")"
   ]
  },
  {
   "cell_type": "code",
   "execution_count": 136,
   "metadata": {},
   "outputs": [
    {
     "name": "stderr",
     "output_type": "stream",
     "text": [
      "100%|██████████| 203/203 [00:05<00:00, 36.38it/s]"
     ]
    },
    {
     "name": "stdout",
     "output_type": "stream",
     "text": [
      "\n",
      "Validation AUC: 0.6920\n",
      "Validation AP: 0.4527\n",
      "Validation F1: 0.6139\n",
      "Validation Accuracy: 0.6233\n",
      "Validation Precission: 0.4527\n",
      "Validation Recall: 0.8983\n"
     ]
    },
    {
     "name": "stderr",
     "output_type": "stream",
     "text": [
      "\n"
     ]
    },
    {
     "data": {
      "text/plain": [
       "(0.6225246314411215,\n",
       " 0.6920485175202156,\n",
       " 0.4527196505313831,\n",
       " 0.6138645124791139,\n",
       " 0.6232961108971891)"
      ]
     },
     "execution_count": 136,
     "metadata": {},
     "output_type": "execute_result"
    }
   ],
   "source": [
    "compute_metrics(model, test_loader, debug=True)"
   ]
  },
  {
   "cell_type": "code",
   "execution_count": null,
   "metadata": {},
   "outputs": [
    {
     "name": "stderr",
     "output_type": "stream",
     "text": [
      "100%|██████████| 203/203 [00:05<00:00, 37.77it/s]"
     ]
    },
    {
     "name": "stdout",
     "output_type": "stream",
     "text": [
      "\n",
      "Validation AUC: 0.6416\n",
      "Validation AP: 0.4140\n",
      "Validation F1: 0.5707\n",
      "Validation Accuracy: 0.5689\n"
     ]
    },
    {
     "name": "stderr",
     "output_type": "stream",
     "text": [
      "\n"
     ]
    },
    {
     "data": {
      "text/plain": [
       "(0.7058300123060489,\n",
       " 0.6415864458991145,\n",
       " 0.41396541852310625,\n",
       " 0.5707128798916239,\n",
       " 0.5688615068668977)"
      ]
     },
     "metadata": {},
     "output_type": "display_data"
    }
   ],
   "source": [
    "compute_metrics(model, test_loader, debug=True)"
   ]
  },
  {
   "cell_type": "code",
   "execution_count": 82,
   "metadata": {},
   "outputs": [
    {
     "name": "stderr",
     "output_type": "stream",
     "text": [
      "100%|██████████| 487/487 [00:12<00:00, 39.61it/s]\n"
     ]
    },
    {
     "name": "stdout",
     "output_type": "stream",
     "text": [
      "\n",
      "Validation AUC: 0.6819\n",
      "Validation AP: 0.4426\n",
      "Validation F1: 0.6074\n",
      "Validation Accuracy: 0.5988\n"
     ]
    },
    {
     "data": {
      "text/plain": [
       "(0.6873242770993592,\n",
       " 0.6818644910794507,\n",
       " 0.442623111038149,\n",
       " 0.6074046940003663,\n",
       " 0.5987731570615668)"
      ]
     },
     "execution_count": 82,
     "metadata": {},
     "output_type": "execute_result"
    }
   ],
   "source": [
    "compute_metrics(model, train_loader, debug=True)"
   ]
  }
 ],
 "metadata": {
  "kernelspec": {
   "display_name": "dsn",
   "language": "python",
   "name": "python3"
  },
  "language_info": {
   "codemirror_mode": {
    "name": "ipython",
    "version": 3
   },
   "file_extension": ".py",
   "mimetype": "text/x-python",
   "name": "python",
   "nbconvert_exporter": "python",
   "pygments_lexer": "ipython3",
   "version": "3.7.7"
  },
  "orig_nbformat": 4
 },
 "nbformat": 4,
 "nbformat_minor": 2
}
