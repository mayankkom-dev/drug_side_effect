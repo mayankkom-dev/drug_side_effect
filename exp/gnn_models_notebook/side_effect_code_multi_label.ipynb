{
 "cells": [
  {
   "attachments": {},
   "cell_type": "markdown",
   "metadata": {},
   "source": [
    "### Imports"
   ]
  },
  {
   "cell_type": "code",
   "execution_count": 2,
   "metadata": {},
   "outputs": [],
   "source": [
    "import pandas as pd\n",
    "import torch\n",
    "import numpy as np\n",
    "import torch\n",
    "import torch_geometric.datasets as datasets\n",
    "import torch_geometric.data as data\n",
    "import torch_geometric.transforms as transforms\n",
    "import networkx as nx\n",
    "import itertools\n",
    "import matplotlib.pyplot as plt\n",
    "from collections import Counter\n",
    "from torch_geometric.utils.convert import to_networkx\n",
    "from sklearn.model_selection import train_test_split\n",
    "from iterstrat.ml_stratifiers import MultilabelStratifiedShuffleSplit, MultilabelStratifiedKFold\n",
    "# set max num of rows and cols to display\n",
    "pd.set_option('display.max_rows', 1000)\n",
    "pd.set_option('display.max_columns', 1000)"
   ]
  },
  {
   "attachments": {},
   "cell_type": "markdown",
   "metadata": {},
   "source": [
    "### Read the pre-proceesed data"
   ]
  },
  {
   "cell_type": "code",
   "execution_count": 3,
   "metadata": {},
   "outputs": [
    {
     "data": {
      "text/html": [
       "<div>\n",
       "<style scoped>\n",
       "    .dataframe tbody tr th:only-of-type {\n",
       "        vertical-align: middle;\n",
       "    }\n",
       "\n",
       "    .dataframe tbody tr th {\n",
       "        vertical-align: top;\n",
       "    }\n",
       "\n",
       "    .dataframe thead th {\n",
       "        text-align: right;\n",
       "    }\n",
       "</style>\n",
       "<table border=\"1\" class=\"dataframe\">\n",
       "  <thead>\n",
       "    <tr style=\"text-align: right;\">\n",
       "      <th></th>\n",
       "      <th>STITCH ID STEREO</th>\n",
       "      <th>MEDRA TERM UMLS CONCEPT ID</th>\n",
       "      <th>se_count</th>\n",
       "      <th>cid</th>\n",
       "      <th>mw</th>\n",
       "      <th>mf</th>\n",
       "      <th>polararea</th>\n",
       "      <th>complexity</th>\n",
       "      <th>xlogp</th>\n",
       "      <th>heavycnt</th>\n",
       "      <th>hbonddonor</th>\n",
       "      <th>hbondacc</th>\n",
       "      <th>rotbonds</th>\n",
       "      <th>inchi</th>\n",
       "      <th>isosmiles</th>\n",
       "      <th>canonicalsmiles</th>\n",
       "      <th>inchikey</th>\n",
       "      <th>iupacname</th>\n",
       "      <th>exactmass</th>\n",
       "      <th>monoisotopicmass</th>\n",
       "      <th>charge</th>\n",
       "      <th>covalentunitcnt</th>\n",
       "      <th>isotopeatomcnt</th>\n",
       "      <th>totalatomstereocnt</th>\n",
       "      <th>definedatomstereocnt</th>\n",
       "      <th>undefinedatomstereocnt</th>\n",
       "      <th>totalbondstereocnt</th>\n",
       "      <th>definedbondstereocnt</th>\n",
       "      <th>undefinedbondstereocnt</th>\n",
       "      <th>pclidcnt</th>\n",
       "      <th>gpidcnt</th>\n",
       "      <th>gpfamilycnt</th>\n",
       "      <th>neighbortype</th>\n",
       "      <th>meshheadings</th>\n",
       "      <th>annothits</th>\n",
       "      <th>annothitcnt</th>\n",
       "      <th>aids</th>\n",
       "      <th>cidcdate</th>\n",
       "      <th>sidsrcname</th>\n",
       "      <th>depcatg</th>\n",
       "      <th>annotation</th>\n",
       "    </tr>\n",
       "  </thead>\n",
       "  <tbody>\n",
       "    <tr>\n",
       "      <th>0</th>\n",
       "      <td>CID000000119</td>\n",
       "      <td>['C0002792', 'C0030193', 'C0151828', 'C0002994...</td>\n",
       "      <td>5</td>\n",
       "      <td>119</td>\n",
       "      <td>103.12</td>\n",
       "      <td>C4H9NO2</td>\n",
       "      <td>63.3</td>\n",
       "      <td>62.7</td>\n",
       "      <td>-3.2</td>\n",
       "      <td>7</td>\n",
       "      <td>2</td>\n",
       "      <td>3</td>\n",
       "      <td>3</td>\n",
       "      <td>InChI=1S/C4H9NO2/c5-3-1-2-4(6)7/h1-3,5H2,(H,6,7)</td>\n",
       "      <td>C(CC(=O)O)CN</td>\n",
       "      <td>C(CC(=O)O)CN</td>\n",
       "      <td>BTCSSZJGUNDROE-UHFFFAOYSA-N</td>\n",
       "      <td>4-aminobutanoic acid</td>\n",
       "      <td>103.0630</td>\n",
       "      <td>103.0630</td>\n",
       "      <td>0</td>\n",
       "      <td>1</td>\n",
       "      <td>0</td>\n",
       "      <td>0</td>\n",
       "      <td>0</td>\n",
       "      <td>0</td>\n",
       "      <td>0</td>\n",
       "      <td>0</td>\n",
       "      <td>0</td>\n",
       "      <td>82230</td>\n",
       "      <td>34891</td>\n",
       "      <td>13769</td>\n",
       "      <td>2D+3D</td>\n",
       "      <td>gamma-Aminobutyric Acid</td>\n",
       "      <td>Biological Test Results|Chemical and Physical ...</td>\n",
       "      <td>15</td>\n",
       "      <td>155|157|161|165|167|175|190|248|328|357|410|41...</td>\n",
       "      <td>20040916</td>\n",
       "      <td>001Chemical|3B Scientific (Wuhan) Corp|3WAY PH...</td>\n",
       "      <td>Chemical Vendors|Curation Efforts|Governmental...</td>\n",
       "      <td>COVID-19, COVID19, Coronavirus, Corona-virus, ...</td>\n",
       "    </tr>\n",
       "    <tr>\n",
       "      <th>1</th>\n",
       "      <td>CID000000137</td>\n",
       "      <td>['C0406834', 'C0027497', 'C0019080', 'C0267792...</td>\n",
       "      <td>79</td>\n",
       "      <td>137</td>\n",
       "      <td>131.13</td>\n",
       "      <td>C5H9NO3</td>\n",
       "      <td>80.4</td>\n",
       "      <td>121.0</td>\n",
       "      <td>-3.8</td>\n",
       "      <td>9</td>\n",
       "      <td>2</td>\n",
       "      <td>4</td>\n",
       "      <td>4</td>\n",
       "      <td>InChI=1S/C5H9NO3/c6-3-4(7)1-2-5(8)9/h1-3,6H2,(...</td>\n",
       "      <td>C(CC(=O)O)C(=O)CN</td>\n",
       "      <td>C(CC(=O)O)C(=O)CN</td>\n",
       "      <td>ZGXJTSGNIOSYLO-UHFFFAOYSA-N</td>\n",
       "      <td>5-amino-4-oxopentanoic acid</td>\n",
       "      <td>131.0580</td>\n",
       "      <td>131.0580</td>\n",
       "      <td>0</td>\n",
       "      <td>1</td>\n",
       "      <td>0</td>\n",
       "      <td>0</td>\n",
       "      <td>0</td>\n",
       "      <td>0</td>\n",
       "      <td>0</td>\n",
       "      <td>0</td>\n",
       "      <td>0</td>\n",
       "      <td>12437</td>\n",
       "      <td>14305</td>\n",
       "      <td>4919</td>\n",
       "      <td>2D+3D</td>\n",
       "      <td>Aminolevulinic Acid</td>\n",
       "      <td>Biological Test Results|Chemical and Physical ...</td>\n",
       "      <td>14</td>\n",
       "      <td>1511|1554|1662|1663|1672|1813|1814|1832|1850|1...</td>\n",
       "      <td>20040916</td>\n",
       "      <td>001Chemical|3B Scientific (Wuhan) Corp|3WAY PH...</td>\n",
       "      <td>Chemical Vendors|Curation Efforts|Governmental...</td>\n",
       "      <td>NaN</td>\n",
       "    </tr>\n",
       "    <tr>\n",
       "      <th>2</th>\n",
       "      <td>CID000000175</td>\n",
       "      <td>['C0018965', 'C0020488', 'C0001122', 'C0030193']</td>\n",
       "      <td>4</td>\n",
       "      <td>175</td>\n",
       "      <td>59.04</td>\n",
       "      <td>C2H3O2-</td>\n",
       "      <td>40.1</td>\n",
       "      <td>25.5</td>\n",
       "      <td>0.4</td>\n",
       "      <td>4</td>\n",
       "      <td>0</td>\n",
       "      <td>2</td>\n",
       "      <td>0</td>\n",
       "      <td>InChI=1S/C2H4O2/c1-2(3)4/h1H3,(H,3,4)/p-1</td>\n",
       "      <td>CC(=O)[O-]</td>\n",
       "      <td>CC(=O)[O-]</td>\n",
       "      <td>QTBSBXVTEAMEQO-UHFFFAOYSA-M</td>\n",
       "      <td>acetate</td>\n",
       "      <td>59.0133</td>\n",
       "      <td>59.0133</td>\n",
       "      <td>-1</td>\n",
       "      <td>1</td>\n",
       "      <td>0</td>\n",
       "      <td>0</td>\n",
       "      <td>0</td>\n",
       "      <td>0</td>\n",
       "      <td>0</td>\n",
       "      <td>0</td>\n",
       "      <td>0</td>\n",
       "      <td>44665</td>\n",
       "      <td>2166</td>\n",
       "      <td>1375</td>\n",
       "      <td>2D+3D</td>\n",
       "      <td>Acetates</td>\n",
       "      <td>Biological Test Results|Classification|Drug an...</td>\n",
       "      <td>11</td>\n",
       "      <td>1803442</td>\n",
       "      <td>20040916</td>\n",
       "      <td>AAA Chemistry|ABI Chem|AKos Consulting &amp; Solut...</td>\n",
       "      <td>Chemical Vendors|Curation Efforts|Governmental...</td>\n",
       "      <td>NaN</td>\n",
       "    </tr>\n",
       "    <tr>\n",
       "      <th>3</th>\n",
       "      <td>CID000000187</td>\n",
       "      <td>['C0010038', 'C0010037', 'C0428977', 'C0020458...</td>\n",
       "      <td>7</td>\n",
       "      <td>187</td>\n",
       "      <td>146.21</td>\n",
       "      <td>C7H16NO2+</td>\n",
       "      <td>26.3</td>\n",
       "      <td>115.0</td>\n",
       "      <td>0.2</td>\n",
       "      <td>10</td>\n",
       "      <td>0</td>\n",
       "      <td>2</td>\n",
       "      <td>4</td>\n",
       "      <td>InChI=1S/C7H16NO2/c1-7(9)10-6-5-8(2,3)4/h5-6H2...</td>\n",
       "      <td>CC(=O)OCC[N+](C)(C)C</td>\n",
       "      <td>CC(=O)OCC[N+](C)(C)C</td>\n",
       "      <td>OIPILFWXSMYKGL-UHFFFAOYSA-N</td>\n",
       "      <td>2-acetyloxyethyl(trimethyl)azanium</td>\n",
       "      <td>146.1180</td>\n",
       "      <td>146.1180</td>\n",
       "      <td>1</td>\n",
       "      <td>1</td>\n",
       "      <td>0</td>\n",
       "      <td>0</td>\n",
       "      <td>0</td>\n",
       "      <td>0</td>\n",
       "      <td>0</td>\n",
       "      <td>0</td>\n",
       "      <td>0</td>\n",
       "      <td>68145</td>\n",
       "      <td>84896</td>\n",
       "      <td>26608</td>\n",
       "      <td>2D+3D</td>\n",
       "      <td>Acetylcholine</td>\n",
       "      <td>Biological Test Results|Chemical and Physical ...</td>\n",
       "      <td>12</td>\n",
       "      <td>423|880|1030|1457|1458|1460|1463|1468|1469|147...</td>\n",
       "      <td>20040916</td>\n",
       "      <td>001Chemical|3B Scientific (Wuhan) Corp|3WAY PH...</td>\n",
       "      <td>Chemical Vendors|Curation Efforts|Governmental...</td>\n",
       "      <td>COVID-19, COVID19, Coronavirus, Corona-virus, ...</td>\n",
       "    </tr>\n",
       "    <tr>\n",
       "      <th>4</th>\n",
       "      <td>CID000000206</td>\n",
       "      <td>['C0546817', 'C0039231', 'C0030193', 'C0013604...</td>\n",
       "      <td>38</td>\n",
       "      <td>206</td>\n",
       "      <td>180.16</td>\n",
       "      <td>C6H12O6</td>\n",
       "      <td>110.0</td>\n",
       "      <td>151.0</td>\n",
       "      <td>-2.6</td>\n",
       "      <td>12</td>\n",
       "      <td>5</td>\n",
       "      <td>6</td>\n",
       "      <td>1</td>\n",
       "      <td>InChI=1S/C6H12O6/c7-1-2-3(8)4(9)5(10)6(11)12-2...</td>\n",
       "      <td>C(C1C(C(C(C(O1)O)O)O)O)O</td>\n",
       "      <td>C(C1C(C(C(C(O1)O)O)O)O)O</td>\n",
       "      <td>WQZGKKKJIJFFOK-UHFFFAOYSA-N</td>\n",
       "      <td>6-(hydroxymethyl)oxane-2,3,4,5-tetrol</td>\n",
       "      <td>180.0630</td>\n",
       "      <td>180.0630</td>\n",
       "      <td>0</td>\n",
       "      <td>1</td>\n",
       "      <td>0</td>\n",
       "      <td>5</td>\n",
       "      <td>0</td>\n",
       "      <td>5</td>\n",
       "      <td>0</td>\n",
       "      <td>0</td>\n",
       "      <td>0</td>\n",
       "      <td>1761</td>\n",
       "      <td>14422</td>\n",
       "      <td>5588</td>\n",
       "      <td>2D+3D</td>\n",
       "      <td>NaN</td>\n",
       "      <td>Biological Test Results|Chemical and Physical ...</td>\n",
       "      <td>8</td>\n",
       "      <td>155|157|161|165|167|175|192|248|256|328|880|88...</td>\n",
       "      <td>20050325</td>\n",
       "      <td>001Chemical|3WAY PHARM INC|A2B Chem|AA BLOCKS|...</td>\n",
       "      <td>Chemical Vendors|Curation Efforts|Governmental...</td>\n",
       "      <td>NaN</td>\n",
       "    </tr>\n",
       "  </tbody>\n",
       "</table>\n",
       "</div>"
      ],
      "text/plain": [
       "  STITCH ID STEREO                         MEDRA TERM UMLS CONCEPT ID  \\\n",
       "0     CID000000119  ['C0002792', 'C0030193', 'C0151828', 'C0002994...   \n",
       "1     CID000000137  ['C0406834', 'C0027497', 'C0019080', 'C0267792...   \n",
       "2     CID000000175   ['C0018965', 'C0020488', 'C0001122', 'C0030193']   \n",
       "3     CID000000187  ['C0010038', 'C0010037', 'C0428977', 'C0020458...   \n",
       "4     CID000000206  ['C0546817', 'C0039231', 'C0030193', 'C0013604...   \n",
       "\n",
       "   se_count  cid      mw         mf  polararea  complexity  xlogp  heavycnt  \\\n",
       "0         5  119  103.12    C4H9NO2       63.3        62.7   -3.2         7   \n",
       "1        79  137  131.13    C5H9NO3       80.4       121.0   -3.8         9   \n",
       "2         4  175   59.04    C2H3O2-       40.1        25.5    0.4         4   \n",
       "3         7  187  146.21  C7H16NO2+       26.3       115.0    0.2        10   \n",
       "4        38  206  180.16    C6H12O6      110.0       151.0   -2.6        12   \n",
       "\n",
       "   hbonddonor  hbondacc  rotbonds  \\\n",
       "0           2         3         3   \n",
       "1           2         4         4   \n",
       "2           0         2         0   \n",
       "3           0         2         4   \n",
       "4           5         6         1   \n",
       "\n",
       "                                               inchi  \\\n",
       "0   InChI=1S/C4H9NO2/c5-3-1-2-4(6)7/h1-3,5H2,(H,6,7)   \n",
       "1  InChI=1S/C5H9NO3/c6-3-4(7)1-2-5(8)9/h1-3,6H2,(...   \n",
       "2          InChI=1S/C2H4O2/c1-2(3)4/h1H3,(H,3,4)/p-1   \n",
       "3  InChI=1S/C7H16NO2/c1-7(9)10-6-5-8(2,3)4/h5-6H2...   \n",
       "4  InChI=1S/C6H12O6/c7-1-2-3(8)4(9)5(10)6(11)12-2...   \n",
       "\n",
       "                  isosmiles           canonicalsmiles  \\\n",
       "0              C(CC(=O)O)CN              C(CC(=O)O)CN   \n",
       "1         C(CC(=O)O)C(=O)CN         C(CC(=O)O)C(=O)CN   \n",
       "2                CC(=O)[O-]                CC(=O)[O-]   \n",
       "3      CC(=O)OCC[N+](C)(C)C      CC(=O)OCC[N+](C)(C)C   \n",
       "4  C(C1C(C(C(C(O1)O)O)O)O)O  C(C1C(C(C(C(O1)O)O)O)O)O   \n",
       "\n",
       "                      inchikey                              iupacname  \\\n",
       "0  BTCSSZJGUNDROE-UHFFFAOYSA-N                   4-aminobutanoic acid   \n",
       "1  ZGXJTSGNIOSYLO-UHFFFAOYSA-N            5-amino-4-oxopentanoic acid   \n",
       "2  QTBSBXVTEAMEQO-UHFFFAOYSA-M                                acetate   \n",
       "3  OIPILFWXSMYKGL-UHFFFAOYSA-N     2-acetyloxyethyl(trimethyl)azanium   \n",
       "4  WQZGKKKJIJFFOK-UHFFFAOYSA-N  6-(hydroxymethyl)oxane-2,3,4,5-tetrol   \n",
       "\n",
       "   exactmass  monoisotopicmass  charge  covalentunitcnt  isotopeatomcnt  \\\n",
       "0   103.0630          103.0630       0                1               0   \n",
       "1   131.0580          131.0580       0                1               0   \n",
       "2    59.0133           59.0133      -1                1               0   \n",
       "3   146.1180          146.1180       1                1               0   \n",
       "4   180.0630          180.0630       0                1               0   \n",
       "\n",
       "   totalatomstereocnt  definedatomstereocnt  undefinedatomstereocnt  \\\n",
       "0                   0                     0                       0   \n",
       "1                   0                     0                       0   \n",
       "2                   0                     0                       0   \n",
       "3                   0                     0                       0   \n",
       "4                   5                     0                       5   \n",
       "\n",
       "   totalbondstereocnt  definedbondstereocnt  undefinedbondstereocnt  pclidcnt  \\\n",
       "0                   0                     0                       0     82230   \n",
       "1                   0                     0                       0     12437   \n",
       "2                   0                     0                       0     44665   \n",
       "3                   0                     0                       0     68145   \n",
       "4                   0                     0                       0      1761   \n",
       "\n",
       "   gpidcnt  gpfamilycnt neighbortype             meshheadings  \\\n",
       "0    34891        13769        2D+3D  gamma-Aminobutyric Acid   \n",
       "1    14305         4919        2D+3D      Aminolevulinic Acid   \n",
       "2     2166         1375        2D+3D                 Acetates   \n",
       "3    84896        26608        2D+3D            Acetylcholine   \n",
       "4    14422         5588        2D+3D                      NaN   \n",
       "\n",
       "                                           annothits  annothitcnt  \\\n",
       "0  Biological Test Results|Chemical and Physical ...           15   \n",
       "1  Biological Test Results|Chemical and Physical ...           14   \n",
       "2  Biological Test Results|Classification|Drug an...           11   \n",
       "3  Biological Test Results|Chemical and Physical ...           12   \n",
       "4  Biological Test Results|Chemical and Physical ...            8   \n",
       "\n",
       "                                                aids  cidcdate  \\\n",
       "0  155|157|161|165|167|175|190|248|328|357|410|41...  20040916   \n",
       "1  1511|1554|1662|1663|1672|1813|1814|1832|1850|1...  20040916   \n",
       "2                                            1803442  20040916   \n",
       "3  423|880|1030|1457|1458|1460|1463|1468|1469|147...  20040916   \n",
       "4  155|157|161|165|167|175|192|248|256|328|880|88...  20050325   \n",
       "\n",
       "                                          sidsrcname  \\\n",
       "0  001Chemical|3B Scientific (Wuhan) Corp|3WAY PH...   \n",
       "1  001Chemical|3B Scientific (Wuhan) Corp|3WAY PH...   \n",
       "2  AAA Chemistry|ABI Chem|AKos Consulting & Solut...   \n",
       "3  001Chemical|3B Scientific (Wuhan) Corp|3WAY PH...   \n",
       "4  001Chemical|3WAY PHARM INC|A2B Chem|AA BLOCKS|...   \n",
       "\n",
       "                                             depcatg  \\\n",
       "0  Chemical Vendors|Curation Efforts|Governmental...   \n",
       "1  Chemical Vendors|Curation Efforts|Governmental...   \n",
       "2  Chemical Vendors|Curation Efforts|Governmental...   \n",
       "3  Chemical Vendors|Curation Efforts|Governmental...   \n",
       "4  Chemical Vendors|Curation Efforts|Governmental...   \n",
       "\n",
       "                                          annotation  \n",
       "0  COVID-19, COVID19, Coronavirus, Corona-virus, ...  \n",
       "1                                                NaN  \n",
       "2                                                NaN  \n",
       "3  COVID-19, COVID19, Coronavirus, Corona-virus, ...  \n",
       "4                                                NaN  "
      ]
     },
     "execution_count": 3,
     "metadata": {},
     "output_type": "execute_result"
    }
   ],
   "source": [
    "df_all_se = pd.read_csv('../../prep_data/drug_all_se_pubchem.csv')\n",
    "df_all_se.head()"
   ]
  },
  {
   "cell_type": "code",
   "execution_count": 4,
   "metadata": {},
   "outputs": [],
   "source": [
    "# embeddings = torch.rand((100, 16), dtype=torch.float)\n",
    "# rows = np.random.choice(100, 500)\n",
    "# cols = np.random.choice(100, 500)\n",
    "# edges = torch.tensor([rows, cols])\n",
    "# print(edges.shape)"
   ]
  },
  {
   "cell_type": "code",
   "execution_count": 5,
   "metadata": {},
   "outputs": [
    {
     "data": {
      "text/plain": [
       "95.58466763706939"
      ]
     },
     "execution_count": 5,
     "metadata": {},
     "output_type": "execute_result"
    }
   ],
   "source": [
    "((2061 - 91) / 2061) * 100"
   ]
  },
  {
   "cell_type": "code",
   "execution_count": 6,
   "metadata": {},
   "outputs": [
    {
     "data": {
      "text/plain": [
       "97.92684766214178"
      ]
     },
     "execution_count": 6,
     "metadata": {},
     "output_type": "execute_result"
    }
   ],
   "source": [
    "df_all_se['se_count'].mean()"
   ]
  },
  {
   "attachments": {},
   "cell_type": "markdown",
   "metadata": {},
   "source": [
    "### Create ID mapping for stitch id and meddra term for side-effect"
   ]
  },
  {
   "cell_type": "code",
   "execution_count": 7,
   "metadata": {},
   "outputs": [
    {
     "name": "stdout",
     "output_type": "stream",
     "text": [
      "(1326,) 1326\n"
     ]
    }
   ],
   "source": [
    "print(df_all_se['STITCH ID STEREO'].shape, df_all_se['STITCH ID STEREO'].nunique())"
   ]
  },
  {
   "cell_type": "code",
   "execution_count": 8,
   "metadata": {},
   "outputs": [],
   "source": [
    "from rdkit import Chem"
   ]
  },
  {
   "cell_type": "markdown",
   "metadata": {},
   "source": [
    "#### Drug id to idx"
   ]
  },
  {
   "cell_type": "code",
   "execution_count": 9,
   "metadata": {},
   "outputs": [],
   "source": [
    "STITCH_TO_ID_DICT = {id: idx for idx, id in enumerate(df_all_se['STITCH ID STEREO'])}\n",
    "ID_TO_STITCH_DICT = {v: k for k, v in STITCH_TO_ID_DICT.items()}"
   ]
  },
  {
   "cell_type": "code",
   "execution_count": 10,
   "metadata": {},
   "outputs": [
    {
     "name": "stderr",
     "output_type": "stream",
     "text": [
      "RDKit WARNING: [11:52:45] WARNING: not removing hydrogen atom without neighbors\n",
      "[11:52:45] WARNING: not removing hydrogen atom without neighbors\n",
      "RDKit WARNING: [11:52:45] WARNING: not removing hydrogen atom without neighbors\n",
      "[11:52:45] WARNING: not removing hydrogen atom without neighbors\n",
      "RDKit WARNING: [11:52:45] WARNING: not removing hydrogen atom without neighbors\n",
      "RDKit WARNING: [11:52:45] WARNING: not removing hydrogen atom without neighbors\n",
      "[11:52:45] WARNING: not removing hydrogen atom without neighbors\n",
      "[11:52:45] WARNING: not removing hydrogen atom without neighbors\n"
     ]
    }
   ],
   "source": [
    "drug_id_mol_graph_tup = [(id, Chem.MolFromSmiles(smiles.strip())) for id, smiles in zip(df_all_se['STITCH ID STEREO'], df_all_se['canonicalsmiles'])]\n",
    "drug_to_mol_graph = {id:Chem.MolFromSmiles(smiles.strip()) for id, smiles in  zip(df_all_se['STITCH ID STEREO'], df_all_se['canonicalsmiles'])}"
   ]
  },
  {
   "cell_type": "markdown",
   "metadata": {},
   "source": [
    "#### Side effect id to idx"
   ]
  },
  {
   "cell_type": "code",
   "execution_count": 11,
   "metadata": {},
   "outputs": [],
   "source": [
    "# Create a flattened list of unique meddra term concept id\n",
    "column_list = df_all_se['MEDRA TERM UMLS CONCEPT ID'].tolist()\n",
    "unique_values = list(set([item for sublist in column_list for item in eval(sublist)]))\n",
    "MEDRAID_TO_ID_DICT = {id: idx for idx, id in enumerate(unique_values)}\n",
    "ID_TO_MEDRAID_DICT = {v: k for k, v in MEDRAID_TO_ID_DICT.items()}"
   ]
  },
  {
   "cell_type": "markdown",
   "metadata": {},
   "source": [
    "#### Unique Bond Type"
   ]
  },
  {
   "cell_type": "code",
   "execution_count": 12,
   "metadata": {},
   "outputs": [
    {
     "name": "stdout",
     "output_type": "stream",
     "text": [
      "[rdkit.Chem.rdchem.BondType.SINGLE, rdkit.Chem.rdchem.BondType.DOUBLE, rdkit.Chem.rdchem.BondType.TRIPLE, rdkit.Chem.rdchem.BondType.AROMATIC, 'head']\n"
     ]
    }
   ],
   "source": [
    "# get all unique bond_type from mol_graph\n",
    "bond_type_set = set()\n",
    "for mol_graph in drug_to_mol_graph.values():\n",
    "    bond_type_set.update([b.GetBondType() for b in mol_graph.GetBonds()])\n",
    "bond_type_set = list(bond_type_set)\n",
    "bond_type_set.sort()\n",
    "bond_type_set = bond_type_set + ['head']\n",
    "print(bond_type_set)\n"
   ]
  },
  {
   "cell_type": "markdown",
   "metadata": {},
   "source": [
    "### Pyg Graph Data Components"
   ]
  },
  {
   "cell_type": "code",
   "execution_count": 13,
   "metadata": {},
   "outputs": [],
   "source": [
    "# target multi-label multi-class encoding\n",
    "def all_of_k_encoding_unk(x, allowable_set):\n",
    "    enc = np.zeros(len(allowable_set))\n",
    "    for idx, side_eff_id in enumerate(allowable_set):\n",
    "        if side_eff_id in x:\n",
    "            enc[idx] = 1\n",
    "    return enc\n",
    "# Feature one-hot encoding\n",
    "def one_of_k_encoding_unk(x, allowable_set):\n",
    "    if x not in allowable_set:\n",
    "        x = allowable_set[-1]\n",
    "    return list(map(lambda s: x == s, allowable_set))\n"
   ]
  },
  {
   "cell_type": "code",
   "execution_count": 14,
   "metadata": {},
   "outputs": [],
   "source": [
    "def atom_features(atom,\n",
    "                explicit_H=True,\n",
    "                use_chirality=False):\n",
    "\n",
    "    results = one_of_k_encoding_unk(\n",
    "        atom.GetSymbol(),\n",
    "        ['C','N','O', 'S','F','Si','P', 'Cl','Br','Mg','Na','Ca','Fe','As','Al','I','B','V','K','Tl',\n",
    "            'Yb','Sb','Sn','Ag','Pd','Co','Se','Ti','Zn','H', 'Li','Ge','Cu','Au','Ni','Cd','In',\n",
    "            'Mn','Zr','Cr','Pt','Hg','Pb','Unknown'\n",
    "        ]) + [atom.GetDegree()/10, atom.GetImplicitValence(), \n",
    "                atom.GetFormalCharge(), atom.GetNumRadicalElectrons()] + \\\n",
    "                one_of_k_encoding_unk(atom.GetHybridization(), [\n",
    "                Chem.rdchem.HybridizationType.SP, Chem.rdchem.HybridizationType.SP2,\n",
    "                Chem.rdchem.HybridizationType.SP3, Chem.rdchem.HybridizationType.\n",
    "                                    SP3D, Chem.rdchem.HybridizationType.SP3D2\n",
    "                ]) + [atom.GetIsAromatic()]\n",
    "    # In case of explicit hydrogen(QM8, QM9), avoid calling `GetTotalNumHs`\n",
    "    if explicit_H:\n",
    "        results = results + [atom.GetTotalNumHs()]\n",
    "\n",
    "    if use_chirality:\n",
    "        try:\n",
    "            results = results + one_of_k_encoding_unk(\n",
    "            atom.GetProp('_CIPCode'),\n",
    "            ['R', 'S']) + [atom.HasProp('_ChiralityPossible')]\n",
    "        except:\n",
    "            results = results + [False, False\n",
    "                            ] + [atom.HasProp('_ChiralityPossible')]\n",
    "\n",
    "    results = np.array(results).astype(np.float32)\n",
    "\n",
    "    return torch.from_numpy(results) # torch.rand_like()\n",
    "\n",
    "def get_mol_edge_list_and_feat_mtx(mol_graph, use_head_node=False, head_node_feat=None):\n",
    "    n_features = [(atom.GetIdx(), atom_features(atom)) for atom in mol_graph.GetAtoms()]\n",
    "    n_features.sort() # to make sure that the feature matrix is aligned according to the idx of the atom\n",
    "    _, n_features = zip(*n_features)\n",
    "    n_features = torch.stack(n_features)\n",
    "    edge_list = torch.LongTensor([(b.GetBeginAtomIdx(), b.GetEndAtomIdx()) for b in mol_graph.GetBonds()])\n",
    "    edge_attr = torch.FloatTensor([one_of_k_encoding_unk(b.GetBondType(), bond_type_set) for b in mol_graph.GetBonds()])\n",
    "    undirected_edge_list = torch.cat([edge_list, edge_list[:, [1, 0]]], dim=0) if len(edge_list) else edge_list \n",
    "    undirected_edge_attr = torch.cat([edge_attr, edge_attr], dim=0) if len(edge_attr) else edge_attr\n",
    "\n",
    "    if use_head_node:\n",
    "    \n",
    "        atm_num = len(n_features)\n",
    "        \n",
    "        if head_node_feat=='mean':\n",
    "            average_row = torch.mean(n_features, dim=0)\n",
    "        elif head_node_feat=='sum':\n",
    "            average_row = torch.sum(n_features, dim=0)\n",
    "        else:\n",
    "            # random like average_row\n",
    "            average_row = torch.rand_like(average_row)\n",
    "        \n",
    "        # Expand dimensions to match the shape of n_features\n",
    "        average_row = torch.unsqueeze(average_row, 0)\n",
    "        # Concatenate the average row with n_features\n",
    "        n_features_with_head = torch.cat((n_features, average_row), dim=0)\n",
    "\n",
    "        head_edges = torch.LongTensor([(atm_num, i) for i in range(atm_num)])\n",
    "        edge_attr_head_edges = torch.FloatTensor([one_of_k_encoding_unk('head', bond_type_set) for i in range(atm_num)])\n",
    "        \n",
    "        undirected_head_edges = torch.cat([head_edges, head_edges[:, [1, 0]]], dim=0) if len(head_edges) else head_edges\n",
    "        undirected_edge_attr_head_edges = torch.cat([edge_attr_head_edges, edge_attr_head_edges], dim=0) if len(edge_attr_head_edges) else edge_attr_head_edges\n",
    "        \n",
    "        undirected_edge_list_all = torch.cat([undirected_edge_list, undirected_head_edges], dim=0) if len(undirected_head_edges) else undirected_edge_list\n",
    "        undirected_edge_attr_all = torch.cat([undirected_edge_attr, undirected_edge_attr_head_edges], dim=0) if len(undirected_edge_attr_head_edges) else undirected_edge_attr\n",
    "\n",
    "        return undirected_edge_list_all.T, n_features_with_head, undirected_edge_attr_all\n",
    "    \n",
    "    return undirected_edge_list.T, n_features, undirected_edge_attr\n"
   ]
  },
  {
   "cell_type": "markdown",
   "metadata": {},
   "source": [
    "#### Molecular Graph Atom Node Featurizer"
   ]
  },
  {
   "cell_type": "code",
   "execution_count": 15,
   "metadata": {},
   "outputs": [],
   "source": [
    "edge_list, n_feature, edge_attr = get_mol_edge_list_and_feat_mtx(mol_graph)"
   ]
  },
  {
   "cell_type": "code",
   "execution_count": 16,
   "metadata": {},
   "outputs": [
    {
     "name": "stdout",
     "output_type": "stream",
     "text": [
      "shape of edge_list: torch.Size([2, 430]), shape of n_feature: torch.Size([214, 55]), shape of edge_attr: torch.Size([430, 5])\n"
     ]
    }
   ],
   "source": [
    "print(f'shape of edge_list: {edge_list.shape}, shape of n_feature: {n_feature.shape}, shape of edge_attr: {edge_attr.shape}')"
   ]
  },
  {
   "cell_type": "markdown",
   "metadata": {},
   "source": [
    "#### Set values require for encoding"
   ]
  },
  {
   "cell_type": "code",
   "execution_count": 17,
   "metadata": {},
   "outputs": [],
   "source": [
    "# # Gettings information and features of atoms\n",
    "# ATOM_MAX_NUM = np.max([m[1].GetNumAtoms() for m in drug_id_mol_graph_tup])\n",
    "# AVAILABLE_ATOM_SYMBOLS = list({a.GetSymbol() for a in itertools.chain.from_iterable(m[1].GetAtoms() for m in drug_id_mol_graph_tup)})\n",
    "# AVAILABLE_ATOM_DEGREES = list({a.GetDegree() for a in itertools.chain.from_iterable(m[1].GetAtoms() for m in drug_id_mol_graph_tup)})\n",
    "# AVAILABLE_ATOM_TOTAL_HS = list({a.GetTotalNumHs() for a in itertools.chain.from_iterable(m[1].GetAtoms() for m in drug_id_mol_graph_tup)})\n",
    "# max_valence = max(a.GetImplicitValence() for a in itertools.chain.from_iterable(m[1].GetAtoms() for m in drug_id_mol_graph_tup))\n",
    "# max_valence = max(max_valence, 9)\n",
    "# AVAILABLE_ATOM_VALENCE = np.arange(max_valence + 1)\n",
    "\n",
    "# MAX_ATOM_FC = abs(np.max([a.GetFormalCharge() for a in itertools.chain.from_iterable(m[1].GetAtoms() for m in drug_id_mol_graph_tup)]))\n",
    "# MAX_ATOM_FC = MAX_ATOM_FC if MAX_ATOM_FC else 0\n",
    "# MAX_RADICAL_ELC = abs(np.max([a.GetNumRadicalElectrons() for a in itertools.chain.from_iterable(m[1].GetAtoms() for m in drug_id_mol_graph_tup)]))\n",
    "# MAX_RADICAL_ELC = MAX_RADICAL_ELC if MAX_RADICAL_ELC else 0"
   ]
  },
  {
   "cell_type": "markdown",
   "metadata": {},
   "source": [
    "#### Generate Pyg Data for each drug in SIDER"
   ]
  },
  {
   "cell_type": "code",
   "execution_count": 18,
   "metadata": {},
   "outputs": [
    {
     "name": "stderr",
     "output_type": "stream",
     "text": [
      "/home/mayank/miniconda3/envs/dsn/lib/python3.7/site-packages/ipykernel_launcher.py:72: UserWarning: The use of `x.T` on tensors of dimension other than 2 to reverse their shape is deprecated and it will throw an error in a future release. Consider `x.mT` to transpose batches of matricesor `x.permute(*torch.arange(x.ndim - 1, -1, -1))` to reverse the dimensions of a tensor. (Triggered internally at  /opt/conda/conda-bld/pytorch_1659484809535/work/aten/src/ATen/native/TensorShape.cpp:2981.)\n"
     ]
    }
   ],
   "source": [
    "MOL_EDGE_LIST_FEAT_MTX = {drug_id: get_mol_edge_list_and_feat_mtx(mol) \n",
    "                                for drug_id, mol in drug_id_mol_graph_tup}\n",
    "\n",
    "MOL_EDGE_LIST_FEAT_MTX = {drug_id: mol for drug_id, mol in MOL_EDGE_LIST_FEAT_MTX.items() if mol is not None}\n",
    "\n",
    "TOTAL_ATOM_FEATS = (next(iter(MOL_EDGE_LIST_FEAT_MTX.values()))[1].shape[-1])"
   ]
  },
  {
   "cell_type": "code",
   "execution_count": 19,
   "metadata": {},
   "outputs": [
    {
     "data": {
      "text/plain": [
       "(1326, 1326)"
      ]
     },
     "execution_count": 19,
     "metadata": {},
     "output_type": "execute_result"
    }
   ],
   "source": [
    "len(drug_id_mol_graph_tup), len(MOL_EDGE_LIST_FEAT_MTX.keys())"
   ]
  },
  {
   "cell_type": "markdown",
   "metadata": {},
   "source": [
    "#### Plot distribution of SIDEEFFECT MEDRA ID"
   ]
  },
  {
   "cell_type": "code",
   "execution_count": 20,
   "metadata": {},
   "outputs": [],
   "source": [
    "cid_ctr = Counter([stichid for mlmc in column_list for stichid in eval(mlmc)])"
   ]
  },
  {
   "cell_type": "code",
   "execution_count": 21,
   "metadata": {},
   "outputs": [
    {
     "data": {
      "image/png": "[encoded data removed]",
      "text/plain": [
       "<Figure size 2000x1000 with 1 Axes>"
      ]
     },
     "metadata": {},
     "output_type": "display_data"
    }
   ],
   "source": [
    "# plot bar chart of all the side-effect\n",
    "plt.figure(figsize=(20, 10))\n",
    "plt.bar(cid_ctr.keys(), cid_ctr.values())\n",
    "plt.show()"
   ]
  },
  {
   "cell_type": "code",
   "execution_count": 22,
   "metadata": {},
   "outputs": [],
   "source": [
    "unique_values.sort()"
   ]
  },
  {
   "cell_type": "code",
   "execution_count": 23,
   "metadata": {},
   "outputs": [
    {
     "data": {
      "text/plain": [
       "['C0000727', 'C0000731', 'C0000737', 'C0000768', 'C0000786']"
      ]
     },
     "execution_count": 23,
     "metadata": {},
     "output_type": "execute_result"
    }
   ],
   "source": [
    "unique_values[:5]"
   ]
  },
  {
   "cell_type": "code",
   "execution_count": 24,
   "metadata": {},
   "outputs": [
    {
     "name": "stdout",
     "output_type": "stream",
     "text": [
      "2061 ['C0000727', 'C0000731', 'C0000737', 'C0000768', 'C0000786']\n"
     ]
    }
   ],
   "source": [
    "print(len(unique_values), unique_values[:5])"
   ]
  },
  {
   "attachments": {},
   "cell_type": "markdown",
   "metadata": {},
   "source": [
    "### Data Distribution and split"
   ]
  },
  {
   "cell_type": "code",
   "execution_count": 25,
   "metadata": {},
   "outputs": [],
   "source": [
    "import random\n",
    "import numpy as np\n",
    "import torch\n",
    "\n",
    "def seed_everything(seed: int):\n",
    "    random.seed(seed)\n",
    "    np.random.seed(seed)\n",
    "    torch.manual_seed(seed)\n",
    "    torch.cuda.manual_seed_all(seed)\n",
    "    torch.backends.cudnn.deterministic = True\n",
    "    torch.backends.cudnn.benchmark = False\n",
    "\n",
    "# Usage example:\n",
    "seed_everything(42)  # Set the seed to 42\n"
   ]
  },
  {
   "attachments": {},
   "cell_type": "markdown",
   "metadata": {},
   "source": [
    "##### Stratified Split - Using SIDER Drug STITCH ID Multi-label Multi-class"
   ]
  },
  {
   "cell_type": "code",
   "execution_count": 26,
   "metadata": {},
   "outputs": [],
   "source": [
    "X = df_all_se['STITCH ID STEREO'].values\n",
    "y = np.stack(df_all_se['MEDRA TERM UMLS CONCEPT ID'].apply(lambda x: all_of_k_encoding_unk(eval(x), unique_values)))"
   ]
  },
  {
   "cell_type": "code",
   "execution_count": 27,
   "metadata": {},
   "outputs": [],
   "source": [
    "# Split data into training (60%), validation (20%), and testing (20%) sets\n",
    "X_train, X_test, y_train, y_test = train_test_split(X, y, test_size=0.2)"
   ]
  },
  {
   "cell_type": "markdown",
   "metadata": {},
   "source": [
    "#### Visualize Data Split y distribution - train"
   ]
  },
  {
   "cell_type": "code",
   "execution_count": 28,
   "metadata": {},
   "outputs": [
    {
     "data": {
      "image/png": "[encoded data removed]",
      "text/plain": [
       "<Figure size 2000x1000 with 1 Axes>"
      ]
     },
     "metadata": {},
     "output_type": "display_data"
    }
   ],
   "source": [
    "# plot y  distribution such as count of 1 per row\n",
    "plt.figure(figsize=(20, 10))\n",
    "plt.bar(*zip(*Counter(y_train.sum(axis=1)).items()))\n",
    "plt.title('Distribution of number of side-effects per drug')\n",
    "plt.xlabel('Drug id')\n",
    "plt.ylabel('# of side-effects count')\n",
    "plt.show()"
   ]
  },
  {
   "cell_type": "markdown",
   "metadata": {},
   "source": [
    "#### Visualize Data Split y distribution - test"
   ]
  },
  {
   "cell_type": "code",
   "execution_count": 29,
   "metadata": {},
   "outputs": [
    {
     "data": {
      "image/png": "[encoded data removed]",
      "text/plain": [
       "<Figure size 2000x1000 with 1 Axes>"
      ]
     },
     "metadata": {},
     "output_type": "display_data"
    }
   ],
   "source": [
    "# plot y  distribution such as count of 1 per row\n",
    "plt.figure(figsize=(20, 10))\n",
    "plt.bar(*zip(*Counter(y_test.sum(axis=1)).items()))\n",
    "plt.title('Distribution of number of side-effects per drug')\n",
    "plt.xlabel('Drug id')\n",
    "plt.ylabel('# of side-effects count')\n",
    "plt.show()"
   ]
  },
  {
   "cell_type": "markdown",
   "metadata": {},
   "source": [
    "#### MultilabelStratifiedShuffleSplit"
   ]
  },
  {
   "cell_type": "code",
   "execution_count": 30,
   "metadata": {},
   "outputs": [],
   "source": [
    "def split_train_valid(X, y, fold, val_ratio=0.2):\n",
    "    cv_split = MultilabelStratifiedShuffleSplit(n_splits=2, test_size=val_ratio, random_state=fold)\n",
    "    train_index, val_index = next(iter(cv_split.split(X=X, y=y)))\n",
    "    X_train = X[train_index]\n",
    "    y_train = y[train_index]\n",
    "    X_val = X[val_index]\n",
    "    y_val = y[val_index]\n",
    "    # X_train, X_val, y_train, y_val = train_test_split(X, y, test_size=val_ratio, random_state=fold)\n",
    "    return X_train, y_train, X_val, y_val"
   ]
  },
  {
   "cell_type": "markdown",
   "metadata": {},
   "source": [
    "#### MultilabelStratifiedKFold"
   ]
  },
  {
   "cell_type": "code",
   "execution_count": 31,
   "metadata": {},
   "outputs": [],
   "source": [
    "def ksplit_train_valid(X, y, num_folds, val_ratio=0.2):\n",
    "    mskf = MultilabelStratifiedKFold(n_splits=num_folds, random_state=0, shuffle=True)\n",
    "    folds = []\n",
    "    for train_index, val_index in mskf.split(X, y):\n",
    "        X_train, X_val = X[train_index], X[val_index]\n",
    "        y_train, y_val = y[train_index], y[val_index]\n",
    "        folds.append((X_train, y_train, X_val, y_val))\n",
    "    return folds"
   ]
  },
  {
   "cell_type": "markdown",
   "metadata": {},
   "source": [
    "#### K-split using MultilabelStratifiedKFold"
   ]
  },
  {
   "cell_type": "code",
   "execution_count": 32,
   "metadata": {},
   "outputs": [],
   "source": [
    "folds = ksplit_train_valid(X_train, y_train, num_folds=5, val_ratio=0.2)"
   ]
  },
  {
   "cell_type": "markdown",
   "metadata": {},
   "source": [
    "#### Train-Test split using MultilabelStratifiedShuffleSplit"
   ]
  },
  {
   "cell_type": "code",
   "execution_count": 33,
   "metadata": {},
   "outputs": [
    {
     "name": "stdout",
     "output_type": "stream",
     "text": [
      "X_train: (808,), y_train: (808, 2061), X_val: (252,), y_val: (252, 2061), X_test: (266,), y_test: (266, 2061)\n"
     ]
    }
   ],
   "source": [
    "X_train, y_train, X_val, y_val = split_train_valid(X_train, y_train, 1)\n",
    "print(f'X_train: {X_train.shape}, y_train: {y_train.shape}, X_val: {X_val.shape}, y_val: {y_val.shape}, X_test: {X_test.shape}, y_test: {y_test.shape}')"
   ]
  },
  {
   "cell_type": "markdown",
   "metadata": {},
   "source": [
    "#### Create train, val, test data "
   ]
  },
  {
   "cell_type": "code",
   "execution_count": 34,
   "metadata": {},
   "outputs": [],
   "source": [
    "train_tup = list(zip(X_train, y_train))\n",
    "val_tup = list(zip(X_val, y_val))\n",
    "test_tup = list(zip(X_test, y_test))"
   ]
  },
  {
   "cell_type": "code",
   "execution_count": 35,
   "metadata": {},
   "outputs": [
    {
     "data": {
      "text/plain": [
       "('CID000003278', array([0., 0., 0., ..., 0., 0., 0.]))"
      ]
     },
     "execution_count": 35,
     "metadata": {},
     "output_type": "execute_result"
    }
   ],
   "source": [
    "train_tup[0]"
   ]
  },
  {
   "cell_type": "code",
   "execution_count": 36,
   "metadata": {},
   "outputs": [],
   "source": [
    "# randsplit_df = pd.DataFrame({\n",
    "#     'train': Counter(str(combination) for row in get_combination_wise_output_matrix(y_train.values, order=2) for combination in row),\n",
    "#     'test' : Counter(str(combination) for row in get_combination_wise_output_matrix(y_test.values, order=2) for combination in row)\n",
    "# }).T.fillna(0.0)\n",
    "# sort the columns\n",
    "# randsplit_df = randsplit_df.reindex(sorted(randsplit_df.columns), axis=1)\n",
    "# randsplit_df.head()\n",
    "# start_df = pd.DataFrame({\n",
    "#     'train': Counter(str(combination) for row in get_combination_wise_output_matrix(y_train, order=2) for combination in row),\n",
    "#     'test' : Counter(str(combination) for row in get_combination_wise_output_matrix(y_test, order=2) for combination in row)\n",
    "# }).T.fillna(0.0)\n",
    "# randsplit_df[start_df.columns].head()"
   ]
  },
  {
   "cell_type": "markdown",
   "metadata": {},
   "source": [
    "#### All drug ids"
   ]
  },
  {
   "cell_type": "code",
   "execution_count": 37,
   "metadata": {},
   "outputs": [],
   "source": [
    "ALL_DRUG_IDS, _ = zip(*drug_id_mol_graph_tup)\n",
    "ALL_DRUG_IDS = np.array(list(set(ALL_DRUG_IDS)))"
   ]
  },
  {
   "cell_type": "code",
   "execution_count": 38,
   "metadata": {},
   "outputs": [
    {
     "data": {
      "text/plain": [
       "array(['CID000125017', 'CID000002160', 'CID011672461', ...,\n",
       "       'CID000006238', 'CID006918140', 'CID000004034'], dtype='<U12')"
      ]
     },
     "execution_count": 38,
     "metadata": {},
     "output_type": "execute_result"
    }
   ],
   "source": [
    "ALL_DRUG_IDS"
   ]
  },
  {
   "cell_type": "markdown",
   "metadata": {},
   "source": [
    "### Pyg Custom Dataset"
   ]
  },
  {
   "cell_type": "code",
   "execution_count": 39,
   "metadata": {},
   "outputs": [],
   "source": [
    "from torch.utils.data import Dataset, DataLoader\n",
    "from torch_geometric.data import Data, Batch\n",
    "import math"
   ]
  },
  {
   "cell_type": "code",
   "execution_count": 40,
   "metadata": {},
   "outputs": [],
   "source": [
    "class DrugDataset(Dataset):\n",
    "    def __init__(self, data_tup, ratio=1.0,  neg_ent=1, disjoint_split=True, shuffle=True):\n",
    "        ''''disjoint_split: Consider whether entities should appear in one and only one split of the dataset\n",
    "        ''' \n",
    "        self.neg_ent = neg_ent # not using now multi-label multi-class do not need this\n",
    "        self.data_tup = []\n",
    "        self.ratio = ratio\n",
    "        \n",
    "        for h, se in data_tup:\n",
    "            if (h in MOL_EDGE_LIST_FEAT_MTX):\n",
    "                self.data_tup.append((h,se))\n",
    "        if disjoint_split:\n",
    "            d1, *_ = zip(*self.data_tup)\n",
    "            self.drug_ids = np.array(list(set(d1)))\n",
    "        else:\n",
    "            self.drug_ids = ALL_DRUG_IDS\n",
    "\n",
    "        self.drug_ids = np.array([id for id in self.drug_ids if id in MOL_EDGE_LIST_FEAT_MTX])\n",
    "        \n",
    "        if shuffle:\n",
    "            random.shuffle(self.data_tup)\n",
    "        limit = math.ceil(len(self.data_tup) * ratio)\n",
    "        self.data_tup = self.data_tup[:limit]\n",
    "  \n",
    "    def __len__(self):\n",
    "        return len(self.data_tup)\n",
    "    \n",
    "    def __getitem__(self, index):\n",
    "        return self.data_tup[index]\n",
    "\n",
    "    def collate_fn(self, batch):\n",
    "        \n",
    "        h_samples = []\n",
    "        h_se_samples = []\n",
    "        \n",
    "        for h, se in batch:\n",
    "            h_data = self.__create_graph_data(h)\n",
    "            h_samples.append(h_data)\n",
    "            h_se_samples.append(se)\n",
    "        \n",
    "        h_samples = Batch.from_data_list(h_samples)\n",
    "        h_se_samples = torch.LongTensor(h_se_samples)\n",
    "\n",
    "        return h_samples, h_se_samples\n",
    "    \n",
    "    # def __create_side_eff_labels(self, id):\n",
    "    #     return SIDE_EFFECT_LABELS[id]\n",
    "\n",
    "    def __create_graph_data(self, id):\n",
    "        edge_index = MOL_EDGE_LIST_FEAT_MTX[id][0]\n",
    "        n_features = MOL_EDGE_LIST_FEAT_MTX[id][1]\n",
    "        edge_attr = MOL_EDGE_LIST_FEAT_MTX[id][2]  \n",
    "        return Data(x=n_features, edge_index=edge_index, edge_attr=edge_attr)\n",
    "    \n",
    "    # def _create_b_graph(self,edge_index,x_s, x_t):\n",
    "    #     return BipartiteData(edge_index,x_s,x_t)\n",
    "    ### neg sampling strategy ###\n",
    "    # def __corrupt_ent(self, other_ent, r, other_ent_with_r_dict, max_num=1):\n",
    "    #     corrupted_ents = []\n",
    "    #     current_size = 0\n",
    "    #     while current_size < max_num:\n",
    "    #         candidates = np.random.choice(self.drug_ids, (max_num - current_size) * 2)\n",
    "    #         mask = np.isin(candidates, other_ent_with_r_dict[(other_ent, r)], assume_unique=True, invert=True)\n",
    "    #         corrupted_ents.append(candidates[mask])\n",
    "    #         current_size += len(corrupted_ents[-1])\n",
    "        \n",
    "    #     if corrupted_ents != []:\n",
    "    #         corrupted_ents = np.concatenate(corrupted_ents)\n",
    "\n",
    "    #     return np.asarray(corrupted_ents[:max_num])\n",
    "        \n",
    "    # def __corrupt_head(self, t, r, n=1):\n",
    "    #     return self.__corrupt_ent(t, r, ALL_TRUE_H_WITH_TR, n)\n",
    "\n",
    "    # def __corrupt_tail(self, h, r, n=1):\n",
    "    #     return self.__corrupt_ent(h, r, ALL_TRUE_T_WITH_HR, n)\n",
    "    \n",
    "    # def __normal_batch(self, h, t, r, neg_size):\n",
    "    #     neg_size_h = 0\n",
    "    #     neg_size_t = 0\n",
    "    #     prob = ALL_TAIL_PER_HEAD[r] / (ALL_TAIL_PER_HEAD[r] + ALL_HEAD_PER_TAIL[r])\n",
    "    #     for i in range(neg_size):\n",
    "    #         if random.random() < prob:\n",
    "    #             neg_size_h += 1\n",
    "    #         else:\n",
    "    #             neg_size_t +=1\n",
    "        \n",
    "    #     return (self.__corrupt_head(t, r, neg_size_h),\n",
    "    #             self.__corrupt_tail(h, r, neg_size_t))  \n"
   ]
  },
  {
   "cell_type": "markdown",
   "metadata": {},
   "source": [
    "### Pyg DataLoader"
   ]
  },
  {
   "cell_type": "code",
   "execution_count": 41,
   "metadata": {},
   "outputs": [],
   "source": [
    "class DrugDataLoader(DataLoader):\n",
    "    def __init__(self, data, **kwargs):\n",
    "        super().__init__(data, collate_fn=data.collate_fn, **kwargs)"
   ]
  },
  {
   "cell_type": "markdown",
   "metadata": {},
   "source": [
    "### Create Pyg Dataset using split "
   ]
  },
  {
   "cell_type": "code",
   "execution_count": 42,
   "metadata": {},
   "outputs": [],
   "source": [
    "train_data = DrugDataset(train_tup, ratio=1, neg_ent=1)\n",
    "val_data = DrugDataset(val_tup, ratio=1, neg_ent=1)\n",
    "test_data = DrugDataset(test_tup, ratio=1, neg_ent=1)"
   ]
  },
  {
   "cell_type": "markdown",
   "metadata": {},
   "source": [
    "### Create Pyg Dataloader using pyg dataset"
   ]
  },
  {
   "cell_type": "code",
   "execution_count": 79,
   "metadata": {},
   "outputs": [
    {
     "name": "stdout",
     "output_type": "stream",
     "text": [
      "Training with 837 samples, validating with 223, and testing with 266\n"
     ]
    }
   ],
   "source": [
    "print(f\"Training with {len(train_data)} samples, validating with {len(val_data)}, and testing with {len(test_data)}\")\n",
    "\n",
    "train_data_loader = DrugDataLoader(train_data, batch_size=64, shuffle=True,num_workers=2)\n",
    "val_data_loader = DrugDataLoader(val_data, batch_size=64,num_workers=2)\n",
    "test_data_loader = DrugDataLoader(test_data, batch_size=64 *3,num_workers=2)\n",
    "    "
   ]
  },
  {
   "cell_type": "markdown",
   "metadata": {},
   "source": [
    "#### Sample view pyg Data"
   ]
  },
  {
   "cell_type": "code",
   "execution_count": 44,
   "metadata": {},
   "outputs": [
    {
     "name": "stderr",
     "output_type": "stream",
     "text": [
      "/home/mayank/miniconda3/envs/dsn/lib/python3.7/site-packages/ipykernel_launcher.py:42: UserWarning: Creating a tensor from a list of numpy.ndarrays is extremely slow. Please consider converting the list to a single numpy.ndarray with numpy.array() before converting to a tensor. (Triggered internally at  /opt/conda/conda-bld/pytorch_1659484809535/work/torch/csrc/utils/tensor_new.cpp:201.)\n",
      "/home/mayank/miniconda3/envs/dsn/lib/python3.7/site-packages/ipykernel_launcher.py:42: UserWarning: Creating a tensor from a list of numpy.ndarrays is extremely slow. Please consider converting the list to a single numpy.ndarray with numpy.array() before converting to a tensor. (Triggered internally at  /opt/conda/conda-bld/pytorch_1659484809535/work/torch/csrc/utils/tensor_new.cpp:201.)\n"
     ]
    }
   ],
   "source": [
    "X, y = next(iter(train_data_loader))"
   ]
  },
  {
   "cell_type": "code",
   "execution_count": 45,
   "metadata": {},
   "outputs": [
    {
     "data": {
      "text/plain": [
       "DataBatch(x=[2125, 55], edge_index=[2, 4428], edge_attr=[4428, 5], batch=[2125], ptr=[65])"
      ]
     },
     "execution_count": 45,
     "metadata": {},
     "output_type": "execute_result"
    }
   ],
   "source": [
    "X"
   ]
  },
  {
   "cell_type": "code",
   "execution_count": 46,
   "metadata": {},
   "outputs": [
    {
     "data": {
      "text/plain": [
       "(tensor([[0, 0, 1,  ..., 1, 0, 0],\n",
       "         [0, 1, 1,  ..., 0, 0, 0],\n",
       "         [0, 0, 1,  ..., 0, 0, 0],\n",
       "         ...,\n",
       "         [0, 0, 0,  ..., 0, 0, 0],\n",
       "         [0, 0, 1,  ..., 1, 0, 0],\n",
       "         [0, 0, 0,  ..., 1, 0, 0]]),\n",
       " torch.Size([64, 2061]))"
      ]
     },
     "execution_count": 46,
     "metadata": {},
     "output_type": "execute_result"
    }
   ],
   "source": [
    "y, y.shape"
   ]
  },
  {
   "cell_type": "code",
   "execution_count": 47,
   "metadata": {},
   "outputs": [
    {
     "name": "stderr",
     "output_type": "stream",
     "text": [
      "/home/mayank/miniconda3/envs/dsn/lib/python3.7/site-packages/ipykernel_launcher.py:42: UserWarning: Creating a tensor from a list of numpy.ndarrays is extremely slow. Please consider converting the list to a single numpy.ndarray with numpy.array() before converting to a tensor. (Triggered internally at  /opt/conda/conda-bld/pytorch_1659484809535/work/torch/csrc/utils/tensor_new.cpp:201.)\n",
      "/home/mayank/miniconda3/envs/dsn/lib/python3.7/site-packages/ipykernel_launcher.py:42: UserWarning: Creating a tensor from a list of numpy.ndarrays is extremely slow. Please consider converting the list to a single numpy.ndarray with numpy.array() before converting to a tensor. (Triggered internally at  /opt/conda/conda-bld/pytorch_1659484809535/work/torch/csrc/utils/tensor_new.cpp:201.)\n"
     ]
    },
    {
     "name": "stdout",
     "output_type": "stream",
     "text": [
      "Step 1:\n",
      "=======\n",
      "Number of graphs in the current batch: 64\n",
      "DataBatch(x=[1970, 55], edge_index=[2, 4138], edge_attr=[4138, 5], batch=[1970], ptr=[65])\n",
      "\n",
      "Step 2:\n",
      "=======\n",
      "Number of graphs in the current batch: 64\n",
      "DataBatch(x=[1947, 55], edge_index=[2, 4104], edge_attr=[4104, 5], batch=[1947], ptr=[65])\n",
      "\n",
      "Step 3:\n",
      "=======\n",
      "Number of graphs in the current batch: 64\n",
      "DataBatch(x=[1790, 55], edge_index=[2, 3756], edge_attr=[3756, 5], batch=[1790], ptr=[65])\n",
      "\n",
      "Step 4:\n",
      "=======\n",
      "Number of graphs in the current batch: 64\n",
      "DataBatch(x=[2193, 55], edge_index=[2, 4620], edge_attr=[4620, 5], batch=[2193], ptr=[65])\n",
      "\n",
      "Step 5:\n",
      "=======\n",
      "Number of graphs in the current batch: 64\n",
      "DataBatch(x=[1994, 55], edge_index=[2, 4198], edge_attr=[4198, 5], batch=[1994], ptr=[65])\n",
      "\n",
      "Step 6:\n",
      "=======\n",
      "Number of graphs in the current batch: 64\n",
      "DataBatch(x=[1793, 55], edge_index=[2, 3780], edge_attr=[3780, 5], batch=[1793], ptr=[65])\n",
      "\n",
      "Step 7:\n",
      "=======\n",
      "Number of graphs in the current batch: 64\n",
      "DataBatch(x=[1984, 55], edge_index=[2, 4168], edge_attr=[4168, 5], batch=[1984], ptr=[65])\n",
      "\n",
      "Step 8:\n",
      "=======\n",
      "Number of graphs in the current batch: 64\n",
      "DataBatch(x=[2191, 55], edge_index=[2, 4622], edge_attr=[4622, 5], batch=[2191], ptr=[65])\n",
      "\n",
      "Step 9:\n",
      "=======\n",
      "Number of graphs in the current batch: 64\n",
      "DataBatch(x=[1772, 55], edge_index=[2, 3734], edge_attr=[3734, 5], batch=[1772], ptr=[65])\n",
      "\n",
      "Step 10:\n",
      "=======\n",
      "Number of graphs in the current batch: 64\n",
      "DataBatch(x=[2288, 55], edge_index=[2, 4850], edge_attr=[4850, 5], batch=[2288], ptr=[65])\n",
      "\n",
      "Step 11:\n",
      "=======\n",
      "Number of graphs in the current batch: 64\n",
      "DataBatch(x=[2704, 55], edge_index=[2, 5638], edge_attr=[5638, 5], batch=[2704], ptr=[65])\n",
      "\n",
      "Step 12:\n",
      "=======\n",
      "Number of graphs in the current batch: 64\n",
      "DataBatch(x=[2375, 55], edge_index=[2, 4954], edge_attr=[4954, 5], batch=[2375], ptr=[65])\n",
      "\n",
      "Step 13:\n",
      "=======\n",
      "Number of graphs in the current batch: 40\n",
      "DataBatch(x=[1080, 55], edge_index=[2, 2288], edge_attr=[2288, 5], batch=[1080], ptr=[41])\n",
      "\n"
     ]
    }
   ],
   "source": [
    "for step,( X,y) in enumerate(train_data_loader):\n",
    "    print(f'Step {step + 1}:')\n",
    "    print('=======')\n",
    "    print(f'Number of graphs in the current batch: {y.shape[0]}')\n",
    "    print(X)\n",
    "    print()"
   ]
  },
  {
   "cell_type": "markdown",
   "metadata": {},
   "source": [
    "### Model Loss"
   ]
  },
  {
   "cell_type": "code",
   "execution_count": 49,
   "metadata": {},
   "outputs": [],
   "source": [
    "import torch\n",
    "import torch.nn as nn\n",
    "import torch.nn.functional as F\n",
    "\n",
    "class DiceLoss(nn.Module):\n",
    "    def __init__(self, smooth=1e-5):\n",
    "        super(DiceLoss, self).__init__()\n",
    "        self.smooth = smooth\n",
    "\n",
    "    def forward(self, input, target):\n",
    "        # Flatten the input and target tensors\n",
    "        input = input.view(-1)\n",
    "        target = target.view(-1)\n",
    "\n",
    "        intersection = torch.sum(input * target)\n",
    "        cardinality = torch.sum(input) + torch.sum(target)\n",
    "\n",
    "        dice_loss = 1 - (2 * intersection + self.smooth) / (cardinality + self.smooth)\n",
    "\n",
    "        return dice_loss\n"
   ]
  },
  {
   "cell_type": "code",
   "execution_count": null,
   "metadata": {},
   "outputs": [],
   "source": [
    "import torch\n",
    "import torch.nn as nn\n",
    "import torch.nn.functional as F\n",
    "\n",
    "class FocalLoss(nn.Module):\n",
    "    def __init__(self, alpha=None, gamma=2, reduction='mean'):\n",
    "        super(FocalLoss, self).__init__()\n",
    "        self.alpha = alpha\n",
    "        self.gamma = gamma\n",
    "        self.reduction = reduction\n",
    "\n",
    "    def forward(self, pt, target):\n",
    "        \n",
    "        \n",
    "        loss = -self.alpha * (1 - pt) ** self.gamma * target * torch.log(pt + 1e-20) - \\\n",
    "               (1 - self.alpha) * pt ** self.gamma * (1 - target) * torch.log(1 - pt + 1e-20)\n",
    "        \n",
    "        if self.reduction == 'mean':\n",
    "            loss = loss.mean()\n",
    "        elif self.reduction == 'sum':\n",
    "            loss = loss.sum()\n",
    "\n",
    "        return loss\n"
   ]
  },
  {
   "cell_type": "code",
   "execution_count": 52,
   "metadata": {},
   "outputs": [],
   "source": [
    "import torch\n",
    "import torch.nn.functional as F\n",
    "\n",
    "def symmetric_cross_entropy_loss(outputs, targets, alpha=0.1, beta=1.0):\n",
    "    batch_size = outputs.size(0)\n",
    "    num_classes = outputs.size(1)\n",
    "    \n",
    "    # Compute the Cross Entropy loss\n",
    "    ce_loss = F.binary_cross_entropy_with_logits(outputs, targets)\n",
    "    \n",
    "    # Compute the Reverse Cross Entropy loss\n",
    "    reverse_ce_loss = F.binary_cross_entropy_with_logits(targets, outputs)\n",
    "    \n",
    "    # Compute the Symmetric Cross Entropy loss\n",
    "    sce_loss = alpha * ce_loss + beta * reverse_ce_loss\n",
    "    \n",
    "    return sce_loss\n",
    "\n",
    "# Example usage\n",
    "# outputs = torch.randn(32, 10)  # Output logits from the model\n",
    "# targets = torch.randn(32, 10)  # Target labels (can be one-hot encoded or raw logits)\n",
    "\n",
    "# loss = symmetric_cross_entropy_loss(outputs, targets, alpha=0.1, beta=1.0)\n"
   ]
  },
  {
   "cell_type": "code",
   "execution_count": null,
   "metadata": {},
   "outputs": [],
   "source": [
    "# import torch\n",
    "# import torch.nn as nn\n",
    "# import torch.nn.functional as F\n",
    "\n",
    "# class FocalLoss(nn.Module):\n",
    "#     def __init__(self, alpha=0.5, gamma=2, reduction='mean'):\n",
    "#         super(FocalLoss, self).__init__()\n",
    "#         self.alpha = alpha\n",
    "#         self.gamma = gamma\n",
    "#         self.reduction = reduction\n",
    "\n",
    "#     def forward(self, input, target):\n",
    "#         pt = torch.sigmoid(input)\n",
    "#         loss = -self.alpha * (1 - pt) ** self.gamma * target * torch.log(pt) - \\\n",
    "#                (1 - self.alpha) * pt ** self.gamma * (1 - target) * torch.log(1 - pt)\n",
    "\n",
    "#         if self.reduction == 'mean':\n",
    "#             loss = loss.mean()\n",
    "#         elif self.reduction == 'sum':\n",
    "#             loss = loss.sum()\n",
    "\n",
    "#         return loss\n"
   ]
  },
  {
   "cell_type": "code",
   "execution_count": null,
   "metadata": {},
   "outputs": [],
   "source": [
    "# import torch\n",
    "# import torch.nn.functional as F\n",
    "\n",
    "# def adaptive_logarithmic_loss(outputs, targets, alpha=0.7, gamma=5.0, epsilon=1e-7):\n",
    "#     batch_size = outputs.size(0)\n",
    "#     num_classes = outputs.size(1)\n",
    "    \n",
    "#     # Apply sigmoid activation to the outputs\n",
    "#     outputs = torch.sigmoid(outputs)\n",
    "    \n",
    "#     # Compute the per-class weights\n",
    "#     targets_sum = targets.sum(dim=0)\n",
    "#     targets_weight = (1.0 - alpha) / (targets_sum + epsilon)  # Add epsilon for numerical stability\n",
    "    \n",
    "#     # Compute the Logarithmic Loss\n",
    "#     log_loss = -torch.log(outputs + epsilon) * targets * targets_weight\n",
    "    \n",
    "#     # Compute the Adaptive Logarithmic Loss\n",
    "#     all_loss = log_loss.sum() / (batch_size * num_classes)\n",
    "    \n",
    "#     # Apply the focal factor to the loss\n",
    "#     all_loss = torch.pow(1.0 - all_loss, gamma)\n",
    "    \n",
    "#     return all_loss\n",
    "\n",
    "# # Example usage\n",
    "# outputs = torch.randn(32, 10)  # Output logits from the model\n",
    "# targets = torch.randn(32, 10)  # Target labels (can be one-hot encoded or raw logits)\n",
    "\n",
    "# # loss = adaptive_logarithmic_loss(outputs, targets, alpha=0.5, gamma=2.0, epsilon=1e-7)\n"
   ]
  },
  {
   "cell_type": "markdown",
   "metadata": {},
   "source": [
    "### Pyg Model - using single head gat - 3 gatv2conv"
   ]
  },
  {
   "cell_type": "code",
   "execution_count": 54,
   "metadata": {},
   "outputs": [],
   "source": [
    "from torch.nn import Linear, Sequential\n",
    "from torch import nn\n",
    "import torch.nn.functional as F\n",
    "from torch_geometric.nn import GCNConv, GATv2Conv, GATConv\n",
    "from torch_geometric.nn import global_mean_pool\n",
    "\n",
    "\n",
    "class GCN(torch.nn.Module):\n",
    "    def __init__(self, num_node_features, hidden_channels, num_classes):\n",
    "        super(GCN, self).__init__()\n",
    "        # torch.manual_seed(12345)\n",
    "        self.conv1 = GATv2Conv(num_node_features, hidden_channels, edge_dim=5)\n",
    "        self.conv2 = GATv2Conv(hidden_channels, hidden_channels,  edge_dim=5)\n",
    "        self.conv3 = GATv2Conv(hidden_channels, hidden_channels,  edge_dim=5)\n",
    "        self.lin = Sequential(Linear(3*hidden_channels, hidden_channels), nn.ReLU(), Linear(hidden_channels, num_classes), nn.Sigmoid())            \n",
    "        self.batchnorm1 = torch.nn.BatchNorm1d(num_node_features)\n",
    "        self.batchnorm2 = torch.nn.BatchNorm1d(hidden_channels)\n",
    "        self.batchnorm3 = torch.nn.BatchNorm1d(hidden_channels)      \n",
    "\n",
    "    def forward(self, x, edge_index, edge_attr, batch):\n",
    "        head_nodes = []\n",
    "        #to-do: check this logic. I intended to pick last atom which should be head node frpm batches\n",
    "        # Find the indices of the last node in each batch\n",
    "        unique_batches = torch.unique(batch)\n",
    "        last_indices = torch.zeros_like(unique_batches)\n",
    "        for i, b in enumerate(unique_batches):\n",
    "            last_indices[i] = (batch == b).nonzero().max()\n",
    "        \n",
    "        x = self.batchnorm1(x)\n",
    "        # 1. Obtain node embeddings \n",
    "        x = self.conv1(x, edge_index, edge_attr=edge_attr)\n",
    "        x = self.batchnorm2(x)\n",
    "        x = x.relu()\n",
    "        head_nodes.append(x[last_indices])\n",
    "        x = self.conv2(x, edge_index, edge_attr=edge_attr)\n",
    "        x = self.batchnorm3(x)\n",
    "        x = x.relu()\n",
    "        head_nodes.append(x[last_indices])\n",
    "        x = self.conv3(x, edge_index, edge_attr=edge_attr)\n",
    "        \n",
    "        \n",
    "        head_nodes.append(x[last_indices])\n",
    "        head_nodes = torch.cat(head_nodes, dim=1)\n",
    "        # # 2. Readout layer\n",
    "        # x = global_mean_pool(x, batch)  # [batch_size, hidden_channels]\n",
    "\n",
    "        # 3. Apply a final classifier\n",
    "        x = F.dropout(head_nodes, p=0.5, training=self.training)\n",
    "        x = self.lin(x)\n",
    "        \n",
    "        return x\n"
   ]
  },
  {
   "cell_type": "markdown",
   "metadata": {},
   "source": [
    "#### Forward logic to pick the head node from the batch\n",
    "Note: Here batch contains number of drugs with each drug represented as atoms and bonds and hence batch.x shape"
   ]
  },
  {
   "cell_type": "code",
   "execution_count": 76,
   "metadata": {},
   "outputs": [],
   "source": [
    "train_data_loader = DrugDataLoader(train_data, batch_size=64, shuffle=True,num_workers=2)"
   ]
  },
  {
   "cell_type": "code",
   "execution_count": 90,
   "metadata": {},
   "outputs": [
    {
     "name": "stderr",
     "output_type": "stream",
     "text": [
      "/home/mayank/miniconda3/envs/dsn/lib/python3.7/site-packages/ipykernel_launcher.py:42: UserWarning: Creating a tensor from a list of numpy.ndarrays is extremely slow. Please consider converting the list to a single numpy.ndarray with numpy.array() before converting to a tensor. (Triggered internally at  /opt/conda/conda-bld/pytorch_1659484809535/work/torch/csrc/utils/tensor_new.cpp:201.)\n",
      "/home/mayank/miniconda3/envs/dsn/lib/python3.7/site-packages/ipykernel_launcher.py:42: UserWarning: Creating a tensor from a list of numpy.ndarrays is extremely slow. Please consider converting the list to a single numpy.ndarray with numpy.array() before converting to a tensor. (Triggered internally at  /opt/conda/conda-bld/pytorch_1659484809535/work/torch/csrc/utils/tensor_new.cpp:201.)\n"
     ]
    }
   ],
   "source": [
    "batch, y = next(iter(train_data_loader))"
   ]
  },
  {
   "cell_type": "code",
   "execution_count": 83,
   "metadata": {},
   "outputs": [
    {
     "data": {
      "text/plain": [
       "torch.Size([64, 2061])"
      ]
     },
     "execution_count": 83,
     "metadata": {},
     "output_type": "execute_result"
    }
   ],
   "source": [
    "y.shape"
   ]
  },
  {
   "cell_type": "code",
   "execution_count": 88,
   "metadata": {},
   "outputs": [
    {
     "data": {
      "text/plain": [
       "DataBatch(x=[1760, 55], edge_index=[2, 3712], edge_attr=[3712, 5], batch=[1760], ptr=[65])"
      ]
     },
     "execution_count": 88,
     "metadata": {},
     "output_type": "execute_result"
    }
   ],
   "source": [
    "batch"
   ]
  },
  {
   "cell_type": "code",
   "execution_count": 69,
   "metadata": {},
   "outputs": [
    {
     "name": "stdout",
     "output_type": "stream",
     "text": [
      "torch.Size([2102])\n"
     ]
    },
    {
     "data": {
      "text/plain": [
       "tensor([ 0,  0,  0,  ..., 63, 63, 63])"
      ]
     },
     "execution_count": 69,
     "metadata": {},
     "output_type": "execute_result"
    }
   ],
   "source": [
    "print(batch.batch.shape)\n",
    "batch.batch"
   ]
  },
  {
   "cell_type": "code",
   "execution_count": 91,
   "metadata": {},
   "outputs": [
    {
     "data": {
      "text/plain": [
       "tensor([ 0,  1,  2,  3,  4,  5,  6,  7,  8,  9, 10, 11, 12, 13, 14, 15, 16, 17,\n",
       "        18, 19, 20, 21, 22, 23, 24, 25, 26, 27, 28, 29, 30, 31, 32, 33, 34, 35,\n",
       "        36, 37, 38, 39, 40, 41, 42, 43, 44, 45, 46, 47, 48, 49, 50, 51, 52, 53,\n",
       "        54, 55, 56, 57, 58, 59, 60, 61, 62, 63])"
      ]
     },
     "execution_count": 91,
     "metadata": {},
     "output_type": "execute_result"
    }
   ],
   "source": [
    "unique_batches = torch.unique(batch.batch)\n",
    "unique_batches"
   ]
  },
  {
   "cell_type": "code",
   "execution_count": 92,
   "metadata": {},
   "outputs": [
    {
     "data": {
      "text/plain": [
       "tensor([0, 0, 0, 0, 0, 0, 0, 0, 0, 0, 0, 0, 0, 0, 0, 0, 0, 0, 0, 0, 0, 0, 0, 0,\n",
       "        0, 0, 0, 0, 0, 0, 0, 0, 0, 0, 0, 0, 0, 0, 0, 0, 0, 0, 0, 0, 0, 0, 0, 0,\n",
       "        0, 0, 0, 0, 0, 0, 0, 0, 0, 0, 0, 0, 0, 0, 0, 0])"
      ]
     },
     "execution_count": 92,
     "metadata": {},
     "output_type": "execute_result"
    }
   ],
   "source": [
    "last_indices = torch.zeros_like(unique_batches)\n",
    "last_indices"
   ]
  },
  {
   "cell_type": "code",
   "execution_count": null,
   "metadata": {},
   "outputs": [],
   "source": [
    "for i, b in enumerate(unique_batches):\n",
    "    last_indices[i] = (batch.batch == b).nonzero().max()"
   ]
  },
  {
   "cell_type": "code",
   "execution_count": 97,
   "metadata": {},
   "outputs": [
    {
     "data": {
      "text/plain": [
       "tensor(67)"
      ]
     },
     "execution_count": 97,
     "metadata": {},
     "output_type": "execute_result"
    }
   ],
   "source": [
    "last_indices[1]"
   ]
  },
  {
   "cell_type": "code",
   "execution_count": 99,
   "metadata": {},
   "outputs": [
    {
     "data": {
      "text/plain": [
       "tensor([1.0000, 0.0000, 0.0000, 0.0000, 0.0000, 0.0000, 0.0000, 0.0000, 0.0000,\n",
       "        0.0000, 0.0000, 0.0000, 0.0000, 0.0000, 0.0000, 0.0000, 0.0000, 0.0000,\n",
       "        0.0000, 0.0000, 0.0000, 0.0000, 0.0000, 0.0000, 0.0000, 0.0000, 0.0000,\n",
       "        0.0000, 0.0000, 0.0000, 0.0000, 0.0000, 0.0000, 0.0000, 0.0000, 0.0000,\n",
       "        0.0000, 0.0000, 0.0000, 0.0000, 0.0000, 0.0000, 0.0000, 0.0000, 0.2000,\n",
       "        1.0000, 0.0000, 0.0000, 0.0000, 1.0000, 0.0000, 0.0000, 0.0000, 1.0000,\n",
       "        1.0000])"
      ]
     },
     "execution_count": 99,
     "metadata": {},
     "output_type": "execute_result"
    }
   ],
   "source": [
    "batch.x[67]"
   ]
  },
  {
   "cell_type": "code",
   "execution_count": 98,
   "metadata": {},
   "outputs": [
    {
     "data": {
      "text/plain": [
       "tensor(1)"
      ]
     },
     "execution_count": 98,
     "metadata": {},
     "output_type": "execute_result"
    }
   ],
   "source": [
    "batch.batch[67]"
   ]
  },
  {
   "cell_type": "code",
   "execution_count": 100,
   "metadata": {},
   "outputs": [
    {
     "data": {
      "text/plain": [
       "tensor(2)"
      ]
     },
     "execution_count": 100,
     "metadata": {},
     "output_type": "execute_result"
    }
   ],
   "source": [
    "batch.batch[68]"
   ]
  },
  {
   "cell_type": "markdown",
   "metadata": {},
   "source": [
    "### Pyg Model - using multi head gat - 3 gatv2conv"
   ]
  },
  {
   "cell_type": "code",
   "execution_count": 55,
   "metadata": {},
   "outputs": [],
   "source": [
    "from torch.nn import Linear, Sequential, ModuleList\n",
    "from torch import nn\n",
    "import torch.nn.functional as F\n",
    "from torch_geometric.nn import GCNConv, GATv2Conv, GATConv\n",
    "from torch_geometric.nn import global_mean_pool, LayerNorm\n",
    "import torch\n",
    "\n",
    "class GCNv2(torch.nn.Module):\n",
    "    def __init__(self, num_node_features, hidden_channels, heads_out_feat_params, blocks_params, num_classes):\n",
    "        super(GCNv2, self).__init__()\n",
    "        self.blocks_params = blocks_params\n",
    "        self.initial_norm = LayerNorm(num_node_features)\n",
    "        self.n_blocks = len(blocks_params)\n",
    "        self.blocks = []\n",
    "        self.net_norms = ModuleList()\n",
    "        for i, (head_out_feats, n_heads) in enumerate(zip(heads_out_feat_params, blocks_params)):\n",
    "            block = GATv2Conv(num_node_features, head_out_feats, n_heads,  edge_dim=5)\n",
    "            self.add_module(f'block{i}', block)\n",
    "            self.blocks.append(block)\n",
    "            self.net_norms.append(LayerNorm(head_out_feats*n_heads))\n",
    "            num_node_features = n_heads * head_out_feats\n",
    "        # self.head_feat_comb = Sequential(Linear(3*hidden_channels, hidden_channels), nn.ReLU())\n",
    "        self.head_norm = LayerNorm(hidden_channels)\n",
    "        \n",
    "        self.lin = Sequential(Linear(3*hidden_channels, 2*hidden_channels), nn.ReLU(), Linear(2*hidden_channels, num_classes), nn.Sigmoid())            \n",
    "        # glorot initialize self.lin weight\n",
    "        for m in self.modules():\n",
    "            if isinstance(m, nn.Linear):\n",
    "                nn.init.xavier_uniform_(m.weight)\n",
    "\n",
    "\n",
    "\n",
    "    def forward(self, x, edge_index, edge_attr, batch):\n",
    "        head_nodes = []\n",
    "        # Find the indices of the last node in each batch\n",
    "        unique_batches = torch.unique(batch)\n",
    "        last_indices = torch.zeros_like(unique_batches)\n",
    "        for i, b in enumerate(unique_batches):\n",
    "            last_indices[i] = (batch == b).nonzero().max()\n",
    "        \n",
    "        out = self.initial_norm(x)\n",
    "        out = F.dropout(out, p=0.5, training=self.training)\n",
    "        # 1. Obtain node embeddings \n",
    "        for i, block in enumerate(self.blocks):\n",
    "            out = block(out, edge_index, edge_attr)\n",
    "            # print(out.shape)\n",
    "            out = self.net_norms[i](out)\n",
    "            out = out.relu()\n",
    "            head_node = out[last_indices]\n",
    "            head_node = head_node.view(head_node.shape[0],self.blocks_params[i], -1).sum(dim=1)\n",
    "            head_node = self.head_norm(head_node)\n",
    "            # head_node = head_node.view(head_node.shape[0],self.blocks_params[i], -1)\n",
    "            # attention = torch.softmax(head_node, dim=1)\n",
    "            # weighted_head_node = head_node * attention\n",
    "            # head_node = torch.sum(weighted_head_node, dim=1)\n",
    "            head_nodes.append(head_node)\n",
    "            \n",
    "\n",
    "\n",
    "        # x = self.conv1(x, edge_index)\n",
    "        # x = self.batchnorm2(x)\n",
    "        # x = x.relu()\n",
    "        # head_nodes.append(x[last_indices])\n",
    "        # x = self.conv2(x, edge_index)\n",
    "        # x = self.batchnorm3(x)\n",
    "        # x = x.relu()\n",
    "        # head_nodes.append(x[last_indices])\n",
    "        # x = self.conv3(x, edge_index)\n",
    "        \n",
    "        \n",
    "        # head_nodes.append(x[last_indices])\n",
    "        head_nodes = torch.cat(head_nodes, dim=1)\n",
    "        \n",
    "        # # 2. Readout layer\n",
    "        # x = global_mean_pool(x, batch)  # [batch_size, hidden_channels]\n",
    "\n",
    "        # 3. Apply a final classifier\n",
    "        x = F.dropout(head_nodes, p=0.5, training=self.training)\n",
    "        x = self.lin(x)\n",
    "        \n",
    "        return x\n"
   ]
  },
  {
   "cell_type": "markdown",
   "metadata": {},
   "source": [
    "### Main method to train test and compute eval metrics for GCN"
   ]
  },
  {
   "cell_type": "code",
   "execution_count": 57,
   "metadata": {},
   "outputs": [],
   "source": [
    "from sklearn import metrics\n",
    "\n",
    "def do_compute_metrics(probas_pred, target):            \n",
    "    pred = (probas_pred >= 0.5).astype(int)\n",
    "    acc = metrics.accuracy_score(target, pred)\n",
    "    auroc = metrics.roc_auc_score(target, probas_pred)\n",
    "    f1_score = metrics.f1_score(target, pred)\n",
    "    precision = metrics.precision_score(target, pred)\n",
    "    recall = metrics.recall_score(target, pred)\n",
    "    p, r, t = metrics.precision_recall_curve(target, probas_pred)\n",
    "    int_ap = metrics.auc(r, p)\n",
    "    ap = metrics.average_precision_score(target, probas_pred)\n",
    "\n",
    "    return acc, auroc, f1_score, precision, recall, int_ap, ap\n"
   ]
  },
  {
   "cell_type": "code",
   "execution_count": 58,
   "metadata": {},
   "outputs": [],
   "source": [
    "# from torch import optim\n",
    "\n",
    "# model = GCNv2(num_node_features=55, hidden_channels=256, heads_out_feat_params=[256, 256, 256], blocks_params=[3, 3, 3], num_classes=2061)\n",
    "# print(model)\n",
    "# optimizer = optim.Adam(model.parameters(), lr=0.001, weight_decay=0.001)\n",
    "# # optimizer = torch.optim.Adam(model.parameters(), lr=0.01)\n",
    "# loss = DiceLoss(smooth=1e-5) # torch.nn.BCEWithLogitsLoss() # FocalLoss(alpha=0.5, gamma=2) torch.nn.BCELoss() # \n",
    "# n_epochs = 100\n",
    "# device = torch.device('cuda' if torch.cuda.is_available() else 'cpu')\n",
    "# # scheduler = torch.optim.lr_scheduler.ReduceLROnPlateau(optimizer, mode='min', factor=0.1, patience=3, min_lr=0.00001)\n",
    "# # scheduler = optim.lr_scheduler.LambdaLR(optimizer, lambda epoch: 0.96 ** (epoch))\n",
    "# scheduler = None\n",
    "# pkl_name = 'gcn_se_model_withedge.pkl'\n",
    "\n",
    "# model.to(device=device)"
   ]
  },
  {
   "cell_type": "code",
   "execution_count": 50,
   "metadata": {},
   "outputs": [],
   "source": [
    "device = torch.device('cuda' if torch.cuda.is_available() else 'cpu')\n",
    "\n",
    "def test(test_data_loader,model):\n",
    "    test_probas_pred = []\n",
    "    test_ground_truth = []\n",
    "    model.eval()\n",
    "    with torch.no_grad():\n",
    "        for batch, y in test_data_loader:\n",
    "            \n",
    "            batch = batch.to(device)\n",
    "            y = y.to(device)\n",
    "            out = model(batch.x, batch.edge_index, batch.edge_attr , batch.batch)\n",
    "            probas_pred = out.detach().flatten().cpu()\n",
    "            ground_truth = y.flatten().float().cpu()\n",
    "            test_probas_pred.append(probas_pred)\n",
    "            test_ground_truth.append(ground_truth)\n",
    "            \n",
    "        test_probas_pred = np.concatenate(test_probas_pred)\n",
    "        test_ground_truth = np.concatenate(test_ground_truth)\n",
    "        \n",
    "        test_acc, test_auc_roc, test_f1, test_precision,test_recall,test_int_ap, test_ap = do_compute_metrics(test_probas_pred, test_ground_truth)\n",
    "                                                                                         \n",
    "    print('\\n')\n",
    "    print('============================== Test Result ==============================')\n",
    "    print(f'\\t\\ttest_acc: {test_acc:.4f}, test_auc_roc: {test_auc_roc:.4f},test_f1: {test_f1:.4f},test_precision:{test_precision:.4f}')\n",
    "    print(f'\\t\\ttest_recall: {test_recall:.4f}, test_int_ap: {test_int_ap:.4f},test_ap: {test_ap:.4f}')\n",
    "    # Clear intermediate variables to free CUDA memory\n",
    "    del batch\n",
    "    torch.cuda.empty_cache()      "
   ]
  },
  {
   "cell_type": "code",
   "execution_count": 51,
   "metadata": {},
   "outputs": [],
   "source": [
    "from datetime import datetime\n",
    "import time\n",
    "\n",
    "def train(pkl_name, model, train_data_loader, val_data_loader, loss_fn, optimizer, n_epochs, device, scheduler=None):\n",
    "    max_acc = 0\n",
    "    print('Starting training at', datetime.today())\n",
    "    for i in range(1, n_epochs+1):\n",
    "        start = time.time()\n",
    "        train_loss = 0\n",
    "        val_loss = 0\n",
    "        train_probas_pred = []\n",
    "        train_ground_truth = []\n",
    "        \n",
    "        val_probas_pred = []\n",
    "        val_ground_truth = []\n",
    "      \n",
    "        for batch, y in train_data_loader:\n",
    "            model.train()\n",
    "            batch = batch.to(device)\n",
    "            y = y.to(device)\n",
    "            optimizer.zero_grad()\n",
    "            out = model(batch.x, batch.edge_index, batch.edge_attr, batch.batch)\n",
    "            train_probas_pred.append(out.detach().flatten().cpu())\n",
    "            train_ground_truth.append(y.flatten().float().cpu())\n",
    "            loss = loss_fn(out, y.float())\n",
    "            \n",
    "            loss.backward()\n",
    "            optimizer.step()\n",
    "            \n",
    "            train_loss += loss.item() * len(y)\n",
    "        \n",
    "        train_loss /= len(train_data)\n",
    "        \n",
    "        with torch.no_grad():\n",
    "            train_probas_pred = np.concatenate(train_probas_pred)\n",
    "            train_ground_truth = np.concatenate(train_ground_truth)\n",
    "            \n",
    "            train_acc, train_auc_roc, train_f1_score, train_precision, train_recall, train_int_ap, train_ap = do_compute_metrics(train_probas_pred, train_ground_truth)\n",
    "            \n",
    "            for batch, y in val_data_loader:\n",
    "                model.eval()\n",
    "                batch = batch.to(device)\n",
    "                y = y.to(device)\n",
    "                out = model(batch.x, batch.edge_index, batch.edge_attr, batch.batch)\n",
    "                val_probas_pred.append(out.detach().flatten().cpu())\n",
    "                val_ground_truth.append(y.flatten().float().cpu())\n",
    "                loss = loss_fn(out, y.float())\n",
    "                val_loss += loss.item() * len(y)\n",
    "            \n",
    "            val_loss /= len(val_data)\n",
    "            val_probas_pred = np.concatenate(val_probas_pred)\n",
    "            val_ground_truth = np.concatenate(val_ground_truth)\n",
    "            \n",
    "            val_acc, val_auc_roc, val_f1, val_precision,val_recall,val_int_ap, val_ap = do_compute_metrics(val_probas_pred, val_ground_truth)\n",
    "            if val_auc_roc>max_acc:\n",
    "                max_acc = val_auc_roc\n",
    "                torch.save(model, pkl_name)\n",
    "               \n",
    "        if scheduler:\n",
    "            # print('scheduling')\n",
    "            scheduler.step(val_f1) #val_loss\n",
    "            # Get the current learning rate\n",
    "            current_lr = optimizer.param_groups[0]['lr'] \n",
    "\n",
    "        print(f'Epoch: {i} ({time.time() - start:.4f}s), train_loss: {train_loss:.4f}, val_loss: {val_loss:.4f},'\n",
    "        f' train_acc: {train_acc:.4f}, val_acc:{val_acc:.4f}')\n",
    "        print(f'\\t\\ttrain_auc_roc: {train_auc_roc:.4f}, val_auc_roc: {val_auc_roc:.4f}, train_ap: {train_ap:.4f}, val_ap: {val_ap:.4f}, \\\n",
    "              train_f1_score: {train_f1_score:.4f}, val_f1_score: {val_f1:.4f}, train_precision: {train_precision:.4f}, val_precision: {val_precision:.4f}')\n",
    "        if i % 5 == 0:\n",
    "            # Clear intermediate variables to free CUDA memory\n",
    "            del batch\n",
    "            torch.cuda.empty_cache()\n"
   ]
  },
  {
   "cell_type": "markdown",
   "metadata": {},
   "source": [
    "### Single fold split model train and test"
   ]
  },
  {
   "cell_type": "code",
   "execution_count": 58,
   "metadata": {},
   "outputs": [
    {
     "name": "stdout",
     "output_type": "stream",
     "text": [
      "X_train: (837,), y_train: (837, 2061), X_val: (223,), y_val: (223, 2061), X_test: (266,), y_test: (266, 2061)\n",
      "Training with 837 samples, validating with 223, and testing with 266\n",
      "Running for single fold\n",
      "GCNv2(\n",
      "  (initial_norm): LayerNorm(55, affine=True, mode=graph)\n",
      "  (net_norms): ModuleList(\n",
      "    (0): LayerNorm(384, affine=True, mode=graph)\n",
      "    (1): LayerNorm(384, affine=True, mode=graph)\n",
      "    (2): LayerNorm(384, affine=True, mode=graph)\n",
      "  )\n",
      "  (block0): GATv2Conv(55, 128, heads=3)\n",
      "  (block1): GATv2Conv(384, 128, heads=3)\n",
      "  (block2): GATv2Conv(384, 128, heads=3)\n",
      "  (head_norm): LayerNorm(128, affine=True, mode=graph)\n",
      "  (lin): Sequential(\n",
      "    (0): Linear(in_features=384, out_features=256, bias=True)\n",
      "    (1): ReLU()\n",
      "    (2): Linear(in_features=256, out_features=2061, bias=True)\n",
      "    (3): Sigmoid()\n",
      "  )\n",
      ")\n",
      "Starting training at 2023-08-18 11:59:05.257972\n",
      "Epoch: 1 (5.8377s), train_loss: 0.7875, val_loss: 0.7746, train_acc: 0.6247, val_acc:0.8178\n",
      "\t\ttrain_auc_roc: 0.7180, val_auc_roc: 0.8357, train_ap: 0.1532, val_ap: 0.3120,               train_f1_score: 0.1419, val_f1_score: 0.3017, train_precision: 0.0792, val_precision: 0.1902\n",
      "Epoch: 2 (5.4156s), train_loss: 0.7697, val_loss: 0.7654, train_acc: 0.8222, val_acc:0.8259\n",
      "\t\ttrain_auc_roc: 0.8487, val_auc_roc: 0.8530, train_ap: 0.2886, val_ap: 0.3555,               train_f1_score: 0.2799, val_f1_score: 0.3153, train_precision: 0.1714, val_precision: 0.2001\n",
      "Epoch: 3 (5.2797s), train_loss: 0.7663, val_loss: 0.7657, train_acc: 0.8231, val_acc:0.8256\n",
      "\t\ttrain_auc_roc: 0.8524, val_auc_roc: 0.8464, train_ap: 0.3128, val_ap: 0.3569,               train_f1_score: 0.2827, val_f1_score: 0.3151, train_precision: 0.1732, val_precision: 0.1999\n",
      "Epoch: 4 (6.1424s), train_loss: 0.7665, val_loss: 0.7657, train_acc: 0.8267, val_acc:0.8297\n",
      "\t\ttrain_auc_roc: 0.8547, val_auc_roc: 0.8560, train_ap: 0.3197, val_ap: 0.3619,               train_f1_score: 0.2857, val_f1_score: 0.3185, train_precision: 0.1757, val_precision: 0.2031\n",
      "Epoch: 5 (6.3386s), train_loss: 0.7664, val_loss: 0.7656, train_acc: 0.8290, val_acc:0.8303\n",
      "\t\ttrain_auc_roc: 0.8559, val_auc_roc: 0.8575, train_ap: 0.3027, val_ap: 0.3575,               train_f1_score: 0.2874, val_f1_score: 0.3185, train_precision: 0.1772, val_precision: 0.2033\n",
      "Epoch: 6 (6.1150s), train_loss: 0.7662, val_loss: 0.7655, train_acc: 0.8282, val_acc:0.8300\n",
      "\t\ttrain_auc_roc: 0.8563, val_auc_roc: 0.8562, train_ap: 0.2878, val_ap: 0.3478,               train_f1_score: 0.2868, val_f1_score: 0.3184, train_precision: 0.1767, val_precision: 0.2032\n",
      "Epoch: 7 (5.6105s), train_loss: 0.7661, val_loss: 0.7655, train_acc: 0.8303, val_acc:0.8325\n",
      "\t\ttrain_auc_roc: 0.8575, val_auc_roc: 0.8557, train_ap: 0.2994, val_ap: 0.3646,               train_f1_score: 0.2887, val_f1_score: 0.3209, train_precision: 0.1783, val_precision: 0.2054\n",
      "Epoch: 8 (5.3722s), train_loss: 0.7661, val_loss: 0.7655, train_acc: 0.8312, val_acc:0.8316\n",
      "\t\ttrain_auc_roc: 0.8563, val_auc_roc: 0.8572, train_ap: 0.3042, val_ap: 0.3650,               train_f1_score: 0.2893, val_f1_score: 0.3198, train_precision: 0.1788, val_precision: 0.2045\n",
      "Epoch: 9 (5.6463s), train_loss: 0.7660, val_loss: 0.7655, train_acc: 0.8316, val_acc:0.8321\n",
      "\t\ttrain_auc_roc: 0.8585, val_auc_roc: 0.8599, train_ap: 0.2990, val_ap: 0.3727,               train_f1_score: 0.2898, val_f1_score: 0.3203, train_precision: 0.1792, val_precision: 0.2049\n",
      "Epoch: 10 (5.1452s), train_loss: 0.7661, val_loss: 0.7654, train_acc: 0.8293, val_acc:0.8304\n",
      "\t\ttrain_auc_roc: 0.8583, val_auc_roc: 0.8593, train_ap: 0.2955, val_ap: 0.3727,               train_f1_score: 0.2876, val_f1_score: 0.3189, train_precision: 0.1774, val_precision: 0.2036\n",
      "Epoch: 11 (5.1785s), train_loss: 0.7661, val_loss: 0.7654, train_acc: 0.8238, val_acc:0.8224\n",
      "\t\ttrain_auc_roc: 0.8569, val_auc_roc: 0.8555, train_ap: 0.3055, val_ap: 0.3646,               train_f1_score: 0.2829, val_f1_score: 0.3124, train_precision: 0.1735, val_precision: 0.1974\n",
      "Epoch: 12 (5.1794s), train_loss: 0.7660, val_loss: 0.7655, train_acc: 0.8253, val_acc:0.8292\n",
      "\t\ttrain_auc_roc: 0.8578, val_auc_roc: 0.8588, train_ap: 0.2950, val_ap: 0.3725,               train_f1_score: 0.2845, val_f1_score: 0.3181, train_precision: 0.1747, val_precision: 0.2027\n",
      "Epoch: 13 (5.1223s), train_loss: 0.7661, val_loss: 0.7655, train_acc: 0.8279, val_acc:0.8307\n",
      "\t\ttrain_auc_roc: 0.8580, val_auc_roc: 0.8573, train_ap: 0.3065, val_ap: 0.3694,               train_f1_score: 0.2867, val_f1_score: 0.3190, train_precision: 0.1765, val_precision: 0.2037\n",
      "Epoch: 14 (5.1888s), train_loss: 0.7660, val_loss: 0.7655, train_acc: 0.8283, val_acc:0.8303\n",
      "\t\ttrain_auc_roc: 0.8592, val_auc_roc: 0.8583, train_ap: 0.2912, val_ap: 0.3640,               train_f1_score: 0.2869, val_f1_score: 0.3184, train_precision: 0.1767, val_precision: 0.2032\n",
      "Epoch: 15 (5.0784s), train_loss: 0.7661, val_loss: 0.7656, train_acc: 0.8288, val_acc:0.8332\n",
      "\t\ttrain_auc_roc: 0.8590, val_auc_roc: 0.8594, train_ap: 0.3097, val_ap: 0.3720,               train_f1_score: 0.2873, val_f1_score: 0.3211, train_precision: 0.1771, val_precision: 0.2057\n",
      "Epoch: 16 (5.4937s), train_loss: 0.7661, val_loss: 0.7656, train_acc: 0.8309, val_acc:0.8329\n",
      "\t\ttrain_auc_roc: 0.8574, val_auc_roc: 0.8573, train_ap: 0.3070, val_ap: 0.3684,               train_f1_score: 0.2888, val_f1_score: 0.3210, train_precision: 0.1785, val_precision: 0.2056\n",
      "Epoch: 17 (5.5014s), train_loss: 0.7661, val_loss: 0.7655, train_acc: 0.8266, val_acc:0.8271\n",
      "\t\ttrain_auc_roc: 0.8585, val_auc_roc: 0.8584, train_ap: 0.3005, val_ap: 0.3689,               train_f1_score: 0.2853, val_f1_score: 0.3163, train_precision: 0.1755, val_precision: 0.2010\n",
      "Epoch: 18 (5.2992s), train_loss: 0.7661, val_loss: 0.7656, train_acc: 0.8225, val_acc:0.8229\n",
      "\t\ttrain_auc_roc: 0.8565, val_auc_roc: 0.8564, train_ap: 0.3088, val_ap: 0.3704,               train_f1_score: 0.2821, val_f1_score: 0.3127, train_precision: 0.1728, val_precision: 0.1978\n",
      "Epoch: 19 (5.0463s), train_loss: 0.7662, val_loss: 0.7656, train_acc: 0.8203, val_acc:0.8249\n",
      "\t\ttrain_auc_roc: 0.8594, val_auc_roc: 0.8558, train_ap: 0.3092, val_ap: 0.3678,               train_f1_score: 0.2805, val_f1_score: 0.3143, train_precision: 0.1713, val_precision: 0.1992\n",
      "Epoch: 20 (5.4285s), train_loss: 0.7662, val_loss: 0.7657, train_acc: 0.8284, val_acc:0.8324\n",
      "\t\ttrain_auc_roc: 0.8578, val_auc_roc: 0.8586, train_ap: 0.3079, val_ap: 0.3743,               train_f1_score: 0.2870, val_f1_score: 0.3203, train_precision: 0.1768, val_precision: 0.2050\n",
      "Epoch: 21 (5.5625s), train_loss: 0.7661, val_loss: 0.7657, train_acc: 0.8302, val_acc:0.8325\n",
      "\t\ttrain_auc_roc: 0.8593, val_auc_roc: 0.8569, train_ap: 0.3114, val_ap: 0.3703,               train_f1_score: 0.2884, val_f1_score: 0.3205, train_precision: 0.1781, val_precision: 0.2052\n",
      "Epoch: 22 (5.5414s), train_loss: 0.7661, val_loss: 0.7657, train_acc: 0.8311, val_acc:0.8321\n",
      "\t\ttrain_auc_roc: 0.8590, val_auc_roc: 0.8583, train_ap: 0.3055, val_ap: 0.3735,               train_f1_score: 0.2892, val_f1_score: 0.3205, train_precision: 0.1787, val_precision: 0.2050\n",
      "Epoch: 23 (4.8462s), train_loss: 0.7662, val_loss: 0.7656, train_acc: 0.8293, val_acc:0.8303\n",
      "\t\ttrain_auc_roc: 0.8583, val_auc_roc: 0.8588, train_ap: 0.3023, val_ap: 0.3677,               train_f1_score: 0.2876, val_f1_score: 0.3186, train_precision: 0.1774, val_precision: 0.2034\n",
      "Epoch: 24 (5.1248s), train_loss: 0.7662, val_loss: 0.7657, train_acc: 0.8320, val_acc:0.8337\n",
      "\t\ttrain_auc_roc: 0.8564, val_auc_roc: 0.8581, train_ap: 0.3140, val_ap: 0.3677,               train_f1_score: 0.2897, val_f1_score: 0.3217, train_precision: 0.1792, val_precision: 0.2063\n",
      "Epoch: 25 (5.5119s), train_loss: 0.7662, val_loss: 0.7657, train_acc: 0.8298, val_acc:0.8303\n",
      "\t\ttrain_auc_roc: 0.8596, val_auc_roc: 0.8573, train_ap: 0.3051, val_ap: 0.3748,               train_f1_score: 0.2881, val_f1_score: 0.3186, train_precision: 0.1778, val_precision: 0.2033\n",
      "Epoch: 26 (5.9294s), train_loss: 0.7661, val_loss: 0.7657, train_acc: 0.8303, val_acc:0.8316\n",
      "\t\ttrain_auc_roc: 0.8561, val_auc_roc: 0.8570, train_ap: 0.3160, val_ap: 0.3728,               train_f1_score: 0.2886, val_f1_score: 0.3198, train_precision: 0.1782, val_precision: 0.2045\n",
      "Epoch: 27 (5.3522s), train_loss: 0.7663, val_loss: 0.7656, train_acc: 0.8270, val_acc:0.8266\n",
      "\t\ttrain_auc_roc: 0.8575, val_auc_roc: 0.8584, train_ap: 0.3179, val_ap: 0.3707,               train_f1_score: 0.2860, val_f1_score: 0.3158, train_precision: 0.1759, val_precision: 0.2006\n",
      "Epoch: 28 (5.1324s), train_loss: 0.7662, val_loss: 0.7657, train_acc: 0.8215, val_acc:0.8228\n",
      "\t\ttrain_auc_roc: 0.8567, val_auc_roc: 0.8566, train_ap: 0.2960, val_ap: 0.3746,               train_f1_score: 0.2813, val_f1_score: 0.3127, train_precision: 0.1721, val_precision: 0.1977\n",
      "Epoch: 29 (5.0927s), train_loss: 0.7663, val_loss: 0.7655, train_acc: 0.8212, val_acc:0.8250\n",
      "\t\ttrain_auc_roc: 0.8568, val_auc_roc: 0.8547, train_ap: 0.2951, val_ap: 0.3709,               train_f1_score: 0.2813, val_f1_score: 0.3146, train_precision: 0.1720, val_precision: 0.1995\n",
      "Epoch: 30 (5.0465s), train_loss: 0.7662, val_loss: 0.7657, train_acc: 0.8232, val_acc:0.8262\n",
      "\t\ttrain_auc_roc: 0.8561, val_auc_roc: 0.8571, train_ap: 0.3073, val_ap: 0.3720,               train_f1_score: 0.2830, val_f1_score: 0.3155, train_precision: 0.1734, val_precision: 0.2003\n",
      "Epoch: 31 (5.6213s), train_loss: 0.7663, val_loss: 0.7656, train_acc: 0.8242, val_acc:0.8250\n",
      "\t\ttrain_auc_roc: 0.8542, val_auc_roc: 0.8569, train_ap: 0.2949, val_ap: 0.3683,               train_f1_score: 0.2837, val_f1_score: 0.3147, train_precision: 0.1740, val_precision: 0.1995\n",
      "Epoch: 32 (5.2677s), train_loss: 0.7662, val_loss: 0.7657, train_acc: 0.8238, val_acc:0.8266\n",
      "\t\ttrain_auc_roc: 0.8572, val_auc_roc: 0.8568, train_ap: 0.2880, val_ap: 0.3667,               train_f1_score: 0.2835, val_f1_score: 0.3156, train_precision: 0.1738, val_precision: 0.2005\n",
      "Epoch: 33 (5.3290s), train_loss: 0.7663, val_loss: 0.7657, train_acc: 0.8256, val_acc:0.8295\n",
      "\t\ttrain_auc_roc: 0.8541, val_auc_roc: 0.8563, train_ap: 0.2919, val_ap: 0.3717,               train_f1_score: 0.2848, val_f1_score: 0.3179, train_precision: 0.1749, val_precision: 0.2027\n",
      "Epoch: 34 (5.0703s), train_loss: 0.7663, val_loss: 0.7658, train_acc: 0.8301, val_acc:0.8340\n",
      "\t\ttrain_auc_roc: 0.8572, val_auc_roc: 0.8589, train_ap: 0.2892, val_ap: 0.3718,               train_f1_score: 0.2884, val_f1_score: 0.3213, train_precision: 0.1780, val_precision: 0.2061\n",
      "Epoch: 35 (5.4471s), train_loss: 0.7663, val_loss: 0.7656, train_acc: 0.8251, val_acc:0.8236\n",
      "\t\ttrain_auc_roc: 0.8542, val_auc_roc: 0.8580, train_ap: 0.2885, val_ap: 0.3708,               train_f1_score: 0.2844, val_f1_score: 0.3131, train_precision: 0.1746, val_precision: 0.1982\n",
      "Epoch: 36 (5.3018s), train_loss: 0.7663, val_loss: 0.7656, train_acc: 0.8191, val_acc:0.8204\n",
      "\t\ttrain_auc_roc: 0.8490, val_auc_roc: 0.8564, train_ap: 0.2929, val_ap: 0.3724,               train_f1_score: 0.2798, val_f1_score: 0.3108, train_precision: 0.1708, val_precision: 0.1960\n",
      "Epoch: 37 (5.2983s), train_loss: 0.7663, val_loss: 0.7656, train_acc: 0.8204, val_acc:0.8249\n",
      "\t\ttrain_auc_roc: 0.8495, val_auc_roc: 0.8576, train_ap: 0.2857, val_ap: 0.3721,               train_f1_score: 0.2808, val_f1_score: 0.3142, train_precision: 0.1716, val_precision: 0.1992\n",
      "Epoch: 38 (5.0005s), train_loss: 0.7663, val_loss: 0.7657, train_acc: 0.8288, val_acc:0.8337\n",
      "\t\ttrain_auc_roc: 0.8486, val_auc_roc: 0.8546, train_ap: 0.2892, val_ap: 0.3664,               train_f1_score: 0.2874, val_f1_score: 0.3217, train_precision: 0.1771, val_precision: 0.2063\n",
      "Epoch: 39 (5.1288s), train_loss: 0.7663, val_loss: 0.7654, train_acc: 0.8261, val_acc:0.8245\n",
      "\t\ttrain_auc_roc: 0.8489, val_auc_roc: 0.8581, train_ap: 0.2817, val_ap: 0.3715,               train_f1_score: 0.2852, val_f1_score: 0.3141, train_precision: 0.1753, val_precision: 0.1990\n",
      "Epoch: 40 (4.8077s), train_loss: 0.7663, val_loss: 0.7654, train_acc: 0.8205, val_acc:0.8249\n",
      "\t\ttrain_auc_roc: 0.8460, val_auc_roc: 0.8555, train_ap: 0.2650, val_ap: 0.3669,               train_f1_score: 0.2808, val_f1_score: 0.3143, train_precision: 0.1716, val_precision: 0.1993\n",
      "Epoch: 41 (4.9703s), train_loss: 0.7662, val_loss: 0.7654, train_acc: 0.8265, val_acc:0.8313\n",
      "\t\ttrain_auc_roc: 0.8464, val_auc_roc: 0.8561, train_ap: 0.2709, val_ap: 0.3715,               train_f1_score: 0.2855, val_f1_score: 0.3197, train_precision: 0.1756, val_precision: 0.2043\n",
      "Epoch: 42 (5.0391s), train_loss: 0.7662, val_loss: 0.7654, train_acc: 0.8273, val_acc:0.8279\n",
      "\t\ttrain_auc_roc: 0.8480, val_auc_roc: 0.8576, train_ap: 0.2650, val_ap: 0.3749,               train_f1_score: 0.2863, val_f1_score: 0.3169, train_precision: 0.1762, val_precision: 0.2016\n",
      "Epoch: 43 (5.0186s), train_loss: 0.7663, val_loss: 0.7654, train_acc: 0.8290, val_acc:0.8295\n",
      "\t\ttrain_auc_roc: 0.8462, val_auc_roc: 0.8574, train_ap: 0.2756, val_ap: 0.3698,               train_f1_score: 0.2874, val_f1_score: 0.3181, train_precision: 0.1772, val_precision: 0.2028\n",
      "Epoch: 44 (4.8426s), train_loss: 0.7662, val_loss: 0.7653, train_acc: 0.8264, val_acc:0.8308\n",
      "\t\ttrain_auc_roc: 0.8439, val_auc_roc: 0.8565, train_ap: 0.2735, val_ap: 0.3692,               train_f1_score: 0.2851, val_f1_score: 0.3190, train_precision: 0.1753, val_precision: 0.2037\n",
      "Epoch: 45 (4.8536s), train_loss: 0.7662, val_loss: 0.7652, train_acc: 0.8262, val_acc:0.8266\n",
      "\t\ttrain_auc_roc: 0.8424, val_auc_roc: 0.8571, train_ap: 0.2623, val_ap: 0.3692,               train_f1_score: 0.2850, val_f1_score: 0.3156, train_precision: 0.1752, val_precision: 0.2005\n",
      "Epoch: 46 (5.0610s), train_loss: 0.7661, val_loss: 0.7653, train_acc: 0.8242, val_acc:0.8247\n",
      "\t\ttrain_auc_roc: 0.8429, val_auc_roc: 0.8547, train_ap: 0.2650, val_ap: 0.3706,               train_f1_score: 0.2836, val_f1_score: 0.3146, train_precision: 0.1739, val_precision: 0.1994\n",
      "Epoch: 47 (4.9594s), train_loss: 0.7662, val_loss: 0.7653, train_acc: 0.8249, val_acc:0.8283\n",
      "\t\ttrain_auc_roc: 0.8460, val_auc_roc: 0.8562, train_ap: 0.2606, val_ap: 0.3726,               train_f1_score: 0.2844, val_f1_score: 0.3173, train_precision: 0.1745, val_precision: 0.2020\n",
      "Epoch: 48 (4.9119s), train_loss: 0.7662, val_loss: 0.7652, train_acc: 0.8268, val_acc:0.8274\n",
      "\t\ttrain_auc_roc: 0.8433, val_auc_roc: 0.8570, train_ap: 0.2581, val_ap: 0.3714,               train_f1_score: 0.2857, val_f1_score: 0.3164, train_precision: 0.1757, val_precision: 0.2012\n",
      "Epoch: 49 (5.0743s), train_loss: 0.7662, val_loss: 0.7652, train_acc: 0.8221, val_acc:0.8254\n",
      "\t\ttrain_auc_roc: 0.8447, val_auc_roc: 0.8557, train_ap: 0.2627, val_ap: 0.3698,               train_f1_score: 0.2820, val_f1_score: 0.3150, train_precision: 0.1726, val_precision: 0.1998\n",
      "Epoch: 50 (5.0126s), train_loss: 0.7662, val_loss: 0.7652, train_acc: 0.8268, val_acc:0.8296\n",
      "\t\ttrain_auc_roc: 0.8411, val_auc_roc: 0.8550, train_ap: 0.2651, val_ap: 0.3688,               train_f1_score: 0.2858, val_f1_score: 0.3182, train_precision: 0.1758, val_precision: 0.2029\n",
      "Epoch: 51 (4.8812s), train_loss: 0.7662, val_loss: 0.7651, train_acc: 0.8262, val_acc:0.8287\n",
      "\t\ttrain_auc_roc: 0.8421, val_auc_roc: 0.8554, train_ap: 0.2606, val_ap: 0.3630,               train_f1_score: 0.2853, val_f1_score: 0.3174, train_precision: 0.1754, val_precision: 0.2022\n",
      "Epoch: 52 (4.8354s), train_loss: 0.7662, val_loss: 0.7652, train_acc: 0.8287, val_acc:0.8320\n",
      "\t\ttrain_auc_roc: 0.8421, val_auc_roc: 0.8577, train_ap: 0.2606, val_ap: 0.3701,               train_f1_score: 0.2874, val_f1_score: 0.3201, train_precision: 0.1771, val_precision: 0.2048\n",
      "Epoch: 53 (5.0079s), train_loss: 0.7661, val_loss: 0.7651, train_acc: 0.8266, val_acc:0.8274\n",
      "\t\ttrain_auc_roc: 0.8434, val_auc_roc: 0.8548, train_ap: 0.2527, val_ap: 0.3703,               train_f1_score: 0.2856, val_f1_score: 0.3163, train_precision: 0.1756, val_precision: 0.2012\n",
      "Epoch: 54 (5.0414s), train_loss: 0.7661, val_loss: 0.7652, train_acc: 0.8266, val_acc:0.8270\n",
      "\t\ttrain_auc_roc: 0.8414, val_auc_roc: 0.8561, train_ap: 0.2523, val_ap: 0.3695,               train_f1_score: 0.2854, val_f1_score: 0.3158, train_precision: 0.1755, val_precision: 0.2007\n",
      "Epoch: 55 (4.9507s), train_loss: 0.7662, val_loss: 0.7652, train_acc: 0.8288, val_acc:0.8316\n",
      "\t\ttrain_auc_roc: 0.8428, val_auc_roc: 0.8548, train_ap: 0.2691, val_ap: 0.3646,               train_f1_score: 0.2874, val_f1_score: 0.3196, train_precision: 0.1771, val_precision: 0.2043\n",
      "Epoch: 56 (5.1267s), train_loss: 0.7661, val_loss: 0.7650, train_acc: 0.8255, val_acc:0.8224\n",
      "\t\ttrain_auc_roc: 0.8451, val_auc_roc: 0.8570, train_ap: 0.2605, val_ap: 0.3700,               train_f1_score: 0.2848, val_f1_score: 0.3121, train_precision: 0.1749, val_precision: 0.1973\n",
      "Epoch: 57 (4.9653s), train_loss: 0.7661, val_loss: 0.7650, train_acc: 0.8187, val_acc:0.8221\n",
      "\t\ttrain_auc_roc: 0.8430, val_auc_roc: 0.8552, train_ap: 0.2509, val_ap: 0.3651,               train_f1_score: 0.2793, val_f1_score: 0.3122, train_precision: 0.1704, val_precision: 0.1972\n",
      "Epoch: 58 (5.4150s), train_loss: 0.7661, val_loss: 0.7650, train_acc: 0.8202, val_acc:0.8237\n",
      "\t\ttrain_auc_roc: 0.8407, val_auc_roc: 0.8548, train_ap: 0.2542, val_ap: 0.3702,               train_f1_score: 0.2805, val_f1_score: 0.3132, train_precision: 0.1714, val_precision: 0.1983\n",
      "Epoch: 59 (5.4388s), train_loss: 0.7661, val_loss: 0.7650, train_acc: 0.8225, val_acc:0.8229\n",
      "\t\ttrain_auc_roc: 0.8397, val_auc_roc: 0.8563, train_ap: 0.2570, val_ap: 0.3727,               train_f1_score: 0.2824, val_f1_score: 0.3127, train_precision: 0.1729, val_precision: 0.1978\n",
      "Epoch: 60 (5.1112s), train_loss: 0.7660, val_loss: 0.7650, train_acc: 0.8203, val_acc:0.8228\n",
      "\t\ttrain_auc_roc: 0.8392, val_auc_roc: 0.8563, train_ap: 0.2695, val_ap: 0.3675,               train_f1_score: 0.2807, val_f1_score: 0.3124, train_precision: 0.1715, val_precision: 0.1976\n",
      "Epoch: 61 (4.9275s), train_loss: 0.7660, val_loss: 0.7650, train_acc: 0.8213, val_acc:0.8241\n",
      "\t\ttrain_auc_roc: 0.8399, val_auc_roc: 0.8564, train_ap: 0.2649, val_ap: 0.3716,               train_f1_score: 0.2815, val_f1_score: 0.3138, train_precision: 0.1722, val_precision: 0.1987\n",
      "Epoch: 62 (5.1038s), train_loss: 0.7660, val_loss: 0.7651, train_acc: 0.8232, val_acc:0.8279\n",
      "\t\ttrain_auc_roc: 0.8413, val_auc_roc: 0.8548, train_ap: 0.2567, val_ap: 0.3689,               train_f1_score: 0.2830, val_f1_score: 0.3170, train_precision: 0.1734, val_precision: 0.2017\n",
      "Epoch: 63 (4.9904s), train_loss: 0.7661, val_loss: 0.7650, train_acc: 0.8252, val_acc:0.8270\n",
      "\t\ttrain_auc_roc: 0.8413, val_auc_roc: 0.8557, train_ap: 0.2547, val_ap: 0.3657,               train_f1_score: 0.2845, val_f1_score: 0.3157, train_precision: 0.1747, val_precision: 0.2007\n",
      "Epoch: 64 (5.0204s), train_loss: 0.7660, val_loss: 0.7650, train_acc: 0.8276, val_acc:0.8303\n",
      "\t\ttrain_auc_roc: 0.8409, val_auc_roc: 0.8568, train_ap: 0.2487, val_ap: 0.3730,               train_f1_score: 0.2863, val_f1_score: 0.3185, train_precision: 0.1762, val_precision: 0.2033\n",
      "Epoch: 65 (5.4583s), train_loss: 0.7660, val_loss: 0.7650, train_acc: 0.8261, val_acc:0.8265\n",
      "\t\ttrain_auc_roc: 0.8403, val_auc_roc: 0.8552, train_ap: 0.2609, val_ap: 0.3723,               train_f1_score: 0.2853, val_f1_score: 0.3154, train_precision: 0.1753, val_precision: 0.2004\n",
      "Epoch: 66 (5.1026s), train_loss: 0.7659, val_loss: 0.7651, train_acc: 0.8233, val_acc:0.8256\n",
      "\t\ttrain_auc_roc: 0.8430, val_auc_roc: 0.8534, train_ap: 0.2569, val_ap: 0.3678,               train_f1_score: 0.2830, val_f1_score: 0.3145, train_precision: 0.1734, val_precision: 0.1996\n",
      "Epoch: 67 (4.9541s), train_loss: 0.7661, val_loss: 0.7650, train_acc: 0.8244, val_acc:0.8279\n",
      "\t\ttrain_auc_roc: 0.8412, val_auc_roc: 0.8564, train_ap: 0.2626, val_ap: 0.3653,               train_f1_score: 0.2838, val_f1_score: 0.3168, train_precision: 0.1741, val_precision: 0.2016\n",
      "Epoch: 68 (5.0256s), train_loss: 0.7660, val_loss: 0.7649, train_acc: 0.8248, val_acc:0.8283\n",
      "\t\ttrain_auc_roc: 0.8405, val_auc_roc: 0.8570, train_ap: 0.2478, val_ap: 0.3685,               train_f1_score: 0.2842, val_f1_score: 0.3173, train_precision: 0.1744, val_precision: 0.2020\n",
      "Epoch: 69 (4.9725s), train_loss: 0.7659, val_loss: 0.7651, train_acc: 0.8244, val_acc:0.8267\n",
      "\t\ttrain_auc_roc: 0.8378, val_auc_roc: 0.8547, train_ap: 0.2708, val_ap: 0.3719,               train_f1_score: 0.2839, val_f1_score: 0.3160, train_precision: 0.1742, val_precision: 0.2007\n",
      "Epoch: 70 (5.0779s), train_loss: 0.7660, val_loss: 0.7651, train_acc: 0.8272, val_acc:0.8278\n",
      "\t\ttrain_auc_roc: 0.8407, val_auc_roc: 0.8549, train_ap: 0.2566, val_ap: 0.3731,               train_f1_score: 0.2860, val_f1_score: 0.3165, train_precision: 0.1760, val_precision: 0.2014\n",
      "Epoch: 71 (5.0874s), train_loss: 0.7661, val_loss: 0.7649, train_acc: 0.8244, val_acc:0.8253\n",
      "\t\ttrain_auc_roc: 0.8409, val_auc_roc: 0.8581, train_ap: 0.2491, val_ap: 0.3738,               train_f1_score: 0.2840, val_f1_score: 0.3144, train_precision: 0.1742, val_precision: 0.1994\n",
      "Epoch: 72 (5.0327s), train_loss: 0.7660, val_loss: 0.7650, train_acc: 0.8248, val_acc:0.8278\n",
      "\t\ttrain_auc_roc: 0.8409, val_auc_roc: 0.8556, train_ap: 0.2525, val_ap: 0.3709,               train_f1_score: 0.2842, val_f1_score: 0.3164, train_precision: 0.1744, val_precision: 0.2013\n",
      "Epoch: 73 (5.0656s), train_loss: 0.7659, val_loss: 0.7651, train_acc: 0.8285, val_acc:0.8304\n",
      "\t\ttrain_auc_roc: 0.8406, val_auc_roc: 0.8552, train_ap: 0.2601, val_ap: 0.3678,               train_f1_score: 0.2871, val_f1_score: 0.3189, train_precision: 0.1769, val_precision: 0.2035\n",
      "Epoch: 74 (5.0466s), train_loss: 0.7661, val_loss: 0.7650, train_acc: 0.8286, val_acc:0.8299\n",
      "\t\ttrain_auc_roc: 0.8419, val_auc_roc: 0.8570, train_ap: 0.2549, val_ap: 0.3729,               train_f1_score: 0.2872, val_f1_score: 0.3184, train_precision: 0.1770, val_precision: 0.2031\n",
      "Epoch: 75 (5.0779s), train_loss: 0.7660, val_loss: 0.7649, train_acc: 0.8256, val_acc:0.8253\n",
      "\t\ttrain_auc_roc: 0.8405, val_auc_roc: 0.8580, train_ap: 0.2617, val_ap: 0.3704,               train_f1_score: 0.2848, val_f1_score: 0.3146, train_precision: 0.1750, val_precision: 0.1995\n",
      "Epoch: 76 (4.9858s), train_loss: 0.7660, val_loss: 0.7649, train_acc: 0.8223, val_acc:0.8240\n",
      "\t\ttrain_auc_roc: 0.8434, val_auc_roc: 0.8563, train_ap: 0.2532, val_ap: 0.3708,               train_f1_score: 0.2822, val_f1_score: 0.3135, train_precision: 0.1728, val_precision: 0.1985\n",
      "Epoch: 77 (5.1041s), train_loss: 0.7660, val_loss: 0.7650, train_acc: 0.8234, val_acc:0.8294\n",
      "\t\ttrain_auc_roc: 0.8415, val_auc_roc: 0.8576, train_ap: 0.2542, val_ap: 0.3685,               train_f1_score: 0.2831, val_f1_score: 0.3177, train_precision: 0.1735, val_precision: 0.2026\n",
      "Epoch: 78 (5.1106s), train_loss: 0.7660, val_loss: 0.7650, train_acc: 0.8289, val_acc:0.8316\n",
      "\t\ttrain_auc_roc: 0.8399, val_auc_roc: 0.8558, train_ap: 0.2596, val_ap: 0.3685,               train_f1_score: 0.2875, val_f1_score: 0.3199, train_precision: 0.1772, val_precision: 0.2045\n",
      "Epoch: 79 (4.9706s), train_loss: 0.7660, val_loss: 0.7650, train_acc: 0.8283, val_acc:0.8288\n",
      "\t\ttrain_auc_roc: 0.8419, val_auc_roc: 0.8577, train_ap: 0.2556, val_ap: 0.3707,               train_f1_score: 0.2869, val_f1_score: 0.3178, train_precision: 0.1767, val_precision: 0.2024\n",
      "Epoch: 80 (5.0020s), train_loss: 0.7660, val_loss: 0.7650, train_acc: 0.8287, val_acc:0.8307\n",
      "\t\ttrain_auc_roc: 0.8427, val_auc_roc: 0.8562, train_ap: 0.2623, val_ap: 0.3717,               train_f1_score: 0.2875, val_f1_score: 0.3190, train_precision: 0.1772, val_precision: 0.2037\n",
      "Epoch: 81 (5.0820s), train_loss: 0.7661, val_loss: 0.7648, train_acc: 0.8231, val_acc:0.8216\n",
      "\t\ttrain_auc_roc: 0.8411, val_auc_roc: 0.8545, train_ap: 0.2457, val_ap: 0.3646,               train_f1_score: 0.2828, val_f1_score: 0.3116, train_precision: 0.1733, val_precision: 0.1967\n",
      "Epoch: 82 (5.0408s), train_loss: 0.7659, val_loss: 0.7649, train_acc: 0.8210, val_acc:0.8249\n",
      "\t\ttrain_auc_roc: 0.8395, val_auc_roc: 0.8508, train_ap: 0.2449, val_ap: 0.3617,               train_f1_score: 0.2812, val_f1_score: 0.3143, train_precision: 0.1719, val_precision: 0.1993\n",
      "Epoch: 83 (5.1105s), train_loss: 0.7659, val_loss: 0.7650, train_acc: 0.8240, val_acc:0.8266\n",
      "\t\ttrain_auc_roc: 0.8380, val_auc_roc: 0.8554, train_ap: 0.2498, val_ap: 0.3712,               train_f1_score: 0.2837, val_f1_score: 0.3156, train_precision: 0.1739, val_precision: 0.2005\n",
      "Epoch: 84 (4.9539s), train_loss: 0.7659, val_loss: 0.7650, train_acc: 0.8258, val_acc:0.8291\n",
      "\t\ttrain_auc_roc: 0.8416, val_auc_roc: 0.8538, train_ap: 0.2437, val_ap: 0.3711,               train_f1_score: 0.2850, val_f1_score: 0.3177, train_precision: 0.1751, val_precision: 0.2025\n",
      "Epoch: 85 (4.9473s), train_loss: 0.7660, val_loss: 0.7650, train_acc: 0.8250, val_acc:0.8258\n",
      "\t\ttrain_auc_roc: 0.8385, val_auc_roc: 0.8561, train_ap: 0.2580, val_ap: 0.3668,               train_f1_score: 0.2843, val_f1_score: 0.3151, train_precision: 0.1746, val_precision: 0.1999\n",
      "Epoch: 86 (5.0360s), train_loss: 0.7660, val_loss: 0.7650, train_acc: 0.8255, val_acc:0.8271\n",
      "\t\ttrain_auc_roc: 0.8378, val_auc_roc: 0.8559, train_ap: 0.2688, val_ap: 0.3656,               train_f1_score: 0.2847, val_f1_score: 0.3161, train_precision: 0.1749, val_precision: 0.2010\n",
      "Epoch: 87 (5.1917s), train_loss: 0.7659, val_loss: 0.7650, train_acc: 0.8259, val_acc:0.8263\n",
      "\t\ttrain_auc_roc: 0.8399, val_auc_roc: 0.8557, train_ap: 0.2500, val_ap: 0.3690,               train_f1_score: 0.2850, val_f1_score: 0.3156, train_precision: 0.1751, val_precision: 0.2004\n",
      "Epoch: 88 (5.6294s), train_loss: 0.7659, val_loss: 0.7651, train_acc: 0.8270, val_acc:0.8303\n",
      "\t\ttrain_auc_roc: 0.8445, val_auc_roc: 0.8537, train_ap: 0.2572, val_ap: 0.3732,               train_f1_score: 0.2859, val_f1_score: 0.3187, train_precision: 0.1759, val_precision: 0.2034\n",
      "Epoch: 89 (5.4938s), train_loss: 0.7660, val_loss: 0.7649, train_acc: 0.8273, val_acc:0.8287\n",
      "\t\ttrain_auc_roc: 0.8413, val_auc_roc: 0.8571, train_ap: 0.2539, val_ap: 0.3723,               train_f1_score: 0.2862, val_f1_score: 0.3172, train_precision: 0.1761, val_precision: 0.2021\n",
      "Epoch: 90 (5.2800s), train_loss: 0.7660, val_loss: 0.7649, train_acc: 0.8268, val_acc:0.8287\n",
      "\t\ttrain_auc_roc: 0.8403, val_auc_roc: 0.8582, train_ap: 0.2666, val_ap: 0.3723,               train_f1_score: 0.2858, val_f1_score: 0.3176, train_precision: 0.1758, val_precision: 0.2023\n",
      "Epoch: 91 (5.1258s), train_loss: 0.7659, val_loss: 0.7651, train_acc: 0.8286, val_acc:0.8295\n",
      "\t\ttrain_auc_roc: 0.8405, val_auc_roc: 0.8552, train_ap: 0.2723, val_ap: 0.3715,               train_f1_score: 0.2871, val_f1_score: 0.3179, train_precision: 0.1770, val_precision: 0.2027\n",
      "Epoch: 92 (4.8890s), train_loss: 0.7661, val_loss: 0.7650, train_acc: 0.8310, val_acc:0.8336\n",
      "\t\ttrain_auc_roc: 0.8403, val_auc_roc: 0.8563, train_ap: 0.2511, val_ap: 0.3688,               train_f1_score: 0.2891, val_f1_score: 0.3210, train_precision: 0.1787, val_precision: 0.2058\n",
      "Epoch: 93 (5.0651s), train_loss: 0.7660, val_loss: 0.7650, train_acc: 0.8324, val_acc:0.8328\n",
      "\t\ttrain_auc_roc: 0.8436, val_auc_roc: 0.8588, train_ap: 0.2509, val_ap: 0.3667,               train_f1_score: 0.2904, val_f1_score: 0.3206, train_precision: 0.1797, val_precision: 0.2053\n",
      "Epoch: 94 (5.0245s), train_loss: 0.7660, val_loss: 0.7650, train_acc: 0.8311, val_acc:0.8328\n",
      "\t\ttrain_auc_roc: 0.8420, val_auc_roc: 0.8554, train_ap: 0.2543, val_ap: 0.3722,               train_f1_score: 0.2893, val_f1_score: 0.3206, train_precision: 0.1788, val_precision: 0.2053\n",
      "Epoch: 95 (5.3551s), train_loss: 0.7660, val_loss: 0.7650, train_acc: 0.8339, val_acc:0.8349\n",
      "\t\ttrain_auc_roc: 0.8413, val_auc_roc: 0.8576, train_ap: 0.2480, val_ap: 0.3718,               train_f1_score: 0.2916, val_f1_score: 0.3223, train_precision: 0.1808, val_precision: 0.2070\n",
      "Epoch: 96 (4.9546s), train_loss: 0.7659, val_loss: 0.7650, train_acc: 0.8306, val_acc:0.8296\n",
      "\t\ttrain_auc_roc: 0.8400, val_auc_roc: 0.8541, train_ap: 0.2584, val_ap: 0.3686,               train_f1_score: 0.2889, val_f1_score: 0.3182, train_precision: 0.1784, val_precision: 0.2029\n",
      "Epoch: 97 (5.5362s), train_loss: 0.7660, val_loss: 0.7649, train_acc: 0.8227, val_acc:0.8229\n",
      "\t\ttrain_auc_roc: 0.8439, val_auc_roc: 0.8564, train_ap: 0.2487, val_ap: 0.3724,               train_f1_score: 0.2824, val_f1_score: 0.3130, train_precision: 0.1730, val_precision: 0.1980\n",
      "Epoch: 98 (5.0846s), train_loss: 0.7660, val_loss: 0.7649, train_acc: 0.8216, val_acc:0.8234\n",
      "\t\ttrain_auc_roc: 0.8406, val_auc_roc: 0.8561, train_ap: 0.2520, val_ap: 0.3715,               train_f1_score: 0.2815, val_f1_score: 0.3134, train_precision: 0.1722, val_precision: 0.1983\n",
      "Epoch: 99 (4.8620s), train_loss: 0.7660, val_loss: 0.7648, train_acc: 0.8185, val_acc:0.8165\n",
      "\t\ttrain_auc_roc: 0.8424, val_auc_roc: 0.8564, train_ap: 0.2671, val_ap: 0.3688,               train_f1_score: 0.2792, val_f1_score: 0.3077, train_precision: 0.1702, val_precision: 0.1932\n",
      "Epoch: 100 (5.0996s), train_loss: 0.7660, val_loss: 0.7648, train_acc: 0.8157, val_acc:0.8182\n",
      "\t\ttrain_auc_roc: 0.8396, val_auc_roc: 0.8554, train_ap: 0.2483, val_ap: 0.3710,               train_f1_score: 0.2771, val_f1_score: 0.3090, train_precision: 0.1685, val_precision: 0.1944\n",
      "\n",
      "\n",
      "============================== Test Result ==============================\n",
      "\t\ttest_acc: 0.8301, test_auc_roc: 0.8551,test_f1: 0.2978,test_precision:0.1866\n",
      "\t\ttest_recall: 0.7371, test_int_ap: 0.3419,test_ap: 0.3420\n"
     ]
    }
   ],
   "source": [
    "\n",
    "import warnings\n",
    "from contextlib import redirect_stdout\n",
    "\n",
    "X = df_all_se['STITCH ID STEREO'].values\n",
    "y = np.stack(df_all_se['MEDRA TERM UMLS CONCEPT ID'].apply(lambda x: all_of_k_encoding_unk(eval(x), unique_values)))\n",
    "X_train, X_test, y_train, y_test = train_test_split(X, y, test_size=0.2)\n",
    "\n",
    "X_train, y_train, X_val, y_val = split_train_valid(X_train, y_train, 1)\n",
    "print(f'X_train: {X_train.shape}, y_train: {y_train.shape}, X_val: {X_val.shape}, y_val: {y_val.shape}, X_test: {X_test.shape}, y_test: {y_test.shape}')\n",
    "\n",
    "train_tup = list(zip(X_train, y_train))\n",
    "val_tup = list(zip(X_val, y_val))\n",
    "test_tup = list(zip(X_test, y_test))\n",
    "\n",
    "train_data = DrugDataset(train_tup, ratio=1, neg_ent=1)\n",
    "val_data = DrugDataset(val_tup, ratio=1, neg_ent=1)\n",
    "test_data = DrugDataset(test_tup, ratio=1, neg_ent=1)\n",
    "\n",
    "print(f\"Training with {len(train_data)} samples, validating with {len(val_data)}, and testing with {len(test_data)}\")\n",
    "\n",
    "train_data_loader = DrugDataLoader(train_data, batch_size=64, shuffle=True,num_workers=2)\n",
    "val_data_loader = DrugDataLoader(val_data, batch_size=64,num_workers=2)\n",
    "test_data_loader = DrugDataLoader(test_data, batch_size=64 *3,num_workers=2)\n",
    "    \n",
    "report_singleF = \"report_singleFWBondFeat.txt\"\n",
    "print(f'Running for single fold')\n",
    "from torch import optim\n",
    "\n",
    "model = GCNv2(num_node_features=55, hidden_channels=128, heads_out_feat_params=[128, 128, 128], blocks_params=[3, 3, 3], num_classes=2061)\n",
    "print(model)\n",
    "optimizer = optim.Adam(model.parameters(), lr=0.001, weight_decay=5e-4)\n",
    "# optimizer = torch.optim.Adam(model.parameters(), lr=0.01)\n",
    "\n",
    "loss = symmetric_cross_entropy_loss #nn.MultiLabelSoftMarginLoss() # DiceLoss(smooth=1e-5) # torch.nn.BCEWithLogitsLoss() # FocalLoss(alpha=0.5, gamma=2) torch.nn.BCELoss() # \n",
    "n_epochs = 100\n",
    "device = torch.device('cuda' if torch.cuda.is_available() else 'cpu')\n",
    "# scheduler = torch.optim.lr_scheduler.ReduceLROnPlateau(optimizer, mode='min', factor=0.1, patience=3, min_lr=0.00001)\n",
    "scheduler = optim.lr_scheduler.LambdaLR(optimizer, lambda epoch: 0.96 ** (epoch))\n",
    "# scheduler = None\n",
    "\n",
    "pkl_name = f'gcn_se_model_singleFWBondFeat.pkl'\n",
    "\n",
    "model.to(device=device)\n",
    "\n",
    "\n",
    "with warnings.catch_warnings():\n",
    "    # with open(report_singleF, 'a') as f:\n",
    "    #     with redirect_stdout(f):\n",
    "    warnings.filterwarnings(\"ignore\")\n",
    "    train(pkl_name, model, train_data_loader, val_data_loader, loss, optimizer, n_epochs, device, scheduler)\n",
    "    model = torch.load(pkl_name)\n",
    "    test(test_data_loader,model)\n",
    "    torch.cuda.empty_cache()\n",
    "    "
   ]
  },
  {
   "cell_type": "code",
   "execution_count": 175,
   "metadata": {},
   "outputs": [
    {
     "name": "stdout",
     "output_type": "stream",
     "text": [
      "\n",
      "\n",
      "============================== Test Result ==============================\n",
      "\t\ttest_acc: 0.9345, test_auc_roc: 0.8377,test_f1: 0.3836,test_precision:0.3390\n",
      "\t\ttest_recall: 0.4417, test_int_ap: 0.3077,test_ap: 0.3072\n"
     ]
    }
   ],
   "source": [
    "test(test_data_loader,model)"
   ]
  },
  {
   "cell_type": "markdown",
   "metadata": {},
   "source": [
    "### 5 fold split model train and test"
   ]
  },
  {
   "cell_type": "code",
   "execution_count": 65,
   "metadata": {},
   "outputs": [
    {
     "name": "stdout",
     "output_type": "stream",
     "text": [
      "Training with 852 samples, validating with 208, and testing with 266\n",
      "Running for Fold 0\n",
      "GCNv2(\n",
      "  (initial_norm): LayerNorm(55)\n",
      "  (net_norms): ModuleList(\n",
      "    (0): LayerNorm(192)\n",
      "    (1): LayerNorm(192)\n",
      "    (2): LayerNorm(192)\n",
      "  )\n",
      "  (block0): GATv2Conv(55, 64, heads=3)\n",
      "  (block1): GATv2Conv(192, 64, heads=3)\n",
      "  (block2): GATv2Conv(192, 64, heads=3)\n",
      "  (head_norm): LayerNorm(64)\n",
      "  (lin): Sequential(\n",
      "    (0): Linear(in_features=192, out_features=128, bias=True)\n",
      "    (1): ReLU()\n",
      "    (2): Linear(in_features=128, out_features=2061, bias=True)\n",
      "    (3): Sigmoid()\n",
      "  )\n",
      ")\n",
      "Training with 850 samples, validating with 210, and testing with 266\n",
      "Running for Fold 1\n",
      "GCNv2(\n",
      "  (initial_norm): LayerNorm(55)\n",
      "  (net_norms): ModuleList(\n",
      "    (0): LayerNorm(192)\n",
      "    (1): LayerNorm(192)\n",
      "    (2): LayerNorm(192)\n",
      "  )\n",
      "  (block0): GATv2Conv(55, 64, heads=3)\n",
      "  (block1): GATv2Conv(192, 64, heads=3)\n",
      "  (block2): GATv2Conv(192, 64, heads=3)\n",
      "  (head_norm): LayerNorm(64)\n",
      "  (lin): Sequential(\n",
      "    (0): Linear(in_features=192, out_features=128, bias=True)\n",
      "    (1): ReLU()\n",
      "    (2): Linear(in_features=128, out_features=2061, bias=True)\n",
      "    (3): Sigmoid()\n",
      "  )\n",
      ")\n",
      "Training with 853 samples, validating with 207, and testing with 266\n",
      "Running for Fold 2\n",
      "GCNv2(\n",
      "  (initial_norm): LayerNorm(55)\n",
      "  (net_norms): ModuleList(\n",
      "    (0): LayerNorm(192)\n",
      "    (1): LayerNorm(192)\n",
      "    (2): LayerNorm(192)\n",
      "  )\n",
      "  (block0): GATv2Conv(55, 64, heads=3)\n",
      "  (block1): GATv2Conv(192, 64, heads=3)\n",
      "  (block2): GATv2Conv(192, 64, heads=3)\n",
      "  (head_norm): LayerNorm(64)\n",
      "  (lin): Sequential(\n",
      "    (0): Linear(in_features=192, out_features=128, bias=True)\n",
      "    (1): ReLU()\n",
      "    (2): Linear(in_features=128, out_features=2061, bias=True)\n",
      "    (3): Sigmoid()\n",
      "  )\n",
      ")\n",
      "Training with 852 samples, validating with 208, and testing with 266\n",
      "Running for Fold 3\n",
      "GCNv2(\n",
      "  (initial_norm): LayerNorm(55)\n",
      "  (net_norms): ModuleList(\n",
      "    (0): LayerNorm(192)\n",
      "    (1): LayerNorm(192)\n",
      "    (2): LayerNorm(192)\n",
      "  )\n",
      "  (block0): GATv2Conv(55, 64, heads=3)\n",
      "  (block1): GATv2Conv(192, 64, heads=3)\n",
      "  (block2): GATv2Conv(192, 64, heads=3)\n",
      "  (head_norm): LayerNorm(64)\n",
      "  (lin): Sequential(\n",
      "    (0): Linear(in_features=192, out_features=128, bias=True)\n",
      "    (1): ReLU()\n",
      "    (2): Linear(in_features=128, out_features=2061, bias=True)\n",
      "    (3): Sigmoid()\n",
      "  )\n",
      ")\n",
      "Training with 833 samples, validating with 227, and testing with 266\n",
      "Running for Fold 4\n",
      "GCNv2(\n",
      "  (initial_norm): LayerNorm(55)\n",
      "  (net_norms): ModuleList(\n",
      "    (0): LayerNorm(192)\n",
      "    (1): LayerNorm(192)\n",
      "    (2): LayerNorm(192)\n",
      "  )\n",
      "  (block0): GATv2Conv(55, 64, heads=3)\n",
      "  (block1): GATv2Conv(192, 64, heads=3)\n",
      "  (block2): GATv2Conv(192, 64, heads=3)\n",
      "  (head_norm): LayerNorm(64)\n",
      "  (lin): Sequential(\n",
      "    (0): Linear(in_features=192, out_features=128, bias=True)\n",
      "    (1): ReLU()\n",
      "    (2): Linear(in_features=128, out_features=2061, bias=True)\n",
      "    (3): Sigmoid()\n",
      "  )\n",
      ")\n"
     ]
    }
   ],
   "source": [
    "import warnings\n",
    "X = df_all_se['STITCH ID STEREO'].values\n",
    "y = np.stack(df_all_se['MEDRA TERM UMLS CONCEPT ID'].apply(lambda x: all_of_k_encoding_unk(eval(x), unique_values)))\n",
    "from contextlib import redirect_stdout\n",
    "from sklearn.model_selection import train_test_split\n",
    "# Split data into training (60%), validation (20%), and testing (20%) sets\n",
    "X_train, X_test, y_train, y_test = train_test_split(X, y, test_size=0.2)\n",
    "test_tup = list(zip(X_test, y_test))\n",
    "test_data = DrugDataset(test_tup, ratio=1, neg_ent=1)\n",
    "test_data_loader = DrugDataLoader(test_data, batch_size=64 *3,num_workers=2)\n",
    "    \n",
    "report = \"report_bond_5Fold.txt\"\n",
    "with warnings.catch_warnings():\n",
    "    warnings.filterwarnings(\"ignore\", category=UserWarning)\n",
    "    for fold, (X_train, y_train, X_val, y_val) in enumerate(ksplit_train_valid(X_train, y_train, 5)):\n",
    "        train_tup = list(zip(X_train, y_train))\n",
    "        val_tup = list(zip(X_val, y_val))\n",
    "        \n",
    "        train_data = DrugDataset(train_tup, ratio=1, neg_ent=1)\n",
    "        val_data = DrugDataset(val_tup, ratio=1, neg_ent=1)\n",
    "        \n",
    "        print(f\"Training with {len(train_data)} samples, validating with {len(val_data)}, and testing with {len(test_data)}\")\n",
    "\n",
    "        train_data_loader = DrugDataLoader(train_data, batch_size=64, shuffle=True,num_workers=2)\n",
    "        val_data_loader = DrugDataLoader(val_data, batch_size=64,num_workers=2)\n",
    "        \n",
    "        \n",
    "        print(f'Running for Fold {fold}')\n",
    "        from torch import optim\n",
    "\n",
    "        model = GCNv2(num_node_features=55, hidden_channels=64, heads_out_feat_params=[64, 64, 64], blocks_params=[3, 3, 3], num_classes=2061)\n",
    "        print(model)\n",
    "        optimizer = optim.Adam(model.parameters(), lr=0.001, weight_decay=5e-4)\n",
    "        # optimizer = torch.optim.Adam(model.parameters(), lr=0.01)\n",
    "        loss = DiceLoss(smooth=1e-5) # torch.nn.BCEWithLogitsLoss() # FocalLoss(alpha=0.5, gamma=2) torch.nn.BCELoss() # \n",
    "        n_epochs = 50\n",
    "        device = torch.device('cuda' if torch.cuda.is_available() else 'cpu')\n",
    "        # scheduler = torch.optim.lr_scheduler.ReduceLROnPlateau(optimizer, mode='min', factor=0.1, patience=3, min_lr=0.00001)\n",
    "        # scheduler = optim.lr_scheduler.LambdaLR(optimizer, lambda epoch: 0.96 ** (epoch))\n",
    "        scheduler = None\n",
    "        pkl_name = f'gcn_se_model_bond_{fold}.pkl'\n",
    "\n",
    "        model.to(device=device)\n",
    "        # pass the print statements to a file\n",
    "        with open(report, 'a') as f:\n",
    "            with redirect_stdout(f):\n",
    "                print(f'Running for Fold {fold}')\n",
    "                train(pkl_name, model, train_data_loader, val_data_loader, loss, optimizer, n_epochs, device, scheduler)\n",
    "                test(test_data_loader, model)\n",
    "        # Clear intermediate variables to free CUDA memory\n",
    "        del train_data_loader, val_data_loader, train_data, val_data, X_train, y_train, X_val, y_val, train_tup, val_tup\n",
    "        \n",
    "\n",
    "        del model \n",
    "        torch.cuda.empty_cache()"
   ]
  },
  {
   "cell_type": "code",
   "execution_count": 84,
   "metadata": {},
   "outputs": [
    {
     "name": "stdout",
     "output_type": "stream",
     "text": [
      "\n",
      "\n",
      "============================== Test Result ==============================\n",
      "\t\ttest_acc: 0.9346, test_auc_roc: 0.8276,test_f1: 0.4111,test_precision:0.3920\n",
      "\t\ttest_recall: 0.4321, test_int_ap: 0.3155,test_ap: 0.3155\n"
     ]
    }
   ],
   "source": [
    "test(test_data_loader, model)"
   ]
  },
  {
   "cell_type": "markdown",
   "metadata": {},
   "source": [
    "### Different model cached print result for comparision"
   ]
  },
  {
   "cell_type": "code",
   "execution_count": 82,
   "metadata": {},
   "outputs": [
    {
     "name": "stdout",
     "output_type": "stream",
     "text": [
      "\n",
      "\n",
      "============================== Test Result ==============================\n",
      "\t\ttest_acc: 0.9346, test_auc_roc: 0.8276,test_f1: 0.4111,test_precision:0.3920\n",
      "\t\ttest_recall: 0.4321, test_int_ap: 0.3155,test_ap: 0.3155\n"
     ]
    }
   ],
   "source": [
    "test(test_data_loader,model.to(device))"
   ]
  },
  {
   "cell_type": "code",
   "execution_count": 170,
   "metadata": {},
   "outputs": [
    {
     "name": "stderr",
     "output_type": "stream",
     "text": [
      "/home/mayank/miniconda3/envs/dsn/lib/python3.7/site-packages/ipykernel_launcher.py:46: UserWarning: Creating a tensor from a list of numpy.ndarrays is extremely slow. Please consider converting the list to a single numpy.ndarray with numpy.array() before converting to a tensor. (Triggered internally at  /opt/conda/conda-bld/pytorch_1646755953518/work/torch/csrc/utils/tensor_new.cpp:210.)\n",
      "/home/mayank/miniconda3/envs/dsn/lib/python3.7/site-packages/ipykernel_launcher.py:46: UserWarning: Creating a tensor from a list of numpy.ndarrays is extremely slow. Please consider converting the list to a single numpy.ndarray with numpy.array() before converting to a tensor. (Triggered internally at  /opt/conda/conda-bld/pytorch_1646755953518/work/torch/csrc/utils/tensor_new.cpp:210.)\n"
     ]
    },
    {
     "name": "stdout",
     "output_type": "stream",
     "text": [
      "\n",
      "\n",
      "============================== Test Result ==============================\n",
      "\t\ttest_acc: 0.9489, test_auc_roc: 0.8596,test_f1: 0.1071,test_precision:0.7624\n",
      "\t\ttest_recall: 0.0576, test_int_ap: 0.3644,test_ap: 0.3644\n"
     ]
    }
   ],
   "source": [
    "test(test_data_loader,model.to(device))"
   ]
  },
  {
   "cell_type": "code",
   "execution_count": null,
   "metadata": {},
   "outputs": [],
   "source": [
    "# ============================== Test Result ==============================\n",
    "# test_acc: 0.9489, test_auc_roc: 0.8552,test_f1: 0.1073,test_precision:0.7604\n",
    "# test_recall: 0.0577, test_int_ap: 0.3606,test_ap: 0.3606"
   ]
  },
  {
   "cell_type": "markdown",
   "metadata": {},
   "source": [
    "### Using untrained model and baseline metrics"
   ]
  },
  {
   "cell_type": "code",
   "execution_count": 120,
   "metadata": {},
   "outputs": [],
   "source": [
    "model_untrained = GCN(num_node_features=55, hidden_channels=128, num_classes=2061)\n"
   ]
  },
  {
   "cell_type": "code",
   "execution_count": 171,
   "metadata": {},
   "outputs": [
    {
     "name": "stderr",
     "output_type": "stream",
     "text": [
      "/home/mayank/miniconda3/envs/dsn/lib/python3.7/site-packages/ipykernel_launcher.py:46: UserWarning: Creating a tensor from a list of numpy.ndarrays is extremely slow. Please consider converting the list to a single numpy.ndarray with numpy.array() before converting to a tensor. (Triggered internally at  /opt/conda/conda-bld/pytorch_1646755953518/work/torch/csrc/utils/tensor_new.cpp:210.)\n",
      "/home/mayank/miniconda3/envs/dsn/lib/python3.7/site-packages/ipykernel_launcher.py:46: UserWarning: Creating a tensor from a list of numpy.ndarrays is extremely slow. Please consider converting the list to a single numpy.ndarray with numpy.array() before converting to a tensor. (Triggered internally at  /opt/conda/conda-bld/pytorch_1646755953518/work/torch/csrc/utils/tensor_new.cpp:210.)\n",
      "/home/mayank/miniconda3/envs/dsn/lib/python3.7/site-packages/sklearn/metrics/_classification.py:1318: UndefinedMetricWarning: Precision is ill-defined and being set to 0.0 due to no predicted samples. Use `zero_division` parameter to control this behavior.\n",
      "  _warn_prf(average, modifier, msg_start, len(result))\n"
     ]
    },
    {
     "name": "stdout",
     "output_type": "stream",
     "text": [
      "\n",
      "\n",
      "============================== Test Result ==============================\n",
      "\t\ttest_acc: 0.9468, test_auc_roc: 0.5271,test_f1: 0.0000,test_precision:0.0000\n",
      "\t\ttest_recall: 0.0000, test_int_ap: 0.0586,test_ap: 0.0586\n"
     ]
    }
   ],
   "source": [
    "test(test_data_loader,model_untrained.to(device))"
   ]
  },
  {
   "cell_type": "code",
   "execution_count": 119,
   "metadata": {},
   "outputs": [
    {
     "name": "stderr",
     "output_type": "stream",
     "text": [
      "/home/mayank/miniconda3/envs/dsn/lib/python3.7/site-packages/ipykernel_launcher.py:46: UserWarning: Creating a tensor from a list of numpy.ndarrays is extremely slow. Please consider converting the list to a single numpy.ndarray with numpy.array() before converting to a tensor. (Triggered internally at  /opt/conda/conda-bld/pytorch_1646755953518/work/torch/csrc/utils/tensor_new.cpp:210.)\n",
      "/home/mayank/miniconda3/envs/dsn/lib/python3.7/site-packages/ipykernel_launcher.py:46: UserWarning: Creating a tensor from a list of numpy.ndarrays is extremely slow. Please consider converting the list to a single numpy.ndarray with numpy.array() before converting to a tensor. (Triggered internally at  /opt/conda/conda-bld/pytorch_1646755953518/work/torch/csrc/utils/tensor_new.cpp:210.)\n"
     ]
    },
    {
     "name": "stdout",
     "output_type": "stream",
     "text": [
      "\n",
      "\n",
      "============================== Test Result ==============================\n",
      "\t\ttest_acc: 0.9528, test_auc_roc: 0.8614,test_f1: 0.1125,test_precision:0.7399\n",
      "\t\ttest_recall: 0.0609, test_int_ap: 0.3517,test_ap: 0.3517\n"
     ]
    }
   ],
   "source": [
    "test(val_data_loader,model)"
   ]
  },
  {
   "cell_type": "code",
   "execution_count": 117,
   "metadata": {},
   "outputs": [
    {
     "name": "stderr",
     "output_type": "stream",
     "text": [
      "/home/mayank/miniconda3/envs/dsn/lib/python3.7/site-packages/ipykernel_launcher.py:46: UserWarning: Creating a tensor from a list of numpy.ndarrays is extremely slow. Please consider converting the list to a single numpy.ndarray with numpy.array() before converting to a tensor. (Triggered internally at  /opt/conda/conda-bld/pytorch_1646755953518/work/torch/csrc/utils/tensor_new.cpp:210.)\n",
      "/home/mayank/miniconda3/envs/dsn/lib/python3.7/site-packages/ipykernel_launcher.py:46: UserWarning: Creating a tensor from a list of numpy.ndarrays is extremely slow. Please consider converting the list to a single numpy.ndarray with numpy.array() before converting to a tensor. (Triggered internally at  /opt/conda/conda-bld/pytorch_1646755953518/work/torch/csrc/utils/tensor_new.cpp:210.)\n"
     ]
    },
    {
     "name": "stdout",
     "output_type": "stream",
     "text": [
      "\n",
      "\n",
      "============================== Test Result ==============================\n",
      "\t\ttest_acc: 0.9567, test_auc_roc: 0.8702,test_f1: 0.1199,test_precision:0.7274\n",
      "\t\ttest_recall: 0.0653, test_int_ap: 0.3483,test_ap: 0.3483\n"
     ]
    }
   ],
   "source": [
    "test(train_data_loader,model)"
   ]
  },
  {
   "cell_type": "code",
   "execution_count": 122,
   "metadata": {},
   "outputs": [
    {
     "name": "stderr",
     "output_type": "stream",
     "text": [
      "/home/mayank/miniconda3/envs/dsn/lib/python3.7/site-packages/ipykernel_launcher.py:46: UserWarning: Creating a tensor from a list of numpy.ndarrays is extremely slow. Please consider converting the list to a single numpy.ndarray with numpy.array() before converting to a tensor. (Triggered internally at  /opt/conda/conda-bld/pytorch_1646755953518/work/torch/csrc/utils/tensor_new.cpp:210.)\n",
      "/home/mayank/miniconda3/envs/dsn/lib/python3.7/site-packages/ipykernel_launcher.py:46: UserWarning: Creating a tensor from a list of numpy.ndarrays is extremely slow. Please consider converting the list to a single numpy.ndarray with numpy.array() before converting to a tensor. (Triggered internally at  /opt/conda/conda-bld/pytorch_1646755953518/work/torch/csrc/utils/tensor_new.cpp:210.)\n",
      "/home/mayank/miniconda3/envs/dsn/lib/python3.7/site-packages/sklearn/metrics/_classification.py:1318: UndefinedMetricWarning: Precision is ill-defined and being set to 0.0 due to no predicted samples. Use `zero_division` parameter to control this behavior.\n",
      "  _warn_prf(average, modifier, msg_start, len(result))\n"
     ]
    },
    {
     "name": "stdout",
     "output_type": "stream",
     "text": [
      "\n",
      "\n",
      "============================== Test Result ==============================\n",
      "\t\ttest_acc: 0.9549, test_auc_roc: 0.5161,test_f1: 0.0000,test_precision:0.0000\n",
      "\t\ttest_recall: 0.0000, test_int_ap: 0.0472,test_ap: 0.0472\n"
     ]
    }
   ],
   "source": [
    "test(train_data_loader,model_untrained.to(device))"
   ]
  },
  {
   "cell_type": "code",
   "execution_count": 116,
   "metadata": {},
   "outputs": [
    {
     "name": "stderr",
     "output_type": "stream",
     "text": [
      "/home/mayank/miniconda3/envs/dsn/lib/python3.7/site-packages/ipykernel_launcher.py:46: UserWarning: Creating a tensor from a list of numpy.ndarrays is extremely slow. Please consider converting the list to a single numpy.ndarray with numpy.array() before converting to a tensor. (Triggered internally at  /opt/conda/conda-bld/pytorch_1646755953518/work/torch/csrc/utils/tensor_new.cpp:210.)\n",
      "/home/mayank/miniconda3/envs/dsn/lib/python3.7/site-packages/ipykernel_launcher.py:46: UserWarning: Creating a tensor from a list of numpy.ndarrays is extremely slow. Please consider converting the list to a single numpy.ndarray with numpy.array() before converting to a tensor. (Triggered internally at  /opt/conda/conda-bld/pytorch_1646755953518/work/torch/csrc/utils/tensor_new.cpp:210.)\n"
     ]
    },
    {
     "name": "stdout",
     "output_type": "stream",
     "text": [
      "\n",
      "\n",
      "============================== Test Result ==============================\n",
      "\t\ttest_acc: 0.9489, test_auc_roc: 0.8552,test_f1: 0.1073,test_precision:0.7604\n",
      "\t\ttest_recall: 0.0577, test_int_ap: 0.3606,test_ap: 0.3606\n"
     ]
    }
   ],
   "source": [
    "test(test_data_loader,model)"
   ]
  },
  {
   "cell_type": "code",
   "execution_count": null,
   "metadata": {},
   "outputs": [],
   "source": []
  }
 ],
 "metadata": {
  "kernelspec": {
   "display_name": "dsn",
   "language": "python",
   "name": "python3"
  },
  "language_info": {
   "codemirror_mode": {
    "name": "ipython",
    "version": 3
   },
   "file_extension": ".py",
   "mimetype": "text/x-python",
   "name": "python",
   "nbconvert_exporter": "python",
   "pygments_lexer": "ipython3",
   "version": "3.7.7"
  },
  "orig_nbformat": 4
 },
 "nbformat": 4,
 "nbformat_minor": 2
}
