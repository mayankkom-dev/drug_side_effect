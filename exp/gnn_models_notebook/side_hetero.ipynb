{
 "cells": [
  {
   "attachments": {},
   "cell_type": "markdown",
   "metadata": {},
   "source": [
    "### Imports"
   ]
  },
  {
   "cell_type": "code",
   "execution_count": 1,
   "metadata": {},
   "outputs": [],
   "source": [
    "import pandas as pd\n",
    "import torch\n",
    "import numpy as np\n",
    "import torch\n",
    "import torch_geometric.datasets as datasets\n",
    "import torch_geometric.data as data\n",
    "import torch_geometric.transforms as transforms\n",
    "import networkx as nx\n",
    "from torch_geometric.utils.convert import to_networkx\n",
    "# set max num of rows and cols to display\n",
    "pd.set_option('display.max_rows', 1000)\n",
    "pd.set_option('display.max_columns', 1000)"
   ]
  },
  {
   "attachments": {},
   "cell_type": "markdown",
   "metadata": {},
   "source": [
    "### Read Pre-processed Drug-Side-Effect List "
   ]
  },
  {
   "cell_type": "code",
   "execution_count": 2,
   "metadata": {},
   "outputs": [
    {
     "data": {
      "text/html": [
       "<div>\n",
       "<style scoped>\n",
       "    .dataframe tbody tr th:only-of-type {\n",
       "        vertical-align: middle;\n",
       "    }\n",
       "\n",
       "    .dataframe tbody tr th {\n",
       "        vertical-align: top;\n",
       "    }\n",
       "\n",
       "    .dataframe thead th {\n",
       "        text-align: right;\n",
       "    }\n",
       "</style>\n",
       "<table border=\"1\" class=\"dataframe\">\n",
       "  <thead>\n",
       "    <tr style=\"text-align: right;\">\n",
       "      <th></th>\n",
       "      <th>STITCH ID STEREO</th>\n",
       "      <th>MEDRA TERM UMLS CONCEPT ID</th>\n",
       "      <th>se_count</th>\n",
       "      <th>cid</th>\n",
       "      <th>mw</th>\n",
       "      <th>mf</th>\n",
       "      <th>polararea</th>\n",
       "      <th>complexity</th>\n",
       "      <th>xlogp</th>\n",
       "      <th>heavycnt</th>\n",
       "      <th>hbonddonor</th>\n",
       "      <th>hbondacc</th>\n",
       "      <th>rotbonds</th>\n",
       "      <th>inchi</th>\n",
       "      <th>isosmiles</th>\n",
       "      <th>canonicalsmiles</th>\n",
       "      <th>inchikey</th>\n",
       "      <th>iupacname</th>\n",
       "      <th>exactmass</th>\n",
       "      <th>monoisotopicmass</th>\n",
       "      <th>charge</th>\n",
       "      <th>covalentunitcnt</th>\n",
       "      <th>isotopeatomcnt</th>\n",
       "      <th>totalatomstereocnt</th>\n",
       "      <th>definedatomstereocnt</th>\n",
       "      <th>undefinedatomstereocnt</th>\n",
       "      <th>totalbondstereocnt</th>\n",
       "      <th>definedbondstereocnt</th>\n",
       "      <th>undefinedbondstereocnt</th>\n",
       "      <th>pclidcnt</th>\n",
       "      <th>gpidcnt</th>\n",
       "      <th>gpfamilycnt</th>\n",
       "      <th>neighbortype</th>\n",
       "      <th>meshheadings</th>\n",
       "      <th>annothits</th>\n",
       "      <th>annothitcnt</th>\n",
       "      <th>aids</th>\n",
       "      <th>cidcdate</th>\n",
       "      <th>sidsrcname</th>\n",
       "      <th>depcatg</th>\n",
       "      <th>annotation</th>\n",
       "    </tr>\n",
       "  </thead>\n",
       "  <tbody>\n",
       "    <tr>\n",
       "      <th>0</th>\n",
       "      <td>CID000000119</td>\n",
       "      <td>['C0151828', 'C0030193', 'C0042109', 'C0002994...</td>\n",
       "      <td>5</td>\n",
       "      <td>119</td>\n",
       "      <td>103.12</td>\n",
       "      <td>C4H9NO2</td>\n",
       "      <td>63.3</td>\n",
       "      <td>62.7</td>\n",
       "      <td>-3.2</td>\n",
       "      <td>7</td>\n",
       "      <td>2</td>\n",
       "      <td>3</td>\n",
       "      <td>3</td>\n",
       "      <td>InChI=1S/C4H9NO2/c5-3-1-2-4(6)7/h1-3,5H2,(H,6,7)</td>\n",
       "      <td>C(CC(=O)O)CN</td>\n",
       "      <td>C(CC(=O)O)CN</td>\n",
       "      <td>BTCSSZJGUNDROE-UHFFFAOYSA-N</td>\n",
       "      <td>4-aminobutanoic acid</td>\n",
       "      <td>103.063</td>\n",
       "      <td>103.063</td>\n",
       "      <td>0</td>\n",
       "      <td>1</td>\n",
       "      <td>0</td>\n",
       "      <td>0</td>\n",
       "      <td>0</td>\n",
       "      <td>0</td>\n",
       "      <td>0</td>\n",
       "      <td>0</td>\n",
       "      <td>0</td>\n",
       "      <td>82230</td>\n",
       "      <td>34891</td>\n",
       "      <td>13769</td>\n",
       "      <td>2D+3D</td>\n",
       "      <td>gamma-Aminobutyric Acid</td>\n",
       "      <td>Biological Test Results|Chemical and Physical ...</td>\n",
       "      <td>15</td>\n",
       "      <td>155|157|161|165|167|175|190|248|328|357|410|41...</td>\n",
       "      <td>20040916</td>\n",
       "      <td>001Chemical|3B Scientific (Wuhan) Corp|3WAY PH...</td>\n",
       "      <td>Chemical Vendors|Curation Efforts|Governmental...</td>\n",
       "      <td>COVID-19, COVID19, Coronavirus, Corona-virus, ...</td>\n",
       "    </tr>\n",
       "  </tbody>\n",
       "</table>\n",
       "</div>"
      ],
      "text/plain": [
       "  STITCH ID STEREO                         MEDRA TERM UMLS CONCEPT ID  \\\n",
       "0     CID000000119  ['C0151828', 'C0030193', 'C0042109', 'C0002994...   \n",
       "\n",
       "   se_count  cid      mw       mf  polararea  complexity  xlogp  heavycnt  \\\n",
       "0         5  119  103.12  C4H9NO2       63.3        62.7   -3.2         7   \n",
       "\n",
       "   hbonddonor  hbondacc  rotbonds  \\\n",
       "0           2         3         3   \n",
       "\n",
       "                                              inchi     isosmiles  \\\n",
       "0  InChI=1S/C4H9NO2/c5-3-1-2-4(6)7/h1-3,5H2,(H,6,7)  C(CC(=O)O)CN   \n",
       "\n",
       "  canonicalsmiles                     inchikey             iupacname  \\\n",
       "0    C(CC(=O)O)CN  BTCSSZJGUNDROE-UHFFFAOYSA-N  4-aminobutanoic acid   \n",
       "\n",
       "   exactmass  monoisotopicmass  charge  covalentunitcnt  isotopeatomcnt  \\\n",
       "0    103.063           103.063       0                1               0   \n",
       "\n",
       "   totalatomstereocnt  definedatomstereocnt  undefinedatomstereocnt  \\\n",
       "0                   0                     0                       0   \n",
       "\n",
       "   totalbondstereocnt  definedbondstereocnt  undefinedbondstereocnt  pclidcnt  \\\n",
       "0                   0                     0                       0     82230   \n",
       "\n",
       "   gpidcnt  gpfamilycnt neighbortype             meshheadings  \\\n",
       "0    34891        13769        2D+3D  gamma-Aminobutyric Acid   \n",
       "\n",
       "                                           annothits  annothitcnt  \\\n",
       "0  Biological Test Results|Chemical and Physical ...           15   \n",
       "\n",
       "                                                aids  cidcdate  \\\n",
       "0  155|157|161|165|167|175|190|248|328|357|410|41...  20040916   \n",
       "\n",
       "                                          sidsrcname  \\\n",
       "0  001Chemical|3B Scientific (Wuhan) Corp|3WAY PH...   \n",
       "\n",
       "                                             depcatg  \\\n",
       "0  Chemical Vendors|Curation Efforts|Governmental...   \n",
       "\n",
       "                                          annotation  \n",
       "0  COVID-19, COVID19, Coronavirus, Corona-virus, ...  "
      ]
     },
     "execution_count": 2,
     "metadata": {},
     "output_type": "execute_result"
    }
   ],
   "source": [
    "df_all_se = pd.read_csv('prep_data/drug_all_se_pubchem.csv')\n",
    "df_all_se.head(1)"
   ]
  },
  {
   "cell_type": "code",
   "execution_count": 3,
   "metadata": {},
   "outputs": [
    {
     "data": {
      "text/plain": [
       "Index(['STITCH ID STEREO', 'MEDRA TERM UMLS CONCEPT ID', 'se_count', 'cid',\n",
       "       'mw', 'mf', 'polararea', 'complexity', 'xlogp', 'heavycnt',\n",
       "       'hbonddonor', 'hbondacc', 'rotbonds', 'inchi', 'isosmiles',\n",
       "       'canonicalsmiles', 'inchikey', 'iupacname', 'exactmass',\n",
       "       'monoisotopicmass', 'charge', 'covalentunitcnt', 'isotopeatomcnt',\n",
       "       'totalatomstereocnt', 'definedatomstereocnt', 'undefinedatomstereocnt',\n",
       "       'totalbondstereocnt', 'definedbondstereocnt', 'undefinedbondstereocnt',\n",
       "       'pclidcnt', 'gpidcnt', 'gpfamilycnt', 'neighbortype', 'meshheadings',\n",
       "       'annothits', 'annothitcnt', 'aids', 'cidcdate', 'sidsrcname', 'depcatg',\n",
       "       'annotation'],\n",
       "      dtype='object')"
      ]
     },
     "execution_count": 3,
     "metadata": {},
     "output_type": "execute_result"
    }
   ],
   "source": [
    "df_all_se.columns"
   ]
  },
  {
   "cell_type": "code",
   "execution_count": 4,
   "metadata": {},
   "outputs": [],
   "source": [
    "drug_pub_prop_cols = [ 'mw', 'polararea', 'complexity','heavycnt',\n",
    "       'hbonddonor', 'hbondacc', 'rotbonds']"
   ]
  },
  {
   "cell_type": "code",
   "execution_count": 5,
   "metadata": {},
   "outputs": [
    {
     "data": {
      "text/plain": [
       "mw            0\n",
       "polararea     0\n",
       "complexity    0\n",
       "heavycnt      0\n",
       "hbonddonor    0\n",
       "hbondacc      0\n",
       "rotbonds      0\n",
       "dtype: int64"
      ]
     },
     "execution_count": 5,
     "metadata": {},
     "output_type": "execute_result"
    }
   ],
   "source": [
    "df_all_se[drug_pub_prop_cols].isnull().sum()"
   ]
  },
  {
   "attachments": {},
   "cell_type": "markdown",
   "metadata": {},
   "source": [
    "### Create Transformation Mapping for drug and side-effect"
   ]
  },
  {
   "cell_type": "code",
   "execution_count": 6,
   "metadata": {},
   "outputs": [],
   "source": [
    "STITCH_TO_ID_DICT = {id: idx for idx, id in enumerate(df_all_se['STITCH ID STEREO'])}\n",
    "ID_TO_STITCH_DICT = {v: k for k, v in STITCH_TO_ID_DICT.items()}"
   ]
  },
  {
   "cell_type": "code",
   "execution_count": 7,
   "metadata": {},
   "outputs": [],
   "source": [
    "STITCHID_TO_PUBPPROP_DICT = {idx: _ for idx, (stid, _) in enumerate(zip(df_all_se['STITCH ID STEREO'], df_all_se[drug_pub_prop_cols].values))}\n"
   ]
  },
  {
   "cell_type": "code",
   "execution_count": 8,
   "metadata": {},
   "outputs": [],
   "source": [
    "# Create a flattened list of unique meddra term concept id\n",
    "column_list = df_all_se['MEDRA TERM UMLS CONCEPT ID'].tolist()\n",
    "unique_values = list(set([item for sublist in column_list for item in eval(sublist)]))\n",
    "unique_values.sort()\n",
    "MEDRAID_TO_ID_DICT = {id: idx for idx, id in enumerate(unique_values)}\n",
    "ID_TO_MEDRAID_DICT = {v: k for k, v in MEDRAID_TO_ID_DICT.items()}"
   ]
  },
  {
   "cell_type": "code",
   "execution_count": 9,
   "metadata": {},
   "outputs": [],
   "source": [
    "# assert if df stitch id stereo is unique\n",
    "assert len(df_all_se['STITCH ID STEREO'].unique()) == len(df_all_se['STITCH ID STEREO'])"
   ]
  },
  {
   "attachments": {},
   "cell_type": "markdown",
   "metadata": {},
   "source": [
    "### Create HeteroData"
   ]
  },
  {
   "cell_type": "code",
   "execution_count": 10,
   "metadata": {},
   "outputs": [],
   "source": [
    "from torch_geometric.data import HeteroData\n",
    "import torch_geometric.transforms as T"
   ]
  },
  {
   "cell_type": "code",
   "execution_count": 11,
   "metadata": {},
   "outputs": [
    {
     "name": "stdout",
     "output_type": "stream",
     "text": [
      "Before torch.Size([1326, 7])\n",
      "After MinMax (1326, 7)\n"
     ]
    }
   ],
   "source": [
    "\n",
    "drug_node_features = torch.stack([torch.tensor(_, dtype=torch.float) for _ in df_all_se[drug_pub_prop_cols].values])\n",
    "from sklearn.preprocessing import MinMaxScaler\n",
    "scaler = MinMaxScaler()\n",
    "print(\"Before\", drug_node_features.shape)\n",
    "drug_node_features = scaler.fit_transform(drug_node_features)\n",
    "print('After MinMax', drug_node_features.shape)\n",
    "drug_node_features = torch.tensor(drug_node_features, dtype=torch.float)\n",
    "\n",
    "# # Create a dictionary of node features\n",
    "# drug_node_features = torch.tensor(np.zeros((len(df_all_se['STITCH ID STEREO']),881)))\n",
    "# side_effect_node_features = torch.tensor(np.zeros((len(unique_values),881)))\n",
    "\n",
    "\n",
    "# print('drug_nodes', drug_node_features.shape)\n",
    "# print('side_effect_nodes', side_effect_node_features.shape)"
   ]
  },
  {
   "cell_type": "code",
   "execution_count": 12,
   "metadata": {},
   "outputs": [
    {
     "name": "stdout",
     "output_type": "stream",
     "text": [
      "edge_index torch.Size([2, 129851])\n",
      "edge_index tensor([[   0,    0,    0,  ..., 1325, 1325, 1325],\n",
      "        [1091,  657,  889,  ...,  673,    2,  837]])\n"
     ]
    }
   ],
   "source": [
    "# create edge index for drug-side effect from multi-label column_list\n",
    "edge_index = []\n",
    "for idx, row in df_all_se.iterrows():\n",
    "    for se in eval(row['MEDRA TERM UMLS CONCEPT ID']):\n",
    "        edge_index.append([STITCH_TO_ID_DICT[row['STITCH ID STEREO']], MEDRAID_TO_ID_DICT[se]])\n",
    "edge_index = torch.tensor(edge_index).T\n",
    "\n",
    "\n",
    "# print('side_effect_node_features', side_effect_node_features.shape)\n",
    "print('edge_index', edge_index.shape)\n",
    "print('edge_index', edge_index)"
   ]
  },
  {
   "cell_type": "code",
   "execution_count": 13,
   "metadata": {},
   "outputs": [],
   "source": [
    "# # sanity check\n",
    "# df_all_se.head(1)"
   ]
  },
  {
   "cell_type": "code",
   "execution_count": 14,
   "metadata": {},
   "outputs": [],
   "source": [
    "# STITCH_TO_ID_DICT['CID000000119']"
   ]
  },
  {
   "cell_type": "code",
   "execution_count": 15,
   "metadata": {},
   "outputs": [],
   "source": [
    "# MEDRAID_TO_ID_DICT['C0151828'], MEDRAID_TO_ID_DICT['C0030193'], MEDRAID_TO_ID_DICT['C0042109'], MEDRAID_TO_ID_DICT['C0002994']"
   ]
  },
  {
   "cell_type": "code",
   "execution_count": 16,
   "metadata": {},
   "outputs": [
    {
     "name": "stdout",
     "output_type": "stream",
     "text": [
      "HeteroData(\n",
      "  \u001b[1mdrug\u001b[0m={\n",
      "    node_id=[1326],\n",
      "    x=[1326, 7]\n",
      "  },\n",
      "  \u001b[1mside_effect\u001b[0m={ node_id=[2061] },\n",
      "  \u001b[1m(drug, to, side_effect)\u001b[0m={ edge_index=[2, 129851] }\n",
      ")\n"
     ]
    }
   ],
   "source": [
    "# Create a heterograph with 2 types of nodes: drug and side effect\n",
    "data = HeteroData()\n",
    "\n",
    "# Add nodes\n",
    "data['drug'].node_id = torch.arange(drug_node_features.shape[0])\n",
    "data['side_effect'].node_id = torch.arange(len(unique_values))\n",
    "\n",
    "# Add node features\n",
    "data['drug'].x = drug_node_features\n",
    "\n",
    "# Add edges\n",
    "data['drug', 'side_effect'].edge_index = edge_index\n",
    "\n",
    "print(data)"
   ]
  },
  {
   "attachments": {},
   "cell_type": "markdown",
   "metadata": {},
   "source": [
    "#### Hetero Data Viz"
   ]
  },
  {
   "cell_type": "code",
   "execution_count": 37,
   "metadata": {},
   "outputs": [],
   "source": [
    "# # Full Graph View\n",
    "# import networkx as nx\n",
    "# import matplotlib.pyplot as plt\n",
    "# import torch\n",
    "# from torch_geometric.data import HeteroData\n",
    "\n",
    "\n",
    "# # Convert heterograph to NetworkX graph\n",
    "# graph = nx.Graph()\n",
    "\n",
    "# # Add nodes to the NetworkX graph with unique IDs for each node type\n",
    "# drug_nodes = data['drug'].node_id.numpy()\n",
    "# side_effect_nodes = data['side_effect'].node_id.numpy()\n",
    "\n",
    "# drug_nodes_unique = [f\"drug_{node_id}\" for node_id in drug_nodes]\n",
    "# side_effect_nodes_unique = [f\"side_effect_{node_id}\" for node_id in side_effect_nodes]\n",
    "\n",
    "# # Add nodes to the NetworkX graph\n",
    "# graph.add_nodes_from(drug_nodes_unique, node_type='drug')\n",
    "# graph.add_nodes_from(side_effect_nodes_unique, node_type='side_effect')\n",
    "\n",
    "# # Add edges to the NetworkX graph\n",
    "# drug_edges = data['drug', 'side_effect'].edge_index\n",
    "# for i in range(drug_edges.shape[1]):\n",
    "#     source = drug_edges[0, i].item()\n",
    "#     target = drug_edges[1, i].item()\n",
    "#     source_id = f\"drug_{source}\"\n",
    "#     target_id = f\"side_effect_{target}\"\n",
    "#     graph.add_edge(source_id, target_id)\n",
    "\n",
    "# # Visualize the graph using NetworkX\n",
    "# pos = nx.spring_layout(graph)  # Compute node positions\n",
    "\n",
    "# # Separate nodes by type for different visualization colors\n",
    "# drug_nodes = [n for n, d in graph.nodes(data=True) if d['node_type'] == 'drug']\n",
    "# side_effect_nodes = [n for n, d in graph.nodes(data=True) if d['node_type'] == 'side_effect']\n",
    "\n",
    "# # Draw nodes with different colors based on type\n",
    "# nx.draw_networkx_nodes(graph, pos, nodelist=drug_nodes, node_color='blue', label='Drug Nodes')\n",
    "# nx.draw_networkx_nodes(graph, pos, nodelist=side_effect_nodes, node_color='red', label='Side Effect Nodes')\n",
    "\n",
    "# # Draw edges\n",
    "# nx.draw_networkx_edges(graph, pos)\n",
    "\n",
    "# # Draw node labels\n",
    "# node_labels = {n: str(n) for n in graph.nodes()}\n",
    "# nx.draw_networkx_labels(graph, pos, labels=node_labels)\n",
    "\n",
    "# # Display the graph\n",
    "# plt.axis('off')\n",
    "# plt.legend()\n",
    "# plt.show()"
   ]
  },
  {
   "cell_type": "code",
   "execution_count": 38,
   "metadata": {},
   "outputs": [],
   "source": [
    "# # Plot random number of edges and all associated nodes\n",
    "# import networkx as nx\n",
    "# import matplotlib.pyplot as plt\n",
    "# import torch\n",
    "# import random\n",
    "# from torch_geometric.data import HeteroData\n",
    "\n",
    "# # Convert heterograph to NetworkX graph\n",
    "# graph = nx.Graph()\n",
    "\n",
    "# # Define the number of random edges you want to visualize\n",
    "# num_random_edges = 10\n",
    "\n",
    "# # Randomly select a subset of edges\n",
    "# random_edge_indices = random.sample(range(data['drug', 'side_effect'].edge_index.shape[1]), num_random_edges)\n",
    "\n",
    "# # Add nodes to the NetworkX graph with unique IDs for each node type\n",
    "# drug_nodes = data['drug'].node_id.numpy()\n",
    "# side_effect_nodes = data['side_effect'].node_id.numpy()\n",
    "\n",
    "# # sample drug_nodes to have only nodes within random_edge_indices\n",
    "# drug_nodes = np.unique(data['drug', 'side_effect'].edge_index[0, random_edge_indices].numpy())\n",
    "# side_effect_nodes = np.unique(data['drug', 'side_effect'].edge_index[1, random_edge_indices].numpy())\n",
    "\n",
    "\n",
    "# drug_nodes_unique = [f\"drug_{node_id}\" for node_id in drug_nodes]\n",
    "# side_effect_nodes_unique = [f\"side_effect_{node_id}\" for node_id in side_effect_nodes]\n",
    "\n",
    "# # Add nodes to the NetworkX graph\n",
    "# graph.add_nodes_from(drug_nodes_unique, node_type='drug')\n",
    "# graph.add_nodes_from(side_effect_nodes_unique, node_type='side_effect')\n",
    "\n",
    "# # Add edges to the NetworkX graph\n",
    "# drug_edges = data['drug', 'side_effect'].edge_index[:, random_edge_indices]\n",
    "# for i in range(drug_edges.shape[1]):\n",
    "#     source = drug_edges[0, i].item()\n",
    "#     target = drug_edges[1, i].item()\n",
    "#     source_id = f\"drug_{source}\"\n",
    "#     target_id = f\"side_effect_{target}\"\n",
    "#     graph.add_edge(source_id, target_id)\n",
    "\n",
    "# # Visualize the graph using NetworkX\n",
    "# pos = nx.spring_layout(graph)  # Compute node positions\n",
    "\n",
    "# # Separate nodes by type for different visualization colors\n",
    "# drug_nodes = [n for n, d in graph.nodes(data=True) if d['node_type'] == 'drug']\n",
    "# side_effect_nodes = [n for n, d in graph.nodes(data=True) if d['node_type'] == 'side_effect']\n",
    "\n",
    "# # Draw nodes with different colors based on type\n",
    "# nx.draw_networkx_nodes(graph, pos, nodelist=drug_nodes, node_color='blue', label='Drug Nodes')\n",
    "# nx.draw_networkx_nodes(graph, pos, nodelist=side_effect_nodes, node_color='red', label='Side Effect Nodes')\n",
    "\n",
    "# # Draw edges\n",
    "# nx.draw_networkx_edges(graph, pos)\n",
    "\n",
    "# # Draw node labels\n",
    "# node_labels = {n: str(n) for n in graph.nodes()}\n",
    "# nx.draw_networkx_labels(graph, pos, labels=node_labels)\n",
    "\n",
    "# # Display the graph\n",
    "# plt.axis('off')\n",
    "# plt.legend()\n",
    "# plt.show()\n"
   ]
  },
  {
   "cell_type": "code",
   "execution_count": 26,
   "metadata": {},
   "outputs": [
    {
     "data": {
      "image/png": "[encoded data removed]",
      "text/plain": [
       "<Figure size 1000x1000 with 1 Axes>"
      ]
     },
     "metadata": {},
     "output_type": "display_data"
    }
   ],
   "source": [
    "# plot for selected list of drug_id and all associated side effects\n",
    "import networkx as nx\n",
    "import matplotlib.pyplot as plt\n",
    "import torch\n",
    "import random\n",
    "from torch_geometric.data import HeteroData\n",
    "\n",
    "# Convert heterograph to NetworkX graph\n",
    "graph = nx.Graph()\n",
    "\n",
    "# list of drug_id to visualize all its associated side effects\n",
    "drug_id_list = [0, 2, 3]\n",
    "\n",
    "# associated possible unique side effects using edge_index when drug_id is in drug_id_list\n",
    "side_effect_nodes = np.unique(data['drug', 'side_effect'].edge_index[1, np.isin(data['drug', 'side_effect'].edge_index[0], drug_id_list)].numpy())\n",
    "\n",
    "# filter out edges that are between drug_id_list and side_effect_nodes\n",
    "drug_edges = data['drug', 'side_effect'].edge_index[:, np.isin(data['drug', 'side_effect'].edge_index[0], drug_id_list) & np.isin(data['drug', 'side_effect'].edge_index[1], side_effect_nodes)]\n",
    "\n",
    "drug_nodes_unique = [f\"drug_{node_id}\" for node_id in drug_id_list]\n",
    "side_effect_nodes_unique = [f\"side_effect_{node_id}\" for node_id in side_effect_nodes]\n",
    "\n",
    "# Add nodes to the NetworkX graph\n",
    "graph.add_nodes_from(drug_nodes_unique, node_type='drug')\n",
    "graph.add_nodes_from(side_effect_nodes_unique, node_type='side_effect')\n",
    "\n",
    "# Add edges to the NetworkX graph\n",
    "for i in range(drug_edges.shape[1]):\n",
    "    source = drug_edges[0, i].item()\n",
    "    target = drug_edges[1, i].item()\n",
    "    source_id = f\"drug_{source}\"\n",
    "    target_id = f\"side_effect_{target}\"\n",
    "    graph.add_edge(source_id, target_id)\n",
    "\n",
    "# Visualize the graph using NetworkX\n",
    "# pos = nx.spring_layout(graph, seed=1)  # Compute node positions\n",
    "pos = nx.bipartite_layout(graph, drug_nodes_unique, align='vertical', scale=5)  # Compute node positions\n",
    "# Separate nodes by type for different visualization colors\n",
    "drug_nodes = [n for n, d in graph.nodes(data=True) if d['node_type'] == 'drug']\n",
    "side_effect_nodes = [n for n, d in graph.nodes(data=True) if d['node_type'] == 'side_effect']\n",
    "\n",
    "# Draw nodes with different colors based on type\n",
    "nx.draw_networkx_nodes(graph, pos, nodelist=drug_nodes, node_color='blue', label='Drug Nodes', cmap=plt.cm.Blues)\n",
    "nx.draw_networkx_nodes(graph, pos, nodelist=side_effect_nodes, node_color='red', label='Side Effect Nodes', cmap=plt.cm.Reds)\n",
    "\n",
    "# Draw edges with different colors based on type\n",
    "\n",
    "nx.draw_networkx_edges(graph, pos, edge_color='black', width=1.0, alpha=0.5)\n",
    "\n",
    "# Draw edges\n",
    "# nx.draw_networkx_edges(graph, pos)\n",
    "\n",
    "# Draw node labels\n",
    "node_labels = {n: str(n) for n in graph.nodes()}\n",
    "nx.draw_networkx_labels(graph, pos, labels=node_labels)\n",
    "\n",
    "# Display the graph\n",
    "plt.axis('off')\n",
    "# increase figure size\n",
    "plt.gcf().set_size_inches(10, 10)\n",
    "# position legend to the right of the graph\n",
    "plt.legend(loc='upper left', bbox_to_anchor=(1, 1))\n",
    "plt.title('Drug-Side Effect Network')\n",
    "plt.show()\n"
   ]
  },
  {
   "cell_type": "code",
   "execution_count": 40,
   "metadata": {},
   "outputs": [],
   "source": [
    "# graph.nodes()\n",
    "# # link a map to most common drug_name and side_effect_name"
   ]
  },
  {
   "attachments": {},
   "cell_type": "markdown",
   "metadata": {},
   "source": [
    "### Hetero Link Prediction task"
   ]
  },
  {
   "cell_type": "code",
   "execution_count": 17,
   "metadata": {},
   "outputs": [
    {
     "data": {
      "text/plain": [
       "HeteroData(\n",
       "  \u001b[1mdrug\u001b[0m={\n",
       "    node_id=[1326],\n",
       "    x=[1326, 7]\n",
       "  },\n",
       "  \u001b[1mside_effect\u001b[0m={ node_id=[2061] },\n",
       "  \u001b[1m(drug, to, side_effect)\u001b[0m={ edge_index=[2, 129851] }\n",
       ")"
      ]
     },
     "execution_count": 17,
     "metadata": {},
     "output_type": "execute_result"
    }
   ],
   "source": [
    "data"
   ]
  },
  {
   "cell_type": "code",
   "execution_count": 18,
   "metadata": {},
   "outputs": [],
   "source": [
    "import torch_geometric.transforms as T\n",
    "# We also need to make sure to add the reverse edges from movies to users\n",
    "# in order to let a GNN be able to pass messages in both directions.\n",
    "# We can leverage the `T.ToUndirected()` transform for this from PyG:\n",
    "data = T.ToUndirected()(data)"
   ]
  },
  {
   "cell_type": "code",
   "execution_count": 19,
   "metadata": {},
   "outputs": [
    {
     "data": {
      "text/plain": [
       "HeteroData(\n",
       "  \u001b[1mdrug\u001b[0m={\n",
       "    node_id=[1326],\n",
       "    x=[1326, 7]\n",
       "  },\n",
       "  \u001b[1mside_effect\u001b[0m={ node_id=[2061] },\n",
       "  \u001b[1m(drug, to, side_effect)\u001b[0m={ edge_index=[2, 129851] },\n",
       "  \u001b[1m(side_effect, rev_to, drug)\u001b[0m={ edge_index=[2, 129851] }\n",
       ")"
      ]
     },
     "execution_count": 19,
     "metadata": {},
     "output_type": "execute_result"
    }
   ],
   "source": [
    "data"
   ]
  },
  {
   "attachments": {},
   "cell_type": "markdown",
   "metadata": {},
   "source": [
    "### Define Edge level Train Split"
   ]
  },
  {
   "cell_type": "code",
   "execution_count": 20,
   "metadata": {},
   "outputs": [
    {
     "name": "stdout",
     "output_type": "stream",
     "text": [
      "Training data:\n",
      "==============\n",
      "HeteroData(\n",
      "  \u001b[1mdrug\u001b[0m={\n",
      "    node_id=[1326],\n",
      "    x=[1326, 7]\n",
      "  },\n",
      "  \u001b[1mside_effect\u001b[0m={ node_id=[2061] },\n",
      "  \u001b[1m(drug, to, side_effect)\u001b[0m={\n",
      "    edge_index=[2, 72717],\n",
      "    edge_label=[31164],\n",
      "    edge_label_index=[2, 31164]\n",
      "  },\n",
      "  \u001b[1m(side_effect, rev_to, drug)\u001b[0m={ edge_index=[2, 72717] }\n",
      ")\n",
      "\n",
      "Validation data:\n",
      "================\n",
      "HeteroData(\n",
      "  \u001b[1mdrug\u001b[0m={\n",
      "    node_id=[1326],\n",
      "    x=[1326, 7]\n",
      "  },\n",
      "  \u001b[1mside_effect\u001b[0m={ node_id=[2061] },\n",
      "  \u001b[1m(drug, to, side_effect)\u001b[0m={\n",
      "    edge_index=[2, 103881],\n",
      "    edge_label=[38955],\n",
      "    edge_label_index=[2, 38955]\n",
      "  },\n",
      "  \u001b[1m(side_effect, rev_to, drug)\u001b[0m={ edge_index=[2, 103881] }\n",
      ")\n"
     ]
    }
   ],
   "source": [
    "# For this, we first split the set of edges into\n",
    "# training (80%), validation (10%), and testing edges (10%).\n",
    "# Across the training edges, we use 70% of edges for message passing,\n",
    "# and 30% of edges for supervision.\n",
    "# We further want to generate fixed negative edges for evaluation with a ratio of 2:1.\n",
    "# Negative edges during training will be generated on-the-fly.\n",
    "# We can leverage the `RandomLinkSplit()` transform for this from PyG:\n",
    "transform = T.RandomLinkSplit(\n",
    "    num_val=0.1,\n",
    "    num_test=0.1,\n",
    "    disjoint_train_ratio=0.3,\n",
    "    neg_sampling_ratio=2.0,\n",
    "    add_negative_train_samples=False,\n",
    "    edge_types=('drug', 'to', 'side_effect'),\n",
    "    rev_edge_types=('side_effect', 'rev_to', 'drug'), \n",
    ")\n",
    "\n",
    "train_data, val_data, test_data = transform(data)\n",
    "print(\"Training data:\")\n",
    "print(\"==============\")\n",
    "print(train_data)\n",
    "print()\n",
    "print(\"Validation data:\")\n",
    "print(\"================\")\n",
    "print(val_data)\n"
   ]
  },
  {
   "attachments": {},
   "cell_type": "markdown",
   "metadata": {},
   "source": [
    "### Define Mini-batch Loader"
   ]
  },
  {
   "cell_type": "code",
   "execution_count": 98,
   "metadata": {},
   "outputs": [],
   "source": [
    "# !pip install pyg-lib -f https://data.pyg.org/whl/torch-1.12.1+cu117.html"
   ]
  },
  {
   "cell_type": "code",
   "execution_count": 21,
   "metadata": {},
   "outputs": [
    {
     "name": "stdout",
     "output_type": "stream",
     "text": [
      "Sampled mini-batch:\n",
      "===================\n",
      "HeteroData(\n",
      "  \u001b[1mdrug\u001b[0m={\n",
      "    node_id=[1231],\n",
      "    x=[1231, 7],\n",
      "    n_id=[1231]\n",
      "  },\n",
      "  \u001b[1mside_effect\u001b[0m={\n",
      "    node_id=[1594],\n",
      "    n_id=[1594]\n",
      "  },\n",
      "  \u001b[1m(drug, to, side_effect)\u001b[0m={\n",
      "    edge_index=[2, 12798],\n",
      "    edge_label=[384],\n",
      "    edge_label_index=[2, 384],\n",
      "    e_id=[12798],\n",
      "    input_id=[128]\n",
      "  },\n",
      "  \u001b[1m(side_effect, rev_to, drug)\u001b[0m={\n",
      "    edge_index=[2, 13286],\n",
      "    e_id=[13286]\n",
      "  }\n",
      ")\n"
     ]
    },
    {
     "name": "stderr",
     "output_type": "stream",
     "text": [
      "/home/mayank/miniconda3/envs/dsn/lib/python3.7/site-packages/torch_geometric/sampler/neighbor_sampler.py:50: UserWarning: Using '{self.__class__.__name__}' without a 'pyg-lib' installation is deprecated and will be removed soon. Please install 'pyg-lib' for accelerated neighborhood sampling\n",
      "  warnings.warn(\"Using '{self.__class__.__name__}' without a \"\n"
     ]
    }
   ],
   "source": [
    "# In the first hop, we sample at most 20 neighbors.\n",
    "# In the second hop, we sample at most 10 neighbors.\n",
    "# In addition, during training, we want to sample negative edges on-the-fly with\n",
    "# a ratio of 2:1.\n",
    "# We can make use of the `loader.LinkNeighborLoader` from PyG:\n",
    "from torch_geometric.loader.link_neighbor_loader import LinkNeighborLoader\n",
    "\n",
    "# Define seed edges:\n",
    "edge_label_index = train_data[\"drug\", \"to\", \"side_effect\"].edge_label_index\n",
    "edge_label = train_data[\"drug\", \"to\", \"side_effect\"].edge_label\n",
    "\n",
    "train_loader = LinkNeighborLoader(\n",
    "    data=train_data,\n",
    "    num_neighbors=[20, 10],\n",
    "    neg_sampling_ratio=2.0,\n",
    "    edge_label_index=((\"drug\", \"to\", \"side_effect\"), edge_label_index),\n",
    "    edge_label=edge_label,\n",
    "    batch_size=128,\n",
    "    shuffle=True,\n",
    ")\n",
    "\n",
    "# Inspect a sample:\n",
    "sampled_data = next(iter(train_loader))\n",
    "\n",
    "print(\"Sampled mini-batch:\")\n",
    "print(\"===================\")\n",
    "print(sampled_data)"
   ]
  },
  {
   "attachments": {},
   "cell_type": "markdown",
   "metadata": {},
   "source": [
    "### Creating a Heterogeneous Link-level GNN"
   ]
  },
  {
   "cell_type": "code",
   "execution_count": 22,
   "metadata": {},
   "outputs": [
    {
     "data": {
      "text/plain": [
       "1231"
      ]
     },
     "execution_count": 22,
     "metadata": {},
     "output_type": "execute_result"
    }
   ],
   "source": [
    "sampled_data[\"drug\"].num_nodes"
   ]
  },
  {
   "cell_type": "code",
   "execution_count": 23,
   "metadata": {},
   "outputs": [],
   "source": [
    "from torch_geometric.nn import SAGEConv, to_hetero\n",
    "import torch.nn.functional as F\n",
    "from torch import Tensor\n",
    "from torch_geometric.nn import LayerNorm, BatchNorm\n",
    "\n",
    "class GNN(torch.nn.Module):\n",
    "    def __init__(self, hidden_channels):\n",
    "        super().__init__()\n",
    "\n",
    "        self.conv1 = SAGEConv(hidden_channels, hidden_channels)\n",
    "        self.lin1 = torch.nn.Linear(hidden_channels, hidden_channels)\n",
    "        self.conv2 = SAGEConv(hidden_channels, hidden_channels)\n",
    "        self.lin2 = torch.nn.Linear(hidden_channels, hidden_channels)\n",
    "        \n",
    "    def forward(self, x: Tensor, edge_index: Tensor) -> Tensor:\n",
    "        x = F.relu(self.conv1(x, edge_index)+self.lin1(x))\n",
    "        x = self.conv2(x, edge_index) + self.lin2(x)\n",
    "        return x"
   ]
  },
  {
   "cell_type": "code",
   "execution_count": 24,
   "metadata": {},
   "outputs": [],
   "source": [
    "# Our final classifier applies the dot-product between source and destination\n",
    "# node embeddings to derive edge-level predictions:\n",
    "class Classifier(torch.nn.Module):\n",
    "    def forward(self, x_user: Tensor, x_movie: Tensor, edge_label_index: Tensor) -> Tensor:\n",
    "        # Convert node embeddings to edge-level representations:\n",
    "        edge_feat_user = x_user[edge_label_index[0]]\n",
    "        edge_feat_movie = x_movie[edge_label_index[1]]\n",
    "\n",
    "        # Apply dot-product to get a prediction per supervision edge:\n",
    "        return (edge_feat_user * edge_feat_movie).sum(dim=-1)"
   ]
  },
  {
   "cell_type": "code",
   "execution_count": 31,
   "metadata": {},
   "outputs": [
    {
     "name": "stdout",
     "output_type": "stream",
     "text": [
      "Model(\n",
      "  (drug_feat_layernorm): LayerNorm(7, affine=True, mode=graph)\n",
      "  (drug_lin): Linear(in_features=7, out_features=64, bias=True)\n",
      "  (drug_emb): Embedding(1326, 64)\n",
      "  (seff_emb): Embedding(2061, 64)\n",
      "  (gnn): GraphModule(\n",
      "    (conv1): ModuleDict(\n",
      "      (drug__to__side_effect): SAGEConv(64, 64, aggr=mean)\n",
      "      (side_effect__rev_to__drug): SAGEConv(64, 64, aggr=mean)\n",
      "    )\n",
      "    (lin1): ModuleDict(\n",
      "      (drug): Linear(in_features=64, out_features=64, bias=True)\n",
      "      (side_effect): Linear(in_features=64, out_features=64, bias=True)\n",
      "    )\n",
      "    (conv2): ModuleDict(\n",
      "      (drug__to__side_effect): SAGEConv(64, 64, aggr=mean)\n",
      "      (side_effect__rev_to__drug): SAGEConv(64, 64, aggr=mean)\n",
      "    )\n",
      "    (lin2): ModuleDict(\n",
      "      (drug): Linear(in_features=64, out_features=64, bias=True)\n",
      "      (side_effect): Linear(in_features=64, out_features=64, bias=True)\n",
      "    )\n",
      "  )\n",
      "  (classifier): Classifier()\n",
      ")\n"
     ]
    }
   ],
   "source": [
    "class Model(torch.nn.Module):\n",
    "    def __init__(self, hidden_channels):\n",
    "        super().__init__()\n",
    "        # Since the dataset does not come with rich features, we also learn two\n",
    "        # embedding matrices for users and movies:\n",
    "        # self.movie_lin = torch.nn.Linear(20, hidden_channels)\n",
    "        self.drug_feat_layernorm = LayerNorm(7)\n",
    "        self.drug_lin = torch.nn.Linear(7, hidden_channels)\n",
    "        self.drug_emb = torch.nn.Embedding(data[\"drug\"].num_nodes, hidden_channels)\n",
    "        self.seff_emb = torch.nn.Embedding(data[\"side_effect\"].num_nodes, hidden_channels)\n",
    "        # Instantiate homogeneous GNN:\n",
    "        self.gnn = GNN(hidden_channels)\n",
    "\n",
    "        # Convert GNN model into a heterogeneous variant:\n",
    "        self.gnn = to_hetero(self.gnn, metadata=data.metadata())\n",
    "\n",
    "        self.classifier = Classifier()\n",
    "\n",
    "        # xavier initialization of embedding matrices:\n",
    "        # for emb in [self.drug_emb, self.seff_emb]:\n",
    "        #     torch.nn.init.xavier_uniform_(emb.weight)        \n",
    "\n",
    "    def forward(self, data: HeteroData) -> Tensor:\n",
    "        # layer normalization of input features:\n",
    "        x_dict = {\n",
    "            \"drug\":  self.drug_emb(data[\"drug\"].node_id) + self.drug_lin(self.drug_feat_layernorm(data[\"drug\"].x)),\n",
    "            \"side_effect\": self.seff_emb(data[\"side_effect\"].node_id)\n",
    "        }\n",
    "\n",
    "\n",
    "\n",
    "        # x_dict = {\n",
    "        #   \"drug\": self.drug_lin(data[\"drug\"].x) + self.drug_emb(data[\"drug\"].node_id),\n",
    "        #   \"side_effect\": self.seff_emb(data[\"side_effect\"].node_id),\n",
    "        # } \n",
    "\n",
    "        # `x_dict` holds feature matrices of all node types\n",
    "        # `edge_index_dict` holds all edge indices of all edge types\n",
    "        x_dict = self.gnn(x_dict, data.edge_index_dict)\n",
    "        pred = self.classifier(\n",
    "            x_dict[\"drug\"],\n",
    "            x_dict[\"side_effect\"],\n",
    "            data[\"drug\", \"to\", \"side_effect\"].edge_label_index,\n",
    "        )\n",
    "\n",
    "        return pred\n",
    "\n",
    "        \n",
    "model = Model(hidden_channels=64)\n",
    "\n",
    "print(model)"
   ]
  },
  {
   "cell_type": "code",
   "execution_count": 32,
   "metadata": {},
   "outputs": [
    {
     "name": "stdout",
     "output_type": "stream",
     "text": [
      "Device: 'cuda'\n"
     ]
    },
    {
     "name": "stderr",
     "output_type": "stream",
     "text": [
      "100%|██████████| 244/244 [00:07<00:00, 31.23it/s]\n"
     ]
    },
    {
     "name": "stdout",
     "output_type": "stream",
     "text": [
      "Epoch: 001, Loss: 0.5559\n"
     ]
    },
    {
     "name": "stderr",
     "output_type": "stream",
     "text": [
      "100%|██████████| 244/244 [00:07<00:00, 30.71it/s]\n"
     ]
    },
    {
     "name": "stdout",
     "output_type": "stream",
     "text": [
      "Epoch: 002, Loss: 0.4202\n"
     ]
    },
    {
     "name": "stderr",
     "output_type": "stream",
     "text": [
      "100%|██████████| 244/244 [00:07<00:00, 30.53it/s]\n"
     ]
    },
    {
     "name": "stdout",
     "output_type": "stream",
     "text": [
      "Epoch: 003, Loss: 0.3974\n"
     ]
    },
    {
     "name": "stderr",
     "output_type": "stream",
     "text": [
      "100%|██████████| 244/244 [00:07<00:00, 32.46it/s]\n"
     ]
    },
    {
     "name": "stdout",
     "output_type": "stream",
     "text": [
      "Epoch: 004, Loss: 0.3848\n"
     ]
    },
    {
     "name": "stderr",
     "output_type": "stream",
     "text": [
      "100%|██████████| 244/244 [00:07<00:00, 32.59it/s]\n"
     ]
    },
    {
     "name": "stdout",
     "output_type": "stream",
     "text": [
      "Epoch: 005, Loss: 0.3791\n"
     ]
    },
    {
     "name": "stderr",
     "output_type": "stream",
     "text": [
      "100%|██████████| 244/244 [00:07<00:00, 32.48it/s]\n"
     ]
    },
    {
     "name": "stdout",
     "output_type": "stream",
     "text": [
      "Epoch: 006, Loss: 0.3682\n"
     ]
    },
    {
     "name": "stderr",
     "output_type": "stream",
     "text": [
      "100%|██████████| 244/244 [00:07<00:00, 32.69it/s]\n"
     ]
    },
    {
     "name": "stdout",
     "output_type": "stream",
     "text": [
      "Epoch: 007, Loss: 0.3626\n"
     ]
    },
    {
     "name": "stderr",
     "output_type": "stream",
     "text": [
      "100%|██████████| 244/244 [00:07<00:00, 32.09it/s]\n"
     ]
    },
    {
     "name": "stdout",
     "output_type": "stream",
     "text": [
      "Epoch: 008, Loss: 0.3607\n"
     ]
    },
    {
     "name": "stderr",
     "output_type": "stream",
     "text": [
      "100%|██████████| 244/244 [00:07<00:00, 32.33it/s]\n"
     ]
    },
    {
     "name": "stdout",
     "output_type": "stream",
     "text": [
      "Epoch: 009, Loss: 0.3550\n"
     ]
    },
    {
     "name": "stderr",
     "output_type": "stream",
     "text": [
      "100%|██████████| 244/244 [00:07<00:00, 32.62it/s]"
     ]
    },
    {
     "name": "stdout",
     "output_type": "stream",
     "text": [
      "Epoch: 010, Loss: 0.3486\n"
     ]
    },
    {
     "name": "stderr",
     "output_type": "stream",
     "text": [
      "\n"
     ]
    }
   ],
   "source": [
    "import tqdm\n",
    "import torch.nn.functional as F\n",
    "\n",
    "device = torch.device('cuda' if torch.cuda.is_available() else 'cpu')\n",
    "print(f\"Device: '{device}'\")\n",
    "\n",
    "model = model.to(device)\n",
    "optimizer = torch.optim.Adam(model.parameters(), lr=0.001)\n",
    "\n",
    "for epoch in range(1, 11):\n",
    "    total_loss = total_examples = 0\n",
    "    for sampled_data in tqdm.tqdm(train_loader):\n",
    "        optimizer.zero_grad()\n",
    "\n",
    "        sampled_data.to(device)\n",
    "        pred = model(sampled_data)\n",
    "\n",
    "        ground_truth = sampled_data[\"drug\", \"to\", \"side_effect\"].edge_label\n",
    "        loss = F.binary_cross_entropy_with_logits(pred, ground_truth)\n",
    "\n",
    "        loss.backward()\n",
    "        optimizer.step()\n",
    "        total_loss += float(loss) * pred.numel()\n",
    "        total_examples += pred.numel()\n",
    "    print(f\"Epoch: {epoch:03d}, Loss: {total_loss / total_examples:.4f}\")"
   ]
  },
  {
   "cell_type": "code",
   "execution_count": 33,
   "metadata": {},
   "outputs": [
    {
     "name": "stdout",
     "output_type": "stream",
     "text": [
      "Sampled mini-batch:\n",
      "===================\n",
      "HeteroData(\n",
      "  \u001b[1mdrug\u001b[0m={\n",
      "    node_id=[1215],\n",
      "    x=[1215, 7],\n",
      "    n_id=[1215]\n",
      "  },\n",
      "  \u001b[1mside_effect\u001b[0m={\n",
      "    node_id=[1512],\n",
      "    n_id=[1512]\n",
      "  },\n",
      "  \u001b[1m(drug, to, side_effect)\u001b[0m={\n",
      "    edge_index=[2, 13537],\n",
      "    edge_label=[384],\n",
      "    edge_label_index=[2, 384],\n",
      "    e_id=[13537],\n",
      "    input_id=[384]\n",
      "  },\n",
      "  \u001b[1m(side_effect, rev_to, drug)\u001b[0m={\n",
      "    edge_index=[2, 13765],\n",
      "    e_id=[13765]\n",
      "  }\n",
      ")\n"
     ]
    },
    {
     "name": "stderr",
     "output_type": "stream",
     "text": [
      "/home/mayank/miniconda3/envs/dsn/lib/python3.7/site-packages/torch_geometric/sampler/neighbor_sampler.py:50: UserWarning: Using '{self.__class__.__name__}' without a 'pyg-lib' installation is deprecated and will be removed soon. Please install 'pyg-lib' for accelerated neighborhood sampling\n",
      "  warnings.warn(\"Using '{self.__class__.__name__}' without a \"\n"
     ]
    }
   ],
   "source": [
    "# Define the validation seed edges:\n",
    "edge_label_index = val_data[\"drug\", \"to\", \"side_effect\"].edge_label_index\n",
    "edge_label = val_data[\"drug\", \"to\", \"side_effect\"].edge_label\n",
    "\n",
    "val_loader = LinkNeighborLoader(\n",
    "    data=val_data,\n",
    "    num_neighbors=[20, 10],\n",
    "    edge_label_index=((\"drug\", \"to\", \"side_effect\"), edge_label_index),\n",
    "    edge_label=edge_label,\n",
    "    batch_size=3 * 128,\n",
    "    shuffle=False,\n",
    ")\n",
    "\n",
    "sampled_data = next(iter(val_loader))\n",
    "\n",
    "print(\"Sampled mini-batch:\")\n",
    "print(\"===================\")\n",
    "print(sampled_data)\n"
   ]
  },
  {
   "cell_type": "code",
   "execution_count": 36,
   "metadata": {},
   "outputs": [
    {
     "name": "stderr",
     "output_type": "stream",
     "text": [
      "  2%|▏         | 2/102 [00:00<00:06, 16.08it/s]"
     ]
    },
    {
     "name": "stderr",
     "output_type": "stream",
     "text": [
      "100%|██████████| 102/102 [00:02<00:00, 43.30it/s]"
     ]
    },
    {
     "name": "stdout",
     "output_type": "stream",
     "text": [
      "\n",
      "Validation AUC: 0.8037\n",
      "Validation AP: 0.6436\n",
      "Validation F1: 0.7407\n",
      "Validation Accuracy: 0.8327\n"
     ]
    },
    {
     "name": "stderr",
     "output_type": "stream",
     "text": [
      "\n"
     ]
    }
   ],
   "source": [
    "from sklearn.metrics import roc_auc_score, average_precision_score, f1_score\n",
    "\n",
    "preds = []\n",
    "ground_truths = []\n",
    "for sampled_data in tqdm.tqdm(val_loader):\n",
    "    with torch.no_grad():\n",
    "        sampled_data.to(device)\n",
    "        pred = model(sampled_data)\n",
    "        # Applying sigmoid activation function to the predicted values\n",
    "        output_probs = torch.sigmoid(pred)\n",
    "\n",
    "        # Converting probabilities to binary class predictions\n",
    "        output_classes = (output_probs > 0.5).int()\n",
    "        preds.append(output_classes)\n",
    "        ground_truths.append(sampled_data[\"drug\", \"to\", \"side_effect\"].edge_label)\n",
    "\n",
    "pred = torch.cat(preds, dim=0).cpu().numpy()\n",
    "ground_truth = torch.cat(ground_truths, dim=0).cpu().numpy()\n",
    "auc = roc_auc_score(ground_truth, pred)\n",
    "ap = average_precision_score(ground_truth, pred)\n",
    "f1 = f1_score(ground_truth, pred)\n",
    "acc = (pred == ground_truth).mean()\n",
    "print()\n",
    "print(f\"Validation AUC: {auc:.4f}\")\n",
    "print(f\"Validation AP: {ap:.4f}\")\n",
    "print(f\"Validation F1: {f1:.4f}\")\n",
    "print(f\"Validation Accuracy: {acc:.4f}\")"
   ]
  },
  {
   "cell_type": "code",
   "execution_count": 37,
   "metadata": {},
   "outputs": [
    {
     "data": {
      "text/plain": [
       "Model(\n",
       "  (drug_feat_layernorm): LayerNorm(7, affine=True, mode=graph)\n",
       "  (drug_lin): Linear(in_features=7, out_features=64, bias=True)\n",
       "  (drug_emb): Embedding(1326, 64)\n",
       "  (seff_emb): Embedding(2061, 64)\n",
       "  (gnn): GraphModule(\n",
       "    (conv1): ModuleDict(\n",
       "      (drug__to__side_effect): SAGEConv(64, 64, aggr=mean)\n",
       "      (side_effect__rev_to__drug): SAGEConv(64, 64, aggr=mean)\n",
       "    )\n",
       "    (lin1): ModuleDict(\n",
       "      (drug): Linear(in_features=64, out_features=64, bias=True)\n",
       "      (side_effect): Linear(in_features=64, out_features=64, bias=True)\n",
       "    )\n",
       "    (conv2): ModuleDict(\n",
       "      (drug__to__side_effect): SAGEConv(64, 64, aggr=mean)\n",
       "      (side_effect__rev_to__drug): SAGEConv(64, 64, aggr=mean)\n",
       "    )\n",
       "    (lin2): ModuleDict(\n",
       "      (drug): Linear(in_features=64, out_features=64, bias=True)\n",
       "      (side_effect): Linear(in_features=64, out_features=64, bias=True)\n",
       "    )\n",
       "  )\n",
       "  (classifier): Classifier()\n",
       ")"
      ]
     },
     "execution_count": 37,
     "metadata": {},
     "output_type": "execute_result"
    }
   ],
   "source": [
    "model"
   ]
  },
  {
   "cell_type": "code",
   "execution_count": 76,
   "metadata": {},
   "outputs": [
    {
     "name": "stderr",
     "output_type": "stream",
     "text": [
      "100%|██████████| 102/102 [00:02<00:00, 39.91it/s]"
     ]
    },
    {
     "name": "stdout",
     "output_type": "stream",
     "text": [
      "\n",
      "Validation AUC: 0.9133\n",
      "Validation AP: 0.8335\n",
      "Validation F1: 0.8518\n"
     ]
    },
    {
     "name": "stderr",
     "output_type": "stream",
     "text": [
      "\n"
     ]
    }
   ],
   "source": [
    "from sklearn.metrics import roc_auc_score, average_precision_score, f1_score\n",
    "\n",
    "preds = []\n",
    "ground_truths = []\n",
    "for sampled_data in tqdm.tqdm(val_loader):\n",
    "    with torch.no_grad():\n",
    "        sampled_data.to(device)\n",
    "        preds.append(model(sampled_data))\n",
    "        ground_truths.append(sampled_data[\"drug\", \"to\", \"side_effect\"].edge_label)\n",
    "\n",
    "pred = torch.cat(preds, dim=0).cpu().numpy()\n",
    "ground_truth = torch.cat(ground_truths, dim=0).cpu().numpy()\n",
    "auc = roc_auc_score(ground_truth, pred)\n",
    "ap = average_precision_score(ground_truth, pred)\n",
    "f1 = f1_score(ground_truth, pred > 0, average=\"micro\")\n",
    "print()\n",
    "print(f\"Validation AUC: {auc:.4f}\")\n",
    "print(f\"Validation AP: {ap:.4f}\")\n",
    "print(f\"Validation F1: {f1:.4f}\")"
   ]
  },
  {
   "cell_type": "code",
   "execution_count": 83,
   "metadata": {},
   "outputs": [
    {
     "name": "stderr",
     "output_type": "stream",
     "text": [
      "100%|██████████| 102/102 [00:02<00:00, 42.26it/s]"
     ]
    },
    {
     "name": "stdout",
     "output_type": "stream",
     "text": [
      "\n",
      "Validation AUC: 0.8970\n",
      "Validation AP: 0.8309\n",
      "Validation F1: 0.8414\n"
     ]
    },
    {
     "name": "stderr",
     "output_type": "stream",
     "text": [
      "\n"
     ]
    }
   ],
   "source": [
    "from sklearn.metrics import roc_auc_score, average_precision_score, f1_score\n",
    "\n",
    "preds = []\n",
    "ground_truths = []\n",
    "for sampled_data in tqdm.tqdm(val_loader):\n",
    "    with torch.no_grad():\n",
    "        sampled_data.to(device)\n",
    "        preds.append(model(sampled_data))\n",
    "        ground_truths.append(sampled_data[\"drug\", \"to\", \"side_effect\"].edge_label)\n",
    "\n",
    "pred = torch.cat(preds, dim=0).cpu().numpy()\n",
    "ground_truth = torch.cat(ground_truths, dim=0).cpu().numpy()\n",
    "auc = roc_auc_score(ground_truth, pred)\n",
    "ap = average_precision_score(ground_truth, pred)\n",
    "f1 = f1_score(ground_truth, pred > 0, average=\"micro\")\n",
    "print()\n",
    "print(f\"Validation AUC: {auc:.4f}\")\n",
    "print(f\"Validation AP: {ap:.4f}\")\n",
    "print(f\"Validation F1: {f1:.4f}\")"
   ]
  }
 ],
 "metadata": {
  "kernelspec": {
   "display_name": "dsn",
   "language": "python",
   "name": "python3"
  },
  "language_info": {
   "codemirror_mode": {
    "name": "ipython",
    "version": 3
   },
   "file_extension": ".py",
   "mimetype": "text/x-python",
   "name": "python",
   "nbconvert_exporter": "python",
   "pygments_lexer": "ipython3",
   "version": "3.7.7"
  },
  "orig_nbformat": 4
 },
 "nbformat": 4,
 "nbformat_minor": 2
}
